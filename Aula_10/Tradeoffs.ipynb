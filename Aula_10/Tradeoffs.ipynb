{
  "cells": [
    {
      "cell_type": "markdown",
      "metadata": {
        "id": "3drPVvJ-orF1"
      },
      "source": [
        "# Efficiency vs quality tradeoffs\n",
        "\n",
        "Author: Monique Monteiro - moniquelouise@gmail.com\n",
        "\n"
      ]
    },
    {
      "cell_type": "code",
      "execution_count": 1,
      "metadata": {
        "colab": {
          "base_uri": "https://localhost:8080/"
        },
        "id": "qJ3_Poc4ouzM",
        "outputId": "204fac59-d1be-4594-92a0-cb3dabea9036"
      },
      "outputs": [
        {
          "output_type": "stream",
          "name": "stdout",
          "text": [
            "Mounted at /content/gdrive\n"
          ]
        }
      ],
      "source": [
        "from google.colab import drive\n",
        "drive.mount('/content/gdrive', force_remount=True)"
      ]
    },
    {
      "cell_type": "code",
      "execution_count": 2,
      "metadata": {
        "id": "lV0aDFt4o3iW"
      },
      "outputs": [],
      "source": [
        "main_dir = \"/content/gdrive/MyDrive/Unicamp-aula-10\""
      ]
    },
    {
      "cell_type": "markdown",
      "metadata": {
        "id": "5EYi0xNgpJHf"
      },
      "source": [
        "## Libraries installation"
      ]
    },
    {
      "cell_type": "code",
      "execution_count": null,
      "metadata": {
        "colab": {
          "base_uri": "https://localhost:8080/"
        },
        "id": "nKeAssOh8LYB",
        "outputId": "196d7e99-410d-4e44-9276-071d253f57c8"
      },
      "outputs": [
        {
          "name": "stdout",
          "output_type": "stream",
          "text": [
            "Looking in indexes: https://pypi.org/simple, https://us-python.pkg.dev/colab-wheels/public/simple/\n",
            "Collecting sentence-transformers\n",
            "  Downloading sentence-transformers-2.2.2.tar.gz (85 kB)\n",
            "\u001b[?25l     \u001b[90m━━━━━━━━━━━━━━━━━━━━━━━━━━━━━━━━━━━━━━━━\u001b[0m \u001b[32m0.0/86.0 kB\u001b[0m \u001b[31m?\u001b[0m eta \u001b[36m-:--:--\u001b[0m\r\u001b[2K     \u001b[90m━━━━━━━━━━━━━━━━━━━━━━━━━━━━━━━━━━━━━━━━\u001b[0m \u001b[32m86.0/86.0 kB\u001b[0m \u001b[31m5.1 MB/s\u001b[0m eta \u001b[36m0:00:00\u001b[0m\n",
            "\u001b[?25h  Preparing metadata (setup.py) ... \u001b[?25l\u001b[?25hdone\n",
            "Collecting transformers<5.0.0,>=4.6.0 (from sentence-transformers)\n",
            "  Downloading transformers-4.28.1-py3-none-any.whl (7.0 MB)\n",
            "\u001b[?25l     \u001b[90m━━━━━━━━━━━━━━━━━━━━━━━━━━━━━━━━━━━━━━━━\u001b[0m \u001b[32m0.0/7.0 MB\u001b[0m \u001b[31m?\u001b[0m eta \u001b[36m-:--:--\u001b[0m\r\u001b[2K     \u001b[91m━━━━━━━━━━━━━━━━━\u001b[0m\u001b[90m╺\u001b[0m\u001b[90m━━━━━━━━━━━━━━━━━━━━━━\u001b[0m \u001b[32m3.0/7.0 MB\u001b[0m \u001b[31m90.5 MB/s\u001b[0m eta \u001b[36m0:00:01\u001b[0m\r\u001b[2K     \u001b[91m━━━━━━━━━━━━━━━━━━━━━━━━━━━━━━━━━━━━━━━\u001b[0m\u001b[91m╸\u001b[0m \u001b[32m6.9/7.0 MB\u001b[0m \u001b[31m129.7 MB/s\u001b[0m eta \u001b[36m0:00:01\u001b[0m\r\u001b[2K     \u001b[90m━━━━━━━━━━━━━━━━━━━━━━━━━━━━━━━━━━━━━━━━\u001b[0m \u001b[32m7.0/7.0 MB\u001b[0m \u001b[31m73.8 MB/s\u001b[0m eta \u001b[36m0:00:00\u001b[0m\n",
            "\u001b[?25hRequirement already satisfied: tqdm in /usr/local/lib/python3.10/dist-packages (from sentence-transformers) (4.65.0)\n",
            "Requirement already satisfied: torch>=1.6.0 in /usr/local/lib/python3.10/dist-packages (from sentence-transformers) (2.0.0+cu118)\n",
            "Requirement already satisfied: torchvision in /usr/local/lib/python3.10/dist-packages (from sentence-transformers) (0.15.1+cu118)\n",
            "Requirement already satisfied: numpy in /usr/local/lib/python3.10/dist-packages (from sentence-transformers) (1.22.4)\n",
            "Requirement already satisfied: scikit-learn in /usr/local/lib/python3.10/dist-packages (from sentence-transformers) (1.2.2)\n",
            "Requirement already satisfied: scipy in /usr/local/lib/python3.10/dist-packages (from sentence-transformers) (1.10.1)\n",
            "Requirement already satisfied: nltk in /usr/local/lib/python3.10/dist-packages (from sentence-transformers) (3.8.1)\n",
            "Collecting sentencepiece (from sentence-transformers)\n",
            "  Downloading sentencepiece-0.1.99-cp310-cp310-manylinux_2_17_x86_64.manylinux2014_x86_64.whl (1.3 MB)\n",
            "\u001b[?25l     \u001b[90m━━━━━━━━━━━━━━━━━━━━━━━━━━━━━━━━━━━━━━━━\u001b[0m \u001b[32m0.0/1.3 MB\u001b[0m \u001b[31m?\u001b[0m eta \u001b[36m-:--:--\u001b[0m\r\u001b[2K     \u001b[90m━━━━━━━━━━━━━━━━━━━━━━━━━━━━━━━━━━━━━━━━\u001b[0m \u001b[32m1.3/1.3 MB\u001b[0m \u001b[31m75.6 MB/s\u001b[0m eta \u001b[36m0:00:00\u001b[0m\n",
            "\u001b[?25hCollecting huggingface-hub>=0.4.0 (from sentence-transformers)\n",
            "  Downloading huggingface_hub-0.14.1-py3-none-any.whl (224 kB)\n",
            "\u001b[?25l     \u001b[90m━━━━━━━━━━━━━━━━━━━━━━━━━━━━━━━━━━━━━━━━\u001b[0m \u001b[32m0.0/224.5 kB\u001b[0m \u001b[31m?\u001b[0m eta \u001b[36m-:--:--\u001b[0m\r\u001b[2K     \u001b[90m━━━━━━━━━━━━━━━━━━━━━━━━━━━━━━━━━━━━━━\u001b[0m \u001b[32m224.5/224.5 kB\u001b[0m \u001b[31m27.5 MB/s\u001b[0m eta \u001b[36m0:00:00\u001b[0m\n",
            "\u001b[?25hRequirement already satisfied: filelock in /usr/local/lib/python3.10/dist-packages (from huggingface-hub>=0.4.0->sentence-transformers) (3.12.0)\n",
            "Requirement already satisfied: fsspec in /usr/local/lib/python3.10/dist-packages (from huggingface-hub>=0.4.0->sentence-transformers) (2023.4.0)\n",
            "Requirement already satisfied: requests in /usr/local/lib/python3.10/dist-packages (from huggingface-hub>=0.4.0->sentence-transformers) (2.27.1)\n",
            "Requirement already satisfied: pyyaml>=5.1 in /usr/local/lib/python3.10/dist-packages (from huggingface-hub>=0.4.0->sentence-transformers) (6.0)\n",
            "Requirement already satisfied: typing-extensions>=3.7.4.3 in /usr/local/lib/python3.10/dist-packages (from huggingface-hub>=0.4.0->sentence-transformers) (4.5.0)\n",
            "Requirement already satisfied: packaging>=20.9 in /usr/local/lib/python3.10/dist-packages (from huggingface-hub>=0.4.0->sentence-transformers) (23.1)\n",
            "Requirement already satisfied: sympy in /usr/local/lib/python3.10/dist-packages (from torch>=1.6.0->sentence-transformers) (1.11.1)\n",
            "Requirement already satisfied: networkx in /usr/local/lib/python3.10/dist-packages (from torch>=1.6.0->sentence-transformers) (3.1)\n",
            "Requirement already satisfied: jinja2 in /usr/local/lib/python3.10/dist-packages (from torch>=1.6.0->sentence-transformers) (3.1.2)\n",
            "Requirement already satisfied: triton==2.0.0 in /usr/local/lib/python3.10/dist-packages (from torch>=1.6.0->sentence-transformers) (2.0.0)\n",
            "Requirement already satisfied: cmake in /usr/local/lib/python3.10/dist-packages (from triton==2.0.0->torch>=1.6.0->sentence-transformers) (3.25.2)\n",
            "Requirement already satisfied: lit in /usr/local/lib/python3.10/dist-packages (from triton==2.0.0->torch>=1.6.0->sentence-transformers) (16.0.3)\n",
            "Requirement already satisfied: regex!=2019.12.17 in /usr/local/lib/python3.10/dist-packages (from transformers<5.0.0,>=4.6.0->sentence-transformers) (2022.10.31)\n",
            "Collecting tokenizers!=0.11.3,<0.14,>=0.11.1 (from transformers<5.0.0,>=4.6.0->sentence-transformers)\n",
            "  Downloading tokenizers-0.13.3-cp310-cp310-manylinux_2_17_x86_64.manylinux2014_x86_64.whl (7.8 MB)\n",
            "\u001b[2K     \u001b[90m━━━━━━━━━━━━━━━━━━━━━━━━━━━━━━━━━━━━━━━━\u001b[0m \u001b[32m7.8/7.8 MB\u001b[0m \u001b[31m101.6 MB/s\u001b[0m eta \u001b[36m0:00:00\u001b[0m\n",
            "\u001b[?25hRequirement already satisfied: click in /usr/local/lib/python3.10/dist-packages (from nltk->sentence-transformers) (8.1.3)\n",
            "Requirement already satisfied: joblib in /usr/local/lib/python3.10/dist-packages (from nltk->sentence-transformers) (1.2.0)\n",
            "Requirement already satisfied: threadpoolctl>=2.0.0 in /usr/local/lib/python3.10/dist-packages (from scikit-learn->sentence-transformers) (3.1.0)\n",
            "Requirement already satisfied: pillow!=8.3.*,>=5.3.0 in /usr/local/lib/python3.10/dist-packages (from torchvision->sentence-transformers) (8.4.0)\n",
            "Requirement already satisfied: MarkupSafe>=2.0 in /usr/local/lib/python3.10/dist-packages (from jinja2->torch>=1.6.0->sentence-transformers) (2.1.2)\n",
            "Requirement already satisfied: urllib3<1.27,>=1.21.1 in /usr/local/lib/python3.10/dist-packages (from requests->huggingface-hub>=0.4.0->sentence-transformers) (1.26.15)\n",
            "Requirement already satisfied: certifi>=2017.4.17 in /usr/local/lib/python3.10/dist-packages (from requests->huggingface-hub>=0.4.0->sentence-transformers) (2022.12.7)\n",
            "Requirement already satisfied: charset-normalizer~=2.0.0 in /usr/local/lib/python3.10/dist-packages (from requests->huggingface-hub>=0.4.0->sentence-transformers) (2.0.12)\n",
            "Requirement already satisfied: idna<4,>=2.5 in /usr/local/lib/python3.10/dist-packages (from requests->huggingface-hub>=0.4.0->sentence-transformers) (3.4)\n",
            "Requirement already satisfied: mpmath>=0.19 in /usr/local/lib/python3.10/dist-packages (from sympy->torch>=1.6.0->sentence-transformers) (1.3.0)\n",
            "Building wheels for collected packages: sentence-transformers\n",
            "  Building wheel for sentence-transformers (setup.py) ... \u001b[?25l\u001b[?25hdone\n",
            "  Created wheel for sentence-transformers: filename=sentence_transformers-2.2.2-py3-none-any.whl size=125926 sha256=c54c92a62364b3b6f11ce94708a9d9179058fea1910399f6e684a3525ccc9a19\n",
            "  Stored in directory: /root/.cache/pip/wheels/62/f2/10/1e606fd5f02395388f74e7462910fe851042f97238cbbd902f\n",
            "Successfully built sentence-transformers\n",
            "Installing collected packages: tokenizers, sentencepiece, huggingface-hub, transformers, sentence-transformers\n",
            "Successfully installed huggingface-hub-0.14.1 sentence-transformers-2.2.2 sentencepiece-0.1.99 tokenizers-0.13.3 transformers-4.28.1\n"
          ]
        }
      ],
      "source": [
        "!pip install -U sentence-transformers"
      ]
    },
    {
      "cell_type": "code",
      "execution_count": 3,
      "metadata": {
        "colab": {
          "base_uri": "https://localhost:8080/"
        },
        "id": "cvF-TJxA-gMe",
        "outputId": "510ef90b-7678-47a7-f0e2-15449dddeb7f"
      },
      "outputs": [
        {
          "output_type": "stream",
          "name": "stdout",
          "text": [
            "Looking in indexes: https://pypi.org/simple, https://us-python.pkg.dev/colab-wheels/public/simple/\n",
            "Collecting jsonlines\n",
            "  Downloading jsonlines-3.1.0-py3-none-any.whl (8.6 kB)\n",
            "Requirement already satisfied: attrs>=19.2.0 in /usr/local/lib/python3.10/dist-packages (from jsonlines) (23.1.0)\n",
            "Installing collected packages: jsonlines\n",
            "Successfully installed jsonlines-3.1.0\n"
          ]
        }
      ],
      "source": [
        "!pip install jsonlines"
      ]
    },
    {
      "cell_type": "code",
      "execution_count": 4,
      "metadata": {
        "colab": {
          "base_uri": "https://localhost:8080/"
        },
        "id": "hRh0qAhsKEeW",
        "outputId": "8c55550e-dae0-46c4-ede9-1b7a40660816"
      },
      "outputs": [
        {
          "output_type": "stream",
          "name": "stdout",
          "text": [
            "\u001b[2K     \u001b[90m━━━━━━━━━━━━━━━━━━━━━━━━━━━━━━━━━━━━━━━\u001b[0m \u001b[32m154.1/154.1 MB\u001b[0m \u001b[31m8.1 MB/s\u001b[0m eta \u001b[36m0:00:00\u001b[0m\n",
            "\u001b[2K     \u001b[90m━━━━━━━━━━━━━━━━━━━━━━━━━━━━━━━━━━━━━━━━\u001b[0m \u001b[32m1.5/1.5 MB\u001b[0m \u001b[31m84.3 MB/s\u001b[0m eta \u001b[36m0:00:00\u001b[0m\n",
            "\u001b[2K     \u001b[90m━━━━━━━━━━━━━━━━━━━━━━━━━━━━━━━━━━━━━━━━\u001b[0m \u001b[32m7.0/7.0 MB\u001b[0m \u001b[31m110.5 MB/s\u001b[0m eta \u001b[36m0:00:00\u001b[0m\n",
            "\u001b[2K     \u001b[90m━━━━━━━━━━━━━━━━━━━━━━━━━━━━━━━━━━━━━━━━\u001b[0m \u001b[32m1.3/1.3 MB\u001b[0m \u001b[31m75.7 MB/s\u001b[0m eta \u001b[36m0:00:00\u001b[0m\n",
            "\u001b[2K     \u001b[90m━━━━━━━━━━━━━━━━━━━━━━━━━━━━━━━━━━━━━━\u001b[0m \u001b[32m188.7/188.7 kB\u001b[0m \u001b[31m24.2 MB/s\u001b[0m eta \u001b[36m0:00:00\u001b[0m\n",
            "\u001b[?25h  Preparing metadata (setup.py) ... \u001b[?25l\u001b[?25hdone\n",
            "\u001b[2K     \u001b[90m━━━━━━━━━━━━━━━━━━━━━━━━━━━━━━━━━━━━━━━━\u001b[0m \u001b[32m5.0/5.0 MB\u001b[0m \u001b[31m109.6 MB/s\u001b[0m eta \u001b[36m0:00:00\u001b[0m\n",
            "\u001b[2K     \u001b[90m━━━━━━━━━━━━━━━━━━━━━━━━━━━━━━━━━━━━━━━━\u001b[0m \u001b[32m46.0/46.0 kB\u001b[0m \u001b[31m5.1 MB/s\u001b[0m eta \u001b[36m0:00:00\u001b[0m\n",
            "\u001b[2K     \u001b[90m━━━━━━━━━━━━━━━━━━━━━━━━━━━━━━━━━━━━━━\u001b[0m \u001b[32m224.5/224.5 kB\u001b[0m \u001b[31m25.9 MB/s\u001b[0m eta \u001b[36m0:00:00\u001b[0m\n",
            "\u001b[2K     \u001b[90m━━━━━━━━━━━━━━━━━━━━━━━━━━━━━━━━━━━━━━━━\u001b[0m \u001b[32m7.8/7.8 MB\u001b[0m \u001b[31m110.2 MB/s\u001b[0m eta \u001b[36m0:00:00\u001b[0m\n",
            "\u001b[2K     \u001b[90m━━━━━━━━━━━━━━━━━━━━━━━━━━━━━━━━━━━━━━━━\u001b[0m \u001b[32m86.8/86.8 kB\u001b[0m \u001b[31m12.0 MB/s\u001b[0m eta \u001b[36m0:00:00\u001b[0m\n",
            "\u001b[?25h  Building wheel for nmslib (setup.py) ... \u001b[?25l\u001b[?25hdone\n",
            "\u001b[2K     \u001b[90m━━━━━━━━━━━━━━━━━━━━━━━━━━━━━━━━━━━━━━━━\u001b[0m \u001b[32m17.6/17.6 MB\u001b[0m \u001b[31m81.0 MB/s\u001b[0m eta \u001b[36m0:00:00\u001b[0m\n",
            "\u001b[?25h"
          ]
        }
      ],
      "source": [
        "\n",
        "!pip install pyserini -q\n",
        "!pip install faiss-cpu -q"
      ]
    },
    {
      "cell_type": "code",
      "execution_count": 5,
      "metadata": {
        "colab": {
          "base_uri": "https://localhost:8080/"
        },
        "id": "dDzq5gqrVzqv",
        "outputId": "0ec35730-64a2-4ffc-eaca-6df4b0001223"
      },
      "outputs": [
        {
          "output_type": "stream",
          "name": "stdout",
          "text": [
            "\u001b[2K     \u001b[90m━━━━━━━━━━━━━━━━━━━━━━━━━━━━━━━━━━━━━━━━\u001b[0m \u001b[32m81.4/81.4 kB\u001b[0m \u001b[31m9.0 MB/s\u001b[0m eta \u001b[36m0:00:00\u001b[0m\n",
            "\u001b[2K     \u001b[90m━━━━━━━━━━━━━━━━━━━━━━━━━━━━━━━━━━━━━━\u001b[0m \u001b[32m474.6/474.6 kB\u001b[0m \u001b[31m44.5 MB/s\u001b[0m eta \u001b[36m0:00:00\u001b[0m\n",
            "\u001b[2K     \u001b[90m━━━━━━━━━━━━━━━━━━━━━━━━━━━━━━━━━━━━━━\u001b[0m \u001b[32m110.5/110.5 kB\u001b[0m \u001b[31m14.0 MB/s\u001b[0m eta \u001b[36m0:00:00\u001b[0m\n",
            "\u001b[2K     \u001b[90m━━━━━━━━━━━━━━━━━━━━━━━━━━━━━━━━━━━━━━\u001b[0m \u001b[32m212.5/212.5 kB\u001b[0m \u001b[31m27.0 MB/s\u001b[0m eta \u001b[36m0:00:00\u001b[0m\n",
            "\u001b[2K     \u001b[90m━━━━━━━━━━━━━━━━━━━━━━━━━━━━━━━━━━━━━━\u001b[0m \u001b[32m134.3/134.3 kB\u001b[0m \u001b[31m18.8 MB/s\u001b[0m eta \u001b[36m0:00:00\u001b[0m\n",
            "\u001b[2K     \u001b[90m━━━━━━━━━━━━━━━━━━━━━━━━━━━━━━━━━━━━━━━━\u001b[0m \u001b[32m1.0/1.0 MB\u001b[0m \u001b[31m59.6 MB/s\u001b[0m eta \u001b[36m0:00:00\u001b[0m\n",
            "\u001b[2K     \u001b[90m━━━━━━━━━━━━━━━━━━━━━━━━━━━━━━━━━━━━━━\u001b[0m \u001b[32m114.5/114.5 kB\u001b[0m \u001b[31m16.1 MB/s\u001b[0m eta \u001b[36m0:00:00\u001b[0m\n",
            "\u001b[2K     \u001b[90m━━━━━━━━━━━━━━━━━━━━━━━━━━━━━━━━━━━━━━\u001b[0m \u001b[32m268.8/268.8 kB\u001b[0m \u001b[31m33.1 MB/s\u001b[0m eta \u001b[36m0:00:00\u001b[0m\n",
            "\u001b[2K     \u001b[90m━━━━━━━━━━━━━━━━━━━━━━━━━━━━━━━━━━━━━━\u001b[0m \u001b[32m149.6/149.6 kB\u001b[0m \u001b[31m19.0 MB/s\u001b[0m eta \u001b[36m0:00:00\u001b[0m\n",
            "\u001b[?25h  Preparing metadata (setup.py) ... \u001b[?25l\u001b[?25hdone\n",
            "  Preparing metadata (setup.py) ... \u001b[?25l\u001b[?25hdone\n",
            "  Building wheel for trectools (setup.py) ... \u001b[?25l\u001b[?25hdone\n",
            "  Building wheel for bs4 (setup.py) ... \u001b[?25l\u001b[?25hdone\n"
          ]
        }
      ],
      "source": [
        "!pip install evaluate -q\n",
        "!pip install trectools -q"
      ]
    },
    {
      "cell_type": "code",
      "execution_count": 6,
      "metadata": {
        "id": "IkDbAShW0rMm"
      },
      "outputs": [],
      "source": [
        "!pip install transformers -q"
      ]
    },
    {
      "cell_type": "markdown",
      "metadata": {
        "id": "Hfzi7hH2pkKY"
      },
      "source": [
        "## Passages download"
      ]
    },
    {
      "cell_type": "code",
      "execution_count": null,
      "metadata": {
        "colab": {
          "base_uri": "https://localhost:8080/"
        },
        "id": "hDUGtSRSpKSs",
        "outputId": "6e09e959-fad7-47d4-fb8a-4332706e7f45"
      },
      "outputs": [
        {
          "name": "stdout",
          "output_type": "stream",
          "text": [
            "--2023-05-06 21:33:47--  https://huggingface.co/datasets/BeIR/trec-covid/resolve/main/corpus.jsonl.gz\n",
            "Resolving huggingface.co (huggingface.co)... 18.155.68.44, 18.155.68.121, 18.155.68.38, ...\n",
            "Connecting to huggingface.co (huggingface.co)|18.155.68.44|:443... connected.\n",
            "HTTP request sent, awaiting response... 302 Found\n",
            "Location: https://cdn-lfs.huggingface.co/repos/a8/10/a810e88b0e7b233be82b89c1fa6ec2d75efc6d55784c2ada9dcac8434a634f3a/e9e97686e3138eaff989f67c04cd32e8f8f4c0d4857187e3f180275b23e24e85?response-content-disposition=attachment%3B+filename*%3DUTF-8%27%27corpus.jsonl.gz%3B+filename%3D%22corpus.jsonl.gz%22%3B&response-content-type=application%2Fgzip&Expires=1683668029&Policy=eyJTdGF0ZW1lbnQiOlt7IlJlc291cmNlIjoiaHR0cHM6Ly9jZG4tbGZzLmh1Z2dpbmdmYWNlLmNvL3JlcG9zL2E4LzEwL2E4MTBlODhiMGU3YjIzM2JlODJiODljMWZhNmVjMmQ3NWVmYzZkNTU3ODRjMmFkYTlkY2FjODQzNGE2MzRmM2EvZTllOTc2ODZlMzEzOGVhZmY5ODlmNjdjMDRjZDMyZThmOGY0YzBkNDg1NzE4N2UzZjE4MDI3NWIyM2UyNGU4NT9yZXNwb25zZS1jb250ZW50LWRpc3Bvc2l0aW9uPSomcmVzcG9uc2UtY29udGVudC10eXBlPSoiLCJDb25kaXRpb24iOnsiRGF0ZUxlc3NUaGFuIjp7IkFXUzpFcG9jaFRpbWUiOjE2ODM2NjgwMjl9fX1dfQ__&Signature=SndAv-KsuG-ohRWzB3nzcv7gwcZRZUtwZ078nBzTXE3PvtMmgbSjt6fmJfuWMObwm2yWfmAtv1wLW7zls0EFVlD5hpDqnHRdrl3SiKRvIf53WJbD9auvSfSlhFRTpaLdX3ODK9nbmSiJRExLYo1o3UtvzzbzOqt1zI7UsrMCs%7EvvbCTn03%7ETREmrfUN1ulLe5xXRU%7EefSiWW1gxMlh4xVAbSQLGwkjz3KLGCTMXU4iFDryqviIt3mbfGUxVraAjQoOgerTI9N1O6OpS7q2SkTWadYWu0YvNTtrkaKqp-SoFE9fB-lz1Y3wo1R72WmUh46JDHGgiguh762PxV71sPTw__&Key-Pair-Id=KVTP0A1DKRTAX [following]\n",
            "--2023-05-06 21:33:48--  https://cdn-lfs.huggingface.co/repos/a8/10/a810e88b0e7b233be82b89c1fa6ec2d75efc6d55784c2ada9dcac8434a634f3a/e9e97686e3138eaff989f67c04cd32e8f8f4c0d4857187e3f180275b23e24e85?response-content-disposition=attachment%3B+filename*%3DUTF-8%27%27corpus.jsonl.gz%3B+filename%3D%22corpus.jsonl.gz%22%3B&response-content-type=application%2Fgzip&Expires=1683668029&Policy=eyJTdGF0ZW1lbnQiOlt7IlJlc291cmNlIjoiaHR0cHM6Ly9jZG4tbGZzLmh1Z2dpbmdmYWNlLmNvL3JlcG9zL2E4LzEwL2E4MTBlODhiMGU3YjIzM2JlODJiODljMWZhNmVjMmQ3NWVmYzZkNTU3ODRjMmFkYTlkY2FjODQzNGE2MzRmM2EvZTllOTc2ODZlMzEzOGVhZmY5ODlmNjdjMDRjZDMyZThmOGY0YzBkNDg1NzE4N2UzZjE4MDI3NWIyM2UyNGU4NT9yZXNwb25zZS1jb250ZW50LWRpc3Bvc2l0aW9uPSomcmVzcG9uc2UtY29udGVudC10eXBlPSoiLCJDb25kaXRpb24iOnsiRGF0ZUxlc3NUaGFuIjp7IkFXUzpFcG9jaFRpbWUiOjE2ODM2NjgwMjl9fX1dfQ__&Signature=SndAv-KsuG-ohRWzB3nzcv7gwcZRZUtwZ078nBzTXE3PvtMmgbSjt6fmJfuWMObwm2yWfmAtv1wLW7zls0EFVlD5hpDqnHRdrl3SiKRvIf53WJbD9auvSfSlhFRTpaLdX3ODK9nbmSiJRExLYo1o3UtvzzbzOqt1zI7UsrMCs%7EvvbCTn03%7ETREmrfUN1ulLe5xXRU%7EefSiWW1gxMlh4xVAbSQLGwkjz3KLGCTMXU4iFDryqviIt3mbfGUxVraAjQoOgerTI9N1O6OpS7q2SkTWadYWu0YvNTtrkaKqp-SoFE9fB-lz1Y3wo1R72WmUh46JDHGgiguh762PxV71sPTw__&Key-Pair-Id=KVTP0A1DKRTAX\n",
            "Resolving cdn-lfs.huggingface.co (cdn-lfs.huggingface.co)... 18.155.68.98, 18.155.68.94, 18.155.68.73, ...\n",
            "Connecting to cdn-lfs.huggingface.co (cdn-lfs.huggingface.co)|18.155.68.98|:443... connected.\n",
            "HTTP request sent, awaiting response... 200 OK\n",
            "Length: 73452199 (70M) [application/gzip]\n",
            "Saving to: ‘corpus.jsonl.gz’\n",
            "\n",
            "corpus.jsonl.gz     100%[===================>]  70.05M   304MB/s    in 0.2s    \n",
            "\n",
            "2023-05-06 21:33:48 (304 MB/s) - ‘corpus.jsonl.gz’ saved [73452199/73452199]\n",
            "\n"
          ]
        }
      ],
      "source": [
        "!wget https://huggingface.co/datasets/BeIR/trec-covid/resolve/main/corpus.jsonl.gz"
      ]
    },
    {
      "cell_type": "code",
      "execution_count": null,
      "metadata": {
        "id": "1m8ror6dpokw"
      },
      "outputs": [],
      "source": [
        "!mv corpus.jsonl.gz {main_dir}/trec-covid"
      ]
    },
    {
      "cell_type": "code",
      "execution_count": null,
      "metadata": {
        "colab": {
          "base_uri": "https://localhost:8080/"
        },
        "id": "SVXGvmSz4i8R",
        "outputId": "c809ba02-5f17-462d-abfb-d6ae8b4c4ea8"
      },
      "outputs": [
        {
          "name": "stdout",
          "output_type": "stream",
          "text": [
            "gzip: /content/gdrive/MyDrive/Unicamp-aula-10/trec-covid/corpus.jsonl already exists; do you wish to overwrite (y or n)? ^C\n"
          ]
        }
      ],
      "source": [
        "!gunzip {main_dir}/trec-covid/corpus.jsonl.gz"
      ]
    },
    {
      "cell_type": "markdown",
      "metadata": {
        "id": "DXnckUxf4-wL"
      },
      "source": [
        "## Queries vs passages download"
      ]
    },
    {
      "cell_type": "code",
      "execution_count": null,
      "metadata": {
        "colab": {
          "base_uri": "https://localhost:8080/"
        },
        "id": "XqCxXLfV4_gE",
        "outputId": "30e23791-b70f-4148-b75d-e0ad2001b3fe"
      },
      "outputs": [
        {
          "name": "stdout",
          "output_type": "stream",
          "text": [
            "--2023-05-06 21:34:54--  https://huggingface.co/datasets/BeIR/trec-covid-qrels/raw/main/test.tsv\n",
            "Resolving huggingface.co (huggingface.co)... 18.155.68.44, 18.155.68.116, 18.155.68.121, ...\n",
            "Connecting to huggingface.co (huggingface.co)|18.155.68.44|:443... connected.\n",
            "HTTP request sent, awaiting response... 200 OK\n",
            "Length: 980831 (958K) [text/plain]\n",
            "Saving to: ‘test.tsv’\n",
            "\n",
            "test.tsv            100%[===================>] 957.84K  1.09MB/s    in 0.9s    \n",
            "\n",
            "2023-05-06 21:34:55 (1.09 MB/s) - ‘test.tsv’ saved [980831/980831]\n",
            "\n"
          ]
        }
      ],
      "source": [
        "!wget https://huggingface.co/datasets/BeIR/trec-covid-qrels/raw/main/test.tsv"
      ]
    },
    {
      "cell_type": "code",
      "execution_count": null,
      "metadata": {
        "id": "mO-OYpej5ElH"
      },
      "outputs": [],
      "source": [
        "!mv test.tsv {main_dir}/trec-covid"
      ]
    },
    {
      "cell_type": "markdown",
      "metadata": {
        "id": "AdoSaFnH5P7p"
      },
      "source": [
        "## Queries download"
      ]
    },
    {
      "cell_type": "code",
      "execution_count": null,
      "metadata": {
        "colab": {
          "base_uri": "https://localhost:8080/"
        },
        "id": "CP5BWbgv5Gz3",
        "outputId": "39a631c4-9373-4ff3-8c94-fffe2fa2bd4d"
      },
      "outputs": [
        {
          "name": "stdout",
          "output_type": "stream",
          "text": [
            "--2023-05-06 21:34:56--  https://huggingface.co/datasets/BeIR/trec-covid/resolve/main/queries.jsonl.gz\n",
            "Resolving huggingface.co (huggingface.co)... 18.155.68.44, 18.155.68.116, 18.155.68.121, ...\n",
            "Connecting to huggingface.co (huggingface.co)|18.155.68.44|:443... connected.\n",
            "HTTP request sent, awaiting response... 302 Found\n",
            "Location: https://cdn-lfs.huggingface.co/repos/a8/10/a810e88b0e7b233be82b89c1fa6ec2d75efc6d55784c2ada9dcac8434a634f3a/9eadcc2cdf140addc9dae83648bb2c6611f5e4b66eaed7475fa5a0ca48eda371?response-content-disposition=attachment%3B+filename*%3DUTF-8%27%27queries.jsonl.gz%3B+filename%3D%22queries.jsonl.gz%22%3B&response-content-type=application%2Fgzip&Expires=1683668096&Policy=eyJTdGF0ZW1lbnQiOlt7IlJlc291cmNlIjoiaHR0cHM6Ly9jZG4tbGZzLmh1Z2dpbmdmYWNlLmNvL3JlcG9zL2E4LzEwL2E4MTBlODhiMGU3YjIzM2JlODJiODljMWZhNmVjMmQ3NWVmYzZkNTU3ODRjMmFkYTlkY2FjODQzNGE2MzRmM2EvOWVhZGNjMmNkZjE0MGFkZGM5ZGFlODM2NDhiYjJjNjYxMWY1ZTRiNjZlYWVkNzQ3NWZhNWEwY2E0OGVkYTM3MT9yZXNwb25zZS1jb250ZW50LWRpc3Bvc2l0aW9uPSomcmVzcG9uc2UtY29udGVudC10eXBlPSoiLCJDb25kaXRpb24iOnsiRGF0ZUxlc3NUaGFuIjp7IkFXUzpFcG9jaFRpbWUiOjE2ODM2NjgwOTZ9fX1dfQ__&Signature=m2lx5g8Ip6rMW3I9jGfzPPtZINejDEj2f8XwtGpuukp5CKEWuXrd163mK3%7EVR1n3hhzfiNLuBToxx0lqarAtV09mxvsY36c%7Et3PsKmT4lz3raQBNoFP7OfmgAoXLR%7EMi-Vx7woOO46rsugcf63XPI7kqqv9SppFKcA35VI-v0tMxwcIMGYvCjwj3wwpWDEoW5QEQjLxyJNrMzG0Q%7EivdvzhZ4VHyygj8NkdntMBijB3ZIsbG-OrwJG6PaqiZ2mD1S5V7aERr7HL927UZJLUwoHVL5Gx1MCW3M8IslD1BekktsVqj7qM9NS8AEk382pV7Y4PUvQldnxQYjfp1O9lAgw__&Key-Pair-Id=KVTP0A1DKRTAX [following]\n",
            "--2023-05-06 21:34:56--  https://cdn-lfs.huggingface.co/repos/a8/10/a810e88b0e7b233be82b89c1fa6ec2d75efc6d55784c2ada9dcac8434a634f3a/9eadcc2cdf140addc9dae83648bb2c6611f5e4b66eaed7475fa5a0ca48eda371?response-content-disposition=attachment%3B+filename*%3DUTF-8%27%27queries.jsonl.gz%3B+filename%3D%22queries.jsonl.gz%22%3B&response-content-type=application%2Fgzip&Expires=1683668096&Policy=eyJTdGF0ZW1lbnQiOlt7IlJlc291cmNlIjoiaHR0cHM6Ly9jZG4tbGZzLmh1Z2dpbmdmYWNlLmNvL3JlcG9zL2E4LzEwL2E4MTBlODhiMGU3YjIzM2JlODJiODljMWZhNmVjMmQ3NWVmYzZkNTU3ODRjMmFkYTlkY2FjODQzNGE2MzRmM2EvOWVhZGNjMmNkZjE0MGFkZGM5ZGFlODM2NDhiYjJjNjYxMWY1ZTRiNjZlYWVkNzQ3NWZhNWEwY2E0OGVkYTM3MT9yZXNwb25zZS1jb250ZW50LWRpc3Bvc2l0aW9uPSomcmVzcG9uc2UtY29udGVudC10eXBlPSoiLCJDb25kaXRpb24iOnsiRGF0ZUxlc3NUaGFuIjp7IkFXUzpFcG9jaFRpbWUiOjE2ODM2NjgwOTZ9fX1dfQ__&Signature=m2lx5g8Ip6rMW3I9jGfzPPtZINejDEj2f8XwtGpuukp5CKEWuXrd163mK3%7EVR1n3hhzfiNLuBToxx0lqarAtV09mxvsY36c%7Et3PsKmT4lz3raQBNoFP7OfmgAoXLR%7EMi-Vx7woOO46rsugcf63XPI7kqqv9SppFKcA35VI-v0tMxwcIMGYvCjwj3wwpWDEoW5QEQjLxyJNrMzG0Q%7EivdvzhZ4VHyygj8NkdntMBijB3ZIsbG-OrwJG6PaqiZ2mD1S5V7aERr7HL927UZJLUwoHVL5Gx1MCW3M8IslD1BekktsVqj7qM9NS8AEk382pV7Y4PUvQldnxQYjfp1O9lAgw__&Key-Pair-Id=KVTP0A1DKRTAX\n",
            "Resolving cdn-lfs.huggingface.co (cdn-lfs.huggingface.co)... 18.155.68.128, 18.155.68.98, 18.155.68.94, ...\n",
            "Connecting to cdn-lfs.huggingface.co (cdn-lfs.huggingface.co)|18.155.68.128|:443... connected.\n",
            "HTTP request sent, awaiting response... 200 OK\n",
            "Length: 4702 (4.6K) [application/gzip]\n",
            "Saving to: ‘queries.jsonl.gz’\n",
            "\n",
            "queries.jsonl.gz    100%[===================>]   4.59K  --.-KB/s    in 0s      \n",
            "\n",
            "2023-05-06 21:34:56 (191 MB/s) - ‘queries.jsonl.gz’ saved [4702/4702]\n",
            "\n"
          ]
        }
      ],
      "source": [
        "!wget https://huggingface.co/datasets/BeIR/trec-covid/resolve/main/queries.jsonl.gz"
      ]
    },
    {
      "cell_type": "code",
      "execution_count": null,
      "metadata": {
        "id": "IiRancl45JXE"
      },
      "outputs": [],
      "source": [
        "!mv queries.jsonl.gz {main_dir}/trec-covid"
      ]
    },
    {
      "cell_type": "code",
      "execution_count": null,
      "metadata": {
        "colab": {
          "base_uri": "https://localhost:8080/"
        },
        "id": "_kCDz7Xn5LO5",
        "outputId": "89d28777-939a-40c5-c48f-0ab17ddc4b64"
      },
      "outputs": [
        {
          "name": "stdout",
          "output_type": "stream",
          "text": [
            "gzip: /content/gdrive/MyDrive/Unicamp-aula-10/trec-covid/queries.jsonl already exists; do you wish to overwrite (y or n)? ^C\n"
          ]
        }
      ],
      "source": [
        "!gunzip {main_dir}/trec-covid/queries.jsonl.gz"
      ]
    },
    {
      "cell_type": "markdown",
      "metadata": {
        "id": "WaqHnZbI9eb6"
      },
      "source": [
        "## Pipeline 1: Pyserini BM25 + Reranking with cross-encoder/ms-marco-MiniLM-L-6-v2"
      ]
    },
    {
      "cell_type": "markdown",
      "metadata": {
        "id": "51HR2Sid9skM"
      },
      "source": [
        "### 1st step: Pre-indexing TREC-COVID corpus"
      ]
    },
    {
      "cell_type": "markdown",
      "metadata": {
        "id": "OZWmH9OB90OS"
      },
      "source": [
        "Here, we need to measure indexing cost in dollars per hour."
      ]
    },
    {
      "cell_type": "code",
      "execution_count": 7,
      "metadata": {
        "id": "--xMWixxHlFd"
      },
      "outputs": [],
      "source": [
        "import torch\n",
        "\n",
        "device = torch.device('cuda' if torch.cuda.is_available() else 'cpu')"
      ]
    },
    {
      "cell_type": "code",
      "execution_count": 8,
      "metadata": {
        "colab": {
          "base_uri": "https://localhost:8080/"
        },
        "id": "psDPW3t-HmUL",
        "outputId": "cad2fd21-7102-44d1-ab54-e913f0925cad"
      },
      "outputs": [
        {
          "output_type": "execute_result",
          "data": {
            "text/plain": [
              "device(type='cuda')"
            ]
          },
          "metadata": {},
          "execution_count": 8
        }
      ],
      "source": [
        "device"
      ]
    },
    {
      "cell_type": "code",
      "execution_count": 9,
      "metadata": {
        "colab": {
          "base_uri": "https://localhost:8080/"
        },
        "id": "SVH2FdzmrOcN",
        "outputId": "9aade54e-1c0c-4fa7-8c40-3a5361826501"
      },
      "outputs": [
        {
          "output_type": "stream",
          "name": "stdout",
          "text": [
            "Tue May  9 22:08:20 2023       \n",
            "+-----------------------------------------------------------------------------+\n",
            "| NVIDIA-SMI 525.85.12    Driver Version: 525.85.12    CUDA Version: 12.0     |\n",
            "|-------------------------------+----------------------+----------------------+\n",
            "| GPU  Name        Persistence-M| Bus-Id        Disp.A | Volatile Uncorr. ECC |\n",
            "| Fan  Temp  Perf  Pwr:Usage/Cap|         Memory-Usage | GPU-Util  Compute M. |\n",
            "|                               |                      |               MIG M. |\n",
            "|===============================+======================+======================|\n",
            "|   0  Tesla T4            Off  | 00000000:00:04.0 Off |                    0 |\n",
            "| N/A   48C    P8    12W /  70W |      3MiB / 15360MiB |      0%      Default |\n",
            "|                               |                      |                  N/A |\n",
            "+-------------------------------+----------------------+----------------------+\n",
            "                                                                               \n",
            "+-----------------------------------------------------------------------------+\n",
            "| Processes:                                                                  |\n",
            "|  GPU   GI   CI        PID   Type   Process name                  GPU Memory |\n",
            "|        ID   ID                                                   Usage      |\n",
            "|=============================================================================|\n",
            "|  No running processes found                                                 |\n",
            "+-----------------------------------------------------------------------------+\n"
          ]
        }
      ],
      "source": [
        "!nvidia-smi"
      ]
    },
    {
      "cell_type": "code",
      "execution_count": null,
      "metadata": {
        "colab": {
          "base_uri": "https://localhost:8080/",
          "height": 310,
          "referenced_widgets": [
            "04b7b0b886684fd09376620417512160",
            "2dc48a09b9e84bbf9d4c56847168f4b5",
            "3cf3d92b06a148d5a5eec05f0bf5306c",
            "1a7c32f8659b40deb47a16c4baf2f229",
            "b4fc5bb6d2094c8d8e36b721af9f6bd0",
            "72193c6dec0f4a6f82842cfba7aaaac0",
            "92fa60e8028a4ade9a96867733bdf854",
            "66fc44e273574e549e4ef60384df9aaa",
            "097532cbc18a4cdb80a9d031834a488b",
            "2b41795db895451db6da4cd24d48140f",
            "61b56b81100f40b7b6fc1f5a5ae25e8b",
            "d140ac76980046458e2d262630d67b9d",
            "241fc051ab48471bb8a571ac38448d01",
            "d91ad64dd4dd4c568d3043f523971963",
            "891cccdf4ebb4fc581661cc6b6f7ddc6",
            "911b9cefbcee4825b483f40d78d60dca",
            "557a57ad49c04ba4b0941440ad0a6e37",
            "fa5e330c39c6438da3eddc8c709bacb3",
            "17a8cb52e176428d829f3e54e391b06f",
            "c9c588db81e24ec4a89243d7198e4815",
            "77bd5fc99983453bb388d925bd2e0814",
            "499aa4ee413f4a29bda0529533044edf",
            "c28fb0b8f0a84b86af9d35fcc75f07b5",
            "aed5f36b70e34d89b86bedbd87c2fbcc",
            "e4fb86a62fac417aa76b226d5d417c6a",
            "de4b90bbce2247a99549ad1d36e7742a",
            "cad6838268cf438ba0b1fb811a511639",
            "2bc49de9bdf04c9cac0ca30d6233955b",
            "866c359d7c6f47b99d1169a82b9d7449",
            "fefd001cf6bc4d4ea577d1a11b42ab21",
            "a2fa8cfe74444525b5933c59ac4471cf",
            "df003de478ed4500966712d9c83512c5",
            "c83f71b54bb14e08a0bcb4acb8ffd09a",
            "9622d4472b9f41bf830d144025cff1f5",
            "c484cf1591ae4eea93b6e65d972753bc",
            "d0bd72f613d74d2e8a2164e47b5d9f3e",
            "f5428ea61cf44cbe9a110a5e5fc63030",
            "4d69fdfc404d4af59daa822130211f57",
            "3a9ddeaf945645758c883a5a983901b4",
            "bab04dfb8e2a4aad99dc16938d25417e",
            "d9aaa8c67d794db5850c75ad563cd5fb",
            "2468abc800624ab597c7a6e9aa349419",
            "3541bf8240b041f28986b4abd1b7040b",
            "9297cbb7485c4da1a66abba1bdbf5c8d",
            "eb80e94c9d9b4f73aa02cbd0287bc757",
            "79009fd65ee64a6fbc652b81b50257da",
            "16cedefffddb430399c3b7a40deb5eed",
            "ed93472c07d54504bc1876d3b33eb466",
            "7d06a222530f483f831d05b92a888e2e",
            "3e94ea15da8647b386235e8a8766aeb2",
            "e60199b40e964b7a83bc212fc176a7a5",
            "751a924e81e44d95b7fa000a89a452c0",
            "4d42d2f2b2fc4582adbe9a5ebdd2f94d",
            "57bbe6f76801419daf13bad9e98b5ce1",
            "47bb2b8820a041b8bfd592fa1de630e9",
            "df28105f615f44508fce99ffcdefb353",
            "cc8daffa9530491f868d8c09a47ebb7b",
            "b51573972c524edf8f8d4ef3820661c3",
            "a447e67d6809472398ad2c2f0740022f",
            "bc260327211b431dbb920a33824b18f3",
            "5906f7a904834a7daf0210d94fe816d5",
            "af889240f0304490b6973183b6c843b2",
            "e3d67136f7ed4909bd520ce8a6756168",
            "e2049a8a54b545bd977f5ec52c3b79a7",
            "74c51eab055745138da3a1094775a0fd",
            "20fd83ebdc74423bac10d3b7b194572d",
            "195e8d1860d443aea075d7d56add67d6",
            "60c685730d9144a09b9b5fb601fcf1a6",
            "c59406a5e2e64813beb6f63f9d398084",
            "ff373700e52e401cb37b34a8a3e85b49",
            "06eddca6d1274bcc9d9a66f3423d4545",
            "23b78fbc1294412dba64d6383409af72",
            "79c8e54763f5485b999598320f6f6b81",
            "ec3ce699cff9420ba11a067bc3616013",
            "c6901d5b48ec4f878cd09521e7caa13f",
            "d15051d5bd1841729761c83725c383a3",
            "fa2e063e6d01443fa94dcdbc77c494b7"
          ]
        },
        "id": "pqL5bZuZ5axg",
        "outputId": "9a0530fe-a404-4b7c-fc34-911a072da890"
      },
      "outputs": [
        {
          "data": {
            "application/vnd.jupyter.widget-view+json": {
              "model_id": "04b7b0b886684fd09376620417512160",
              "version_major": 2,
              "version_minor": 0
            },
            "text/plain": [
              "Downloading (…)8af92/.gitattributes:   0%|          | 0.00/736 [00:00<?, ?B/s]"
            ]
          },
          "metadata": {},
          "output_type": "display_data"
        },
        {
          "data": {
            "application/vnd.jupyter.widget-view+json": {
              "model_id": "d140ac76980046458e2d262630d67b9d",
              "version_major": 2,
              "version_minor": 0
            },
            "text/plain": [
              "Downloading (…)10d268af92/README.md:   0%|          | 0.00/3.23k [00:00<?, ?B/s]"
            ]
          },
          "metadata": {},
          "output_type": "display_data"
        },
        {
          "data": {
            "application/vnd.jupyter.widget-view+json": {
              "model_id": "c28fb0b8f0a84b86af9d35fcc75f07b5",
              "version_major": 2,
              "version_minor": 0
            },
            "text/plain": [
              "Downloading (…)d268af92/config.json:   0%|          | 0.00/794 [00:00<?, ?B/s]"
            ]
          },
          "metadata": {},
          "output_type": "display_data"
        },
        {
          "data": {
            "application/vnd.jupyter.widget-view+json": {
              "model_id": "9622d4472b9f41bf830d144025cff1f5",
              "version_major": 2,
              "version_minor": 0
            },
            "text/plain": [
              "Downloading pytorch_model.bin:   0%|          | 0.00/90.9M [00:00<?, ?B/s]"
            ]
          },
          "metadata": {},
          "output_type": "display_data"
        },
        {
          "data": {
            "application/vnd.jupyter.widget-view+json": {
              "model_id": "eb80e94c9d9b4f73aa02cbd0287bc757",
              "version_major": 2,
              "version_minor": 0
            },
            "text/plain": [
              "Downloading (…)cial_tokens_map.json:   0%|          | 0.00/112 [00:00<?, ?B/s]"
            ]
          },
          "metadata": {},
          "output_type": "display_data"
        },
        {
          "data": {
            "application/vnd.jupyter.widget-view+json": {
              "model_id": "df28105f615f44508fce99ffcdefb353",
              "version_major": 2,
              "version_minor": 0
            },
            "text/plain": [
              "Downloading (…)okenizer_config.json:   0%|          | 0.00/316 [00:00<?, ?B/s]"
            ]
          },
          "metadata": {},
          "output_type": "display_data"
        },
        {
          "data": {
            "application/vnd.jupyter.widget-view+json": {
              "model_id": "195e8d1860d443aea075d7d56add67d6",
              "version_major": 2,
              "version_minor": 0
            },
            "text/plain": [
              "Downloading (…)10d268af92/vocab.txt:   0%|          | 0.00/232k [00:00<?, ?B/s]"
            ]
          },
          "metadata": {},
          "output_type": "display_data"
        },
        {
          "name": "stderr",
          "output_type": "stream",
          "text": [
            "WARNING:sentence_transformers.SentenceTransformer:No sentence-transformers model found with name /root/.cache/torch/sentence_transformers/cross-encoder_ms-marco-MiniLM-L-6-v2. Creating a new one with MEAN pooling.\n",
            "Some weights of the model checkpoint at /root/.cache/torch/sentence_transformers/cross-encoder_ms-marco-MiniLM-L-6-v2 were not used when initializing BertModel: ['classifier.bias', 'classifier.weight']\n",
            "- This IS expected if you are initializing BertModel from the checkpoint of a model trained on another task or with another architecture (e.g. initializing a BertForSequenceClassification model from a BertForPreTraining model).\n",
            "- This IS NOT expected if you are initializing BertModel from the checkpoint of a model that you expect to be exactly identical (initializing a BertForSequenceClassification model from a BertForSequenceClassification model).\n"
          ]
        }
      ],
      "source": [
        "from sentence_transformers import SentenceTransformer, util\n",
        "import torch\n",
        "\n",
        "model_name = 'cross-encoder/ms-marco-MiniLM-L-6-v2'\n",
        "\n",
        "embedder = SentenceTransformer(model_name, device=device)\n",
        "\n"
      ]
    },
    {
      "cell_type": "code",
      "execution_count": null,
      "metadata": {
        "id": "AxOt8PHY-ljT"
      },
      "outputs": [],
      "source": [
        "import jsonlines\n",
        "\n",
        "passage_ids = []\n",
        "passage_texts = []\n",
        "id_to_passage = dict()\n",
        "\n",
        "#Maps each id to its position in the corpus\n",
        "id_to_index = dict()\n",
        "\n",
        "with jsonlines.open(f\"{main_dir}/trec-covid/corpus.jsonl\") as reader:\n",
        "  for item in reader:\n",
        "    id = item[\"_id\"]\n",
        "    id_to_index[id] = len(passage_ids)\n",
        "    passage_ids.append(id)\n",
        "    text = item[\"title\"] + ' ' + item[\"text\"]\n",
        "    passage_texts.append(text)\n",
        "    id_to_passage[id] = text"
      ]
    },
    {
      "cell_type": "code",
      "execution_count": null,
      "metadata": {
        "colab": {
          "base_uri": "https://localhost:8080/"
        },
        "id": "zKwY_vUv-O26",
        "outputId": "a0fc1859-cb1f-4281-afae-94bd2e78ae12"
      },
      "outputs": [
        {
          "name": "stdout",
          "output_type": "stream",
          "text": [
            "CPU times: user 6min 12s, sys: 12.8 s, total: 6min 25s\n",
            "Wall time: 2min 47s\n"
          ]
        }
      ],
      "source": [
        "%time corpus_embeddings = embedder.encode(passage_texts, convert_to_tensor=True)"
      ]
    },
    {
      "cell_type": "code",
      "execution_count": null,
      "metadata": {
        "colab": {
          "base_uri": "https://localhost:8080/"
        },
        "id": "OJpefhdUGRu5",
        "outputId": "2c6e42b7-5973-431b-f60a-f57d0b429233"
      },
      "outputs": [
        {
          "name": "stdout",
          "output_type": "stream",
          "text": [
            "Writing gpu_usage.sh\n"
          ]
        }
      ],
      "source": [
        "%%writefile gpu_usage.sh\n",
        "#! /bin/bash\n",
        "#comment: run for 10 seconds, change it as per your use\n",
        "end=$((SECONDS+3600))\n",
        "\n",
        "while [ $SECONDS -lt $end ]; do\n",
        "    nvidia-smi --format=csv --query-gpu=power.draw,utilization.gpu,memory.used,memory.free,fan.speed,temperature.gpu >> gpu.log\n",
        "    #comment: or use below command and comment above using #\n",
        "    #nvidia-smi dmon -i 0 -s mu -d 1 -o TD >> gpu.log\n",
        "done"
      ]
    },
    {
      "cell_type": "code",
      "execution_count": null,
      "metadata": {
        "id": "LBHsfxtfGSiJ"
      },
      "outputs": [],
      "source": [
        "%%bash --bg\n",
        "\n",
        "bash gpu_usage.sh"
      ]
    },
    {
      "cell_type": "code",
      "execution_count": null,
      "metadata": {
        "id": "JQ4_tEjKGYW-"
      },
      "outputs": [],
      "source": [
        "corpus_embeddings = embedder.encode(passage_texts, convert_to_tensor=True) #2m41s"
      ]
    },
    {
      "cell_type": "code",
      "execution_count": null,
      "metadata": {
        "colab": {
          "base_uri": "https://localhost:8080/"
        },
        "id": "Z8Bqh9Y8GdGu",
        "outputId": "85ac2b5e-58ff-4bec-f726-d4db8a28db3f"
      },
      "outputs": [
        {
          "data": {
            "text/plain": [
              "torch.Size([171332, 384])"
            ]
          },
          "execution_count": 17,
          "metadata": {},
          "output_type": "execute_result"
        }
      ],
      "source": [
        "corpus_embeddings.shape"
      ]
    },
    {
      "cell_type": "markdown",
      "metadata": {
        "id": "y0zz1_t2LzHN"
      },
      "source": [
        "### Pipeline - Searching with Pyserini BM25 + Reranking"
      ]
    },
    {
      "cell_type": "code",
      "execution_count": 10,
      "metadata": {
        "id": "vY7H4KexI3t5"
      },
      "outputs": [],
      "source": [
        "from pyserini.search.lucene import LuceneSearcher\n",
        "import numpy as np\n",
        "import json"
      ]
    },
    {
      "cell_type": "code",
      "execution_count": 11,
      "metadata": {
        "id": "wikXMInXL8Eg"
      },
      "outputs": [],
      "source": [
        "def search_with_bm25(query,k = 1000, index_name='beir-v1.0.0-trec-covid.flat'):\n",
        "  if index_name == 'beir-v1.0.0-trec-covid.flat':   \n",
        "    searcher = LuceneSearcher.from_prebuilt_index(index_name)\n",
        "  else:\n",
        "    searcher = LuceneSearcher(index_name)\n",
        "  hits = searcher.search(query, k)\n",
        "  return hits"
      ]
    },
    {
      "cell_type": "code",
      "execution_count": 12,
      "metadata": {
        "id": "cQpIOs4pMR9P"
      },
      "outputs": [],
      "source": [
        "import jsonlines\n",
        "\n",
        "query_ids = []\n",
        "query_texts = []\n",
        "\n",
        "with jsonlines.open(f\"{main_dir}/trec-covid/queries.jsonl\") as reader:\n",
        "  for item in reader:\n",
        "    id = item[\"_id\"]\n",
        "    query_ids.append(id)\n",
        "    text = item[\"text\"]\n",
        "    query_texts.append(text)\n",
        "     "
      ]
    },
    {
      "cell_type": "markdown",
      "metadata": {
        "id": "onbNVfB4Mnh1"
      },
      "source": [
        "Generates the first request to download pre-indexed corpus."
      ]
    },
    {
      "cell_type": "code",
      "execution_count": null,
      "metadata": {
        "id": "O8lXwOfTOUYG"
      },
      "outputs": [],
      "source": [
        "def search(query, top_k=1000):\n",
        "  #1st step: searches with BM25\n",
        "  bm25_hits = search_with_bm25(query, k=top_k)\n",
        "\n",
        "  ids = [json.loads(bm25_hits[i].raw)['_id'] for i in range(len(bm25_hits))]\n",
        "  indices = [id_to_index[id] for id in ids]\n",
        "\n",
        "  #Finds corpus embeddings\n",
        "  passages_embeddings = [corpus_embeddings[i] for i in indices]\n",
        "\n",
        "  query_embedding = embedder.encode(query, convert_to_tensor=True)\n",
        "\n",
        "  hits = util.semantic_search(query_embedding, passages_embeddings, top_k=top_k)\n",
        "  hits = hits[0]      #Get the hits for the first query\n",
        "  results = dict()\n",
        "  for hit in hits:\n",
        "    assert hit['corpus_id'] < 1000\n",
        "    results[ids[hit['corpus_id']]] = hit['score']\n",
        "\n",
        "  return results"
      ]
    },
    {
      "cell_type": "code",
      "execution_count": null,
      "metadata": {
        "colab": {
          "base_uri": "https://localhost:8080/"
        },
        "id": "RzpeJBOvSDeL",
        "outputId": "a30b8021-dfe7-44d4-f1ad-b6141ae68c58"
      },
      "outputs": [
        {
          "name": "stdout",
          "output_type": "stream",
          "text": [
            "Downloading index at https://rgw.cs.uwaterloo.ca/pyserini/indexes/lucene-index.beir-v1.0.0-trec-covid.flat.20221116.505594.tar.gz...\n"
          ]
        },
        {
          "name": "stderr",
          "output_type": "stream",
          "text": [
            "lucene-index.beir-v1.0.0-trec-covid.flat.20221116.505594.tar.gz: 216MB [00:19, 11.5MB/s]                           \n"
          ]
        },
        {
          "name": "stdout",
          "output_type": "stream",
          "text": [
            "CPU times: user 8.15 s, sys: 982 ms, total: 9.14 s\n",
            "Wall time: 26.2 s\n"
          ]
        },
        {
          "data": {
            "text/plain": [
              "{'gh07kf93': 0.9902833700180054,\n",
              " 'ghuwz4w7': 0.9848959445953369,\n",
              " 'x33dcjov': 0.9848238825798035,\n",
              " 'rzpbpxw2': 0.9838396906852722,\n",
              " 'w1jf3cdm': 0.9807307720184326,\n",
              " 'gpy92gm5': 0.9806936383247375,\n",
              " 'zumw6efw': 0.9798028469085693,\n",
              " '3l7du0jt': 0.9795253276824951,\n",
              " 'wzi78q06': 0.979301929473877,\n",
              " 'gdfxiosc': 0.9790084362030029,\n",
              " '6m70ltbw': 0.9777147769927979,\n",
              " 'zb6h3q4k': 0.9776499271392822,\n",
              " 'pt98rqyr': 0.9773953557014465,\n",
              " 'cy3inhrd': 0.975878119468689,\n",
              " 'nc38gr2f': 0.9755426645278931,\n",
              " 'xwhxyy3d': 0.9755305051803589,\n",
              " 'j23gik22': 0.9730088710784912,\n",
              " 'b25m9pub': 0.9728070497512817,\n",
              " 'ck8l0c6k': 0.9728070497512817,\n",
              " '57q0buzy': 0.969458818435669,\n",
              " '2fzd4dn4': 0.9687535762786865,\n",
              " '9puijlym': 0.9685115814208984,\n",
              " 'm86s9az3': 0.967975914478302,\n",
              " 'ewdow4b5': 0.9656345844268799,\n",
              " '8ymx739h': 0.965180516242981,\n",
              " 'kybnap5u': 0.9646924138069153,\n",
              " 'a93k6o3b': 0.9640289545059204,\n",
              " 'lyxul945': 0.9638450741767883,\n",
              " '3h4z9970': 0.9630392789840698,\n",
              " '9duc0kjf': 0.9628820419311523,\n",
              " 'iyb3nt4q': 0.9627236127853394,\n",
              " 'tr43brq4': 0.9604496359825134,\n",
              " 'r7dzl2g7': 0.9604451656341553,\n",
              " 'lroknanr': 0.9587396383285522,\n",
              " 'fo4dtg3y': 0.9554741382598877,\n",
              " '8qp5bdns': 0.9551230669021606,\n",
              " 't51dn8nw': 0.9548723697662354,\n",
              " 'uewb03ma': 0.9548261761665344,\n",
              " 'ppi05exb': 0.9546679258346558,\n",
              " 'e0pwy55x': 0.9542291760444641,\n",
              " '3gmg7s1m': 0.9532753229141235,\n",
              " 'bo9e250g': 0.9528482556343079,\n",
              " '4msp36di': 0.9525606632232666,\n",
              " '0qwj4w4s': 0.9521492719650269,\n",
              " '2ltec6hl': 0.9517868757247925,\n",
              " 'kxdz1bye': 0.9516897201538086,\n",
              " 'k9c2n7ur': 0.9516674280166626,\n",
              " 'j5mi7e40': 0.9510486125946045,\n",
              " 'pcybu7nz': 0.9504337906837463,\n",
              " 'hywvmdjb': 0.9498376250267029,\n",
              " '1g2mup0k': 0.9474270939826965,\n",
              " 'e06z4z5c': 0.9468069672584534,\n",
              " 'u37nvqn8': 0.9461118578910828,\n",
              " 'osvbq0wl': 0.9459933042526245,\n",
              " '6g0wjfmx': 0.9452588558197021,\n",
              " 'x0j2owol': 0.9449753761291504,\n",
              " '3gk1plti': 0.944035530090332,\n",
              " 'xefpg0zo': 0.9433181285858154,\n",
              " '0pkzj7oi': 0.9426730275154114,\n",
              " 'fbzq14a5': 0.9419748187065125,\n",
              " 'yqjkqvkj': 0.9415135383605957,\n",
              " '60ngd205': 0.9413735270500183,\n",
              " '8437a4ms': 0.9409798383712769,\n",
              " '9txstz4n': 0.9409037828445435,\n",
              " 'd5pic2ws': 0.9403538107872009,\n",
              " '36p98snf': 0.9402433633804321,\n",
              " 'z5fvopfv': 0.9399608969688416,\n",
              " '8xw36dc4': 0.9391229152679443,\n",
              " '1c9qydwf': 0.9385941028594971,\n",
              " 'doaeyx7c': 0.9382054805755615,\n",
              " 'luamwahr': 0.9381711483001709,\n",
              " '0mb9p642': 0.9367128014564514,\n",
              " 'bo0m2crr': 0.9356687068939209,\n",
              " 'amut1h89': 0.9350894689559937,\n",
              " 'fp282j2u': 0.9350557327270508,\n",
              " '4mw9yn2v': 0.9329110980033875,\n",
              " 'z4vl8lat': 0.9322406053543091,\n",
              " 'm4k1su4f': 0.9319537878036499,\n",
              " 'zjmrb8dh': 0.9316602945327759,\n",
              " '2yps3el1': 0.9307830929756165,\n",
              " '9hs1t0d1': 0.9307830929756165,\n",
              " '3xlhqnmj': 0.9305661916732788,\n",
              " 'fb4z81lh': 0.929584264755249,\n",
              " 'br6s6v3m': 0.9295348525047302,\n",
              " 'mw2ouz6p': 0.9288331270217896,\n",
              " 'rggj2vrb': 0.9287416338920593,\n",
              " '8cl7nepd': 0.9285165071487427,\n",
              " '8xby6bfp': 0.9285044074058533,\n",
              " '6pcvbs48': 0.9278048872947693,\n",
              " '8auf97aa': 0.9258618354797363,\n",
              " 'lpbiolvw': 0.9250379800796509,\n",
              " 'mlsmxcc8': 0.9249087572097778,\n",
              " 'zgf6n4ow': 0.924781858921051,\n",
              " 'l6psk7zw': 0.9245954155921936,\n",
              " '9t94jh5i': 0.9244141578674316,\n",
              " '1kn53jzh': 0.9240579009056091,\n",
              " 'qjoofby5': 0.9228039979934692,\n",
              " 'kdvvgxa0': 0.9225754141807556,\n",
              " 'mfpf8y0s': 0.9225360155105591,\n",
              " 'sffwmtbl': 0.9221746921539307,\n",
              " 'bw8clegx': 0.9203648567199707,\n",
              " 'pbwbzuuz': 0.9198684692382812,\n",
              " 'iim21pta': 0.9197818636894226,\n",
              " 'x2tfx8l9': 0.9179196953773499,\n",
              " 'jm0924tu': 0.917733371257782,\n",
              " '8aw14ubm': 0.9175634384155273,\n",
              " 'qryk19id': 0.9171695113182068,\n",
              " '8yr2fuu0': 0.9152235388755798,\n",
              " 'xjmsdz81': 0.9149206280708313,\n",
              " 'ycgz54i3': 0.914794921875,\n",
              " 'zerm643g': 0.9146325588226318,\n",
              " 'aqbcq8rs': 0.9140869379043579,\n",
              " 'qoi3pya8': 0.9110724329948425,\n",
              " '2vvq7int': 0.9104546904563904,\n",
              " 'zmgoldl1': 0.9090465307235718,\n",
              " '2uzv9oxg': 0.9088432788848877,\n",
              " 'nlkmlbtr': 0.9085016250610352,\n",
              " 'o1fvusi0': 0.9084174036979675,\n",
              " '1jtjspnv': 0.907991886138916,\n",
              " 'vuj3uji7': 0.9078214168548584,\n",
              " 'm23k11iy': 0.9071231484413147,\n",
              " 'rsg5p1wo': 0.9071030616760254,\n",
              " 'fi97xvyh': 0.9056482911109924,\n",
              " 'iz8exzaz': 0.9052207469940186,\n",
              " 'f2z6avma': 0.904911458492279,\n",
              " 'owrft6fy': 0.9047118425369263,\n",
              " 'fpe149nw': 0.9043465852737427,\n",
              " 'n4dommet': 0.9043238162994385,\n",
              " 'hgvuf94d': 0.9032737612724304,\n",
              " '44jfnrbq': 0.903203010559082,\n",
              " 'e6dekdks': 0.9027038216590881,\n",
              " '6paq6ir7': 0.9020747542381287,\n",
              " '6lka5n64': 0.8988789916038513,\n",
              " 'c0lv5a6t': 0.8987839221954346,\n",
              " '5npk9mcy': 0.8978480696678162,\n",
              " 'r3lrd5le': 0.8975166082382202,\n",
              " 'sxsrzdac': 0.8956619501113892,\n",
              " 'hfkthquj': 0.8952330350875854,\n",
              " 'fnszq32y': 0.895232081413269,\n",
              " 'bakkc4ap': 0.8949311375617981,\n",
              " '2eccdwjm': 0.8946332335472107,\n",
              " 'vm1o1cel': 0.8933943510055542,\n",
              " 'p4lmoaks': 0.8918166756629944,\n",
              " '50ybiiyw': 0.8911231756210327,\n",
              " 'rtb4mgqj': 0.8882092237472534,\n",
              " '78eno4s2': 0.8873600363731384,\n",
              " '8l21i58u': 0.8863605856895447,\n",
              " 'hf2m7imf': 0.8854857683181763,\n",
              " 'u8t4qmgg': 0.8852297067642212,\n",
              " 'ua1qps0r': 0.8843081593513489,\n",
              " 'r98d9va5': 0.8833870887756348,\n",
              " '9xbycyso': 0.8807900547981262,\n",
              " '7yxz43c6': 0.8785114884376526,\n",
              " 'yoy3hj3j': 0.8780351281166077,\n",
              " 'bf0p2i13': 0.8766142129898071,\n",
              " 'x7m5ddr5': 0.8760857582092285,\n",
              " 'ekbi2fg9': 0.8753420114517212,\n",
              " 'u1962vbk': 0.8743639588356018,\n",
              " '1wxnuq6y': 0.8720285892486572,\n",
              " 'a3b7366m': 0.8718478679656982,\n",
              " 'x84qatio': 0.870482861995697,\n",
              " 'nt5ueeds': 0.8702110648155212,\n",
              " 'om7gigcb': 0.8691456317901611,\n",
              " 'o7d6m9k5': 0.8687276840209961,\n",
              " 's7uop4h8': 0.8678255081176758,\n",
              " 'jrrirac2': 0.8674663305282593,\n",
              " 'u2drpbbo': 0.8661575317382812,\n",
              " 'o3ngfggx': 0.8657757043838501,\n",
              " 'z44mwcqb': 0.8653570413589478,\n",
              " 'ehabkd78': 0.8650476932525635,\n",
              " '0x2xh96e': 0.8634968996047974,\n",
              " 'k4vcqw77': 0.8631540536880493,\n",
              " 'n8e2n30b': 0.8629466891288757,\n",
              " '1e7phd13': 0.8623104095458984,\n",
              " 'jiac7iaj': 0.8610106110572815,\n",
              " 'u2cac8vx': 0.8579707741737366,\n",
              " 'qzt5vwge': 0.8560866117477417,\n",
              " 'c3whlk20': 0.8548580408096313,\n",
              " 'nrtjes7v': 0.853971004486084,\n",
              " 'f95i3al5': 0.8500155210494995,\n",
              " 'esq33kx4': 0.8495891690254211,\n",
              " 'lmqum3ou': 0.8477922677993774,\n",
              " '1ebmmjve': 0.8472937345504761,\n",
              " 's1no8i17': 0.8446121215820312,\n",
              " 'k1udxqkv': 0.8437111973762512,\n",
              " 'n15i01tn': 0.8425663709640503,\n",
              " 'igw288oj': 0.8413954973220825,\n",
              " '7aox250c': 0.8407168984413147,\n",
              " 'v9scqdzp': 0.83966064453125,\n",
              " '0bm5yj05': 0.8393354415893555,\n",
              " 'nay6x9y1': 0.8385903835296631,\n",
              " '1fo07mud': 0.8380461931228638,\n",
              " '07gmq95j': 0.8369001150131226,\n",
              " 'y7dkaqlk': 0.8303758502006531,\n",
              " '6ib4dhnj': 0.8295035362243652,\n",
              " 'pktvx20k': 0.8269804120063782,\n",
              " '39oj0782': 0.8247935771942139,\n",
              " '0jdq4w98': 0.8228248357772827,\n",
              " '120md8jp': 0.8148695826530457,\n",
              " 'febiozud': 0.813189685344696,\n",
              " 'alx5uc95': 0.810056209564209,\n",
              " 'vq4t53l9': 0.810056209564209,\n",
              " 'hu9oxea1': 0.8095449805259705,\n",
              " 'lli6mt29': 0.8084633946418762,\n",
              " 'a89smesh': 0.8074096441268921,\n",
              " 'b7vyunw0': 0.8053069114685059,\n",
              " 'hloekqr9': 0.8050532937049866,\n",
              " 'jofzjz49': 0.804526686668396,\n",
              " '90cdpnmd': 0.8044989109039307,\n",
              " 'oekr2d5w': 0.8013798594474792,\n",
              " '07b6aert': 0.8013277053833008,\n",
              " 'rjjuda02': 0.7996150255203247,\n",
              " 'uwrzpgrt': 0.7975383996963501,\n",
              " 'm9vc994p': 0.7958094477653503,\n",
              " 'jeuwaj50': 0.7935978770256042,\n",
              " 'wb1j0yld': 0.7908474206924438,\n",
              " 'dchqfykq': 0.7889857888221741,\n",
              " 'z4mj4xgv': 0.7881187200546265,\n",
              " 'fhhk2hva': 0.7864825129508972,\n",
              " '47qazyw5': 0.7849540710449219,\n",
              " 'd0pmsu8n': 0.7844189405441284,\n",
              " 'y7do987k': 0.7832354307174683,\n",
              " 'znce5set': 0.7827366590499878,\n",
              " 'mxo571pt': 0.7818227410316467,\n",
              " 'w3ohzxn5': 0.7767013311386108,\n",
              " '808xle9f': 0.7765132188796997,\n",
              " '5jzy0h12': 0.7748986482620239,\n",
              " 'bo3f06wm': 0.7727620005607605,\n",
              " 'o3in3rdo': 0.7726444005966187,\n",
              " '55ngu8y3': 0.7698448300361633,\n",
              " 'k3gylwcf': 0.7643335461616516,\n",
              " 'bxsrltbm': 0.7641229629516602,\n",
              " '2a2475id': 0.7544345259666443,\n",
              " '7njssonw': 0.7533491253852844,\n",
              " 'gmsg1u8o': 0.7533437013626099,\n",
              " 'x1amdbqu': 0.7481793165206909,\n",
              " '7ofa04l1': 0.7422654032707214,\n",
              " '3jwl97qb': 0.7421367764472961,\n",
              " 'zcpjxhmv': 0.7417126893997192,\n",
              " 'uiyig136': 0.7404746413230896,\n",
              " 'a09ptyke': 0.73918217420578,\n",
              " 'tp2tm0vn': 0.7360630035400391,\n",
              " 'ng8re64m': 0.7321102619171143,\n",
              " 'ysa8vb9x': 0.7316780090332031,\n",
              " '87v0260x': 0.7294813394546509,\n",
              " 'uv4gbhbb': 0.7291488647460938,\n",
              " 'euv03cul': 0.725619912147522,\n",
              " 'zrycqlvs': 0.7254581451416016,\n",
              " 'fa7611un': 0.7243736982345581,\n",
              " 'rgeeld8q': 0.7228020429611206,\n",
              " 'w5u4zxdb': 0.7218531370162964,\n",
              " 'h76dfo1j': 0.7214816212654114,\n",
              " 'nooo6ttz': 0.7199050188064575,\n",
              " 'vnq1fjwy': 0.7197442650794983,\n",
              " 'xzcxehui': 0.71958327293396,\n",
              " 'cydhg0jz': 0.7182673215866089,\n",
              " 'a525bu7w': 0.7178150415420532,\n",
              " 'htbygp2a': 0.7170832753181458,\n",
              " 'v5wmmw7r': 0.7169615030288696,\n",
              " '3mvjc805': 0.7169300317764282,\n",
              " '7is71518': 0.7166389226913452,\n",
              " 'rvbtbek6': 0.7166265249252319,\n",
              " 'w1870ayn': 0.7163494825363159,\n",
              " 'cwqymw05': 0.7155628204345703,\n",
              " 'g4z40lyx': 0.7155628204345703,\n",
              " 'rffp6qe2': 0.7154622077941895,\n",
              " 'tg8kfiot': 0.7151762247085571,\n",
              " 'ruoqc5vd': 0.7151433229446411,\n",
              " 'rvedli28': 0.7140316963195801,\n",
              " '2sz7j89r': 0.7139989137649536,\n",
              " 'th559um2': 0.7135181427001953,\n",
              " '7begc9nz': 0.7134731411933899,\n",
              " '2kbi9drl': 0.7127944231033325,\n",
              " 'mg9hofte': 0.7121061086654663,\n",
              " 'wi3s53nn': 0.7120038270950317,\n",
              " '901ghexi': 0.7116744518280029,\n",
              " 'm2d0m5oi': 0.7115161418914795,\n",
              " '87uhx3pt': 0.7113984227180481,\n",
              " '75vvix5o': 0.7106395959854126,\n",
              " 'cyjfljoa': 0.7105307579040527,\n",
              " '90yiky0n': 0.7098894715309143,\n",
              " 'k1csyjmo': 0.7093611359596252,\n",
              " '31fnbch7': 0.7090829014778137,\n",
              " 'wgo4pml6': 0.7090805768966675,\n",
              " 'bxbfmyx8': 0.7089517116546631,\n",
              " '6af1cf8s': 0.7085811495780945,\n",
              " '4iznx549': 0.7069854736328125,\n",
              " 'ahnog9xv': 0.7067066431045532,\n",
              " '4zb3dfja': 0.7063543796539307,\n",
              " 'hekzjb3f': 0.7063040733337402,\n",
              " 'h0nzsla0': 0.7062124013900757,\n",
              " 'ywnmogiy': 0.7054275870323181,\n",
              " '3lxvu00w': 0.7050915360450745,\n",
              " 'e3xuvqtu': 0.7050519585609436,\n",
              " 'pxf2u68u': 0.7048313617706299,\n",
              " 'ug7xxmz8': 0.7040071487426758,\n",
              " 'vjdwh19x': 0.7035475969314575,\n",
              " '79pkzgz7': 0.7032414674758911,\n",
              " 'iohvj16d': 0.7030276656150818,\n",
              " 'rd6cqdsf': 0.7029393315315247,\n",
              " 'vpxubnkc': 0.7027577757835388,\n",
              " 'c2kecpoc': 0.7006077766418457,\n",
              " 'jljjqs6m': 0.7002132534980774,\n",
              " '8n3ufjbq': 0.6999807357788086,\n",
              " 'h4gi99hn': 0.6998727321624756,\n",
              " 'rh00pi2j': 0.6996737718582153,\n",
              " 'lp89v4ak': 0.6989985108375549,\n",
              " 'un6u1suu': 0.6989985108375549,\n",
              " 'ztojocjz': 0.6986874341964722,\n",
              " 'sgrdyzaz': 0.6982948780059814,\n",
              " '38ky9vdn': 0.6978417038917542,\n",
              " '5vpnmw3f': 0.6968559622764587,\n",
              " 'artp54tn': 0.6966680288314819,\n",
              " '1p1917my': 0.6965018510818481,\n",
              " 'pu42i4kf': 0.6964878439903259,\n",
              " 'ckb5p7gx': 0.6958439946174622,\n",
              " 'pwoe3p1p': 0.6958388686180115,\n",
              " 'o01w28gb': 0.6957741975784302,\n",
              " '212qr1rw': 0.6957610845565796,\n",
              " 'qi9323yl': 0.6955398917198181,\n",
              " '1ttt1fgr': 0.6954923868179321,\n",
              " '47pszpgp': 0.6953362226486206,\n",
              " 'tn76muv6': 0.6949681043624878,\n",
              " '2zkrbjqe': 0.6948526501655579,\n",
              " '41ycjpt9': 0.6945133209228516,\n",
              " 'ol0bj3hs': 0.6945065259933472,\n",
              " 'nlow8b8e': 0.6944583058357239,\n",
              " '30pl5tx3': 0.6942499876022339,\n",
              " '36wo66rl': 0.6941658854484558,\n",
              " 'mnucvmr1': 0.6933553218841553,\n",
              " '09acb1kl': 0.6926194429397583,\n",
              " 'qy9ttbkx': 0.6920360326766968,\n",
              " 'b3ze0726': 0.6919056177139282,\n",
              " 'pb3r74uq': 0.6918008923530579,\n",
              " '18im3npb': 0.6916065216064453,\n",
              " 'w7c64zb8': 0.6914575099945068,\n",
              " 'h2tcrh1q': 0.6911184787750244,\n",
              " '5zb96j4a': 0.6905138492584229,\n",
              " '70g2ve88': 0.6904903650283813,\n",
              " 'b82xhp2w': 0.6904833316802979,\n",
              " '2ftw85xw': 0.6902726888656616,\n",
              " 'zr9g47ai': 0.6901445388793945,\n",
              " '37v59fs8': 0.6898525357246399,\n",
              " 'qq23ebh0': 0.6894683837890625,\n",
              " 'pw4kjry4': 0.6894434094429016,\n",
              " 'x96vp6r4': 0.688991904258728,\n",
              " '2427yjza': 0.6882317066192627,\n",
              " 'lszibfbc': 0.6878488063812256,\n",
              " 'kre0npli': 0.6877342462539673,\n",
              " '2onxj1oe': 0.6875841021537781,\n",
              " 'a4282jtk': 0.6873571872711182,\n",
              " '2tyt8255': 0.6869078874588013,\n",
              " 'hl1eq3eb': 0.6858959197998047,\n",
              " 'w10y5sf9': 0.685307502746582,\n",
              " '1pujz3em': 0.6848925352096558,\n",
              " '9qh7efs4': 0.6846121549606323,\n",
              " '5u41um2o': 0.6845015287399292,\n",
              " '9vn3ww70': 0.6841228008270264,\n",
              " 'q2gwajdj': 0.6830111145973206,\n",
              " '3qqhj81k': 0.6826522350311279,\n",
              " '4iyk76sb': 0.6825622320175171,\n",
              " 'tfx7tx9i': 0.6824817657470703,\n",
              " 'h3ovjqcn': 0.6823995113372803,\n",
              " '9pl7mta8': 0.6821637153625488,\n",
              " 'ug9ueydt': 0.6820943355560303,\n",
              " 'ja2s5cxy': 0.6817586421966553,\n",
              " '12kq1sem': 0.6816644072532654,\n",
              " 'ile2md92': 0.6816400289535522,\n",
              " 'ry7zbp3m': 0.6816360950469971,\n",
              " 'd2t98rli': 0.6812090277671814,\n",
              " 'dn41mqmb': 0.6801100373268127,\n",
              " 'm5brxspf': 0.679975152015686,\n",
              " 'erntrh3p': 0.6798496246337891,\n",
              " 'q4jn5h00': 0.6798288822174072,\n",
              " 'idhr2upe': 0.6795576810836792,\n",
              " 'deee71uw': 0.6792836785316467,\n",
              " 'sy7kgh2a': 0.6792087554931641,\n",
              " 's5oxr6es': 0.6790137887001038,\n",
              " '2zaxn6tq': 0.678775429725647,\n",
              " '2j591gq0': 0.6784908175468445,\n",
              " '2vxnmiyj': 0.6783492565155029,\n",
              " '5w194etz': 0.677868127822876,\n",
              " 'dir0jtyb': 0.67772376537323,\n",
              " 'svu06v9c': 0.6776260733604431,\n",
              " '2d897k8x': 0.6766517162322998,\n",
              " 'k3zj590t': 0.6765552759170532,\n",
              " '02imiypy': 0.6762713193893433,\n",
              " 'jl787req': 0.6758080720901489,\n",
              " '2k1n07on': 0.6757632493972778,\n",
              " 'd4h49d8b': 0.6755290627479553,\n",
              " 'otal8v81': 0.6751183867454529,\n",
              " 'fuh4iyjd': 0.6744421124458313,\n",
              " 'es4pu5ki': 0.6743459701538086,\n",
              " '8gvqgmuv': 0.6741237640380859,\n",
              " 'hyk8kyww': 0.6740643978118896,\n",
              " 'ibnudp1x': 0.6740574836730957,\n",
              " 'as74qa0l': 0.6740238666534424,\n",
              " 'k00y41er': 0.6737074255943298,\n",
              " 'o1uol5u3': 0.6736693382263184,\n",
              " 'yts6sxry': 0.6734760403633118,\n",
              " 'd5mogqrv': 0.6731138825416565,\n",
              " '4qqlrja2': 0.6727390289306641,\n",
              " '6t3jrmr7': 0.6718112230300903,\n",
              " '82gaerf4': 0.6713504791259766,\n",
              " 'hmvo5b0q': 0.6712422370910645,\n",
              " '91qifefq': 0.671007513999939,\n",
              " '0aommdzm': 0.6709994077682495,\n",
              " 'dhrtpo56': 0.6704673171043396,\n",
              " 'pu9l36j9': 0.6703647375106812,\n",
              " 'ivn1qu39': 0.6698989868164062,\n",
              " 'walpfa6r': 0.6696300506591797,\n",
              " 'qfcfm40m': 0.6694856882095337,\n",
              " 'ccxj4s6j': 0.669472336769104,\n",
              " '6rpt47gm': 0.6694544553756714,\n",
              " 'yyfqhufv': 0.6691485643386841,\n",
              " 'b4s6mz76': 0.6690970063209534,\n",
              " '63ihwrpe': 0.6685438752174377,\n",
              " 'shvsnkxd': 0.6683230996131897,\n",
              " 'd8eqifvv': 0.6680647134780884,\n",
              " 'dip71w25': 0.6680561304092407,\n",
              " 'l2wzr3w1': 0.6679189205169678,\n",
              " 'lsse2xvw': 0.6678985357284546,\n",
              " '722hm18k': 0.6677087545394897,\n",
              " 'x3sb1o4u': 0.6675216555595398,\n",
              " '5d7zien3': 0.6674489974975586,\n",
              " 'ft4rbcxf': 0.6673747301101685,\n",
              " 'uiy18hx9': 0.6672956347465515,\n",
              " 'kzoh0i5b': 0.6667073965072632,\n",
              " 'f5scvnpf': 0.6666332483291626,\n",
              " 'sjub0mwv': 0.6662803888320923,\n",
              " 'uom9clgm': 0.6661705374717712,\n",
              " 'q99vhq6n': 0.6660754680633545,\n",
              " '389djar8': 0.6650439500808716,\n",
              " 'juz9jnfk': 0.6647375822067261,\n",
              " '6txh7jgc': 0.6646888256072998,\n",
              " '8r4no840': 0.6646408438682556,\n",
              " 'zjerh3nj': 0.6645296216011047,\n",
              " '68qjl9p0': 0.6634372472763062,\n",
              " 'gf1xexu4': 0.6634372472763062,\n",
              " 'i1wkv6bq': 0.6631437540054321,\n",
              " 'b5287qd4': 0.6630218029022217,\n",
              " '5di8f81x': 0.662794291973114,\n",
              " 'lhd0jn0z': 0.6626941561698914,\n",
              " 'kdsbw4ji': 0.6626790761947632,\n",
              " 'av4mt6rg': 0.6625229120254517,\n",
              " 'e2zyplbi': 0.662351667881012,\n",
              " 'umaxozwk': 0.6622354984283447,\n",
              " '3g8pwbcq': 0.6616785526275635,\n",
              " 'b54dymlu': 0.6616506576538086,\n",
              " 'r7i4oich': 0.6615012884140015,\n",
              " 'xndojxqk': 0.6614141464233398,\n",
              " 'u2th0vgd': 0.6614046692848206,\n",
              " 'mvi1766z': 0.6610511541366577,\n",
              " 'tr7h36i9': 0.6601865291595459,\n",
              " 'wnb4cltt': 0.6600189208984375,\n",
              " 'abrweljg': 0.6591699123382568,\n",
              " '11ycbgsr': 0.6591048240661621,\n",
              " 'xb50599v': 0.6590320467948914,\n",
              " 'aura0th0': 0.6589719653129578,\n",
              " 'j2ybesoy': 0.6589133143424988,\n",
              " 'd2qffjji': 0.6586351990699768,\n",
              " 'rl39377r': 0.6578429937362671,\n",
              " 'zolktlsj': 0.657626748085022,\n",
              " 'n3d130t8': 0.657593846321106,\n",
              " '4mx9t5td': 0.6574792861938477,\n",
              " 'i25su8kc': 0.657279908657074,\n",
              " 'wq89wtwf': 0.6572279930114746,\n",
              " 's4ef9qob': 0.6571135520935059,\n",
              " 'szhmhsdr': 0.6569167971611023,\n",
              " 'ezyu6873': 0.6568551659584045,\n",
              " '8ysfaww2': 0.6568116545677185,\n",
              " '156es9v1': 0.6565766930580139,\n",
              " '44zduv27': 0.6563205718994141,\n",
              " 'ib5c3lbi': 0.6562913060188293,\n",
              " 'ndy59p5p': 0.6562785506248474,\n",
              " '3zy5dgxz': 0.6557645797729492,\n",
              " 'jct2t2br': 0.6557263135910034,\n",
              " '0m5mc320': 0.6556596755981445,\n",
              " 'ai39ny9y': 0.6555203795433044,\n",
              " '8a6flxl6': 0.6554849743843079,\n",
              " 'v9ftmdlv': 0.6552441120147705,\n",
              " 'pux3zuym': 0.6551513671875,\n",
              " '6oql0x2k': 0.6551023721694946,\n",
              " 'ipl6189w': 0.6548111438751221,\n",
              " 'ttzij9mk': 0.6547322273254395,\n",
              " 'ec70qbs6': 0.6543907523155212,\n",
              " 'sk86rbap': 0.654149055480957,\n",
              " '2054tkb7': 0.6533415913581848,\n",
              " 'cetdqgff': 0.6532577872276306,\n",
              " 'd11cj86k': 0.6532487869262695,\n",
              " 'h4vigeuy': 0.6531705856323242,\n",
              " 'r2mwzzaw': 0.6531383991241455,\n",
              " 'wco27nop': 0.6528258323669434,\n",
              " 'ovb7fweb': 0.6524373292922974,\n",
              " 'ckvsn0ah': 0.65224289894104,\n",
              " 'jkmihpt5': 0.6521841287612915,\n",
              " 'bz3y03y0': 0.6519489288330078,\n",
              " 'ubuetsi3': 0.6519173383712769,\n",
              " 'rsjvuumi': 0.6517584919929504,\n",
              " 'biuoaj0r': 0.6514091491699219,\n",
              " 'nk95dyln': 0.6512676477432251,\n",
              " '1915kvwk': 0.6509506702423096,\n",
              " 'pi90zwv4': 0.6508349180221558,\n",
              " '50njcfe6': 0.6504985094070435,\n",
              " 'biylyqa3': 0.6504592299461365,\n",
              " 'l2xibnaf': 0.6504416465759277,\n",
              " '6f2xb5m7': 0.6501327157020569,\n",
              " 'hnlcwa7m': 0.6500376462936401,\n",
              " 'qgfpb4wn': 0.6498095989227295,\n",
              " 'krgsd5z3': 0.6497827768325806,\n",
              " '8b07s39r': 0.6491982936859131,\n",
              " 'm9fikesi': 0.6488900780677795,\n",
              " 'vq3axp9l': 0.6488046646118164,\n",
              " '8f5m0gej': 0.6486890316009521,\n",
              " 'gd5btv69': 0.648435115814209,\n",
              " 'yz154qjd': 0.6483579277992249,\n",
              " 'icwvm7jp': 0.6481195092201233,\n",
              " 'emecz0gr': 0.6480740308761597,\n",
              " 'unvabosp': 0.6479790210723877,\n",
              " 's5u57av2': 0.6476583480834961,\n",
              " 'z24it9pv': 0.6474645137786865,\n",
              " 'avgxu5ie': 0.6470111608505249,\n",
              " 'ta9g9ceh': 0.6468415260314941,\n",
              " 'cdo1z1tc': 0.6466813087463379,\n",
              " '1vz0gw1w': 0.6465365886688232,\n",
              " 'n6rx4i0q': 0.6465235352516174,\n",
              " '1cv7yvj1': 0.6464916467666626,\n",
              " 'of9wlhga': 0.6457561254501343,\n",
              " 'pab56xyd': 0.6457361578941345,\n",
              " 'o3b5zm5l': 0.6450622081756592,\n",
              " '9v0z2chz': 0.6448734402656555,\n",
              " 'd1zz67c6': 0.6448537707328796,\n",
              " '55dihml5': 0.6448422074317932,\n",
              " 'tfhy8z3i': 0.6444406509399414,\n",
              " 'p2i0ha2u': 0.6443651914596558,\n",
              " 'fqs40ivc': 0.644294261932373,\n",
              " 'd55lz03m': 0.6440005302429199,\n",
              " '69ldtdik': 0.6436246633529663,\n",
              " 'v83dwt6k': 0.6434770822525024,\n",
              " 'n4gece0x': 0.6431430578231812,\n",
              " '41378qru': 0.6427379846572876,\n",
              " 'dylgs50i': 0.642693042755127,\n",
              " '10xry2od': 0.6426886320114136,\n",
              " '7d3akn8u': 0.6422357559204102,\n",
              " 'jsql41zi': 0.6416163444519043,\n",
              " 'zd7smm8r': 0.6414052248001099,\n",
              " '1309xyi4': 0.6413661241531372,\n",
              " '1pnc889f': 0.6413450241088867,\n",
              " 'bfnav9sn': 0.6410675048828125,\n",
              " 'ulvep69h': 0.6407338380813599,\n",
              " 'qw05apnf': 0.6403409242630005,\n",
              " '30j0auua': 0.6402522325515747,\n",
              " '5p0yyrdx': 0.6402456760406494,\n",
              " 'a4jn6gpk': 0.6400117874145508,\n",
              " 'sbw1yn1s': 0.6397644281387329,\n",
              " 'ebalebqq': 0.6397439241409302,\n",
              " 'ver7x3lx': 0.6397295594215393,\n",
              " 'h655mml5': 0.6392486095428467,\n",
              " 'tsbpt2n7': 0.6391903758049011,\n",
              " '9l5ajo4q': 0.6391791105270386,\n",
              " '7u6tdenk': 0.6390177011489868,\n",
              " '9wlgmbit': 0.6390067338943481,\n",
              " 'n5fobgxb': 0.6387937664985657,\n",
              " 'sj84atb0': 0.638228178024292,\n",
              " 'j4ambec5': 0.6381544470787048,\n",
              " '6ck2ntid': 0.6379761695861816,\n",
              " 'g8rsiiy7': 0.6379123330116272,\n",
              " 'amwwj1yl': 0.6378486156463623,\n",
              " 'gqw7yn9n': 0.6377750635147095,\n",
              " '7xgw8smv': 0.6373496055603027,\n",
              " 'ff04vt1d': 0.6371902227401733,\n",
              " 'zcdvql6t': 0.6367838382720947,\n",
              " 'irocv0ke': 0.6367436647415161,\n",
              " 'xsjdy3yz': 0.6364688277244568,\n",
              " 'o7ze1myf': 0.6363257765769958,\n",
              " 'if4w9vg4': 0.6363039612770081,\n",
              " 'ra36nnf5': 0.6357367634773254,\n",
              " 'vmikm3uc': 0.6355059146881104,\n",
              " '2nnlspks': 0.635432243347168,\n",
              " 'ibu02gti': 0.6353252530097961,\n",
              " 'rdh4xi2u': 0.6353005170822144,\n",
              " '8gtnbm1c': 0.6343835592269897,\n",
              " 'bqm6ty79': 0.6340920329093933,\n",
              " '2697ts31': 0.63377845287323,\n",
              " '5cdk0yy3': 0.6337771415710449,\n",
              " 'lhizn92i': 0.6337771415710449,\n",
              " '3vm8kfc4': 0.6337307095527649,\n",
              " 'mhnm4zac': 0.6337272524833679,\n",
              " 's8fvqcel': 0.6336849927902222,\n",
              " '83bicg1e': 0.6335486173629761,\n",
              " '99mhacqa': 0.6333462595939636,\n",
              " '0cr4ejxu': 0.6319749355316162,\n",
              " 'j9525ohh': 0.6318908929824829,\n",
              " 'dz2qftyv': 0.6318589448928833,\n",
              " 'p2ssfz8b': 0.6316015720367432,\n",
              " 's5mxes4r': 0.6315290927886963,\n",
              " 'hlx4gdc6': 0.630730926990509,\n",
              " 'czk65emp': 0.6304991245269775,\n",
              " 'vpptmanx': 0.6304703950881958,\n",
              " 'safr9z37': 0.6302300691604614,\n",
              " 'y8kevej4': 0.6301097869873047,\n",
              " '96zsd27n': 0.6289968490600586,\n",
              " 'vxpley88': 0.6289057731628418,\n",
              " 'voipvfhy': 0.6288219690322876,\n",
              " 'zjz77p8p': 0.62865149974823,\n",
              " 't38qv5py': 0.6284576058387756,\n",
              " 'yeuz775y': 0.6283718943595886,\n",
              " 'lw935rii': 0.6283121109008789,\n",
              " 'm8n2p55z': 0.6279003620147705,\n",
              " 'abj9b0x0': 0.6278409957885742,\n",
              " '7v4v7owe': 0.6277198195457458,\n",
              " '8g27pktv': 0.6273950934410095,\n",
              " '3a18ye1h': 0.6273633241653442,\n",
              " 'nwvm98h6': 0.6272216439247131,\n",
              " '6k5ac3f2': 0.6270583271980286,\n",
              " 'fybo3ltn': 0.625755786895752,\n",
              " 'vpg1sfsk': 0.6254686117172241,\n",
              " 'deajwhx0': 0.6252049207687378,\n",
              " 'kbvy4g7i': 0.6249335408210754,\n",
              " 'w44t68tj': 0.6246848702430725,\n",
              " 'cuw1aowj': 0.6246355772018433,\n",
              " '6bv54unc': 0.6245832443237305,\n",
              " 'v861kk0i': 0.6245326995849609,\n",
              " 'wcnzb3o0': 0.6241629123687744,\n",
              " '329r3m0r': 0.6239494681358337,\n",
              " 'h8ulpqpw': 0.6233194470405579,\n",
              " 'x6gjz5tq': 0.6229548454284668,\n",
              " 'kknu0arx': 0.6227850914001465,\n",
              " 'b1mdapbg': 0.6227438449859619,\n",
              " 'fllqdn4s': 0.6223515272140503,\n",
              " '1ymp63rl': 0.6222469806671143,\n",
              " 'rr7r7ef0': 0.6219545602798462,\n",
              " 'xqqn1t4e': 0.6217233538627625,\n",
              " '1c47w4q5': 0.6215533018112183,\n",
              " 'nadzy6lm': 0.6209872961044312,\n",
              " 'dqjwcm0i': 0.620922863483429,\n",
              " 'j6jsvg4v': 0.6206538677215576,\n",
              " 'jf9whlu7': 0.6204889416694641,\n",
              " 'sam3usz7': 0.6203469038009644,\n",
              " 'jtbcomd6': 0.6200195550918579,\n",
              " 'dv9m19yk': 0.6196826696395874,\n",
              " 'p74fv0mq': 0.6196474432945251,\n",
              " 'ec8lpgl3': 0.6193859577178955,\n",
              " 'pzf6a26k': 0.6191297769546509,\n",
              " '3sem1q9e': 0.6188466548919678,\n",
              " 'ksog5oj0': 0.6188055276870728,\n",
              " '4e7sypqy': 0.6187195777893066,\n",
              " 'eud0mawv': 0.6184723377227783,\n",
              " '03vy3uaj': 0.6179884672164917,\n",
              " 'nq4uf0wh': 0.6177107095718384,\n",
              " 'snszu48d': 0.617656409740448,\n",
              " '5iyrj07n': 0.6176558136940002,\n",
              " '6d25aq3i': 0.6172152757644653,\n",
              " '9a18h2tr': 0.6171725988388062,\n",
              " '0paafp5j': 0.6165525913238525,\n",
              " 'juvmabdq': 0.6165162324905396,\n",
              " '8klkojpo': 0.6163555383682251,\n",
              " 'cniyembt': 0.6162563562393188,\n",
              " 'wkd1ukok': 0.6159019470214844,\n",
              " 'fpywiwoh': 0.6156700849533081,\n",
              " 'ctp55tdf': 0.6154296398162842,\n",
              " '6c8f3yhz': 0.6149442195892334,\n",
              " 'xqmw84dz': 0.6145771741867065,\n",
              " 'qrqb7722': 0.6142511367797852,\n",
              " 'dnla56uh': 0.6139854192733765,\n",
              " 'a5siawrr': 0.613890528678894,\n",
              " 'wfnsibyg': 0.6138666868209839,\n",
              " '26276rpr': 0.6137114763259888,\n",
              " '8ow952d8': 0.6136367321014404,\n",
              " 'z750uxsw': 0.6135891675949097,\n",
              " 'x16659y5': 0.6135857105255127,\n",
              " 'r47de3i5': 0.6132361888885498,\n",
              " '4wly1s1p': 0.6128373146057129,\n",
              " '8patrxld': 0.612737774848938,\n",
              " 'kqj4wwx5': 0.6125943660736084,\n",
              " 'f0zvl51s': 0.6125642657279968,\n",
              " 'ojlrtebu': 0.6120909452438354,\n",
              " '3d9irptg': 0.6119270324707031,\n",
              " 'u7arfoym': 0.6118123531341553,\n",
              " 'crtf3fhk': 0.6117764711380005,\n",
              " 'zbkgabl2': 0.6117623448371887,\n",
              " 'en69xrbc': 0.6116288304328918,\n",
              " '8q8xn87m': 0.6116155385971069,\n",
              " 'hit7rs6q': 0.611107587814331,\n",
              " 'svwtfshi': 0.6108411550521851,\n",
              " '3lipgoz0': 0.6101853847503662,\n",
              " 'x70u9gz6': 0.6101744174957275,\n",
              " 'wfoxck7k': 0.6100049018859863,\n",
              " '105q161g': 0.6098549365997314,\n",
              " '9rhydy8u': 0.6098542213439941,\n",
              " 'pwxprzha': 0.6089768409729004,\n",
              " '7icw3be3': 0.6087497472763062,\n",
              " 'p7drekee': 0.6087384819984436,\n",
              " 'qtx0d5f8': 0.6085942983627319,\n",
              " 'jnyvwnri': 0.6084229946136475,\n",
              " 'kym04u27': 0.6079994440078735,\n",
              " 'mtngelbr': 0.6071092486381531,\n",
              " 'gnaubzah': 0.6069754958152771,\n",
              " 'nacxjt2f': 0.6069544553756714,\n",
              " 'aurhahaq': 0.6065382957458496,\n",
              " 'kxugobwu': 0.6060711145401001,\n",
              " 'tpjxt0w5': 0.6060304641723633,\n",
              " 'u13oge9m': 0.6057998538017273,\n",
              " '6mzv33vv': 0.6057933568954468,\n",
              " 'icituitn': 0.6057256460189819,\n",
              " 'm4ctyt7p': 0.6057231426239014,\n",
              " 'sexx9196': 0.6051567792892456,\n",
              " 'jtulg3sm': 0.6051129102706909,\n",
              " 'b9unqnkb': 0.6050700545310974,\n",
              " 'kh15qvv8': 0.6045863032341003,\n",
              " 'nqca8mio': 0.6042413711547852,\n",
              " '7k24r3p5': 0.6039405465126038,\n",
              " 'deuqg5ud': 0.6039228439331055,\n",
              " 'zbv1ilyx': 0.6038389205932617,\n",
              " 'lj8t52yl': 0.6031056642532349,\n",
              " '2fg8youi': 0.6029060482978821,\n",
              " 'l0jzpxi0': 0.6027876734733582,\n",
              " 'w9yibx5o': 0.6025918126106262,\n",
              " 'lqfzte7w': 0.6022326946258545,\n",
              " '7hw4nzwp': 0.6021642088890076,\n",
              " 'thg4fqi2': 0.6014324426651001,\n",
              " 'o5xoehys': 0.6013162136077881,\n",
              " 'zb01goum': 0.6007697582244873,\n",
              " 'csi7x7w8': 0.6006351709365845,\n",
              " 'qaw99njr': 0.600347638130188,\n",
              " '6yvcl92q': 0.5999228954315186,\n",
              " '4g3wb8qi': 0.5994869470596313,\n",
              " 'zd3niwqc': 0.5988913774490356,\n",
              " '8j41fvyk': 0.5986435413360596,\n",
              " 'hlhhvmtu': 0.5982791781425476,\n",
              " 'rb416bbs': 0.5979911088943481,\n",
              " 'j9b3ob0a': 0.5978406071662903,\n",
              " 'qbbbro55': 0.5975521206855774,\n",
              " 'djzh602y': 0.5973603129386902,\n",
              " 'ek7udwrw': 0.5973370671272278,\n",
              " 'n6jgr1kx': 0.5969940423965454,\n",
              " '5mwhc6q7': 0.5968776941299438,\n",
              " 'hzpbujye': 0.5965588092803955,\n",
              " '6gc7smqf': 0.5965553522109985,\n",
              " 'njg0ln33': 0.5963132381439209,\n",
              " '1ew0p6x7': 0.5959142446517944,\n",
              " '2lxs9laj': 0.5954047441482544,\n",
              " 'fzr8fkzb': 0.594693660736084,\n",
              " '18q23z8l': 0.5944263339042664,\n",
              " '6c4qmxyn': 0.5941922664642334,\n",
              " 'h3czhqtt': 0.5923929810523987,\n",
              " 'sroy543x': 0.5923781394958496,\n",
              " 'qg4xl5w8': 0.5921360850334167,\n",
              " 'me9ie5u7': 0.5916833877563477,\n",
              " 'kv16lxve': 0.5915132761001587,\n",
              " 'o1tx8109': 0.5909209847450256,\n",
              " 'xjr582j3': 0.5902249813079834,\n",
              " '9qlfgkgf': 0.5901088118553162,\n",
              " 'owsoyvyz': 0.5900598168373108,\n",
              " 'ykb23itb': 0.5898575782775879,\n",
              " 'pbj819vk': 0.5897573232650757,\n",
              " '4hcix7d9': 0.589562177658081,\n",
              " '46evycyn': 0.5892318487167358,\n",
              " 'r4c7nldn': 0.5887477993965149,\n",
              " 'fri9zun5': 0.5879724621772766,\n",
              " 'zoud7w1y': 0.587262749671936,\n",
              " 'vb4eyjyu': 0.5872014760971069,\n",
              " 'hoxc6nvv': 0.5870824456214905,\n",
              " 'hc4856bf': 0.5863965749740601,\n",
              " 'nqf028at': 0.5859165191650391,\n",
              " 'e9dianoi': 0.5851807594299316,\n",
              " 'q2debvsi': 0.5850578546524048,\n",
              " 'kcc3p3ow': 0.5848356485366821,\n",
              " '2jttlljm': 0.5839163064956665,\n",
              " 'qhelk6u6': 0.5831801891326904,\n",
              " 'h2k4utqr': 0.582850456237793,\n",
              " 'cwbshpyx': 0.5822885036468506,\n",
              " 'agchvvx9': 0.5818157196044922,\n",
              " '5j6uu16i': 0.5818126201629639,\n",
              " 'ad6ztoba': 0.5813858509063721,\n",
              " 'dckuhrlf': 0.5811045169830322,\n",
              " '0o61wy6a': 0.5809891819953918,\n",
              " 'plasucbd': 0.5789541602134705,\n",
              " 't8jac8do': 0.5783137083053589,\n",
              " 'hgsckys9': 0.578106164932251,\n",
              " 'ps56vgt4': 0.5777776837348938,\n",
              " 'khfiy0m2': 0.5777237415313721,\n",
              " 'lrlkhr61': 0.5776687264442444,\n",
              " 'eynhsuz8': 0.5769317150115967,\n",
              " 'okrpa7k7': 0.5763109922409058,\n",
              " 'lpy7mh95': 0.5747689008712769,\n",
              " 'p3681yit': 0.5743880271911621,\n",
              " '5fg87lvu': 0.5743716955184937,\n",
              " 'dfqqogqp': 0.5739166736602783,\n",
              " 'ldklj4oz': 0.5735290050506592,\n",
              " '6jiy0b55': 0.5725715160369873,\n",
              " '9i024s08': 0.5721462368965149,\n",
              " 't0mqh9m0': 0.5718597173690796,\n",
              " 'nobvgi6p': 0.5713576078414917,\n",
              " 'knjteq29': 0.5701175928115845,\n",
              " '81c91uu3': 0.5700162053108215,\n",
              " '48wy2iqx': 0.5687865018844604,\n",
              " 'b5efo2fm': 0.5685739517211914,\n",
              " 'utsr0zv7': 0.5685461759567261,\n",
              " 'dt0b87me': 0.5685410499572754,\n",
              " 'gkld00j9': 0.5681046843528748,\n",
              " '1ij25a7u': 0.5673438310623169,\n",
              " 'oiat9mq9': 0.5671520233154297,\n",
              " 'y883anmp': 0.5671232342720032,\n",
              " '5mnmh84s': 0.5669592618942261,\n",
              " 'ayzxt7gd': 0.5668845772743225,\n",
              " 'fraczoxu': 0.5667874813079834,\n",
              " 'b4kzgubs': 0.566577672958374,\n",
              " 'p6o7s9cs': 0.5660881400108337,\n",
              " 'khwzdi79': 0.565037190914154,\n",
              " 'v2syspu6': 0.564970076084137,\n",
              " 'd3gdq69k': 0.5640429258346558,\n",
              " '87xzuqvr': 0.5629539489746094,\n",
              " 'izztrixl': 0.562645435333252,\n",
              " '1u5vphkc': 0.5619687438011169,\n",
              " '9vx482kb': 0.5613608360290527,\n",
              " 'gsoxaso9': 0.5613457560539246,\n",
              " 'q6qad9nv': 0.5609990358352661,\n",
              " 'ifu4fvwh': 0.5609283447265625,\n",
              " 'rn3qt4v2': 0.5594936609268188,\n",
              " 'rvg5elrc': 0.5592641830444336,\n",
              " '9pmix2zq': 0.5591380596160889,\n",
              " 'wz8f8k82': 0.5556869506835938,\n",
              " '6u7dpl4w': 0.5556442737579346,\n",
              " '5iwgebvp': 0.5548923015594482,\n",
              " 'w1ajq5ku': 0.5548144578933716,\n",
              " 'w29z2d1n': 0.5545777082443237,\n",
              " 'jibgnn78': 0.5535167455673218,\n",
              " 'j0qperwz': 0.5530084371566772,\n",
              " '1mjaycee': 0.5529958009719849,\n",
              " 'bgtl85mq': 0.5527423620223999,\n",
              " 'tatxh0h8': 0.5522232055664062,\n",
              " 'wehyny8n': 0.5521425008773804,\n",
              " 'hdse98ct': 0.5518652200698853,\n",
              " 'kwpj3sbh': 0.5518365502357483,\n",
              " '3emzk5by': 0.5505554676055908,\n",
              " '93x4yzj4': 0.5503400564193726,\n",
              " 'bbnbnwte': 0.5502028465270996,\n",
              " 'jsyao6qu': 0.5491698980331421,\n",
              " '471z07ac': 0.5485279560089111,\n",
              " '950x4b9a': 0.5484681129455566,\n",
              " '8np2l3x7': 0.5478451251983643,\n",
              " 'r48tp5py': 0.5473228096961975,\n",
              " '90aguztr': 0.5465983748435974,\n",
              " 'poegk6gq': 0.5452960729598999,\n",
              " 'w4x4falm': 0.5449999570846558,\n",
              " 'zdylqq7r': 0.5446101427078247,\n",
              " '1v5o4as8': 0.5445685982704163,\n",
              " 'im5lqh6d': 0.5430047512054443,\n",
              " '8dv8n3ea': 0.5427753925323486,\n",
              " 'ljllvlrd': 0.5410650968551636,\n",
              " 'jowrpwbs': 0.5405774712562561,\n",
              " 'qsb3oxpi': 0.5399793386459351,\n",
              " 'go442ycb': 0.5394728183746338,\n",
              " 'k9lcpjyo': 0.5384642481803894,\n",
              " 'pak88hae': 0.5370197296142578,\n",
              " 'xv99lyjz': 0.5366073250770569,\n",
              " 'xw244riy': 0.5361562967300415,\n",
              " '9eo0leey': 0.5361124277114868,\n",
              " 'gpz76nrw': 0.5354148149490356,\n",
              " '8wpccy2y': 0.5353844165802002,\n",
              " 'jxbk30gh': 0.5353191494941711,\n",
              " 'hqgo080p': 0.5349401831626892,\n",
              " 'mmlqe2pl': 0.531825602054596,\n",
              " 'ew9ghz53': 0.5317972898483276,\n",
              " 'xot2oj2t': 0.531794548034668,\n",
              " '3aam2j5z': 0.5310027599334717,\n",
              " 't5nxk1qd': 0.5303711891174316,\n",
              " 'qpcvxwti': 0.5287416577339172,\n",
              " 'ofuzk4by': 0.5284500122070312,\n",
              " 'ig94w95r': 0.528278648853302,\n",
              " 'm8lrc4c0': 0.5281537771224976,\n",
              " '6xcctafe': 0.5280911922454834,\n",
              " '02say5f1': 0.5280377864837646,\n",
              " 'iiehkv27': 0.5262407064437866,\n",
              " 'o3b2yvbs': 0.5262101292610168,\n",
              " 'c6yrtwq9': 0.5252218246459961,\n",
              " '9jbuynvv': 0.5240564942359924,\n",
              " 'zqer9w9t': 0.5239969491958618,\n",
              " 'h2cm3cge': 0.5239466428756714,\n",
              " 'jwmrgy5d': 0.5236428380012512,\n",
              " 'z14rf85c': 0.5236401557922363,\n",
              " 'ogmwu360': 0.5230474472045898,\n",
              " 'avbl3lfx': 0.5227714776992798,\n",
              " 'jxxcvbna': 0.5214376449584961,\n",
              " 'rpwgheot': 0.521111011505127,\n",
              " '8dsmw464': 0.521105170249939,\n",
              " '3fk7ipx1': 0.5210723876953125,\n",
              " 'hwff635n': 0.5207327604293823,\n",
              " 'lj5tmmye': 0.5192146897315979,\n",
              " 'ete5n5pw': 0.5175067186355591,\n",
              " '1a1ryj8b': 0.5173465609550476,\n",
              " '8ckff3oz': 0.5165802240371704,\n",
              " 'm6eal7lu': 0.5159621238708496,\n",
              " '2pcc8dmt': 0.5158920288085938,\n",
              " '95o2v09d': 0.5157878398895264,\n",
              " 'tmfcjqmr': 0.5153979063034058,\n",
              " 'e6k1bp9n': 0.5151661038398743,\n",
              " '4pij0x9q': 0.5149356722831726,\n",
              " 'tsd6sjcx': 0.5146651864051819,\n",
              " 'hcla915y': 0.5140705704689026,\n",
              " 'aei1zpim': 0.513759195804596,\n",
              " 'r2ynbnxx': 0.5113075971603394,\n",
              " 'ne1qvf5g': 0.511028528213501,\n",
              " 'sgw0iaz4': 0.5108298063278198,\n",
              " 'cgvj10r2': 0.5100985169410706,\n",
              " 'wa0hfz34': 0.5100305676460266,\n",
              " '3hmsknon': 0.5094156861305237,\n",
              " 'jwrheaph': 0.5087887644767761,\n",
              " 'dbclnrwr': 0.5082757472991943,\n",
              " 'xyamzl4w': 0.5082274079322815,\n",
              " 'zpb9jicw': 0.5073803663253784,\n",
              " 'nvofyg16': 0.5053625106811523,\n",
              " 'vllhhi1k': 0.5040465593338013,\n",
              " '75773gwg': 0.50345379114151,\n",
              " '205ezzqi': 0.5029042959213257,\n",
              " 'wyln1jpr': 0.4998205304145813,\n",
              " '0wm6u10a': 0.4994695484638214,\n",
              " 'xuczplaf': 0.49892789125442505,\n",
              " 'p8aztarb': 0.4988842010498047,\n",
              " '18xs6375': 0.4988676607608795,\n",
              " 'jox35yg1': 0.49844858050346375,\n",
              " 'wmfcey6f': 0.49826177954673767,\n",
              " 'zt9mxom1': 0.49755895137786865,\n",
              " 'p5eq1wxi': 0.4965440630912781,\n",
              " '9bg3t8rx': 0.4948119819164276,\n",
              " 'tm9jb7bq': 0.4934377670288086,\n",
              " '1z9ncjqc': 0.49338990449905396,\n",
              " 'dbhfnvi2': 0.4923780560493469,\n",
              " 'tupom7fb': 0.4903866648674011,\n",
              " 'bazmtjtj': 0.48804426193237305,\n",
              " 'uznmbvom': 0.4880104064941406,\n",
              " 'lbpve38s': 0.4862392544746399,\n",
              " 'v99vlnox': 0.48476511240005493,\n",
              " 'xhsquecy': 0.4847277104854584,\n",
              " 'sh7lrdou': 0.48254936933517456,\n",
              " 'e6h1qvdk': 0.48146313428878784,\n",
              " 'z9hifitw': 0.4806821048259735,\n",
              " 't83qg5lu': 0.4806581437587738,\n",
              " 'tmbpijna': 0.47810906171798706,\n",
              " 'su6mewbn': 0.4777335524559021,\n",
              " 'u4di2tk7': 0.477642685174942,\n",
              " 'x82yaoxc': 0.47709253430366516,\n",
              " 'lq7z12k8': 0.47565507888793945,\n",
              " 'eitnkdi9': 0.47488418221473694,\n",
              " 'mk3ley2o': 0.47408899664878845,\n",
              " '9nt8l9da': 0.4726606607437134,\n",
              " 'y0hxtfwx': 0.4717505872249603,\n",
              " '3ll2tlzr': 0.4691573679447174,\n",
              " 'bo32mdh7': 0.46845030784606934,\n",
              " '0nuped0d': 0.4663662612438202,\n",
              " 'fk60pph3': 0.4652710258960724,\n",
              " 'xp5lvnbp': 0.46447187662124634,\n",
              " 'si37zgkl': 0.4629806876182556,\n",
              " 'wim5q9a5': 0.4629041850566864,\n",
              " 'ldoqyqlg': 0.4619804620742798,\n",
              " '48483m5b': 0.4607241153717041,\n",
              " '7h9yjkt3': 0.4593833088874817,\n",
              " '1z0kn95v': 0.4592270255088806,\n",
              " 'wtjlqhv4': 0.4582967758178711,\n",
              " '9pdakwmb': 0.45677465200424194,\n",
              " 'jk28r07t': 0.45637571811676025,\n",
              " 'kgifmjvb': 0.4559057056903839,\n",
              " '4qy35wdf': 0.4539185166358948,\n",
              " 'r7o4fupb': 0.45125260949134827,\n",
              " 'vsez7v7v': 0.4497269093990326,\n",
              " 'jt11lksz': 0.44919100403785706,\n",
              " 'u5r2id8i': 0.4445720911026001,\n",
              " '4dtk1kyh': 0.4445635676383972,\n",
              " 'sphk023v': 0.44334840774536133,\n",
              " 'b3vbaedz': 0.4414672553539276,\n",
              " '0fbmelx0': 0.44126468896865845,\n",
              " 'vzmku0vv': 0.44011667370796204,\n",
              " 'salby0fu': 0.43915751576423645,\n",
              " '1o2ynvy3': 0.43096470832824707,\n",
              " '1hwcp09t': 0.4275931715965271,\n",
              " 'bi7hy7pk': 0.41994917392730713,\n",
              " 'mipg4mg7': 0.4193730652332306,\n",
              " 'rvo73h2l': 0.41365745663642883,\n",
              " 'blkhfhe2': 0.41342389583587646,\n",
              " 'wh41wczp': 0.4100613594055176,\n",
              " 'yg4rs07n': 0.4034077823162079,\n",
              " 'u3xm7h56': 0.39137640595436096,\n",
              " 'q9jq9y13': 0.38787010312080383,\n",
              " 'waujy98e': 0.3851752281188965,\n",
              " 'smq8hoi6': 0.3846730887889862,\n",
              " 'sr180ufm': 0.3685271739959717,\n",
              " 'ki7bn67o': 0.3588218092918396,\n",
              " '5hio4lgc': 0.35687515139579773,\n",
              " 'tfp2fw59': 0.3398602604866028,\n",
              " 'qb3xe8to': 0.33563417196273804,\n",
              " '9b6j5lk0': 0.32833030819892883,\n",
              " 'tdvb0fhv': 0.31888243556022644,\n",
              " 'ipdyywbx': 0.31501930952072144,\n",
              " '6mk0txi8': 0.3125211000442505,\n",
              " 'optngtwu': 0.3125211000442505,\n",
              " 'hotn7qha': 0.29547083377838135,\n",
              " 'o72xreym': 0.2831527590751648,\n",
              " '559mkh0z': 0.2490563988685608,\n",
              " 'b9r4cyp7': 0.22185611724853516}"
            ]
          },
          "execution_count": 22,
          "metadata": {},
          "output_type": "execute_result"
        }
      ],
      "source": [
        "%time search(query_texts[0])"
      ]
    },
    {
      "cell_type": "markdown",
      "metadata": {
        "id": "Gw6XUk1OVLl4"
      },
      "source": [
        "### Measuring NDCG@10"
      ]
    },
    {
      "cell_type": "code",
      "execution_count": 13,
      "metadata": {
        "id": "wzr4rJ3kWSBW"
      },
      "outputs": [],
      "source": [
        "\n",
        "import pandas as pd\n",
        "\n",
        "qrel = pd.read_csv(f\"{main_dir}/trec-covid/test.tsv\", sep=\"\\t\", header=None, \n",
        "                   skiprows=1, names=[\"query\", \"docid\", \"rel\"])\n",
        "qrel[\"q0\"] = \"q0\"\n",
        "qrel = qrel.to_dict(orient=\"list\")"
      ]
    },
    {
      "cell_type": "code",
      "execution_count": 14,
      "metadata": {
        "colab": {
          "base_uri": "https://localhost:8080/"
        },
        "id": "ioAKAyTYfg_i",
        "outputId": "7860fcd6-65f0-4403-aa50-7a7a396cf3a7"
      },
      "outputs": [
        {
          "output_type": "execute_result",
          "data": {
            "text/plain": [
              "66336"
            ]
          },
          "metadata": {},
          "execution_count": 14
        }
      ],
      "source": [
        "len(qrel[\"q0\"])"
      ]
    },
    {
      "cell_type": "code",
      "execution_count": null,
      "metadata": {
        "id": "WbC6zjDQVKP8"
      },
      "outputs": [],
      "source": [
        "from collections import defaultdict\n",
        "from tqdm import tqdm\n",
        "\n",
        "def search_all(top_k=1000):\n",
        "  run = defaultdict(list)\n",
        "\n",
        "  for id, query in tqdm(zip(query_ids, query_texts)):\n",
        "    results = search(query)\n",
        "    run[\"query\"] += [id] * top_k\n",
        "    run[\"docid\"] += results.keys()\n",
        "    run[\"score\"] += results.values()\n",
        "    run[\"q0\"] += [\"q0\"] * top_k\n",
        "    run[\"rank\"] += list(range(1,top_k+1))\n",
        "    run[\"system\"] += [model_name] * top_k\n",
        "\n",
        "  return run"
      ]
    },
    {
      "cell_type": "code",
      "execution_count": null,
      "metadata": {
        "colab": {
          "base_uri": "https://localhost:8080/"
        },
        "id": "O7hFyxb2YExa",
        "outputId": "ad72c811-ecae-4662-fa0d-889ca185600e"
      },
      "outputs": [
        {
          "name": "stderr",
          "output_type": "stream",
          "text": [
            "50it [00:11,  4.41it/s]\n"
          ]
        }
      ],
      "source": [
        "run = search_all()"
      ]
    },
    {
      "cell_type": "code",
      "execution_count": null,
      "metadata": {
        "colab": {
          "base_uri": "https://localhost:8080/"
        },
        "id": "UKH8-OgNYtRi",
        "outputId": "c7a84f7e-271b-4c84-d6c5-a2667df6500e"
      },
      "outputs": [
        {
          "data": {
            "text/plain": [
              "50000"
            ]
          },
          "execution_count": 27,
          "metadata": {},
          "output_type": "execute_result"
        }
      ],
      "source": [
        "len(run[\"system\"])"
      ]
    },
    {
      "cell_type": "code",
      "execution_count": 15,
      "metadata": {
        "id": "ANkR4QzgYF-a"
      },
      "outputs": [],
      "source": [
        "\n",
        "from evaluate import load\n",
        "\n",
        "def eval_ndcg10(run):\n",
        "  trec_eval = load(\"trec_eval\")\n",
        "  results = trec_eval.compute(predictions=[run], references=[qrel])\n",
        "  return results['NDCG@10'] "
      ]
    },
    {
      "cell_type": "markdown",
      "metadata": {
        "id": "u_eK4xuIYiYg"
      },
      "source": [
        "Evaluates BM25 NDCG@10."
      ]
    },
    {
      "cell_type": "code",
      "execution_count": null,
      "metadata": {
        "id": "buMr_hDlZE8s"
      },
      "outputs": [],
      "source": [
        "def search_all_bm25(top_k=1000):\n",
        "  run = defaultdict(list)\n",
        "\n",
        "  for id, query in tqdm(zip(query_ids, query_texts)):\n",
        "    bm25_hits = search_with_bm25(query)\n",
        "    ids = [json.loads(bm25_hits[i].raw)['_id'] for i in range(len(bm25_hits))]\n",
        "    run[\"query\"] += [id] * top_k\n",
        "    run[\"docid\"] += ids\n",
        "    run[\"score\"] += [1] * top_k\n",
        "    run[\"q0\"] += [\"q0\"] * top_k\n",
        "    run[\"rank\"] += list(range(1,top_k+1))\n",
        "    run[\"system\"] += [model_name] * top_k\n",
        "\n",
        "  return run\n"
      ]
    },
    {
      "cell_type": "code",
      "execution_count": null,
      "metadata": {
        "colab": {
          "base_uri": "https://localhost:8080/"
        },
        "id": "PeDFUKYsZVi4",
        "outputId": "a82bd948-8e6e-4a70-ab42-beddab26fea3"
      },
      "outputs": [
        {
          "name": "stderr",
          "output_type": "stream",
          "text": [
            "50it [00:09,  5.23it/s]\n"
          ]
        }
      ],
      "source": [
        "run_bm25 = search_all_bm25()"
      ]
    },
    {
      "cell_type": "code",
      "execution_count": null,
      "metadata": {
        "colab": {
          "base_uri": "https://localhost:8080/",
          "height": 170,
          "referenced_widgets": [
            "4e4d2e8aefe3414e853ef8445cb0f759",
            "9f7ee0b7dbc34d7fbb1ad0770193847a",
            "c7dbf01e46d642159b50947f74456923",
            "0ced6f8d169d4163b7616fa473c35828",
            "4118bf708ea24598b41444fbc25df8eb",
            "620853433cb4419fad2736524495339c",
            "42a5396f5dc847d98fa297ba327ce08c",
            "e2e640c7b89b4999b773637a6daf4123",
            "89e3a496cc1242a3a1a826cbaeefe90c",
            "480bef993abc41308d3f0db9f516e9ef",
            "ec195997d05b4b389344bfadc4510146"
          ]
        },
        "id": "KHJLDlnbaOGR",
        "outputId": "864771ac-fe18-4f20-9c80-3138fcd21d40"
      },
      "outputs": [
        {
          "data": {
            "application/vnd.jupyter.widget-view+json": {
              "model_id": "4e4d2e8aefe3414e853ef8445cb0f759",
              "version_major": 2,
              "version_minor": 0
            },
            "text/plain": [
              "Downloading builder script:   0%|          | 0.00/5.51k [00:00<?, ?B/s]"
            ]
          },
          "metadata": {},
          "output_type": "display_data"
        },
        {
          "name": "stderr",
          "output_type": "stream",
          "text": [
            "/usr/local/lib/python3.10/dist-packages/trectools/trec_eval.py:679: SettingWithCopyWarning: \n",
            "A value is trying to be set on a copy of a slice from a DataFrame.\n",
            "Try using .loc[row_indexer,col_indexer] = value instead\n",
            "\n",
            "See the caveats in the documentation: https://pandas.pydata.org/pandas-docs/stable/user_guide/indexing.html#returning-a-view-versus-a-copy\n",
            "  topX[label] = topX[\"rel\"] > 0\n"
          ]
        },
        {
          "data": {
            "text/plain": [
              "0.5946917010118077"
            ]
          },
          "execution_count": 31,
          "metadata": {},
          "output_type": "execute_result"
        }
      ],
      "source": [
        "eval_ndcg10(run_bm25)"
      ]
    },
    {
      "cell_type": "code",
      "execution_count": null,
      "metadata": {
        "colab": {
          "base_uri": "https://localhost:8080/"
        },
        "id": "6PhuNE_dYUhE",
        "outputId": "6084da26-7bb1-473c-a95f-5d0c71705712"
      },
      "outputs": [
        {
          "data": {
            "text/plain": [
              "0.2754485142056899"
            ]
          },
          "execution_count": 32,
          "metadata": {},
          "output_type": "execute_result"
        }
      ],
      "source": [
        "eval_ndcg10(run)"
      ]
    },
    {
      "cell_type": "markdown",
      "metadata": {
        "id": "SyX1m4eaeyi_"
      },
      "source": [
        "Conclusion: horrible quality for off-the-shelf usage.  It requiries fine tuning to be used on TREC-COVID."
      ]
    },
    {
      "cell_type": "markdown",
      "metadata": {
        "id": "yYQXlV9Hzx_J"
      },
      "source": [
        "## Pipeline 2: SPLADE"
      ]
    },
    {
      "cell_type": "code",
      "execution_count": 16,
      "metadata": {
        "id": "pDokC1fwvGg3"
      },
      "outputs": [],
      "source": [
        "from transformers import BertTokenizer, BertForMaskedLM, DistilBertTokenizer, DistilBertForMaskedLM\n",
        "from transformers import AutoModelForMaskedLM, AutoTokenizer"
      ]
    },
    {
      "cell_type": "code",
      "execution_count": 17,
      "metadata": {
        "colab": {
          "base_uri": "https://localhost:8080/",
          "height": 209,
          "referenced_widgets": [
            "21f8a51ab9a0463dadd48220445f9262",
            "31217ae3ddb549e6a74c9275c81dcda5",
            "67ce7b7ab90d4b06a5507cbd1f66ccdc",
            "784bbd0551fb4de38ec266ba396418c9",
            "543e8aaa0c0f41e3a30f834af092dda2",
            "dd4b962abeba445bb156ef14f720cbdd",
            "721f967516754e9ba0d2d36981322a16",
            "c256a272fd724d44a9efb3ec2ad1b37e",
            "3396ff9891964f89b7984a4223fbd170",
            "b6b14ec6c2904640a514f7351f157718",
            "3b2788552ba04055867a056927e71689",
            "91b2f8e839e84bfb9d5554ce41b6303c",
            "3683336999774a4e97238392671b916b",
            "17e5d9c779b848cf8e7aa9359478c416",
            "fd478c6626744e85ba4f1a3d65f40ac6",
            "eebab1e65b5d43368c0781dc1e46c96c",
            "b2cf942e31f64b44be8a3706a13df3d7",
            "79b9374066554581bfd8414d04a521ad",
            "f7948f3b0ba849c4a1eaefe41bc2fd49",
            "14900c31ec0c41a6a357a1a4cc94d8a1",
            "f4bfad4ba33449d895d8f25180a92912",
            "14e92ef6796a478b83aa083aad9087ef",
            "930302a16e1a4c75b86b64cd386b2cdb",
            "8349a022882246e68a5a0793da21d881",
            "3a067dc2fd394de39afbce350d22d27f",
            "1c1792cc6fa6406aa13451613afef4d5",
            "99ae2d4a31e34e8fb768045b20b4940d",
            "5bed52869c2447999a82ea695babf613",
            "4fe2ebb726694500834bc310b06d3b2a",
            "d9baa29fbf284985883fcc744f1dd7f6",
            "899330ef131e4ceb968ed49efc4aff50",
            "8d328332957945ab9840b0c9ea4eff4a",
            "3ccff44c09c849eb8ce7b6f48416f008",
            "f4e9b33363d54d61a5a2d5fa6d49144e",
            "9d8ea59d0edb4e3aba7854480792a9ac",
            "05e0a48522a34b14aeaeb87fc6801d26",
            "f5d4134c075a44f08a7169c17f2f4d3f",
            "9880b703fb814208aebea6886640dba1",
            "1daf67fc39404ee5a42e2616b16685a1",
            "9138000ff5fa41d6b77306a3de53ce6c",
            "c0c90d058b3a4ea4a8f03dc844484a17",
            "8655f68494bc48e98d2d344809bcc828",
            "b440897ac83f44f88431653932ff0808",
            "bc243f11d0f14d2d87a5e2f91fe49969",
            "4ba1c1d770ff440492ab1afe7d977195",
            "cf678944f6c447fcab258ed2b47a74c8",
            "6c41d871ad404838af8b641e7abd7417",
            "77211b72c8a84cda8fffea9bc0d0ae10",
            "9250f6c6f9d242aa97dbe86f1d718c62",
            "a03cebd10a7847d7bc660805325f6b7f",
            "c74ee157515649919b57eb6eae52f330",
            "b062ea8539ca4e549c3b8710bc9ef19c",
            "69efdbab54084771980df9a26fdffac4",
            "adc41e0a245e4109849f8db5a1f13935",
            "7a4e7f15f54f41e99d8340f71390d06a",
            "a9c5b26cb7704c3e8bc39ec2355b3396",
            "28ee63366fa048a9b231d230314368bc",
            "3b3f314ee47c472fb00572968c314630",
            "e2281ad28b574b6d9ae87a9a2df9c732",
            "fcfd4bb375c34fd78fe5602104f0d060",
            "d7c947539e144886862f32d5873c2a55",
            "fb94d2c5c9f14e80b7bdf0c6bece511e",
            "561c0941117241e3857358b49535e4ad",
            "9d17bbec426947baaa6e432acca42550",
            "5c4092993266438793636cb57b1f3178",
            "a3dcd2f399d74b2e85cd78f7f2c5d7aa"
          ]
        },
        "id": "DnuCdfuR0Q1i",
        "outputId": "29cb6df5-296c-4e88-fc06-d8db8bbd4574"
      },
      "outputs": [
        {
          "output_type": "display_data",
          "data": {
            "text/plain": [
              "Downloading (…)okenizer_config.json:   0%|          | 0.00/466 [00:00<?, ?B/s]"
            ],
            "application/vnd.jupyter.widget-view+json": {
              "version_major": 2,
              "version_minor": 0,
              "model_id": "21f8a51ab9a0463dadd48220445f9262"
            }
          },
          "metadata": {}
        },
        {
          "output_type": "display_data",
          "data": {
            "text/plain": [
              "Downloading (…)solve/main/vocab.txt:   0%|          | 0.00/232k [00:00<?, ?B/s]"
            ],
            "application/vnd.jupyter.widget-view+json": {
              "version_major": 2,
              "version_minor": 0,
              "model_id": "91b2f8e839e84bfb9d5554ce41b6303c"
            }
          },
          "metadata": {}
        },
        {
          "output_type": "display_data",
          "data": {
            "text/plain": [
              "Downloading (…)/main/tokenizer.json:   0%|          | 0.00/466k [00:00<?, ?B/s]"
            ],
            "application/vnd.jupyter.widget-view+json": {
              "version_major": 2,
              "version_minor": 0,
              "model_id": "930302a16e1a4c75b86b64cd386b2cdb"
            }
          },
          "metadata": {}
        },
        {
          "output_type": "display_data",
          "data": {
            "text/plain": [
              "Downloading (…)cial_tokens_map.json:   0%|          | 0.00/112 [00:00<?, ?B/s]"
            ],
            "application/vnd.jupyter.widget-view+json": {
              "version_major": 2,
              "version_minor": 0,
              "model_id": "f4e9b33363d54d61a5a2d5fa6d49144e"
            }
          },
          "metadata": {}
        },
        {
          "output_type": "display_data",
          "data": {
            "text/plain": [
              "Downloading (…)lve/main/config.json:   0%|          | 0.00/670 [00:00<?, ?B/s]"
            ],
            "application/vnd.jupyter.widget-view+json": {
              "version_major": 2,
              "version_minor": 0,
              "model_id": "4ba1c1d770ff440492ab1afe7d977195"
            }
          },
          "metadata": {}
        },
        {
          "output_type": "display_data",
          "data": {
            "text/plain": [
              "Downloading pytorch_model.bin:   0%|          | 0.00/438M [00:00<?, ?B/s]"
            ],
            "application/vnd.jupyter.widget-view+json": {
              "version_major": 2,
              "version_minor": 0,
              "model_id": "a9c5b26cb7704c3e8bc39ec2355b3396"
            }
          },
          "metadata": {}
        }
      ],
      "source": [
        "model_name_1 = 'naver/splade_v2_distil' \n",
        "model_name_2 = 'naver/splade-cocondenser-selfdistil'\n",
        "model_name_3 = 'naver/splade-cocondenser-ensembledistil' \n",
        "\n",
        "#tokenizer_1 = DistilBertTokenizer.from_pretrained(model_name_1)\n",
        "#model_1 = DistilBertForMaskedLM.from_pretrained(model_name_1)\n",
        "\n",
        "#tokenizer_2 = BertTokenizer.from_pretrained(model_name_2)\n",
        "#model_2 = BertForMaskedLM.from_pretrained(model_name_2)\n",
        "\n",
        "tokenizer_3 = AutoTokenizer.from_pretrained(model_name_3)\n",
        "model_3 = AutoModelForMaskedLM.from_pretrained(model_name_3)"
      ]
    },
    {
      "cell_type": "code",
      "execution_count": 18,
      "metadata": {
        "id": "BLF0gopU1wFh"
      },
      "outputs": [],
      "source": [
        "model = model_3\n",
        "tokenizer = tokenizer_3"
      ]
    },
    {
      "cell_type": "code",
      "execution_count": 19,
      "metadata": {
        "id": "4uRoAXTB-KOc"
      },
      "outputs": [],
      "source": [
        "def vectorize_to_sparse_batch(batch, model=model, remove_special_tokens=True):\n",
        "  model.to(device)\n",
        "  model.eval()\n",
        "  \n",
        "  with torch.no_grad():\n",
        "    output = model(batch['input_ids'].to(device), batch['attention_mask'].to(device))\n",
        "\n",
        "  w_ij = output.logits.to(device)\n",
        "\n",
        "  #Kudos Leandro Carísio\n",
        "  mask_tokens_validos = batch['attention_mask'].to(device)\n",
        "  mask = mask_tokens_validos.unsqueeze(-1).expand(w_ij.size())\n",
        "  \n",
        "  wj = torch.max(torch.log(1 + relu(w_ij*mask)), dim=1)[0]\n",
        "\n",
        "  #According to ChatGPT: In PyTorch, the to_sparse() method is used to convert a \n",
        "  #dense tensor into a sparse tensor.  A dense tensor is a tensor that contains \n",
        "  #all elements, including those with zero values. In contrast, a sparse tensor \n",
        "  #is a tensor that only stores the non-zero elements, along with their indices. \n",
        "  #Sparse tensors are useful when working with large tensors with mostly zero \n",
        "  #values, as they can save memory and computational resources.\n",
        "  return wj.to_sparse()"
      ]
    },
    {
      "cell_type": "code",
      "execution_count": 20,
      "metadata": {
        "id": "citydImK8bGO"
      },
      "outputs": [],
      "source": [
        "import torch\n",
        "from torch.nn.functional import relu\n",
        "import time\n",
        "\n",
        "device = torch.device(\"cuda\" if torch.cuda.is_available() else \"cpu\")\n",
        "\n",
        "def vectorize_to_sparse(text, tokenizer=tokenizer, model=model, remove_special_tokens=False):\n",
        "  # Kudos to Marcos Piau\n",
        "  with torch.autocast(device_type='cuda', dtype=torch.float16, enabled=True):\n",
        "    tokenized_text = tokenizer(text, max_length=max_length, truncation=True, \n",
        "                              return_tensors='pt', \n",
        "                              return_special_tokens_mask=True).to(device)\n",
        "    \n",
        "    model.to(device)\n",
        "    model.eval()\n",
        "    \n",
        "    with torch.no_grad():\n",
        "      output = model(tokenized_text['input_ids'].to(device), \n",
        "                     attention_mask=tokenized_text['attention_mask'].to(device))\n",
        "\n",
        "    w_ij = output.logits[0,:]\n",
        "\n",
        "    mask_tokens_validos = 1 - tokenized_text['special_tokens_mask'].to(device)\n",
        "\n",
        "    #Kudos Leandro Carísio\n",
        "    #1) Removes all dimenstions of size 1 (here, it's the first one)\n",
        "    #2) Adds a 1 dimension to the end (equivalent to transpose, I think)\n",
        "    #3) Replicates (expands) up to the vocabulary size -> 5 X 30k \n",
        "    if remove_special_tokens:\n",
        "      mask = mask_tokens_validos.squeeze().unsqueeze(-1).expand(w_ij.size())\n",
        "    else:\n",
        "      mask = mask_tokens_validos.squeeze().unsqueeze(-1).expand(w_ij.size())\n",
        "      mask = torch.ones(mask.size()).to(device)\n",
        "\n",
        "    wj = torch.max(torch.log(1 + relu(w_ij*mask)), dim=0)[0]\n",
        "\n",
        "  #According to ChatGPT: In PyTorch, the to_sparse() method is used to convert a \n",
        "  #dense tensor into a sparse tensor.  A dense tensor is a tensor that contains \n",
        "  #all elements, including those with zero values. In contrast, a sparse tensor \n",
        "  #is a tensor that only stores the non-zero elements, along with their indices. \n",
        "  #Sparse tensors are useful when working with large tensors with mostly zero \n",
        "  #values, as they can save memory and computational resources.\n",
        "  return wj.to_sparse()"
      ]
    },
    {
      "cell_type": "code",
      "execution_count": 21,
      "metadata": {
        "id": "CLVlQ93a-kwX"
      },
      "outputs": [],
      "source": [
        "import jsonlines\n",
        "\n",
        "passage_ids = []\n",
        "passage_texts = []\n",
        "id_to_text = dict()\n",
        "\n",
        "with jsonlines.open(f\"{main_dir}/trec-covid/corpus.jsonl\") as reader:\n",
        "  for item in reader:\n",
        "    id = item[\"_id\"]\n",
        "    passage_ids.append(id)\n",
        "    text = item[\"title\"] + ' ' + item[\"text\"]\n",
        "    passage_texts.append(text)\n",
        "    id_to_text[id] = text\n",
        "\n",
        "#Sorts the passages by length\n",
        "passage_indices = sorted(range(len(passage_texts)), \n",
        "                         key=lambda k: len(passage_texts[k]))\n",
        "passage_texts = sorted(passage_texts, key=lambda k: len(k))\n",
        "passage_ids = sorted(passage_ids, key=lambda k: len(id_to_text[k]))"
      ]
    },
    {
      "cell_type": "code",
      "execution_count": 22,
      "metadata": {
        "id": "7tJlFJz2-7mc"
      },
      "outputs": [],
      "source": [
        "from torch.utils import data\n",
        "\n",
        "class Dataset(data.Dataset):\n",
        "    def __init__(self, tokenized_texts):\n",
        "        self.tokenized_texts = tokenized_texts\n",
        "    \n",
        "    def __len__(self):\n",
        "        return len(self.tokenized_texts['input_ids'])\n",
        "    \n",
        "    def __getitem__(self, idx):\n",
        "        #return self.tokenized_texts[idx]\n",
        "        return {\n",
        "            'input_ids': self.tokenized_texts['input_ids'][idx],\n",
        "            'attention_mask': self.tokenized_texts['attention_mask'][idx],\n",
        "            'special_tokens_mask': self.tokenized_texts['special_tokens_mask'][idx]\n",
        "        }"
      ]
    },
    {
      "cell_type": "code",
      "execution_count": 23,
      "metadata": {
        "id": "sZ2YPGiX-8Dd"
      },
      "outputs": [],
      "source": [
        "from transformers import BatchEncoding\n",
        "\n",
        "def collate_fn(batch):\n",
        "    return BatchEncoding(tokenizer.pad(batch, return_tensors='pt'))"
      ]
    },
    {
      "cell_type": "code",
      "execution_count": 24,
      "metadata": {
        "id": "-2GsOPUN_OBw"
      },
      "outputs": [],
      "source": [
        "max_length=256\n",
        "batch_size = 32"
      ]
    },
    {
      "cell_type": "code",
      "execution_count": null,
      "metadata": {
        "colab": {
          "base_uri": "https://localhost:8080/"
        },
        "id": "DBrX5YcM--UH",
        "outputId": "be481117-c33a-4594-8da5-c1f547b84362"
      },
      "outputs": [
        {
          "name": "stdout",
          "output_type": "stream",
          "text": [
            "Time spent on tokenization =  30.300974130630493\n"
          ]
        }
      ],
      "source": [
        "import time\n",
        "\n",
        "start = time.time()\n",
        "test_passages_tokenized = tokenizer(passage_texts, max_length=max_length, \n",
        "                                   truncation=True, padding=True, \n",
        "                                   return_special_tokens_mask=True)\n",
        "dataset_passages_test = Dataset(test_passages_tokenized)\n",
        "dataloader_passages_test = data.DataLoader(dataset_passages_test, \n",
        "                                          batch_size=batch_size, shuffle=False, \n",
        "                                          collate_fn=collate_fn)\n",
        "end = time.time()\n",
        "print(\"Time spent on tokenization = \", end - start)"
      ]
    },
    {
      "cell_type": "code",
      "execution_count": null,
      "metadata": {
        "colab": {
          "base_uri": "https://localhost:8080/"
        },
        "id": "4WbyP6mXLb5T",
        "outputId": "a17d4bfb-c382-4dbf-e8c3-df780e0a1994"
      },
      "outputs": [
        {
          "data": {
            "text/plain": [
              "171332"
            ]
          },
          "execution_count": 43,
          "metadata": {},
          "output_type": "execute_result"
        }
      ],
      "source": [
        "len(dataset_passages_test)"
      ]
    },
    {
      "cell_type": "code",
      "execution_count": null,
      "metadata": {
        "id": "PiSghN2d_vVD"
      },
      "outputs": [],
      "source": [
        "import torch\n",
        "from tqdm import tqdm\n",
        "import time\n",
        "\n",
        "def build_docs_matrix(dataloader_passages_test):\n",
        "  start = time.time()\n",
        "\n",
        "  docs_matrix = None\n",
        "\n",
        "  # kudos Marcos Piau\n",
        "  with torch.autocast(device_type=str(device), dtype=torch.float16, enabled=True):\n",
        "    for doc_batch in tqdm(dataloader_passages_test, mininterval=0.5, desc='Test', \n",
        "                                            disable=False):\n",
        "      doc_vector = vectorize_to_sparse_batch(doc_batch, model=model)\n",
        "\n",
        "      if docs_matrix is None:\n",
        "        docs_matrix = doc_vector\n",
        "      else:\n",
        "        docs_matrix = torch.cat((docs_matrix, doc_vector), dim=0)\n",
        "\n",
        "  end = time.time()\n",
        "  print(\"Time spent on matrix building = \", end - start)\n",
        "  return docs_matrix"
      ]
    },
    {
      "cell_type": "code",
      "execution_count": null,
      "metadata": {
        "colab": {
          "base_uri": "https://localhost:8080/"
        },
        "id": "jebSYhb0uJEE",
        "outputId": "c0b2a248-b109-41f4-beae-d99d0133cadd"
      },
      "outputs": [
        {
          "name": "stderr",
          "output_type": "stream",
          "text": [
            "Test:   0%|          | 0/5355 [00:00<?, ?it/s]You're using a BertTokenizerFast tokenizer. Please note that with a fast tokenizer, using the `__call__` method is faster than using a method to encode the text followed by a call to the `pad` method to get a padded encoding.\n",
            "Test: 100%|██████████| 5355/5355 [38:05<00:00,  2.34it/s]"
          ]
        },
        {
          "name": "stdout",
          "output_type": "stream",
          "text": [
            "Time spent on matrix building =  2285.0667567253113\n"
          ]
        },
        {
          "name": "stderr",
          "output_type": "stream",
          "text": [
            "\n"
          ]
        }
      ],
      "source": [
        "docs_matrix = build_docs_matrix(dataloader_passages_test)"
      ]
    },
    {
      "cell_type": "code",
      "execution_count": 25,
      "metadata": {
        "colab": {
          "base_uri": "https://localhost:8080/"
        },
        "id": "VAv4t6SH_GMu",
        "outputId": "1889d1f3-1680-4ef7-d8f2-92d570323060"
      },
      "outputs": [
        {
          "output_type": "stream",
          "name": "stdout",
          "text": [
            "Tue May  9 22:09:11 2023       \n",
            "+-----------------------------------------------------------------------------+\n",
            "| NVIDIA-SMI 525.85.12    Driver Version: 525.85.12    CUDA Version: 12.0     |\n",
            "|-------------------------------+----------------------+----------------------+\n",
            "| GPU  Name        Persistence-M| Bus-Id        Disp.A | Volatile Uncorr. ECC |\n",
            "| Fan  Temp  Perf  Pwr:Usage/Cap|         Memory-Usage | GPU-Util  Compute M. |\n",
            "|                               |                      |               MIG M. |\n",
            "|===============================+======================+======================|\n",
            "|   0  Tesla T4            Off  | 00000000:00:04.0 Off |                    0 |\n",
            "| N/A   48C    P8    12W /  70W |      3MiB / 15360MiB |      0%      Default |\n",
            "|                               |                      |                  N/A |\n",
            "+-------------------------------+----------------------+----------------------+\n",
            "                                                                               \n",
            "+-----------------------------------------------------------------------------+\n",
            "| Processes:                                                                  |\n",
            "|  GPU   GI   CI        PID   Type   Process name                  GPU Memory |\n",
            "|        ID   ID                                                   Usage      |\n",
            "|=============================================================================|\n",
            "|  No running processes found                                                 |\n",
            "+-----------------------------------------------------------------------------+\n"
          ]
        }
      ],
      "source": [
        "!nvidia-smi"
      ]
    },
    {
      "cell_type": "markdown",
      "metadata": {
        "id": "kCABYDthMKQq"
      },
      "source": [
        "### Inverted Index"
      ]
    },
    {
      "cell_type": "code",
      "execution_count": 26,
      "metadata": {
        "id": "VZ-A93emSVZE"
      },
      "outputs": [],
      "source": [
        "import array\n",
        "import pandas as pd\n",
        "from collections import defaultdict\n",
        "from collections import Counter\n",
        "import pickle\n",
        "import os\n",
        "\n",
        "def load_or_build_inverted_index(index_path = f\"{main_dir}/index.pickle\", docs_matrix=None):\n",
        "  if os.path.exists(index_path):\n",
        "    with open(index_path, \"rb\") as f:\n",
        "      print(\"Loading index...\")\n",
        "      index = pickle.load(f)\n",
        "  else:\n",
        "    print(\"Building inverted index...\")\n",
        "    inverted_index = dict()\n",
        "    idx = 0\n",
        "\n",
        "    def process(doc_id, idx):\n",
        "      assert passage_ids[idx] == doc_id\n",
        "      doc_vec = docs_matrix[idx]\n",
        "      doc_vec = doc_vec.coalesce()\n",
        "      indices = doc_vec.indices()[0]\n",
        "      values = doc_vec.values()\n",
        "\n",
        "      for token_id, wj in zip(indices, values):\n",
        "        token_id = token_id.item()\n",
        "        wj = wj.item()\n",
        "        inverted_index.setdefault(\n",
        "            token_id, {\"docs\":array.array(\"L\", []), \n",
        "                       \"wj\":array.array(\"f\", [])})[\"docs\"].append(idx)\n",
        "        inverted_index.setdefault(\n",
        "            token_id, {\"docs\":array.array(\"L\", []), \n",
        "                       \"wj\":array.array(\"f\", [])})[\"wj\"].append(wj)\n",
        "\n",
        "    for i in tqdm(range(docs_matrix.shape[0])):\n",
        "      process(passage_ids[i], i)\n",
        "      \n",
        "    index = {\"inverted_index\": inverted_index}\n",
        "\n",
        "    with open(index_path, \"wb\") as f:\n",
        "      pickle.dump(index, f)\n",
        "\n",
        "  return index"
      ]
    },
    {
      "cell_type": "code",
      "execution_count": 27,
      "metadata": {
        "colab": {
          "base_uri": "https://localhost:8080/"
        },
        "id": "8T0XpRosS4Xq",
        "outputId": "343ab75a-ad6f-48b1-8967-b83b02b65405"
      },
      "outputs": [
        {
          "output_type": "stream",
          "name": "stdout",
          "text": [
            "Loading index...\n",
            "Time spent to build inverted index =  2.5062637329101562\n"
          ]
        }
      ],
      "source": [
        "start = time.time()\n",
        "index = load_or_build_inverted_index()\n",
        "end = time.time()\n",
        "print(\"Time spent to build inverted index = \", end - start)"
      ]
    },
    {
      "cell_type": "code",
      "execution_count": 28,
      "metadata": {
        "id": "x1sNsrTwkWOT"
      },
      "outputs": [],
      "source": [
        "inverted_index = index[\"inverted_index\"]"
      ]
    },
    {
      "cell_type": "code",
      "execution_count": 29,
      "metadata": {
        "colab": {
          "base_uri": "https://localhost:8080/"
        },
        "id": "HxOKvo7vkXzl",
        "outputId": "1412731c-aa67-4ac4-dae9-2e6c08e8128c"
      },
      "outputs": [
        {
          "output_type": "execute_result",
          "data": {
            "text/plain": [
              "26050"
            ]
          },
          "metadata": {},
          "execution_count": 29
        }
      ],
      "source": [
        "len(inverted_index)"
      ]
    },
    {
      "cell_type": "code",
      "execution_count": 30,
      "metadata": {
        "id": "i-eYt0I4Eb7e"
      },
      "outputs": [],
      "source": [
        "def search_by_query_vector_in_inverted_index(inverted_index, query_vec, k, ids=None):\n",
        "  query_vec = query_vec.coalesce()\n",
        "  doc_scores = defaultdict(int) # int (doc_id) -> int (score)\n",
        "  doc_ids = []\n",
        "  indices = query_vec.indices()[0]\n",
        "  values = query_vec.values()\n",
        "\n",
        "  for token_id, wj in zip(indices, values):\n",
        "    token_id = token_id.item()\n",
        "    wj = wj.item()\n",
        "    \n",
        "    if token_id in inverted_index:\n",
        "      doc_ids = inverted_index[token_id][\"docs\"]\n",
        "      wjs = inverted_index[token_id][\"wj\"]\n",
        "\n",
        "      for idx, doc_wj in zip(doc_ids, wjs):\n",
        "        if ids is not None and passage_ids[idx] in ids:\n",
        "          doc_scores[passage_ids[idx]] += wj * doc_wj\n",
        "        elif ids is None:\n",
        "          doc_scores[passage_ids[idx]] += wj * doc_wj\n",
        "        \n",
        "  doc_scores = dict(sorted(doc_scores.items(), key=lambda x:x[1], \n",
        "                           reverse=True)[:k])\n",
        "          \n",
        "  return doc_scores"
      ]
    },
    {
      "cell_type": "code",
      "execution_count": 31,
      "metadata": {
        "id": "v15qnGosVKMZ"
      },
      "outputs": [],
      "source": [
        "k = 1000"
      ]
    },
    {
      "cell_type": "code",
      "execution_count": 32,
      "metadata": {
        "colab": {
          "base_uri": "https://localhost:8080/"
        },
        "id": "yZ8Jh6MIdmbh",
        "outputId": "30c7aaa3-dd38-4de1-fb5c-ee1a12feb468"
      },
      "outputs": [
        {
          "output_type": "execute_result",
          "data": {
            "text/plain": [
              "50"
            ]
          },
          "metadata": {},
          "execution_count": 32
        }
      ],
      "source": [
        "len(query_ids)"
      ]
    },
    {
      "cell_type": "code",
      "execution_count": 33,
      "metadata": {
        "colab": {
          "base_uri": "https://localhost:8080/"
        },
        "id": "l11sMARGTrQn",
        "outputId": "52b238f0-1fab-4463-e4ea-90b6ada0c105"
      },
      "outputs": [
        {
          "output_type": "stream",
          "name": "stdout",
          "text": [
            "Time spent =  56.92146444320679\n",
            "Time spent by query =  1.1384292888641356\n"
          ]
        }
      ],
      "source": [
        "\n",
        "from collections import defaultdict\n",
        "import time\n",
        "\n",
        "run_splade_inv = defaultdict(list)\n",
        "\n",
        "start = time.time()\n",
        "\n",
        "for i, query in zip(query_ids, query_texts):\n",
        "  query_vec = vectorize_to_sparse(query, tokenizer=tokenizer, model=model)\n",
        "  doc_scores = search_by_query_vector_in_inverted_index(inverted_index, query_vec, k)\n",
        "  run_splade_inv[\"query\"] += [i] * k\n",
        "  run_splade_inv[\"docid\"] += doc_scores.keys()\n",
        "  run_splade_inv[\"score\"] += doc_scores.values()\n",
        "  run_splade_inv[\"q0\"] += [\"q0\"] * k\n",
        "  run_splade_inv[\"rank\"] += list(range(1,k+1))\n",
        "  run_splade_inv[\"system\"] += [\"splade\"] * k\n",
        "\n",
        "end = time.time()\n",
        "print(\"Time spent = \", end - start)\n",
        "print(\"Time spent by query = \", (end - start)/len(query_ids))"
      ]
    },
    {
      "cell_type": "code",
      "execution_count": 34,
      "metadata": {
        "colab": {
          "base_uri": "https://localhost:8080/",
          "height": 66,
          "referenced_widgets": [
            "4d439bb49228455e9365865ba004f56a",
            "2e9dbe3ca4d44ceb90821d1f942976d9",
            "4a10d350d5ce40fc8583a489e3697da5",
            "9ae02fcf8e604bd5b0676d300f44e010",
            "ed2bba10f16e44428a7c846e4e4ad71d",
            "4b109436942948bb935dc392ccab1c00",
            "5c2104aec6594a4bb7b90fb18c1fef72",
            "9b62e494b97940c49c5c944030e07133",
            "8efd19c6b2934592bc36c5b8ddfd2cf5",
            "6a95ff1ff81b4af0b08e12a795ab04bf",
            "b33ccd3149e64fb1ac82773b05946ef5"
          ]
        },
        "id": "5suO-f2eTN25",
        "outputId": "26711b17-e1b4-45b7-f288-408efbd72092"
      },
      "outputs": [
        {
          "output_type": "display_data",
          "data": {
            "text/plain": [
              "Downloading builder script:   0%|          | 0.00/5.51k [00:00<?, ?B/s]"
            ],
            "application/vnd.jupyter.widget-view+json": {
              "version_major": 2,
              "version_minor": 0,
              "model_id": "4d439bb49228455e9365865ba004f56a"
            }
          },
          "metadata": {}
        },
        {
          "output_type": "execute_result",
          "data": {
            "text/plain": [
              "0.7268509214947312"
            ]
          },
          "metadata": {},
          "execution_count": 34
        }
      ],
      "source": [
        "eval_ndcg10(run_splade_inv)"
      ]
    },
    {
      "cell_type": "markdown",
      "metadata": {
        "id": "SBxK8SBMBIf6"
      },
      "source": [
        "## 3rd Pipeline: Pyserini BM25 + SPLADE Reranking\n"
      ]
    },
    {
      "cell_type": "markdown",
      "metadata": {
        "id": "NCkNJuHYLHWM"
      },
      "source": [
        "Here, in the SAPLDE step, as we already have a filered list with 1000 documents, we use directly the matrix of documents instead of inverted index.  So we assume BM25 has already used an inverted index."
      ]
    },
    {
      "cell_type": "code",
      "execution_count": 35,
      "metadata": {
        "id": "uJN9X4tqhBkL"
      },
      "outputs": [],
      "source": [
        "k=1000"
      ]
    },
    {
      "cell_type": "code",
      "execution_count": null,
      "metadata": {
        "colab": {
          "base_uri": "https://localhost:8080/"
        },
        "id": "WJiCu66GrzCd",
        "outputId": "3ae6d271-7fc7-4abb-fbff-796ee75f867a"
      },
      "outputs": [
        {
          "data": {
            "text/plain": [
              "tensor(indices=tensor([[     0,      0,      0,  ..., 171331, 171331, 171331],\n",
              "                       [  1037,   1041,   1996,  ...,  29514,  29566,  29610]]),\n",
              "       values=tensor([0.4171, 0.0068, 0.1628,  ..., 0.1091, 0.2448, 0.0680]),\n",
              "       device='cuda:0', size=(171332, 30522), nnz=27975739,\n",
              "       layout=torch.sparse_coo)"
            ]
          },
          "execution_count": 48,
          "metadata": {},
          "output_type": "execute_result"
        }
      ],
      "source": [
        "docs_matrix"
      ]
    },
    {
      "cell_type": "code",
      "execution_count": 36,
      "metadata": {
        "id": "TSmuykc6fBAC"
      },
      "outputs": [],
      "source": [
        "import time\n",
        "\n",
        "def search_bm25_splade(query, top_k=1000, \n",
        "                       index_name='beir-v1.0.0-trec-covid.flat'):\n",
        "  #1st step: searches with BM25\n",
        "  bm25_hits = search_with_bm25(query, k=top_k, index_name=index_name)\n",
        " \n",
        "  if index_name == 'beir-v1.0.0-trec-covid.flat':\n",
        "    ids = [json.loads(bm25_hits[i].raw)['_id'] for i in range(len(bm25_hits))]\n",
        "  else:\n",
        "    ids = [json.loads(bm25_hits[i].raw)['id'] for i in range(len(bm25_hits))]\n",
        "  ids = set(ids)\n",
        "\n",
        "  query_embedding = vectorize_to_sparse(query, tokenizer=tokenizer, model=model)\n",
        "  \n",
        "  doc_scores = search_by_query_vector_in_inverted_index(inverted_index, query_embedding, k, \n",
        "                                                        ids=ids)\n",
        "  \n",
        "  return doc_scores"
      ]
    },
    {
      "cell_type": "code",
      "execution_count": 37,
      "metadata": {
        "colab": {
          "base_uri": "https://localhost:8080/"
        },
        "id": "LxEWqFvmMViV",
        "outputId": "591ae3f1-ba40-4d4e-934e-2f5a13685389"
      },
      "outputs": [
        {
          "output_type": "stream",
          "name": "stdout",
          "text": [
            "Downloading index at https://rgw.cs.uwaterloo.ca/pyserini/indexes/lucene-index.beir-v1.0.0-trec-covid.flat.20221116.505594.tar.gz...\n"
          ]
        },
        {
          "output_type": "stream",
          "name": "stderr",
          "text": [
            "lucene-index.beir-v1.0.0-trec-covid.flat.20221116.505594.tar.gz: 216MB [00:43, 5.20MB/s]                           \n"
          ]
        },
        {
          "output_type": "stream",
          "name": "stdout",
          "text": [
            "Time spent =  74.90346908569336\n",
            "Time spent by query =  1.4980693817138673\n"
          ]
        }
      ],
      "source": [
        "from collections import defaultdict\n",
        "\n",
        "run_bm25_splade = defaultdict(list)\n",
        "\n",
        "start = time.time()\n",
        "\n",
        "for i, query in zip(query_ids, query_texts):\n",
        "  doc_scores = search_bm25_splade(query, k)\n",
        "  n = len(doc_scores)\n",
        "  run_bm25_splade[\"query\"] += [i] * n\n",
        "  run_bm25_splade[\"docid\"] += doc_scores.keys()\n",
        "  run_bm25_splade[\"score\"] += doc_scores.values()\n",
        "  run_bm25_splade[\"q0\"] += [\"q0\"] * n\n",
        "  run_bm25_splade[\"rank\"] += list(range(1,n+1))\n",
        "  run_bm25_splade[\"system\"] += [\"bm25_splade\"] * n\n",
        "\n",
        "end = time.time()\n",
        "print(\"Time spent = \", end - start)\n",
        "print(\"Time spent by query = \", (end - start)/len(query_ids))"
      ]
    },
    {
      "cell_type": "code",
      "execution_count": 38,
      "metadata": {
        "colab": {
          "base_uri": "https://localhost:8080/"
        },
        "id": "t_SRs6jkhFmG",
        "outputId": "92535a29-fef6-460e-d4bc-81377ab25312"
      },
      "outputs": [
        {
          "output_type": "execute_result",
          "data": {
            "text/plain": [
              "0.7419530766303556"
            ]
          },
          "metadata": {},
          "execution_count": 38
        }
      ],
      "source": [
        "eval_ndcg10(run_bm25_splade)"
      ]
    },
    {
      "cell_type": "code",
      "execution_count": 39,
      "metadata": {
        "id": "0_57-rQvdrqr",
        "colab": {
          "base_uri": "https://localhost:8080/"
        },
        "outputId": "a7ccbb82-1415-4264-9759-fff003484c16"
      },
      "outputs": [
        {
          "output_type": "stream",
          "name": "stdout",
          "text": [
            "Time spent =  17.9386088848114\n",
            "Time spent by query =  0.35877217769622805\n"
          ]
        }
      ],
      "source": [
        "from collections import defaultdict\n",
        "\n",
        "run_bm25_splade = defaultdict(list)\n",
        "\n",
        "start = time.time()\n",
        "\n",
        "for i, query in zip(query_ids, query_texts):\n",
        "  doc_scores = search_bm25_splade(query, 100)\n",
        "  n = len(doc_scores)\n",
        "  run_bm25_splade[\"query\"] += [i] * n\n",
        "  run_bm25_splade[\"docid\"] += doc_scores.keys()\n",
        "  run_bm25_splade[\"score\"] += doc_scores.values()\n",
        "  run_bm25_splade[\"q0\"] += [\"q0\"] * n\n",
        "  run_bm25_splade[\"rank\"] += list(range(1,n+1))\n",
        "  run_bm25_splade[\"system\"] += [\"bm25_splade\"] * n\n",
        "\n",
        "end = time.time()\n",
        "print(\"Time spent = \", end - start)\n",
        "print(\"Time spent by query = \", (end - start)/len(query_ids))"
      ]
    },
    {
      "cell_type": "code",
      "execution_count": 40,
      "metadata": {
        "colab": {
          "base_uri": "https://localhost:8080/"
        },
        "id": "Jmqh7E9HeL6y",
        "outputId": "bf1a8a4e-6599-45dc-d74d-8683978ab00f"
      },
      "outputs": [
        {
          "output_type": "stream",
          "name": "stderr",
          "text": [
            "/usr/local/lib/python3.10/dist-packages/trectools/trec_eval.py:427: FutureWarning: Not prepending group keys to the result index of transform-like apply. In the future, the group keys will be included in the index, regardless of whether the applied function returns a like-indexed object.\n",
            "To preserve the previous behavior, use\n",
            "\n",
            "\t>>> .groupby(..., group_keys=False)\n",
            "\n",
            "To adopt the future behavior and silence this warning, use \n",
            "\n",
            "\t>>> .groupby(..., group_keys=True)\n",
            "  topX = topX.groupby(\"query\").apply(lambda x: x.head(n_relevant_docs.loc[x.name])).reset_index(drop=True)\n"
          ]
        },
        {
          "output_type": "execute_result",
          "data": {
            "text/plain": [
              "0.7402097200290509"
            ]
          },
          "metadata": {},
          "execution_count": 40
        }
      ],
      "source": [
        "eval_ndcg10(run_bm25_splade)"
      ]
    },
    {
      "cell_type": "markdown",
      "metadata": {
        "id": "JsUFtKYgWQeS"
      },
      "source": [
        "## 4th Pipeline: Doc2Query + Pyserini BM25 + SPLADE Reranking"
      ]
    },
    {
      "cell_type": "markdown",
      "metadata": {
        "id": "3HC4ZcNUlIM9"
      },
      "source": [
        "TODOL CALCULAR O CUSTO DE DE GERAÇÃO DO ÍNDICE!"
      ]
    },
    {
      "cell_type": "code",
      "execution_count": 41,
      "metadata": {
        "id": "S53iwgF8s4cB"
      },
      "outputs": [],
      "source": [
        "json_path = '/content/gdrive/MyDrive/Unicamp-aula-6/collections/trec_covid_doc2query-adafactor-bs-32-split-1000-bf16-early-stoping_5_queries_expand_title'"
      ]
    },
    {
      "cell_type": "code",
      "execution_count": 42,
      "metadata": {
        "id": "DtGokc5qk6Uu"
      },
      "outputs": [],
      "source": [
        "index_path = '/content/gdrive/MyDrive/Unicamp-aula-6/expanded_trec_covid_5_queries_expand_title'"
      ]
    },
    {
      "cell_type": "code",
      "execution_count": 43,
      "metadata": {
        "id": "Sqde4lALs8Qy"
      },
      "outputs": [],
      "source": [
        "import jsonlines\n",
        "import os\n",
        "\n",
        "passage_ids = []\n",
        "passage_texts = []\n",
        "id_to_text = dict()\n",
        "\n",
        "for filename in os.listdir(json_path):\n",
        "  if filename.endswith('.json'):  # Check if the file ends with '.json'\n",
        "    with jsonlines.open(json_path + '/' + filename) as reader:\n",
        "      for item in reader:\n",
        "        id = item[\"id\"]\n",
        "        passage_ids.append(id)\n",
        "        text = item[\"contents\"]\n",
        "        passage_texts.append(text)\n",
        "        id_to_text[id] = text\n",
        "\n",
        "#Sorts the passages by length\n",
        "passage_indices = sorted(range(len(passage_texts)), \n",
        "                         key=lambda k: len(passage_texts[k]))\n",
        "passage_texts = sorted(passage_texts, key=lambda k: len(k))\n",
        "passage_ids = sorted(passage_ids, key=lambda k: len(id_to_text[k]))"
      ]
    },
    {
      "cell_type": "code",
      "execution_count": null,
      "metadata": {
        "colab": {
          "base_uri": "https://localhost:8080/"
        },
        "id": "yyAAArq2tyqO",
        "outputId": "f6680590-1053-4f2d-9922-8936f041e45e"
      },
      "outputs": [
        {
          "name": "stdout",
          "output_type": "stream",
          "text": [
            "Time spent on tokenization =  48.85031294822693\n"
          ]
        }
      ],
      "source": [
        "import time\n",
        "\n",
        "start = time.time()\n",
        "test_passages_tokenized = tokenizer(passage_texts, max_length=max_length, \n",
        "                                   truncation=True, padding=True, \n",
        "                                   return_special_tokens_mask=True)\n",
        "dataset_passages_test = Dataset(test_passages_tokenized)\n",
        "dataloader_passages_test = data.DataLoader(dataset_passages_test, \n",
        "                                          batch_size=batch_size, shuffle=False, \n",
        "                                          collate_fn=collate_fn)\n",
        "end = time.time()\n",
        "print(\"Time spent on tokenization = \", end - start)"
      ]
    },
    {
      "cell_type": "code",
      "execution_count": null,
      "metadata": {
        "colab": {
          "base_uri": "https://localhost:8080/"
        },
        "id": "1XgoHozn5XNx",
        "outputId": "8c01438e-b60c-4c3d-a585-6d3c96bb0251"
      },
      "outputs": [
        {
          "data": {
            "text/plain": [
              "171332"
            ]
          },
          "execution_count": 66,
          "metadata": {},
          "output_type": "execute_result"
        }
      ],
      "source": [
        "len(dataset_passages_test)"
      ]
    },
    {
      "cell_type": "code",
      "execution_count": null,
      "metadata": {
        "colab": {
          "base_uri": "https://localhost:8080/"
        },
        "id": "Y-LHT7suuehO",
        "outputId": "204212ce-1729-4637-c15f-e8c2b816b365"
      },
      "outputs": [
        {
          "name": "stderr",
          "output_type": "stream",
          "text": [
            "Test: 100%|██████████| 5355/5355 [38:34<00:00,  2.31it/s]"
          ]
        },
        {
          "name": "stdout",
          "output_type": "stream",
          "text": [
            "Time spent on matrix building =  2314.153545856476\n"
          ]
        },
        {
          "name": "stderr",
          "output_type": "stream",
          "text": [
            "\n"
          ]
        }
      ],
      "source": [
        "docs_matrix = build_docs_matrix(dataloader_passages_test)"
      ]
    },
    {
      "cell_type": "code",
      "execution_count": null,
      "metadata": {
        "colab": {
          "base_uri": "https://localhost:8080/"
        },
        "id": "S3U35zHd41RC",
        "outputId": "6bd702bc-6ae7-43b4-8cb8-b4e727a57e2f"
      },
      "outputs": [
        {
          "data": {
            "text/plain": [
              "torch.Size([171332, 30522])"
            ]
          },
          "execution_count": 68,
          "metadata": {},
          "output_type": "execute_result"
        }
      ],
      "source": [
        "docs_matrix.shape"
      ]
    },
    {
      "cell_type": "code",
      "execution_count": 44,
      "metadata": {
        "colab": {
          "base_uri": "https://localhost:8080/"
        },
        "id": "yrWdouIzoI_t",
        "outputId": "3fcf75c7-9ac8-45c8-a150-8a9a06565fca"
      },
      "outputs": [
        {
          "output_type": "stream",
          "name": "stdout",
          "text": [
            "Loading index...\n",
            "Time spent to build inverted index =  5.728161096572876\n"
          ]
        }
      ],
      "source": [
        "start = time.time()\n",
        "#index = load_or_build_inverted_index(index_path=f\"{main_dir}/index_doc2_query\", docs_matrix=docs_matrix)\n",
        "index_doc2query = load_or_build_inverted_index(index_path=f\"{main_dir}/index_doc2_query\")\n",
        "#index = load_or_build_inverted_index(index_path=f\"{main_dir}/index.pickle\")\n",
        "end = time.time()\n",
        "print(\"Time spent to build inverted index = \", end - start)"
      ]
    },
    {
      "cell_type": "code",
      "execution_count": 45,
      "metadata": {
        "id": "y1FsGzIwtr5b"
      },
      "outputs": [],
      "source": [
        "inverted_index_doc2query = index_doc2query[\"inverted_index\"]"
      ]
    },
    {
      "cell_type": "code",
      "execution_count": 46,
      "metadata": {
        "id": "3wqVVlk-YM5m"
      },
      "outputs": [],
      "source": [
        "import time\n",
        "\n",
        "def search_doc2query_bm25_splade(query, index_name, top_k=1000):\n",
        "  #1st step: searches with BM25\n",
        "  #start = time.time()\n",
        "  bm25_hits = search_with_bm25(query, k=top_k, index_name=index_name)\n",
        "  #end = time.time()\n",
        "  #print(\"Time spent on BM25 = \", end - start)\n",
        " \n",
        "  ids = [json.loads(bm25_hits[i].raw)['id'] for i in range(len(bm25_hits))]\n",
        "  ids = set(ids)\n",
        "\n",
        "  #start = time.time()\n",
        "  query_embedding = vectorize_to_sparse(query, tokenizer=tokenizer, model=model)\n",
        "  #end = time.time()\n",
        "  #print(\"Time spent on query vectorization = \", end - start)\n",
        "  \n",
        "  #start = time.time()\n",
        "  doc_scores = search_by_query_vector_in_inverted_index(inverted_index_doc2query, query_embedding, k, \n",
        "                                                        ids=ids)\n",
        "  #end = time.time()\n",
        "  #print(\"Time spent on search_by_query_vector_in_inverted_index() = \", end - start)\n",
        "  \n",
        "  return doc_scores"
      ]
    },
    {
      "cell_type": "code",
      "execution_count": 47,
      "metadata": {
        "id": "-aoXsW8Ys-ei"
      },
      "outputs": [],
      "source": [
        "k=1000"
      ]
    },
    {
      "cell_type": "code",
      "execution_count": 48,
      "metadata": {
        "colab": {
          "base_uri": "https://localhost:8080/"
        },
        "id": "wYoUSP9kkeIB",
        "outputId": "faef4a09-7c04-4469-ee4f-60df2a685217"
      },
      "outputs": [
        {
          "output_type": "stream",
          "name": "stdout",
          "text": [
            "Time spent =  46.82212018966675\n",
            "Time spent by query =  0.936442403793335\n"
          ]
        }
      ],
      "source": [
        "from collections import defaultdict\n",
        "\n",
        "run_doc2query_bm25_splade = defaultdict(list)\n",
        "\n",
        "start = time.time()\n",
        "\n",
        "for i, query in zip(query_ids, query_texts):\n",
        "  doc_scores = search_doc2query_bm25_splade(query, index_path, k)\n",
        "  n = len(doc_scores)\n",
        "  run_doc2query_bm25_splade[\"query\"] += [i] * n\n",
        "  run_doc2query_bm25_splade[\"docid\"] += doc_scores.keys()\n",
        "  run_doc2query_bm25_splade[\"score\"] += doc_scores.values()\n",
        "  run_doc2query_bm25_splade[\"q0\"] += [\"q0\"] * n\n",
        "  run_doc2query_bm25_splade[\"rank\"] += list(range(1,n+1))\n",
        "  run_doc2query_bm25_splade[\"system\"] += [\"doc2query_bm25_splade\"] * n\n",
        "\n",
        "end = time.time()\n",
        "print(\"Time spent = \", end - start)\n",
        "print(\"Time spent by query = \", (end - start)/len(query_ids))"
      ]
    },
    {
      "cell_type": "code",
      "execution_count": 49,
      "metadata": {
        "colab": {
          "base_uri": "https://localhost:8080/"
        },
        "id": "ch4PRDb_laWH",
        "outputId": "bce69e43-afae-4df4-d0d1-d755e445cf30"
      },
      "outputs": [
        {
          "output_type": "execute_result",
          "data": {
            "text/plain": [
              "0.7415191609765179"
            ]
          },
          "metadata": {},
          "execution_count": 49
        }
      ],
      "source": [
        "eval_ndcg10(run_doc2query_bm25_splade)"
      ]
    },
    {
      "cell_type": "code",
      "execution_count": 50,
      "metadata": {
        "colab": {
          "base_uri": "https://localhost:8080/"
        },
        "id": "wsTqxjZ_ewmh",
        "outputId": "71277b36-8dd8-45d3-f091-a01ae9fbed6b"
      },
      "outputs": [
        {
          "output_type": "stream",
          "name": "stdout",
          "text": [
            "Time spent =  25.06377410888672\n",
            "Time spent by query =  0.5012754821777343\n"
          ]
        }
      ],
      "source": [
        "from collections import defaultdict\n",
        "\n",
        "run_doc2query_bm25_splade = defaultdict(list)\n",
        "\n",
        "start = time.time()\n",
        "\n",
        "for i, query in zip(query_ids, query_texts):\n",
        "  doc_scores = search_doc2query_bm25_splade(query, index_path, 100)\n",
        "  n = len(doc_scores)\n",
        "  run_doc2query_bm25_splade[\"query\"] += [i] * n\n",
        "  run_doc2query_bm25_splade[\"docid\"] += doc_scores.keys()\n",
        "  run_doc2query_bm25_splade[\"score\"] += doc_scores.values()\n",
        "  run_doc2query_bm25_splade[\"q0\"] += [\"q0\"] * n\n",
        "  run_doc2query_bm25_splade[\"rank\"] += list(range(1,n+1))\n",
        "  run_doc2query_bm25_splade[\"system\"] += [\"doc2query_bm25_splade\"] * n\n",
        "\n",
        "end = time.time()\n",
        "print(\"Time spent = \", end - start)\n",
        "print(\"Time spent by query = \", (end - start)/len(query_ids))"
      ]
    },
    {
      "cell_type": "code",
      "execution_count": 51,
      "metadata": {
        "colab": {
          "base_uri": "https://localhost:8080/"
        },
        "id": "F-bcOt0_e0mS",
        "outputId": "fd47a870-ec17-4b89-c0bb-0c02317f5971"
      },
      "outputs": [
        {
          "output_type": "stream",
          "name": "stderr",
          "text": [
            "/usr/local/lib/python3.10/dist-packages/trectools/trec_eval.py:427: FutureWarning: Not prepending group keys to the result index of transform-like apply. In the future, the group keys will be included in the index, regardless of whether the applied function returns a like-indexed object.\n",
            "To preserve the previous behavior, use\n",
            "\n",
            "\t>>> .groupby(..., group_keys=False)\n",
            "\n",
            "To adopt the future behavior and silence this warning, use \n",
            "\n",
            "\t>>> .groupby(..., group_keys=True)\n",
            "  topX = topX.groupby(\"query\").apply(lambda x: x.head(n_relevant_docs.loc[x.name])).reset_index(drop=True)\n"
          ]
        },
        {
          "output_type": "execute_result",
          "data": {
            "text/plain": [
              "0.74427511763663"
            ]
          },
          "metadata": {},
          "execution_count": 51
        }
      ],
      "source": [
        "eval_ndcg10(run_doc2query_bm25_splade)"
      ]
    },
    {
      "cell_type": "code",
      "source": [
        "from collections import defaultdict\n",
        "\n",
        "run_doc2query_bm25_splade = defaultdict(list)\n",
        "\n",
        "start = time.time()\n",
        "\n",
        "for i, query in zip(query_ids, query_texts):\n",
        "  doc_scores = search_doc2query_bm25_splade(query, index_path, 50)\n",
        "  n = len(doc_scores)\n",
        "  run_doc2query_bm25_splade[\"query\"] += [i] * n\n",
        "  run_doc2query_bm25_splade[\"docid\"] += doc_scores.keys()\n",
        "  run_doc2query_bm25_splade[\"score\"] += doc_scores.values()\n",
        "  run_doc2query_bm25_splade[\"q0\"] += [\"q0\"] * n\n",
        "  run_doc2query_bm25_splade[\"rank\"] += list(range(1,n+1))\n",
        "  run_doc2query_bm25_splade[\"system\"] += [\"doc2query_bm25_splade\"] * n\n",
        "\n",
        "end = time.time()\n",
        "print(\"Time spent = \", end - start)\n",
        "print(\"Time spent by query = \", (end - start)/len(query_ids))"
      ],
      "metadata": {
        "colab": {
          "base_uri": "https://localhost:8080/"
        },
        "id": "_Yyv1FfOlf8l",
        "outputId": "15824124-1216-415d-ce1b-b345919c4743"
      },
      "execution_count": 52,
      "outputs": [
        {
          "output_type": "stream",
          "name": "stdout",
          "text": [
            "Time spent =  26.353570461273193\n",
            "Time spent by query =  0.5270714092254639\n"
          ]
        }
      ]
    },
    {
      "cell_type": "code",
      "source": [
        "eval_ndcg10(run_doc2query_bm25_splade)"
      ],
      "metadata": {
        "colab": {
          "base_uri": "https://localhost:8080/"
        },
        "id": "1VVxtRufljjh",
        "outputId": "ec4bf31f-402b-48af-8891-3432c5fc95e7"
      },
      "execution_count": 53,
      "outputs": [
        {
          "output_type": "stream",
          "name": "stderr",
          "text": [
            "/usr/local/lib/python3.10/dist-packages/trectools/trec_eval.py:427: FutureWarning: Not prepending group keys to the result index of transform-like apply. In the future, the group keys will be included in the index, regardless of whether the applied function returns a like-indexed object.\n",
            "To preserve the previous behavior, use\n",
            "\n",
            "\t>>> .groupby(..., group_keys=False)\n",
            "\n",
            "To adopt the future behavior and silence this warning, use \n",
            "\n",
            "\t>>> .groupby(..., group_keys=True)\n",
            "  topX = topX.groupby(\"query\").apply(lambda x: x.head(n_relevant_docs.loc[x.name])).reset_index(drop=True)\n"
          ]
        },
        {
          "output_type": "execute_result",
          "data": {
            "text/plain": [
              "0.7335679960297057"
            ]
          },
          "metadata": {},
          "execution_count": 53
        }
      ]
    },
    {
      "cell_type": "markdown",
      "metadata": {
        "id": "MVM9BCfYgFyR"
      },
      "source": [
        "## 5th Pipeline: Doc2Query + Splade Reranking"
      ]
    },
    {
      "cell_type": "code",
      "execution_count": null,
      "metadata": {
        "id": "RekbUmmBWXVW"
      },
      "outputs": [],
      "source": []
    },
    {
      "cell_type": "code",
      "execution_count": null,
      "metadata": {
        "id": "eDu3cX2_sTG9"
      },
      "outputs": [],
      "source": []
    }
  ],
  "metadata": {
    "accelerator": "GPU",
    "colab": {
      "collapsed_sections": [
        "Hfzi7hH2pkKY",
        "DXnckUxf4-wL",
        "AdoSaFnH5P7p"
      ],
      "machine_shape": "hm",
      "provenance": []
    },
    "gpuClass": "standard",
    "kernelspec": {
      "display_name": "Python 3",
      "name": "python3"
    },
    "language_info": {
      "name": "python"
    },
    "widgets": {
      "application/vnd.jupyter.widget-state+json": {
        "04b7b0b886684fd09376620417512160": {
          "model_module": "@jupyter-widgets/controls",
          "model_module_version": "1.5.0",
          "model_name": "HBoxModel",
          "state": {
            "_dom_classes": [],
            "_model_module": "@jupyter-widgets/controls",
            "_model_module_version": "1.5.0",
            "_model_name": "HBoxModel",
            "_view_count": null,
            "_view_module": "@jupyter-widgets/controls",
            "_view_module_version": "1.5.0",
            "_view_name": "HBoxView",
            "box_style": "",
            "children": [
              "IPY_MODEL_2dc48a09b9e84bbf9d4c56847168f4b5",
              "IPY_MODEL_3cf3d92b06a148d5a5eec05f0bf5306c",
              "IPY_MODEL_1a7c32f8659b40deb47a16c4baf2f229"
            ],
            "layout": "IPY_MODEL_b4fc5bb6d2094c8d8e36b721af9f6bd0"
          }
        },
        "06eddca6d1274bcc9d9a66f3423d4545": {
          "model_module": "@jupyter-widgets/base",
          "model_module_version": "1.2.0",
          "model_name": "LayoutModel",
          "state": {
            "_model_module": "@jupyter-widgets/base",
            "_model_module_version": "1.2.0",
            "_model_name": "LayoutModel",
            "_view_count": null,
            "_view_module": "@jupyter-widgets/base",
            "_view_module_version": "1.2.0",
            "_view_name": "LayoutView",
            "align_content": null,
            "align_items": null,
            "align_self": null,
            "border": null,
            "bottom": null,
            "display": null,
            "flex": null,
            "flex_flow": null,
            "grid_area": null,
            "grid_auto_columns": null,
            "grid_auto_flow": null,
            "grid_auto_rows": null,
            "grid_column": null,
            "grid_gap": null,
            "grid_row": null,
            "grid_template_areas": null,
            "grid_template_columns": null,
            "grid_template_rows": null,
            "height": null,
            "justify_content": null,
            "justify_items": null,
            "left": null,
            "margin": null,
            "max_height": null,
            "max_width": null,
            "min_height": null,
            "min_width": null,
            "object_fit": null,
            "object_position": null,
            "order": null,
            "overflow": null,
            "overflow_x": null,
            "overflow_y": null,
            "padding": null,
            "right": null,
            "top": null,
            "visibility": null,
            "width": null
          }
        },
        "097532cbc18a4cdb80a9d031834a488b": {
          "model_module": "@jupyter-widgets/controls",
          "model_module_version": "1.5.0",
          "model_name": "ProgressStyleModel",
          "state": {
            "_model_module": "@jupyter-widgets/controls",
            "_model_module_version": "1.5.0",
            "_model_name": "ProgressStyleModel",
            "_view_count": null,
            "_view_module": "@jupyter-widgets/base",
            "_view_module_version": "1.2.0",
            "_view_name": "StyleView",
            "bar_color": null,
            "description_width": ""
          }
        },
        "0ced6f8d169d4163b7616fa473c35828": {
          "model_module": "@jupyter-widgets/controls",
          "model_module_version": "1.5.0",
          "model_name": "HTMLModel",
          "state": {
            "_dom_classes": [],
            "_model_module": "@jupyter-widgets/controls",
            "_model_module_version": "1.5.0",
            "_model_name": "HTMLModel",
            "_view_count": null,
            "_view_module": "@jupyter-widgets/controls",
            "_view_module_version": "1.5.0",
            "_view_name": "HTMLView",
            "description": "",
            "description_tooltip": null,
            "layout": "IPY_MODEL_480bef993abc41308d3f0db9f516e9ef",
            "placeholder": "​",
            "style": "IPY_MODEL_ec195997d05b4b389344bfadc4510146",
            "value": " 5.51k/5.51k [00:00&lt;00:00, 374kB/s]"
          }
        },
        "16cedefffddb430399c3b7a40deb5eed": {
          "model_module": "@jupyter-widgets/controls",
          "model_module_version": "1.5.0",
          "model_name": "FloatProgressModel",
          "state": {
            "_dom_classes": [],
            "_model_module": "@jupyter-widgets/controls",
            "_model_module_version": "1.5.0",
            "_model_name": "FloatProgressModel",
            "_view_count": null,
            "_view_module": "@jupyter-widgets/controls",
            "_view_module_version": "1.5.0",
            "_view_name": "ProgressView",
            "bar_style": "success",
            "description": "",
            "description_tooltip": null,
            "layout": "IPY_MODEL_751a924e81e44d95b7fa000a89a452c0",
            "max": 112,
            "min": 0,
            "orientation": "horizontal",
            "style": "IPY_MODEL_4d42d2f2b2fc4582adbe9a5ebdd2f94d",
            "value": 112
          }
        },
        "17a8cb52e176428d829f3e54e391b06f": {
          "model_module": "@jupyter-widgets/base",
          "model_module_version": "1.2.0",
          "model_name": "LayoutModel",
          "state": {
            "_model_module": "@jupyter-widgets/base",
            "_model_module_version": "1.2.0",
            "_model_name": "LayoutModel",
            "_view_count": null,
            "_view_module": "@jupyter-widgets/base",
            "_view_module_version": "1.2.0",
            "_view_name": "LayoutView",
            "align_content": null,
            "align_items": null,
            "align_self": null,
            "border": null,
            "bottom": null,
            "display": null,
            "flex": null,
            "flex_flow": null,
            "grid_area": null,
            "grid_auto_columns": null,
            "grid_auto_flow": null,
            "grid_auto_rows": null,
            "grid_column": null,
            "grid_gap": null,
            "grid_row": null,
            "grid_template_areas": null,
            "grid_template_columns": null,
            "grid_template_rows": null,
            "height": null,
            "justify_content": null,
            "justify_items": null,
            "left": null,
            "margin": null,
            "max_height": null,
            "max_width": null,
            "min_height": null,
            "min_width": null,
            "object_fit": null,
            "object_position": null,
            "order": null,
            "overflow": null,
            "overflow_x": null,
            "overflow_y": null,
            "padding": null,
            "right": null,
            "top": null,
            "visibility": null,
            "width": null
          }
        },
        "195e8d1860d443aea075d7d56add67d6": {
          "model_module": "@jupyter-widgets/controls",
          "model_module_version": "1.5.0",
          "model_name": "HBoxModel",
          "state": {
            "_dom_classes": [],
            "_model_module": "@jupyter-widgets/controls",
            "_model_module_version": "1.5.0",
            "_model_name": "HBoxModel",
            "_view_count": null,
            "_view_module": "@jupyter-widgets/controls",
            "_view_module_version": "1.5.0",
            "_view_name": "HBoxView",
            "box_style": "",
            "children": [
              "IPY_MODEL_60c685730d9144a09b9b5fb601fcf1a6",
              "IPY_MODEL_c59406a5e2e64813beb6f63f9d398084",
              "IPY_MODEL_ff373700e52e401cb37b34a8a3e85b49"
            ],
            "layout": "IPY_MODEL_06eddca6d1274bcc9d9a66f3423d4545"
          }
        },
        "1a7c32f8659b40deb47a16c4baf2f229": {
          "model_module": "@jupyter-widgets/controls",
          "model_module_version": "1.5.0",
          "model_name": "HTMLModel",
          "state": {
            "_dom_classes": [],
            "_model_module": "@jupyter-widgets/controls",
            "_model_module_version": "1.5.0",
            "_model_name": "HTMLModel",
            "_view_count": null,
            "_view_module": "@jupyter-widgets/controls",
            "_view_module_version": "1.5.0",
            "_view_name": "HTMLView",
            "description": "",
            "description_tooltip": null,
            "layout": "IPY_MODEL_2b41795db895451db6da4cd24d48140f",
            "placeholder": "​",
            "style": "IPY_MODEL_61b56b81100f40b7b6fc1f5a5ae25e8b",
            "value": " 736/736 [00:00&lt;00:00, 58.0kB/s]"
          }
        },
        "20fd83ebdc74423bac10d3b7b194572d": {
          "model_module": "@jupyter-widgets/controls",
          "model_module_version": "1.5.0",
          "model_name": "DescriptionStyleModel",
          "state": {
            "_model_module": "@jupyter-widgets/controls",
            "_model_module_version": "1.5.0",
            "_model_name": "DescriptionStyleModel",
            "_view_count": null,
            "_view_module": "@jupyter-widgets/base",
            "_view_module_version": "1.2.0",
            "_view_name": "StyleView",
            "description_width": ""
          }
        },
        "23b78fbc1294412dba64d6383409af72": {
          "model_module": "@jupyter-widgets/base",
          "model_module_version": "1.2.0",
          "model_name": "LayoutModel",
          "state": {
            "_model_module": "@jupyter-widgets/base",
            "_model_module_version": "1.2.0",
            "_model_name": "LayoutModel",
            "_view_count": null,
            "_view_module": "@jupyter-widgets/base",
            "_view_module_version": "1.2.0",
            "_view_name": "LayoutView",
            "align_content": null,
            "align_items": null,
            "align_self": null,
            "border": null,
            "bottom": null,
            "display": null,
            "flex": null,
            "flex_flow": null,
            "grid_area": null,
            "grid_auto_columns": null,
            "grid_auto_flow": null,
            "grid_auto_rows": null,
            "grid_column": null,
            "grid_gap": null,
            "grid_row": null,
            "grid_template_areas": null,
            "grid_template_columns": null,
            "grid_template_rows": null,
            "height": null,
            "justify_content": null,
            "justify_items": null,
            "left": null,
            "margin": null,
            "max_height": null,
            "max_width": null,
            "min_height": null,
            "min_width": null,
            "object_fit": null,
            "object_position": null,
            "order": null,
            "overflow": null,
            "overflow_x": null,
            "overflow_y": null,
            "padding": null,
            "right": null,
            "top": null,
            "visibility": null,
            "width": null
          }
        },
        "241fc051ab48471bb8a571ac38448d01": {
          "model_module": "@jupyter-widgets/controls",
          "model_module_version": "1.5.0",
          "model_name": "HTMLModel",
          "state": {
            "_dom_classes": [],
            "_model_module": "@jupyter-widgets/controls",
            "_model_module_version": "1.5.0",
            "_model_name": "HTMLModel",
            "_view_count": null,
            "_view_module": "@jupyter-widgets/controls",
            "_view_module_version": "1.5.0",
            "_view_name": "HTMLView",
            "description": "",
            "description_tooltip": null,
            "layout": "IPY_MODEL_557a57ad49c04ba4b0941440ad0a6e37",
            "placeholder": "​",
            "style": "IPY_MODEL_fa5e330c39c6438da3eddc8c709bacb3",
            "value": "Downloading (…)10d268af92/README.md: 100%"
          }
        },
        "2468abc800624ab597c7a6e9aa349419": {
          "model_module": "@jupyter-widgets/controls",
          "model_module_version": "1.5.0",
          "model_name": "ProgressStyleModel",
          "state": {
            "_model_module": "@jupyter-widgets/controls",
            "_model_module_version": "1.5.0",
            "_model_name": "ProgressStyleModel",
            "_view_count": null,
            "_view_module": "@jupyter-widgets/base",
            "_view_module_version": "1.2.0",
            "_view_name": "StyleView",
            "bar_color": null,
            "description_width": ""
          }
        },
        "2b41795db895451db6da4cd24d48140f": {
          "model_module": "@jupyter-widgets/base",
          "model_module_version": "1.2.0",
          "model_name": "LayoutModel",
          "state": {
            "_model_module": "@jupyter-widgets/base",
            "_model_module_version": "1.2.0",
            "_model_name": "LayoutModel",
            "_view_count": null,
            "_view_module": "@jupyter-widgets/base",
            "_view_module_version": "1.2.0",
            "_view_name": "LayoutView",
            "align_content": null,
            "align_items": null,
            "align_self": null,
            "border": null,
            "bottom": null,
            "display": null,
            "flex": null,
            "flex_flow": null,
            "grid_area": null,
            "grid_auto_columns": null,
            "grid_auto_flow": null,
            "grid_auto_rows": null,
            "grid_column": null,
            "grid_gap": null,
            "grid_row": null,
            "grid_template_areas": null,
            "grid_template_columns": null,
            "grid_template_rows": null,
            "height": null,
            "justify_content": null,
            "justify_items": null,
            "left": null,
            "margin": null,
            "max_height": null,
            "max_width": null,
            "min_height": null,
            "min_width": null,
            "object_fit": null,
            "object_position": null,
            "order": null,
            "overflow": null,
            "overflow_x": null,
            "overflow_y": null,
            "padding": null,
            "right": null,
            "top": null,
            "visibility": null,
            "width": null
          }
        },
        "2bc49de9bdf04c9cac0ca30d6233955b": {
          "model_module": "@jupyter-widgets/base",
          "model_module_version": "1.2.0",
          "model_name": "LayoutModel",
          "state": {
            "_model_module": "@jupyter-widgets/base",
            "_model_module_version": "1.2.0",
            "_model_name": "LayoutModel",
            "_view_count": null,
            "_view_module": "@jupyter-widgets/base",
            "_view_module_version": "1.2.0",
            "_view_name": "LayoutView",
            "align_content": null,
            "align_items": null,
            "align_self": null,
            "border": null,
            "bottom": null,
            "display": null,
            "flex": null,
            "flex_flow": null,
            "grid_area": null,
            "grid_auto_columns": null,
            "grid_auto_flow": null,
            "grid_auto_rows": null,
            "grid_column": null,
            "grid_gap": null,
            "grid_row": null,
            "grid_template_areas": null,
            "grid_template_columns": null,
            "grid_template_rows": null,
            "height": null,
            "justify_content": null,
            "justify_items": null,
            "left": null,
            "margin": null,
            "max_height": null,
            "max_width": null,
            "min_height": null,
            "min_width": null,
            "object_fit": null,
            "object_position": null,
            "order": null,
            "overflow": null,
            "overflow_x": null,
            "overflow_y": null,
            "padding": null,
            "right": null,
            "top": null,
            "visibility": null,
            "width": null
          }
        },
        "2dc48a09b9e84bbf9d4c56847168f4b5": {
          "model_module": "@jupyter-widgets/controls",
          "model_module_version": "1.5.0",
          "model_name": "HTMLModel",
          "state": {
            "_dom_classes": [],
            "_model_module": "@jupyter-widgets/controls",
            "_model_module_version": "1.5.0",
            "_model_name": "HTMLModel",
            "_view_count": null,
            "_view_module": "@jupyter-widgets/controls",
            "_view_module_version": "1.5.0",
            "_view_name": "HTMLView",
            "description": "",
            "description_tooltip": null,
            "layout": "IPY_MODEL_72193c6dec0f4a6f82842cfba7aaaac0",
            "placeholder": "​",
            "style": "IPY_MODEL_92fa60e8028a4ade9a96867733bdf854",
            "value": "Downloading (…)8af92/.gitattributes: 100%"
          }
        },
        "3541bf8240b041f28986b4abd1b7040b": {
          "model_module": "@jupyter-widgets/base",
          "model_module_version": "1.2.0",
          "model_name": "LayoutModel",
          "state": {
            "_model_module": "@jupyter-widgets/base",
            "_model_module_version": "1.2.0",
            "_model_name": "LayoutModel",
            "_view_count": null,
            "_view_module": "@jupyter-widgets/base",
            "_view_module_version": "1.2.0",
            "_view_name": "LayoutView",
            "align_content": null,
            "align_items": null,
            "align_self": null,
            "border": null,
            "bottom": null,
            "display": null,
            "flex": null,
            "flex_flow": null,
            "grid_area": null,
            "grid_auto_columns": null,
            "grid_auto_flow": null,
            "grid_auto_rows": null,
            "grid_column": null,
            "grid_gap": null,
            "grid_row": null,
            "grid_template_areas": null,
            "grid_template_columns": null,
            "grid_template_rows": null,
            "height": null,
            "justify_content": null,
            "justify_items": null,
            "left": null,
            "margin": null,
            "max_height": null,
            "max_width": null,
            "min_height": null,
            "min_width": null,
            "object_fit": null,
            "object_position": null,
            "order": null,
            "overflow": null,
            "overflow_x": null,
            "overflow_y": null,
            "padding": null,
            "right": null,
            "top": null,
            "visibility": null,
            "width": null
          }
        },
        "3a9ddeaf945645758c883a5a983901b4": {
          "model_module": "@jupyter-widgets/base",
          "model_module_version": "1.2.0",
          "model_name": "LayoutModel",
          "state": {
            "_model_module": "@jupyter-widgets/base",
            "_model_module_version": "1.2.0",
            "_model_name": "LayoutModel",
            "_view_count": null,
            "_view_module": "@jupyter-widgets/base",
            "_view_module_version": "1.2.0",
            "_view_name": "LayoutView",
            "align_content": null,
            "align_items": null,
            "align_self": null,
            "border": null,
            "bottom": null,
            "display": null,
            "flex": null,
            "flex_flow": null,
            "grid_area": null,
            "grid_auto_columns": null,
            "grid_auto_flow": null,
            "grid_auto_rows": null,
            "grid_column": null,
            "grid_gap": null,
            "grid_row": null,
            "grid_template_areas": null,
            "grid_template_columns": null,
            "grid_template_rows": null,
            "height": null,
            "justify_content": null,
            "justify_items": null,
            "left": null,
            "margin": null,
            "max_height": null,
            "max_width": null,
            "min_height": null,
            "min_width": null,
            "object_fit": null,
            "object_position": null,
            "order": null,
            "overflow": null,
            "overflow_x": null,
            "overflow_y": null,
            "padding": null,
            "right": null,
            "top": null,
            "visibility": null,
            "width": null
          }
        },
        "3cf3d92b06a148d5a5eec05f0bf5306c": {
          "model_module": "@jupyter-widgets/controls",
          "model_module_version": "1.5.0",
          "model_name": "FloatProgressModel",
          "state": {
            "_dom_classes": [],
            "_model_module": "@jupyter-widgets/controls",
            "_model_module_version": "1.5.0",
            "_model_name": "FloatProgressModel",
            "_view_count": null,
            "_view_module": "@jupyter-widgets/controls",
            "_view_module_version": "1.5.0",
            "_view_name": "ProgressView",
            "bar_style": "success",
            "description": "",
            "description_tooltip": null,
            "layout": "IPY_MODEL_66fc44e273574e549e4ef60384df9aaa",
            "max": 736,
            "min": 0,
            "orientation": "horizontal",
            "style": "IPY_MODEL_097532cbc18a4cdb80a9d031834a488b",
            "value": 736
          }
        },
        "3e94ea15da8647b386235e8a8766aeb2": {
          "model_module": "@jupyter-widgets/base",
          "model_module_version": "1.2.0",
          "model_name": "LayoutModel",
          "state": {
            "_model_module": "@jupyter-widgets/base",
            "_model_module_version": "1.2.0",
            "_model_name": "LayoutModel",
            "_view_count": null,
            "_view_module": "@jupyter-widgets/base",
            "_view_module_version": "1.2.0",
            "_view_name": "LayoutView",
            "align_content": null,
            "align_items": null,
            "align_self": null,
            "border": null,
            "bottom": null,
            "display": null,
            "flex": null,
            "flex_flow": null,
            "grid_area": null,
            "grid_auto_columns": null,
            "grid_auto_flow": null,
            "grid_auto_rows": null,
            "grid_column": null,
            "grid_gap": null,
            "grid_row": null,
            "grid_template_areas": null,
            "grid_template_columns": null,
            "grid_template_rows": null,
            "height": null,
            "justify_content": null,
            "justify_items": null,
            "left": null,
            "margin": null,
            "max_height": null,
            "max_width": null,
            "min_height": null,
            "min_width": null,
            "object_fit": null,
            "object_position": null,
            "order": null,
            "overflow": null,
            "overflow_x": null,
            "overflow_y": null,
            "padding": null,
            "right": null,
            "top": null,
            "visibility": null,
            "width": null
          }
        },
        "4118bf708ea24598b41444fbc25df8eb": {
          "model_module": "@jupyter-widgets/base",
          "model_module_version": "1.2.0",
          "model_name": "LayoutModel",
          "state": {
            "_model_module": "@jupyter-widgets/base",
            "_model_module_version": "1.2.0",
            "_model_name": "LayoutModel",
            "_view_count": null,
            "_view_module": "@jupyter-widgets/base",
            "_view_module_version": "1.2.0",
            "_view_name": "LayoutView",
            "align_content": null,
            "align_items": null,
            "align_self": null,
            "border": null,
            "bottom": null,
            "display": null,
            "flex": null,
            "flex_flow": null,
            "grid_area": null,
            "grid_auto_columns": null,
            "grid_auto_flow": null,
            "grid_auto_rows": null,
            "grid_column": null,
            "grid_gap": null,
            "grid_row": null,
            "grid_template_areas": null,
            "grid_template_columns": null,
            "grid_template_rows": null,
            "height": null,
            "justify_content": null,
            "justify_items": null,
            "left": null,
            "margin": null,
            "max_height": null,
            "max_width": null,
            "min_height": null,
            "min_width": null,
            "object_fit": null,
            "object_position": null,
            "order": null,
            "overflow": null,
            "overflow_x": null,
            "overflow_y": null,
            "padding": null,
            "right": null,
            "top": null,
            "visibility": null,
            "width": null
          }
        },
        "42a5396f5dc847d98fa297ba327ce08c": {
          "model_module": "@jupyter-widgets/controls",
          "model_module_version": "1.5.0",
          "model_name": "DescriptionStyleModel",
          "state": {
            "_model_module": "@jupyter-widgets/controls",
            "_model_module_version": "1.5.0",
            "_model_name": "DescriptionStyleModel",
            "_view_count": null,
            "_view_module": "@jupyter-widgets/base",
            "_view_module_version": "1.2.0",
            "_view_name": "StyleView",
            "description_width": ""
          }
        },
        "47bb2b8820a041b8bfd592fa1de630e9": {
          "model_module": "@jupyter-widgets/controls",
          "model_module_version": "1.5.0",
          "model_name": "DescriptionStyleModel",
          "state": {
            "_model_module": "@jupyter-widgets/controls",
            "_model_module_version": "1.5.0",
            "_model_name": "DescriptionStyleModel",
            "_view_count": null,
            "_view_module": "@jupyter-widgets/base",
            "_view_module_version": "1.2.0",
            "_view_name": "StyleView",
            "description_width": ""
          }
        },
        "480bef993abc41308d3f0db9f516e9ef": {
          "model_module": "@jupyter-widgets/base",
          "model_module_version": "1.2.0",
          "model_name": "LayoutModel",
          "state": {
            "_model_module": "@jupyter-widgets/base",
            "_model_module_version": "1.2.0",
            "_model_name": "LayoutModel",
            "_view_count": null,
            "_view_module": "@jupyter-widgets/base",
            "_view_module_version": "1.2.0",
            "_view_name": "LayoutView",
            "align_content": null,
            "align_items": null,
            "align_self": null,
            "border": null,
            "bottom": null,
            "display": null,
            "flex": null,
            "flex_flow": null,
            "grid_area": null,
            "grid_auto_columns": null,
            "grid_auto_flow": null,
            "grid_auto_rows": null,
            "grid_column": null,
            "grid_gap": null,
            "grid_row": null,
            "grid_template_areas": null,
            "grid_template_columns": null,
            "grid_template_rows": null,
            "height": null,
            "justify_content": null,
            "justify_items": null,
            "left": null,
            "margin": null,
            "max_height": null,
            "max_width": null,
            "min_height": null,
            "min_width": null,
            "object_fit": null,
            "object_position": null,
            "order": null,
            "overflow": null,
            "overflow_x": null,
            "overflow_y": null,
            "padding": null,
            "right": null,
            "top": null,
            "visibility": null,
            "width": null
          }
        },
        "499aa4ee413f4a29bda0529533044edf": {
          "model_module": "@jupyter-widgets/controls",
          "model_module_version": "1.5.0",
          "model_name": "DescriptionStyleModel",
          "state": {
            "_model_module": "@jupyter-widgets/controls",
            "_model_module_version": "1.5.0",
            "_model_name": "DescriptionStyleModel",
            "_view_count": null,
            "_view_module": "@jupyter-widgets/base",
            "_view_module_version": "1.2.0",
            "_view_name": "StyleView",
            "description_width": ""
          }
        },
        "4d42d2f2b2fc4582adbe9a5ebdd2f94d": {
          "model_module": "@jupyter-widgets/controls",
          "model_module_version": "1.5.0",
          "model_name": "ProgressStyleModel",
          "state": {
            "_model_module": "@jupyter-widgets/controls",
            "_model_module_version": "1.5.0",
            "_model_name": "ProgressStyleModel",
            "_view_count": null,
            "_view_module": "@jupyter-widgets/base",
            "_view_module_version": "1.2.0",
            "_view_name": "StyleView",
            "bar_color": null,
            "description_width": ""
          }
        },
        "4d69fdfc404d4af59daa822130211f57": {
          "model_module": "@jupyter-widgets/base",
          "model_module_version": "1.2.0",
          "model_name": "LayoutModel",
          "state": {
            "_model_module": "@jupyter-widgets/base",
            "_model_module_version": "1.2.0",
            "_model_name": "LayoutModel",
            "_view_count": null,
            "_view_module": "@jupyter-widgets/base",
            "_view_module_version": "1.2.0",
            "_view_name": "LayoutView",
            "align_content": null,
            "align_items": null,
            "align_self": null,
            "border": null,
            "bottom": null,
            "display": null,
            "flex": null,
            "flex_flow": null,
            "grid_area": null,
            "grid_auto_columns": null,
            "grid_auto_flow": null,
            "grid_auto_rows": null,
            "grid_column": null,
            "grid_gap": null,
            "grid_row": null,
            "grid_template_areas": null,
            "grid_template_columns": null,
            "grid_template_rows": null,
            "height": null,
            "justify_content": null,
            "justify_items": null,
            "left": null,
            "margin": null,
            "max_height": null,
            "max_width": null,
            "min_height": null,
            "min_width": null,
            "object_fit": null,
            "object_position": null,
            "order": null,
            "overflow": null,
            "overflow_x": null,
            "overflow_y": null,
            "padding": null,
            "right": null,
            "top": null,
            "visibility": null,
            "width": null
          }
        },
        "4e4d2e8aefe3414e853ef8445cb0f759": {
          "model_module": "@jupyter-widgets/controls",
          "model_module_version": "1.5.0",
          "model_name": "HBoxModel",
          "state": {
            "_dom_classes": [],
            "_model_module": "@jupyter-widgets/controls",
            "_model_module_version": "1.5.0",
            "_model_name": "HBoxModel",
            "_view_count": null,
            "_view_module": "@jupyter-widgets/controls",
            "_view_module_version": "1.5.0",
            "_view_name": "HBoxView",
            "box_style": "",
            "children": [
              "IPY_MODEL_9f7ee0b7dbc34d7fbb1ad0770193847a",
              "IPY_MODEL_c7dbf01e46d642159b50947f74456923",
              "IPY_MODEL_0ced6f8d169d4163b7616fa473c35828"
            ],
            "layout": "IPY_MODEL_4118bf708ea24598b41444fbc25df8eb"
          }
        },
        "557a57ad49c04ba4b0941440ad0a6e37": {
          "model_module": "@jupyter-widgets/base",
          "model_module_version": "1.2.0",
          "model_name": "LayoutModel",
          "state": {
            "_model_module": "@jupyter-widgets/base",
            "_model_module_version": "1.2.0",
            "_model_name": "LayoutModel",
            "_view_count": null,
            "_view_module": "@jupyter-widgets/base",
            "_view_module_version": "1.2.0",
            "_view_name": "LayoutView",
            "align_content": null,
            "align_items": null,
            "align_self": null,
            "border": null,
            "bottom": null,
            "display": null,
            "flex": null,
            "flex_flow": null,
            "grid_area": null,
            "grid_auto_columns": null,
            "grid_auto_flow": null,
            "grid_auto_rows": null,
            "grid_column": null,
            "grid_gap": null,
            "grid_row": null,
            "grid_template_areas": null,
            "grid_template_columns": null,
            "grid_template_rows": null,
            "height": null,
            "justify_content": null,
            "justify_items": null,
            "left": null,
            "margin": null,
            "max_height": null,
            "max_width": null,
            "min_height": null,
            "min_width": null,
            "object_fit": null,
            "object_position": null,
            "order": null,
            "overflow": null,
            "overflow_x": null,
            "overflow_y": null,
            "padding": null,
            "right": null,
            "top": null,
            "visibility": null,
            "width": null
          }
        },
        "57bbe6f76801419daf13bad9e98b5ce1": {
          "model_module": "@jupyter-widgets/base",
          "model_module_version": "1.2.0",
          "model_name": "LayoutModel",
          "state": {
            "_model_module": "@jupyter-widgets/base",
            "_model_module_version": "1.2.0",
            "_model_name": "LayoutModel",
            "_view_count": null,
            "_view_module": "@jupyter-widgets/base",
            "_view_module_version": "1.2.0",
            "_view_name": "LayoutView",
            "align_content": null,
            "align_items": null,
            "align_self": null,
            "border": null,
            "bottom": null,
            "display": null,
            "flex": null,
            "flex_flow": null,
            "grid_area": null,
            "grid_auto_columns": null,
            "grid_auto_flow": null,
            "grid_auto_rows": null,
            "grid_column": null,
            "grid_gap": null,
            "grid_row": null,
            "grid_template_areas": null,
            "grid_template_columns": null,
            "grid_template_rows": null,
            "height": null,
            "justify_content": null,
            "justify_items": null,
            "left": null,
            "margin": null,
            "max_height": null,
            "max_width": null,
            "min_height": null,
            "min_width": null,
            "object_fit": null,
            "object_position": null,
            "order": null,
            "overflow": null,
            "overflow_x": null,
            "overflow_y": null,
            "padding": null,
            "right": null,
            "top": null,
            "visibility": null,
            "width": null
          }
        },
        "5906f7a904834a7daf0210d94fe816d5": {
          "model_module": "@jupyter-widgets/base",
          "model_module_version": "1.2.0",
          "model_name": "LayoutModel",
          "state": {
            "_model_module": "@jupyter-widgets/base",
            "_model_module_version": "1.2.0",
            "_model_name": "LayoutModel",
            "_view_count": null,
            "_view_module": "@jupyter-widgets/base",
            "_view_module_version": "1.2.0",
            "_view_name": "LayoutView",
            "align_content": null,
            "align_items": null,
            "align_self": null,
            "border": null,
            "bottom": null,
            "display": null,
            "flex": null,
            "flex_flow": null,
            "grid_area": null,
            "grid_auto_columns": null,
            "grid_auto_flow": null,
            "grid_auto_rows": null,
            "grid_column": null,
            "grid_gap": null,
            "grid_row": null,
            "grid_template_areas": null,
            "grid_template_columns": null,
            "grid_template_rows": null,
            "height": null,
            "justify_content": null,
            "justify_items": null,
            "left": null,
            "margin": null,
            "max_height": null,
            "max_width": null,
            "min_height": null,
            "min_width": null,
            "object_fit": null,
            "object_position": null,
            "order": null,
            "overflow": null,
            "overflow_x": null,
            "overflow_y": null,
            "padding": null,
            "right": null,
            "top": null,
            "visibility": null,
            "width": null
          }
        },
        "60c685730d9144a09b9b5fb601fcf1a6": {
          "model_module": "@jupyter-widgets/controls",
          "model_module_version": "1.5.0",
          "model_name": "HTMLModel",
          "state": {
            "_dom_classes": [],
            "_model_module": "@jupyter-widgets/controls",
            "_model_module_version": "1.5.0",
            "_model_name": "HTMLModel",
            "_view_count": null,
            "_view_module": "@jupyter-widgets/controls",
            "_view_module_version": "1.5.0",
            "_view_name": "HTMLView",
            "description": "",
            "description_tooltip": null,
            "layout": "IPY_MODEL_23b78fbc1294412dba64d6383409af72",
            "placeholder": "​",
            "style": "IPY_MODEL_79c8e54763f5485b999598320f6f6b81",
            "value": "Downloading (…)10d268af92/vocab.txt: 100%"
          }
        },
        "61b56b81100f40b7b6fc1f5a5ae25e8b": {
          "model_module": "@jupyter-widgets/controls",
          "model_module_version": "1.5.0",
          "model_name": "DescriptionStyleModel",
          "state": {
            "_model_module": "@jupyter-widgets/controls",
            "_model_module_version": "1.5.0",
            "_model_name": "DescriptionStyleModel",
            "_view_count": null,
            "_view_module": "@jupyter-widgets/base",
            "_view_module_version": "1.2.0",
            "_view_name": "StyleView",
            "description_width": ""
          }
        },
        "620853433cb4419fad2736524495339c": {
          "model_module": "@jupyter-widgets/base",
          "model_module_version": "1.2.0",
          "model_name": "LayoutModel",
          "state": {
            "_model_module": "@jupyter-widgets/base",
            "_model_module_version": "1.2.0",
            "_model_name": "LayoutModel",
            "_view_count": null,
            "_view_module": "@jupyter-widgets/base",
            "_view_module_version": "1.2.0",
            "_view_name": "LayoutView",
            "align_content": null,
            "align_items": null,
            "align_self": null,
            "border": null,
            "bottom": null,
            "display": null,
            "flex": null,
            "flex_flow": null,
            "grid_area": null,
            "grid_auto_columns": null,
            "grid_auto_flow": null,
            "grid_auto_rows": null,
            "grid_column": null,
            "grid_gap": null,
            "grid_row": null,
            "grid_template_areas": null,
            "grid_template_columns": null,
            "grid_template_rows": null,
            "height": null,
            "justify_content": null,
            "justify_items": null,
            "left": null,
            "margin": null,
            "max_height": null,
            "max_width": null,
            "min_height": null,
            "min_width": null,
            "object_fit": null,
            "object_position": null,
            "order": null,
            "overflow": null,
            "overflow_x": null,
            "overflow_y": null,
            "padding": null,
            "right": null,
            "top": null,
            "visibility": null,
            "width": null
          }
        },
        "66fc44e273574e549e4ef60384df9aaa": {
          "model_module": "@jupyter-widgets/base",
          "model_module_version": "1.2.0",
          "model_name": "LayoutModel",
          "state": {
            "_model_module": "@jupyter-widgets/base",
            "_model_module_version": "1.2.0",
            "_model_name": "LayoutModel",
            "_view_count": null,
            "_view_module": "@jupyter-widgets/base",
            "_view_module_version": "1.2.0",
            "_view_name": "LayoutView",
            "align_content": null,
            "align_items": null,
            "align_self": null,
            "border": null,
            "bottom": null,
            "display": null,
            "flex": null,
            "flex_flow": null,
            "grid_area": null,
            "grid_auto_columns": null,
            "grid_auto_flow": null,
            "grid_auto_rows": null,
            "grid_column": null,
            "grid_gap": null,
            "grid_row": null,
            "grid_template_areas": null,
            "grid_template_columns": null,
            "grid_template_rows": null,
            "height": null,
            "justify_content": null,
            "justify_items": null,
            "left": null,
            "margin": null,
            "max_height": null,
            "max_width": null,
            "min_height": null,
            "min_width": null,
            "object_fit": null,
            "object_position": null,
            "order": null,
            "overflow": null,
            "overflow_x": null,
            "overflow_y": null,
            "padding": null,
            "right": null,
            "top": null,
            "visibility": null,
            "width": null
          }
        },
        "72193c6dec0f4a6f82842cfba7aaaac0": {
          "model_module": "@jupyter-widgets/base",
          "model_module_version": "1.2.0",
          "model_name": "LayoutModel",
          "state": {
            "_model_module": "@jupyter-widgets/base",
            "_model_module_version": "1.2.0",
            "_model_name": "LayoutModel",
            "_view_count": null,
            "_view_module": "@jupyter-widgets/base",
            "_view_module_version": "1.2.0",
            "_view_name": "LayoutView",
            "align_content": null,
            "align_items": null,
            "align_self": null,
            "border": null,
            "bottom": null,
            "display": null,
            "flex": null,
            "flex_flow": null,
            "grid_area": null,
            "grid_auto_columns": null,
            "grid_auto_flow": null,
            "grid_auto_rows": null,
            "grid_column": null,
            "grid_gap": null,
            "grid_row": null,
            "grid_template_areas": null,
            "grid_template_columns": null,
            "grid_template_rows": null,
            "height": null,
            "justify_content": null,
            "justify_items": null,
            "left": null,
            "margin": null,
            "max_height": null,
            "max_width": null,
            "min_height": null,
            "min_width": null,
            "object_fit": null,
            "object_position": null,
            "order": null,
            "overflow": null,
            "overflow_x": null,
            "overflow_y": null,
            "padding": null,
            "right": null,
            "top": null,
            "visibility": null,
            "width": null
          }
        },
        "74c51eab055745138da3a1094775a0fd": {
          "model_module": "@jupyter-widgets/base",
          "model_module_version": "1.2.0",
          "model_name": "LayoutModel",
          "state": {
            "_model_module": "@jupyter-widgets/base",
            "_model_module_version": "1.2.0",
            "_model_name": "LayoutModel",
            "_view_count": null,
            "_view_module": "@jupyter-widgets/base",
            "_view_module_version": "1.2.0",
            "_view_name": "LayoutView",
            "align_content": null,
            "align_items": null,
            "align_self": null,
            "border": null,
            "bottom": null,
            "display": null,
            "flex": null,
            "flex_flow": null,
            "grid_area": null,
            "grid_auto_columns": null,
            "grid_auto_flow": null,
            "grid_auto_rows": null,
            "grid_column": null,
            "grid_gap": null,
            "grid_row": null,
            "grid_template_areas": null,
            "grid_template_columns": null,
            "grid_template_rows": null,
            "height": null,
            "justify_content": null,
            "justify_items": null,
            "left": null,
            "margin": null,
            "max_height": null,
            "max_width": null,
            "min_height": null,
            "min_width": null,
            "object_fit": null,
            "object_position": null,
            "order": null,
            "overflow": null,
            "overflow_x": null,
            "overflow_y": null,
            "padding": null,
            "right": null,
            "top": null,
            "visibility": null,
            "width": null
          }
        },
        "751a924e81e44d95b7fa000a89a452c0": {
          "model_module": "@jupyter-widgets/base",
          "model_module_version": "1.2.0",
          "model_name": "LayoutModel",
          "state": {
            "_model_module": "@jupyter-widgets/base",
            "_model_module_version": "1.2.0",
            "_model_name": "LayoutModel",
            "_view_count": null,
            "_view_module": "@jupyter-widgets/base",
            "_view_module_version": "1.2.0",
            "_view_name": "LayoutView",
            "align_content": null,
            "align_items": null,
            "align_self": null,
            "border": null,
            "bottom": null,
            "display": null,
            "flex": null,
            "flex_flow": null,
            "grid_area": null,
            "grid_auto_columns": null,
            "grid_auto_flow": null,
            "grid_auto_rows": null,
            "grid_column": null,
            "grid_gap": null,
            "grid_row": null,
            "grid_template_areas": null,
            "grid_template_columns": null,
            "grid_template_rows": null,
            "height": null,
            "justify_content": null,
            "justify_items": null,
            "left": null,
            "margin": null,
            "max_height": null,
            "max_width": null,
            "min_height": null,
            "min_width": null,
            "object_fit": null,
            "object_position": null,
            "order": null,
            "overflow": null,
            "overflow_x": null,
            "overflow_y": null,
            "padding": null,
            "right": null,
            "top": null,
            "visibility": null,
            "width": null
          }
        },
        "77bd5fc99983453bb388d925bd2e0814": {
          "model_module": "@jupyter-widgets/base",
          "model_module_version": "1.2.0",
          "model_name": "LayoutModel",
          "state": {
            "_model_module": "@jupyter-widgets/base",
            "_model_module_version": "1.2.0",
            "_model_name": "LayoutModel",
            "_view_count": null,
            "_view_module": "@jupyter-widgets/base",
            "_view_module_version": "1.2.0",
            "_view_name": "LayoutView",
            "align_content": null,
            "align_items": null,
            "align_self": null,
            "border": null,
            "bottom": null,
            "display": null,
            "flex": null,
            "flex_flow": null,
            "grid_area": null,
            "grid_auto_columns": null,
            "grid_auto_flow": null,
            "grid_auto_rows": null,
            "grid_column": null,
            "grid_gap": null,
            "grid_row": null,
            "grid_template_areas": null,
            "grid_template_columns": null,
            "grid_template_rows": null,
            "height": null,
            "justify_content": null,
            "justify_items": null,
            "left": null,
            "margin": null,
            "max_height": null,
            "max_width": null,
            "min_height": null,
            "min_width": null,
            "object_fit": null,
            "object_position": null,
            "order": null,
            "overflow": null,
            "overflow_x": null,
            "overflow_y": null,
            "padding": null,
            "right": null,
            "top": null,
            "visibility": null,
            "width": null
          }
        },
        "79009fd65ee64a6fbc652b81b50257da": {
          "model_module": "@jupyter-widgets/controls",
          "model_module_version": "1.5.0",
          "model_name": "HTMLModel",
          "state": {
            "_dom_classes": [],
            "_model_module": "@jupyter-widgets/controls",
            "_model_module_version": "1.5.0",
            "_model_name": "HTMLModel",
            "_view_count": null,
            "_view_module": "@jupyter-widgets/controls",
            "_view_module_version": "1.5.0",
            "_view_name": "HTMLView",
            "description": "",
            "description_tooltip": null,
            "layout": "IPY_MODEL_3e94ea15da8647b386235e8a8766aeb2",
            "placeholder": "​",
            "style": "IPY_MODEL_e60199b40e964b7a83bc212fc176a7a5",
            "value": "Downloading (…)cial_tokens_map.json: 100%"
          }
        },
        "79c8e54763f5485b999598320f6f6b81": {
          "model_module": "@jupyter-widgets/controls",
          "model_module_version": "1.5.0",
          "model_name": "DescriptionStyleModel",
          "state": {
            "_model_module": "@jupyter-widgets/controls",
            "_model_module_version": "1.5.0",
            "_model_name": "DescriptionStyleModel",
            "_view_count": null,
            "_view_module": "@jupyter-widgets/base",
            "_view_module_version": "1.2.0",
            "_view_name": "StyleView",
            "description_width": ""
          }
        },
        "7d06a222530f483f831d05b92a888e2e": {
          "model_module": "@jupyter-widgets/base",
          "model_module_version": "1.2.0",
          "model_name": "LayoutModel",
          "state": {
            "_model_module": "@jupyter-widgets/base",
            "_model_module_version": "1.2.0",
            "_model_name": "LayoutModel",
            "_view_count": null,
            "_view_module": "@jupyter-widgets/base",
            "_view_module_version": "1.2.0",
            "_view_name": "LayoutView",
            "align_content": null,
            "align_items": null,
            "align_self": null,
            "border": null,
            "bottom": null,
            "display": null,
            "flex": null,
            "flex_flow": null,
            "grid_area": null,
            "grid_auto_columns": null,
            "grid_auto_flow": null,
            "grid_auto_rows": null,
            "grid_column": null,
            "grid_gap": null,
            "grid_row": null,
            "grid_template_areas": null,
            "grid_template_columns": null,
            "grid_template_rows": null,
            "height": null,
            "justify_content": null,
            "justify_items": null,
            "left": null,
            "margin": null,
            "max_height": null,
            "max_width": null,
            "min_height": null,
            "min_width": null,
            "object_fit": null,
            "object_position": null,
            "order": null,
            "overflow": null,
            "overflow_x": null,
            "overflow_y": null,
            "padding": null,
            "right": null,
            "top": null,
            "visibility": null,
            "width": null
          }
        },
        "866c359d7c6f47b99d1169a82b9d7449": {
          "model_module": "@jupyter-widgets/controls",
          "model_module_version": "1.5.0",
          "model_name": "DescriptionStyleModel",
          "state": {
            "_model_module": "@jupyter-widgets/controls",
            "_model_module_version": "1.5.0",
            "_model_name": "DescriptionStyleModel",
            "_view_count": null,
            "_view_module": "@jupyter-widgets/base",
            "_view_module_version": "1.2.0",
            "_view_name": "StyleView",
            "description_width": ""
          }
        },
        "891cccdf4ebb4fc581661cc6b6f7ddc6": {
          "model_module": "@jupyter-widgets/controls",
          "model_module_version": "1.5.0",
          "model_name": "HTMLModel",
          "state": {
            "_dom_classes": [],
            "_model_module": "@jupyter-widgets/controls",
            "_model_module_version": "1.5.0",
            "_model_name": "HTMLModel",
            "_view_count": null,
            "_view_module": "@jupyter-widgets/controls",
            "_view_module_version": "1.5.0",
            "_view_name": "HTMLView",
            "description": "",
            "description_tooltip": null,
            "layout": "IPY_MODEL_77bd5fc99983453bb388d925bd2e0814",
            "placeholder": "​",
            "style": "IPY_MODEL_499aa4ee413f4a29bda0529533044edf",
            "value": " 3.23k/3.23k [00:00&lt;00:00, 6.98kB/s]"
          }
        },
        "89e3a496cc1242a3a1a826cbaeefe90c": {
          "model_module": "@jupyter-widgets/controls",
          "model_module_version": "1.5.0",
          "model_name": "ProgressStyleModel",
          "state": {
            "_model_module": "@jupyter-widgets/controls",
            "_model_module_version": "1.5.0",
            "_model_name": "ProgressStyleModel",
            "_view_count": null,
            "_view_module": "@jupyter-widgets/base",
            "_view_module_version": "1.2.0",
            "_view_name": "StyleView",
            "bar_color": null,
            "description_width": ""
          }
        },
        "911b9cefbcee4825b483f40d78d60dca": {
          "model_module": "@jupyter-widgets/base",
          "model_module_version": "1.2.0",
          "model_name": "LayoutModel",
          "state": {
            "_model_module": "@jupyter-widgets/base",
            "_model_module_version": "1.2.0",
            "_model_name": "LayoutModel",
            "_view_count": null,
            "_view_module": "@jupyter-widgets/base",
            "_view_module_version": "1.2.0",
            "_view_name": "LayoutView",
            "align_content": null,
            "align_items": null,
            "align_self": null,
            "border": null,
            "bottom": null,
            "display": null,
            "flex": null,
            "flex_flow": null,
            "grid_area": null,
            "grid_auto_columns": null,
            "grid_auto_flow": null,
            "grid_auto_rows": null,
            "grid_column": null,
            "grid_gap": null,
            "grid_row": null,
            "grid_template_areas": null,
            "grid_template_columns": null,
            "grid_template_rows": null,
            "height": null,
            "justify_content": null,
            "justify_items": null,
            "left": null,
            "margin": null,
            "max_height": null,
            "max_width": null,
            "min_height": null,
            "min_width": null,
            "object_fit": null,
            "object_position": null,
            "order": null,
            "overflow": null,
            "overflow_x": null,
            "overflow_y": null,
            "padding": null,
            "right": null,
            "top": null,
            "visibility": null,
            "width": null
          }
        },
        "9297cbb7485c4da1a66abba1bdbf5c8d": {
          "model_module": "@jupyter-widgets/controls",
          "model_module_version": "1.5.0",
          "model_name": "DescriptionStyleModel",
          "state": {
            "_model_module": "@jupyter-widgets/controls",
            "_model_module_version": "1.5.0",
            "_model_name": "DescriptionStyleModel",
            "_view_count": null,
            "_view_module": "@jupyter-widgets/base",
            "_view_module_version": "1.2.0",
            "_view_name": "StyleView",
            "description_width": ""
          }
        },
        "92fa60e8028a4ade9a96867733bdf854": {
          "model_module": "@jupyter-widgets/controls",
          "model_module_version": "1.5.0",
          "model_name": "DescriptionStyleModel",
          "state": {
            "_model_module": "@jupyter-widgets/controls",
            "_model_module_version": "1.5.0",
            "_model_name": "DescriptionStyleModel",
            "_view_count": null,
            "_view_module": "@jupyter-widgets/base",
            "_view_module_version": "1.2.0",
            "_view_name": "StyleView",
            "description_width": ""
          }
        },
        "9622d4472b9f41bf830d144025cff1f5": {
          "model_module": "@jupyter-widgets/controls",
          "model_module_version": "1.5.0",
          "model_name": "HBoxModel",
          "state": {
            "_dom_classes": [],
            "_model_module": "@jupyter-widgets/controls",
            "_model_module_version": "1.5.0",
            "_model_name": "HBoxModel",
            "_view_count": null,
            "_view_module": "@jupyter-widgets/controls",
            "_view_module_version": "1.5.0",
            "_view_name": "HBoxView",
            "box_style": "",
            "children": [
              "IPY_MODEL_c484cf1591ae4eea93b6e65d972753bc",
              "IPY_MODEL_d0bd72f613d74d2e8a2164e47b5d9f3e",
              "IPY_MODEL_f5428ea61cf44cbe9a110a5e5fc63030"
            ],
            "layout": "IPY_MODEL_4d69fdfc404d4af59daa822130211f57"
          }
        },
        "9f7ee0b7dbc34d7fbb1ad0770193847a": {
          "model_module": "@jupyter-widgets/controls",
          "model_module_version": "1.5.0",
          "model_name": "HTMLModel",
          "state": {
            "_dom_classes": [],
            "_model_module": "@jupyter-widgets/controls",
            "_model_module_version": "1.5.0",
            "_model_name": "HTMLModel",
            "_view_count": null,
            "_view_module": "@jupyter-widgets/controls",
            "_view_module_version": "1.5.0",
            "_view_name": "HTMLView",
            "description": "",
            "description_tooltip": null,
            "layout": "IPY_MODEL_620853433cb4419fad2736524495339c",
            "placeholder": "​",
            "style": "IPY_MODEL_42a5396f5dc847d98fa297ba327ce08c",
            "value": "Downloading builder script: 100%"
          }
        },
        "a2fa8cfe74444525b5933c59ac4471cf": {
          "model_module": "@jupyter-widgets/controls",
          "model_module_version": "1.5.0",
          "model_name": "ProgressStyleModel",
          "state": {
            "_model_module": "@jupyter-widgets/controls",
            "_model_module_version": "1.5.0",
            "_model_name": "ProgressStyleModel",
            "_view_count": null,
            "_view_module": "@jupyter-widgets/base",
            "_view_module_version": "1.2.0",
            "_view_name": "StyleView",
            "bar_color": null,
            "description_width": ""
          }
        },
        "a447e67d6809472398ad2c2f0740022f": {
          "model_module": "@jupyter-widgets/controls",
          "model_module_version": "1.5.0",
          "model_name": "HTMLModel",
          "state": {
            "_dom_classes": [],
            "_model_module": "@jupyter-widgets/controls",
            "_model_module_version": "1.5.0",
            "_model_name": "HTMLModel",
            "_view_count": null,
            "_view_module": "@jupyter-widgets/controls",
            "_view_module_version": "1.5.0",
            "_view_name": "HTMLView",
            "description": "",
            "description_tooltip": null,
            "layout": "IPY_MODEL_74c51eab055745138da3a1094775a0fd",
            "placeholder": "​",
            "style": "IPY_MODEL_20fd83ebdc74423bac10d3b7b194572d",
            "value": " 316/316 [00:00&lt;00:00, 25.8kB/s]"
          }
        },
        "aed5f36b70e34d89b86bedbd87c2fbcc": {
          "model_module": "@jupyter-widgets/controls",
          "model_module_version": "1.5.0",
          "model_name": "HTMLModel",
          "state": {
            "_dom_classes": [],
            "_model_module": "@jupyter-widgets/controls",
            "_model_module_version": "1.5.0",
            "_model_name": "HTMLModel",
            "_view_count": null,
            "_view_module": "@jupyter-widgets/controls",
            "_view_module_version": "1.5.0",
            "_view_name": "HTMLView",
            "description": "",
            "description_tooltip": null,
            "layout": "IPY_MODEL_2bc49de9bdf04c9cac0ca30d6233955b",
            "placeholder": "​",
            "style": "IPY_MODEL_866c359d7c6f47b99d1169a82b9d7449",
            "value": "Downloading (…)d268af92/config.json: 100%"
          }
        },
        "af889240f0304490b6973183b6c843b2": {
          "model_module": "@jupyter-widgets/controls",
          "model_module_version": "1.5.0",
          "model_name": "DescriptionStyleModel",
          "state": {
            "_model_module": "@jupyter-widgets/controls",
            "_model_module_version": "1.5.0",
            "_model_name": "DescriptionStyleModel",
            "_view_count": null,
            "_view_module": "@jupyter-widgets/base",
            "_view_module_version": "1.2.0",
            "_view_name": "StyleView",
            "description_width": ""
          }
        },
        "b4fc5bb6d2094c8d8e36b721af9f6bd0": {
          "model_module": "@jupyter-widgets/base",
          "model_module_version": "1.2.0",
          "model_name": "LayoutModel",
          "state": {
            "_model_module": "@jupyter-widgets/base",
            "_model_module_version": "1.2.0",
            "_model_name": "LayoutModel",
            "_view_count": null,
            "_view_module": "@jupyter-widgets/base",
            "_view_module_version": "1.2.0",
            "_view_name": "LayoutView",
            "align_content": null,
            "align_items": null,
            "align_self": null,
            "border": null,
            "bottom": null,
            "display": null,
            "flex": null,
            "flex_flow": null,
            "grid_area": null,
            "grid_auto_columns": null,
            "grid_auto_flow": null,
            "grid_auto_rows": null,
            "grid_column": null,
            "grid_gap": null,
            "grid_row": null,
            "grid_template_areas": null,
            "grid_template_columns": null,
            "grid_template_rows": null,
            "height": null,
            "justify_content": null,
            "justify_items": null,
            "left": null,
            "margin": null,
            "max_height": null,
            "max_width": null,
            "min_height": null,
            "min_width": null,
            "object_fit": null,
            "object_position": null,
            "order": null,
            "overflow": null,
            "overflow_x": null,
            "overflow_y": null,
            "padding": null,
            "right": null,
            "top": null,
            "visibility": null,
            "width": null
          }
        },
        "b51573972c524edf8f8d4ef3820661c3": {
          "model_module": "@jupyter-widgets/controls",
          "model_module_version": "1.5.0",
          "model_name": "FloatProgressModel",
          "state": {
            "_dom_classes": [],
            "_model_module": "@jupyter-widgets/controls",
            "_model_module_version": "1.5.0",
            "_model_name": "FloatProgressModel",
            "_view_count": null,
            "_view_module": "@jupyter-widgets/controls",
            "_view_module_version": "1.5.0",
            "_view_name": "ProgressView",
            "bar_style": "success",
            "description": "",
            "description_tooltip": null,
            "layout": "IPY_MODEL_e3d67136f7ed4909bd520ce8a6756168",
            "max": 316,
            "min": 0,
            "orientation": "horizontal",
            "style": "IPY_MODEL_e2049a8a54b545bd977f5ec52c3b79a7",
            "value": 316
          }
        },
        "bab04dfb8e2a4aad99dc16938d25417e": {
          "model_module": "@jupyter-widgets/controls",
          "model_module_version": "1.5.0",
          "model_name": "DescriptionStyleModel",
          "state": {
            "_model_module": "@jupyter-widgets/controls",
            "_model_module_version": "1.5.0",
            "_model_name": "DescriptionStyleModel",
            "_view_count": null,
            "_view_module": "@jupyter-widgets/base",
            "_view_module_version": "1.2.0",
            "_view_name": "StyleView",
            "description_width": ""
          }
        },
        "bc260327211b431dbb920a33824b18f3": {
          "model_module": "@jupyter-widgets/base",
          "model_module_version": "1.2.0",
          "model_name": "LayoutModel",
          "state": {
            "_model_module": "@jupyter-widgets/base",
            "_model_module_version": "1.2.0",
            "_model_name": "LayoutModel",
            "_view_count": null,
            "_view_module": "@jupyter-widgets/base",
            "_view_module_version": "1.2.0",
            "_view_name": "LayoutView",
            "align_content": null,
            "align_items": null,
            "align_self": null,
            "border": null,
            "bottom": null,
            "display": null,
            "flex": null,
            "flex_flow": null,
            "grid_area": null,
            "grid_auto_columns": null,
            "grid_auto_flow": null,
            "grid_auto_rows": null,
            "grid_column": null,
            "grid_gap": null,
            "grid_row": null,
            "grid_template_areas": null,
            "grid_template_columns": null,
            "grid_template_rows": null,
            "height": null,
            "justify_content": null,
            "justify_items": null,
            "left": null,
            "margin": null,
            "max_height": null,
            "max_width": null,
            "min_height": null,
            "min_width": null,
            "object_fit": null,
            "object_position": null,
            "order": null,
            "overflow": null,
            "overflow_x": null,
            "overflow_y": null,
            "padding": null,
            "right": null,
            "top": null,
            "visibility": null,
            "width": null
          }
        },
        "c28fb0b8f0a84b86af9d35fcc75f07b5": {
          "model_module": "@jupyter-widgets/controls",
          "model_module_version": "1.5.0",
          "model_name": "HBoxModel",
          "state": {
            "_dom_classes": [],
            "_model_module": "@jupyter-widgets/controls",
            "_model_module_version": "1.5.0",
            "_model_name": "HBoxModel",
            "_view_count": null,
            "_view_module": "@jupyter-widgets/controls",
            "_view_module_version": "1.5.0",
            "_view_name": "HBoxView",
            "box_style": "",
            "children": [
              "IPY_MODEL_aed5f36b70e34d89b86bedbd87c2fbcc",
              "IPY_MODEL_e4fb86a62fac417aa76b226d5d417c6a",
              "IPY_MODEL_de4b90bbce2247a99549ad1d36e7742a"
            ],
            "layout": "IPY_MODEL_cad6838268cf438ba0b1fb811a511639"
          }
        },
        "c484cf1591ae4eea93b6e65d972753bc": {
          "model_module": "@jupyter-widgets/controls",
          "model_module_version": "1.5.0",
          "model_name": "HTMLModel",
          "state": {
            "_dom_classes": [],
            "_model_module": "@jupyter-widgets/controls",
            "_model_module_version": "1.5.0",
            "_model_name": "HTMLModel",
            "_view_count": null,
            "_view_module": "@jupyter-widgets/controls",
            "_view_module_version": "1.5.0",
            "_view_name": "HTMLView",
            "description": "",
            "description_tooltip": null,
            "layout": "IPY_MODEL_3a9ddeaf945645758c883a5a983901b4",
            "placeholder": "​",
            "style": "IPY_MODEL_bab04dfb8e2a4aad99dc16938d25417e",
            "value": "Downloading pytorch_model.bin: 100%"
          }
        },
        "c59406a5e2e64813beb6f63f9d398084": {
          "model_module": "@jupyter-widgets/controls",
          "model_module_version": "1.5.0",
          "model_name": "FloatProgressModel",
          "state": {
            "_dom_classes": [],
            "_model_module": "@jupyter-widgets/controls",
            "_model_module_version": "1.5.0",
            "_model_name": "FloatProgressModel",
            "_view_count": null,
            "_view_module": "@jupyter-widgets/controls",
            "_view_module_version": "1.5.0",
            "_view_name": "ProgressView",
            "bar_style": "success",
            "description": "",
            "description_tooltip": null,
            "layout": "IPY_MODEL_ec3ce699cff9420ba11a067bc3616013",
            "max": 231508,
            "min": 0,
            "orientation": "horizontal",
            "style": "IPY_MODEL_c6901d5b48ec4f878cd09521e7caa13f",
            "value": 231508
          }
        },
        "c6901d5b48ec4f878cd09521e7caa13f": {
          "model_module": "@jupyter-widgets/controls",
          "model_module_version": "1.5.0",
          "model_name": "ProgressStyleModel",
          "state": {
            "_model_module": "@jupyter-widgets/controls",
            "_model_module_version": "1.5.0",
            "_model_name": "ProgressStyleModel",
            "_view_count": null,
            "_view_module": "@jupyter-widgets/base",
            "_view_module_version": "1.2.0",
            "_view_name": "StyleView",
            "bar_color": null,
            "description_width": ""
          }
        },
        "c7dbf01e46d642159b50947f74456923": {
          "model_module": "@jupyter-widgets/controls",
          "model_module_version": "1.5.0",
          "model_name": "FloatProgressModel",
          "state": {
            "_dom_classes": [],
            "_model_module": "@jupyter-widgets/controls",
            "_model_module_version": "1.5.0",
            "_model_name": "FloatProgressModel",
            "_view_count": null,
            "_view_module": "@jupyter-widgets/controls",
            "_view_module_version": "1.5.0",
            "_view_name": "ProgressView",
            "bar_style": "success",
            "description": "",
            "description_tooltip": null,
            "layout": "IPY_MODEL_e2e640c7b89b4999b773637a6daf4123",
            "max": 5514,
            "min": 0,
            "orientation": "horizontal",
            "style": "IPY_MODEL_89e3a496cc1242a3a1a826cbaeefe90c",
            "value": 5514
          }
        },
        "c83f71b54bb14e08a0bcb4acb8ffd09a": {
          "model_module": "@jupyter-widgets/controls",
          "model_module_version": "1.5.0",
          "model_name": "DescriptionStyleModel",
          "state": {
            "_model_module": "@jupyter-widgets/controls",
            "_model_module_version": "1.5.0",
            "_model_name": "DescriptionStyleModel",
            "_view_count": null,
            "_view_module": "@jupyter-widgets/base",
            "_view_module_version": "1.2.0",
            "_view_name": "StyleView",
            "description_width": ""
          }
        },
        "c9c588db81e24ec4a89243d7198e4815": {
          "model_module": "@jupyter-widgets/controls",
          "model_module_version": "1.5.0",
          "model_name": "ProgressStyleModel",
          "state": {
            "_model_module": "@jupyter-widgets/controls",
            "_model_module_version": "1.5.0",
            "_model_name": "ProgressStyleModel",
            "_view_count": null,
            "_view_module": "@jupyter-widgets/base",
            "_view_module_version": "1.2.0",
            "_view_name": "StyleView",
            "bar_color": null,
            "description_width": ""
          }
        },
        "cad6838268cf438ba0b1fb811a511639": {
          "model_module": "@jupyter-widgets/base",
          "model_module_version": "1.2.0",
          "model_name": "LayoutModel",
          "state": {
            "_model_module": "@jupyter-widgets/base",
            "_model_module_version": "1.2.0",
            "_model_name": "LayoutModel",
            "_view_count": null,
            "_view_module": "@jupyter-widgets/base",
            "_view_module_version": "1.2.0",
            "_view_name": "LayoutView",
            "align_content": null,
            "align_items": null,
            "align_self": null,
            "border": null,
            "bottom": null,
            "display": null,
            "flex": null,
            "flex_flow": null,
            "grid_area": null,
            "grid_auto_columns": null,
            "grid_auto_flow": null,
            "grid_auto_rows": null,
            "grid_column": null,
            "grid_gap": null,
            "grid_row": null,
            "grid_template_areas": null,
            "grid_template_columns": null,
            "grid_template_rows": null,
            "height": null,
            "justify_content": null,
            "justify_items": null,
            "left": null,
            "margin": null,
            "max_height": null,
            "max_width": null,
            "min_height": null,
            "min_width": null,
            "object_fit": null,
            "object_position": null,
            "order": null,
            "overflow": null,
            "overflow_x": null,
            "overflow_y": null,
            "padding": null,
            "right": null,
            "top": null,
            "visibility": null,
            "width": null
          }
        },
        "cc8daffa9530491f868d8c09a47ebb7b": {
          "model_module": "@jupyter-widgets/controls",
          "model_module_version": "1.5.0",
          "model_name": "HTMLModel",
          "state": {
            "_dom_classes": [],
            "_model_module": "@jupyter-widgets/controls",
            "_model_module_version": "1.5.0",
            "_model_name": "HTMLModel",
            "_view_count": null,
            "_view_module": "@jupyter-widgets/controls",
            "_view_module_version": "1.5.0",
            "_view_name": "HTMLView",
            "description": "",
            "description_tooltip": null,
            "layout": "IPY_MODEL_5906f7a904834a7daf0210d94fe816d5",
            "placeholder": "​",
            "style": "IPY_MODEL_af889240f0304490b6973183b6c843b2",
            "value": "Downloading (…)okenizer_config.json: 100%"
          }
        },
        "d0bd72f613d74d2e8a2164e47b5d9f3e": {
          "model_module": "@jupyter-widgets/controls",
          "model_module_version": "1.5.0",
          "model_name": "FloatProgressModel",
          "state": {
            "_dom_classes": [],
            "_model_module": "@jupyter-widgets/controls",
            "_model_module_version": "1.5.0",
            "_model_name": "FloatProgressModel",
            "_view_count": null,
            "_view_module": "@jupyter-widgets/controls",
            "_view_module_version": "1.5.0",
            "_view_name": "ProgressView",
            "bar_style": "success",
            "description": "",
            "description_tooltip": null,
            "layout": "IPY_MODEL_d9aaa8c67d794db5850c75ad563cd5fb",
            "max": 90903017,
            "min": 0,
            "orientation": "horizontal",
            "style": "IPY_MODEL_2468abc800624ab597c7a6e9aa349419",
            "value": 90903017
          }
        },
        "d140ac76980046458e2d262630d67b9d": {
          "model_module": "@jupyter-widgets/controls",
          "model_module_version": "1.5.0",
          "model_name": "HBoxModel",
          "state": {
            "_dom_classes": [],
            "_model_module": "@jupyter-widgets/controls",
            "_model_module_version": "1.5.0",
            "_model_name": "HBoxModel",
            "_view_count": null,
            "_view_module": "@jupyter-widgets/controls",
            "_view_module_version": "1.5.0",
            "_view_name": "HBoxView",
            "box_style": "",
            "children": [
              "IPY_MODEL_241fc051ab48471bb8a571ac38448d01",
              "IPY_MODEL_d91ad64dd4dd4c568d3043f523971963",
              "IPY_MODEL_891cccdf4ebb4fc581661cc6b6f7ddc6"
            ],
            "layout": "IPY_MODEL_911b9cefbcee4825b483f40d78d60dca"
          }
        },
        "d15051d5bd1841729761c83725c383a3": {
          "model_module": "@jupyter-widgets/base",
          "model_module_version": "1.2.0",
          "model_name": "LayoutModel",
          "state": {
            "_model_module": "@jupyter-widgets/base",
            "_model_module_version": "1.2.0",
            "_model_name": "LayoutModel",
            "_view_count": null,
            "_view_module": "@jupyter-widgets/base",
            "_view_module_version": "1.2.0",
            "_view_name": "LayoutView",
            "align_content": null,
            "align_items": null,
            "align_self": null,
            "border": null,
            "bottom": null,
            "display": null,
            "flex": null,
            "flex_flow": null,
            "grid_area": null,
            "grid_auto_columns": null,
            "grid_auto_flow": null,
            "grid_auto_rows": null,
            "grid_column": null,
            "grid_gap": null,
            "grid_row": null,
            "grid_template_areas": null,
            "grid_template_columns": null,
            "grid_template_rows": null,
            "height": null,
            "justify_content": null,
            "justify_items": null,
            "left": null,
            "margin": null,
            "max_height": null,
            "max_width": null,
            "min_height": null,
            "min_width": null,
            "object_fit": null,
            "object_position": null,
            "order": null,
            "overflow": null,
            "overflow_x": null,
            "overflow_y": null,
            "padding": null,
            "right": null,
            "top": null,
            "visibility": null,
            "width": null
          }
        },
        "d91ad64dd4dd4c568d3043f523971963": {
          "model_module": "@jupyter-widgets/controls",
          "model_module_version": "1.5.0",
          "model_name": "FloatProgressModel",
          "state": {
            "_dom_classes": [],
            "_model_module": "@jupyter-widgets/controls",
            "_model_module_version": "1.5.0",
            "_model_name": "FloatProgressModel",
            "_view_count": null,
            "_view_module": "@jupyter-widgets/controls",
            "_view_module_version": "1.5.0",
            "_view_name": "ProgressView",
            "bar_style": "success",
            "description": "",
            "description_tooltip": null,
            "layout": "IPY_MODEL_17a8cb52e176428d829f3e54e391b06f",
            "max": 3233,
            "min": 0,
            "orientation": "horizontal",
            "style": "IPY_MODEL_c9c588db81e24ec4a89243d7198e4815",
            "value": 3233
          }
        },
        "d9aaa8c67d794db5850c75ad563cd5fb": {
          "model_module": "@jupyter-widgets/base",
          "model_module_version": "1.2.0",
          "model_name": "LayoutModel",
          "state": {
            "_model_module": "@jupyter-widgets/base",
            "_model_module_version": "1.2.0",
            "_model_name": "LayoutModel",
            "_view_count": null,
            "_view_module": "@jupyter-widgets/base",
            "_view_module_version": "1.2.0",
            "_view_name": "LayoutView",
            "align_content": null,
            "align_items": null,
            "align_self": null,
            "border": null,
            "bottom": null,
            "display": null,
            "flex": null,
            "flex_flow": null,
            "grid_area": null,
            "grid_auto_columns": null,
            "grid_auto_flow": null,
            "grid_auto_rows": null,
            "grid_column": null,
            "grid_gap": null,
            "grid_row": null,
            "grid_template_areas": null,
            "grid_template_columns": null,
            "grid_template_rows": null,
            "height": null,
            "justify_content": null,
            "justify_items": null,
            "left": null,
            "margin": null,
            "max_height": null,
            "max_width": null,
            "min_height": null,
            "min_width": null,
            "object_fit": null,
            "object_position": null,
            "order": null,
            "overflow": null,
            "overflow_x": null,
            "overflow_y": null,
            "padding": null,
            "right": null,
            "top": null,
            "visibility": null,
            "width": null
          }
        },
        "de4b90bbce2247a99549ad1d36e7742a": {
          "model_module": "@jupyter-widgets/controls",
          "model_module_version": "1.5.0",
          "model_name": "HTMLModel",
          "state": {
            "_dom_classes": [],
            "_model_module": "@jupyter-widgets/controls",
            "_model_module_version": "1.5.0",
            "_model_name": "HTMLModel",
            "_view_count": null,
            "_view_module": "@jupyter-widgets/controls",
            "_view_module_version": "1.5.0",
            "_view_name": "HTMLView",
            "description": "",
            "description_tooltip": null,
            "layout": "IPY_MODEL_df003de478ed4500966712d9c83512c5",
            "placeholder": "​",
            "style": "IPY_MODEL_c83f71b54bb14e08a0bcb4acb8ffd09a",
            "value": " 794/794 [00:00&lt;00:00, 1.05kB/s]"
          }
        },
        "df003de478ed4500966712d9c83512c5": {
          "model_module": "@jupyter-widgets/base",
          "model_module_version": "1.2.0",
          "model_name": "LayoutModel",
          "state": {
            "_model_module": "@jupyter-widgets/base",
            "_model_module_version": "1.2.0",
            "_model_name": "LayoutModel",
            "_view_count": null,
            "_view_module": "@jupyter-widgets/base",
            "_view_module_version": "1.2.0",
            "_view_name": "LayoutView",
            "align_content": null,
            "align_items": null,
            "align_self": null,
            "border": null,
            "bottom": null,
            "display": null,
            "flex": null,
            "flex_flow": null,
            "grid_area": null,
            "grid_auto_columns": null,
            "grid_auto_flow": null,
            "grid_auto_rows": null,
            "grid_column": null,
            "grid_gap": null,
            "grid_row": null,
            "grid_template_areas": null,
            "grid_template_columns": null,
            "grid_template_rows": null,
            "height": null,
            "justify_content": null,
            "justify_items": null,
            "left": null,
            "margin": null,
            "max_height": null,
            "max_width": null,
            "min_height": null,
            "min_width": null,
            "object_fit": null,
            "object_position": null,
            "order": null,
            "overflow": null,
            "overflow_x": null,
            "overflow_y": null,
            "padding": null,
            "right": null,
            "top": null,
            "visibility": null,
            "width": null
          }
        },
        "df28105f615f44508fce99ffcdefb353": {
          "model_module": "@jupyter-widgets/controls",
          "model_module_version": "1.5.0",
          "model_name": "HBoxModel",
          "state": {
            "_dom_classes": [],
            "_model_module": "@jupyter-widgets/controls",
            "_model_module_version": "1.5.0",
            "_model_name": "HBoxModel",
            "_view_count": null,
            "_view_module": "@jupyter-widgets/controls",
            "_view_module_version": "1.5.0",
            "_view_name": "HBoxView",
            "box_style": "",
            "children": [
              "IPY_MODEL_cc8daffa9530491f868d8c09a47ebb7b",
              "IPY_MODEL_b51573972c524edf8f8d4ef3820661c3",
              "IPY_MODEL_a447e67d6809472398ad2c2f0740022f"
            ],
            "layout": "IPY_MODEL_bc260327211b431dbb920a33824b18f3"
          }
        },
        "e2049a8a54b545bd977f5ec52c3b79a7": {
          "model_module": "@jupyter-widgets/controls",
          "model_module_version": "1.5.0",
          "model_name": "ProgressStyleModel",
          "state": {
            "_model_module": "@jupyter-widgets/controls",
            "_model_module_version": "1.5.0",
            "_model_name": "ProgressStyleModel",
            "_view_count": null,
            "_view_module": "@jupyter-widgets/base",
            "_view_module_version": "1.2.0",
            "_view_name": "StyleView",
            "bar_color": null,
            "description_width": ""
          }
        },
        "e2e640c7b89b4999b773637a6daf4123": {
          "model_module": "@jupyter-widgets/base",
          "model_module_version": "1.2.0",
          "model_name": "LayoutModel",
          "state": {
            "_model_module": "@jupyter-widgets/base",
            "_model_module_version": "1.2.0",
            "_model_name": "LayoutModel",
            "_view_count": null,
            "_view_module": "@jupyter-widgets/base",
            "_view_module_version": "1.2.0",
            "_view_name": "LayoutView",
            "align_content": null,
            "align_items": null,
            "align_self": null,
            "border": null,
            "bottom": null,
            "display": null,
            "flex": null,
            "flex_flow": null,
            "grid_area": null,
            "grid_auto_columns": null,
            "grid_auto_flow": null,
            "grid_auto_rows": null,
            "grid_column": null,
            "grid_gap": null,
            "grid_row": null,
            "grid_template_areas": null,
            "grid_template_columns": null,
            "grid_template_rows": null,
            "height": null,
            "justify_content": null,
            "justify_items": null,
            "left": null,
            "margin": null,
            "max_height": null,
            "max_width": null,
            "min_height": null,
            "min_width": null,
            "object_fit": null,
            "object_position": null,
            "order": null,
            "overflow": null,
            "overflow_x": null,
            "overflow_y": null,
            "padding": null,
            "right": null,
            "top": null,
            "visibility": null,
            "width": null
          }
        },
        "e3d67136f7ed4909bd520ce8a6756168": {
          "model_module": "@jupyter-widgets/base",
          "model_module_version": "1.2.0",
          "model_name": "LayoutModel",
          "state": {
            "_model_module": "@jupyter-widgets/base",
            "_model_module_version": "1.2.0",
            "_model_name": "LayoutModel",
            "_view_count": null,
            "_view_module": "@jupyter-widgets/base",
            "_view_module_version": "1.2.0",
            "_view_name": "LayoutView",
            "align_content": null,
            "align_items": null,
            "align_self": null,
            "border": null,
            "bottom": null,
            "display": null,
            "flex": null,
            "flex_flow": null,
            "grid_area": null,
            "grid_auto_columns": null,
            "grid_auto_flow": null,
            "grid_auto_rows": null,
            "grid_column": null,
            "grid_gap": null,
            "grid_row": null,
            "grid_template_areas": null,
            "grid_template_columns": null,
            "grid_template_rows": null,
            "height": null,
            "justify_content": null,
            "justify_items": null,
            "left": null,
            "margin": null,
            "max_height": null,
            "max_width": null,
            "min_height": null,
            "min_width": null,
            "object_fit": null,
            "object_position": null,
            "order": null,
            "overflow": null,
            "overflow_x": null,
            "overflow_y": null,
            "padding": null,
            "right": null,
            "top": null,
            "visibility": null,
            "width": null
          }
        },
        "e4fb86a62fac417aa76b226d5d417c6a": {
          "model_module": "@jupyter-widgets/controls",
          "model_module_version": "1.5.0",
          "model_name": "FloatProgressModel",
          "state": {
            "_dom_classes": [],
            "_model_module": "@jupyter-widgets/controls",
            "_model_module_version": "1.5.0",
            "_model_name": "FloatProgressModel",
            "_view_count": null,
            "_view_module": "@jupyter-widgets/controls",
            "_view_module_version": "1.5.0",
            "_view_name": "ProgressView",
            "bar_style": "success",
            "description": "",
            "description_tooltip": null,
            "layout": "IPY_MODEL_fefd001cf6bc4d4ea577d1a11b42ab21",
            "max": 794,
            "min": 0,
            "orientation": "horizontal",
            "style": "IPY_MODEL_a2fa8cfe74444525b5933c59ac4471cf",
            "value": 794
          }
        },
        "e60199b40e964b7a83bc212fc176a7a5": {
          "model_module": "@jupyter-widgets/controls",
          "model_module_version": "1.5.0",
          "model_name": "DescriptionStyleModel",
          "state": {
            "_model_module": "@jupyter-widgets/controls",
            "_model_module_version": "1.5.0",
            "_model_name": "DescriptionStyleModel",
            "_view_count": null,
            "_view_module": "@jupyter-widgets/base",
            "_view_module_version": "1.2.0",
            "_view_name": "StyleView",
            "description_width": ""
          }
        },
        "eb80e94c9d9b4f73aa02cbd0287bc757": {
          "model_module": "@jupyter-widgets/controls",
          "model_module_version": "1.5.0",
          "model_name": "HBoxModel",
          "state": {
            "_dom_classes": [],
            "_model_module": "@jupyter-widgets/controls",
            "_model_module_version": "1.5.0",
            "_model_name": "HBoxModel",
            "_view_count": null,
            "_view_module": "@jupyter-widgets/controls",
            "_view_module_version": "1.5.0",
            "_view_name": "HBoxView",
            "box_style": "",
            "children": [
              "IPY_MODEL_79009fd65ee64a6fbc652b81b50257da",
              "IPY_MODEL_16cedefffddb430399c3b7a40deb5eed",
              "IPY_MODEL_ed93472c07d54504bc1876d3b33eb466"
            ],
            "layout": "IPY_MODEL_7d06a222530f483f831d05b92a888e2e"
          }
        },
        "ec195997d05b4b389344bfadc4510146": {
          "model_module": "@jupyter-widgets/controls",
          "model_module_version": "1.5.0",
          "model_name": "DescriptionStyleModel",
          "state": {
            "_model_module": "@jupyter-widgets/controls",
            "_model_module_version": "1.5.0",
            "_model_name": "DescriptionStyleModel",
            "_view_count": null,
            "_view_module": "@jupyter-widgets/base",
            "_view_module_version": "1.2.0",
            "_view_name": "StyleView",
            "description_width": ""
          }
        },
        "ec3ce699cff9420ba11a067bc3616013": {
          "model_module": "@jupyter-widgets/base",
          "model_module_version": "1.2.0",
          "model_name": "LayoutModel",
          "state": {
            "_model_module": "@jupyter-widgets/base",
            "_model_module_version": "1.2.0",
            "_model_name": "LayoutModel",
            "_view_count": null,
            "_view_module": "@jupyter-widgets/base",
            "_view_module_version": "1.2.0",
            "_view_name": "LayoutView",
            "align_content": null,
            "align_items": null,
            "align_self": null,
            "border": null,
            "bottom": null,
            "display": null,
            "flex": null,
            "flex_flow": null,
            "grid_area": null,
            "grid_auto_columns": null,
            "grid_auto_flow": null,
            "grid_auto_rows": null,
            "grid_column": null,
            "grid_gap": null,
            "grid_row": null,
            "grid_template_areas": null,
            "grid_template_columns": null,
            "grid_template_rows": null,
            "height": null,
            "justify_content": null,
            "justify_items": null,
            "left": null,
            "margin": null,
            "max_height": null,
            "max_width": null,
            "min_height": null,
            "min_width": null,
            "object_fit": null,
            "object_position": null,
            "order": null,
            "overflow": null,
            "overflow_x": null,
            "overflow_y": null,
            "padding": null,
            "right": null,
            "top": null,
            "visibility": null,
            "width": null
          }
        },
        "ed93472c07d54504bc1876d3b33eb466": {
          "model_module": "@jupyter-widgets/controls",
          "model_module_version": "1.5.0",
          "model_name": "HTMLModel",
          "state": {
            "_dom_classes": [],
            "_model_module": "@jupyter-widgets/controls",
            "_model_module_version": "1.5.0",
            "_model_name": "HTMLModel",
            "_view_count": null,
            "_view_module": "@jupyter-widgets/controls",
            "_view_module_version": "1.5.0",
            "_view_name": "HTMLView",
            "description": "",
            "description_tooltip": null,
            "layout": "IPY_MODEL_57bbe6f76801419daf13bad9e98b5ce1",
            "placeholder": "​",
            "style": "IPY_MODEL_47bb2b8820a041b8bfd592fa1de630e9",
            "value": " 112/112 [00:00&lt;00:00, 10.4kB/s]"
          }
        },
        "f5428ea61cf44cbe9a110a5e5fc63030": {
          "model_module": "@jupyter-widgets/controls",
          "model_module_version": "1.5.0",
          "model_name": "HTMLModel",
          "state": {
            "_dom_classes": [],
            "_model_module": "@jupyter-widgets/controls",
            "_model_module_version": "1.5.0",
            "_model_name": "HTMLModel",
            "_view_count": null,
            "_view_module": "@jupyter-widgets/controls",
            "_view_module_version": "1.5.0",
            "_view_name": "HTMLView",
            "description": "",
            "description_tooltip": null,
            "layout": "IPY_MODEL_3541bf8240b041f28986b4abd1b7040b",
            "placeholder": "​",
            "style": "IPY_MODEL_9297cbb7485c4da1a66abba1bdbf5c8d",
            "value": " 90.9M/90.9M [00:06&lt;00:00, 15.4MB/s]"
          }
        },
        "fa2e063e6d01443fa94dcdbc77c494b7": {
          "model_module": "@jupyter-widgets/controls",
          "model_module_version": "1.5.0",
          "model_name": "DescriptionStyleModel",
          "state": {
            "_model_module": "@jupyter-widgets/controls",
            "_model_module_version": "1.5.0",
            "_model_name": "DescriptionStyleModel",
            "_view_count": null,
            "_view_module": "@jupyter-widgets/base",
            "_view_module_version": "1.2.0",
            "_view_name": "StyleView",
            "description_width": ""
          }
        },
        "fa5e330c39c6438da3eddc8c709bacb3": {
          "model_module": "@jupyter-widgets/controls",
          "model_module_version": "1.5.0",
          "model_name": "DescriptionStyleModel",
          "state": {
            "_model_module": "@jupyter-widgets/controls",
            "_model_module_version": "1.5.0",
            "_model_name": "DescriptionStyleModel",
            "_view_count": null,
            "_view_module": "@jupyter-widgets/base",
            "_view_module_version": "1.2.0",
            "_view_name": "StyleView",
            "description_width": ""
          }
        },
        "fefd001cf6bc4d4ea577d1a11b42ab21": {
          "model_module": "@jupyter-widgets/base",
          "model_module_version": "1.2.0",
          "model_name": "LayoutModel",
          "state": {
            "_model_module": "@jupyter-widgets/base",
            "_model_module_version": "1.2.0",
            "_model_name": "LayoutModel",
            "_view_count": null,
            "_view_module": "@jupyter-widgets/base",
            "_view_module_version": "1.2.0",
            "_view_name": "LayoutView",
            "align_content": null,
            "align_items": null,
            "align_self": null,
            "border": null,
            "bottom": null,
            "display": null,
            "flex": null,
            "flex_flow": null,
            "grid_area": null,
            "grid_auto_columns": null,
            "grid_auto_flow": null,
            "grid_auto_rows": null,
            "grid_column": null,
            "grid_gap": null,
            "grid_row": null,
            "grid_template_areas": null,
            "grid_template_columns": null,
            "grid_template_rows": null,
            "height": null,
            "justify_content": null,
            "justify_items": null,
            "left": null,
            "margin": null,
            "max_height": null,
            "max_width": null,
            "min_height": null,
            "min_width": null,
            "object_fit": null,
            "object_position": null,
            "order": null,
            "overflow": null,
            "overflow_x": null,
            "overflow_y": null,
            "padding": null,
            "right": null,
            "top": null,
            "visibility": null,
            "width": null
          }
        },
        "ff373700e52e401cb37b34a8a3e85b49": {
          "model_module": "@jupyter-widgets/controls",
          "model_module_version": "1.5.0",
          "model_name": "HTMLModel",
          "state": {
            "_dom_classes": [],
            "_model_module": "@jupyter-widgets/controls",
            "_model_module_version": "1.5.0",
            "_model_name": "HTMLModel",
            "_view_count": null,
            "_view_module": "@jupyter-widgets/controls",
            "_view_module_version": "1.5.0",
            "_view_name": "HTMLView",
            "description": "",
            "description_tooltip": null,
            "layout": "IPY_MODEL_d15051d5bd1841729761c83725c383a3",
            "placeholder": "​",
            "style": "IPY_MODEL_fa2e063e6d01443fa94dcdbc77c494b7",
            "value": " 232k/232k [00:00&lt;00:00, 1.63MB/s]"
          }
        },
        "21f8a51ab9a0463dadd48220445f9262": {
          "model_module": "@jupyter-widgets/controls",
          "model_name": "HBoxModel",
          "model_module_version": "1.5.0",
          "state": {
            "_dom_classes": [],
            "_model_module": "@jupyter-widgets/controls",
            "_model_module_version": "1.5.0",
            "_model_name": "HBoxModel",
            "_view_count": null,
            "_view_module": "@jupyter-widgets/controls",
            "_view_module_version": "1.5.0",
            "_view_name": "HBoxView",
            "box_style": "",
            "children": [
              "IPY_MODEL_31217ae3ddb549e6a74c9275c81dcda5",
              "IPY_MODEL_67ce7b7ab90d4b06a5507cbd1f66ccdc",
              "IPY_MODEL_784bbd0551fb4de38ec266ba396418c9"
            ],
            "layout": "IPY_MODEL_543e8aaa0c0f41e3a30f834af092dda2"
          }
        },
        "31217ae3ddb549e6a74c9275c81dcda5": {
          "model_module": "@jupyter-widgets/controls",
          "model_name": "HTMLModel",
          "model_module_version": "1.5.0",
          "state": {
            "_dom_classes": [],
            "_model_module": "@jupyter-widgets/controls",
            "_model_module_version": "1.5.0",
            "_model_name": "HTMLModel",
            "_view_count": null,
            "_view_module": "@jupyter-widgets/controls",
            "_view_module_version": "1.5.0",
            "_view_name": "HTMLView",
            "description": "",
            "description_tooltip": null,
            "layout": "IPY_MODEL_dd4b962abeba445bb156ef14f720cbdd",
            "placeholder": "​",
            "style": "IPY_MODEL_721f967516754e9ba0d2d36981322a16",
            "value": "Downloading (…)okenizer_config.json: 100%"
          }
        },
        "67ce7b7ab90d4b06a5507cbd1f66ccdc": {
          "model_module": "@jupyter-widgets/controls",
          "model_name": "FloatProgressModel",
          "model_module_version": "1.5.0",
          "state": {
            "_dom_classes": [],
            "_model_module": "@jupyter-widgets/controls",
            "_model_module_version": "1.5.0",
            "_model_name": "FloatProgressModel",
            "_view_count": null,
            "_view_module": "@jupyter-widgets/controls",
            "_view_module_version": "1.5.0",
            "_view_name": "ProgressView",
            "bar_style": "success",
            "description": "",
            "description_tooltip": null,
            "layout": "IPY_MODEL_c256a272fd724d44a9efb3ec2ad1b37e",
            "max": 466,
            "min": 0,
            "orientation": "horizontal",
            "style": "IPY_MODEL_3396ff9891964f89b7984a4223fbd170",
            "value": 466
          }
        },
        "784bbd0551fb4de38ec266ba396418c9": {
          "model_module": "@jupyter-widgets/controls",
          "model_name": "HTMLModel",
          "model_module_version": "1.5.0",
          "state": {
            "_dom_classes": [],
            "_model_module": "@jupyter-widgets/controls",
            "_model_module_version": "1.5.0",
            "_model_name": "HTMLModel",
            "_view_count": null,
            "_view_module": "@jupyter-widgets/controls",
            "_view_module_version": "1.5.0",
            "_view_name": "HTMLView",
            "description": "",
            "description_tooltip": null,
            "layout": "IPY_MODEL_b6b14ec6c2904640a514f7351f157718",
            "placeholder": "​",
            "style": "IPY_MODEL_3b2788552ba04055867a056927e71689",
            "value": " 466/466 [00:00&lt;00:00, 34.8kB/s]"
          }
        },
        "543e8aaa0c0f41e3a30f834af092dda2": {
          "model_module": "@jupyter-widgets/base",
          "model_name": "LayoutModel",
          "model_module_version": "1.2.0",
          "state": {
            "_model_module": "@jupyter-widgets/base",
            "_model_module_version": "1.2.0",
            "_model_name": "LayoutModel",
            "_view_count": null,
            "_view_module": "@jupyter-widgets/base",
            "_view_module_version": "1.2.0",
            "_view_name": "LayoutView",
            "align_content": null,
            "align_items": null,
            "align_self": null,
            "border": null,
            "bottom": null,
            "display": null,
            "flex": null,
            "flex_flow": null,
            "grid_area": null,
            "grid_auto_columns": null,
            "grid_auto_flow": null,
            "grid_auto_rows": null,
            "grid_column": null,
            "grid_gap": null,
            "grid_row": null,
            "grid_template_areas": null,
            "grid_template_columns": null,
            "grid_template_rows": null,
            "height": null,
            "justify_content": null,
            "justify_items": null,
            "left": null,
            "margin": null,
            "max_height": null,
            "max_width": null,
            "min_height": null,
            "min_width": null,
            "object_fit": null,
            "object_position": null,
            "order": null,
            "overflow": null,
            "overflow_x": null,
            "overflow_y": null,
            "padding": null,
            "right": null,
            "top": null,
            "visibility": null,
            "width": null
          }
        },
        "dd4b962abeba445bb156ef14f720cbdd": {
          "model_module": "@jupyter-widgets/base",
          "model_name": "LayoutModel",
          "model_module_version": "1.2.0",
          "state": {
            "_model_module": "@jupyter-widgets/base",
            "_model_module_version": "1.2.0",
            "_model_name": "LayoutModel",
            "_view_count": null,
            "_view_module": "@jupyter-widgets/base",
            "_view_module_version": "1.2.0",
            "_view_name": "LayoutView",
            "align_content": null,
            "align_items": null,
            "align_self": null,
            "border": null,
            "bottom": null,
            "display": null,
            "flex": null,
            "flex_flow": null,
            "grid_area": null,
            "grid_auto_columns": null,
            "grid_auto_flow": null,
            "grid_auto_rows": null,
            "grid_column": null,
            "grid_gap": null,
            "grid_row": null,
            "grid_template_areas": null,
            "grid_template_columns": null,
            "grid_template_rows": null,
            "height": null,
            "justify_content": null,
            "justify_items": null,
            "left": null,
            "margin": null,
            "max_height": null,
            "max_width": null,
            "min_height": null,
            "min_width": null,
            "object_fit": null,
            "object_position": null,
            "order": null,
            "overflow": null,
            "overflow_x": null,
            "overflow_y": null,
            "padding": null,
            "right": null,
            "top": null,
            "visibility": null,
            "width": null
          }
        },
        "721f967516754e9ba0d2d36981322a16": {
          "model_module": "@jupyter-widgets/controls",
          "model_name": "DescriptionStyleModel",
          "model_module_version": "1.5.0",
          "state": {
            "_model_module": "@jupyter-widgets/controls",
            "_model_module_version": "1.5.0",
            "_model_name": "DescriptionStyleModel",
            "_view_count": null,
            "_view_module": "@jupyter-widgets/base",
            "_view_module_version": "1.2.0",
            "_view_name": "StyleView",
            "description_width": ""
          }
        },
        "c256a272fd724d44a9efb3ec2ad1b37e": {
          "model_module": "@jupyter-widgets/base",
          "model_name": "LayoutModel",
          "model_module_version": "1.2.0",
          "state": {
            "_model_module": "@jupyter-widgets/base",
            "_model_module_version": "1.2.0",
            "_model_name": "LayoutModel",
            "_view_count": null,
            "_view_module": "@jupyter-widgets/base",
            "_view_module_version": "1.2.0",
            "_view_name": "LayoutView",
            "align_content": null,
            "align_items": null,
            "align_self": null,
            "border": null,
            "bottom": null,
            "display": null,
            "flex": null,
            "flex_flow": null,
            "grid_area": null,
            "grid_auto_columns": null,
            "grid_auto_flow": null,
            "grid_auto_rows": null,
            "grid_column": null,
            "grid_gap": null,
            "grid_row": null,
            "grid_template_areas": null,
            "grid_template_columns": null,
            "grid_template_rows": null,
            "height": null,
            "justify_content": null,
            "justify_items": null,
            "left": null,
            "margin": null,
            "max_height": null,
            "max_width": null,
            "min_height": null,
            "min_width": null,
            "object_fit": null,
            "object_position": null,
            "order": null,
            "overflow": null,
            "overflow_x": null,
            "overflow_y": null,
            "padding": null,
            "right": null,
            "top": null,
            "visibility": null,
            "width": null
          }
        },
        "3396ff9891964f89b7984a4223fbd170": {
          "model_module": "@jupyter-widgets/controls",
          "model_name": "ProgressStyleModel",
          "model_module_version": "1.5.0",
          "state": {
            "_model_module": "@jupyter-widgets/controls",
            "_model_module_version": "1.5.0",
            "_model_name": "ProgressStyleModel",
            "_view_count": null,
            "_view_module": "@jupyter-widgets/base",
            "_view_module_version": "1.2.0",
            "_view_name": "StyleView",
            "bar_color": null,
            "description_width": ""
          }
        },
        "b6b14ec6c2904640a514f7351f157718": {
          "model_module": "@jupyter-widgets/base",
          "model_name": "LayoutModel",
          "model_module_version": "1.2.0",
          "state": {
            "_model_module": "@jupyter-widgets/base",
            "_model_module_version": "1.2.0",
            "_model_name": "LayoutModel",
            "_view_count": null,
            "_view_module": "@jupyter-widgets/base",
            "_view_module_version": "1.2.0",
            "_view_name": "LayoutView",
            "align_content": null,
            "align_items": null,
            "align_self": null,
            "border": null,
            "bottom": null,
            "display": null,
            "flex": null,
            "flex_flow": null,
            "grid_area": null,
            "grid_auto_columns": null,
            "grid_auto_flow": null,
            "grid_auto_rows": null,
            "grid_column": null,
            "grid_gap": null,
            "grid_row": null,
            "grid_template_areas": null,
            "grid_template_columns": null,
            "grid_template_rows": null,
            "height": null,
            "justify_content": null,
            "justify_items": null,
            "left": null,
            "margin": null,
            "max_height": null,
            "max_width": null,
            "min_height": null,
            "min_width": null,
            "object_fit": null,
            "object_position": null,
            "order": null,
            "overflow": null,
            "overflow_x": null,
            "overflow_y": null,
            "padding": null,
            "right": null,
            "top": null,
            "visibility": null,
            "width": null
          }
        },
        "3b2788552ba04055867a056927e71689": {
          "model_module": "@jupyter-widgets/controls",
          "model_name": "DescriptionStyleModel",
          "model_module_version": "1.5.0",
          "state": {
            "_model_module": "@jupyter-widgets/controls",
            "_model_module_version": "1.5.0",
            "_model_name": "DescriptionStyleModel",
            "_view_count": null,
            "_view_module": "@jupyter-widgets/base",
            "_view_module_version": "1.2.0",
            "_view_name": "StyleView",
            "description_width": ""
          }
        },
        "91b2f8e839e84bfb9d5554ce41b6303c": {
          "model_module": "@jupyter-widgets/controls",
          "model_name": "HBoxModel",
          "model_module_version": "1.5.0",
          "state": {
            "_dom_classes": [],
            "_model_module": "@jupyter-widgets/controls",
            "_model_module_version": "1.5.0",
            "_model_name": "HBoxModel",
            "_view_count": null,
            "_view_module": "@jupyter-widgets/controls",
            "_view_module_version": "1.5.0",
            "_view_name": "HBoxView",
            "box_style": "",
            "children": [
              "IPY_MODEL_3683336999774a4e97238392671b916b",
              "IPY_MODEL_17e5d9c779b848cf8e7aa9359478c416",
              "IPY_MODEL_fd478c6626744e85ba4f1a3d65f40ac6"
            ],
            "layout": "IPY_MODEL_eebab1e65b5d43368c0781dc1e46c96c"
          }
        },
        "3683336999774a4e97238392671b916b": {
          "model_module": "@jupyter-widgets/controls",
          "model_name": "HTMLModel",
          "model_module_version": "1.5.0",
          "state": {
            "_dom_classes": [],
            "_model_module": "@jupyter-widgets/controls",
            "_model_module_version": "1.5.0",
            "_model_name": "HTMLModel",
            "_view_count": null,
            "_view_module": "@jupyter-widgets/controls",
            "_view_module_version": "1.5.0",
            "_view_name": "HTMLView",
            "description": "",
            "description_tooltip": null,
            "layout": "IPY_MODEL_b2cf942e31f64b44be8a3706a13df3d7",
            "placeholder": "​",
            "style": "IPY_MODEL_79b9374066554581bfd8414d04a521ad",
            "value": "Downloading (…)solve/main/vocab.txt: 100%"
          }
        },
        "17e5d9c779b848cf8e7aa9359478c416": {
          "model_module": "@jupyter-widgets/controls",
          "model_name": "FloatProgressModel",
          "model_module_version": "1.5.0",
          "state": {
            "_dom_classes": [],
            "_model_module": "@jupyter-widgets/controls",
            "_model_module_version": "1.5.0",
            "_model_name": "FloatProgressModel",
            "_view_count": null,
            "_view_module": "@jupyter-widgets/controls",
            "_view_module_version": "1.5.0",
            "_view_name": "ProgressView",
            "bar_style": "success",
            "description": "",
            "description_tooltip": null,
            "layout": "IPY_MODEL_f7948f3b0ba849c4a1eaefe41bc2fd49",
            "max": 231508,
            "min": 0,
            "orientation": "horizontal",
            "style": "IPY_MODEL_14900c31ec0c41a6a357a1a4cc94d8a1",
            "value": 231508
          }
        },
        "fd478c6626744e85ba4f1a3d65f40ac6": {
          "model_module": "@jupyter-widgets/controls",
          "model_name": "HTMLModel",
          "model_module_version": "1.5.0",
          "state": {
            "_dom_classes": [],
            "_model_module": "@jupyter-widgets/controls",
            "_model_module_version": "1.5.0",
            "_model_name": "HTMLModel",
            "_view_count": null,
            "_view_module": "@jupyter-widgets/controls",
            "_view_module_version": "1.5.0",
            "_view_name": "HTMLView",
            "description": "",
            "description_tooltip": null,
            "layout": "IPY_MODEL_f4bfad4ba33449d895d8f25180a92912",
            "placeholder": "​",
            "style": "IPY_MODEL_14e92ef6796a478b83aa083aad9087ef",
            "value": " 232k/232k [00:01&lt;00:00, 172kB/s]"
          }
        },
        "eebab1e65b5d43368c0781dc1e46c96c": {
          "model_module": "@jupyter-widgets/base",
          "model_name": "LayoutModel",
          "model_module_version": "1.2.0",
          "state": {
            "_model_module": "@jupyter-widgets/base",
            "_model_module_version": "1.2.0",
            "_model_name": "LayoutModel",
            "_view_count": null,
            "_view_module": "@jupyter-widgets/base",
            "_view_module_version": "1.2.0",
            "_view_name": "LayoutView",
            "align_content": null,
            "align_items": null,
            "align_self": null,
            "border": null,
            "bottom": null,
            "display": null,
            "flex": null,
            "flex_flow": null,
            "grid_area": null,
            "grid_auto_columns": null,
            "grid_auto_flow": null,
            "grid_auto_rows": null,
            "grid_column": null,
            "grid_gap": null,
            "grid_row": null,
            "grid_template_areas": null,
            "grid_template_columns": null,
            "grid_template_rows": null,
            "height": null,
            "justify_content": null,
            "justify_items": null,
            "left": null,
            "margin": null,
            "max_height": null,
            "max_width": null,
            "min_height": null,
            "min_width": null,
            "object_fit": null,
            "object_position": null,
            "order": null,
            "overflow": null,
            "overflow_x": null,
            "overflow_y": null,
            "padding": null,
            "right": null,
            "top": null,
            "visibility": null,
            "width": null
          }
        },
        "b2cf942e31f64b44be8a3706a13df3d7": {
          "model_module": "@jupyter-widgets/base",
          "model_name": "LayoutModel",
          "model_module_version": "1.2.0",
          "state": {
            "_model_module": "@jupyter-widgets/base",
            "_model_module_version": "1.2.0",
            "_model_name": "LayoutModel",
            "_view_count": null,
            "_view_module": "@jupyter-widgets/base",
            "_view_module_version": "1.2.0",
            "_view_name": "LayoutView",
            "align_content": null,
            "align_items": null,
            "align_self": null,
            "border": null,
            "bottom": null,
            "display": null,
            "flex": null,
            "flex_flow": null,
            "grid_area": null,
            "grid_auto_columns": null,
            "grid_auto_flow": null,
            "grid_auto_rows": null,
            "grid_column": null,
            "grid_gap": null,
            "grid_row": null,
            "grid_template_areas": null,
            "grid_template_columns": null,
            "grid_template_rows": null,
            "height": null,
            "justify_content": null,
            "justify_items": null,
            "left": null,
            "margin": null,
            "max_height": null,
            "max_width": null,
            "min_height": null,
            "min_width": null,
            "object_fit": null,
            "object_position": null,
            "order": null,
            "overflow": null,
            "overflow_x": null,
            "overflow_y": null,
            "padding": null,
            "right": null,
            "top": null,
            "visibility": null,
            "width": null
          }
        },
        "79b9374066554581bfd8414d04a521ad": {
          "model_module": "@jupyter-widgets/controls",
          "model_name": "DescriptionStyleModel",
          "model_module_version": "1.5.0",
          "state": {
            "_model_module": "@jupyter-widgets/controls",
            "_model_module_version": "1.5.0",
            "_model_name": "DescriptionStyleModel",
            "_view_count": null,
            "_view_module": "@jupyter-widgets/base",
            "_view_module_version": "1.2.0",
            "_view_name": "StyleView",
            "description_width": ""
          }
        },
        "f7948f3b0ba849c4a1eaefe41bc2fd49": {
          "model_module": "@jupyter-widgets/base",
          "model_name": "LayoutModel",
          "model_module_version": "1.2.0",
          "state": {
            "_model_module": "@jupyter-widgets/base",
            "_model_module_version": "1.2.0",
            "_model_name": "LayoutModel",
            "_view_count": null,
            "_view_module": "@jupyter-widgets/base",
            "_view_module_version": "1.2.0",
            "_view_name": "LayoutView",
            "align_content": null,
            "align_items": null,
            "align_self": null,
            "border": null,
            "bottom": null,
            "display": null,
            "flex": null,
            "flex_flow": null,
            "grid_area": null,
            "grid_auto_columns": null,
            "grid_auto_flow": null,
            "grid_auto_rows": null,
            "grid_column": null,
            "grid_gap": null,
            "grid_row": null,
            "grid_template_areas": null,
            "grid_template_columns": null,
            "grid_template_rows": null,
            "height": null,
            "justify_content": null,
            "justify_items": null,
            "left": null,
            "margin": null,
            "max_height": null,
            "max_width": null,
            "min_height": null,
            "min_width": null,
            "object_fit": null,
            "object_position": null,
            "order": null,
            "overflow": null,
            "overflow_x": null,
            "overflow_y": null,
            "padding": null,
            "right": null,
            "top": null,
            "visibility": null,
            "width": null
          }
        },
        "14900c31ec0c41a6a357a1a4cc94d8a1": {
          "model_module": "@jupyter-widgets/controls",
          "model_name": "ProgressStyleModel",
          "model_module_version": "1.5.0",
          "state": {
            "_model_module": "@jupyter-widgets/controls",
            "_model_module_version": "1.5.0",
            "_model_name": "ProgressStyleModel",
            "_view_count": null,
            "_view_module": "@jupyter-widgets/base",
            "_view_module_version": "1.2.0",
            "_view_name": "StyleView",
            "bar_color": null,
            "description_width": ""
          }
        },
        "f4bfad4ba33449d895d8f25180a92912": {
          "model_module": "@jupyter-widgets/base",
          "model_name": "LayoutModel",
          "model_module_version": "1.2.0",
          "state": {
            "_model_module": "@jupyter-widgets/base",
            "_model_module_version": "1.2.0",
            "_model_name": "LayoutModel",
            "_view_count": null,
            "_view_module": "@jupyter-widgets/base",
            "_view_module_version": "1.2.0",
            "_view_name": "LayoutView",
            "align_content": null,
            "align_items": null,
            "align_self": null,
            "border": null,
            "bottom": null,
            "display": null,
            "flex": null,
            "flex_flow": null,
            "grid_area": null,
            "grid_auto_columns": null,
            "grid_auto_flow": null,
            "grid_auto_rows": null,
            "grid_column": null,
            "grid_gap": null,
            "grid_row": null,
            "grid_template_areas": null,
            "grid_template_columns": null,
            "grid_template_rows": null,
            "height": null,
            "justify_content": null,
            "justify_items": null,
            "left": null,
            "margin": null,
            "max_height": null,
            "max_width": null,
            "min_height": null,
            "min_width": null,
            "object_fit": null,
            "object_position": null,
            "order": null,
            "overflow": null,
            "overflow_x": null,
            "overflow_y": null,
            "padding": null,
            "right": null,
            "top": null,
            "visibility": null,
            "width": null
          }
        },
        "14e92ef6796a478b83aa083aad9087ef": {
          "model_module": "@jupyter-widgets/controls",
          "model_name": "DescriptionStyleModel",
          "model_module_version": "1.5.0",
          "state": {
            "_model_module": "@jupyter-widgets/controls",
            "_model_module_version": "1.5.0",
            "_model_name": "DescriptionStyleModel",
            "_view_count": null,
            "_view_module": "@jupyter-widgets/base",
            "_view_module_version": "1.2.0",
            "_view_name": "StyleView",
            "description_width": ""
          }
        },
        "930302a16e1a4c75b86b64cd386b2cdb": {
          "model_module": "@jupyter-widgets/controls",
          "model_name": "HBoxModel",
          "model_module_version": "1.5.0",
          "state": {
            "_dom_classes": [],
            "_model_module": "@jupyter-widgets/controls",
            "_model_module_version": "1.5.0",
            "_model_name": "HBoxModel",
            "_view_count": null,
            "_view_module": "@jupyter-widgets/controls",
            "_view_module_version": "1.5.0",
            "_view_name": "HBoxView",
            "box_style": "",
            "children": [
              "IPY_MODEL_8349a022882246e68a5a0793da21d881",
              "IPY_MODEL_3a067dc2fd394de39afbce350d22d27f",
              "IPY_MODEL_1c1792cc6fa6406aa13451613afef4d5"
            ],
            "layout": "IPY_MODEL_99ae2d4a31e34e8fb768045b20b4940d"
          }
        },
        "8349a022882246e68a5a0793da21d881": {
          "model_module": "@jupyter-widgets/controls",
          "model_name": "HTMLModel",
          "model_module_version": "1.5.0",
          "state": {
            "_dom_classes": [],
            "_model_module": "@jupyter-widgets/controls",
            "_model_module_version": "1.5.0",
            "_model_name": "HTMLModel",
            "_view_count": null,
            "_view_module": "@jupyter-widgets/controls",
            "_view_module_version": "1.5.0",
            "_view_name": "HTMLView",
            "description": "",
            "description_tooltip": null,
            "layout": "IPY_MODEL_5bed52869c2447999a82ea695babf613",
            "placeholder": "​",
            "style": "IPY_MODEL_4fe2ebb726694500834bc310b06d3b2a",
            "value": "Downloading (…)/main/tokenizer.json: 100%"
          }
        },
        "3a067dc2fd394de39afbce350d22d27f": {
          "model_module": "@jupyter-widgets/controls",
          "model_name": "FloatProgressModel",
          "model_module_version": "1.5.0",
          "state": {
            "_dom_classes": [],
            "_model_module": "@jupyter-widgets/controls",
            "_model_module_version": "1.5.0",
            "_model_name": "FloatProgressModel",
            "_view_count": null,
            "_view_module": "@jupyter-widgets/controls",
            "_view_module_version": "1.5.0",
            "_view_name": "ProgressView",
            "bar_style": "success",
            "description": "",
            "description_tooltip": null,
            "layout": "IPY_MODEL_d9baa29fbf284985883fcc744f1dd7f6",
            "max": 466081,
            "min": 0,
            "orientation": "horizontal",
            "style": "IPY_MODEL_899330ef131e4ceb968ed49efc4aff50",
            "value": 466081
          }
        },
        "1c1792cc6fa6406aa13451613afef4d5": {
          "model_module": "@jupyter-widgets/controls",
          "model_name": "HTMLModel",
          "model_module_version": "1.5.0",
          "state": {
            "_dom_classes": [],
            "_model_module": "@jupyter-widgets/controls",
            "_model_module_version": "1.5.0",
            "_model_name": "HTMLModel",
            "_view_count": null,
            "_view_module": "@jupyter-widgets/controls",
            "_view_module_version": "1.5.0",
            "_view_name": "HTMLView",
            "description": "",
            "description_tooltip": null,
            "layout": "IPY_MODEL_8d328332957945ab9840b0c9ea4eff4a",
            "placeholder": "​",
            "style": "IPY_MODEL_3ccff44c09c849eb8ce7b6f48416f008",
            "value": " 466k/466k [00:00&lt;00:00, 740kB/s]"
          }
        },
        "99ae2d4a31e34e8fb768045b20b4940d": {
          "model_module": "@jupyter-widgets/base",
          "model_name": "LayoutModel",
          "model_module_version": "1.2.0",
          "state": {
            "_model_module": "@jupyter-widgets/base",
            "_model_module_version": "1.2.0",
            "_model_name": "LayoutModel",
            "_view_count": null,
            "_view_module": "@jupyter-widgets/base",
            "_view_module_version": "1.2.0",
            "_view_name": "LayoutView",
            "align_content": null,
            "align_items": null,
            "align_self": null,
            "border": null,
            "bottom": null,
            "display": null,
            "flex": null,
            "flex_flow": null,
            "grid_area": null,
            "grid_auto_columns": null,
            "grid_auto_flow": null,
            "grid_auto_rows": null,
            "grid_column": null,
            "grid_gap": null,
            "grid_row": null,
            "grid_template_areas": null,
            "grid_template_columns": null,
            "grid_template_rows": null,
            "height": null,
            "justify_content": null,
            "justify_items": null,
            "left": null,
            "margin": null,
            "max_height": null,
            "max_width": null,
            "min_height": null,
            "min_width": null,
            "object_fit": null,
            "object_position": null,
            "order": null,
            "overflow": null,
            "overflow_x": null,
            "overflow_y": null,
            "padding": null,
            "right": null,
            "top": null,
            "visibility": null,
            "width": null
          }
        },
        "5bed52869c2447999a82ea695babf613": {
          "model_module": "@jupyter-widgets/base",
          "model_name": "LayoutModel",
          "model_module_version": "1.2.0",
          "state": {
            "_model_module": "@jupyter-widgets/base",
            "_model_module_version": "1.2.0",
            "_model_name": "LayoutModel",
            "_view_count": null,
            "_view_module": "@jupyter-widgets/base",
            "_view_module_version": "1.2.0",
            "_view_name": "LayoutView",
            "align_content": null,
            "align_items": null,
            "align_self": null,
            "border": null,
            "bottom": null,
            "display": null,
            "flex": null,
            "flex_flow": null,
            "grid_area": null,
            "grid_auto_columns": null,
            "grid_auto_flow": null,
            "grid_auto_rows": null,
            "grid_column": null,
            "grid_gap": null,
            "grid_row": null,
            "grid_template_areas": null,
            "grid_template_columns": null,
            "grid_template_rows": null,
            "height": null,
            "justify_content": null,
            "justify_items": null,
            "left": null,
            "margin": null,
            "max_height": null,
            "max_width": null,
            "min_height": null,
            "min_width": null,
            "object_fit": null,
            "object_position": null,
            "order": null,
            "overflow": null,
            "overflow_x": null,
            "overflow_y": null,
            "padding": null,
            "right": null,
            "top": null,
            "visibility": null,
            "width": null
          }
        },
        "4fe2ebb726694500834bc310b06d3b2a": {
          "model_module": "@jupyter-widgets/controls",
          "model_name": "DescriptionStyleModel",
          "model_module_version": "1.5.0",
          "state": {
            "_model_module": "@jupyter-widgets/controls",
            "_model_module_version": "1.5.0",
            "_model_name": "DescriptionStyleModel",
            "_view_count": null,
            "_view_module": "@jupyter-widgets/base",
            "_view_module_version": "1.2.0",
            "_view_name": "StyleView",
            "description_width": ""
          }
        },
        "d9baa29fbf284985883fcc744f1dd7f6": {
          "model_module": "@jupyter-widgets/base",
          "model_name": "LayoutModel",
          "model_module_version": "1.2.0",
          "state": {
            "_model_module": "@jupyter-widgets/base",
            "_model_module_version": "1.2.0",
            "_model_name": "LayoutModel",
            "_view_count": null,
            "_view_module": "@jupyter-widgets/base",
            "_view_module_version": "1.2.0",
            "_view_name": "LayoutView",
            "align_content": null,
            "align_items": null,
            "align_self": null,
            "border": null,
            "bottom": null,
            "display": null,
            "flex": null,
            "flex_flow": null,
            "grid_area": null,
            "grid_auto_columns": null,
            "grid_auto_flow": null,
            "grid_auto_rows": null,
            "grid_column": null,
            "grid_gap": null,
            "grid_row": null,
            "grid_template_areas": null,
            "grid_template_columns": null,
            "grid_template_rows": null,
            "height": null,
            "justify_content": null,
            "justify_items": null,
            "left": null,
            "margin": null,
            "max_height": null,
            "max_width": null,
            "min_height": null,
            "min_width": null,
            "object_fit": null,
            "object_position": null,
            "order": null,
            "overflow": null,
            "overflow_x": null,
            "overflow_y": null,
            "padding": null,
            "right": null,
            "top": null,
            "visibility": null,
            "width": null
          }
        },
        "899330ef131e4ceb968ed49efc4aff50": {
          "model_module": "@jupyter-widgets/controls",
          "model_name": "ProgressStyleModel",
          "model_module_version": "1.5.0",
          "state": {
            "_model_module": "@jupyter-widgets/controls",
            "_model_module_version": "1.5.0",
            "_model_name": "ProgressStyleModel",
            "_view_count": null,
            "_view_module": "@jupyter-widgets/base",
            "_view_module_version": "1.2.0",
            "_view_name": "StyleView",
            "bar_color": null,
            "description_width": ""
          }
        },
        "8d328332957945ab9840b0c9ea4eff4a": {
          "model_module": "@jupyter-widgets/base",
          "model_name": "LayoutModel",
          "model_module_version": "1.2.0",
          "state": {
            "_model_module": "@jupyter-widgets/base",
            "_model_module_version": "1.2.0",
            "_model_name": "LayoutModel",
            "_view_count": null,
            "_view_module": "@jupyter-widgets/base",
            "_view_module_version": "1.2.0",
            "_view_name": "LayoutView",
            "align_content": null,
            "align_items": null,
            "align_self": null,
            "border": null,
            "bottom": null,
            "display": null,
            "flex": null,
            "flex_flow": null,
            "grid_area": null,
            "grid_auto_columns": null,
            "grid_auto_flow": null,
            "grid_auto_rows": null,
            "grid_column": null,
            "grid_gap": null,
            "grid_row": null,
            "grid_template_areas": null,
            "grid_template_columns": null,
            "grid_template_rows": null,
            "height": null,
            "justify_content": null,
            "justify_items": null,
            "left": null,
            "margin": null,
            "max_height": null,
            "max_width": null,
            "min_height": null,
            "min_width": null,
            "object_fit": null,
            "object_position": null,
            "order": null,
            "overflow": null,
            "overflow_x": null,
            "overflow_y": null,
            "padding": null,
            "right": null,
            "top": null,
            "visibility": null,
            "width": null
          }
        },
        "3ccff44c09c849eb8ce7b6f48416f008": {
          "model_module": "@jupyter-widgets/controls",
          "model_name": "DescriptionStyleModel",
          "model_module_version": "1.5.0",
          "state": {
            "_model_module": "@jupyter-widgets/controls",
            "_model_module_version": "1.5.0",
            "_model_name": "DescriptionStyleModel",
            "_view_count": null,
            "_view_module": "@jupyter-widgets/base",
            "_view_module_version": "1.2.0",
            "_view_name": "StyleView",
            "description_width": ""
          }
        },
        "f4e9b33363d54d61a5a2d5fa6d49144e": {
          "model_module": "@jupyter-widgets/controls",
          "model_name": "HBoxModel",
          "model_module_version": "1.5.0",
          "state": {
            "_dom_classes": [],
            "_model_module": "@jupyter-widgets/controls",
            "_model_module_version": "1.5.0",
            "_model_name": "HBoxModel",
            "_view_count": null,
            "_view_module": "@jupyter-widgets/controls",
            "_view_module_version": "1.5.0",
            "_view_name": "HBoxView",
            "box_style": "",
            "children": [
              "IPY_MODEL_9d8ea59d0edb4e3aba7854480792a9ac",
              "IPY_MODEL_05e0a48522a34b14aeaeb87fc6801d26",
              "IPY_MODEL_f5d4134c075a44f08a7169c17f2f4d3f"
            ],
            "layout": "IPY_MODEL_9880b703fb814208aebea6886640dba1"
          }
        },
        "9d8ea59d0edb4e3aba7854480792a9ac": {
          "model_module": "@jupyter-widgets/controls",
          "model_name": "HTMLModel",
          "model_module_version": "1.5.0",
          "state": {
            "_dom_classes": [],
            "_model_module": "@jupyter-widgets/controls",
            "_model_module_version": "1.5.0",
            "_model_name": "HTMLModel",
            "_view_count": null,
            "_view_module": "@jupyter-widgets/controls",
            "_view_module_version": "1.5.0",
            "_view_name": "HTMLView",
            "description": "",
            "description_tooltip": null,
            "layout": "IPY_MODEL_1daf67fc39404ee5a42e2616b16685a1",
            "placeholder": "​",
            "style": "IPY_MODEL_9138000ff5fa41d6b77306a3de53ce6c",
            "value": "Downloading (…)cial_tokens_map.json: 100%"
          }
        },
        "05e0a48522a34b14aeaeb87fc6801d26": {
          "model_module": "@jupyter-widgets/controls",
          "model_name": "FloatProgressModel",
          "model_module_version": "1.5.0",
          "state": {
            "_dom_classes": [],
            "_model_module": "@jupyter-widgets/controls",
            "_model_module_version": "1.5.0",
            "_model_name": "FloatProgressModel",
            "_view_count": null,
            "_view_module": "@jupyter-widgets/controls",
            "_view_module_version": "1.5.0",
            "_view_name": "ProgressView",
            "bar_style": "success",
            "description": "",
            "description_tooltip": null,
            "layout": "IPY_MODEL_c0c90d058b3a4ea4a8f03dc844484a17",
            "max": 112,
            "min": 0,
            "orientation": "horizontal",
            "style": "IPY_MODEL_8655f68494bc48e98d2d344809bcc828",
            "value": 112
          }
        },
        "f5d4134c075a44f08a7169c17f2f4d3f": {
          "model_module": "@jupyter-widgets/controls",
          "model_name": "HTMLModel",
          "model_module_version": "1.5.0",
          "state": {
            "_dom_classes": [],
            "_model_module": "@jupyter-widgets/controls",
            "_model_module_version": "1.5.0",
            "_model_name": "HTMLModel",
            "_view_count": null,
            "_view_module": "@jupyter-widgets/controls",
            "_view_module_version": "1.5.0",
            "_view_name": "HTMLView",
            "description": "",
            "description_tooltip": null,
            "layout": "IPY_MODEL_b440897ac83f44f88431653932ff0808",
            "placeholder": "​",
            "style": "IPY_MODEL_bc243f11d0f14d2d87a5e2f91fe49969",
            "value": " 112/112 [00:01&lt;00:00, 108B/s]"
          }
        },
        "9880b703fb814208aebea6886640dba1": {
          "model_module": "@jupyter-widgets/base",
          "model_name": "LayoutModel",
          "model_module_version": "1.2.0",
          "state": {
            "_model_module": "@jupyter-widgets/base",
            "_model_module_version": "1.2.0",
            "_model_name": "LayoutModel",
            "_view_count": null,
            "_view_module": "@jupyter-widgets/base",
            "_view_module_version": "1.2.0",
            "_view_name": "LayoutView",
            "align_content": null,
            "align_items": null,
            "align_self": null,
            "border": null,
            "bottom": null,
            "display": null,
            "flex": null,
            "flex_flow": null,
            "grid_area": null,
            "grid_auto_columns": null,
            "grid_auto_flow": null,
            "grid_auto_rows": null,
            "grid_column": null,
            "grid_gap": null,
            "grid_row": null,
            "grid_template_areas": null,
            "grid_template_columns": null,
            "grid_template_rows": null,
            "height": null,
            "justify_content": null,
            "justify_items": null,
            "left": null,
            "margin": null,
            "max_height": null,
            "max_width": null,
            "min_height": null,
            "min_width": null,
            "object_fit": null,
            "object_position": null,
            "order": null,
            "overflow": null,
            "overflow_x": null,
            "overflow_y": null,
            "padding": null,
            "right": null,
            "top": null,
            "visibility": null,
            "width": null
          }
        },
        "1daf67fc39404ee5a42e2616b16685a1": {
          "model_module": "@jupyter-widgets/base",
          "model_name": "LayoutModel",
          "model_module_version": "1.2.0",
          "state": {
            "_model_module": "@jupyter-widgets/base",
            "_model_module_version": "1.2.0",
            "_model_name": "LayoutModel",
            "_view_count": null,
            "_view_module": "@jupyter-widgets/base",
            "_view_module_version": "1.2.0",
            "_view_name": "LayoutView",
            "align_content": null,
            "align_items": null,
            "align_self": null,
            "border": null,
            "bottom": null,
            "display": null,
            "flex": null,
            "flex_flow": null,
            "grid_area": null,
            "grid_auto_columns": null,
            "grid_auto_flow": null,
            "grid_auto_rows": null,
            "grid_column": null,
            "grid_gap": null,
            "grid_row": null,
            "grid_template_areas": null,
            "grid_template_columns": null,
            "grid_template_rows": null,
            "height": null,
            "justify_content": null,
            "justify_items": null,
            "left": null,
            "margin": null,
            "max_height": null,
            "max_width": null,
            "min_height": null,
            "min_width": null,
            "object_fit": null,
            "object_position": null,
            "order": null,
            "overflow": null,
            "overflow_x": null,
            "overflow_y": null,
            "padding": null,
            "right": null,
            "top": null,
            "visibility": null,
            "width": null
          }
        },
        "9138000ff5fa41d6b77306a3de53ce6c": {
          "model_module": "@jupyter-widgets/controls",
          "model_name": "DescriptionStyleModel",
          "model_module_version": "1.5.0",
          "state": {
            "_model_module": "@jupyter-widgets/controls",
            "_model_module_version": "1.5.0",
            "_model_name": "DescriptionStyleModel",
            "_view_count": null,
            "_view_module": "@jupyter-widgets/base",
            "_view_module_version": "1.2.0",
            "_view_name": "StyleView",
            "description_width": ""
          }
        },
        "c0c90d058b3a4ea4a8f03dc844484a17": {
          "model_module": "@jupyter-widgets/base",
          "model_name": "LayoutModel",
          "model_module_version": "1.2.0",
          "state": {
            "_model_module": "@jupyter-widgets/base",
            "_model_module_version": "1.2.0",
            "_model_name": "LayoutModel",
            "_view_count": null,
            "_view_module": "@jupyter-widgets/base",
            "_view_module_version": "1.2.0",
            "_view_name": "LayoutView",
            "align_content": null,
            "align_items": null,
            "align_self": null,
            "border": null,
            "bottom": null,
            "display": null,
            "flex": null,
            "flex_flow": null,
            "grid_area": null,
            "grid_auto_columns": null,
            "grid_auto_flow": null,
            "grid_auto_rows": null,
            "grid_column": null,
            "grid_gap": null,
            "grid_row": null,
            "grid_template_areas": null,
            "grid_template_columns": null,
            "grid_template_rows": null,
            "height": null,
            "justify_content": null,
            "justify_items": null,
            "left": null,
            "margin": null,
            "max_height": null,
            "max_width": null,
            "min_height": null,
            "min_width": null,
            "object_fit": null,
            "object_position": null,
            "order": null,
            "overflow": null,
            "overflow_x": null,
            "overflow_y": null,
            "padding": null,
            "right": null,
            "top": null,
            "visibility": null,
            "width": null
          }
        },
        "8655f68494bc48e98d2d344809bcc828": {
          "model_module": "@jupyter-widgets/controls",
          "model_name": "ProgressStyleModel",
          "model_module_version": "1.5.0",
          "state": {
            "_model_module": "@jupyter-widgets/controls",
            "_model_module_version": "1.5.0",
            "_model_name": "ProgressStyleModel",
            "_view_count": null,
            "_view_module": "@jupyter-widgets/base",
            "_view_module_version": "1.2.0",
            "_view_name": "StyleView",
            "bar_color": null,
            "description_width": ""
          }
        },
        "b440897ac83f44f88431653932ff0808": {
          "model_module": "@jupyter-widgets/base",
          "model_name": "LayoutModel",
          "model_module_version": "1.2.0",
          "state": {
            "_model_module": "@jupyter-widgets/base",
            "_model_module_version": "1.2.0",
            "_model_name": "LayoutModel",
            "_view_count": null,
            "_view_module": "@jupyter-widgets/base",
            "_view_module_version": "1.2.0",
            "_view_name": "LayoutView",
            "align_content": null,
            "align_items": null,
            "align_self": null,
            "border": null,
            "bottom": null,
            "display": null,
            "flex": null,
            "flex_flow": null,
            "grid_area": null,
            "grid_auto_columns": null,
            "grid_auto_flow": null,
            "grid_auto_rows": null,
            "grid_column": null,
            "grid_gap": null,
            "grid_row": null,
            "grid_template_areas": null,
            "grid_template_columns": null,
            "grid_template_rows": null,
            "height": null,
            "justify_content": null,
            "justify_items": null,
            "left": null,
            "margin": null,
            "max_height": null,
            "max_width": null,
            "min_height": null,
            "min_width": null,
            "object_fit": null,
            "object_position": null,
            "order": null,
            "overflow": null,
            "overflow_x": null,
            "overflow_y": null,
            "padding": null,
            "right": null,
            "top": null,
            "visibility": null,
            "width": null
          }
        },
        "bc243f11d0f14d2d87a5e2f91fe49969": {
          "model_module": "@jupyter-widgets/controls",
          "model_name": "DescriptionStyleModel",
          "model_module_version": "1.5.0",
          "state": {
            "_model_module": "@jupyter-widgets/controls",
            "_model_module_version": "1.5.0",
            "_model_name": "DescriptionStyleModel",
            "_view_count": null,
            "_view_module": "@jupyter-widgets/base",
            "_view_module_version": "1.2.0",
            "_view_name": "StyleView",
            "description_width": ""
          }
        },
        "4ba1c1d770ff440492ab1afe7d977195": {
          "model_module": "@jupyter-widgets/controls",
          "model_name": "HBoxModel",
          "model_module_version": "1.5.0",
          "state": {
            "_dom_classes": [],
            "_model_module": "@jupyter-widgets/controls",
            "_model_module_version": "1.5.0",
            "_model_name": "HBoxModel",
            "_view_count": null,
            "_view_module": "@jupyter-widgets/controls",
            "_view_module_version": "1.5.0",
            "_view_name": "HBoxView",
            "box_style": "",
            "children": [
              "IPY_MODEL_cf678944f6c447fcab258ed2b47a74c8",
              "IPY_MODEL_6c41d871ad404838af8b641e7abd7417",
              "IPY_MODEL_77211b72c8a84cda8fffea9bc0d0ae10"
            ],
            "layout": "IPY_MODEL_9250f6c6f9d242aa97dbe86f1d718c62"
          }
        },
        "cf678944f6c447fcab258ed2b47a74c8": {
          "model_module": "@jupyter-widgets/controls",
          "model_name": "HTMLModel",
          "model_module_version": "1.5.0",
          "state": {
            "_dom_classes": [],
            "_model_module": "@jupyter-widgets/controls",
            "_model_module_version": "1.5.0",
            "_model_name": "HTMLModel",
            "_view_count": null,
            "_view_module": "@jupyter-widgets/controls",
            "_view_module_version": "1.5.0",
            "_view_name": "HTMLView",
            "description": "",
            "description_tooltip": null,
            "layout": "IPY_MODEL_a03cebd10a7847d7bc660805325f6b7f",
            "placeholder": "​",
            "style": "IPY_MODEL_c74ee157515649919b57eb6eae52f330",
            "value": "Downloading (…)lve/main/config.json: 100%"
          }
        },
        "6c41d871ad404838af8b641e7abd7417": {
          "model_module": "@jupyter-widgets/controls",
          "model_name": "FloatProgressModel",
          "model_module_version": "1.5.0",
          "state": {
            "_dom_classes": [],
            "_model_module": "@jupyter-widgets/controls",
            "_model_module_version": "1.5.0",
            "_model_name": "FloatProgressModel",
            "_view_count": null,
            "_view_module": "@jupyter-widgets/controls",
            "_view_module_version": "1.5.0",
            "_view_name": "ProgressView",
            "bar_style": "success",
            "description": "",
            "description_tooltip": null,
            "layout": "IPY_MODEL_b062ea8539ca4e549c3b8710bc9ef19c",
            "max": 670,
            "min": 0,
            "orientation": "horizontal",
            "style": "IPY_MODEL_69efdbab54084771980df9a26fdffac4",
            "value": 670
          }
        },
        "77211b72c8a84cda8fffea9bc0d0ae10": {
          "model_module": "@jupyter-widgets/controls",
          "model_name": "HTMLModel",
          "model_module_version": "1.5.0",
          "state": {
            "_dom_classes": [],
            "_model_module": "@jupyter-widgets/controls",
            "_model_module_version": "1.5.0",
            "_model_name": "HTMLModel",
            "_view_count": null,
            "_view_module": "@jupyter-widgets/controls",
            "_view_module_version": "1.5.0",
            "_view_name": "HTMLView",
            "description": "",
            "description_tooltip": null,
            "layout": "IPY_MODEL_adc41e0a245e4109849f8db5a1f13935",
            "placeholder": "​",
            "style": "IPY_MODEL_7a4e7f15f54f41e99d8340f71390d06a",
            "value": " 670/670 [00:00&lt;00:00, 59.0kB/s]"
          }
        },
        "9250f6c6f9d242aa97dbe86f1d718c62": {
          "model_module": "@jupyter-widgets/base",
          "model_name": "LayoutModel",
          "model_module_version": "1.2.0",
          "state": {
            "_model_module": "@jupyter-widgets/base",
            "_model_module_version": "1.2.0",
            "_model_name": "LayoutModel",
            "_view_count": null,
            "_view_module": "@jupyter-widgets/base",
            "_view_module_version": "1.2.0",
            "_view_name": "LayoutView",
            "align_content": null,
            "align_items": null,
            "align_self": null,
            "border": null,
            "bottom": null,
            "display": null,
            "flex": null,
            "flex_flow": null,
            "grid_area": null,
            "grid_auto_columns": null,
            "grid_auto_flow": null,
            "grid_auto_rows": null,
            "grid_column": null,
            "grid_gap": null,
            "grid_row": null,
            "grid_template_areas": null,
            "grid_template_columns": null,
            "grid_template_rows": null,
            "height": null,
            "justify_content": null,
            "justify_items": null,
            "left": null,
            "margin": null,
            "max_height": null,
            "max_width": null,
            "min_height": null,
            "min_width": null,
            "object_fit": null,
            "object_position": null,
            "order": null,
            "overflow": null,
            "overflow_x": null,
            "overflow_y": null,
            "padding": null,
            "right": null,
            "top": null,
            "visibility": null,
            "width": null
          }
        },
        "a03cebd10a7847d7bc660805325f6b7f": {
          "model_module": "@jupyter-widgets/base",
          "model_name": "LayoutModel",
          "model_module_version": "1.2.0",
          "state": {
            "_model_module": "@jupyter-widgets/base",
            "_model_module_version": "1.2.0",
            "_model_name": "LayoutModel",
            "_view_count": null,
            "_view_module": "@jupyter-widgets/base",
            "_view_module_version": "1.2.0",
            "_view_name": "LayoutView",
            "align_content": null,
            "align_items": null,
            "align_self": null,
            "border": null,
            "bottom": null,
            "display": null,
            "flex": null,
            "flex_flow": null,
            "grid_area": null,
            "grid_auto_columns": null,
            "grid_auto_flow": null,
            "grid_auto_rows": null,
            "grid_column": null,
            "grid_gap": null,
            "grid_row": null,
            "grid_template_areas": null,
            "grid_template_columns": null,
            "grid_template_rows": null,
            "height": null,
            "justify_content": null,
            "justify_items": null,
            "left": null,
            "margin": null,
            "max_height": null,
            "max_width": null,
            "min_height": null,
            "min_width": null,
            "object_fit": null,
            "object_position": null,
            "order": null,
            "overflow": null,
            "overflow_x": null,
            "overflow_y": null,
            "padding": null,
            "right": null,
            "top": null,
            "visibility": null,
            "width": null
          }
        },
        "c74ee157515649919b57eb6eae52f330": {
          "model_module": "@jupyter-widgets/controls",
          "model_name": "DescriptionStyleModel",
          "model_module_version": "1.5.0",
          "state": {
            "_model_module": "@jupyter-widgets/controls",
            "_model_module_version": "1.5.0",
            "_model_name": "DescriptionStyleModel",
            "_view_count": null,
            "_view_module": "@jupyter-widgets/base",
            "_view_module_version": "1.2.0",
            "_view_name": "StyleView",
            "description_width": ""
          }
        },
        "b062ea8539ca4e549c3b8710bc9ef19c": {
          "model_module": "@jupyter-widgets/base",
          "model_name": "LayoutModel",
          "model_module_version": "1.2.0",
          "state": {
            "_model_module": "@jupyter-widgets/base",
            "_model_module_version": "1.2.0",
            "_model_name": "LayoutModel",
            "_view_count": null,
            "_view_module": "@jupyter-widgets/base",
            "_view_module_version": "1.2.0",
            "_view_name": "LayoutView",
            "align_content": null,
            "align_items": null,
            "align_self": null,
            "border": null,
            "bottom": null,
            "display": null,
            "flex": null,
            "flex_flow": null,
            "grid_area": null,
            "grid_auto_columns": null,
            "grid_auto_flow": null,
            "grid_auto_rows": null,
            "grid_column": null,
            "grid_gap": null,
            "grid_row": null,
            "grid_template_areas": null,
            "grid_template_columns": null,
            "grid_template_rows": null,
            "height": null,
            "justify_content": null,
            "justify_items": null,
            "left": null,
            "margin": null,
            "max_height": null,
            "max_width": null,
            "min_height": null,
            "min_width": null,
            "object_fit": null,
            "object_position": null,
            "order": null,
            "overflow": null,
            "overflow_x": null,
            "overflow_y": null,
            "padding": null,
            "right": null,
            "top": null,
            "visibility": null,
            "width": null
          }
        },
        "69efdbab54084771980df9a26fdffac4": {
          "model_module": "@jupyter-widgets/controls",
          "model_name": "ProgressStyleModel",
          "model_module_version": "1.5.0",
          "state": {
            "_model_module": "@jupyter-widgets/controls",
            "_model_module_version": "1.5.0",
            "_model_name": "ProgressStyleModel",
            "_view_count": null,
            "_view_module": "@jupyter-widgets/base",
            "_view_module_version": "1.2.0",
            "_view_name": "StyleView",
            "bar_color": null,
            "description_width": ""
          }
        },
        "adc41e0a245e4109849f8db5a1f13935": {
          "model_module": "@jupyter-widgets/base",
          "model_name": "LayoutModel",
          "model_module_version": "1.2.0",
          "state": {
            "_model_module": "@jupyter-widgets/base",
            "_model_module_version": "1.2.0",
            "_model_name": "LayoutModel",
            "_view_count": null,
            "_view_module": "@jupyter-widgets/base",
            "_view_module_version": "1.2.0",
            "_view_name": "LayoutView",
            "align_content": null,
            "align_items": null,
            "align_self": null,
            "border": null,
            "bottom": null,
            "display": null,
            "flex": null,
            "flex_flow": null,
            "grid_area": null,
            "grid_auto_columns": null,
            "grid_auto_flow": null,
            "grid_auto_rows": null,
            "grid_column": null,
            "grid_gap": null,
            "grid_row": null,
            "grid_template_areas": null,
            "grid_template_columns": null,
            "grid_template_rows": null,
            "height": null,
            "justify_content": null,
            "justify_items": null,
            "left": null,
            "margin": null,
            "max_height": null,
            "max_width": null,
            "min_height": null,
            "min_width": null,
            "object_fit": null,
            "object_position": null,
            "order": null,
            "overflow": null,
            "overflow_x": null,
            "overflow_y": null,
            "padding": null,
            "right": null,
            "top": null,
            "visibility": null,
            "width": null
          }
        },
        "7a4e7f15f54f41e99d8340f71390d06a": {
          "model_module": "@jupyter-widgets/controls",
          "model_name": "DescriptionStyleModel",
          "model_module_version": "1.5.0",
          "state": {
            "_model_module": "@jupyter-widgets/controls",
            "_model_module_version": "1.5.0",
            "_model_name": "DescriptionStyleModel",
            "_view_count": null,
            "_view_module": "@jupyter-widgets/base",
            "_view_module_version": "1.2.0",
            "_view_name": "StyleView",
            "description_width": ""
          }
        },
        "a9c5b26cb7704c3e8bc39ec2355b3396": {
          "model_module": "@jupyter-widgets/controls",
          "model_name": "HBoxModel",
          "model_module_version": "1.5.0",
          "state": {
            "_dom_classes": [],
            "_model_module": "@jupyter-widgets/controls",
            "_model_module_version": "1.5.0",
            "_model_name": "HBoxModel",
            "_view_count": null,
            "_view_module": "@jupyter-widgets/controls",
            "_view_module_version": "1.5.0",
            "_view_name": "HBoxView",
            "box_style": "",
            "children": [
              "IPY_MODEL_28ee63366fa048a9b231d230314368bc",
              "IPY_MODEL_3b3f314ee47c472fb00572968c314630",
              "IPY_MODEL_e2281ad28b574b6d9ae87a9a2df9c732"
            ],
            "layout": "IPY_MODEL_fcfd4bb375c34fd78fe5602104f0d060"
          }
        },
        "28ee63366fa048a9b231d230314368bc": {
          "model_module": "@jupyter-widgets/controls",
          "model_name": "HTMLModel",
          "model_module_version": "1.5.0",
          "state": {
            "_dom_classes": [],
            "_model_module": "@jupyter-widgets/controls",
            "_model_module_version": "1.5.0",
            "_model_name": "HTMLModel",
            "_view_count": null,
            "_view_module": "@jupyter-widgets/controls",
            "_view_module_version": "1.5.0",
            "_view_name": "HTMLView",
            "description": "",
            "description_tooltip": null,
            "layout": "IPY_MODEL_d7c947539e144886862f32d5873c2a55",
            "placeholder": "​",
            "style": "IPY_MODEL_fb94d2c5c9f14e80b7bdf0c6bece511e",
            "value": "Downloading pytorch_model.bin: 100%"
          }
        },
        "3b3f314ee47c472fb00572968c314630": {
          "model_module": "@jupyter-widgets/controls",
          "model_name": "FloatProgressModel",
          "model_module_version": "1.5.0",
          "state": {
            "_dom_classes": [],
            "_model_module": "@jupyter-widgets/controls",
            "_model_module_version": "1.5.0",
            "_model_name": "FloatProgressModel",
            "_view_count": null,
            "_view_module": "@jupyter-widgets/controls",
            "_view_module_version": "1.5.0",
            "_view_name": "ProgressView",
            "bar_style": "success",
            "description": "",
            "description_tooltip": null,
            "layout": "IPY_MODEL_561c0941117241e3857358b49535e4ad",
            "max": 438141995,
            "min": 0,
            "orientation": "horizontal",
            "style": "IPY_MODEL_9d17bbec426947baaa6e432acca42550",
            "value": 438141995
          }
        },
        "e2281ad28b574b6d9ae87a9a2df9c732": {
          "model_module": "@jupyter-widgets/controls",
          "model_name": "HTMLModel",
          "model_module_version": "1.5.0",
          "state": {
            "_dom_classes": [],
            "_model_module": "@jupyter-widgets/controls",
            "_model_module_version": "1.5.0",
            "_model_name": "HTMLModel",
            "_view_count": null,
            "_view_module": "@jupyter-widgets/controls",
            "_view_module_version": "1.5.0",
            "_view_name": "HTMLView",
            "description": "",
            "description_tooltip": null,
            "layout": "IPY_MODEL_5c4092993266438793636cb57b1f3178",
            "placeholder": "​",
            "style": "IPY_MODEL_a3dcd2f399d74b2e85cd78f7f2c5d7aa",
            "value": " 438M/438M [00:26&lt;00:00, 16.3MB/s]"
          }
        },
        "fcfd4bb375c34fd78fe5602104f0d060": {
          "model_module": "@jupyter-widgets/base",
          "model_name": "LayoutModel",
          "model_module_version": "1.2.0",
          "state": {
            "_model_module": "@jupyter-widgets/base",
            "_model_module_version": "1.2.0",
            "_model_name": "LayoutModel",
            "_view_count": null,
            "_view_module": "@jupyter-widgets/base",
            "_view_module_version": "1.2.0",
            "_view_name": "LayoutView",
            "align_content": null,
            "align_items": null,
            "align_self": null,
            "border": null,
            "bottom": null,
            "display": null,
            "flex": null,
            "flex_flow": null,
            "grid_area": null,
            "grid_auto_columns": null,
            "grid_auto_flow": null,
            "grid_auto_rows": null,
            "grid_column": null,
            "grid_gap": null,
            "grid_row": null,
            "grid_template_areas": null,
            "grid_template_columns": null,
            "grid_template_rows": null,
            "height": null,
            "justify_content": null,
            "justify_items": null,
            "left": null,
            "margin": null,
            "max_height": null,
            "max_width": null,
            "min_height": null,
            "min_width": null,
            "object_fit": null,
            "object_position": null,
            "order": null,
            "overflow": null,
            "overflow_x": null,
            "overflow_y": null,
            "padding": null,
            "right": null,
            "top": null,
            "visibility": null,
            "width": null
          }
        },
        "d7c947539e144886862f32d5873c2a55": {
          "model_module": "@jupyter-widgets/base",
          "model_name": "LayoutModel",
          "model_module_version": "1.2.0",
          "state": {
            "_model_module": "@jupyter-widgets/base",
            "_model_module_version": "1.2.0",
            "_model_name": "LayoutModel",
            "_view_count": null,
            "_view_module": "@jupyter-widgets/base",
            "_view_module_version": "1.2.0",
            "_view_name": "LayoutView",
            "align_content": null,
            "align_items": null,
            "align_self": null,
            "border": null,
            "bottom": null,
            "display": null,
            "flex": null,
            "flex_flow": null,
            "grid_area": null,
            "grid_auto_columns": null,
            "grid_auto_flow": null,
            "grid_auto_rows": null,
            "grid_column": null,
            "grid_gap": null,
            "grid_row": null,
            "grid_template_areas": null,
            "grid_template_columns": null,
            "grid_template_rows": null,
            "height": null,
            "justify_content": null,
            "justify_items": null,
            "left": null,
            "margin": null,
            "max_height": null,
            "max_width": null,
            "min_height": null,
            "min_width": null,
            "object_fit": null,
            "object_position": null,
            "order": null,
            "overflow": null,
            "overflow_x": null,
            "overflow_y": null,
            "padding": null,
            "right": null,
            "top": null,
            "visibility": null,
            "width": null
          }
        },
        "fb94d2c5c9f14e80b7bdf0c6bece511e": {
          "model_module": "@jupyter-widgets/controls",
          "model_name": "DescriptionStyleModel",
          "model_module_version": "1.5.0",
          "state": {
            "_model_module": "@jupyter-widgets/controls",
            "_model_module_version": "1.5.0",
            "_model_name": "DescriptionStyleModel",
            "_view_count": null,
            "_view_module": "@jupyter-widgets/base",
            "_view_module_version": "1.2.0",
            "_view_name": "StyleView",
            "description_width": ""
          }
        },
        "561c0941117241e3857358b49535e4ad": {
          "model_module": "@jupyter-widgets/base",
          "model_name": "LayoutModel",
          "model_module_version": "1.2.0",
          "state": {
            "_model_module": "@jupyter-widgets/base",
            "_model_module_version": "1.2.0",
            "_model_name": "LayoutModel",
            "_view_count": null,
            "_view_module": "@jupyter-widgets/base",
            "_view_module_version": "1.2.0",
            "_view_name": "LayoutView",
            "align_content": null,
            "align_items": null,
            "align_self": null,
            "border": null,
            "bottom": null,
            "display": null,
            "flex": null,
            "flex_flow": null,
            "grid_area": null,
            "grid_auto_columns": null,
            "grid_auto_flow": null,
            "grid_auto_rows": null,
            "grid_column": null,
            "grid_gap": null,
            "grid_row": null,
            "grid_template_areas": null,
            "grid_template_columns": null,
            "grid_template_rows": null,
            "height": null,
            "justify_content": null,
            "justify_items": null,
            "left": null,
            "margin": null,
            "max_height": null,
            "max_width": null,
            "min_height": null,
            "min_width": null,
            "object_fit": null,
            "object_position": null,
            "order": null,
            "overflow": null,
            "overflow_x": null,
            "overflow_y": null,
            "padding": null,
            "right": null,
            "top": null,
            "visibility": null,
            "width": null
          }
        },
        "9d17bbec426947baaa6e432acca42550": {
          "model_module": "@jupyter-widgets/controls",
          "model_name": "ProgressStyleModel",
          "model_module_version": "1.5.0",
          "state": {
            "_model_module": "@jupyter-widgets/controls",
            "_model_module_version": "1.5.0",
            "_model_name": "ProgressStyleModel",
            "_view_count": null,
            "_view_module": "@jupyter-widgets/base",
            "_view_module_version": "1.2.0",
            "_view_name": "StyleView",
            "bar_color": null,
            "description_width": ""
          }
        },
        "5c4092993266438793636cb57b1f3178": {
          "model_module": "@jupyter-widgets/base",
          "model_name": "LayoutModel",
          "model_module_version": "1.2.0",
          "state": {
            "_model_module": "@jupyter-widgets/base",
            "_model_module_version": "1.2.0",
            "_model_name": "LayoutModel",
            "_view_count": null,
            "_view_module": "@jupyter-widgets/base",
            "_view_module_version": "1.2.0",
            "_view_name": "LayoutView",
            "align_content": null,
            "align_items": null,
            "align_self": null,
            "border": null,
            "bottom": null,
            "display": null,
            "flex": null,
            "flex_flow": null,
            "grid_area": null,
            "grid_auto_columns": null,
            "grid_auto_flow": null,
            "grid_auto_rows": null,
            "grid_column": null,
            "grid_gap": null,
            "grid_row": null,
            "grid_template_areas": null,
            "grid_template_columns": null,
            "grid_template_rows": null,
            "height": null,
            "justify_content": null,
            "justify_items": null,
            "left": null,
            "margin": null,
            "max_height": null,
            "max_width": null,
            "min_height": null,
            "min_width": null,
            "object_fit": null,
            "object_position": null,
            "order": null,
            "overflow": null,
            "overflow_x": null,
            "overflow_y": null,
            "padding": null,
            "right": null,
            "top": null,
            "visibility": null,
            "width": null
          }
        },
        "a3dcd2f399d74b2e85cd78f7f2c5d7aa": {
          "model_module": "@jupyter-widgets/controls",
          "model_name": "DescriptionStyleModel",
          "model_module_version": "1.5.0",
          "state": {
            "_model_module": "@jupyter-widgets/controls",
            "_model_module_version": "1.5.0",
            "_model_name": "DescriptionStyleModel",
            "_view_count": null,
            "_view_module": "@jupyter-widgets/base",
            "_view_module_version": "1.2.0",
            "_view_name": "StyleView",
            "description_width": ""
          }
        },
        "4d439bb49228455e9365865ba004f56a": {
          "model_module": "@jupyter-widgets/controls",
          "model_name": "HBoxModel",
          "model_module_version": "1.5.0",
          "state": {
            "_dom_classes": [],
            "_model_module": "@jupyter-widgets/controls",
            "_model_module_version": "1.5.0",
            "_model_name": "HBoxModel",
            "_view_count": null,
            "_view_module": "@jupyter-widgets/controls",
            "_view_module_version": "1.5.0",
            "_view_name": "HBoxView",
            "box_style": "",
            "children": [
              "IPY_MODEL_2e9dbe3ca4d44ceb90821d1f942976d9",
              "IPY_MODEL_4a10d350d5ce40fc8583a489e3697da5",
              "IPY_MODEL_9ae02fcf8e604bd5b0676d300f44e010"
            ],
            "layout": "IPY_MODEL_ed2bba10f16e44428a7c846e4e4ad71d"
          }
        },
        "2e9dbe3ca4d44ceb90821d1f942976d9": {
          "model_module": "@jupyter-widgets/controls",
          "model_name": "HTMLModel",
          "model_module_version": "1.5.0",
          "state": {
            "_dom_classes": [],
            "_model_module": "@jupyter-widgets/controls",
            "_model_module_version": "1.5.0",
            "_model_name": "HTMLModel",
            "_view_count": null,
            "_view_module": "@jupyter-widgets/controls",
            "_view_module_version": "1.5.0",
            "_view_name": "HTMLView",
            "description": "",
            "description_tooltip": null,
            "layout": "IPY_MODEL_4b109436942948bb935dc392ccab1c00",
            "placeholder": "​",
            "style": "IPY_MODEL_5c2104aec6594a4bb7b90fb18c1fef72",
            "value": "Downloading builder script: 100%"
          }
        },
        "4a10d350d5ce40fc8583a489e3697da5": {
          "model_module": "@jupyter-widgets/controls",
          "model_name": "FloatProgressModel",
          "model_module_version": "1.5.0",
          "state": {
            "_dom_classes": [],
            "_model_module": "@jupyter-widgets/controls",
            "_model_module_version": "1.5.0",
            "_model_name": "FloatProgressModel",
            "_view_count": null,
            "_view_module": "@jupyter-widgets/controls",
            "_view_module_version": "1.5.0",
            "_view_name": "ProgressView",
            "bar_style": "success",
            "description": "",
            "description_tooltip": null,
            "layout": "IPY_MODEL_9b62e494b97940c49c5c944030e07133",
            "max": 5514,
            "min": 0,
            "orientation": "horizontal",
            "style": "IPY_MODEL_8efd19c6b2934592bc36c5b8ddfd2cf5",
            "value": 5514
          }
        },
        "9ae02fcf8e604bd5b0676d300f44e010": {
          "model_module": "@jupyter-widgets/controls",
          "model_name": "HTMLModel",
          "model_module_version": "1.5.0",
          "state": {
            "_dom_classes": [],
            "_model_module": "@jupyter-widgets/controls",
            "_model_module_version": "1.5.0",
            "_model_name": "HTMLModel",
            "_view_count": null,
            "_view_module": "@jupyter-widgets/controls",
            "_view_module_version": "1.5.0",
            "_view_name": "HTMLView",
            "description": "",
            "description_tooltip": null,
            "layout": "IPY_MODEL_6a95ff1ff81b4af0b08e12a795ab04bf",
            "placeholder": "​",
            "style": "IPY_MODEL_b33ccd3149e64fb1ac82773b05946ef5",
            "value": " 5.51k/5.51k [00:00&lt;00:00, 3.74kB/s]"
          }
        },
        "ed2bba10f16e44428a7c846e4e4ad71d": {
          "model_module": "@jupyter-widgets/base",
          "model_name": "LayoutModel",
          "model_module_version": "1.2.0",
          "state": {
            "_model_module": "@jupyter-widgets/base",
            "_model_module_version": "1.2.0",
            "_model_name": "LayoutModel",
            "_view_count": null,
            "_view_module": "@jupyter-widgets/base",
            "_view_module_version": "1.2.0",
            "_view_name": "LayoutView",
            "align_content": null,
            "align_items": null,
            "align_self": null,
            "border": null,
            "bottom": null,
            "display": null,
            "flex": null,
            "flex_flow": null,
            "grid_area": null,
            "grid_auto_columns": null,
            "grid_auto_flow": null,
            "grid_auto_rows": null,
            "grid_column": null,
            "grid_gap": null,
            "grid_row": null,
            "grid_template_areas": null,
            "grid_template_columns": null,
            "grid_template_rows": null,
            "height": null,
            "justify_content": null,
            "justify_items": null,
            "left": null,
            "margin": null,
            "max_height": null,
            "max_width": null,
            "min_height": null,
            "min_width": null,
            "object_fit": null,
            "object_position": null,
            "order": null,
            "overflow": null,
            "overflow_x": null,
            "overflow_y": null,
            "padding": null,
            "right": null,
            "top": null,
            "visibility": null,
            "width": null
          }
        },
        "4b109436942948bb935dc392ccab1c00": {
          "model_module": "@jupyter-widgets/base",
          "model_name": "LayoutModel",
          "model_module_version": "1.2.0",
          "state": {
            "_model_module": "@jupyter-widgets/base",
            "_model_module_version": "1.2.0",
            "_model_name": "LayoutModel",
            "_view_count": null,
            "_view_module": "@jupyter-widgets/base",
            "_view_module_version": "1.2.0",
            "_view_name": "LayoutView",
            "align_content": null,
            "align_items": null,
            "align_self": null,
            "border": null,
            "bottom": null,
            "display": null,
            "flex": null,
            "flex_flow": null,
            "grid_area": null,
            "grid_auto_columns": null,
            "grid_auto_flow": null,
            "grid_auto_rows": null,
            "grid_column": null,
            "grid_gap": null,
            "grid_row": null,
            "grid_template_areas": null,
            "grid_template_columns": null,
            "grid_template_rows": null,
            "height": null,
            "justify_content": null,
            "justify_items": null,
            "left": null,
            "margin": null,
            "max_height": null,
            "max_width": null,
            "min_height": null,
            "min_width": null,
            "object_fit": null,
            "object_position": null,
            "order": null,
            "overflow": null,
            "overflow_x": null,
            "overflow_y": null,
            "padding": null,
            "right": null,
            "top": null,
            "visibility": null,
            "width": null
          }
        },
        "5c2104aec6594a4bb7b90fb18c1fef72": {
          "model_module": "@jupyter-widgets/controls",
          "model_name": "DescriptionStyleModel",
          "model_module_version": "1.5.0",
          "state": {
            "_model_module": "@jupyter-widgets/controls",
            "_model_module_version": "1.5.0",
            "_model_name": "DescriptionStyleModel",
            "_view_count": null,
            "_view_module": "@jupyter-widgets/base",
            "_view_module_version": "1.2.0",
            "_view_name": "StyleView",
            "description_width": ""
          }
        },
        "9b62e494b97940c49c5c944030e07133": {
          "model_module": "@jupyter-widgets/base",
          "model_name": "LayoutModel",
          "model_module_version": "1.2.0",
          "state": {
            "_model_module": "@jupyter-widgets/base",
            "_model_module_version": "1.2.0",
            "_model_name": "LayoutModel",
            "_view_count": null,
            "_view_module": "@jupyter-widgets/base",
            "_view_module_version": "1.2.0",
            "_view_name": "LayoutView",
            "align_content": null,
            "align_items": null,
            "align_self": null,
            "border": null,
            "bottom": null,
            "display": null,
            "flex": null,
            "flex_flow": null,
            "grid_area": null,
            "grid_auto_columns": null,
            "grid_auto_flow": null,
            "grid_auto_rows": null,
            "grid_column": null,
            "grid_gap": null,
            "grid_row": null,
            "grid_template_areas": null,
            "grid_template_columns": null,
            "grid_template_rows": null,
            "height": null,
            "justify_content": null,
            "justify_items": null,
            "left": null,
            "margin": null,
            "max_height": null,
            "max_width": null,
            "min_height": null,
            "min_width": null,
            "object_fit": null,
            "object_position": null,
            "order": null,
            "overflow": null,
            "overflow_x": null,
            "overflow_y": null,
            "padding": null,
            "right": null,
            "top": null,
            "visibility": null,
            "width": null
          }
        },
        "8efd19c6b2934592bc36c5b8ddfd2cf5": {
          "model_module": "@jupyter-widgets/controls",
          "model_name": "ProgressStyleModel",
          "model_module_version": "1.5.0",
          "state": {
            "_model_module": "@jupyter-widgets/controls",
            "_model_module_version": "1.5.0",
            "_model_name": "ProgressStyleModel",
            "_view_count": null,
            "_view_module": "@jupyter-widgets/base",
            "_view_module_version": "1.2.0",
            "_view_name": "StyleView",
            "bar_color": null,
            "description_width": ""
          }
        },
        "6a95ff1ff81b4af0b08e12a795ab04bf": {
          "model_module": "@jupyter-widgets/base",
          "model_name": "LayoutModel",
          "model_module_version": "1.2.0",
          "state": {
            "_model_module": "@jupyter-widgets/base",
            "_model_module_version": "1.2.0",
            "_model_name": "LayoutModel",
            "_view_count": null,
            "_view_module": "@jupyter-widgets/base",
            "_view_module_version": "1.2.0",
            "_view_name": "LayoutView",
            "align_content": null,
            "align_items": null,
            "align_self": null,
            "border": null,
            "bottom": null,
            "display": null,
            "flex": null,
            "flex_flow": null,
            "grid_area": null,
            "grid_auto_columns": null,
            "grid_auto_flow": null,
            "grid_auto_rows": null,
            "grid_column": null,
            "grid_gap": null,
            "grid_row": null,
            "grid_template_areas": null,
            "grid_template_columns": null,
            "grid_template_rows": null,
            "height": null,
            "justify_content": null,
            "justify_items": null,
            "left": null,
            "margin": null,
            "max_height": null,
            "max_width": null,
            "min_height": null,
            "min_width": null,
            "object_fit": null,
            "object_position": null,
            "order": null,
            "overflow": null,
            "overflow_x": null,
            "overflow_y": null,
            "padding": null,
            "right": null,
            "top": null,
            "visibility": null,
            "width": null
          }
        },
        "b33ccd3149e64fb1ac82773b05946ef5": {
          "model_module": "@jupyter-widgets/controls",
          "model_name": "DescriptionStyleModel",
          "model_module_version": "1.5.0",
          "state": {
            "_model_module": "@jupyter-widgets/controls",
            "_model_module_version": "1.5.0",
            "_model_name": "DescriptionStyleModel",
            "_view_count": null,
            "_view_module": "@jupyter-widgets/base",
            "_view_module_version": "1.2.0",
            "_view_name": "StyleView",
            "description_width": ""
          }
        }
      }
    }
  },
  "nbformat": 4,
  "nbformat_minor": 0
}