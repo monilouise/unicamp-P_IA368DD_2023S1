{
  "cells": [
    {
      "cell_type": "markdown",
      "metadata": {
        "id": "3drPVvJ-orF1"
      },
      "source": [
        "# Efficiency vs quality tradeoffs\n",
        "\n",
        "Author: Monique Monteiro - moniquelouise@gmail.com\n",
        "\n"
      ]
    },
    {
      "cell_type": "code",
      "execution_count": 3,
      "metadata": {
        "colab": {
          "base_uri": "https://localhost:8080/"
        },
        "id": "qJ3_Poc4ouzM",
        "outputId": "de664abf-f11f-4c02-98be-27ead3de4139"
      },
      "outputs": [
        {
          "output_type": "stream",
          "name": "stdout",
          "text": [
            "Mounted at /content/gdrive\n"
          ]
        }
      ],
      "source": [
        "from google.colab import drive\n",
        "drive.mount('/content/gdrive', force_remount=True)"
      ]
    },
    {
      "cell_type": "code",
      "execution_count": 4,
      "metadata": {
        "id": "lV0aDFt4o3iW"
      },
      "outputs": [],
      "source": [
        "main_dir = \"/content/gdrive/MyDrive/Unicamp-aula-10\""
      ]
    },
    {
      "cell_type": "markdown",
      "metadata": {
        "id": "5EYi0xNgpJHf"
      },
      "source": [
        "## Libraries installation"
      ]
    },
    {
      "cell_type": "code",
      "execution_count": 5,
      "metadata": {
        "colab": {
          "base_uri": "https://localhost:8080/"
        },
        "id": "cvF-TJxA-gMe",
        "outputId": "eacb89dc-935e-4420-d045-2a32be5753a1"
      },
      "outputs": [
        {
          "output_type": "stream",
          "name": "stdout",
          "text": [
            "Looking in indexes: https://pypi.org/simple, https://us-python.pkg.dev/colab-wheels/public/simple/\n",
            "Collecting jsonlines\n",
            "  Downloading jsonlines-3.1.0-py3-none-any.whl (8.6 kB)\n",
            "Requirement already satisfied: attrs>=19.2.0 in /usr/local/lib/python3.10/dist-packages (from jsonlines) (23.1.0)\n",
            "Installing collected packages: jsonlines\n",
            "Successfully installed jsonlines-3.1.0\n"
          ]
        }
      ],
      "source": [
        "!pip install jsonlines"
      ]
    },
    {
      "cell_type": "code",
      "execution_count": 6,
      "metadata": {
        "colab": {
          "base_uri": "https://localhost:8080/"
        },
        "id": "hRh0qAhsKEeW",
        "outputId": "d3406a02-8681-490b-88ea-2f2576737735"
      },
      "outputs": [
        {
          "output_type": "stream",
          "name": "stdout",
          "text": [
            "\u001b[2K     \u001b[90m━━━━━━━━━━━━━━━━━━━━━━━━━━━━━━━━━━━━━━━\u001b[0m \u001b[32m154.1/154.1 MB\u001b[0m \u001b[31m7.3 MB/s\u001b[0m eta \u001b[36m0:00:00\u001b[0m\n",
            "\u001b[2K     \u001b[90m━━━━━━━━━━━━━━━━━━━━━━━━━━━━━━━━━━━━━━━━\u001b[0m \u001b[32m1.5/1.5 MB\u001b[0m \u001b[31m61.8 MB/s\u001b[0m eta \u001b[36m0:00:00\u001b[0m\n",
            "\u001b[2K     \u001b[90m━━━━━━━━━━━━━━━━━━━━━━━━━━━━━━━━━━━━━━━━\u001b[0m \u001b[32m7.0/7.0 MB\u001b[0m \u001b[31m114.6 MB/s\u001b[0m eta \u001b[36m0:00:00\u001b[0m\n",
            "\u001b[2K     \u001b[90m━━━━━━━━━━━━━━━━━━━━━━━━━━━━━━━━━━━━━━━━\u001b[0m \u001b[32m1.3/1.3 MB\u001b[0m \u001b[31m74.0 MB/s\u001b[0m eta \u001b[36m0:00:00\u001b[0m\n",
            "\u001b[2K     \u001b[90m━━━━━━━━━━━━━━━━━━━━━━━━━━━━━━━━━━━━━━\u001b[0m \u001b[32m188.7/188.7 kB\u001b[0m \u001b[31m23.6 MB/s\u001b[0m eta \u001b[36m0:00:00\u001b[0m\n",
            "\u001b[?25h  Preparing metadata (setup.py) ... \u001b[?25l\u001b[?25hdone\n",
            "\u001b[2K     \u001b[90m━━━━━━━━━━━━━━━━━━━━━━━━━━━━━━━━━━━━━━━━\u001b[0m \u001b[32m5.0/5.0 MB\u001b[0m \u001b[31m110.4 MB/s\u001b[0m eta \u001b[36m0:00:00\u001b[0m\n",
            "\u001b[2K     \u001b[90m━━━━━━━━━━━━━━━━━━━━━━━━━━━━━━━━━━━━━━━━\u001b[0m \u001b[32m46.0/46.0 kB\u001b[0m \u001b[31m6.0 MB/s\u001b[0m eta \u001b[36m0:00:00\u001b[0m\n",
            "\u001b[2K     \u001b[90m━━━━━━━━━━━━━━━━━━━━━━━━━━━━━━━━━━━━━━\u001b[0m \u001b[32m224.5/224.5 kB\u001b[0m \u001b[31m27.5 MB/s\u001b[0m eta \u001b[36m0:00:00\u001b[0m\n",
            "\u001b[2K     \u001b[90m━━━━━━━━━━━━━━━━━━━━━━━━━━━━━━━━━━━━━━━━\u001b[0m \u001b[32m7.8/7.8 MB\u001b[0m \u001b[31m89.2 MB/s\u001b[0m eta \u001b[36m0:00:00\u001b[0m\n",
            "\u001b[2K     \u001b[90m━━━━━━━━━━━━━━━━━━━━━━━━━━━━━━━━━━━━━━━━\u001b[0m \u001b[32m86.8/86.8 kB\u001b[0m \u001b[31m11.7 MB/s\u001b[0m eta \u001b[36m0:00:00\u001b[0m\n",
            "\u001b[?25h  Building wheel for nmslib (setup.py) ... \u001b[?25l\u001b[?25hdone\n",
            "\u001b[2K     \u001b[90m━━━━━━━━━━━━━━━━━━━━━━━━━━━━━━━━━━━━━━━━\u001b[0m \u001b[32m17.6/17.6 MB\u001b[0m \u001b[31m50.1 MB/s\u001b[0m eta \u001b[36m0:00:00\u001b[0m\n",
            "\u001b[?25h"
          ]
        }
      ],
      "source": [
        "\n",
        "!pip install pyserini -q\n",
        "!pip install faiss-cpu -q"
      ]
    },
    {
      "cell_type": "code",
      "execution_count": 7,
      "metadata": {
        "colab": {
          "base_uri": "https://localhost:8080/"
        },
        "id": "dDzq5gqrVzqv",
        "outputId": "33a55cf8-d491-4e8a-8c6d-703d80fb6754"
      },
      "outputs": [
        {
          "output_type": "stream",
          "name": "stdout",
          "text": [
            "\u001b[2K     \u001b[90m━━━━━━━━━━━━━━━━━━━━━━━━━━━━━━━━━━━━━━━━\u001b[0m \u001b[32m81.4/81.4 kB\u001b[0m \u001b[31m7.5 MB/s\u001b[0m eta \u001b[36m0:00:00\u001b[0m\n",
            "\u001b[2K     \u001b[90m━━━━━━━━━━━━━━━━━━━━━━━━━━━━━━━━━━━━━━\u001b[0m \u001b[32m474.6/474.6 kB\u001b[0m \u001b[31m35.7 MB/s\u001b[0m eta \u001b[36m0:00:00\u001b[0m\n",
            "\u001b[2K     \u001b[90m━━━━━━━━━━━━━━━━━━━━━━━━━━━━━━━━━━━━━\u001b[0m \u001b[32m110.5/110.5 kB\u001b[0m \u001b[31m448.6 kB/s\u001b[0m eta \u001b[36m0:00:00\u001b[0m\n",
            "\u001b[2K     \u001b[90m━━━━━━━━━━━━━━━━━━━━━━━━━━━━━━━━━━━━━━\u001b[0m \u001b[32m212.5/212.5 kB\u001b[0m \u001b[31m26.0 MB/s\u001b[0m eta \u001b[36m0:00:00\u001b[0m\n",
            "\u001b[2K     \u001b[90m━━━━━━━━━━━━━━━━━━━━━━━━━━━━━━━━━━━━━━\u001b[0m \u001b[32m134.3/134.3 kB\u001b[0m \u001b[31m16.9 MB/s\u001b[0m eta \u001b[36m0:00:00\u001b[0m\n",
            "\u001b[2K     \u001b[90m━━━━━━━━━━━━━━━━━━━━━━━━━━━━━━━━━━━━━━━━\u001b[0m \u001b[32m1.0/1.0 MB\u001b[0m \u001b[31m53.7 MB/s\u001b[0m eta \u001b[36m0:00:00\u001b[0m\n",
            "\u001b[2K     \u001b[90m━━━━━━━━━━━━━━━━━━━━━━━━━━━━━━━━━━━━━━\u001b[0m \u001b[32m114.5/114.5 kB\u001b[0m \u001b[31m15.9 MB/s\u001b[0m eta \u001b[36m0:00:00\u001b[0m\n",
            "\u001b[2K     \u001b[90m━━━━━━━━━━━━━━━━━━━━━━━━━━━━━━━━━━━━━━\u001b[0m \u001b[32m268.8/268.8 kB\u001b[0m \u001b[31m30.0 MB/s\u001b[0m eta \u001b[36m0:00:00\u001b[0m\n",
            "\u001b[2K     \u001b[90m━━━━━━━━━━━━━━━━━━━━━━━━━━━━━━━━━━━━━━\u001b[0m \u001b[32m149.6/149.6 kB\u001b[0m \u001b[31m18.4 MB/s\u001b[0m eta \u001b[36m0:00:00\u001b[0m\n",
            "\u001b[?25h  Preparing metadata (setup.py) ... \u001b[?25l\u001b[?25hdone\n",
            "  Preparing metadata (setup.py) ... \u001b[?25l\u001b[?25hdone\n",
            "  Building wheel for trectools (setup.py) ... \u001b[?25l\u001b[?25hdone\n",
            "  Building wheel for bs4 (setup.py) ... \u001b[?25l\u001b[?25hdone\n"
          ]
        }
      ],
      "source": [
        "!pip install evaluate -q\n",
        "!pip install trectools -q"
      ]
    },
    {
      "cell_type": "code",
      "execution_count": 8,
      "metadata": {
        "id": "IkDbAShW0rMm"
      },
      "outputs": [],
      "source": [
        "!pip install transformers -q"
      ]
    },
    {
      "cell_type": "markdown",
      "metadata": {
        "id": "Hfzi7hH2pkKY"
      },
      "source": [
        "## Passages download"
      ]
    },
    {
      "cell_type": "code",
      "execution_count": null,
      "metadata": {
        "colab": {
          "base_uri": "https://localhost:8080/"
        },
        "id": "hDUGtSRSpKSs",
        "outputId": "6e09e959-fad7-47d4-fb8a-4332706e7f45"
      },
      "outputs": [
        {
          "name": "stdout",
          "output_type": "stream",
          "text": [
            "--2023-05-06 21:33:47--  https://huggingface.co/datasets/BeIR/trec-covid/resolve/main/corpus.jsonl.gz\n",
            "Resolving huggingface.co (huggingface.co)... 18.155.68.44, 18.155.68.121, 18.155.68.38, ...\n",
            "Connecting to huggingface.co (huggingface.co)|18.155.68.44|:443... connected.\n",
            "HTTP request sent, awaiting response... 302 Found\n",
            "Location: https://cdn-lfs.huggingface.co/repos/a8/10/a810e88b0e7b233be82b89c1fa6ec2d75efc6d55784c2ada9dcac8434a634f3a/e9e97686e3138eaff989f67c04cd32e8f8f4c0d4857187e3f180275b23e24e85?response-content-disposition=attachment%3B+filename*%3DUTF-8%27%27corpus.jsonl.gz%3B+filename%3D%22corpus.jsonl.gz%22%3B&response-content-type=application%2Fgzip&Expires=1683668029&Policy=eyJTdGF0ZW1lbnQiOlt7IlJlc291cmNlIjoiaHR0cHM6Ly9jZG4tbGZzLmh1Z2dpbmdmYWNlLmNvL3JlcG9zL2E4LzEwL2E4MTBlODhiMGU3YjIzM2JlODJiODljMWZhNmVjMmQ3NWVmYzZkNTU3ODRjMmFkYTlkY2FjODQzNGE2MzRmM2EvZTllOTc2ODZlMzEzOGVhZmY5ODlmNjdjMDRjZDMyZThmOGY0YzBkNDg1NzE4N2UzZjE4MDI3NWIyM2UyNGU4NT9yZXNwb25zZS1jb250ZW50LWRpc3Bvc2l0aW9uPSomcmVzcG9uc2UtY29udGVudC10eXBlPSoiLCJDb25kaXRpb24iOnsiRGF0ZUxlc3NUaGFuIjp7IkFXUzpFcG9jaFRpbWUiOjE2ODM2NjgwMjl9fX1dfQ__&Signature=SndAv-KsuG-ohRWzB3nzcv7gwcZRZUtwZ078nBzTXE3PvtMmgbSjt6fmJfuWMObwm2yWfmAtv1wLW7zls0EFVlD5hpDqnHRdrl3SiKRvIf53WJbD9auvSfSlhFRTpaLdX3ODK9nbmSiJRExLYo1o3UtvzzbzOqt1zI7UsrMCs%7EvvbCTn03%7ETREmrfUN1ulLe5xXRU%7EefSiWW1gxMlh4xVAbSQLGwkjz3KLGCTMXU4iFDryqviIt3mbfGUxVraAjQoOgerTI9N1O6OpS7q2SkTWadYWu0YvNTtrkaKqp-SoFE9fB-lz1Y3wo1R72WmUh46JDHGgiguh762PxV71sPTw__&Key-Pair-Id=KVTP0A1DKRTAX [following]\n",
            "--2023-05-06 21:33:48--  https://cdn-lfs.huggingface.co/repos/a8/10/a810e88b0e7b233be82b89c1fa6ec2d75efc6d55784c2ada9dcac8434a634f3a/e9e97686e3138eaff989f67c04cd32e8f8f4c0d4857187e3f180275b23e24e85?response-content-disposition=attachment%3B+filename*%3DUTF-8%27%27corpus.jsonl.gz%3B+filename%3D%22corpus.jsonl.gz%22%3B&response-content-type=application%2Fgzip&Expires=1683668029&Policy=eyJTdGF0ZW1lbnQiOlt7IlJlc291cmNlIjoiaHR0cHM6Ly9jZG4tbGZzLmh1Z2dpbmdmYWNlLmNvL3JlcG9zL2E4LzEwL2E4MTBlODhiMGU3YjIzM2JlODJiODljMWZhNmVjMmQ3NWVmYzZkNTU3ODRjMmFkYTlkY2FjODQzNGE2MzRmM2EvZTllOTc2ODZlMzEzOGVhZmY5ODlmNjdjMDRjZDMyZThmOGY0YzBkNDg1NzE4N2UzZjE4MDI3NWIyM2UyNGU4NT9yZXNwb25zZS1jb250ZW50LWRpc3Bvc2l0aW9uPSomcmVzcG9uc2UtY29udGVudC10eXBlPSoiLCJDb25kaXRpb24iOnsiRGF0ZUxlc3NUaGFuIjp7IkFXUzpFcG9jaFRpbWUiOjE2ODM2NjgwMjl9fX1dfQ__&Signature=SndAv-KsuG-ohRWzB3nzcv7gwcZRZUtwZ078nBzTXE3PvtMmgbSjt6fmJfuWMObwm2yWfmAtv1wLW7zls0EFVlD5hpDqnHRdrl3SiKRvIf53WJbD9auvSfSlhFRTpaLdX3ODK9nbmSiJRExLYo1o3UtvzzbzOqt1zI7UsrMCs%7EvvbCTn03%7ETREmrfUN1ulLe5xXRU%7EefSiWW1gxMlh4xVAbSQLGwkjz3KLGCTMXU4iFDryqviIt3mbfGUxVraAjQoOgerTI9N1O6OpS7q2SkTWadYWu0YvNTtrkaKqp-SoFE9fB-lz1Y3wo1R72WmUh46JDHGgiguh762PxV71sPTw__&Key-Pair-Id=KVTP0A1DKRTAX\n",
            "Resolving cdn-lfs.huggingface.co (cdn-lfs.huggingface.co)... 18.155.68.98, 18.155.68.94, 18.155.68.73, ...\n",
            "Connecting to cdn-lfs.huggingface.co (cdn-lfs.huggingface.co)|18.155.68.98|:443... connected.\n",
            "HTTP request sent, awaiting response... 200 OK\n",
            "Length: 73452199 (70M) [application/gzip]\n",
            "Saving to: ‘corpus.jsonl.gz’\n",
            "\n",
            "corpus.jsonl.gz     100%[===================>]  70.05M   304MB/s    in 0.2s    \n",
            "\n",
            "2023-05-06 21:33:48 (304 MB/s) - ‘corpus.jsonl.gz’ saved [73452199/73452199]\n",
            "\n"
          ]
        }
      ],
      "source": [
        "!wget https://huggingface.co/datasets/BeIR/trec-covid/resolve/main/corpus.jsonl.gz"
      ]
    },
    {
      "cell_type": "code",
      "execution_count": null,
      "metadata": {
        "id": "1m8ror6dpokw"
      },
      "outputs": [],
      "source": [
        "!mv corpus.jsonl.gz {main_dir}/trec-covid"
      ]
    },
    {
      "cell_type": "code",
      "execution_count": null,
      "metadata": {
        "colab": {
          "base_uri": "https://localhost:8080/"
        },
        "id": "SVXGvmSz4i8R",
        "outputId": "c809ba02-5f17-462d-abfb-d6ae8b4c4ea8"
      },
      "outputs": [
        {
          "name": "stdout",
          "output_type": "stream",
          "text": [
            "gzip: /content/gdrive/MyDrive/Unicamp-aula-10/trec-covid/corpus.jsonl already exists; do you wish to overwrite (y or n)? ^C\n"
          ]
        }
      ],
      "source": [
        "!gunzip {main_dir}/trec-covid/corpus.jsonl.gz"
      ]
    },
    {
      "cell_type": "markdown",
      "metadata": {
        "id": "DXnckUxf4-wL"
      },
      "source": [
        "## Queries vs passages download"
      ]
    },
    {
      "cell_type": "code",
      "execution_count": null,
      "metadata": {
        "colab": {
          "base_uri": "https://localhost:8080/"
        },
        "id": "XqCxXLfV4_gE",
        "outputId": "30e23791-b70f-4148-b75d-e0ad2001b3fe"
      },
      "outputs": [
        {
          "name": "stdout",
          "output_type": "stream",
          "text": [
            "--2023-05-06 21:34:54--  https://huggingface.co/datasets/BeIR/trec-covid-qrels/raw/main/test.tsv\n",
            "Resolving huggingface.co (huggingface.co)... 18.155.68.44, 18.155.68.116, 18.155.68.121, ...\n",
            "Connecting to huggingface.co (huggingface.co)|18.155.68.44|:443... connected.\n",
            "HTTP request sent, awaiting response... 200 OK\n",
            "Length: 980831 (958K) [text/plain]\n",
            "Saving to: ‘test.tsv’\n",
            "\n",
            "test.tsv            100%[===================>] 957.84K  1.09MB/s    in 0.9s    \n",
            "\n",
            "2023-05-06 21:34:55 (1.09 MB/s) - ‘test.tsv’ saved [980831/980831]\n",
            "\n"
          ]
        }
      ],
      "source": [
        "!wget https://huggingface.co/datasets/BeIR/trec-covid-qrels/raw/main/test.tsv"
      ]
    },
    {
      "cell_type": "code",
      "execution_count": null,
      "metadata": {
        "id": "mO-OYpej5ElH"
      },
      "outputs": [],
      "source": [
        "!mv test.tsv {main_dir}/trec-covid"
      ]
    },
    {
      "cell_type": "markdown",
      "metadata": {
        "id": "AdoSaFnH5P7p"
      },
      "source": [
        "## Queries download"
      ]
    },
    {
      "cell_type": "code",
      "execution_count": null,
      "metadata": {
        "colab": {
          "base_uri": "https://localhost:8080/"
        },
        "id": "CP5BWbgv5Gz3",
        "outputId": "39a631c4-9373-4ff3-8c94-fffe2fa2bd4d"
      },
      "outputs": [
        {
          "name": "stdout",
          "output_type": "stream",
          "text": [
            "--2023-05-06 21:34:56--  https://huggingface.co/datasets/BeIR/trec-covid/resolve/main/queries.jsonl.gz\n",
            "Resolving huggingface.co (huggingface.co)... 18.155.68.44, 18.155.68.116, 18.155.68.121, ...\n",
            "Connecting to huggingface.co (huggingface.co)|18.155.68.44|:443... connected.\n",
            "HTTP request sent, awaiting response... 302 Found\n",
            "Location: https://cdn-lfs.huggingface.co/repos/a8/10/a810e88b0e7b233be82b89c1fa6ec2d75efc6d55784c2ada9dcac8434a634f3a/9eadcc2cdf140addc9dae83648bb2c6611f5e4b66eaed7475fa5a0ca48eda371?response-content-disposition=attachment%3B+filename*%3DUTF-8%27%27queries.jsonl.gz%3B+filename%3D%22queries.jsonl.gz%22%3B&response-content-type=application%2Fgzip&Expires=1683668096&Policy=eyJTdGF0ZW1lbnQiOlt7IlJlc291cmNlIjoiaHR0cHM6Ly9jZG4tbGZzLmh1Z2dpbmdmYWNlLmNvL3JlcG9zL2E4LzEwL2E4MTBlODhiMGU3YjIzM2JlODJiODljMWZhNmVjMmQ3NWVmYzZkNTU3ODRjMmFkYTlkY2FjODQzNGE2MzRmM2EvOWVhZGNjMmNkZjE0MGFkZGM5ZGFlODM2NDhiYjJjNjYxMWY1ZTRiNjZlYWVkNzQ3NWZhNWEwY2E0OGVkYTM3MT9yZXNwb25zZS1jb250ZW50LWRpc3Bvc2l0aW9uPSomcmVzcG9uc2UtY29udGVudC10eXBlPSoiLCJDb25kaXRpb24iOnsiRGF0ZUxlc3NUaGFuIjp7IkFXUzpFcG9jaFRpbWUiOjE2ODM2NjgwOTZ9fX1dfQ__&Signature=m2lx5g8Ip6rMW3I9jGfzPPtZINejDEj2f8XwtGpuukp5CKEWuXrd163mK3%7EVR1n3hhzfiNLuBToxx0lqarAtV09mxvsY36c%7Et3PsKmT4lz3raQBNoFP7OfmgAoXLR%7EMi-Vx7woOO46rsugcf63XPI7kqqv9SppFKcA35VI-v0tMxwcIMGYvCjwj3wwpWDEoW5QEQjLxyJNrMzG0Q%7EivdvzhZ4VHyygj8NkdntMBijB3ZIsbG-OrwJG6PaqiZ2mD1S5V7aERr7HL927UZJLUwoHVL5Gx1MCW3M8IslD1BekktsVqj7qM9NS8AEk382pV7Y4PUvQldnxQYjfp1O9lAgw__&Key-Pair-Id=KVTP0A1DKRTAX [following]\n",
            "--2023-05-06 21:34:56--  https://cdn-lfs.huggingface.co/repos/a8/10/a810e88b0e7b233be82b89c1fa6ec2d75efc6d55784c2ada9dcac8434a634f3a/9eadcc2cdf140addc9dae83648bb2c6611f5e4b66eaed7475fa5a0ca48eda371?response-content-disposition=attachment%3B+filename*%3DUTF-8%27%27queries.jsonl.gz%3B+filename%3D%22queries.jsonl.gz%22%3B&response-content-type=application%2Fgzip&Expires=1683668096&Policy=eyJTdGF0ZW1lbnQiOlt7IlJlc291cmNlIjoiaHR0cHM6Ly9jZG4tbGZzLmh1Z2dpbmdmYWNlLmNvL3JlcG9zL2E4LzEwL2E4MTBlODhiMGU3YjIzM2JlODJiODljMWZhNmVjMmQ3NWVmYzZkNTU3ODRjMmFkYTlkY2FjODQzNGE2MzRmM2EvOWVhZGNjMmNkZjE0MGFkZGM5ZGFlODM2NDhiYjJjNjYxMWY1ZTRiNjZlYWVkNzQ3NWZhNWEwY2E0OGVkYTM3MT9yZXNwb25zZS1jb250ZW50LWRpc3Bvc2l0aW9uPSomcmVzcG9uc2UtY29udGVudC10eXBlPSoiLCJDb25kaXRpb24iOnsiRGF0ZUxlc3NUaGFuIjp7IkFXUzpFcG9jaFRpbWUiOjE2ODM2NjgwOTZ9fX1dfQ__&Signature=m2lx5g8Ip6rMW3I9jGfzPPtZINejDEj2f8XwtGpuukp5CKEWuXrd163mK3%7EVR1n3hhzfiNLuBToxx0lqarAtV09mxvsY36c%7Et3PsKmT4lz3raQBNoFP7OfmgAoXLR%7EMi-Vx7woOO46rsugcf63XPI7kqqv9SppFKcA35VI-v0tMxwcIMGYvCjwj3wwpWDEoW5QEQjLxyJNrMzG0Q%7EivdvzhZ4VHyygj8NkdntMBijB3ZIsbG-OrwJG6PaqiZ2mD1S5V7aERr7HL927UZJLUwoHVL5Gx1MCW3M8IslD1BekktsVqj7qM9NS8AEk382pV7Y4PUvQldnxQYjfp1O9lAgw__&Key-Pair-Id=KVTP0A1DKRTAX\n",
            "Resolving cdn-lfs.huggingface.co (cdn-lfs.huggingface.co)... 18.155.68.128, 18.155.68.98, 18.155.68.94, ...\n",
            "Connecting to cdn-lfs.huggingface.co (cdn-lfs.huggingface.co)|18.155.68.128|:443... connected.\n",
            "HTTP request sent, awaiting response... 200 OK\n",
            "Length: 4702 (4.6K) [application/gzip]\n",
            "Saving to: ‘queries.jsonl.gz’\n",
            "\n",
            "queries.jsonl.gz    100%[===================>]   4.59K  --.-KB/s    in 0s      \n",
            "\n",
            "2023-05-06 21:34:56 (191 MB/s) - ‘queries.jsonl.gz’ saved [4702/4702]\n",
            "\n"
          ]
        }
      ],
      "source": [
        "!wget https://huggingface.co/datasets/BeIR/trec-covid/resolve/main/queries.jsonl.gz"
      ]
    },
    {
      "cell_type": "code",
      "execution_count": null,
      "metadata": {
        "id": "IiRancl45JXE"
      },
      "outputs": [],
      "source": [
        "!mv queries.jsonl.gz {main_dir}/trec-covid"
      ]
    },
    {
      "cell_type": "code",
      "execution_count": null,
      "metadata": {
        "colab": {
          "base_uri": "https://localhost:8080/"
        },
        "id": "_kCDz7Xn5LO5",
        "outputId": "89d28777-939a-40c5-c48f-0ab17ddc4b64"
      },
      "outputs": [
        {
          "name": "stdout",
          "output_type": "stream",
          "text": [
            "gzip: /content/gdrive/MyDrive/Unicamp-aula-10/trec-covid/queries.jsonl already exists; do you wish to overwrite (y or n)? ^C\n"
          ]
        }
      ],
      "source": [
        "!gunzip {main_dir}/trec-covid/queries.jsonl.gz"
      ]
    },
    {
      "cell_type": "code",
      "execution_count": 9,
      "metadata": {
        "id": "--xMWixxHlFd"
      },
      "outputs": [],
      "source": [
        "import torch\n",
        "\n",
        "device = torch.device('cuda' if torch.cuda.is_available() else 'cpu')"
      ]
    },
    {
      "cell_type": "code",
      "execution_count": 10,
      "metadata": {
        "colab": {
          "base_uri": "https://localhost:8080/"
        },
        "id": "psDPW3t-HmUL",
        "outputId": "aeea82b8-94fb-4ed4-d9ea-c948f5981226"
      },
      "outputs": [
        {
          "output_type": "execute_result",
          "data": {
            "text/plain": [
              "device(type='cuda')"
            ]
          },
          "metadata": {},
          "execution_count": 10
        }
      ],
      "source": [
        "device"
      ]
    },
    {
      "cell_type": "code",
      "execution_count": 11,
      "metadata": {
        "colab": {
          "base_uri": "https://localhost:8080/"
        },
        "id": "SVH2FdzmrOcN",
        "outputId": "17a54c6c-0c1f-41d4-b2b6-45540b2f9cf2"
      },
      "outputs": [
        {
          "output_type": "stream",
          "name": "stdout",
          "text": [
            "Wed May 10 02:22:28 2023       \n",
            "+-----------------------------------------------------------------------------+\n",
            "| NVIDIA-SMI 525.85.12    Driver Version: 525.85.12    CUDA Version: 12.0     |\n",
            "|-------------------------------+----------------------+----------------------+\n",
            "| GPU  Name        Persistence-M| Bus-Id        Disp.A | Volatile Uncorr. ECC |\n",
            "| Fan  Temp  Perf  Pwr:Usage/Cap|         Memory-Usage | GPU-Util  Compute M. |\n",
            "|                               |                      |               MIG M. |\n",
            "|===============================+======================+======================|\n",
            "|   0  Tesla T4            Off  | 00000000:00:04.0 Off |                    0 |\n",
            "| N/A   34C    P8     8W /  70W |      3MiB / 15360MiB |      0%      Default |\n",
            "|                               |                      |                  N/A |\n",
            "+-------------------------------+----------------------+----------------------+\n",
            "                                                                               \n",
            "+-----------------------------------------------------------------------------+\n",
            "| Processes:                                                                  |\n",
            "|  GPU   GI   CI        PID   Type   Process name                  GPU Memory |\n",
            "|        ID   ID                                                   Usage      |\n",
            "|=============================================================================|\n",
            "|  No running processes found                                                 |\n",
            "+-----------------------------------------------------------------------------+\n"
          ]
        }
      ],
      "source": [
        "!nvidia-smi"
      ]
    },
    {
      "cell_type": "code",
      "execution_count": null,
      "metadata": {
        "id": "AxOt8PHY-ljT"
      },
      "outputs": [],
      "source": [
        "import jsonlines\n",
        "\n",
        "passage_ids = []\n",
        "passage_texts = []\n",
        "id_to_passage = dict()\n",
        "\n",
        "#Maps each id to its position in the corpus\n",
        "id_to_index = dict()\n",
        "\n",
        "with jsonlines.open(f\"{main_dir}/trec-covid/corpus.jsonl\") as reader:\n",
        "  for item in reader:\n",
        "    id = item[\"_id\"]\n",
        "    id_to_index[id] = len(passage_ids)\n",
        "    passage_ids.append(id)\n",
        "    text = item[\"title\"] + ' ' + item[\"text\"]\n",
        "    passage_texts.append(text)\n",
        "    id_to_passage[id] = text"
      ]
    },
    {
      "cell_type": "code",
      "execution_count": 12,
      "metadata": {
        "id": "vY7H4KexI3t5"
      },
      "outputs": [],
      "source": [
        "from pyserini.search.lucene import LuceneSearcher\n",
        "import numpy as np\n",
        "import json"
      ]
    },
    {
      "cell_type": "code",
      "execution_count": 13,
      "metadata": {
        "id": "wikXMInXL8Eg"
      },
      "outputs": [],
      "source": [
        "def search_with_bm25(query,k = 1000, index_name='beir-v1.0.0-trec-covid.flat'):\n",
        "  if index_name == 'beir-v1.0.0-trec-covid.flat':   \n",
        "    searcher = LuceneSearcher.from_prebuilt_index(index_name)\n",
        "  else:\n",
        "    searcher = LuceneSearcher(index_name)\n",
        "  hits = searcher.search(query, k)\n",
        "  return hits"
      ]
    },
    {
      "cell_type": "code",
      "execution_count": 14,
      "metadata": {
        "id": "cQpIOs4pMR9P"
      },
      "outputs": [],
      "source": [
        "import jsonlines\n",
        "\n",
        "query_ids = []\n",
        "query_texts = []\n",
        "\n",
        "with jsonlines.open(f\"{main_dir}/trec-covid/queries.jsonl\") as reader:\n",
        "  for item in reader:\n",
        "    id = item[\"_id\"]\n",
        "    query_ids.append(id)\n",
        "    text = item[\"text\"]\n",
        "    query_texts.append(text)\n",
        "     "
      ]
    },
    {
      "cell_type": "code",
      "execution_count": 15,
      "metadata": {
        "id": "wzr4rJ3kWSBW"
      },
      "outputs": [],
      "source": [
        "\n",
        "import pandas as pd\n",
        "\n",
        "qrel = pd.read_csv(f\"{main_dir}/trec-covid/test.tsv\", sep=\"\\t\", header=None, \n",
        "                   skiprows=1, names=[\"query\", \"docid\", \"rel\"])\n",
        "qrel[\"q0\"] = \"q0\"\n",
        "qrel = qrel.to_dict(orient=\"list\")"
      ]
    },
    {
      "cell_type": "code",
      "execution_count": 16,
      "metadata": {
        "id": "ANkR4QzgYF-a"
      },
      "outputs": [],
      "source": [
        "\n",
        "from evaluate import load\n",
        "\n",
        "def eval_ndcg10(run):\n",
        "  trec_eval = load(\"trec_eval\")\n",
        "  results = trec_eval.compute(predictions=[run], references=[qrel])\n",
        "  return results['NDCG@10'] "
      ]
    },
    {
      "cell_type": "markdown",
      "metadata": {
        "id": "u_eK4xuIYiYg"
      },
      "source": [
        "Evaluates BM25 NDCG@10."
      ]
    },
    {
      "cell_type": "code",
      "source": [
        "from collections import defaultdict\n",
        "from tqdm import tqdm"
      ],
      "metadata": {
        "id": "szJB8FO7gE63"
      },
      "execution_count": 21,
      "outputs": []
    },
    {
      "cell_type": "code",
      "execution_count": 17,
      "metadata": {
        "id": "buMr_hDlZE8s"
      },
      "outputs": [],
      "source": [
        "def search_all_bm25(top_k=1000):\n",
        "  run = defaultdict(list)\n",
        "\n",
        "  for id, query in tqdm(zip(query_ids, query_texts)):\n",
        "    bm25_hits = search_with_bm25(query)\n",
        "    ids = [json.loads(bm25_hits[i].raw)['_id'] for i in range(len(bm25_hits))]\n",
        "    run[\"query\"] += [id] * top_k\n",
        "    run[\"docid\"] += ids\n",
        "    run[\"score\"] += [1] * top_k\n",
        "    run[\"q0\"] += [\"q0\"] * top_k\n",
        "    run[\"rank\"] += list(range(1,top_k+1))\n",
        "    run[\"system\"] += [\"bm25\"] * top_k\n",
        "\n",
        "  return run\n"
      ]
    },
    {
      "cell_type": "code",
      "execution_count": 22,
      "metadata": {
        "colab": {
          "base_uri": "https://localhost:8080/"
        },
        "id": "PeDFUKYsZVi4",
        "outputId": "b5eb119c-0366-4a15-c2cd-ebf98e8d6ea9"
      },
      "outputs": [
        {
          "output_type": "stream",
          "name": "stderr",
          "text": [
            "\r0it [00:00, ?it/s]"
          ]
        },
        {
          "output_type": "stream",
          "name": "stdout",
          "text": [
            "Downloading index at https://rgw.cs.uwaterloo.ca/pyserini/indexes/lucene-index.beir-v1.0.0-trec-covid.flat.20221116.505594.tar.gz...\n"
          ]
        },
        {
          "output_type": "stream",
          "name": "stderr",
          "text": [
            "\n",
            "lucene-index.beir-v1.0.0-trec-covid.flat.20221116.505594.tar.gz: 0.00B [00:00, ?B/s]\u001b[A\n",
            "lucene-index.beir-v1.0.0-trec-covid.flat.20221116.505594.tar.gz:   0%|          | 8.00k/216M [00:00<4:58:29, 12.6kB/s]\u001b[A\n",
            "lucene-index.beir-v1.0.0-trec-covid.flat.20221116.505594.tar.gz:   0%|          | 72.0k/216M [00:00<29:22, 128kB/s]   \u001b[A\n",
            "lucene-index.beir-v1.0.0-trec-covid.flat.20221116.505594.tar.gz:   0%|          | 80.0k/216M [00:02<1:52:06, 33.6kB/s]\u001b[A\n",
            "lucene-index.beir-v1.0.0-trec-covid.flat.20221116.505594.tar.gz:   1%|          | 1.57M/216M [00:02<03:03, 1.22MB/s]  \u001b[A\n",
            "lucene-index.beir-v1.0.0-trec-covid.flat.20221116.505594.tar.gz:   1%|          | 1.58M/216M [00:02<03:51, 969kB/s] \u001b[A\n",
            "lucene-index.beir-v1.0.0-trec-covid.flat.20221116.505594.tar.gz:   3%|▎         | 5.93M/216M [00:02<00:37, 5.84MB/s]\u001b[A\n",
            "lucene-index.beir-v1.0.0-trec-covid.flat.20221116.505594.tar.gz:   4%|▍         | 8.93M/216M [00:02<00:23, 9.25MB/s]\u001b[A\n",
            "lucene-index.beir-v1.0.0-trec-covid.flat.20221116.505594.tar.gz:   6%|▌         | 11.9M/216M [00:02<00:16, 12.8MB/s]\u001b[A\n",
            "lucene-index.beir-v1.0.0-trec-covid.flat.20221116.505594.tar.gz:   7%|▋         | 14.9M/216M [00:02<00:13, 16.1MB/s]\u001b[A\n",
            "lucene-index.beir-v1.0.0-trec-covid.flat.20221116.505594.tar.gz:   8%|▊         | 17.9M/216M [00:02<00:10, 19.2MB/s]\u001b[A\n",
            "lucene-index.beir-v1.0.0-trec-covid.flat.20221116.505594.tar.gz:  10%|▉         | 20.9M/216M [00:03<00:09, 21.8MB/s]\u001b[A\n",
            "lucene-index.beir-v1.0.0-trec-covid.flat.20221116.505594.tar.gz:  11%|█         | 23.9M/216M [00:03<00:08, 24.0MB/s]\u001b[A\n",
            "lucene-index.beir-v1.0.0-trec-covid.flat.20221116.505594.tar.gz:  11%|█         | 23.9M/216M [00:03<00:13, 14.5MB/s]\u001b[A\n",
            "lucene-index.beir-v1.0.0-trec-covid.flat.20221116.505594.tar.gz:  13%|█▎        | 28.1M/216M [00:03<00:09, 21.5MB/s]\u001b[A\n",
            "lucene-index.beir-v1.0.0-trec-covid.flat.20221116.505594.tar.gz:  14%|█▍        | 31.1M/216M [00:03<00:08, 23.9MB/s]\u001b[A\n",
            "lucene-index.beir-v1.0.0-trec-covid.flat.20221116.505594.tar.gz:  16%|█▌        | 34.1M/216M [00:03<00:07, 25.3MB/s]\u001b[A\n",
            "lucene-index.beir-v1.0.0-trec-covid.flat.20221116.505594.tar.gz:  17%|█▋        | 37.1M/216M [00:03<00:07, 26.5MB/s]\u001b[A\n",
            "lucene-index.beir-v1.0.0-trec-covid.flat.20221116.505594.tar.gz:  19%|█▊        | 40.1M/216M [00:03<00:06, 27.6MB/s]\u001b[A\n",
            "lucene-index.beir-v1.0.0-trec-covid.flat.20221116.505594.tar.gz:  20%|█▉        | 43.1M/216M [00:03<00:06, 28.4MB/s]\u001b[A\n",
            "lucene-index.beir-v1.0.0-trec-covid.flat.20221116.505594.tar.gz:  21%|██▏       | 46.0M/216M [00:04<00:06, 29.0MB/s]\u001b[A\n",
            "lucene-index.beir-v1.0.0-trec-covid.flat.20221116.505594.tar.gz:  23%|██▎       | 49.0M/216M [00:04<00:05, 29.3MB/s]\u001b[A\n",
            "lucene-index.beir-v1.0.0-trec-covid.flat.20221116.505594.tar.gz:  24%|██▍       | 52.0M/216M [00:04<00:05, 29.7MB/s]\u001b[A\n",
            "lucene-index.beir-v1.0.0-trec-covid.flat.20221116.505594.tar.gz:  24%|██▍       | 52.0M/216M [00:05<00:24, 6.94MB/s]\u001b[A\n",
            "lucene-index.beir-v1.0.0-trec-covid.flat.20221116.505594.tar.gz:  26%|██▋       | 56.9M/216M [00:05<00:13, 12.2MB/s]\u001b[A\n",
            "lucene-index.beir-v1.0.0-trec-covid.flat.20221116.505594.tar.gz:  26%|██▋       | 56.9M/216M [00:05<00:20, 8.29MB/s]\u001b[A\n",
            "lucene-index.beir-v1.0.0-trec-covid.flat.20221116.505594.tar.gz:  29%|██▊       | 61.8M/216M [00:05<00:11, 14.2MB/s]\u001b[A\n",
            "lucene-index.beir-v1.0.0-trec-covid.flat.20221116.505594.tar.gz:  30%|███       | 64.7M/216M [00:05<00:09, 17.0MB/s]\u001b[A\n",
            "lucene-index.beir-v1.0.0-trec-covid.flat.20221116.505594.tar.gz:  31%|███▏      | 67.7M/216M [00:05<00:07, 19.7MB/s]\u001b[A\n",
            "lucene-index.beir-v1.0.0-trec-covid.flat.20221116.505594.tar.gz:  33%|███▎      | 70.7M/216M [00:05<00:06, 22.1MB/s]\u001b[A\n",
            "lucene-index.beir-v1.0.0-trec-covid.flat.20221116.505594.tar.gz:  34%|███▍      | 73.7M/216M [00:05<00:06, 24.2MB/s]\u001b[A\n",
            "lucene-index.beir-v1.0.0-trec-covid.flat.20221116.505594.tar.gz:  36%|███▌      | 76.7M/216M [00:06<00:05, 26.0MB/s]\u001b[A\n",
            "lucene-index.beir-v1.0.0-trec-covid.flat.20221116.505594.tar.gz:  37%|███▋      | 79.7M/216M [00:06<00:05, 23.9MB/s]\u001b[A\n",
            "lucene-index.beir-v1.0.0-trec-covid.flat.20221116.505594.tar.gz:  37%|███▋      | 79.7M/216M [00:06<00:10, 13.7MB/s]\u001b[A\n",
            "lucene-index.beir-v1.0.0-trec-covid.flat.20221116.505594.tar.gz:  39%|███▉      | 84.4M/216M [00:06<00:06, 21.2MB/s]\u001b[A\n",
            "lucene-index.beir-v1.0.0-trec-covid.flat.20221116.505594.tar.gz:  41%|████      | 87.4M/216M [00:06<00:05, 23.5MB/s]\u001b[A\n",
            "lucene-index.beir-v1.0.0-trec-covid.flat.20221116.505594.tar.gz:  42%|████▏     | 90.1M/216M [00:06<00:05, 24.2MB/s]\u001b[A\n",
            "lucene-index.beir-v1.0.0-trec-covid.flat.20221116.505594.tar.gz:  43%|████▎     | 93.0M/216M [00:06<00:04, 26.0MB/s]\u001b[A\n",
            "lucene-index.beir-v1.0.0-trec-covid.flat.20221116.505594.tar.gz:  44%|████▍     | 96.0M/216M [00:06<00:04, 27.2MB/s]\u001b[A\n",
            "lucene-index.beir-v1.0.0-trec-covid.flat.20221116.505594.tar.gz:  46%|████▌     | 98.6M/216M [00:07<00:04, 27.2MB/s]\u001b[A\n",
            "lucene-index.beir-v1.0.0-trec-covid.flat.20221116.505594.tar.gz:  47%|████▋     | 101M/216M [00:07<00:04, 27.7MB/s] \u001b[A\n",
            "lucene-index.beir-v1.0.0-trec-covid.flat.20221116.505594.tar.gz:  48%|████▊     | 104M/216M [00:07<00:04, 28.5MB/s]\u001b[A\n",
            "lucene-index.beir-v1.0.0-trec-covid.flat.20221116.505594.tar.gz:  50%|████▉     | 107M/216M [00:09<00:03, 29.0MB/s]\u001b[A\n",
            "lucene-index.beir-v1.0.0-trec-covid.flat.20221116.505594.tar.gz:  50%|████▉     | 107M/216M [00:09<00:32, 3.46MB/s]\u001b[A\n",
            "lucene-index.beir-v1.0.0-trec-covid.flat.20221116.505594.tar.gz:  52%|█████▏    | 113M/216M [00:10<00:16, 6.71MB/s]\u001b[A\n",
            "lucene-index.beir-v1.0.0-trec-covid.flat.20221116.505594.tar.gz:  52%|█████▏    | 113M/216M [00:10<00:28, 3.86MB/s]\u001b[A\n",
            "lucene-index.beir-v1.0.0-trec-covid.flat.20221116.505594.tar.gz:  54%|█████▍    | 118M/216M [00:10<00:14, 7.27MB/s]\u001b[A\n",
            "lucene-index.beir-v1.0.0-trec-covid.flat.20221116.505594.tar.gz:  54%|█████▍    | 118M/216M [00:10<00:17, 5.87MB/s]\u001b[A\n",
            "lucene-index.beir-v1.0.0-trec-covid.flat.20221116.505594.tar.gz:  57%|█████▋    | 122M/216M [00:10<00:09, 10.6MB/s]\u001b[A\n",
            "lucene-index.beir-v1.0.0-trec-covid.flat.20221116.505594.tar.gz:  58%|█████▊    | 125M/216M [00:10<00:07, 13.2MB/s]\u001b[A\n",
            "lucene-index.beir-v1.0.0-trec-covid.flat.20221116.505594.tar.gz:  60%|█████▉    | 128M/216M [00:10<00:05, 16.0MB/s]\u001b[A\n",
            "lucene-index.beir-v1.0.0-trec-covid.flat.20221116.505594.tar.gz:  61%|██████    | 131M/216M [00:10<00:04, 18.8MB/s]\u001b[A\n",
            "lucene-index.beir-v1.0.0-trec-covid.flat.20221116.505594.tar.gz:  62%|██████▏   | 134M/216M [00:10<00:04, 21.1MB/s]\u001b[A\n",
            "lucene-index.beir-v1.0.0-trec-covid.flat.20221116.505594.tar.gz:  64%|██████▎   | 137M/216M [00:11<00:03, 23.4MB/s]\u001b[A\n",
            "lucene-index.beir-v1.0.0-trec-covid.flat.20221116.505594.tar.gz:  65%|██████▌   | 140M/216M [00:11<00:03, 25.2MB/s]\u001b[A\n",
            "lucene-index.beir-v1.0.0-trec-covid.flat.20221116.505594.tar.gz:  66%|██████▋   | 143M/216M [00:12<00:02, 25.5MB/s]\u001b[A\n",
            "lucene-index.beir-v1.0.0-trec-covid.flat.20221116.505594.tar.gz:  66%|██████▋   | 143M/216M [00:12<00:12, 6.14MB/s]\u001b[A\n",
            "lucene-index.beir-v1.0.0-trec-covid.flat.20221116.505594.tar.gz:  69%|██████▊   | 148M/216M [00:12<00:06, 11.3MB/s]\u001b[A\n",
            "lucene-index.beir-v1.0.0-trec-covid.flat.20221116.505594.tar.gz:  69%|██████▊   | 148M/216M [00:12<00:08, 8.22MB/s]\u001b[A\n",
            "lucene-index.beir-v1.0.0-trec-covid.flat.20221116.505594.tar.gz:  71%|███████   | 153M/216M [00:12<00:04, 14.1MB/s]\u001b[A\n",
            "lucene-index.beir-v1.0.0-trec-covid.flat.20221116.505594.tar.gz:  72%|███████▏  | 156M/216M [00:12<00:03, 16.8MB/s]\u001b[A\n",
            "lucene-index.beir-v1.0.0-trec-covid.flat.20221116.505594.tar.gz:  74%|███████▎  | 159M/216M [00:12<00:03, 19.5MB/s]\u001b[A\n",
            "lucene-index.beir-v1.0.0-trec-covid.flat.20221116.505594.tar.gz:  75%|███████▌  | 162M/216M [00:12<00:02, 21.9MB/s]\u001b[A\n",
            "lucene-index.beir-v1.0.0-trec-covid.flat.20221116.505594.tar.gz:  76%|███████▋  | 165M/216M [00:12<00:02, 24.0MB/s]\u001b[A\n",
            "lucene-index.beir-v1.0.0-trec-covid.flat.20221116.505594.tar.gz:  78%|███████▊  | 168M/216M [00:13<00:01, 25.7MB/s]\u001b[A\n",
            "lucene-index.beir-v1.0.0-trec-covid.flat.20221116.505594.tar.gz:  79%|███████▉  | 171M/216M [00:13<00:01, 26.5MB/s]\u001b[A\n",
            "lucene-index.beir-v1.0.0-trec-covid.flat.20221116.505594.tar.gz:  80%|████████  | 174M/216M [00:13<00:01, 27.2MB/s]\u001b[A\n",
            "lucene-index.beir-v1.0.0-trec-covid.flat.20221116.505594.tar.gz:  82%|████████▏ | 177M/216M [00:14<00:01, 28.0MB/s]\u001b[A\n",
            "lucene-index.beir-v1.0.0-trec-covid.flat.20221116.505594.tar.gz:  82%|████████▏ | 177M/216M [00:14<00:05, 7.48MB/s]\u001b[A\n",
            "lucene-index.beir-v1.0.0-trec-covid.flat.20221116.505594.tar.gz:  84%|████████▍ | 182M/216M [00:14<00:02, 13.7MB/s]\u001b[A\n",
            "lucene-index.beir-v1.0.0-trec-covid.flat.20221116.505594.tar.gz:  84%|████████▍ | 182M/216M [00:14<00:03, 9.34MB/s]\u001b[A\n",
            "lucene-index.beir-v1.0.0-trec-covid.flat.20221116.505594.tar.gz:  86%|████████▋ | 186M/216M [00:14<00:01, 15.4MB/s]\u001b[A\n",
            "lucene-index.beir-v1.0.0-trec-covid.flat.20221116.505594.tar.gz:  88%|████████▊ | 189M/216M [00:14<00:01, 18.1MB/s]\u001b[A\n",
            "lucene-index.beir-v1.0.0-trec-covid.flat.20221116.505594.tar.gz:  89%|████████▉ | 192M/216M [00:14<00:01, 20.7MB/s]\u001b[A\n",
            "lucene-index.beir-v1.0.0-trec-covid.flat.20221116.505594.tar.gz:  91%|█████████ | 195M/216M [00:14<00:00, 22.8MB/s]\u001b[A\n",
            "lucene-index.beir-v1.0.0-trec-covid.flat.20221116.505594.tar.gz:  92%|█████████▏| 198M/216M [00:14<00:00, 24.8MB/s]\u001b[A\n",
            "lucene-index.beir-v1.0.0-trec-covid.flat.20221116.505594.tar.gz:  93%|█████████▎| 201M/216M [00:15<00:00, 26.3MB/s]\u001b[A\n",
            "lucene-index.beir-v1.0.0-trec-covid.flat.20221116.505594.tar.gz:  95%|█████████▍| 204M/216M [00:15<00:00, 27.5MB/s]\u001b[A\n",
            "lucene-index.beir-v1.0.0-trec-covid.flat.20221116.505594.tar.gz:  95%|█████████▍| 204M/216M [00:15<00:00, 15.8MB/s]\u001b[A\n",
            "lucene-index.beir-v1.0.0-trec-covid.flat.20221116.505594.tar.gz:  97%|█████████▋| 209M/216M [00:15<00:00, 23.4MB/s]\u001b[A\n",
            "lucene-index.beir-v1.0.0-trec-covid.flat.20221116.505594.tar.gz:  98%|█████████▊| 212M/216M [00:15<00:00, 25.2MB/s]\u001b[A\n",
            "lucene-index.beir-v1.0.0-trec-covid.flat.20221116.505594.tar.gz: 216MB [00:15, 14.4MB/s]                           \n",
            "50it [00:33,  1.51it/s]\n"
          ]
        }
      ],
      "source": [
        "run_bm25 = search_all_bm25()"
      ]
    },
    {
      "cell_type": "code",
      "execution_count": 23,
      "metadata": {
        "colab": {
          "base_uri": "https://localhost:8080/",
          "height": 170,
          "referenced_widgets": [
            "7f6aaf3392164c519b7b52faf2fb8398",
            "34798ef700c54ec9b21a5cf747a94862",
            "bf60a81658914828aaead2ab6715e068",
            "441c4d91fa954a1798beb9cec990c05b",
            "b12788f3ce3f4435873dd5932dddaee8",
            "5525f6f5581d4ec9ae0b3109b23ff3ca",
            "afa3bd3e95b8442e922922563e4ce26d",
            "e7669dbe41d2470faaf68c60041b58b5",
            "9304002e8a3f426e839e0a65cc57ec69",
            "5f45679aa8d34dd19fd68c78eb41d2de",
            "0f563670a0904d78b3f845532b9f4187"
          ]
        },
        "id": "KHJLDlnbaOGR",
        "outputId": "556bf2f8-ae05-484b-ba6c-a9b3ccb3fd2a"
      },
      "outputs": [
        {
          "output_type": "display_data",
          "data": {
            "text/plain": [
              "Downloading builder script:   0%|          | 0.00/5.51k [00:00<?, ?B/s]"
            ],
            "application/vnd.jupyter.widget-view+json": {
              "version_major": 2,
              "version_minor": 0,
              "model_id": "7f6aaf3392164c519b7b52faf2fb8398"
            }
          },
          "metadata": {}
        },
        {
          "output_type": "stream",
          "name": "stderr",
          "text": [
            "/usr/local/lib/python3.10/dist-packages/trectools/trec_eval.py:480: SettingWithCopyWarning: \n",
            "A value is trying to be set on a copy of a slice from a DataFrame.\n",
            "Try using .loc[row_indexer,col_indexer] = value instead\n",
            "\n",
            "See the caveats in the documentation: https://pandas.pydata.org/pandas-docs/stable/user_guide/indexing.html#returning-a-view-versus-a-copy\n",
            "  topX[\"rank\"] = 1\n"
          ]
        },
        {
          "output_type": "execute_result",
          "data": {
            "text/plain": [
              "0.5946917010118077"
            ]
          },
          "metadata": {},
          "execution_count": 23
        }
      ],
      "source": [
        "eval_ndcg10(run_bm25)"
      ]
    },
    {
      "cell_type": "markdown",
      "metadata": {
        "id": "yYQXlV9Hzx_J"
      },
      "source": [
        "## Baseline: SPLADE"
      ]
    },
    {
      "cell_type": "code",
      "execution_count": 24,
      "metadata": {
        "id": "pDokC1fwvGg3"
      },
      "outputs": [],
      "source": [
        "from transformers import BertTokenizer, BertForMaskedLM, DistilBertTokenizer, DistilBertForMaskedLM\n",
        "from transformers import AutoModelForMaskedLM, AutoTokenizer"
      ]
    },
    {
      "cell_type": "code",
      "execution_count": 25,
      "metadata": {
        "colab": {
          "base_uri": "https://localhost:8080/",
          "height": 209,
          "referenced_widgets": [
            "8df331c98be54ff28d9a58d89c9bacd9",
            "679fc5b14c174380917f06d936be0f35",
            "c572cf9a8ea944699b01e7980649218f",
            "85499751a43248d3a27950eaaa638903",
            "f52db961fe0b4f639e589864ebc1a77f",
            "d8b0f75a3099458fbe9b2ca24588ce6a",
            "dcb67c8a9b4a4f5182e268a3dbf6406d",
            "80fb3a8c43494a5184de44990e68ff20",
            "987dc9ae461240b4956ddd1a4d9d31a8",
            "f4ee3489494b4de8bce771e78aa184d6",
            "23ba58c3c0524716b937c7e237f37c2a",
            "846cc0bc0f2d4fe097fadd17860b2455",
            "d92262b7f69a4a1ca914bbce59cb06c5",
            "1aa5feddf58e4cf296d24614b0bd3f90",
            "236de653976e40fa892e71910bb7dd41",
            "8e36bba943504a1ab036c9fd3f86752f",
            "e7d1fc0af19c4bab9e55f7434895e104",
            "050737f8b18e40e99eecb5207d0017f6",
            "abcbccb6cd2b4b068fd19d01c34421ed",
            "58317dc9ef2245a4bec7d6ccfd776f0f",
            "b0c59762e81840f9a2cb23974e7b902f",
            "d1927f4cc36446089bda7ca7a47f1f26",
            "d7c23fe853fc4d219779b97723022f28",
            "572d7cb88edf41e7a1182c7b0c101f90",
            "71125e7b721548e5b55d6f44eec8020a",
            "bfd5b4a87b4745b09e55b73c03e6d33b",
            "58009e8a2baa4f6ab7d1b3be0d4b6398",
            "b055531e21224b8f82165298d4b95336",
            "5ee51f40deb94124b69577a089c8e994",
            "1d47ccde40c14a8583ef90d5a7a5b22f",
            "54e2156e118a47b0a23ee42b915a3ccb",
            "624fba7f37be45eaba8fefec8f2133f8",
            "e05e38d3639b4dd39a39beb608713509",
            "35fcac56e75c4b48a97fe0be23941582",
            "eb11ede49f7b440d93645f949c752899",
            "f0900715c09f47699fc20ec9861c3085",
            "ea6f0f3026a94a3fb2410b721174fa12",
            "c1b0c3e540cf42e2a3adcaecfc7529a3",
            "41a92bc616cc4a2c826929b49307576f",
            "eb9540ee84e24910a2d7d1e1ad0d4291",
            "755367a85c1a4dbda04d18a99d472d18",
            "db0b673849d14e9f824a4d8b1766156e",
            "434f513af9c0408db964c173e1a1bb1a",
            "e0e7775330274a76beaa079f4a152418",
            "10b74336ef51420fa9a3c6fdeea5479c",
            "26b5fac3170c4346b7c79fafa67123c6",
            "f3c40f4b185148e091ff45571e765263",
            "f554744b2bb4499b89680073ce417fc6",
            "b20417f618a84ab1abee9b56bb978c6c",
            "ed2ba69ad84b44e7ae448d17c7074591",
            "5b5f86fd51094d37adedb974605ae983",
            "2281c62087564274b04740dabd15cdca",
            "64d9c35d54924222a8ca7d3bc2b7f45d",
            "d56ecf5f3d3543719ca3a9cebc739d2b",
            "ffaff6f873e84d93891fcab8030db96f",
            "78c73cb2f66940b9b97ed0240b271f8e",
            "aac5bc92d34e4c94be87b81ccfef4927",
            "634b6b25aab04a7785668fe1bc5bab23",
            "cc9cd2a113544c44aa2a1d9364680e79",
            "f4ed0dd5d738437585ee256819e1ce82",
            "57f2d0d49f2245afa4294443776e3aab",
            "bb7cb70981ba45caba806b4674c4d191",
            "2bff8f98d29d492baccd3b7059b6f5d6",
            "01d0f2cd0cd749ef8e90bbf6dcb563e9",
            "02dbf147a8e54b5bb83fe6438e0225e8",
            "774aff1da67a40f083cefbeb501cfa31"
          ]
        },
        "id": "DnuCdfuR0Q1i",
        "outputId": "53b31040-ff44-42b5-9384-262c3d8fcf98"
      },
      "outputs": [
        {
          "output_type": "display_data",
          "data": {
            "text/plain": [
              "Downloading (…)okenizer_config.json:   0%|          | 0.00/466 [00:00<?, ?B/s]"
            ],
            "application/vnd.jupyter.widget-view+json": {
              "version_major": 2,
              "version_minor": 0,
              "model_id": "8df331c98be54ff28d9a58d89c9bacd9"
            }
          },
          "metadata": {}
        },
        {
          "output_type": "display_data",
          "data": {
            "text/plain": [
              "Downloading (…)solve/main/vocab.txt:   0%|          | 0.00/232k [00:00<?, ?B/s]"
            ],
            "application/vnd.jupyter.widget-view+json": {
              "version_major": 2,
              "version_minor": 0,
              "model_id": "846cc0bc0f2d4fe097fadd17860b2455"
            }
          },
          "metadata": {}
        },
        {
          "output_type": "display_data",
          "data": {
            "text/plain": [
              "Downloading (…)/main/tokenizer.json:   0%|          | 0.00/466k [00:00<?, ?B/s]"
            ],
            "application/vnd.jupyter.widget-view+json": {
              "version_major": 2,
              "version_minor": 0,
              "model_id": "d7c23fe853fc4d219779b97723022f28"
            }
          },
          "metadata": {}
        },
        {
          "output_type": "display_data",
          "data": {
            "text/plain": [
              "Downloading (…)cial_tokens_map.json:   0%|          | 0.00/112 [00:00<?, ?B/s]"
            ],
            "application/vnd.jupyter.widget-view+json": {
              "version_major": 2,
              "version_minor": 0,
              "model_id": "35fcac56e75c4b48a97fe0be23941582"
            }
          },
          "metadata": {}
        },
        {
          "output_type": "display_data",
          "data": {
            "text/plain": [
              "Downloading (…)lve/main/config.json:   0%|          | 0.00/670 [00:00<?, ?B/s]"
            ],
            "application/vnd.jupyter.widget-view+json": {
              "version_major": 2,
              "version_minor": 0,
              "model_id": "10b74336ef51420fa9a3c6fdeea5479c"
            }
          },
          "metadata": {}
        },
        {
          "output_type": "display_data",
          "data": {
            "text/plain": [
              "Downloading pytorch_model.bin:   0%|          | 0.00/438M [00:00<?, ?B/s]"
            ],
            "application/vnd.jupyter.widget-view+json": {
              "version_major": 2,
              "version_minor": 0,
              "model_id": "78c73cb2f66940b9b97ed0240b271f8e"
            }
          },
          "metadata": {}
        }
      ],
      "source": [
        "model_name_1 = 'naver/splade_v2_distil' \n",
        "model_name_2 = 'naver/splade-cocondenser-selfdistil'\n",
        "model_name_3 = 'naver/splade-cocondenser-ensembledistil' \n",
        "\n",
        "#tokenizer_1 = DistilBertTokenizer.from_pretrained(model_name_1)\n",
        "#model_1 = DistilBertForMaskedLM.from_pretrained(model_name_1)\n",
        "\n",
        "#tokenizer_2 = BertTokenizer.from_pretrained(model_name_2)\n",
        "#model_2 = BertForMaskedLM.from_pretrained(model_name_2)\n",
        "\n",
        "tokenizer_3 = AutoTokenizer.from_pretrained(model_name_3)\n",
        "model_3 = AutoModelForMaskedLM.from_pretrained(model_name_3)"
      ]
    },
    {
      "cell_type": "code",
      "execution_count": 26,
      "metadata": {
        "id": "BLF0gopU1wFh"
      },
      "outputs": [],
      "source": [
        "model = model_3\n",
        "tokenizer = tokenizer_3"
      ]
    },
    {
      "cell_type": "code",
      "execution_count": 27,
      "metadata": {
        "id": "4uRoAXTB-KOc"
      },
      "outputs": [],
      "source": [
        "def vectorize_to_sparse_batch(batch, model=model, remove_special_tokens=True):\n",
        "  model.to(device)\n",
        "  model.eval()\n",
        "  \n",
        "  with torch.no_grad():\n",
        "    output = model(batch['input_ids'].to(device), batch['attention_mask'].to(device))\n",
        "\n",
        "  w_ij = output.logits.to(device)\n",
        "\n",
        "  #Kudos Leandro Carísio\n",
        "  mask_tokens_validos = batch['attention_mask'].to(device)\n",
        "  mask = mask_tokens_validos.unsqueeze(-1).expand(w_ij.size())\n",
        "  \n",
        "  wj = torch.max(torch.log(1 + relu(w_ij*mask)), dim=1)[0]\n",
        "\n",
        "  #According to ChatGPT: In PyTorch, the to_sparse() method is used to convert a \n",
        "  #dense tensor into a sparse tensor.  A dense tensor is a tensor that contains \n",
        "  #all elements, including those with zero values. In contrast, a sparse tensor \n",
        "  #is a tensor that only stores the non-zero elements, along with their indices. \n",
        "  #Sparse tensors are useful when working with large tensors with mostly zero \n",
        "  #values, as they can save memory and computational resources.\n",
        "  return wj.to_sparse()"
      ]
    },
    {
      "cell_type": "code",
      "execution_count": 28,
      "metadata": {
        "id": "citydImK8bGO"
      },
      "outputs": [],
      "source": [
        "import torch\n",
        "from torch.nn.functional import relu\n",
        "import time\n",
        "\n",
        "device = torch.device(\"cuda\" if torch.cuda.is_available() else \"cpu\")\n",
        "\n",
        "def vectorize_to_sparse(text, tokenizer=tokenizer, model=model, remove_special_tokens=False):\n",
        "  # Kudos to Marcos Piau\n",
        "  with torch.autocast(device_type='cuda', dtype=torch.float16, enabled=True):\n",
        "    tokenized_text = tokenizer(text, max_length=max_length, truncation=True, \n",
        "                              return_tensors='pt', \n",
        "                              return_special_tokens_mask=True).to(device)\n",
        "    \n",
        "    model.to(device)\n",
        "    model.eval()\n",
        "    \n",
        "    with torch.no_grad():\n",
        "      output = model(tokenized_text['input_ids'].to(device), \n",
        "                     attention_mask=tokenized_text['attention_mask'].to(device))\n",
        "\n",
        "    w_ij = output.logits[0,:]\n",
        "\n",
        "    mask_tokens_validos = 1 - tokenized_text['special_tokens_mask'].to(device)\n",
        "\n",
        "    #Kudos Leandro Carísio\n",
        "    #1) Removes all dimenstions of size 1 (here, it's the first one)\n",
        "    #2) Adds a 1 dimension to the end (equivalent to transpose, I think)\n",
        "    #3) Replicates (expands) up to the vocabulary size -> 5 X 30k \n",
        "    if remove_special_tokens:\n",
        "      mask = mask_tokens_validos.squeeze().unsqueeze(-1).expand(w_ij.size())\n",
        "    else:\n",
        "      mask = mask_tokens_validos.squeeze().unsqueeze(-1).expand(w_ij.size())\n",
        "      mask = torch.ones(mask.size()).to(device)\n",
        "\n",
        "    wj = torch.max(torch.log(1 + relu(w_ij*mask)), dim=0)[0]\n",
        "\n",
        "  #According to ChatGPT: In PyTorch, the to_sparse() method is used to convert a \n",
        "  #dense tensor into a sparse tensor.  A dense tensor is a tensor that contains \n",
        "  #all elements, including those with zero values. In contrast, a sparse tensor \n",
        "  #is a tensor that only stores the non-zero elements, along with their indices. \n",
        "  #Sparse tensors are useful when working with large tensors with mostly zero \n",
        "  #values, as they can save memory and computational resources.\n",
        "  return wj.to_sparse()"
      ]
    },
    {
      "cell_type": "code",
      "execution_count": 21,
      "metadata": {
        "id": "CLVlQ93a-kwX"
      },
      "outputs": [],
      "source": [
        "import jsonlines\n",
        "\n",
        "passage_ids = []\n",
        "passage_texts = []\n",
        "id_to_text = dict()\n",
        "\n",
        "with jsonlines.open(f\"{main_dir}/trec-covid/corpus.jsonl\") as reader:\n",
        "  for item in reader:\n",
        "    id = item[\"_id\"]\n",
        "    passage_ids.append(id)\n",
        "    text = item[\"title\"] + ' ' + item[\"text\"]\n",
        "    passage_texts.append(text)\n",
        "    id_to_text[id] = text\n",
        "\n",
        "#Sorts the passages by length\n",
        "passage_indices = sorted(range(len(passage_texts)), \n",
        "                         key=lambda k: len(passage_texts[k]))\n",
        "passage_texts = sorted(passage_texts, key=lambda k: len(k))\n",
        "passage_ids = sorted(passage_ids, key=lambda k: len(id_to_text[k]))"
      ]
    },
    {
      "cell_type": "code",
      "execution_count": 29,
      "metadata": {
        "id": "7tJlFJz2-7mc"
      },
      "outputs": [],
      "source": [
        "from torch.utils import data\n",
        "\n",
        "class Dataset(data.Dataset):\n",
        "    def __init__(self, tokenized_texts):\n",
        "        self.tokenized_texts = tokenized_texts\n",
        "    \n",
        "    def __len__(self):\n",
        "        return len(self.tokenized_texts['input_ids'])\n",
        "    \n",
        "    def __getitem__(self, idx):\n",
        "        #return self.tokenized_texts[idx]\n",
        "        return {\n",
        "            'input_ids': self.tokenized_texts['input_ids'][idx],\n",
        "            'attention_mask': self.tokenized_texts['attention_mask'][idx],\n",
        "            'special_tokens_mask': self.tokenized_texts['special_tokens_mask'][idx]\n",
        "        }"
      ]
    },
    {
      "cell_type": "code",
      "execution_count": 30,
      "metadata": {
        "id": "sZ2YPGiX-8Dd"
      },
      "outputs": [],
      "source": [
        "from transformers import BatchEncoding\n",
        "\n",
        "def collate_fn(batch):\n",
        "    return BatchEncoding(tokenizer.pad(batch, return_tensors='pt'))"
      ]
    },
    {
      "cell_type": "code",
      "execution_count": 31,
      "metadata": {
        "id": "-2GsOPUN_OBw"
      },
      "outputs": [],
      "source": [
        "max_length=256\n",
        "batch_size = 32"
      ]
    },
    {
      "cell_type": "code",
      "execution_count": null,
      "metadata": {
        "colab": {
          "base_uri": "https://localhost:8080/"
        },
        "id": "DBrX5YcM--UH",
        "outputId": "be481117-c33a-4594-8da5-c1f547b84362"
      },
      "outputs": [
        {
          "name": "stdout",
          "output_type": "stream",
          "text": [
            "Time spent on tokenization =  30.300974130630493\n"
          ]
        }
      ],
      "source": [
        "import time\n",
        "\n",
        "start = time.time()\n",
        "test_passages_tokenized = tokenizer(passage_texts, max_length=max_length, \n",
        "                                   truncation=True, padding=True, \n",
        "                                   return_special_tokens_mask=True)\n",
        "dataset_passages_test = Dataset(test_passages_tokenized)\n",
        "dataloader_passages_test = data.DataLoader(dataset_passages_test, \n",
        "                                          batch_size=batch_size, shuffle=False, \n",
        "                                          collate_fn=collate_fn)\n",
        "end = time.time()\n",
        "print(\"Time spent on tokenization = \", end - start)"
      ]
    },
    {
      "cell_type": "code",
      "execution_count": null,
      "metadata": {
        "colab": {
          "base_uri": "https://localhost:8080/"
        },
        "id": "4WbyP6mXLb5T",
        "outputId": "a17d4bfb-c382-4dbf-e8c3-df780e0a1994"
      },
      "outputs": [
        {
          "data": {
            "text/plain": [
              "171332"
            ]
          },
          "execution_count": 43,
          "metadata": {},
          "output_type": "execute_result"
        }
      ],
      "source": [
        "len(dataset_passages_test)"
      ]
    },
    {
      "cell_type": "code",
      "execution_count": null,
      "metadata": {
        "id": "PiSghN2d_vVD"
      },
      "outputs": [],
      "source": [
        "import torch\n",
        "from tqdm import tqdm\n",
        "import time\n",
        "\n",
        "def build_docs_matrix(dataloader_passages_test):\n",
        "  start = time.time()\n",
        "\n",
        "  docs_matrix = None\n",
        "\n",
        "  # kudos Marcos Piau\n",
        "  with torch.autocast(device_type=str(device), dtype=torch.float16, enabled=True):\n",
        "    for doc_batch in tqdm(dataloader_passages_test, mininterval=0.5, desc='Test', \n",
        "                                            disable=False):\n",
        "      doc_vector = vectorize_to_sparse_batch(doc_batch, model=model)\n",
        "\n",
        "      if docs_matrix is None:\n",
        "        docs_matrix = doc_vector\n",
        "      else:\n",
        "        docs_matrix = torch.cat((docs_matrix, doc_vector), dim=0)\n",
        "\n",
        "  end = time.time()\n",
        "  print(\"Time spent on matrix building = \", end - start)\n",
        "  return docs_matrix"
      ]
    },
    {
      "cell_type": "code",
      "execution_count": null,
      "metadata": {
        "colab": {
          "base_uri": "https://localhost:8080/"
        },
        "id": "jebSYhb0uJEE",
        "outputId": "c0b2a248-b109-41f4-beae-d99d0133cadd"
      },
      "outputs": [
        {
          "name": "stderr",
          "output_type": "stream",
          "text": [
            "Test:   0%|          | 0/5355 [00:00<?, ?it/s]You're using a BertTokenizerFast tokenizer. Please note that with a fast tokenizer, using the `__call__` method is faster than using a method to encode the text followed by a call to the `pad` method to get a padded encoding.\n",
            "Test: 100%|██████████| 5355/5355 [38:05<00:00,  2.34it/s]"
          ]
        },
        {
          "name": "stdout",
          "output_type": "stream",
          "text": [
            "Time spent on matrix building =  2285.0667567253113\n"
          ]
        },
        {
          "name": "stderr",
          "output_type": "stream",
          "text": [
            "\n"
          ]
        }
      ],
      "source": [
        "docs_matrix = build_docs_matrix(dataloader_passages_test)"
      ]
    },
    {
      "cell_type": "code",
      "execution_count": 32,
      "metadata": {
        "colab": {
          "base_uri": "https://localhost:8080/"
        },
        "id": "VAv4t6SH_GMu",
        "outputId": "37772cf9-33e4-42e3-bcbd-f8e92baf234c"
      },
      "outputs": [
        {
          "output_type": "stream",
          "name": "stdout",
          "text": [
            "Wed May 10 02:34:35 2023       \n",
            "+-----------------------------------------------------------------------------+\n",
            "| NVIDIA-SMI 525.85.12    Driver Version: 525.85.12    CUDA Version: 12.0     |\n",
            "|-------------------------------+----------------------+----------------------+\n",
            "| GPU  Name        Persistence-M| Bus-Id        Disp.A | Volatile Uncorr. ECC |\n",
            "| Fan  Temp  Perf  Pwr:Usage/Cap|         Memory-Usage | GPU-Util  Compute M. |\n",
            "|                               |                      |               MIG M. |\n",
            "|===============================+======================+======================|\n",
            "|   0  Tesla T4            Off  | 00000000:00:04.0 Off |                    0 |\n",
            "| N/A   34C    P8     8W /  70W |      3MiB / 15360MiB |      0%      Default |\n",
            "|                               |                      |                  N/A |\n",
            "+-------------------------------+----------------------+----------------------+\n",
            "                                                                               \n",
            "+-----------------------------------------------------------------------------+\n",
            "| Processes:                                                                  |\n",
            "|  GPU   GI   CI        PID   Type   Process name                  GPU Memory |\n",
            "|        ID   ID                                                   Usage      |\n",
            "|=============================================================================|\n",
            "|  No running processes found                                                 |\n",
            "+-----------------------------------------------------------------------------+\n"
          ]
        }
      ],
      "source": [
        "!nvidia-smi"
      ]
    },
    {
      "cell_type": "markdown",
      "metadata": {
        "id": "kCABYDthMKQq"
      },
      "source": [
        "### Inverted Index"
      ]
    },
    {
      "cell_type": "code",
      "execution_count": 33,
      "metadata": {
        "id": "VZ-A93emSVZE"
      },
      "outputs": [],
      "source": [
        "import array\n",
        "import pandas as pd\n",
        "from collections import defaultdict\n",
        "from collections import Counter\n",
        "import pickle\n",
        "import os\n",
        "\n",
        "def load_or_build_inverted_index(index_path = f\"{main_dir}/index.pickle\", docs_matrix=None):\n",
        "  if os.path.exists(index_path):\n",
        "    with open(index_path, \"rb\") as f:\n",
        "      print(\"Loading index...\")\n",
        "      index = pickle.load(f)\n",
        "  else:\n",
        "    print(\"Building inverted index...\")\n",
        "    inverted_index = dict()\n",
        "    idx = 0\n",
        "\n",
        "    def process(doc_id, idx):\n",
        "      assert passage_ids[idx] == doc_id\n",
        "      doc_vec = docs_matrix[idx]\n",
        "      doc_vec = doc_vec.coalesce()\n",
        "      indices = doc_vec.indices()[0]\n",
        "      values = doc_vec.values()\n",
        "\n",
        "      for token_id, wj in zip(indices, values):\n",
        "        token_id = token_id.item()\n",
        "        wj = wj.item()\n",
        "        inverted_index.setdefault(\n",
        "            token_id, {\"docs\":array.array(\"L\", []), \n",
        "                       \"wj\":array.array(\"f\", [])})[\"docs\"].append(idx)\n",
        "        inverted_index.setdefault(\n",
        "            token_id, {\"docs\":array.array(\"L\", []), \n",
        "                       \"wj\":array.array(\"f\", [])})[\"wj\"].append(wj)\n",
        "\n",
        "    for i in tqdm(range(docs_matrix.shape[0])):\n",
        "      process(passage_ids[i], i)\n",
        "      \n",
        "    index = {\"inverted_index\": inverted_index}\n",
        "\n",
        "    with open(index_path, \"wb\") as f:\n",
        "      pickle.dump(index, f)\n",
        "\n",
        "  return index"
      ]
    },
    {
      "cell_type": "code",
      "execution_count": 27,
      "metadata": {
        "colab": {
          "base_uri": "https://localhost:8080/"
        },
        "id": "8T0XpRosS4Xq",
        "outputId": "343ab75a-ad6f-48b1-8967-b83b02b65405"
      },
      "outputs": [
        {
          "output_type": "stream",
          "name": "stdout",
          "text": [
            "Loading index...\n",
            "Time spent to build inverted index =  2.5062637329101562\n"
          ]
        }
      ],
      "source": [
        "start = time.time()\n",
        "index = load_or_build_inverted_index()\n",
        "end = time.time()\n",
        "print(\"Time spent to build inverted index = \", end - start)"
      ]
    },
    {
      "cell_type": "code",
      "execution_count": 28,
      "metadata": {
        "id": "x1sNsrTwkWOT"
      },
      "outputs": [],
      "source": [
        "inverted_index = index[\"inverted_index\"]"
      ]
    },
    {
      "cell_type": "code",
      "execution_count": 29,
      "metadata": {
        "colab": {
          "base_uri": "https://localhost:8080/"
        },
        "id": "HxOKvo7vkXzl",
        "outputId": "1412731c-aa67-4ac4-dae9-2e6c08e8128c"
      },
      "outputs": [
        {
          "output_type": "execute_result",
          "data": {
            "text/plain": [
              "26050"
            ]
          },
          "metadata": {},
          "execution_count": 29
        }
      ],
      "source": [
        "len(inverted_index)"
      ]
    },
    {
      "cell_type": "code",
      "execution_count": 34,
      "metadata": {
        "id": "i-eYt0I4Eb7e"
      },
      "outputs": [],
      "source": [
        "def search_by_query_vector_in_inverted_index(inverted_index, query_vec, k, ids=None):\n",
        "  query_vec = query_vec.coalesce()\n",
        "  doc_scores = defaultdict(int) # int (doc_id) -> int (score)\n",
        "  doc_ids = []\n",
        "  indices = query_vec.indices()[0]\n",
        "  values = query_vec.values()\n",
        "\n",
        "  for token_id, wj in zip(indices, values):\n",
        "    token_id = token_id.item()\n",
        "    wj = wj.item()\n",
        "    \n",
        "    if token_id in inverted_index:\n",
        "      doc_ids = inverted_index[token_id][\"docs\"]\n",
        "      wjs = inverted_index[token_id][\"wj\"]\n",
        "\n",
        "      for idx, doc_wj in zip(doc_ids, wjs):\n",
        "        if ids is not None and passage_ids[idx] in ids:\n",
        "          doc_scores[passage_ids[idx]] += wj * doc_wj\n",
        "        elif ids is None:\n",
        "          doc_scores[passage_ids[idx]] += wj * doc_wj\n",
        "        \n",
        "  doc_scores = dict(sorted(doc_scores.items(), key=lambda x:x[1], \n",
        "                           reverse=True)[:k])\n",
        "          \n",
        "  return doc_scores"
      ]
    },
    {
      "cell_type": "code",
      "execution_count": 31,
      "metadata": {
        "id": "v15qnGosVKMZ"
      },
      "outputs": [],
      "source": [
        "k = 1000"
      ]
    },
    {
      "cell_type": "code",
      "execution_count": 33,
      "metadata": {
        "colab": {
          "base_uri": "https://localhost:8080/"
        },
        "id": "l11sMARGTrQn",
        "outputId": "52b238f0-1fab-4463-e4ea-90b6ada0c105"
      },
      "outputs": [
        {
          "output_type": "stream",
          "name": "stdout",
          "text": [
            "Time spent =  56.92146444320679\n",
            "Time spent by query =  1.1384292888641356\n"
          ]
        }
      ],
      "source": [
        "\n",
        "from collections import defaultdict\n",
        "import time\n",
        "\n",
        "run_splade_inv = defaultdict(list)\n",
        "\n",
        "start = time.time()\n",
        "\n",
        "for i, query in zip(query_ids, query_texts):\n",
        "  query_vec = vectorize_to_sparse(query, tokenizer=tokenizer, model=model)\n",
        "  doc_scores = search_by_query_vector_in_inverted_index(inverted_index, query_vec, k)\n",
        "  run_splade_inv[\"query\"] += [i] * k\n",
        "  run_splade_inv[\"docid\"] += doc_scores.keys()\n",
        "  run_splade_inv[\"score\"] += doc_scores.values()\n",
        "  run_splade_inv[\"q0\"] += [\"q0\"] * k\n",
        "  run_splade_inv[\"rank\"] += list(range(1,k+1))\n",
        "  run_splade_inv[\"system\"] += [\"splade\"] * k\n",
        "\n",
        "end = time.time()\n",
        "print(\"Time spent = \", end - start)\n",
        "print(\"Time spent by query = \", (end - start)/len(query_ids))"
      ]
    },
    {
      "cell_type": "code",
      "execution_count": 34,
      "metadata": {
        "colab": {
          "base_uri": "https://localhost:8080/",
          "height": 66,
          "referenced_widgets": [
            "4d439bb49228455e9365865ba004f56a",
            "2e9dbe3ca4d44ceb90821d1f942976d9",
            "4a10d350d5ce40fc8583a489e3697da5",
            "9ae02fcf8e604bd5b0676d300f44e010",
            "ed2bba10f16e44428a7c846e4e4ad71d",
            "4b109436942948bb935dc392ccab1c00",
            "5c2104aec6594a4bb7b90fb18c1fef72",
            "9b62e494b97940c49c5c944030e07133",
            "8efd19c6b2934592bc36c5b8ddfd2cf5",
            "6a95ff1ff81b4af0b08e12a795ab04bf",
            "b33ccd3149e64fb1ac82773b05946ef5"
          ]
        },
        "id": "5suO-f2eTN25",
        "outputId": "26711b17-e1b4-45b7-f288-408efbd72092"
      },
      "outputs": [
        {
          "output_type": "display_data",
          "data": {
            "text/plain": [
              "Downloading builder script:   0%|          | 0.00/5.51k [00:00<?, ?B/s]"
            ],
            "application/vnd.jupyter.widget-view+json": {
              "version_major": 2,
              "version_minor": 0,
              "model_id": "4d439bb49228455e9365865ba004f56a"
            }
          },
          "metadata": {}
        },
        {
          "output_type": "execute_result",
          "data": {
            "text/plain": [
              "0.7268509214947312"
            ]
          },
          "metadata": {},
          "execution_count": 34
        }
      ],
      "source": [
        "eval_ndcg10(run_splade_inv)"
      ]
    },
    {
      "cell_type": "markdown",
      "metadata": {
        "id": "SBxK8SBMBIf6"
      },
      "source": [
        "## 1st Pipeline: Pyserini BM25 + SPLADE Reranking\n"
      ]
    },
    {
      "cell_type": "markdown",
      "metadata": {
        "id": "NCkNJuHYLHWM"
      },
      "source": [
        "Here, in the SAPLDE step, as we already have a filered list with 1000 documents, we use directly the matrix of documents instead of inverted index.  So we assume BM25 has already used an inverted index."
      ]
    },
    {
      "cell_type": "code",
      "execution_count": 35,
      "metadata": {
        "id": "uJN9X4tqhBkL"
      },
      "outputs": [],
      "source": [
        "k=1000"
      ]
    },
    {
      "cell_type": "code",
      "execution_count": null,
      "metadata": {
        "colab": {
          "base_uri": "https://localhost:8080/"
        },
        "id": "WJiCu66GrzCd",
        "outputId": "3ae6d271-7fc7-4abb-fbff-796ee75f867a"
      },
      "outputs": [
        {
          "data": {
            "text/plain": [
              "tensor(indices=tensor([[     0,      0,      0,  ..., 171331, 171331, 171331],\n",
              "                       [  1037,   1041,   1996,  ...,  29514,  29566,  29610]]),\n",
              "       values=tensor([0.4171, 0.0068, 0.1628,  ..., 0.1091, 0.2448, 0.0680]),\n",
              "       device='cuda:0', size=(171332, 30522), nnz=27975739,\n",
              "       layout=torch.sparse_coo)"
            ]
          },
          "execution_count": 48,
          "metadata": {},
          "output_type": "execute_result"
        }
      ],
      "source": [
        "docs_matrix"
      ]
    },
    {
      "cell_type": "code",
      "execution_count": 35,
      "metadata": {
        "id": "TSmuykc6fBAC"
      },
      "outputs": [],
      "source": [
        "import time\n",
        "\n",
        "def search_bm25_splade(query, top_k=1000, \n",
        "                       index_name='beir-v1.0.0-trec-covid.flat'):\n",
        "  #1st step: searches with BM25\n",
        "  bm25_hits = search_with_bm25(query, k=top_k, index_name=index_name)\n",
        " \n",
        "  if index_name == 'beir-v1.0.0-trec-covid.flat':\n",
        "    ids = [json.loads(bm25_hits[i].raw)['_id'] for i in range(len(bm25_hits))]\n",
        "  else:\n",
        "    ids = [json.loads(bm25_hits[i].raw)['id'] for i in range(len(bm25_hits))]\n",
        "  ids = set(ids)\n",
        "\n",
        "  query_embedding = vectorize_to_sparse(query, tokenizer=tokenizer, model=model)\n",
        "  \n",
        "  doc_scores = search_by_query_vector_in_inverted_index(inverted_index, query_embedding, k, \n",
        "                                                        ids=ids)\n",
        "  \n",
        "  return doc_scores"
      ]
    },
    {
      "cell_type": "code",
      "execution_count": 37,
      "metadata": {
        "colab": {
          "base_uri": "https://localhost:8080/"
        },
        "id": "LxEWqFvmMViV",
        "outputId": "591ae3f1-ba40-4d4e-934e-2f5a13685389"
      },
      "outputs": [
        {
          "output_type": "stream",
          "name": "stdout",
          "text": [
            "Downloading index at https://rgw.cs.uwaterloo.ca/pyserini/indexes/lucene-index.beir-v1.0.0-trec-covid.flat.20221116.505594.tar.gz...\n"
          ]
        },
        {
          "output_type": "stream",
          "name": "stderr",
          "text": [
            "lucene-index.beir-v1.0.0-trec-covid.flat.20221116.505594.tar.gz: 216MB [00:43, 5.20MB/s]                           \n"
          ]
        },
        {
          "output_type": "stream",
          "name": "stdout",
          "text": [
            "Time spent =  74.90346908569336\n",
            "Time spent by query =  1.4980693817138673\n"
          ]
        }
      ],
      "source": [
        "from collections import defaultdict\n",
        "\n",
        "run_bm25_splade = defaultdict(list)\n",
        "\n",
        "start = time.time()\n",
        "\n",
        "for i, query in zip(query_ids, query_texts):\n",
        "  doc_scores = search_bm25_splade(query, k)\n",
        "  n = len(doc_scores)\n",
        "  run_bm25_splade[\"query\"] += [i] * n\n",
        "  run_bm25_splade[\"docid\"] += doc_scores.keys()\n",
        "  run_bm25_splade[\"score\"] += doc_scores.values()\n",
        "  run_bm25_splade[\"q0\"] += [\"q0\"] * n\n",
        "  run_bm25_splade[\"rank\"] += list(range(1,n+1))\n",
        "  run_bm25_splade[\"system\"] += [\"bm25_splade\"] * n\n",
        "\n",
        "end = time.time()\n",
        "print(\"Time spent = \", end - start)\n",
        "print(\"Time spent by query = \", (end - start)/len(query_ids))"
      ]
    },
    {
      "cell_type": "code",
      "execution_count": 38,
      "metadata": {
        "colab": {
          "base_uri": "https://localhost:8080/"
        },
        "id": "t_SRs6jkhFmG",
        "outputId": "92535a29-fef6-460e-d4bc-81377ab25312"
      },
      "outputs": [
        {
          "output_type": "execute_result",
          "data": {
            "text/plain": [
              "0.7419530766303556"
            ]
          },
          "metadata": {},
          "execution_count": 38
        }
      ],
      "source": [
        "eval_ndcg10(run_bm25_splade)"
      ]
    },
    {
      "cell_type": "code",
      "execution_count": 39,
      "metadata": {
        "id": "0_57-rQvdrqr",
        "colab": {
          "base_uri": "https://localhost:8080/"
        },
        "outputId": "a7ccbb82-1415-4264-9759-fff003484c16"
      },
      "outputs": [
        {
          "output_type": "stream",
          "name": "stdout",
          "text": [
            "Time spent =  17.9386088848114\n",
            "Time spent by query =  0.35877217769622805\n"
          ]
        }
      ],
      "source": [
        "from collections import defaultdict\n",
        "\n",
        "run_bm25_splade = defaultdict(list)\n",
        "\n",
        "start = time.time()\n",
        "\n",
        "for i, query in zip(query_ids, query_texts):\n",
        "  doc_scores = search_bm25_splade(query, 100)\n",
        "  n = len(doc_scores)\n",
        "  run_bm25_splade[\"query\"] += [i] * n\n",
        "  run_bm25_splade[\"docid\"] += doc_scores.keys()\n",
        "  run_bm25_splade[\"score\"] += doc_scores.values()\n",
        "  run_bm25_splade[\"q0\"] += [\"q0\"] * n\n",
        "  run_bm25_splade[\"rank\"] += list(range(1,n+1))\n",
        "  run_bm25_splade[\"system\"] += [\"bm25_splade\"] * n\n",
        "\n",
        "end = time.time()\n",
        "print(\"Time spent = \", end - start)\n",
        "print(\"Time spent by query = \", (end - start)/len(query_ids))"
      ]
    },
    {
      "cell_type": "code",
      "execution_count": 40,
      "metadata": {
        "colab": {
          "base_uri": "https://localhost:8080/"
        },
        "id": "Jmqh7E9HeL6y",
        "outputId": "bf1a8a4e-6599-45dc-d74d-8683978ab00f"
      },
      "outputs": [
        {
          "output_type": "stream",
          "name": "stderr",
          "text": [
            "/usr/local/lib/python3.10/dist-packages/trectools/trec_eval.py:427: FutureWarning: Not prepending group keys to the result index of transform-like apply. In the future, the group keys will be included in the index, regardless of whether the applied function returns a like-indexed object.\n",
            "To preserve the previous behavior, use\n",
            "\n",
            "\t>>> .groupby(..., group_keys=False)\n",
            "\n",
            "To adopt the future behavior and silence this warning, use \n",
            "\n",
            "\t>>> .groupby(..., group_keys=True)\n",
            "  topX = topX.groupby(\"query\").apply(lambda x: x.head(n_relevant_docs.loc[x.name])).reset_index(drop=True)\n"
          ]
        },
        {
          "output_type": "execute_result",
          "data": {
            "text/plain": [
              "0.7402097200290509"
            ]
          },
          "metadata": {},
          "execution_count": 40
        }
      ],
      "source": [
        "eval_ndcg10(run_bm25_splade)"
      ]
    },
    {
      "cell_type": "markdown",
      "metadata": {
        "id": "JsUFtKYgWQeS"
      },
      "source": [
        "## 2th Pipeline: Doc2Query + Pyserini BM25 + SPLADE Reranking"
      ]
    },
    {
      "cell_type": "code",
      "execution_count": 36,
      "metadata": {
        "id": "S53iwgF8s4cB"
      },
      "outputs": [],
      "source": [
        "json_path = '/content/gdrive/MyDrive/Unicamp-aula-6/collections/trec_covid_doc2query-adafactor-bs-32-split-1000-bf16-early-stoping_5_queries_expand_title'"
      ]
    },
    {
      "cell_type": "code",
      "execution_count": 37,
      "metadata": {
        "id": "DtGokc5qk6Uu"
      },
      "outputs": [],
      "source": [
        "index_path = '/content/gdrive/MyDrive/Unicamp-aula-6/expanded_trec_covid_5_queries_expand_title'"
      ]
    },
    {
      "cell_type": "code",
      "execution_count": 38,
      "metadata": {
        "id": "Sqde4lALs8Qy"
      },
      "outputs": [],
      "source": [
        "import jsonlines\n",
        "import os\n",
        "\n",
        "passage_ids = []\n",
        "passage_texts = []\n",
        "id_to_text = dict()\n",
        "\n",
        "for filename in os.listdir(json_path):\n",
        "  if filename.endswith('.json'):  # Check if the file ends with '.json'\n",
        "    with jsonlines.open(json_path + '/' + filename) as reader:\n",
        "      for item in reader:\n",
        "        id = item[\"id\"]\n",
        "        passage_ids.append(id)\n",
        "        text = item[\"contents\"]\n",
        "        passage_texts.append(text)\n",
        "        id_to_text[id] = text\n",
        "\n",
        "#Sorts the passages by length\n",
        "passage_indices = sorted(range(len(passage_texts)), \n",
        "                         key=lambda k: len(passage_texts[k]))\n",
        "passage_texts = sorted(passage_texts, key=lambda k: len(k))\n",
        "passage_ids = sorted(passage_ids, key=lambda k: len(id_to_text[k]))"
      ]
    },
    {
      "cell_type": "code",
      "execution_count": null,
      "metadata": {
        "colab": {
          "base_uri": "https://localhost:8080/"
        },
        "id": "yyAAArq2tyqO",
        "outputId": "f6680590-1053-4f2d-9922-8936f041e45e"
      },
      "outputs": [
        {
          "name": "stdout",
          "output_type": "stream",
          "text": [
            "Time spent on tokenization =  48.85031294822693\n"
          ]
        }
      ],
      "source": [
        "import time\n",
        "\n",
        "start = time.time()\n",
        "test_passages_tokenized = tokenizer(passage_texts, max_length=max_length, \n",
        "                                   truncation=True, padding=True, \n",
        "                                   return_special_tokens_mask=True)\n",
        "dataset_passages_test = Dataset(test_passages_tokenized)\n",
        "dataloader_passages_test = data.DataLoader(dataset_passages_test, \n",
        "                                          batch_size=batch_size, shuffle=False, \n",
        "                                          collate_fn=collate_fn)\n",
        "end = time.time()\n",
        "print(\"Time spent on tokenization = \", end - start)"
      ]
    },
    {
      "cell_type": "code",
      "execution_count": null,
      "metadata": {
        "colab": {
          "base_uri": "https://localhost:8080/"
        },
        "id": "1XgoHozn5XNx",
        "outputId": "8c01438e-b60c-4c3d-a585-6d3c96bb0251"
      },
      "outputs": [
        {
          "data": {
            "text/plain": [
              "171332"
            ]
          },
          "execution_count": 66,
          "metadata": {},
          "output_type": "execute_result"
        }
      ],
      "source": [
        "len(dataset_passages_test)"
      ]
    },
    {
      "cell_type": "code",
      "execution_count": null,
      "metadata": {
        "colab": {
          "base_uri": "https://localhost:8080/"
        },
        "id": "Y-LHT7suuehO",
        "outputId": "204212ce-1729-4637-c15f-e8c2b816b365"
      },
      "outputs": [
        {
          "name": "stderr",
          "output_type": "stream",
          "text": [
            "Test: 100%|██████████| 5355/5355 [38:34<00:00,  2.31it/s]"
          ]
        },
        {
          "name": "stdout",
          "output_type": "stream",
          "text": [
            "Time spent on matrix building =  2314.153545856476\n"
          ]
        },
        {
          "name": "stderr",
          "output_type": "stream",
          "text": [
            "\n"
          ]
        }
      ],
      "source": [
        "docs_matrix = build_docs_matrix(dataloader_passages_test)"
      ]
    },
    {
      "cell_type": "code",
      "execution_count": null,
      "metadata": {
        "colab": {
          "base_uri": "https://localhost:8080/"
        },
        "id": "S3U35zHd41RC",
        "outputId": "6bd702bc-6ae7-43b4-8cb8-b4e727a57e2f"
      },
      "outputs": [
        {
          "data": {
            "text/plain": [
              "torch.Size([171332, 30522])"
            ]
          },
          "execution_count": 68,
          "metadata": {},
          "output_type": "execute_result"
        }
      ],
      "source": [
        "docs_matrix.shape"
      ]
    },
    {
      "cell_type": "code",
      "execution_count": 39,
      "metadata": {
        "colab": {
          "base_uri": "https://localhost:8080/"
        },
        "id": "yrWdouIzoI_t",
        "outputId": "1b22df2e-3949-4be3-a97c-2a49ea6e105f"
      },
      "outputs": [
        {
          "output_type": "stream",
          "name": "stdout",
          "text": [
            "Loading index...\n",
            "Time spent to build inverted index =  3.2294604778289795\n"
          ]
        }
      ],
      "source": [
        "start = time.time()\n",
        "#index = load_or_build_inverted_index(index_path=f\"{main_dir}/index_doc2_query\", docs_matrix=docs_matrix)\n",
        "index_doc2query = load_or_build_inverted_index(index_path=f\"{main_dir}/index_doc2_query\")\n",
        "#index = load_or_build_inverted_index(index_path=f\"{main_dir}/index.pickle\")\n",
        "end = time.time()\n",
        "print(\"Time spent to build inverted index = \", end - start)"
      ]
    },
    {
      "cell_type": "code",
      "execution_count": 40,
      "metadata": {
        "id": "y1FsGzIwtr5b"
      },
      "outputs": [],
      "source": [
        "inverted_index_doc2query = index_doc2query[\"inverted_index\"]"
      ]
    },
    {
      "cell_type": "code",
      "execution_count": 47,
      "metadata": {
        "id": "3wqVVlk-YM5m"
      },
      "outputs": [],
      "source": [
        "import time\n",
        "\n",
        "def search_doc2query_bm25_splade(query, index_name, top_k=1000):\n",
        "  #1st step: searches with BM25\n",
        "  bm25_hits = search_with_bm25(query, k=top_k, index_name=index_name)\n",
        " \n",
        "  ids = [json.loads(bm25_hits[i].raw)['id'] for i in range(len(bm25_hits))]\n",
        "  ids = set(ids)\n",
        "\n",
        "  query_embedding = vectorize_to_sparse(query, tokenizer=tokenizer, model=model)\n",
        "  doc_scores = search_by_query_vector_in_inverted_index(inverted_index_doc2query, query_embedding, k, \n",
        "                                                        ids=ids)\n",
        "  return doc_scores"
      ]
    },
    {
      "cell_type": "code",
      "execution_count": 47,
      "metadata": {
        "id": "-aoXsW8Ys-ei"
      },
      "outputs": [],
      "source": [
        "k=1000"
      ]
    },
    {
      "cell_type": "code",
      "execution_count": 48,
      "metadata": {
        "colab": {
          "base_uri": "https://localhost:8080/"
        },
        "id": "wYoUSP9kkeIB",
        "outputId": "faef4a09-7c04-4469-ee4f-60df2a685217"
      },
      "outputs": [
        {
          "output_type": "stream",
          "name": "stdout",
          "text": [
            "Time spent =  46.82212018966675\n",
            "Time spent by query =  0.936442403793335\n"
          ]
        }
      ],
      "source": [
        "from collections import defaultdict\n",
        "\n",
        "run_doc2query_bm25_splade = defaultdict(list)\n",
        "\n",
        "start = time.time()\n",
        "\n",
        "for i, query in zip(query_ids, query_texts):\n",
        "  doc_scores = search_doc2query_bm25_splade(query, index_path, k)\n",
        "  n = len(doc_scores)\n",
        "  run_doc2query_bm25_splade[\"query\"] += [i] * n\n",
        "  run_doc2query_bm25_splade[\"docid\"] += doc_scores.keys()\n",
        "  run_doc2query_bm25_splade[\"score\"] += doc_scores.values()\n",
        "  run_doc2query_bm25_splade[\"q0\"] += [\"q0\"] * n\n",
        "  run_doc2query_bm25_splade[\"rank\"] += list(range(1,n+1))\n",
        "  run_doc2query_bm25_splade[\"system\"] += [\"doc2query_bm25_splade\"] * n\n",
        "\n",
        "end = time.time()\n",
        "print(\"Time spent = \", end - start)\n",
        "print(\"Time spent by query = \", (end - start)/len(query_ids))"
      ]
    },
    {
      "cell_type": "code",
      "execution_count": 49,
      "metadata": {
        "colab": {
          "base_uri": "https://localhost:8080/"
        },
        "id": "ch4PRDb_laWH",
        "outputId": "bce69e43-afae-4df4-d0d1-d755e445cf30"
      },
      "outputs": [
        {
          "output_type": "execute_result",
          "data": {
            "text/plain": [
              "0.7415191609765179"
            ]
          },
          "metadata": {},
          "execution_count": 49
        }
      ],
      "source": [
        "eval_ndcg10(run_doc2query_bm25_splade)"
      ]
    },
    {
      "cell_type": "code",
      "execution_count": 43,
      "metadata": {
        "colab": {
          "base_uri": "https://localhost:8080/"
        },
        "id": "wsTqxjZ_ewmh",
        "outputId": "63086ef5-ad5d-4779-aff6-faca72eb216d"
      },
      "outputs": [
        {
          "output_type": "stream",
          "name": "stdout",
          "text": [
            "Time spent =  47.638882637023926\n",
            "Time spent by query =  0.9527776527404785\n"
          ]
        }
      ],
      "source": [
        "from collections import defaultdict\n",
        "\n",
        "run_doc2query_bm25_splade = defaultdict(list)\n",
        "\n",
        "start = time.time()\n",
        "k=100\n",
        "\n",
        "for i, query in zip(query_ids, query_texts):\n",
        "  doc_scores = search_doc2query_bm25_splade(query, index_path, 100)\n",
        "  n = len(doc_scores)\n",
        "  run_doc2query_bm25_splade[\"query\"] += [i] * n\n",
        "  run_doc2query_bm25_splade[\"docid\"] += doc_scores.keys()\n",
        "  run_doc2query_bm25_splade[\"score\"] += doc_scores.values()\n",
        "  run_doc2query_bm25_splade[\"q0\"] += [\"q0\"] * n\n",
        "  run_doc2query_bm25_splade[\"rank\"] += list(range(1,n+1))\n",
        "  run_doc2query_bm25_splade[\"system\"] += [\"doc2query_bm25_splade\"] * n\n",
        "\n",
        "end = time.time()\n",
        "print(\"Time spent = \", end - start)\n",
        "print(\"Time spent by query = \", (end - start)/len(query_ids))"
      ]
    },
    {
      "cell_type": "code",
      "execution_count": 44,
      "metadata": {
        "colab": {
          "base_uri": "https://localhost:8080/"
        },
        "id": "F-bcOt0_e0mS",
        "outputId": "bb7b32e0-58a8-4cdf-9aff-fc392346cb74"
      },
      "outputs": [
        {
          "output_type": "stream",
          "name": "stderr",
          "text": [
            "/usr/local/lib/python3.10/dist-packages/trectools/trec_eval.py:427: FutureWarning: Not prepending group keys to the result index of transform-like apply. In the future, the group keys will be included in the index, regardless of whether the applied function returns a like-indexed object.\n",
            "To preserve the previous behavior, use\n",
            "\n",
            "\t>>> .groupby(..., group_keys=False)\n",
            "\n",
            "To adopt the future behavior and silence this warning, use \n",
            "\n",
            "\t>>> .groupby(..., group_keys=True)\n",
            "  topX = topX.groupby(\"query\").apply(lambda x: x.head(n_relevant_docs.loc[x.name])).reset_index(drop=True)\n"
          ]
        },
        {
          "output_type": "execute_result",
          "data": {
            "text/plain": [
              "0.74427511763663"
            ]
          },
          "metadata": {},
          "execution_count": 44
        }
      ],
      "source": [
        "eval_ndcg10(run_doc2query_bm25_splade)"
      ]
    },
    {
      "cell_type": "markdown",
      "metadata": {
        "id": "MVM9BCfYgFyR"
      },
      "source": [
        "## 3rd Pipeline: Doc2Query + Splade Reranking"
      ]
    },
    {
      "cell_type": "code",
      "source": [
        "k= 1000"
      ],
      "metadata": {
        "id": "KfWnN7Ns0r1E"
      },
      "execution_count": 31,
      "outputs": []
    },
    {
      "cell_type": "code",
      "execution_count": 32,
      "metadata": {
        "id": "RekbUmmBWXVW",
        "colab": {
          "base_uri": "https://localhost:8080/"
        },
        "outputId": "81958358-a90e-4111-e311-88178a90f9f9"
      },
      "outputs": [
        {
          "output_type": "stream",
          "name": "stdout",
          "text": [
            "Time spent =  53.48973894119263\n",
            "Time spent by query =  1.0697947788238524\n"
          ]
        }
      ],
      "source": [
        "from collections import defaultdict\n",
        "import time\n",
        "\n",
        "run_doc2query_splade = defaultdict(list)\n",
        "\n",
        "start = time.time()\n",
        "\n",
        "for i, query in zip(query_ids, query_texts):\n",
        "  query_vec = vectorize_to_sparse(query, tokenizer=tokenizer, model=model)\n",
        "  doc_scores = search_by_query_vector_in_inverted_index(inverted_index_doc2query, query_vec, k)\n",
        "  run_doc2query_splade[\"query\"] += [i] * k\n",
        "  run_doc2query_splade[\"docid\"] += doc_scores.keys()\n",
        "  run_doc2query_splade[\"score\"] += doc_scores.values()\n",
        "  run_doc2query_splade[\"q0\"] += [\"q0\"] * k\n",
        "  run_doc2query_splade[\"rank\"] += list(range(1,k+1))\n",
        "  run_doc2query_splade[\"system\"] += [\"doc2query_splade\"] * k\n",
        "\n",
        "end = time.time()\n",
        "print(\"Time spent = \", end - start)\n",
        "print(\"Time spent by query = \", (end - start)/len(query_ids))"
      ]
    },
    {
      "cell_type": "code",
      "execution_count": 33,
      "metadata": {
        "id": "eDu3cX2_sTG9",
        "colab": {
          "base_uri": "https://localhost:8080/",
          "height": 66,
          "referenced_widgets": [
            "d4ce6a29acdd48568ebc9725ebfce2cf",
            "8a69bc30d6c246c3acd257bbc9536404",
            "597ca8a072224455a595a87aa2287643",
            "bad4448665564cf1a154fb4aa0db39fb",
            "b64a6207689945f1a7929ac7c345bd3c",
            "f1fb84f6838c4e84b11fa307518b967c",
            "260e867e52f04d57952375b8bda35f13",
            "b58e14a1f36f47cb847dd8e724e7a6ee",
            "cbb2ed2518344e3d9b832ac119f2b288",
            "bd340ef597e14da39814e6256c6d8371",
            "b7134a96d4d3470da11d5cdbae2dc362"
          ]
        },
        "outputId": "aaf9354f-4c1c-40a6-9480-b1db3cb42386"
      },
      "outputs": [
        {
          "output_type": "display_data",
          "data": {
            "text/plain": [
              "Downloading builder script:   0%|          | 0.00/5.51k [00:00<?, ?B/s]"
            ],
            "application/vnd.jupyter.widget-view+json": {
              "version_major": 2,
              "version_minor": 0,
              "model_id": "d4ce6a29acdd48568ebc9725ebfce2cf"
            }
          },
          "metadata": {}
        },
        {
          "output_type": "execute_result",
          "data": {
            "text/plain": [
              "0.7319556389528087"
            ]
          },
          "metadata": {},
          "execution_count": 33
        }
      ],
      "source": [
        "eval_ndcg10(run_doc2query_splade)"
      ]
    },
    {
      "cell_type": "markdown",
      "source": [
        "## 6th Pipeline: Doc2Query + Pyserini BM25 + SPLADE Reranking + InPars Reranking"
      ],
      "metadata": {
        "id": "I_93yTDrZ-_C"
      }
    },
    {
      "cell_type": "code",
      "source": [
        "from transformers import AutoTokenizer, AutoModelForSequenceClassification\n",
        "from torch.utils import data\n",
        "from transformers import BatchEncoding"
      ],
      "metadata": {
        "id": "pIkYNQx4bPqN"
      },
      "execution_count": 45,
      "outputs": []
    },
    {
      "cell_type": "code",
      "source": [
        "class MSMARCODataset(data.Dataset):\n",
        "    def __init__(self, tokenizer, query, passages, targets, max_lenght=356, \n",
        "                 return_token_type_ids=False):\n",
        "        self.tokenizer = tokenizer\n",
        "        self.query = query\n",
        "        self.passages = passages\n",
        "        self.targets = targets\n",
        "        self.max_lenght = max_lenght\n",
        "        self.return_token_type_ids = return_token_type_ids\n",
        "    \n",
        "    def __len__(self):\n",
        "        return len(self.query)\n",
        "\n",
        "    def __getitem__(self, idx):\n",
        "        instruction_token = self.tokenizer(self.query[idx],self.passages[idx],\n",
        "                                           max_length=self.max_lenght, \n",
        "                                           truncation=True,\n",
        "                                           padding=\"max_length\", \n",
        "                                           return_tensors='pt',\n",
        "                                           return_token_type_ids=self.return_token_type_ids)  \n",
        "\n",
        "        #token_type_ids\n",
        "        if self.return_token_type_ids:\n",
        "          return {'input_ids':torch.squeeze(instruction_token['input_ids']).long().to(device),\\\n",
        "                  'token_type_ids': torch.squeeze(instruction_token['token_type_ids']).long().to(device),\\\n",
        "                  'attention_mask':torch.squeeze(instruction_token['attention_mask']).long().to(device), \\\n",
        "                  'labels':torch.tensor(self.targets[idx], dtype=torch.float16)}\n",
        "        else:\n",
        "          return {'input_ids':torch.squeeze(instruction_token['input_ids']).long().to(device),\\\n",
        "                  'attention_mask':torch.squeeze(instruction_token['attention_mask']).long().to(device), \\\n",
        "                  'labels':torch.tensor(self.targets[idx], dtype=torch.float16)}\n",
        "              \n",
        "def collate_fn(batch):\n",
        "    return BatchEncoding(tokenizer.pad(batch, return_tensors='pt'))\n",
        "    "
      ],
      "metadata": {
        "id": "SGmWd88s1OBN"
      },
      "execution_count": 50,
      "outputs": []
    },
    {
      "cell_type": "code",
      "source": [
        "models_path = \"/content/gdrive/MyDrive/Unicamp-aula-9\"\n",
        "model_inpars =  AutoModelForSequenceClassification.from_pretrained(f'{models_path}/best_checkpoint-cross-encoder').to(device)"
      ],
      "metadata": {
        "id": "aua0buMUio3U"
      },
      "execution_count": 48,
      "outputs": []
    },
    {
      "cell_type": "code",
      "source": [
        "inpars_tokenizer = AutoTokenizer.from_pretrained(\"cross-encoder/ms-marco-MiniLM-L-6-v2\")"
      ],
      "metadata": {
        "colab": {
          "base_uri": "https://localhost:8080/",
          "height": 145,
          "referenced_widgets": [
            "69fcaab2a29949c5abaafc1e74a9b1ee",
            "4fdb5fe5fb304daca812494451243200",
            "1610eb853a024683b66f5df5abca42a2",
            "16a625ad222c4eb582f7e5e2cf58e084",
            "91e0b16685db4979b31167419973e7bb",
            "787d0bd17cb94436a806a22515b5006a",
            "e2d2494572d24f268013dc5287f96a4e",
            "d99b1e35466c43899bb2a7a0de1c2943",
            "102f6b148dbb494eb2ca4946546275d8",
            "d585e82b383c4c44bd0f80fa8a1fed0c",
            "3760140790044d5aade22d2eae1d8751",
            "e6f8ca6f005f45528eaf1988fa984648",
            "92b85f90f785494da5fab036f07b9529",
            "a04705791b094077b85400f699591482",
            "4e0e08b9012f471e858da2a7af6eddde",
            "d682667af83b4f84964a00b00c51aa1c",
            "7482c4a0a87c40af98eb3ede1299489f",
            "affd98b6786d4d45a168ac0f0da0d1c3",
            "a0403abc57b04ec8a29bbf531648af66",
            "5276738679074e87b072a77be4bbedcb",
            "f0cf683d0a6e4ad6a85fcd079d696111",
            "7052c520ad874292bac4d4daa10af7a4",
            "258ca6ad718b4c4696aef03900c82130",
            "aae7513d5d294071b4ddf286c0b8e913",
            "197de748aa25420a8f7046b7b7e47b58",
            "5843a7e6ea624fca94919c2298e4c43b",
            "d97f0d6adfef462eb4320ac4e70a51ce",
            "827f2a59fa3d4208a36786eb596772f2",
            "2acbcedaf1fa4ced8dc8df6e335b7935",
            "7b3d2b156a2044dda91d6ae18fcfb103",
            "93928c4388e84aa395ff4b7b1b34e08a",
            "4b3980ccbebc4dbfa5afcb045abd444e",
            "ca781963eeb443b4becfa64315521178",
            "8d33fc40c82f449481bd8497e4195ddc",
            "531fe982c94446abb42c314b62fc0794",
            "c78b07c0e2ad4ec98f2545d73d015a26",
            "26a93e9f8dea491184c0715843975b60",
            "d64ff62c15854d3ba590aff174927764",
            "0aea60dc58fa4f469ffd2812accb3128",
            "ab69fc7a63974f2bb5485a139ef5a664",
            "7bccecfa5f4a4cc1b6ce5238ecc0cc6e",
            "68721a30df6c4367a460b233fecc50c6",
            "ff417e498b9f4f80b2bdf67aec430596",
            "09eba83b3f9c4f6091aff98c73aff1c9"
          ]
        },
        "id": "Y50cwE9ynG2S",
        "outputId": "3bb52063-5847-4cba-bcb3-9e83797187ef"
      },
      "execution_count": 49,
      "outputs": [
        {
          "output_type": "display_data",
          "data": {
            "text/plain": [
              "Downloading (…)okenizer_config.json:   0%|          | 0.00/316 [00:00<?, ?B/s]"
            ],
            "application/vnd.jupyter.widget-view+json": {
              "version_major": 2,
              "version_minor": 0,
              "model_id": "69fcaab2a29949c5abaafc1e74a9b1ee"
            }
          },
          "metadata": {}
        },
        {
          "output_type": "display_data",
          "data": {
            "text/plain": [
              "Downloading (…)lve/main/config.json:   0%|          | 0.00/794 [00:00<?, ?B/s]"
            ],
            "application/vnd.jupyter.widget-view+json": {
              "version_major": 2,
              "version_minor": 0,
              "model_id": "e6f8ca6f005f45528eaf1988fa984648"
            }
          },
          "metadata": {}
        },
        {
          "output_type": "display_data",
          "data": {
            "text/plain": [
              "Downloading (…)solve/main/vocab.txt:   0%|          | 0.00/232k [00:00<?, ?B/s]"
            ],
            "application/vnd.jupyter.widget-view+json": {
              "version_major": 2,
              "version_minor": 0,
              "model_id": "258ca6ad718b4c4696aef03900c82130"
            }
          },
          "metadata": {}
        },
        {
          "output_type": "display_data",
          "data": {
            "text/plain": [
              "Downloading (…)cial_tokens_map.json:   0%|          | 0.00/112 [00:00<?, ?B/s]"
            ],
            "application/vnd.jupyter.widget-view+json": {
              "version_major": 2,
              "version_minor": 0,
              "model_id": "8d33fc40c82f449481bd8497e4195ddc"
            }
          },
          "metadata": {}
        }
      ]
    },
    {
      "cell_type": "code",
      "source": [
        "def evaluate_test_dataset(model, dataloader, set_name):\n",
        "  scores = []\n",
        "  model.eval()\n",
        "  with torch.no_grad():\n",
        "    for batch in dataloader:\n",
        "      outputs = model(**batch.to(device))\n",
        "      # Usa os logits brutos\n",
        "      pos_score = outputs.logits[:,0]\n",
        "      scores = scores + pos_score.tolist()\n",
        "  return scores"
      ],
      "metadata": {
        "id": "ikqUhM9wqvFG"
      },
      "execution_count": 57,
      "outputs": []
    },
    {
      "cell_type": "code",
      "source": [
        "import time\n",
        "\n",
        "def search_doc2query_bm25_splade_inpars(query, index_name, top_k=1000):\n",
        "  #1st step: searches with BM25\n",
        "  bm25_hits = search_with_bm25(query, k=top_k, index_name=index_name)\n",
        " \n",
        "  ids = [json.loads(bm25_hits[i].raw)['id'] for i in range(len(bm25_hits))]\n",
        "  ids = set(ids)\n",
        "\n",
        "  query_embedding = vectorize_to_sparse(query, tokenizer=tokenizer, model=model)\n",
        "  doc_scores = search_by_query_vector_in_inverted_index(inverted_index_doc2query, query_embedding, k, \n",
        "                                                        ids=ids)\n",
        "  \n",
        "  #Last step: InPars reranking\n",
        "  queries = [query]*100\n",
        "  passages = [id_to_text[k] for k, v in doc_scores.items()]\n",
        "  dataset_test = MSMARCODataset(inpars_tokenizer, queries, passages[:100], [1]*len(queries), return_token_type_ids=True)\n",
        "  dataloader_test = data.DataLoader(dataset_test, batch_size=32, shuffle=False, collate_fn=collate_fn)\n",
        "  scores = evaluate_test_dataset(model_inpars, dataloader_test, \"InPars\")\n",
        "  \n",
        "  new_doc_scores = dict()\n",
        "  for i, doc_id in enumerate(list(doc_scores.keys())[:100]):\n",
        "    new_doc_scores[doc_id] = scores[i]\n",
        "  \n",
        "  new_doc_scores = dict(sorted(new_doc_scores.items(), key=lambda x: x[1], reverse=True))\n",
        "\n",
        "  return new_doc_scores"
      ],
      "metadata": {
        "id": "Too0C6Saas98"
      },
      "execution_count": 72,
      "outputs": []
    },
    {
      "cell_type": "code",
      "source": [
        "from collections import defaultdict\n",
        "\n",
        "run_doc2query_bm25_splade_inpars = defaultdict(list)\n",
        "\n",
        "start = time.time()\n",
        "k=1000\n",
        "\n",
        "for i, query in tqdm(zip(query_ids, query_texts)):\n",
        "  doc_scores = search_doc2query_bm25_splade_inpars(query, index_path, k)\n",
        "  n = len(doc_scores)\n",
        "  run_doc2query_bm25_splade_inpars[\"query\"] += [i] * n\n",
        "  run_doc2query_bm25_splade_inpars[\"docid\"] += doc_scores.keys()\n",
        "  run_doc2query_bm25_splade_inpars[\"score\"] += doc_scores.values()\n",
        "  run_doc2query_bm25_splade_inpars[\"q0\"] += [\"q0\"] * n\n",
        "  run_doc2query_bm25_splade_inpars[\"rank\"] += list(range(1,n+1))\n",
        "  run_doc2query_bm25_splade_inpars[\"system\"] += [\"doc2query_bm25_splade_inpars\"] * n\n",
        "\n",
        "end = time.time()\n",
        "print(\"Time spent = \", end - start)\n",
        "print(\"Time spent by query = \", (end - start)/len(query_ids))"
      ],
      "metadata": {
        "colab": {
          "base_uri": "https://localhost:8080/"
        },
        "id": "vXVQas2Xtw6U",
        "outputId": "d602c635-4297-4f8f-d5bf-e39449342bf9"
      },
      "execution_count": 73,
      "outputs": [
        {
          "output_type": "stream",
          "name": "stderr",
          "text": [
            "50it [01:30,  1.82s/it]"
          ]
        },
        {
          "output_type": "stream",
          "name": "stdout",
          "text": [
            "Time spent =  91.05426335334778\n",
            "Time spent by query =  1.8210852670669555\n"
          ]
        },
        {
          "output_type": "stream",
          "name": "stderr",
          "text": [
            "\n"
          ]
        }
      ]
    },
    {
      "cell_type": "code",
      "source": [
        "eval_ndcg10(run_doc2query_bm25_splade_inpars)"
      ],
      "metadata": {
        "colab": {
          "base_uri": "https://localhost:8080/"
        },
        "id": "e-R9FE-lvW38",
        "outputId": "bf132ce2-55c8-4f0f-d4a4-6a7c6351f635"
      },
      "execution_count": 74,
      "outputs": [
        {
          "output_type": "stream",
          "name": "stderr",
          "text": [
            "/usr/local/lib/python3.10/dist-packages/trectools/trec_eval.py:427: FutureWarning: Not prepending group keys to the result index of transform-like apply. In the future, the group keys will be included in the index, regardless of whether the applied function returns a like-indexed object.\n",
            "To preserve the previous behavior, use\n",
            "\n",
            "\t>>> .groupby(..., group_keys=False)\n",
            "\n",
            "To adopt the future behavior and silence this warning, use \n",
            "\n",
            "\t>>> .groupby(..., group_keys=True)\n",
            "  topX = topX.groupby(\"query\").apply(lambda x: x.head(n_relevant_docs.loc[x.name])).reset_index(drop=True)\n"
          ]
        },
        {
          "output_type": "execute_result",
          "data": {
            "text/plain": [
              "0.6768476329057078"
            ]
          },
          "metadata": {},
          "execution_count": 74
        }
      ]
    },
    {
      "cell_type": "code",
      "source": [
        "#model_name = \"cross-encoder/ms-marco-MiniLM-L-6-v2\"\n",
        "#tokenizer = AutoTokenizer.from_pretrained(model_name)\n",
        "#dataset_test = MSMARCODataset(tokenizer, queries, passages, [1]*len(queries), return_token_type_ids=True)\n",
        "#dataloader_test = data.DataLoader(dataset_test, batch_size=32, shuffle=False, collate_fn=collate_fn)"
      ],
      "metadata": {
        "id": "CuolnXdkinzl"
      },
      "execution_count": null,
      "outputs": []
    }
  ],
  "metadata": {
    "accelerator": "GPU",
    "colab": {
      "collapsed_sections": [
        "Hfzi7hH2pkKY",
        "DXnckUxf4-wL"
      ],
      "machine_shape": "hm",
      "provenance": []
    },
    "gpuClass": "standard",
    "kernelspec": {
      "display_name": "Python 3",
      "name": "python3"
    },
    "language_info": {
      "name": "python"
    },
    "widgets": {
      "application/vnd.jupyter.widget-state+json": {
        "7f6aaf3392164c519b7b52faf2fb8398": {
          "model_module": "@jupyter-widgets/controls",
          "model_name": "HBoxModel",
          "model_module_version": "1.5.0",
          "state": {
            "_dom_classes": [],
            "_model_module": "@jupyter-widgets/controls",
            "_model_module_version": "1.5.0",
            "_model_name": "HBoxModel",
            "_view_count": null,
            "_view_module": "@jupyter-widgets/controls",
            "_view_module_version": "1.5.0",
            "_view_name": "HBoxView",
            "box_style": "",
            "children": [
              "IPY_MODEL_34798ef700c54ec9b21a5cf747a94862",
              "IPY_MODEL_bf60a81658914828aaead2ab6715e068",
              "IPY_MODEL_441c4d91fa954a1798beb9cec990c05b"
            ],
            "layout": "IPY_MODEL_b12788f3ce3f4435873dd5932dddaee8"
          }
        },
        "34798ef700c54ec9b21a5cf747a94862": {
          "model_module": "@jupyter-widgets/controls",
          "model_name": "HTMLModel",
          "model_module_version": "1.5.0",
          "state": {
            "_dom_classes": [],
            "_model_module": "@jupyter-widgets/controls",
            "_model_module_version": "1.5.0",
            "_model_name": "HTMLModel",
            "_view_count": null,
            "_view_module": "@jupyter-widgets/controls",
            "_view_module_version": "1.5.0",
            "_view_name": "HTMLView",
            "description": "",
            "description_tooltip": null,
            "layout": "IPY_MODEL_5525f6f5581d4ec9ae0b3109b23ff3ca",
            "placeholder": "​",
            "style": "IPY_MODEL_afa3bd3e95b8442e922922563e4ce26d",
            "value": "Downloading builder script: 100%"
          }
        },
        "bf60a81658914828aaead2ab6715e068": {
          "model_module": "@jupyter-widgets/controls",
          "model_name": "FloatProgressModel",
          "model_module_version": "1.5.0",
          "state": {
            "_dom_classes": [],
            "_model_module": "@jupyter-widgets/controls",
            "_model_module_version": "1.5.0",
            "_model_name": "FloatProgressModel",
            "_view_count": null,
            "_view_module": "@jupyter-widgets/controls",
            "_view_module_version": "1.5.0",
            "_view_name": "ProgressView",
            "bar_style": "success",
            "description": "",
            "description_tooltip": null,
            "layout": "IPY_MODEL_e7669dbe41d2470faaf68c60041b58b5",
            "max": 5514,
            "min": 0,
            "orientation": "horizontal",
            "style": "IPY_MODEL_9304002e8a3f426e839e0a65cc57ec69",
            "value": 5514
          }
        },
        "441c4d91fa954a1798beb9cec990c05b": {
          "model_module": "@jupyter-widgets/controls",
          "model_name": "HTMLModel",
          "model_module_version": "1.5.0",
          "state": {
            "_dom_classes": [],
            "_model_module": "@jupyter-widgets/controls",
            "_model_module_version": "1.5.0",
            "_model_name": "HTMLModel",
            "_view_count": null,
            "_view_module": "@jupyter-widgets/controls",
            "_view_module_version": "1.5.0",
            "_view_name": "HTMLView",
            "description": "",
            "description_tooltip": null,
            "layout": "IPY_MODEL_5f45679aa8d34dd19fd68c78eb41d2de",
            "placeholder": "​",
            "style": "IPY_MODEL_0f563670a0904d78b3f845532b9f4187",
            "value": " 5.51k/5.51k [00:00&lt;00:00, 259kB/s]"
          }
        },
        "b12788f3ce3f4435873dd5932dddaee8": {
          "model_module": "@jupyter-widgets/base",
          "model_name": "LayoutModel",
          "model_module_version": "1.2.0",
          "state": {
            "_model_module": "@jupyter-widgets/base",
            "_model_module_version": "1.2.0",
            "_model_name": "LayoutModel",
            "_view_count": null,
            "_view_module": "@jupyter-widgets/base",
            "_view_module_version": "1.2.0",
            "_view_name": "LayoutView",
            "align_content": null,
            "align_items": null,
            "align_self": null,
            "border": null,
            "bottom": null,
            "display": null,
            "flex": null,
            "flex_flow": null,
            "grid_area": null,
            "grid_auto_columns": null,
            "grid_auto_flow": null,
            "grid_auto_rows": null,
            "grid_column": null,
            "grid_gap": null,
            "grid_row": null,
            "grid_template_areas": null,
            "grid_template_columns": null,
            "grid_template_rows": null,
            "height": null,
            "justify_content": null,
            "justify_items": null,
            "left": null,
            "margin": null,
            "max_height": null,
            "max_width": null,
            "min_height": null,
            "min_width": null,
            "object_fit": null,
            "object_position": null,
            "order": null,
            "overflow": null,
            "overflow_x": null,
            "overflow_y": null,
            "padding": null,
            "right": null,
            "top": null,
            "visibility": null,
            "width": null
          }
        },
        "5525f6f5581d4ec9ae0b3109b23ff3ca": {
          "model_module": "@jupyter-widgets/base",
          "model_name": "LayoutModel",
          "model_module_version": "1.2.0",
          "state": {
            "_model_module": "@jupyter-widgets/base",
            "_model_module_version": "1.2.0",
            "_model_name": "LayoutModel",
            "_view_count": null,
            "_view_module": "@jupyter-widgets/base",
            "_view_module_version": "1.2.0",
            "_view_name": "LayoutView",
            "align_content": null,
            "align_items": null,
            "align_self": null,
            "border": null,
            "bottom": null,
            "display": null,
            "flex": null,
            "flex_flow": null,
            "grid_area": null,
            "grid_auto_columns": null,
            "grid_auto_flow": null,
            "grid_auto_rows": null,
            "grid_column": null,
            "grid_gap": null,
            "grid_row": null,
            "grid_template_areas": null,
            "grid_template_columns": null,
            "grid_template_rows": null,
            "height": null,
            "justify_content": null,
            "justify_items": null,
            "left": null,
            "margin": null,
            "max_height": null,
            "max_width": null,
            "min_height": null,
            "min_width": null,
            "object_fit": null,
            "object_position": null,
            "order": null,
            "overflow": null,
            "overflow_x": null,
            "overflow_y": null,
            "padding": null,
            "right": null,
            "top": null,
            "visibility": null,
            "width": null
          }
        },
        "afa3bd3e95b8442e922922563e4ce26d": {
          "model_module": "@jupyter-widgets/controls",
          "model_name": "DescriptionStyleModel",
          "model_module_version": "1.5.0",
          "state": {
            "_model_module": "@jupyter-widgets/controls",
            "_model_module_version": "1.5.0",
            "_model_name": "DescriptionStyleModel",
            "_view_count": null,
            "_view_module": "@jupyter-widgets/base",
            "_view_module_version": "1.2.0",
            "_view_name": "StyleView",
            "description_width": ""
          }
        },
        "e7669dbe41d2470faaf68c60041b58b5": {
          "model_module": "@jupyter-widgets/base",
          "model_name": "LayoutModel",
          "model_module_version": "1.2.0",
          "state": {
            "_model_module": "@jupyter-widgets/base",
            "_model_module_version": "1.2.0",
            "_model_name": "LayoutModel",
            "_view_count": null,
            "_view_module": "@jupyter-widgets/base",
            "_view_module_version": "1.2.0",
            "_view_name": "LayoutView",
            "align_content": null,
            "align_items": null,
            "align_self": null,
            "border": null,
            "bottom": null,
            "display": null,
            "flex": null,
            "flex_flow": null,
            "grid_area": null,
            "grid_auto_columns": null,
            "grid_auto_flow": null,
            "grid_auto_rows": null,
            "grid_column": null,
            "grid_gap": null,
            "grid_row": null,
            "grid_template_areas": null,
            "grid_template_columns": null,
            "grid_template_rows": null,
            "height": null,
            "justify_content": null,
            "justify_items": null,
            "left": null,
            "margin": null,
            "max_height": null,
            "max_width": null,
            "min_height": null,
            "min_width": null,
            "object_fit": null,
            "object_position": null,
            "order": null,
            "overflow": null,
            "overflow_x": null,
            "overflow_y": null,
            "padding": null,
            "right": null,
            "top": null,
            "visibility": null,
            "width": null
          }
        },
        "9304002e8a3f426e839e0a65cc57ec69": {
          "model_module": "@jupyter-widgets/controls",
          "model_name": "ProgressStyleModel",
          "model_module_version": "1.5.0",
          "state": {
            "_model_module": "@jupyter-widgets/controls",
            "_model_module_version": "1.5.0",
            "_model_name": "ProgressStyleModel",
            "_view_count": null,
            "_view_module": "@jupyter-widgets/base",
            "_view_module_version": "1.2.0",
            "_view_name": "StyleView",
            "bar_color": null,
            "description_width": ""
          }
        },
        "5f45679aa8d34dd19fd68c78eb41d2de": {
          "model_module": "@jupyter-widgets/base",
          "model_name": "LayoutModel",
          "model_module_version": "1.2.0",
          "state": {
            "_model_module": "@jupyter-widgets/base",
            "_model_module_version": "1.2.0",
            "_model_name": "LayoutModel",
            "_view_count": null,
            "_view_module": "@jupyter-widgets/base",
            "_view_module_version": "1.2.0",
            "_view_name": "LayoutView",
            "align_content": null,
            "align_items": null,
            "align_self": null,
            "border": null,
            "bottom": null,
            "display": null,
            "flex": null,
            "flex_flow": null,
            "grid_area": null,
            "grid_auto_columns": null,
            "grid_auto_flow": null,
            "grid_auto_rows": null,
            "grid_column": null,
            "grid_gap": null,
            "grid_row": null,
            "grid_template_areas": null,
            "grid_template_columns": null,
            "grid_template_rows": null,
            "height": null,
            "justify_content": null,
            "justify_items": null,
            "left": null,
            "margin": null,
            "max_height": null,
            "max_width": null,
            "min_height": null,
            "min_width": null,
            "object_fit": null,
            "object_position": null,
            "order": null,
            "overflow": null,
            "overflow_x": null,
            "overflow_y": null,
            "padding": null,
            "right": null,
            "top": null,
            "visibility": null,
            "width": null
          }
        },
        "0f563670a0904d78b3f845532b9f4187": {
          "model_module": "@jupyter-widgets/controls",
          "model_name": "DescriptionStyleModel",
          "model_module_version": "1.5.0",
          "state": {
            "_model_module": "@jupyter-widgets/controls",
            "_model_module_version": "1.5.0",
            "_model_name": "DescriptionStyleModel",
            "_view_count": null,
            "_view_module": "@jupyter-widgets/base",
            "_view_module_version": "1.2.0",
            "_view_name": "StyleView",
            "description_width": ""
          }
        },
        "8df331c98be54ff28d9a58d89c9bacd9": {
          "model_module": "@jupyter-widgets/controls",
          "model_name": "HBoxModel",
          "model_module_version": "1.5.0",
          "state": {
            "_dom_classes": [],
            "_model_module": "@jupyter-widgets/controls",
            "_model_module_version": "1.5.0",
            "_model_name": "HBoxModel",
            "_view_count": null,
            "_view_module": "@jupyter-widgets/controls",
            "_view_module_version": "1.5.0",
            "_view_name": "HBoxView",
            "box_style": "",
            "children": [
              "IPY_MODEL_679fc5b14c174380917f06d936be0f35",
              "IPY_MODEL_c572cf9a8ea944699b01e7980649218f",
              "IPY_MODEL_85499751a43248d3a27950eaaa638903"
            ],
            "layout": "IPY_MODEL_f52db961fe0b4f639e589864ebc1a77f"
          }
        },
        "679fc5b14c174380917f06d936be0f35": {
          "model_module": "@jupyter-widgets/controls",
          "model_name": "HTMLModel",
          "model_module_version": "1.5.0",
          "state": {
            "_dom_classes": [],
            "_model_module": "@jupyter-widgets/controls",
            "_model_module_version": "1.5.0",
            "_model_name": "HTMLModel",
            "_view_count": null,
            "_view_module": "@jupyter-widgets/controls",
            "_view_module_version": "1.5.0",
            "_view_name": "HTMLView",
            "description": "",
            "description_tooltip": null,
            "layout": "IPY_MODEL_d8b0f75a3099458fbe9b2ca24588ce6a",
            "placeholder": "​",
            "style": "IPY_MODEL_dcb67c8a9b4a4f5182e268a3dbf6406d",
            "value": "Downloading (…)okenizer_config.json: 100%"
          }
        },
        "c572cf9a8ea944699b01e7980649218f": {
          "model_module": "@jupyter-widgets/controls",
          "model_name": "FloatProgressModel",
          "model_module_version": "1.5.0",
          "state": {
            "_dom_classes": [],
            "_model_module": "@jupyter-widgets/controls",
            "_model_module_version": "1.5.0",
            "_model_name": "FloatProgressModel",
            "_view_count": null,
            "_view_module": "@jupyter-widgets/controls",
            "_view_module_version": "1.5.0",
            "_view_name": "ProgressView",
            "bar_style": "success",
            "description": "",
            "description_tooltip": null,
            "layout": "IPY_MODEL_80fb3a8c43494a5184de44990e68ff20",
            "max": 466,
            "min": 0,
            "orientation": "horizontal",
            "style": "IPY_MODEL_987dc9ae461240b4956ddd1a4d9d31a8",
            "value": 466
          }
        },
        "85499751a43248d3a27950eaaa638903": {
          "model_module": "@jupyter-widgets/controls",
          "model_name": "HTMLModel",
          "model_module_version": "1.5.0",
          "state": {
            "_dom_classes": [],
            "_model_module": "@jupyter-widgets/controls",
            "_model_module_version": "1.5.0",
            "_model_name": "HTMLModel",
            "_view_count": null,
            "_view_module": "@jupyter-widgets/controls",
            "_view_module_version": "1.5.0",
            "_view_name": "HTMLView",
            "description": "",
            "description_tooltip": null,
            "layout": "IPY_MODEL_f4ee3489494b4de8bce771e78aa184d6",
            "placeholder": "​",
            "style": "IPY_MODEL_23ba58c3c0524716b937c7e237f37c2a",
            "value": " 466/466 [00:01&lt;00:00, 390B/s]"
          }
        },
        "f52db961fe0b4f639e589864ebc1a77f": {
          "model_module": "@jupyter-widgets/base",
          "model_name": "LayoutModel",
          "model_module_version": "1.2.0",
          "state": {
            "_model_module": "@jupyter-widgets/base",
            "_model_module_version": "1.2.0",
            "_model_name": "LayoutModel",
            "_view_count": null,
            "_view_module": "@jupyter-widgets/base",
            "_view_module_version": "1.2.0",
            "_view_name": "LayoutView",
            "align_content": null,
            "align_items": null,
            "align_self": null,
            "border": null,
            "bottom": null,
            "display": null,
            "flex": null,
            "flex_flow": null,
            "grid_area": null,
            "grid_auto_columns": null,
            "grid_auto_flow": null,
            "grid_auto_rows": null,
            "grid_column": null,
            "grid_gap": null,
            "grid_row": null,
            "grid_template_areas": null,
            "grid_template_columns": null,
            "grid_template_rows": null,
            "height": null,
            "justify_content": null,
            "justify_items": null,
            "left": null,
            "margin": null,
            "max_height": null,
            "max_width": null,
            "min_height": null,
            "min_width": null,
            "object_fit": null,
            "object_position": null,
            "order": null,
            "overflow": null,
            "overflow_x": null,
            "overflow_y": null,
            "padding": null,
            "right": null,
            "top": null,
            "visibility": null,
            "width": null
          }
        },
        "d8b0f75a3099458fbe9b2ca24588ce6a": {
          "model_module": "@jupyter-widgets/base",
          "model_name": "LayoutModel",
          "model_module_version": "1.2.0",
          "state": {
            "_model_module": "@jupyter-widgets/base",
            "_model_module_version": "1.2.0",
            "_model_name": "LayoutModel",
            "_view_count": null,
            "_view_module": "@jupyter-widgets/base",
            "_view_module_version": "1.2.0",
            "_view_name": "LayoutView",
            "align_content": null,
            "align_items": null,
            "align_self": null,
            "border": null,
            "bottom": null,
            "display": null,
            "flex": null,
            "flex_flow": null,
            "grid_area": null,
            "grid_auto_columns": null,
            "grid_auto_flow": null,
            "grid_auto_rows": null,
            "grid_column": null,
            "grid_gap": null,
            "grid_row": null,
            "grid_template_areas": null,
            "grid_template_columns": null,
            "grid_template_rows": null,
            "height": null,
            "justify_content": null,
            "justify_items": null,
            "left": null,
            "margin": null,
            "max_height": null,
            "max_width": null,
            "min_height": null,
            "min_width": null,
            "object_fit": null,
            "object_position": null,
            "order": null,
            "overflow": null,
            "overflow_x": null,
            "overflow_y": null,
            "padding": null,
            "right": null,
            "top": null,
            "visibility": null,
            "width": null
          }
        },
        "dcb67c8a9b4a4f5182e268a3dbf6406d": {
          "model_module": "@jupyter-widgets/controls",
          "model_name": "DescriptionStyleModel",
          "model_module_version": "1.5.0",
          "state": {
            "_model_module": "@jupyter-widgets/controls",
            "_model_module_version": "1.5.0",
            "_model_name": "DescriptionStyleModel",
            "_view_count": null,
            "_view_module": "@jupyter-widgets/base",
            "_view_module_version": "1.2.0",
            "_view_name": "StyleView",
            "description_width": ""
          }
        },
        "80fb3a8c43494a5184de44990e68ff20": {
          "model_module": "@jupyter-widgets/base",
          "model_name": "LayoutModel",
          "model_module_version": "1.2.0",
          "state": {
            "_model_module": "@jupyter-widgets/base",
            "_model_module_version": "1.2.0",
            "_model_name": "LayoutModel",
            "_view_count": null,
            "_view_module": "@jupyter-widgets/base",
            "_view_module_version": "1.2.0",
            "_view_name": "LayoutView",
            "align_content": null,
            "align_items": null,
            "align_self": null,
            "border": null,
            "bottom": null,
            "display": null,
            "flex": null,
            "flex_flow": null,
            "grid_area": null,
            "grid_auto_columns": null,
            "grid_auto_flow": null,
            "grid_auto_rows": null,
            "grid_column": null,
            "grid_gap": null,
            "grid_row": null,
            "grid_template_areas": null,
            "grid_template_columns": null,
            "grid_template_rows": null,
            "height": null,
            "justify_content": null,
            "justify_items": null,
            "left": null,
            "margin": null,
            "max_height": null,
            "max_width": null,
            "min_height": null,
            "min_width": null,
            "object_fit": null,
            "object_position": null,
            "order": null,
            "overflow": null,
            "overflow_x": null,
            "overflow_y": null,
            "padding": null,
            "right": null,
            "top": null,
            "visibility": null,
            "width": null
          }
        },
        "987dc9ae461240b4956ddd1a4d9d31a8": {
          "model_module": "@jupyter-widgets/controls",
          "model_name": "ProgressStyleModel",
          "model_module_version": "1.5.0",
          "state": {
            "_model_module": "@jupyter-widgets/controls",
            "_model_module_version": "1.5.0",
            "_model_name": "ProgressStyleModel",
            "_view_count": null,
            "_view_module": "@jupyter-widgets/base",
            "_view_module_version": "1.2.0",
            "_view_name": "StyleView",
            "bar_color": null,
            "description_width": ""
          }
        },
        "f4ee3489494b4de8bce771e78aa184d6": {
          "model_module": "@jupyter-widgets/base",
          "model_name": "LayoutModel",
          "model_module_version": "1.2.0",
          "state": {
            "_model_module": "@jupyter-widgets/base",
            "_model_module_version": "1.2.0",
            "_model_name": "LayoutModel",
            "_view_count": null,
            "_view_module": "@jupyter-widgets/base",
            "_view_module_version": "1.2.0",
            "_view_name": "LayoutView",
            "align_content": null,
            "align_items": null,
            "align_self": null,
            "border": null,
            "bottom": null,
            "display": null,
            "flex": null,
            "flex_flow": null,
            "grid_area": null,
            "grid_auto_columns": null,
            "grid_auto_flow": null,
            "grid_auto_rows": null,
            "grid_column": null,
            "grid_gap": null,
            "grid_row": null,
            "grid_template_areas": null,
            "grid_template_columns": null,
            "grid_template_rows": null,
            "height": null,
            "justify_content": null,
            "justify_items": null,
            "left": null,
            "margin": null,
            "max_height": null,
            "max_width": null,
            "min_height": null,
            "min_width": null,
            "object_fit": null,
            "object_position": null,
            "order": null,
            "overflow": null,
            "overflow_x": null,
            "overflow_y": null,
            "padding": null,
            "right": null,
            "top": null,
            "visibility": null,
            "width": null
          }
        },
        "23ba58c3c0524716b937c7e237f37c2a": {
          "model_module": "@jupyter-widgets/controls",
          "model_name": "DescriptionStyleModel",
          "model_module_version": "1.5.0",
          "state": {
            "_model_module": "@jupyter-widgets/controls",
            "_model_module_version": "1.5.0",
            "_model_name": "DescriptionStyleModel",
            "_view_count": null,
            "_view_module": "@jupyter-widgets/base",
            "_view_module_version": "1.2.0",
            "_view_name": "StyleView",
            "description_width": ""
          }
        },
        "846cc0bc0f2d4fe097fadd17860b2455": {
          "model_module": "@jupyter-widgets/controls",
          "model_name": "HBoxModel",
          "model_module_version": "1.5.0",
          "state": {
            "_dom_classes": [],
            "_model_module": "@jupyter-widgets/controls",
            "_model_module_version": "1.5.0",
            "_model_name": "HBoxModel",
            "_view_count": null,
            "_view_module": "@jupyter-widgets/controls",
            "_view_module_version": "1.5.0",
            "_view_name": "HBoxView",
            "box_style": "",
            "children": [
              "IPY_MODEL_d92262b7f69a4a1ca914bbce59cb06c5",
              "IPY_MODEL_1aa5feddf58e4cf296d24614b0bd3f90",
              "IPY_MODEL_236de653976e40fa892e71910bb7dd41"
            ],
            "layout": "IPY_MODEL_8e36bba943504a1ab036c9fd3f86752f"
          }
        },
        "d92262b7f69a4a1ca914bbce59cb06c5": {
          "model_module": "@jupyter-widgets/controls",
          "model_name": "HTMLModel",
          "model_module_version": "1.5.0",
          "state": {
            "_dom_classes": [],
            "_model_module": "@jupyter-widgets/controls",
            "_model_module_version": "1.5.0",
            "_model_name": "HTMLModel",
            "_view_count": null,
            "_view_module": "@jupyter-widgets/controls",
            "_view_module_version": "1.5.0",
            "_view_name": "HTMLView",
            "description": "",
            "description_tooltip": null,
            "layout": "IPY_MODEL_e7d1fc0af19c4bab9e55f7434895e104",
            "placeholder": "​",
            "style": "IPY_MODEL_050737f8b18e40e99eecb5207d0017f6",
            "value": "Downloading (…)solve/main/vocab.txt: 100%"
          }
        },
        "1aa5feddf58e4cf296d24614b0bd3f90": {
          "model_module": "@jupyter-widgets/controls",
          "model_name": "FloatProgressModel",
          "model_module_version": "1.5.0",
          "state": {
            "_dom_classes": [],
            "_model_module": "@jupyter-widgets/controls",
            "_model_module_version": "1.5.0",
            "_model_name": "FloatProgressModel",
            "_view_count": null,
            "_view_module": "@jupyter-widgets/controls",
            "_view_module_version": "1.5.0",
            "_view_name": "ProgressView",
            "bar_style": "success",
            "description": "",
            "description_tooltip": null,
            "layout": "IPY_MODEL_abcbccb6cd2b4b068fd19d01c34421ed",
            "max": 231508,
            "min": 0,
            "orientation": "horizontal",
            "style": "IPY_MODEL_58317dc9ef2245a4bec7d6ccfd776f0f",
            "value": 231508
          }
        },
        "236de653976e40fa892e71910bb7dd41": {
          "model_module": "@jupyter-widgets/controls",
          "model_name": "HTMLModel",
          "model_module_version": "1.5.0",
          "state": {
            "_dom_classes": [],
            "_model_module": "@jupyter-widgets/controls",
            "_model_module_version": "1.5.0",
            "_model_name": "HTMLModel",
            "_view_count": null,
            "_view_module": "@jupyter-widgets/controls",
            "_view_module_version": "1.5.0",
            "_view_name": "HTMLView",
            "description": "",
            "description_tooltip": null,
            "layout": "IPY_MODEL_b0c59762e81840f9a2cb23974e7b902f",
            "placeholder": "​",
            "style": "IPY_MODEL_d1927f4cc36446089bda7ca7a47f1f26",
            "value": " 232k/232k [00:00&lt;00:00, 1.41MB/s]"
          }
        },
        "8e36bba943504a1ab036c9fd3f86752f": {
          "model_module": "@jupyter-widgets/base",
          "model_name": "LayoutModel",
          "model_module_version": "1.2.0",
          "state": {
            "_model_module": "@jupyter-widgets/base",
            "_model_module_version": "1.2.0",
            "_model_name": "LayoutModel",
            "_view_count": null,
            "_view_module": "@jupyter-widgets/base",
            "_view_module_version": "1.2.0",
            "_view_name": "LayoutView",
            "align_content": null,
            "align_items": null,
            "align_self": null,
            "border": null,
            "bottom": null,
            "display": null,
            "flex": null,
            "flex_flow": null,
            "grid_area": null,
            "grid_auto_columns": null,
            "grid_auto_flow": null,
            "grid_auto_rows": null,
            "grid_column": null,
            "grid_gap": null,
            "grid_row": null,
            "grid_template_areas": null,
            "grid_template_columns": null,
            "grid_template_rows": null,
            "height": null,
            "justify_content": null,
            "justify_items": null,
            "left": null,
            "margin": null,
            "max_height": null,
            "max_width": null,
            "min_height": null,
            "min_width": null,
            "object_fit": null,
            "object_position": null,
            "order": null,
            "overflow": null,
            "overflow_x": null,
            "overflow_y": null,
            "padding": null,
            "right": null,
            "top": null,
            "visibility": null,
            "width": null
          }
        },
        "e7d1fc0af19c4bab9e55f7434895e104": {
          "model_module": "@jupyter-widgets/base",
          "model_name": "LayoutModel",
          "model_module_version": "1.2.0",
          "state": {
            "_model_module": "@jupyter-widgets/base",
            "_model_module_version": "1.2.0",
            "_model_name": "LayoutModel",
            "_view_count": null,
            "_view_module": "@jupyter-widgets/base",
            "_view_module_version": "1.2.0",
            "_view_name": "LayoutView",
            "align_content": null,
            "align_items": null,
            "align_self": null,
            "border": null,
            "bottom": null,
            "display": null,
            "flex": null,
            "flex_flow": null,
            "grid_area": null,
            "grid_auto_columns": null,
            "grid_auto_flow": null,
            "grid_auto_rows": null,
            "grid_column": null,
            "grid_gap": null,
            "grid_row": null,
            "grid_template_areas": null,
            "grid_template_columns": null,
            "grid_template_rows": null,
            "height": null,
            "justify_content": null,
            "justify_items": null,
            "left": null,
            "margin": null,
            "max_height": null,
            "max_width": null,
            "min_height": null,
            "min_width": null,
            "object_fit": null,
            "object_position": null,
            "order": null,
            "overflow": null,
            "overflow_x": null,
            "overflow_y": null,
            "padding": null,
            "right": null,
            "top": null,
            "visibility": null,
            "width": null
          }
        },
        "050737f8b18e40e99eecb5207d0017f6": {
          "model_module": "@jupyter-widgets/controls",
          "model_name": "DescriptionStyleModel",
          "model_module_version": "1.5.0",
          "state": {
            "_model_module": "@jupyter-widgets/controls",
            "_model_module_version": "1.5.0",
            "_model_name": "DescriptionStyleModel",
            "_view_count": null,
            "_view_module": "@jupyter-widgets/base",
            "_view_module_version": "1.2.0",
            "_view_name": "StyleView",
            "description_width": ""
          }
        },
        "abcbccb6cd2b4b068fd19d01c34421ed": {
          "model_module": "@jupyter-widgets/base",
          "model_name": "LayoutModel",
          "model_module_version": "1.2.0",
          "state": {
            "_model_module": "@jupyter-widgets/base",
            "_model_module_version": "1.2.0",
            "_model_name": "LayoutModel",
            "_view_count": null,
            "_view_module": "@jupyter-widgets/base",
            "_view_module_version": "1.2.0",
            "_view_name": "LayoutView",
            "align_content": null,
            "align_items": null,
            "align_self": null,
            "border": null,
            "bottom": null,
            "display": null,
            "flex": null,
            "flex_flow": null,
            "grid_area": null,
            "grid_auto_columns": null,
            "grid_auto_flow": null,
            "grid_auto_rows": null,
            "grid_column": null,
            "grid_gap": null,
            "grid_row": null,
            "grid_template_areas": null,
            "grid_template_columns": null,
            "grid_template_rows": null,
            "height": null,
            "justify_content": null,
            "justify_items": null,
            "left": null,
            "margin": null,
            "max_height": null,
            "max_width": null,
            "min_height": null,
            "min_width": null,
            "object_fit": null,
            "object_position": null,
            "order": null,
            "overflow": null,
            "overflow_x": null,
            "overflow_y": null,
            "padding": null,
            "right": null,
            "top": null,
            "visibility": null,
            "width": null
          }
        },
        "58317dc9ef2245a4bec7d6ccfd776f0f": {
          "model_module": "@jupyter-widgets/controls",
          "model_name": "ProgressStyleModel",
          "model_module_version": "1.5.0",
          "state": {
            "_model_module": "@jupyter-widgets/controls",
            "_model_module_version": "1.5.0",
            "_model_name": "ProgressStyleModel",
            "_view_count": null,
            "_view_module": "@jupyter-widgets/base",
            "_view_module_version": "1.2.0",
            "_view_name": "StyleView",
            "bar_color": null,
            "description_width": ""
          }
        },
        "b0c59762e81840f9a2cb23974e7b902f": {
          "model_module": "@jupyter-widgets/base",
          "model_name": "LayoutModel",
          "model_module_version": "1.2.0",
          "state": {
            "_model_module": "@jupyter-widgets/base",
            "_model_module_version": "1.2.0",
            "_model_name": "LayoutModel",
            "_view_count": null,
            "_view_module": "@jupyter-widgets/base",
            "_view_module_version": "1.2.0",
            "_view_name": "LayoutView",
            "align_content": null,
            "align_items": null,
            "align_self": null,
            "border": null,
            "bottom": null,
            "display": null,
            "flex": null,
            "flex_flow": null,
            "grid_area": null,
            "grid_auto_columns": null,
            "grid_auto_flow": null,
            "grid_auto_rows": null,
            "grid_column": null,
            "grid_gap": null,
            "grid_row": null,
            "grid_template_areas": null,
            "grid_template_columns": null,
            "grid_template_rows": null,
            "height": null,
            "justify_content": null,
            "justify_items": null,
            "left": null,
            "margin": null,
            "max_height": null,
            "max_width": null,
            "min_height": null,
            "min_width": null,
            "object_fit": null,
            "object_position": null,
            "order": null,
            "overflow": null,
            "overflow_x": null,
            "overflow_y": null,
            "padding": null,
            "right": null,
            "top": null,
            "visibility": null,
            "width": null
          }
        },
        "d1927f4cc36446089bda7ca7a47f1f26": {
          "model_module": "@jupyter-widgets/controls",
          "model_name": "DescriptionStyleModel",
          "model_module_version": "1.5.0",
          "state": {
            "_model_module": "@jupyter-widgets/controls",
            "_model_module_version": "1.5.0",
            "_model_name": "DescriptionStyleModel",
            "_view_count": null,
            "_view_module": "@jupyter-widgets/base",
            "_view_module_version": "1.2.0",
            "_view_name": "StyleView",
            "description_width": ""
          }
        },
        "d7c23fe853fc4d219779b97723022f28": {
          "model_module": "@jupyter-widgets/controls",
          "model_name": "HBoxModel",
          "model_module_version": "1.5.0",
          "state": {
            "_dom_classes": [],
            "_model_module": "@jupyter-widgets/controls",
            "_model_module_version": "1.5.0",
            "_model_name": "HBoxModel",
            "_view_count": null,
            "_view_module": "@jupyter-widgets/controls",
            "_view_module_version": "1.5.0",
            "_view_name": "HBoxView",
            "box_style": "",
            "children": [
              "IPY_MODEL_572d7cb88edf41e7a1182c7b0c101f90",
              "IPY_MODEL_71125e7b721548e5b55d6f44eec8020a",
              "IPY_MODEL_bfd5b4a87b4745b09e55b73c03e6d33b"
            ],
            "layout": "IPY_MODEL_58009e8a2baa4f6ab7d1b3be0d4b6398"
          }
        },
        "572d7cb88edf41e7a1182c7b0c101f90": {
          "model_module": "@jupyter-widgets/controls",
          "model_name": "HTMLModel",
          "model_module_version": "1.5.0",
          "state": {
            "_dom_classes": [],
            "_model_module": "@jupyter-widgets/controls",
            "_model_module_version": "1.5.0",
            "_model_name": "HTMLModel",
            "_view_count": null,
            "_view_module": "@jupyter-widgets/controls",
            "_view_module_version": "1.5.0",
            "_view_name": "HTMLView",
            "description": "",
            "description_tooltip": null,
            "layout": "IPY_MODEL_b055531e21224b8f82165298d4b95336",
            "placeholder": "​",
            "style": "IPY_MODEL_5ee51f40deb94124b69577a089c8e994",
            "value": "Downloading (…)/main/tokenizer.json: 100%"
          }
        },
        "71125e7b721548e5b55d6f44eec8020a": {
          "model_module": "@jupyter-widgets/controls",
          "model_name": "FloatProgressModel",
          "model_module_version": "1.5.0",
          "state": {
            "_dom_classes": [],
            "_model_module": "@jupyter-widgets/controls",
            "_model_module_version": "1.5.0",
            "_model_name": "FloatProgressModel",
            "_view_count": null,
            "_view_module": "@jupyter-widgets/controls",
            "_view_module_version": "1.5.0",
            "_view_name": "ProgressView",
            "bar_style": "success",
            "description": "",
            "description_tooltip": null,
            "layout": "IPY_MODEL_1d47ccde40c14a8583ef90d5a7a5b22f",
            "max": 466081,
            "min": 0,
            "orientation": "horizontal",
            "style": "IPY_MODEL_54e2156e118a47b0a23ee42b915a3ccb",
            "value": 466081
          }
        },
        "bfd5b4a87b4745b09e55b73c03e6d33b": {
          "model_module": "@jupyter-widgets/controls",
          "model_name": "HTMLModel",
          "model_module_version": "1.5.0",
          "state": {
            "_dom_classes": [],
            "_model_module": "@jupyter-widgets/controls",
            "_model_module_version": "1.5.0",
            "_model_name": "HTMLModel",
            "_view_count": null,
            "_view_module": "@jupyter-widgets/controls",
            "_view_module_version": "1.5.0",
            "_view_name": "HTMLView",
            "description": "",
            "description_tooltip": null,
            "layout": "IPY_MODEL_624fba7f37be45eaba8fefec8f2133f8",
            "placeholder": "​",
            "style": "IPY_MODEL_e05e38d3639b4dd39a39beb608713509",
            "value": " 466k/466k [00:00&lt;00:00, 19.1MB/s]"
          }
        },
        "58009e8a2baa4f6ab7d1b3be0d4b6398": {
          "model_module": "@jupyter-widgets/base",
          "model_name": "LayoutModel",
          "model_module_version": "1.2.0",
          "state": {
            "_model_module": "@jupyter-widgets/base",
            "_model_module_version": "1.2.0",
            "_model_name": "LayoutModel",
            "_view_count": null,
            "_view_module": "@jupyter-widgets/base",
            "_view_module_version": "1.2.0",
            "_view_name": "LayoutView",
            "align_content": null,
            "align_items": null,
            "align_self": null,
            "border": null,
            "bottom": null,
            "display": null,
            "flex": null,
            "flex_flow": null,
            "grid_area": null,
            "grid_auto_columns": null,
            "grid_auto_flow": null,
            "grid_auto_rows": null,
            "grid_column": null,
            "grid_gap": null,
            "grid_row": null,
            "grid_template_areas": null,
            "grid_template_columns": null,
            "grid_template_rows": null,
            "height": null,
            "justify_content": null,
            "justify_items": null,
            "left": null,
            "margin": null,
            "max_height": null,
            "max_width": null,
            "min_height": null,
            "min_width": null,
            "object_fit": null,
            "object_position": null,
            "order": null,
            "overflow": null,
            "overflow_x": null,
            "overflow_y": null,
            "padding": null,
            "right": null,
            "top": null,
            "visibility": null,
            "width": null
          }
        },
        "b055531e21224b8f82165298d4b95336": {
          "model_module": "@jupyter-widgets/base",
          "model_name": "LayoutModel",
          "model_module_version": "1.2.0",
          "state": {
            "_model_module": "@jupyter-widgets/base",
            "_model_module_version": "1.2.0",
            "_model_name": "LayoutModel",
            "_view_count": null,
            "_view_module": "@jupyter-widgets/base",
            "_view_module_version": "1.2.0",
            "_view_name": "LayoutView",
            "align_content": null,
            "align_items": null,
            "align_self": null,
            "border": null,
            "bottom": null,
            "display": null,
            "flex": null,
            "flex_flow": null,
            "grid_area": null,
            "grid_auto_columns": null,
            "grid_auto_flow": null,
            "grid_auto_rows": null,
            "grid_column": null,
            "grid_gap": null,
            "grid_row": null,
            "grid_template_areas": null,
            "grid_template_columns": null,
            "grid_template_rows": null,
            "height": null,
            "justify_content": null,
            "justify_items": null,
            "left": null,
            "margin": null,
            "max_height": null,
            "max_width": null,
            "min_height": null,
            "min_width": null,
            "object_fit": null,
            "object_position": null,
            "order": null,
            "overflow": null,
            "overflow_x": null,
            "overflow_y": null,
            "padding": null,
            "right": null,
            "top": null,
            "visibility": null,
            "width": null
          }
        },
        "5ee51f40deb94124b69577a089c8e994": {
          "model_module": "@jupyter-widgets/controls",
          "model_name": "DescriptionStyleModel",
          "model_module_version": "1.5.0",
          "state": {
            "_model_module": "@jupyter-widgets/controls",
            "_model_module_version": "1.5.0",
            "_model_name": "DescriptionStyleModel",
            "_view_count": null,
            "_view_module": "@jupyter-widgets/base",
            "_view_module_version": "1.2.0",
            "_view_name": "StyleView",
            "description_width": ""
          }
        },
        "1d47ccde40c14a8583ef90d5a7a5b22f": {
          "model_module": "@jupyter-widgets/base",
          "model_name": "LayoutModel",
          "model_module_version": "1.2.0",
          "state": {
            "_model_module": "@jupyter-widgets/base",
            "_model_module_version": "1.2.0",
            "_model_name": "LayoutModel",
            "_view_count": null,
            "_view_module": "@jupyter-widgets/base",
            "_view_module_version": "1.2.0",
            "_view_name": "LayoutView",
            "align_content": null,
            "align_items": null,
            "align_self": null,
            "border": null,
            "bottom": null,
            "display": null,
            "flex": null,
            "flex_flow": null,
            "grid_area": null,
            "grid_auto_columns": null,
            "grid_auto_flow": null,
            "grid_auto_rows": null,
            "grid_column": null,
            "grid_gap": null,
            "grid_row": null,
            "grid_template_areas": null,
            "grid_template_columns": null,
            "grid_template_rows": null,
            "height": null,
            "justify_content": null,
            "justify_items": null,
            "left": null,
            "margin": null,
            "max_height": null,
            "max_width": null,
            "min_height": null,
            "min_width": null,
            "object_fit": null,
            "object_position": null,
            "order": null,
            "overflow": null,
            "overflow_x": null,
            "overflow_y": null,
            "padding": null,
            "right": null,
            "top": null,
            "visibility": null,
            "width": null
          }
        },
        "54e2156e118a47b0a23ee42b915a3ccb": {
          "model_module": "@jupyter-widgets/controls",
          "model_name": "ProgressStyleModel",
          "model_module_version": "1.5.0",
          "state": {
            "_model_module": "@jupyter-widgets/controls",
            "_model_module_version": "1.5.0",
            "_model_name": "ProgressStyleModel",
            "_view_count": null,
            "_view_module": "@jupyter-widgets/base",
            "_view_module_version": "1.2.0",
            "_view_name": "StyleView",
            "bar_color": null,
            "description_width": ""
          }
        },
        "624fba7f37be45eaba8fefec8f2133f8": {
          "model_module": "@jupyter-widgets/base",
          "model_name": "LayoutModel",
          "model_module_version": "1.2.0",
          "state": {
            "_model_module": "@jupyter-widgets/base",
            "_model_module_version": "1.2.0",
            "_model_name": "LayoutModel",
            "_view_count": null,
            "_view_module": "@jupyter-widgets/base",
            "_view_module_version": "1.2.0",
            "_view_name": "LayoutView",
            "align_content": null,
            "align_items": null,
            "align_self": null,
            "border": null,
            "bottom": null,
            "display": null,
            "flex": null,
            "flex_flow": null,
            "grid_area": null,
            "grid_auto_columns": null,
            "grid_auto_flow": null,
            "grid_auto_rows": null,
            "grid_column": null,
            "grid_gap": null,
            "grid_row": null,
            "grid_template_areas": null,
            "grid_template_columns": null,
            "grid_template_rows": null,
            "height": null,
            "justify_content": null,
            "justify_items": null,
            "left": null,
            "margin": null,
            "max_height": null,
            "max_width": null,
            "min_height": null,
            "min_width": null,
            "object_fit": null,
            "object_position": null,
            "order": null,
            "overflow": null,
            "overflow_x": null,
            "overflow_y": null,
            "padding": null,
            "right": null,
            "top": null,
            "visibility": null,
            "width": null
          }
        },
        "e05e38d3639b4dd39a39beb608713509": {
          "model_module": "@jupyter-widgets/controls",
          "model_name": "DescriptionStyleModel",
          "model_module_version": "1.5.0",
          "state": {
            "_model_module": "@jupyter-widgets/controls",
            "_model_module_version": "1.5.0",
            "_model_name": "DescriptionStyleModel",
            "_view_count": null,
            "_view_module": "@jupyter-widgets/base",
            "_view_module_version": "1.2.0",
            "_view_name": "StyleView",
            "description_width": ""
          }
        },
        "35fcac56e75c4b48a97fe0be23941582": {
          "model_module": "@jupyter-widgets/controls",
          "model_name": "HBoxModel",
          "model_module_version": "1.5.0",
          "state": {
            "_dom_classes": [],
            "_model_module": "@jupyter-widgets/controls",
            "_model_module_version": "1.5.0",
            "_model_name": "HBoxModel",
            "_view_count": null,
            "_view_module": "@jupyter-widgets/controls",
            "_view_module_version": "1.5.0",
            "_view_name": "HBoxView",
            "box_style": "",
            "children": [
              "IPY_MODEL_eb11ede49f7b440d93645f949c752899",
              "IPY_MODEL_f0900715c09f47699fc20ec9861c3085",
              "IPY_MODEL_ea6f0f3026a94a3fb2410b721174fa12"
            ],
            "layout": "IPY_MODEL_c1b0c3e540cf42e2a3adcaecfc7529a3"
          }
        },
        "eb11ede49f7b440d93645f949c752899": {
          "model_module": "@jupyter-widgets/controls",
          "model_name": "HTMLModel",
          "model_module_version": "1.5.0",
          "state": {
            "_dom_classes": [],
            "_model_module": "@jupyter-widgets/controls",
            "_model_module_version": "1.5.0",
            "_model_name": "HTMLModel",
            "_view_count": null,
            "_view_module": "@jupyter-widgets/controls",
            "_view_module_version": "1.5.0",
            "_view_name": "HTMLView",
            "description": "",
            "description_tooltip": null,
            "layout": "IPY_MODEL_41a92bc616cc4a2c826929b49307576f",
            "placeholder": "​",
            "style": "IPY_MODEL_eb9540ee84e24910a2d7d1e1ad0d4291",
            "value": "Downloading (…)cial_tokens_map.json: 100%"
          }
        },
        "f0900715c09f47699fc20ec9861c3085": {
          "model_module": "@jupyter-widgets/controls",
          "model_name": "FloatProgressModel",
          "model_module_version": "1.5.0",
          "state": {
            "_dom_classes": [],
            "_model_module": "@jupyter-widgets/controls",
            "_model_module_version": "1.5.0",
            "_model_name": "FloatProgressModel",
            "_view_count": null,
            "_view_module": "@jupyter-widgets/controls",
            "_view_module_version": "1.5.0",
            "_view_name": "ProgressView",
            "bar_style": "success",
            "description": "",
            "description_tooltip": null,
            "layout": "IPY_MODEL_755367a85c1a4dbda04d18a99d472d18",
            "max": 112,
            "min": 0,
            "orientation": "horizontal",
            "style": "IPY_MODEL_db0b673849d14e9f824a4d8b1766156e",
            "value": 112
          }
        },
        "ea6f0f3026a94a3fb2410b721174fa12": {
          "model_module": "@jupyter-widgets/controls",
          "model_name": "HTMLModel",
          "model_module_version": "1.5.0",
          "state": {
            "_dom_classes": [],
            "_model_module": "@jupyter-widgets/controls",
            "_model_module_version": "1.5.0",
            "_model_name": "HTMLModel",
            "_view_count": null,
            "_view_module": "@jupyter-widgets/controls",
            "_view_module_version": "1.5.0",
            "_view_name": "HTMLView",
            "description": "",
            "description_tooltip": null,
            "layout": "IPY_MODEL_434f513af9c0408db964c173e1a1bb1a",
            "placeholder": "​",
            "style": "IPY_MODEL_e0e7775330274a76beaa079f4a152418",
            "value": " 112/112 [00:00&lt;00:00, 6.97kB/s]"
          }
        },
        "c1b0c3e540cf42e2a3adcaecfc7529a3": {
          "model_module": "@jupyter-widgets/base",
          "model_name": "LayoutModel",
          "model_module_version": "1.2.0",
          "state": {
            "_model_module": "@jupyter-widgets/base",
            "_model_module_version": "1.2.0",
            "_model_name": "LayoutModel",
            "_view_count": null,
            "_view_module": "@jupyter-widgets/base",
            "_view_module_version": "1.2.0",
            "_view_name": "LayoutView",
            "align_content": null,
            "align_items": null,
            "align_self": null,
            "border": null,
            "bottom": null,
            "display": null,
            "flex": null,
            "flex_flow": null,
            "grid_area": null,
            "grid_auto_columns": null,
            "grid_auto_flow": null,
            "grid_auto_rows": null,
            "grid_column": null,
            "grid_gap": null,
            "grid_row": null,
            "grid_template_areas": null,
            "grid_template_columns": null,
            "grid_template_rows": null,
            "height": null,
            "justify_content": null,
            "justify_items": null,
            "left": null,
            "margin": null,
            "max_height": null,
            "max_width": null,
            "min_height": null,
            "min_width": null,
            "object_fit": null,
            "object_position": null,
            "order": null,
            "overflow": null,
            "overflow_x": null,
            "overflow_y": null,
            "padding": null,
            "right": null,
            "top": null,
            "visibility": null,
            "width": null
          }
        },
        "41a92bc616cc4a2c826929b49307576f": {
          "model_module": "@jupyter-widgets/base",
          "model_name": "LayoutModel",
          "model_module_version": "1.2.0",
          "state": {
            "_model_module": "@jupyter-widgets/base",
            "_model_module_version": "1.2.0",
            "_model_name": "LayoutModel",
            "_view_count": null,
            "_view_module": "@jupyter-widgets/base",
            "_view_module_version": "1.2.0",
            "_view_name": "LayoutView",
            "align_content": null,
            "align_items": null,
            "align_self": null,
            "border": null,
            "bottom": null,
            "display": null,
            "flex": null,
            "flex_flow": null,
            "grid_area": null,
            "grid_auto_columns": null,
            "grid_auto_flow": null,
            "grid_auto_rows": null,
            "grid_column": null,
            "grid_gap": null,
            "grid_row": null,
            "grid_template_areas": null,
            "grid_template_columns": null,
            "grid_template_rows": null,
            "height": null,
            "justify_content": null,
            "justify_items": null,
            "left": null,
            "margin": null,
            "max_height": null,
            "max_width": null,
            "min_height": null,
            "min_width": null,
            "object_fit": null,
            "object_position": null,
            "order": null,
            "overflow": null,
            "overflow_x": null,
            "overflow_y": null,
            "padding": null,
            "right": null,
            "top": null,
            "visibility": null,
            "width": null
          }
        },
        "eb9540ee84e24910a2d7d1e1ad0d4291": {
          "model_module": "@jupyter-widgets/controls",
          "model_name": "DescriptionStyleModel",
          "model_module_version": "1.5.0",
          "state": {
            "_model_module": "@jupyter-widgets/controls",
            "_model_module_version": "1.5.0",
            "_model_name": "DescriptionStyleModel",
            "_view_count": null,
            "_view_module": "@jupyter-widgets/base",
            "_view_module_version": "1.2.0",
            "_view_name": "StyleView",
            "description_width": ""
          }
        },
        "755367a85c1a4dbda04d18a99d472d18": {
          "model_module": "@jupyter-widgets/base",
          "model_name": "LayoutModel",
          "model_module_version": "1.2.0",
          "state": {
            "_model_module": "@jupyter-widgets/base",
            "_model_module_version": "1.2.0",
            "_model_name": "LayoutModel",
            "_view_count": null,
            "_view_module": "@jupyter-widgets/base",
            "_view_module_version": "1.2.0",
            "_view_name": "LayoutView",
            "align_content": null,
            "align_items": null,
            "align_self": null,
            "border": null,
            "bottom": null,
            "display": null,
            "flex": null,
            "flex_flow": null,
            "grid_area": null,
            "grid_auto_columns": null,
            "grid_auto_flow": null,
            "grid_auto_rows": null,
            "grid_column": null,
            "grid_gap": null,
            "grid_row": null,
            "grid_template_areas": null,
            "grid_template_columns": null,
            "grid_template_rows": null,
            "height": null,
            "justify_content": null,
            "justify_items": null,
            "left": null,
            "margin": null,
            "max_height": null,
            "max_width": null,
            "min_height": null,
            "min_width": null,
            "object_fit": null,
            "object_position": null,
            "order": null,
            "overflow": null,
            "overflow_x": null,
            "overflow_y": null,
            "padding": null,
            "right": null,
            "top": null,
            "visibility": null,
            "width": null
          }
        },
        "db0b673849d14e9f824a4d8b1766156e": {
          "model_module": "@jupyter-widgets/controls",
          "model_name": "ProgressStyleModel",
          "model_module_version": "1.5.0",
          "state": {
            "_model_module": "@jupyter-widgets/controls",
            "_model_module_version": "1.5.0",
            "_model_name": "ProgressStyleModel",
            "_view_count": null,
            "_view_module": "@jupyter-widgets/base",
            "_view_module_version": "1.2.0",
            "_view_name": "StyleView",
            "bar_color": null,
            "description_width": ""
          }
        },
        "434f513af9c0408db964c173e1a1bb1a": {
          "model_module": "@jupyter-widgets/base",
          "model_name": "LayoutModel",
          "model_module_version": "1.2.0",
          "state": {
            "_model_module": "@jupyter-widgets/base",
            "_model_module_version": "1.2.0",
            "_model_name": "LayoutModel",
            "_view_count": null,
            "_view_module": "@jupyter-widgets/base",
            "_view_module_version": "1.2.0",
            "_view_name": "LayoutView",
            "align_content": null,
            "align_items": null,
            "align_self": null,
            "border": null,
            "bottom": null,
            "display": null,
            "flex": null,
            "flex_flow": null,
            "grid_area": null,
            "grid_auto_columns": null,
            "grid_auto_flow": null,
            "grid_auto_rows": null,
            "grid_column": null,
            "grid_gap": null,
            "grid_row": null,
            "grid_template_areas": null,
            "grid_template_columns": null,
            "grid_template_rows": null,
            "height": null,
            "justify_content": null,
            "justify_items": null,
            "left": null,
            "margin": null,
            "max_height": null,
            "max_width": null,
            "min_height": null,
            "min_width": null,
            "object_fit": null,
            "object_position": null,
            "order": null,
            "overflow": null,
            "overflow_x": null,
            "overflow_y": null,
            "padding": null,
            "right": null,
            "top": null,
            "visibility": null,
            "width": null
          }
        },
        "e0e7775330274a76beaa079f4a152418": {
          "model_module": "@jupyter-widgets/controls",
          "model_name": "DescriptionStyleModel",
          "model_module_version": "1.5.0",
          "state": {
            "_model_module": "@jupyter-widgets/controls",
            "_model_module_version": "1.5.0",
            "_model_name": "DescriptionStyleModel",
            "_view_count": null,
            "_view_module": "@jupyter-widgets/base",
            "_view_module_version": "1.2.0",
            "_view_name": "StyleView",
            "description_width": ""
          }
        },
        "10b74336ef51420fa9a3c6fdeea5479c": {
          "model_module": "@jupyter-widgets/controls",
          "model_name": "HBoxModel",
          "model_module_version": "1.5.0",
          "state": {
            "_dom_classes": [],
            "_model_module": "@jupyter-widgets/controls",
            "_model_module_version": "1.5.0",
            "_model_name": "HBoxModel",
            "_view_count": null,
            "_view_module": "@jupyter-widgets/controls",
            "_view_module_version": "1.5.0",
            "_view_name": "HBoxView",
            "box_style": "",
            "children": [
              "IPY_MODEL_26b5fac3170c4346b7c79fafa67123c6",
              "IPY_MODEL_f3c40f4b185148e091ff45571e765263",
              "IPY_MODEL_f554744b2bb4499b89680073ce417fc6"
            ],
            "layout": "IPY_MODEL_b20417f618a84ab1abee9b56bb978c6c"
          }
        },
        "26b5fac3170c4346b7c79fafa67123c6": {
          "model_module": "@jupyter-widgets/controls",
          "model_name": "HTMLModel",
          "model_module_version": "1.5.0",
          "state": {
            "_dom_classes": [],
            "_model_module": "@jupyter-widgets/controls",
            "_model_module_version": "1.5.0",
            "_model_name": "HTMLModel",
            "_view_count": null,
            "_view_module": "@jupyter-widgets/controls",
            "_view_module_version": "1.5.0",
            "_view_name": "HTMLView",
            "description": "",
            "description_tooltip": null,
            "layout": "IPY_MODEL_ed2ba69ad84b44e7ae448d17c7074591",
            "placeholder": "​",
            "style": "IPY_MODEL_5b5f86fd51094d37adedb974605ae983",
            "value": "Downloading (…)lve/main/config.json: 100%"
          }
        },
        "f3c40f4b185148e091ff45571e765263": {
          "model_module": "@jupyter-widgets/controls",
          "model_name": "FloatProgressModel",
          "model_module_version": "1.5.0",
          "state": {
            "_dom_classes": [],
            "_model_module": "@jupyter-widgets/controls",
            "_model_module_version": "1.5.0",
            "_model_name": "FloatProgressModel",
            "_view_count": null,
            "_view_module": "@jupyter-widgets/controls",
            "_view_module_version": "1.5.0",
            "_view_name": "ProgressView",
            "bar_style": "success",
            "description": "",
            "description_tooltip": null,
            "layout": "IPY_MODEL_2281c62087564274b04740dabd15cdca",
            "max": 670,
            "min": 0,
            "orientation": "horizontal",
            "style": "IPY_MODEL_64d9c35d54924222a8ca7d3bc2b7f45d",
            "value": 670
          }
        },
        "f554744b2bb4499b89680073ce417fc6": {
          "model_module": "@jupyter-widgets/controls",
          "model_name": "HTMLModel",
          "model_module_version": "1.5.0",
          "state": {
            "_dom_classes": [],
            "_model_module": "@jupyter-widgets/controls",
            "_model_module_version": "1.5.0",
            "_model_name": "HTMLModel",
            "_view_count": null,
            "_view_module": "@jupyter-widgets/controls",
            "_view_module_version": "1.5.0",
            "_view_name": "HTMLView",
            "description": "",
            "description_tooltip": null,
            "layout": "IPY_MODEL_d56ecf5f3d3543719ca3a9cebc739d2b",
            "placeholder": "​",
            "style": "IPY_MODEL_ffaff6f873e84d93891fcab8030db96f",
            "value": " 670/670 [00:00&lt;00:00, 1.16kB/s]"
          }
        },
        "b20417f618a84ab1abee9b56bb978c6c": {
          "model_module": "@jupyter-widgets/base",
          "model_name": "LayoutModel",
          "model_module_version": "1.2.0",
          "state": {
            "_model_module": "@jupyter-widgets/base",
            "_model_module_version": "1.2.0",
            "_model_name": "LayoutModel",
            "_view_count": null,
            "_view_module": "@jupyter-widgets/base",
            "_view_module_version": "1.2.0",
            "_view_name": "LayoutView",
            "align_content": null,
            "align_items": null,
            "align_self": null,
            "border": null,
            "bottom": null,
            "display": null,
            "flex": null,
            "flex_flow": null,
            "grid_area": null,
            "grid_auto_columns": null,
            "grid_auto_flow": null,
            "grid_auto_rows": null,
            "grid_column": null,
            "grid_gap": null,
            "grid_row": null,
            "grid_template_areas": null,
            "grid_template_columns": null,
            "grid_template_rows": null,
            "height": null,
            "justify_content": null,
            "justify_items": null,
            "left": null,
            "margin": null,
            "max_height": null,
            "max_width": null,
            "min_height": null,
            "min_width": null,
            "object_fit": null,
            "object_position": null,
            "order": null,
            "overflow": null,
            "overflow_x": null,
            "overflow_y": null,
            "padding": null,
            "right": null,
            "top": null,
            "visibility": null,
            "width": null
          }
        },
        "ed2ba69ad84b44e7ae448d17c7074591": {
          "model_module": "@jupyter-widgets/base",
          "model_name": "LayoutModel",
          "model_module_version": "1.2.0",
          "state": {
            "_model_module": "@jupyter-widgets/base",
            "_model_module_version": "1.2.0",
            "_model_name": "LayoutModel",
            "_view_count": null,
            "_view_module": "@jupyter-widgets/base",
            "_view_module_version": "1.2.0",
            "_view_name": "LayoutView",
            "align_content": null,
            "align_items": null,
            "align_self": null,
            "border": null,
            "bottom": null,
            "display": null,
            "flex": null,
            "flex_flow": null,
            "grid_area": null,
            "grid_auto_columns": null,
            "grid_auto_flow": null,
            "grid_auto_rows": null,
            "grid_column": null,
            "grid_gap": null,
            "grid_row": null,
            "grid_template_areas": null,
            "grid_template_columns": null,
            "grid_template_rows": null,
            "height": null,
            "justify_content": null,
            "justify_items": null,
            "left": null,
            "margin": null,
            "max_height": null,
            "max_width": null,
            "min_height": null,
            "min_width": null,
            "object_fit": null,
            "object_position": null,
            "order": null,
            "overflow": null,
            "overflow_x": null,
            "overflow_y": null,
            "padding": null,
            "right": null,
            "top": null,
            "visibility": null,
            "width": null
          }
        },
        "5b5f86fd51094d37adedb974605ae983": {
          "model_module": "@jupyter-widgets/controls",
          "model_name": "DescriptionStyleModel",
          "model_module_version": "1.5.0",
          "state": {
            "_model_module": "@jupyter-widgets/controls",
            "_model_module_version": "1.5.0",
            "_model_name": "DescriptionStyleModel",
            "_view_count": null,
            "_view_module": "@jupyter-widgets/base",
            "_view_module_version": "1.2.0",
            "_view_name": "StyleView",
            "description_width": ""
          }
        },
        "2281c62087564274b04740dabd15cdca": {
          "model_module": "@jupyter-widgets/base",
          "model_name": "LayoutModel",
          "model_module_version": "1.2.0",
          "state": {
            "_model_module": "@jupyter-widgets/base",
            "_model_module_version": "1.2.0",
            "_model_name": "LayoutModel",
            "_view_count": null,
            "_view_module": "@jupyter-widgets/base",
            "_view_module_version": "1.2.0",
            "_view_name": "LayoutView",
            "align_content": null,
            "align_items": null,
            "align_self": null,
            "border": null,
            "bottom": null,
            "display": null,
            "flex": null,
            "flex_flow": null,
            "grid_area": null,
            "grid_auto_columns": null,
            "grid_auto_flow": null,
            "grid_auto_rows": null,
            "grid_column": null,
            "grid_gap": null,
            "grid_row": null,
            "grid_template_areas": null,
            "grid_template_columns": null,
            "grid_template_rows": null,
            "height": null,
            "justify_content": null,
            "justify_items": null,
            "left": null,
            "margin": null,
            "max_height": null,
            "max_width": null,
            "min_height": null,
            "min_width": null,
            "object_fit": null,
            "object_position": null,
            "order": null,
            "overflow": null,
            "overflow_x": null,
            "overflow_y": null,
            "padding": null,
            "right": null,
            "top": null,
            "visibility": null,
            "width": null
          }
        },
        "64d9c35d54924222a8ca7d3bc2b7f45d": {
          "model_module": "@jupyter-widgets/controls",
          "model_name": "ProgressStyleModel",
          "model_module_version": "1.5.0",
          "state": {
            "_model_module": "@jupyter-widgets/controls",
            "_model_module_version": "1.5.0",
            "_model_name": "ProgressStyleModel",
            "_view_count": null,
            "_view_module": "@jupyter-widgets/base",
            "_view_module_version": "1.2.0",
            "_view_name": "StyleView",
            "bar_color": null,
            "description_width": ""
          }
        },
        "d56ecf5f3d3543719ca3a9cebc739d2b": {
          "model_module": "@jupyter-widgets/base",
          "model_name": "LayoutModel",
          "model_module_version": "1.2.0",
          "state": {
            "_model_module": "@jupyter-widgets/base",
            "_model_module_version": "1.2.0",
            "_model_name": "LayoutModel",
            "_view_count": null,
            "_view_module": "@jupyter-widgets/base",
            "_view_module_version": "1.2.0",
            "_view_name": "LayoutView",
            "align_content": null,
            "align_items": null,
            "align_self": null,
            "border": null,
            "bottom": null,
            "display": null,
            "flex": null,
            "flex_flow": null,
            "grid_area": null,
            "grid_auto_columns": null,
            "grid_auto_flow": null,
            "grid_auto_rows": null,
            "grid_column": null,
            "grid_gap": null,
            "grid_row": null,
            "grid_template_areas": null,
            "grid_template_columns": null,
            "grid_template_rows": null,
            "height": null,
            "justify_content": null,
            "justify_items": null,
            "left": null,
            "margin": null,
            "max_height": null,
            "max_width": null,
            "min_height": null,
            "min_width": null,
            "object_fit": null,
            "object_position": null,
            "order": null,
            "overflow": null,
            "overflow_x": null,
            "overflow_y": null,
            "padding": null,
            "right": null,
            "top": null,
            "visibility": null,
            "width": null
          }
        },
        "ffaff6f873e84d93891fcab8030db96f": {
          "model_module": "@jupyter-widgets/controls",
          "model_name": "DescriptionStyleModel",
          "model_module_version": "1.5.0",
          "state": {
            "_model_module": "@jupyter-widgets/controls",
            "_model_module_version": "1.5.0",
            "_model_name": "DescriptionStyleModel",
            "_view_count": null,
            "_view_module": "@jupyter-widgets/base",
            "_view_module_version": "1.2.0",
            "_view_name": "StyleView",
            "description_width": ""
          }
        },
        "78c73cb2f66940b9b97ed0240b271f8e": {
          "model_module": "@jupyter-widgets/controls",
          "model_name": "HBoxModel",
          "model_module_version": "1.5.0",
          "state": {
            "_dom_classes": [],
            "_model_module": "@jupyter-widgets/controls",
            "_model_module_version": "1.5.0",
            "_model_name": "HBoxModel",
            "_view_count": null,
            "_view_module": "@jupyter-widgets/controls",
            "_view_module_version": "1.5.0",
            "_view_name": "HBoxView",
            "box_style": "",
            "children": [
              "IPY_MODEL_aac5bc92d34e4c94be87b81ccfef4927",
              "IPY_MODEL_634b6b25aab04a7785668fe1bc5bab23",
              "IPY_MODEL_cc9cd2a113544c44aa2a1d9364680e79"
            ],
            "layout": "IPY_MODEL_f4ed0dd5d738437585ee256819e1ce82"
          }
        },
        "aac5bc92d34e4c94be87b81ccfef4927": {
          "model_module": "@jupyter-widgets/controls",
          "model_name": "HTMLModel",
          "model_module_version": "1.5.0",
          "state": {
            "_dom_classes": [],
            "_model_module": "@jupyter-widgets/controls",
            "_model_module_version": "1.5.0",
            "_model_name": "HTMLModel",
            "_view_count": null,
            "_view_module": "@jupyter-widgets/controls",
            "_view_module_version": "1.5.0",
            "_view_name": "HTMLView",
            "description": "",
            "description_tooltip": null,
            "layout": "IPY_MODEL_57f2d0d49f2245afa4294443776e3aab",
            "placeholder": "​",
            "style": "IPY_MODEL_bb7cb70981ba45caba806b4674c4d191",
            "value": "Downloading pytorch_model.bin: 100%"
          }
        },
        "634b6b25aab04a7785668fe1bc5bab23": {
          "model_module": "@jupyter-widgets/controls",
          "model_name": "FloatProgressModel",
          "model_module_version": "1.5.0",
          "state": {
            "_dom_classes": [],
            "_model_module": "@jupyter-widgets/controls",
            "_model_module_version": "1.5.0",
            "_model_name": "FloatProgressModel",
            "_view_count": null,
            "_view_module": "@jupyter-widgets/controls",
            "_view_module_version": "1.5.0",
            "_view_name": "ProgressView",
            "bar_style": "success",
            "description": "",
            "description_tooltip": null,
            "layout": "IPY_MODEL_2bff8f98d29d492baccd3b7059b6f5d6",
            "max": 438141995,
            "min": 0,
            "orientation": "horizontal",
            "style": "IPY_MODEL_01d0f2cd0cd749ef8e90bbf6dcb563e9",
            "value": 438141995
          }
        },
        "cc9cd2a113544c44aa2a1d9364680e79": {
          "model_module": "@jupyter-widgets/controls",
          "model_name": "HTMLModel",
          "model_module_version": "1.5.0",
          "state": {
            "_dom_classes": [],
            "_model_module": "@jupyter-widgets/controls",
            "_model_module_version": "1.5.0",
            "_model_name": "HTMLModel",
            "_view_count": null,
            "_view_module": "@jupyter-widgets/controls",
            "_view_module_version": "1.5.0",
            "_view_name": "HTMLView",
            "description": "",
            "description_tooltip": null,
            "layout": "IPY_MODEL_02dbf147a8e54b5bb83fe6438e0225e8",
            "placeholder": "​",
            "style": "IPY_MODEL_774aff1da67a40f083cefbeb501cfa31",
            "value": " 438M/438M [00:02&lt;00:00, 193MB/s]"
          }
        },
        "f4ed0dd5d738437585ee256819e1ce82": {
          "model_module": "@jupyter-widgets/base",
          "model_name": "LayoutModel",
          "model_module_version": "1.2.0",
          "state": {
            "_model_module": "@jupyter-widgets/base",
            "_model_module_version": "1.2.0",
            "_model_name": "LayoutModel",
            "_view_count": null,
            "_view_module": "@jupyter-widgets/base",
            "_view_module_version": "1.2.0",
            "_view_name": "LayoutView",
            "align_content": null,
            "align_items": null,
            "align_self": null,
            "border": null,
            "bottom": null,
            "display": null,
            "flex": null,
            "flex_flow": null,
            "grid_area": null,
            "grid_auto_columns": null,
            "grid_auto_flow": null,
            "grid_auto_rows": null,
            "grid_column": null,
            "grid_gap": null,
            "grid_row": null,
            "grid_template_areas": null,
            "grid_template_columns": null,
            "grid_template_rows": null,
            "height": null,
            "justify_content": null,
            "justify_items": null,
            "left": null,
            "margin": null,
            "max_height": null,
            "max_width": null,
            "min_height": null,
            "min_width": null,
            "object_fit": null,
            "object_position": null,
            "order": null,
            "overflow": null,
            "overflow_x": null,
            "overflow_y": null,
            "padding": null,
            "right": null,
            "top": null,
            "visibility": null,
            "width": null
          }
        },
        "57f2d0d49f2245afa4294443776e3aab": {
          "model_module": "@jupyter-widgets/base",
          "model_name": "LayoutModel",
          "model_module_version": "1.2.0",
          "state": {
            "_model_module": "@jupyter-widgets/base",
            "_model_module_version": "1.2.0",
            "_model_name": "LayoutModel",
            "_view_count": null,
            "_view_module": "@jupyter-widgets/base",
            "_view_module_version": "1.2.0",
            "_view_name": "LayoutView",
            "align_content": null,
            "align_items": null,
            "align_self": null,
            "border": null,
            "bottom": null,
            "display": null,
            "flex": null,
            "flex_flow": null,
            "grid_area": null,
            "grid_auto_columns": null,
            "grid_auto_flow": null,
            "grid_auto_rows": null,
            "grid_column": null,
            "grid_gap": null,
            "grid_row": null,
            "grid_template_areas": null,
            "grid_template_columns": null,
            "grid_template_rows": null,
            "height": null,
            "justify_content": null,
            "justify_items": null,
            "left": null,
            "margin": null,
            "max_height": null,
            "max_width": null,
            "min_height": null,
            "min_width": null,
            "object_fit": null,
            "object_position": null,
            "order": null,
            "overflow": null,
            "overflow_x": null,
            "overflow_y": null,
            "padding": null,
            "right": null,
            "top": null,
            "visibility": null,
            "width": null
          }
        },
        "bb7cb70981ba45caba806b4674c4d191": {
          "model_module": "@jupyter-widgets/controls",
          "model_name": "DescriptionStyleModel",
          "model_module_version": "1.5.0",
          "state": {
            "_model_module": "@jupyter-widgets/controls",
            "_model_module_version": "1.5.0",
            "_model_name": "DescriptionStyleModel",
            "_view_count": null,
            "_view_module": "@jupyter-widgets/base",
            "_view_module_version": "1.2.0",
            "_view_name": "StyleView",
            "description_width": ""
          }
        },
        "2bff8f98d29d492baccd3b7059b6f5d6": {
          "model_module": "@jupyter-widgets/base",
          "model_name": "LayoutModel",
          "model_module_version": "1.2.0",
          "state": {
            "_model_module": "@jupyter-widgets/base",
            "_model_module_version": "1.2.0",
            "_model_name": "LayoutModel",
            "_view_count": null,
            "_view_module": "@jupyter-widgets/base",
            "_view_module_version": "1.2.0",
            "_view_name": "LayoutView",
            "align_content": null,
            "align_items": null,
            "align_self": null,
            "border": null,
            "bottom": null,
            "display": null,
            "flex": null,
            "flex_flow": null,
            "grid_area": null,
            "grid_auto_columns": null,
            "grid_auto_flow": null,
            "grid_auto_rows": null,
            "grid_column": null,
            "grid_gap": null,
            "grid_row": null,
            "grid_template_areas": null,
            "grid_template_columns": null,
            "grid_template_rows": null,
            "height": null,
            "justify_content": null,
            "justify_items": null,
            "left": null,
            "margin": null,
            "max_height": null,
            "max_width": null,
            "min_height": null,
            "min_width": null,
            "object_fit": null,
            "object_position": null,
            "order": null,
            "overflow": null,
            "overflow_x": null,
            "overflow_y": null,
            "padding": null,
            "right": null,
            "top": null,
            "visibility": null,
            "width": null
          }
        },
        "01d0f2cd0cd749ef8e90bbf6dcb563e9": {
          "model_module": "@jupyter-widgets/controls",
          "model_name": "ProgressStyleModel",
          "model_module_version": "1.5.0",
          "state": {
            "_model_module": "@jupyter-widgets/controls",
            "_model_module_version": "1.5.0",
            "_model_name": "ProgressStyleModel",
            "_view_count": null,
            "_view_module": "@jupyter-widgets/base",
            "_view_module_version": "1.2.0",
            "_view_name": "StyleView",
            "bar_color": null,
            "description_width": ""
          }
        },
        "02dbf147a8e54b5bb83fe6438e0225e8": {
          "model_module": "@jupyter-widgets/base",
          "model_name": "LayoutModel",
          "model_module_version": "1.2.0",
          "state": {
            "_model_module": "@jupyter-widgets/base",
            "_model_module_version": "1.2.0",
            "_model_name": "LayoutModel",
            "_view_count": null,
            "_view_module": "@jupyter-widgets/base",
            "_view_module_version": "1.2.0",
            "_view_name": "LayoutView",
            "align_content": null,
            "align_items": null,
            "align_self": null,
            "border": null,
            "bottom": null,
            "display": null,
            "flex": null,
            "flex_flow": null,
            "grid_area": null,
            "grid_auto_columns": null,
            "grid_auto_flow": null,
            "grid_auto_rows": null,
            "grid_column": null,
            "grid_gap": null,
            "grid_row": null,
            "grid_template_areas": null,
            "grid_template_columns": null,
            "grid_template_rows": null,
            "height": null,
            "justify_content": null,
            "justify_items": null,
            "left": null,
            "margin": null,
            "max_height": null,
            "max_width": null,
            "min_height": null,
            "min_width": null,
            "object_fit": null,
            "object_position": null,
            "order": null,
            "overflow": null,
            "overflow_x": null,
            "overflow_y": null,
            "padding": null,
            "right": null,
            "top": null,
            "visibility": null,
            "width": null
          }
        },
        "774aff1da67a40f083cefbeb501cfa31": {
          "model_module": "@jupyter-widgets/controls",
          "model_name": "DescriptionStyleModel",
          "model_module_version": "1.5.0",
          "state": {
            "_model_module": "@jupyter-widgets/controls",
            "_model_module_version": "1.5.0",
            "_model_name": "DescriptionStyleModel",
            "_view_count": null,
            "_view_module": "@jupyter-widgets/base",
            "_view_module_version": "1.2.0",
            "_view_name": "StyleView",
            "description_width": ""
          }
        },
        "4d439bb49228455e9365865ba004f56a": {
          "model_module": "@jupyter-widgets/controls",
          "model_name": "HBoxModel",
          "model_module_version": "1.5.0",
          "state": {
            "_dom_classes": [],
            "_model_module": "@jupyter-widgets/controls",
            "_model_module_version": "1.5.0",
            "_model_name": "HBoxModel",
            "_view_count": null,
            "_view_module": "@jupyter-widgets/controls",
            "_view_module_version": "1.5.0",
            "_view_name": "HBoxView",
            "box_style": "",
            "children": [
              "IPY_MODEL_2e9dbe3ca4d44ceb90821d1f942976d9",
              "IPY_MODEL_4a10d350d5ce40fc8583a489e3697da5",
              "IPY_MODEL_9ae02fcf8e604bd5b0676d300f44e010"
            ],
            "layout": "IPY_MODEL_ed2bba10f16e44428a7c846e4e4ad71d"
          }
        },
        "2e9dbe3ca4d44ceb90821d1f942976d9": {
          "model_module": "@jupyter-widgets/controls",
          "model_name": "HTMLModel",
          "model_module_version": "1.5.0",
          "state": {
            "_dom_classes": [],
            "_model_module": "@jupyter-widgets/controls",
            "_model_module_version": "1.5.0",
            "_model_name": "HTMLModel",
            "_view_count": null,
            "_view_module": "@jupyter-widgets/controls",
            "_view_module_version": "1.5.0",
            "_view_name": "HTMLView",
            "description": "",
            "description_tooltip": null,
            "layout": "IPY_MODEL_4b109436942948bb935dc392ccab1c00",
            "placeholder": "​",
            "style": "IPY_MODEL_5c2104aec6594a4bb7b90fb18c1fef72",
            "value": "Downloading builder script: 100%"
          }
        },
        "4a10d350d5ce40fc8583a489e3697da5": {
          "model_module": "@jupyter-widgets/controls",
          "model_name": "FloatProgressModel",
          "model_module_version": "1.5.0",
          "state": {
            "_dom_classes": [],
            "_model_module": "@jupyter-widgets/controls",
            "_model_module_version": "1.5.0",
            "_model_name": "FloatProgressModel",
            "_view_count": null,
            "_view_module": "@jupyter-widgets/controls",
            "_view_module_version": "1.5.0",
            "_view_name": "ProgressView",
            "bar_style": "success",
            "description": "",
            "description_tooltip": null,
            "layout": "IPY_MODEL_9b62e494b97940c49c5c944030e07133",
            "max": 5514,
            "min": 0,
            "orientation": "horizontal",
            "style": "IPY_MODEL_8efd19c6b2934592bc36c5b8ddfd2cf5",
            "value": 5514
          }
        },
        "9ae02fcf8e604bd5b0676d300f44e010": {
          "model_module": "@jupyter-widgets/controls",
          "model_name": "HTMLModel",
          "model_module_version": "1.5.0",
          "state": {
            "_dom_classes": [],
            "_model_module": "@jupyter-widgets/controls",
            "_model_module_version": "1.5.0",
            "_model_name": "HTMLModel",
            "_view_count": null,
            "_view_module": "@jupyter-widgets/controls",
            "_view_module_version": "1.5.0",
            "_view_name": "HTMLView",
            "description": "",
            "description_tooltip": null,
            "layout": "IPY_MODEL_6a95ff1ff81b4af0b08e12a795ab04bf",
            "placeholder": "​",
            "style": "IPY_MODEL_b33ccd3149e64fb1ac82773b05946ef5",
            "value": " 5.51k/5.51k [00:00&lt;00:00, 3.74kB/s]"
          }
        },
        "ed2bba10f16e44428a7c846e4e4ad71d": {
          "model_module": "@jupyter-widgets/base",
          "model_name": "LayoutModel",
          "model_module_version": "1.2.0",
          "state": {
            "_model_module": "@jupyter-widgets/base",
            "_model_module_version": "1.2.0",
            "_model_name": "LayoutModel",
            "_view_count": null,
            "_view_module": "@jupyter-widgets/base",
            "_view_module_version": "1.2.0",
            "_view_name": "LayoutView",
            "align_content": null,
            "align_items": null,
            "align_self": null,
            "border": null,
            "bottom": null,
            "display": null,
            "flex": null,
            "flex_flow": null,
            "grid_area": null,
            "grid_auto_columns": null,
            "grid_auto_flow": null,
            "grid_auto_rows": null,
            "grid_column": null,
            "grid_gap": null,
            "grid_row": null,
            "grid_template_areas": null,
            "grid_template_columns": null,
            "grid_template_rows": null,
            "height": null,
            "justify_content": null,
            "justify_items": null,
            "left": null,
            "margin": null,
            "max_height": null,
            "max_width": null,
            "min_height": null,
            "min_width": null,
            "object_fit": null,
            "object_position": null,
            "order": null,
            "overflow": null,
            "overflow_x": null,
            "overflow_y": null,
            "padding": null,
            "right": null,
            "top": null,
            "visibility": null,
            "width": null
          }
        },
        "4b109436942948bb935dc392ccab1c00": {
          "model_module": "@jupyter-widgets/base",
          "model_name": "LayoutModel",
          "model_module_version": "1.2.0",
          "state": {
            "_model_module": "@jupyter-widgets/base",
            "_model_module_version": "1.2.0",
            "_model_name": "LayoutModel",
            "_view_count": null,
            "_view_module": "@jupyter-widgets/base",
            "_view_module_version": "1.2.0",
            "_view_name": "LayoutView",
            "align_content": null,
            "align_items": null,
            "align_self": null,
            "border": null,
            "bottom": null,
            "display": null,
            "flex": null,
            "flex_flow": null,
            "grid_area": null,
            "grid_auto_columns": null,
            "grid_auto_flow": null,
            "grid_auto_rows": null,
            "grid_column": null,
            "grid_gap": null,
            "grid_row": null,
            "grid_template_areas": null,
            "grid_template_columns": null,
            "grid_template_rows": null,
            "height": null,
            "justify_content": null,
            "justify_items": null,
            "left": null,
            "margin": null,
            "max_height": null,
            "max_width": null,
            "min_height": null,
            "min_width": null,
            "object_fit": null,
            "object_position": null,
            "order": null,
            "overflow": null,
            "overflow_x": null,
            "overflow_y": null,
            "padding": null,
            "right": null,
            "top": null,
            "visibility": null,
            "width": null
          }
        },
        "5c2104aec6594a4bb7b90fb18c1fef72": {
          "model_module": "@jupyter-widgets/controls",
          "model_name": "DescriptionStyleModel",
          "model_module_version": "1.5.0",
          "state": {
            "_model_module": "@jupyter-widgets/controls",
            "_model_module_version": "1.5.0",
            "_model_name": "DescriptionStyleModel",
            "_view_count": null,
            "_view_module": "@jupyter-widgets/base",
            "_view_module_version": "1.2.0",
            "_view_name": "StyleView",
            "description_width": ""
          }
        },
        "9b62e494b97940c49c5c944030e07133": {
          "model_module": "@jupyter-widgets/base",
          "model_name": "LayoutModel",
          "model_module_version": "1.2.0",
          "state": {
            "_model_module": "@jupyter-widgets/base",
            "_model_module_version": "1.2.0",
            "_model_name": "LayoutModel",
            "_view_count": null,
            "_view_module": "@jupyter-widgets/base",
            "_view_module_version": "1.2.0",
            "_view_name": "LayoutView",
            "align_content": null,
            "align_items": null,
            "align_self": null,
            "border": null,
            "bottom": null,
            "display": null,
            "flex": null,
            "flex_flow": null,
            "grid_area": null,
            "grid_auto_columns": null,
            "grid_auto_flow": null,
            "grid_auto_rows": null,
            "grid_column": null,
            "grid_gap": null,
            "grid_row": null,
            "grid_template_areas": null,
            "grid_template_columns": null,
            "grid_template_rows": null,
            "height": null,
            "justify_content": null,
            "justify_items": null,
            "left": null,
            "margin": null,
            "max_height": null,
            "max_width": null,
            "min_height": null,
            "min_width": null,
            "object_fit": null,
            "object_position": null,
            "order": null,
            "overflow": null,
            "overflow_x": null,
            "overflow_y": null,
            "padding": null,
            "right": null,
            "top": null,
            "visibility": null,
            "width": null
          }
        },
        "8efd19c6b2934592bc36c5b8ddfd2cf5": {
          "model_module": "@jupyter-widgets/controls",
          "model_name": "ProgressStyleModel",
          "model_module_version": "1.5.0",
          "state": {
            "_model_module": "@jupyter-widgets/controls",
            "_model_module_version": "1.5.0",
            "_model_name": "ProgressStyleModel",
            "_view_count": null,
            "_view_module": "@jupyter-widgets/base",
            "_view_module_version": "1.2.0",
            "_view_name": "StyleView",
            "bar_color": null,
            "description_width": ""
          }
        },
        "6a95ff1ff81b4af0b08e12a795ab04bf": {
          "model_module": "@jupyter-widgets/base",
          "model_name": "LayoutModel",
          "model_module_version": "1.2.0",
          "state": {
            "_model_module": "@jupyter-widgets/base",
            "_model_module_version": "1.2.0",
            "_model_name": "LayoutModel",
            "_view_count": null,
            "_view_module": "@jupyter-widgets/base",
            "_view_module_version": "1.2.0",
            "_view_name": "LayoutView",
            "align_content": null,
            "align_items": null,
            "align_self": null,
            "border": null,
            "bottom": null,
            "display": null,
            "flex": null,
            "flex_flow": null,
            "grid_area": null,
            "grid_auto_columns": null,
            "grid_auto_flow": null,
            "grid_auto_rows": null,
            "grid_column": null,
            "grid_gap": null,
            "grid_row": null,
            "grid_template_areas": null,
            "grid_template_columns": null,
            "grid_template_rows": null,
            "height": null,
            "justify_content": null,
            "justify_items": null,
            "left": null,
            "margin": null,
            "max_height": null,
            "max_width": null,
            "min_height": null,
            "min_width": null,
            "object_fit": null,
            "object_position": null,
            "order": null,
            "overflow": null,
            "overflow_x": null,
            "overflow_y": null,
            "padding": null,
            "right": null,
            "top": null,
            "visibility": null,
            "width": null
          }
        },
        "b33ccd3149e64fb1ac82773b05946ef5": {
          "model_module": "@jupyter-widgets/controls",
          "model_name": "DescriptionStyleModel",
          "model_module_version": "1.5.0",
          "state": {
            "_model_module": "@jupyter-widgets/controls",
            "_model_module_version": "1.5.0",
            "_model_name": "DescriptionStyleModel",
            "_view_count": null,
            "_view_module": "@jupyter-widgets/base",
            "_view_module_version": "1.2.0",
            "_view_name": "StyleView",
            "description_width": ""
          }
        },
        "d4ce6a29acdd48568ebc9725ebfce2cf": {
          "model_module": "@jupyter-widgets/controls",
          "model_name": "HBoxModel",
          "model_module_version": "1.5.0",
          "state": {
            "_dom_classes": [],
            "_model_module": "@jupyter-widgets/controls",
            "_model_module_version": "1.5.0",
            "_model_name": "HBoxModel",
            "_view_count": null,
            "_view_module": "@jupyter-widgets/controls",
            "_view_module_version": "1.5.0",
            "_view_name": "HBoxView",
            "box_style": "",
            "children": [
              "IPY_MODEL_8a69bc30d6c246c3acd257bbc9536404",
              "IPY_MODEL_597ca8a072224455a595a87aa2287643",
              "IPY_MODEL_bad4448665564cf1a154fb4aa0db39fb"
            ],
            "layout": "IPY_MODEL_b64a6207689945f1a7929ac7c345bd3c"
          }
        },
        "8a69bc30d6c246c3acd257bbc9536404": {
          "model_module": "@jupyter-widgets/controls",
          "model_name": "HTMLModel",
          "model_module_version": "1.5.0",
          "state": {
            "_dom_classes": [],
            "_model_module": "@jupyter-widgets/controls",
            "_model_module_version": "1.5.0",
            "_model_name": "HTMLModel",
            "_view_count": null,
            "_view_module": "@jupyter-widgets/controls",
            "_view_module_version": "1.5.0",
            "_view_name": "HTMLView",
            "description": "",
            "description_tooltip": null,
            "layout": "IPY_MODEL_f1fb84f6838c4e84b11fa307518b967c",
            "placeholder": "​",
            "style": "IPY_MODEL_260e867e52f04d57952375b8bda35f13",
            "value": "Downloading builder script: 100%"
          }
        },
        "597ca8a072224455a595a87aa2287643": {
          "model_module": "@jupyter-widgets/controls",
          "model_name": "FloatProgressModel",
          "model_module_version": "1.5.0",
          "state": {
            "_dom_classes": [],
            "_model_module": "@jupyter-widgets/controls",
            "_model_module_version": "1.5.0",
            "_model_name": "FloatProgressModel",
            "_view_count": null,
            "_view_module": "@jupyter-widgets/controls",
            "_view_module_version": "1.5.0",
            "_view_name": "ProgressView",
            "bar_style": "success",
            "description": "",
            "description_tooltip": null,
            "layout": "IPY_MODEL_b58e14a1f36f47cb847dd8e724e7a6ee",
            "max": 5514,
            "min": 0,
            "orientation": "horizontal",
            "style": "IPY_MODEL_cbb2ed2518344e3d9b832ac119f2b288",
            "value": 5514
          }
        },
        "bad4448665564cf1a154fb4aa0db39fb": {
          "model_module": "@jupyter-widgets/controls",
          "model_name": "HTMLModel",
          "model_module_version": "1.5.0",
          "state": {
            "_dom_classes": [],
            "_model_module": "@jupyter-widgets/controls",
            "_model_module_version": "1.5.0",
            "_model_name": "HTMLModel",
            "_view_count": null,
            "_view_module": "@jupyter-widgets/controls",
            "_view_module_version": "1.5.0",
            "_view_name": "HTMLView",
            "description": "",
            "description_tooltip": null,
            "layout": "IPY_MODEL_bd340ef597e14da39814e6256c6d8371",
            "placeholder": "​",
            "style": "IPY_MODEL_b7134a96d4d3470da11d5cdbae2dc362",
            "value": " 5.51k/5.51k [00:00&lt;00:00, 203kB/s]"
          }
        },
        "b64a6207689945f1a7929ac7c345bd3c": {
          "model_module": "@jupyter-widgets/base",
          "model_name": "LayoutModel",
          "model_module_version": "1.2.0",
          "state": {
            "_model_module": "@jupyter-widgets/base",
            "_model_module_version": "1.2.0",
            "_model_name": "LayoutModel",
            "_view_count": null,
            "_view_module": "@jupyter-widgets/base",
            "_view_module_version": "1.2.0",
            "_view_name": "LayoutView",
            "align_content": null,
            "align_items": null,
            "align_self": null,
            "border": null,
            "bottom": null,
            "display": null,
            "flex": null,
            "flex_flow": null,
            "grid_area": null,
            "grid_auto_columns": null,
            "grid_auto_flow": null,
            "grid_auto_rows": null,
            "grid_column": null,
            "grid_gap": null,
            "grid_row": null,
            "grid_template_areas": null,
            "grid_template_columns": null,
            "grid_template_rows": null,
            "height": null,
            "justify_content": null,
            "justify_items": null,
            "left": null,
            "margin": null,
            "max_height": null,
            "max_width": null,
            "min_height": null,
            "min_width": null,
            "object_fit": null,
            "object_position": null,
            "order": null,
            "overflow": null,
            "overflow_x": null,
            "overflow_y": null,
            "padding": null,
            "right": null,
            "top": null,
            "visibility": null,
            "width": null
          }
        },
        "f1fb84f6838c4e84b11fa307518b967c": {
          "model_module": "@jupyter-widgets/base",
          "model_name": "LayoutModel",
          "model_module_version": "1.2.0",
          "state": {
            "_model_module": "@jupyter-widgets/base",
            "_model_module_version": "1.2.0",
            "_model_name": "LayoutModel",
            "_view_count": null,
            "_view_module": "@jupyter-widgets/base",
            "_view_module_version": "1.2.0",
            "_view_name": "LayoutView",
            "align_content": null,
            "align_items": null,
            "align_self": null,
            "border": null,
            "bottom": null,
            "display": null,
            "flex": null,
            "flex_flow": null,
            "grid_area": null,
            "grid_auto_columns": null,
            "grid_auto_flow": null,
            "grid_auto_rows": null,
            "grid_column": null,
            "grid_gap": null,
            "grid_row": null,
            "grid_template_areas": null,
            "grid_template_columns": null,
            "grid_template_rows": null,
            "height": null,
            "justify_content": null,
            "justify_items": null,
            "left": null,
            "margin": null,
            "max_height": null,
            "max_width": null,
            "min_height": null,
            "min_width": null,
            "object_fit": null,
            "object_position": null,
            "order": null,
            "overflow": null,
            "overflow_x": null,
            "overflow_y": null,
            "padding": null,
            "right": null,
            "top": null,
            "visibility": null,
            "width": null
          }
        },
        "260e867e52f04d57952375b8bda35f13": {
          "model_module": "@jupyter-widgets/controls",
          "model_name": "DescriptionStyleModel",
          "model_module_version": "1.5.0",
          "state": {
            "_model_module": "@jupyter-widgets/controls",
            "_model_module_version": "1.5.0",
            "_model_name": "DescriptionStyleModel",
            "_view_count": null,
            "_view_module": "@jupyter-widgets/base",
            "_view_module_version": "1.2.0",
            "_view_name": "StyleView",
            "description_width": ""
          }
        },
        "b58e14a1f36f47cb847dd8e724e7a6ee": {
          "model_module": "@jupyter-widgets/base",
          "model_name": "LayoutModel",
          "model_module_version": "1.2.0",
          "state": {
            "_model_module": "@jupyter-widgets/base",
            "_model_module_version": "1.2.0",
            "_model_name": "LayoutModel",
            "_view_count": null,
            "_view_module": "@jupyter-widgets/base",
            "_view_module_version": "1.2.0",
            "_view_name": "LayoutView",
            "align_content": null,
            "align_items": null,
            "align_self": null,
            "border": null,
            "bottom": null,
            "display": null,
            "flex": null,
            "flex_flow": null,
            "grid_area": null,
            "grid_auto_columns": null,
            "grid_auto_flow": null,
            "grid_auto_rows": null,
            "grid_column": null,
            "grid_gap": null,
            "grid_row": null,
            "grid_template_areas": null,
            "grid_template_columns": null,
            "grid_template_rows": null,
            "height": null,
            "justify_content": null,
            "justify_items": null,
            "left": null,
            "margin": null,
            "max_height": null,
            "max_width": null,
            "min_height": null,
            "min_width": null,
            "object_fit": null,
            "object_position": null,
            "order": null,
            "overflow": null,
            "overflow_x": null,
            "overflow_y": null,
            "padding": null,
            "right": null,
            "top": null,
            "visibility": null,
            "width": null
          }
        },
        "cbb2ed2518344e3d9b832ac119f2b288": {
          "model_module": "@jupyter-widgets/controls",
          "model_name": "ProgressStyleModel",
          "model_module_version": "1.5.0",
          "state": {
            "_model_module": "@jupyter-widgets/controls",
            "_model_module_version": "1.5.0",
            "_model_name": "ProgressStyleModel",
            "_view_count": null,
            "_view_module": "@jupyter-widgets/base",
            "_view_module_version": "1.2.0",
            "_view_name": "StyleView",
            "bar_color": null,
            "description_width": ""
          }
        },
        "bd340ef597e14da39814e6256c6d8371": {
          "model_module": "@jupyter-widgets/base",
          "model_name": "LayoutModel",
          "model_module_version": "1.2.0",
          "state": {
            "_model_module": "@jupyter-widgets/base",
            "_model_module_version": "1.2.0",
            "_model_name": "LayoutModel",
            "_view_count": null,
            "_view_module": "@jupyter-widgets/base",
            "_view_module_version": "1.2.0",
            "_view_name": "LayoutView",
            "align_content": null,
            "align_items": null,
            "align_self": null,
            "border": null,
            "bottom": null,
            "display": null,
            "flex": null,
            "flex_flow": null,
            "grid_area": null,
            "grid_auto_columns": null,
            "grid_auto_flow": null,
            "grid_auto_rows": null,
            "grid_column": null,
            "grid_gap": null,
            "grid_row": null,
            "grid_template_areas": null,
            "grid_template_columns": null,
            "grid_template_rows": null,
            "height": null,
            "justify_content": null,
            "justify_items": null,
            "left": null,
            "margin": null,
            "max_height": null,
            "max_width": null,
            "min_height": null,
            "min_width": null,
            "object_fit": null,
            "object_position": null,
            "order": null,
            "overflow": null,
            "overflow_x": null,
            "overflow_y": null,
            "padding": null,
            "right": null,
            "top": null,
            "visibility": null,
            "width": null
          }
        },
        "b7134a96d4d3470da11d5cdbae2dc362": {
          "model_module": "@jupyter-widgets/controls",
          "model_name": "DescriptionStyleModel",
          "model_module_version": "1.5.0",
          "state": {
            "_model_module": "@jupyter-widgets/controls",
            "_model_module_version": "1.5.0",
            "_model_name": "DescriptionStyleModel",
            "_view_count": null,
            "_view_module": "@jupyter-widgets/base",
            "_view_module_version": "1.2.0",
            "_view_name": "StyleView",
            "description_width": ""
          }
        },
        "69fcaab2a29949c5abaafc1e74a9b1ee": {
          "model_module": "@jupyter-widgets/controls",
          "model_name": "HBoxModel",
          "model_module_version": "1.5.0",
          "state": {
            "_dom_classes": [],
            "_model_module": "@jupyter-widgets/controls",
            "_model_module_version": "1.5.0",
            "_model_name": "HBoxModel",
            "_view_count": null,
            "_view_module": "@jupyter-widgets/controls",
            "_view_module_version": "1.5.0",
            "_view_name": "HBoxView",
            "box_style": "",
            "children": [
              "IPY_MODEL_4fdb5fe5fb304daca812494451243200",
              "IPY_MODEL_1610eb853a024683b66f5df5abca42a2",
              "IPY_MODEL_16a625ad222c4eb582f7e5e2cf58e084"
            ],
            "layout": "IPY_MODEL_91e0b16685db4979b31167419973e7bb"
          }
        },
        "4fdb5fe5fb304daca812494451243200": {
          "model_module": "@jupyter-widgets/controls",
          "model_name": "HTMLModel",
          "model_module_version": "1.5.0",
          "state": {
            "_dom_classes": [],
            "_model_module": "@jupyter-widgets/controls",
            "_model_module_version": "1.5.0",
            "_model_name": "HTMLModel",
            "_view_count": null,
            "_view_module": "@jupyter-widgets/controls",
            "_view_module_version": "1.5.0",
            "_view_name": "HTMLView",
            "description": "",
            "description_tooltip": null,
            "layout": "IPY_MODEL_787d0bd17cb94436a806a22515b5006a",
            "placeholder": "​",
            "style": "IPY_MODEL_e2d2494572d24f268013dc5287f96a4e",
            "value": "Downloading (…)okenizer_config.json: 100%"
          }
        },
        "1610eb853a024683b66f5df5abca42a2": {
          "model_module": "@jupyter-widgets/controls",
          "model_name": "FloatProgressModel",
          "model_module_version": "1.5.0",
          "state": {
            "_dom_classes": [],
            "_model_module": "@jupyter-widgets/controls",
            "_model_module_version": "1.5.0",
            "_model_name": "FloatProgressModel",
            "_view_count": null,
            "_view_module": "@jupyter-widgets/controls",
            "_view_module_version": "1.5.0",
            "_view_name": "ProgressView",
            "bar_style": "success",
            "description": "",
            "description_tooltip": null,
            "layout": "IPY_MODEL_d99b1e35466c43899bb2a7a0de1c2943",
            "max": 316,
            "min": 0,
            "orientation": "horizontal",
            "style": "IPY_MODEL_102f6b148dbb494eb2ca4946546275d8",
            "value": 316
          }
        },
        "16a625ad222c4eb582f7e5e2cf58e084": {
          "model_module": "@jupyter-widgets/controls",
          "model_name": "HTMLModel",
          "model_module_version": "1.5.0",
          "state": {
            "_dom_classes": [],
            "_model_module": "@jupyter-widgets/controls",
            "_model_module_version": "1.5.0",
            "_model_name": "HTMLModel",
            "_view_count": null,
            "_view_module": "@jupyter-widgets/controls",
            "_view_module_version": "1.5.0",
            "_view_name": "HTMLView",
            "description": "",
            "description_tooltip": null,
            "layout": "IPY_MODEL_d585e82b383c4c44bd0f80fa8a1fed0c",
            "placeholder": "​",
            "style": "IPY_MODEL_3760140790044d5aade22d2eae1d8751",
            "value": " 316/316 [00:01&lt;00:00, 260B/s]"
          }
        },
        "91e0b16685db4979b31167419973e7bb": {
          "model_module": "@jupyter-widgets/base",
          "model_name": "LayoutModel",
          "model_module_version": "1.2.0",
          "state": {
            "_model_module": "@jupyter-widgets/base",
            "_model_module_version": "1.2.0",
            "_model_name": "LayoutModel",
            "_view_count": null,
            "_view_module": "@jupyter-widgets/base",
            "_view_module_version": "1.2.0",
            "_view_name": "LayoutView",
            "align_content": null,
            "align_items": null,
            "align_self": null,
            "border": null,
            "bottom": null,
            "display": null,
            "flex": null,
            "flex_flow": null,
            "grid_area": null,
            "grid_auto_columns": null,
            "grid_auto_flow": null,
            "grid_auto_rows": null,
            "grid_column": null,
            "grid_gap": null,
            "grid_row": null,
            "grid_template_areas": null,
            "grid_template_columns": null,
            "grid_template_rows": null,
            "height": null,
            "justify_content": null,
            "justify_items": null,
            "left": null,
            "margin": null,
            "max_height": null,
            "max_width": null,
            "min_height": null,
            "min_width": null,
            "object_fit": null,
            "object_position": null,
            "order": null,
            "overflow": null,
            "overflow_x": null,
            "overflow_y": null,
            "padding": null,
            "right": null,
            "top": null,
            "visibility": null,
            "width": null
          }
        },
        "787d0bd17cb94436a806a22515b5006a": {
          "model_module": "@jupyter-widgets/base",
          "model_name": "LayoutModel",
          "model_module_version": "1.2.0",
          "state": {
            "_model_module": "@jupyter-widgets/base",
            "_model_module_version": "1.2.0",
            "_model_name": "LayoutModel",
            "_view_count": null,
            "_view_module": "@jupyter-widgets/base",
            "_view_module_version": "1.2.0",
            "_view_name": "LayoutView",
            "align_content": null,
            "align_items": null,
            "align_self": null,
            "border": null,
            "bottom": null,
            "display": null,
            "flex": null,
            "flex_flow": null,
            "grid_area": null,
            "grid_auto_columns": null,
            "grid_auto_flow": null,
            "grid_auto_rows": null,
            "grid_column": null,
            "grid_gap": null,
            "grid_row": null,
            "grid_template_areas": null,
            "grid_template_columns": null,
            "grid_template_rows": null,
            "height": null,
            "justify_content": null,
            "justify_items": null,
            "left": null,
            "margin": null,
            "max_height": null,
            "max_width": null,
            "min_height": null,
            "min_width": null,
            "object_fit": null,
            "object_position": null,
            "order": null,
            "overflow": null,
            "overflow_x": null,
            "overflow_y": null,
            "padding": null,
            "right": null,
            "top": null,
            "visibility": null,
            "width": null
          }
        },
        "e2d2494572d24f268013dc5287f96a4e": {
          "model_module": "@jupyter-widgets/controls",
          "model_name": "DescriptionStyleModel",
          "model_module_version": "1.5.0",
          "state": {
            "_model_module": "@jupyter-widgets/controls",
            "_model_module_version": "1.5.0",
            "_model_name": "DescriptionStyleModel",
            "_view_count": null,
            "_view_module": "@jupyter-widgets/base",
            "_view_module_version": "1.2.0",
            "_view_name": "StyleView",
            "description_width": ""
          }
        },
        "d99b1e35466c43899bb2a7a0de1c2943": {
          "model_module": "@jupyter-widgets/base",
          "model_name": "LayoutModel",
          "model_module_version": "1.2.0",
          "state": {
            "_model_module": "@jupyter-widgets/base",
            "_model_module_version": "1.2.0",
            "_model_name": "LayoutModel",
            "_view_count": null,
            "_view_module": "@jupyter-widgets/base",
            "_view_module_version": "1.2.0",
            "_view_name": "LayoutView",
            "align_content": null,
            "align_items": null,
            "align_self": null,
            "border": null,
            "bottom": null,
            "display": null,
            "flex": null,
            "flex_flow": null,
            "grid_area": null,
            "grid_auto_columns": null,
            "grid_auto_flow": null,
            "grid_auto_rows": null,
            "grid_column": null,
            "grid_gap": null,
            "grid_row": null,
            "grid_template_areas": null,
            "grid_template_columns": null,
            "grid_template_rows": null,
            "height": null,
            "justify_content": null,
            "justify_items": null,
            "left": null,
            "margin": null,
            "max_height": null,
            "max_width": null,
            "min_height": null,
            "min_width": null,
            "object_fit": null,
            "object_position": null,
            "order": null,
            "overflow": null,
            "overflow_x": null,
            "overflow_y": null,
            "padding": null,
            "right": null,
            "top": null,
            "visibility": null,
            "width": null
          }
        },
        "102f6b148dbb494eb2ca4946546275d8": {
          "model_module": "@jupyter-widgets/controls",
          "model_name": "ProgressStyleModel",
          "model_module_version": "1.5.0",
          "state": {
            "_model_module": "@jupyter-widgets/controls",
            "_model_module_version": "1.5.0",
            "_model_name": "ProgressStyleModel",
            "_view_count": null,
            "_view_module": "@jupyter-widgets/base",
            "_view_module_version": "1.2.0",
            "_view_name": "StyleView",
            "bar_color": null,
            "description_width": ""
          }
        },
        "d585e82b383c4c44bd0f80fa8a1fed0c": {
          "model_module": "@jupyter-widgets/base",
          "model_name": "LayoutModel",
          "model_module_version": "1.2.0",
          "state": {
            "_model_module": "@jupyter-widgets/base",
            "_model_module_version": "1.2.0",
            "_model_name": "LayoutModel",
            "_view_count": null,
            "_view_module": "@jupyter-widgets/base",
            "_view_module_version": "1.2.0",
            "_view_name": "LayoutView",
            "align_content": null,
            "align_items": null,
            "align_self": null,
            "border": null,
            "bottom": null,
            "display": null,
            "flex": null,
            "flex_flow": null,
            "grid_area": null,
            "grid_auto_columns": null,
            "grid_auto_flow": null,
            "grid_auto_rows": null,
            "grid_column": null,
            "grid_gap": null,
            "grid_row": null,
            "grid_template_areas": null,
            "grid_template_columns": null,
            "grid_template_rows": null,
            "height": null,
            "justify_content": null,
            "justify_items": null,
            "left": null,
            "margin": null,
            "max_height": null,
            "max_width": null,
            "min_height": null,
            "min_width": null,
            "object_fit": null,
            "object_position": null,
            "order": null,
            "overflow": null,
            "overflow_x": null,
            "overflow_y": null,
            "padding": null,
            "right": null,
            "top": null,
            "visibility": null,
            "width": null
          }
        },
        "3760140790044d5aade22d2eae1d8751": {
          "model_module": "@jupyter-widgets/controls",
          "model_name": "DescriptionStyleModel",
          "model_module_version": "1.5.0",
          "state": {
            "_model_module": "@jupyter-widgets/controls",
            "_model_module_version": "1.5.0",
            "_model_name": "DescriptionStyleModel",
            "_view_count": null,
            "_view_module": "@jupyter-widgets/base",
            "_view_module_version": "1.2.0",
            "_view_name": "StyleView",
            "description_width": ""
          }
        },
        "e6f8ca6f005f45528eaf1988fa984648": {
          "model_module": "@jupyter-widgets/controls",
          "model_name": "HBoxModel",
          "model_module_version": "1.5.0",
          "state": {
            "_dom_classes": [],
            "_model_module": "@jupyter-widgets/controls",
            "_model_module_version": "1.5.0",
            "_model_name": "HBoxModel",
            "_view_count": null,
            "_view_module": "@jupyter-widgets/controls",
            "_view_module_version": "1.5.0",
            "_view_name": "HBoxView",
            "box_style": "",
            "children": [
              "IPY_MODEL_92b85f90f785494da5fab036f07b9529",
              "IPY_MODEL_a04705791b094077b85400f699591482",
              "IPY_MODEL_4e0e08b9012f471e858da2a7af6eddde"
            ],
            "layout": "IPY_MODEL_d682667af83b4f84964a00b00c51aa1c"
          }
        },
        "92b85f90f785494da5fab036f07b9529": {
          "model_module": "@jupyter-widgets/controls",
          "model_name": "HTMLModel",
          "model_module_version": "1.5.0",
          "state": {
            "_dom_classes": [],
            "_model_module": "@jupyter-widgets/controls",
            "_model_module_version": "1.5.0",
            "_model_name": "HTMLModel",
            "_view_count": null,
            "_view_module": "@jupyter-widgets/controls",
            "_view_module_version": "1.5.0",
            "_view_name": "HTMLView",
            "description": "",
            "description_tooltip": null,
            "layout": "IPY_MODEL_7482c4a0a87c40af98eb3ede1299489f",
            "placeholder": "​",
            "style": "IPY_MODEL_affd98b6786d4d45a168ac0f0da0d1c3",
            "value": "Downloading (…)lve/main/config.json: 100%"
          }
        },
        "a04705791b094077b85400f699591482": {
          "model_module": "@jupyter-widgets/controls",
          "model_name": "FloatProgressModel",
          "model_module_version": "1.5.0",
          "state": {
            "_dom_classes": [],
            "_model_module": "@jupyter-widgets/controls",
            "_model_module_version": "1.5.0",
            "_model_name": "FloatProgressModel",
            "_view_count": null,
            "_view_module": "@jupyter-widgets/controls",
            "_view_module_version": "1.5.0",
            "_view_name": "ProgressView",
            "bar_style": "success",
            "description": "",
            "description_tooltip": null,
            "layout": "IPY_MODEL_a0403abc57b04ec8a29bbf531648af66",
            "max": 794,
            "min": 0,
            "orientation": "horizontal",
            "style": "IPY_MODEL_5276738679074e87b072a77be4bbedcb",
            "value": 794
          }
        },
        "4e0e08b9012f471e858da2a7af6eddde": {
          "model_module": "@jupyter-widgets/controls",
          "model_name": "HTMLModel",
          "model_module_version": "1.5.0",
          "state": {
            "_dom_classes": [],
            "_model_module": "@jupyter-widgets/controls",
            "_model_module_version": "1.5.0",
            "_model_name": "HTMLModel",
            "_view_count": null,
            "_view_module": "@jupyter-widgets/controls",
            "_view_module_version": "1.5.0",
            "_view_name": "HTMLView",
            "description": "",
            "description_tooltip": null,
            "layout": "IPY_MODEL_f0cf683d0a6e4ad6a85fcd079d696111",
            "placeholder": "​",
            "style": "IPY_MODEL_7052c520ad874292bac4d4daa10af7a4",
            "value": " 794/794 [00:00&lt;00:00, 987B/s]"
          }
        },
        "d682667af83b4f84964a00b00c51aa1c": {
          "model_module": "@jupyter-widgets/base",
          "model_name": "LayoutModel",
          "model_module_version": "1.2.0",
          "state": {
            "_model_module": "@jupyter-widgets/base",
            "_model_module_version": "1.2.0",
            "_model_name": "LayoutModel",
            "_view_count": null,
            "_view_module": "@jupyter-widgets/base",
            "_view_module_version": "1.2.0",
            "_view_name": "LayoutView",
            "align_content": null,
            "align_items": null,
            "align_self": null,
            "border": null,
            "bottom": null,
            "display": null,
            "flex": null,
            "flex_flow": null,
            "grid_area": null,
            "grid_auto_columns": null,
            "grid_auto_flow": null,
            "grid_auto_rows": null,
            "grid_column": null,
            "grid_gap": null,
            "grid_row": null,
            "grid_template_areas": null,
            "grid_template_columns": null,
            "grid_template_rows": null,
            "height": null,
            "justify_content": null,
            "justify_items": null,
            "left": null,
            "margin": null,
            "max_height": null,
            "max_width": null,
            "min_height": null,
            "min_width": null,
            "object_fit": null,
            "object_position": null,
            "order": null,
            "overflow": null,
            "overflow_x": null,
            "overflow_y": null,
            "padding": null,
            "right": null,
            "top": null,
            "visibility": null,
            "width": null
          }
        },
        "7482c4a0a87c40af98eb3ede1299489f": {
          "model_module": "@jupyter-widgets/base",
          "model_name": "LayoutModel",
          "model_module_version": "1.2.0",
          "state": {
            "_model_module": "@jupyter-widgets/base",
            "_model_module_version": "1.2.0",
            "_model_name": "LayoutModel",
            "_view_count": null,
            "_view_module": "@jupyter-widgets/base",
            "_view_module_version": "1.2.0",
            "_view_name": "LayoutView",
            "align_content": null,
            "align_items": null,
            "align_self": null,
            "border": null,
            "bottom": null,
            "display": null,
            "flex": null,
            "flex_flow": null,
            "grid_area": null,
            "grid_auto_columns": null,
            "grid_auto_flow": null,
            "grid_auto_rows": null,
            "grid_column": null,
            "grid_gap": null,
            "grid_row": null,
            "grid_template_areas": null,
            "grid_template_columns": null,
            "grid_template_rows": null,
            "height": null,
            "justify_content": null,
            "justify_items": null,
            "left": null,
            "margin": null,
            "max_height": null,
            "max_width": null,
            "min_height": null,
            "min_width": null,
            "object_fit": null,
            "object_position": null,
            "order": null,
            "overflow": null,
            "overflow_x": null,
            "overflow_y": null,
            "padding": null,
            "right": null,
            "top": null,
            "visibility": null,
            "width": null
          }
        },
        "affd98b6786d4d45a168ac0f0da0d1c3": {
          "model_module": "@jupyter-widgets/controls",
          "model_name": "DescriptionStyleModel",
          "model_module_version": "1.5.0",
          "state": {
            "_model_module": "@jupyter-widgets/controls",
            "_model_module_version": "1.5.0",
            "_model_name": "DescriptionStyleModel",
            "_view_count": null,
            "_view_module": "@jupyter-widgets/base",
            "_view_module_version": "1.2.0",
            "_view_name": "StyleView",
            "description_width": ""
          }
        },
        "a0403abc57b04ec8a29bbf531648af66": {
          "model_module": "@jupyter-widgets/base",
          "model_name": "LayoutModel",
          "model_module_version": "1.2.0",
          "state": {
            "_model_module": "@jupyter-widgets/base",
            "_model_module_version": "1.2.0",
            "_model_name": "LayoutModel",
            "_view_count": null,
            "_view_module": "@jupyter-widgets/base",
            "_view_module_version": "1.2.0",
            "_view_name": "LayoutView",
            "align_content": null,
            "align_items": null,
            "align_self": null,
            "border": null,
            "bottom": null,
            "display": null,
            "flex": null,
            "flex_flow": null,
            "grid_area": null,
            "grid_auto_columns": null,
            "grid_auto_flow": null,
            "grid_auto_rows": null,
            "grid_column": null,
            "grid_gap": null,
            "grid_row": null,
            "grid_template_areas": null,
            "grid_template_columns": null,
            "grid_template_rows": null,
            "height": null,
            "justify_content": null,
            "justify_items": null,
            "left": null,
            "margin": null,
            "max_height": null,
            "max_width": null,
            "min_height": null,
            "min_width": null,
            "object_fit": null,
            "object_position": null,
            "order": null,
            "overflow": null,
            "overflow_x": null,
            "overflow_y": null,
            "padding": null,
            "right": null,
            "top": null,
            "visibility": null,
            "width": null
          }
        },
        "5276738679074e87b072a77be4bbedcb": {
          "model_module": "@jupyter-widgets/controls",
          "model_name": "ProgressStyleModel",
          "model_module_version": "1.5.0",
          "state": {
            "_model_module": "@jupyter-widgets/controls",
            "_model_module_version": "1.5.0",
            "_model_name": "ProgressStyleModel",
            "_view_count": null,
            "_view_module": "@jupyter-widgets/base",
            "_view_module_version": "1.2.0",
            "_view_name": "StyleView",
            "bar_color": null,
            "description_width": ""
          }
        },
        "f0cf683d0a6e4ad6a85fcd079d696111": {
          "model_module": "@jupyter-widgets/base",
          "model_name": "LayoutModel",
          "model_module_version": "1.2.0",
          "state": {
            "_model_module": "@jupyter-widgets/base",
            "_model_module_version": "1.2.0",
            "_model_name": "LayoutModel",
            "_view_count": null,
            "_view_module": "@jupyter-widgets/base",
            "_view_module_version": "1.2.0",
            "_view_name": "LayoutView",
            "align_content": null,
            "align_items": null,
            "align_self": null,
            "border": null,
            "bottom": null,
            "display": null,
            "flex": null,
            "flex_flow": null,
            "grid_area": null,
            "grid_auto_columns": null,
            "grid_auto_flow": null,
            "grid_auto_rows": null,
            "grid_column": null,
            "grid_gap": null,
            "grid_row": null,
            "grid_template_areas": null,
            "grid_template_columns": null,
            "grid_template_rows": null,
            "height": null,
            "justify_content": null,
            "justify_items": null,
            "left": null,
            "margin": null,
            "max_height": null,
            "max_width": null,
            "min_height": null,
            "min_width": null,
            "object_fit": null,
            "object_position": null,
            "order": null,
            "overflow": null,
            "overflow_x": null,
            "overflow_y": null,
            "padding": null,
            "right": null,
            "top": null,
            "visibility": null,
            "width": null
          }
        },
        "7052c520ad874292bac4d4daa10af7a4": {
          "model_module": "@jupyter-widgets/controls",
          "model_name": "DescriptionStyleModel",
          "model_module_version": "1.5.0",
          "state": {
            "_model_module": "@jupyter-widgets/controls",
            "_model_module_version": "1.5.0",
            "_model_name": "DescriptionStyleModel",
            "_view_count": null,
            "_view_module": "@jupyter-widgets/base",
            "_view_module_version": "1.2.0",
            "_view_name": "StyleView",
            "description_width": ""
          }
        },
        "258ca6ad718b4c4696aef03900c82130": {
          "model_module": "@jupyter-widgets/controls",
          "model_name": "HBoxModel",
          "model_module_version": "1.5.0",
          "state": {
            "_dom_classes": [],
            "_model_module": "@jupyter-widgets/controls",
            "_model_module_version": "1.5.0",
            "_model_name": "HBoxModel",
            "_view_count": null,
            "_view_module": "@jupyter-widgets/controls",
            "_view_module_version": "1.5.0",
            "_view_name": "HBoxView",
            "box_style": "",
            "children": [
              "IPY_MODEL_aae7513d5d294071b4ddf286c0b8e913",
              "IPY_MODEL_197de748aa25420a8f7046b7b7e47b58",
              "IPY_MODEL_5843a7e6ea624fca94919c2298e4c43b"
            ],
            "layout": "IPY_MODEL_d97f0d6adfef462eb4320ac4e70a51ce"
          }
        },
        "aae7513d5d294071b4ddf286c0b8e913": {
          "model_module": "@jupyter-widgets/controls",
          "model_name": "HTMLModel",
          "model_module_version": "1.5.0",
          "state": {
            "_dom_classes": [],
            "_model_module": "@jupyter-widgets/controls",
            "_model_module_version": "1.5.0",
            "_model_name": "HTMLModel",
            "_view_count": null,
            "_view_module": "@jupyter-widgets/controls",
            "_view_module_version": "1.5.0",
            "_view_name": "HTMLView",
            "description": "",
            "description_tooltip": null,
            "layout": "IPY_MODEL_827f2a59fa3d4208a36786eb596772f2",
            "placeholder": "​",
            "style": "IPY_MODEL_2acbcedaf1fa4ced8dc8df6e335b7935",
            "value": "Downloading (…)solve/main/vocab.txt: 100%"
          }
        },
        "197de748aa25420a8f7046b7b7e47b58": {
          "model_module": "@jupyter-widgets/controls",
          "model_name": "FloatProgressModel",
          "model_module_version": "1.5.0",
          "state": {
            "_dom_classes": [],
            "_model_module": "@jupyter-widgets/controls",
            "_model_module_version": "1.5.0",
            "_model_name": "FloatProgressModel",
            "_view_count": null,
            "_view_module": "@jupyter-widgets/controls",
            "_view_module_version": "1.5.0",
            "_view_name": "ProgressView",
            "bar_style": "success",
            "description": "",
            "description_tooltip": null,
            "layout": "IPY_MODEL_7b3d2b156a2044dda91d6ae18fcfb103",
            "max": 231508,
            "min": 0,
            "orientation": "horizontal",
            "style": "IPY_MODEL_93928c4388e84aa395ff4b7b1b34e08a",
            "value": 231508
          }
        },
        "5843a7e6ea624fca94919c2298e4c43b": {
          "model_module": "@jupyter-widgets/controls",
          "model_name": "HTMLModel",
          "model_module_version": "1.5.0",
          "state": {
            "_dom_classes": [],
            "_model_module": "@jupyter-widgets/controls",
            "_model_module_version": "1.5.0",
            "_model_name": "HTMLModel",
            "_view_count": null,
            "_view_module": "@jupyter-widgets/controls",
            "_view_module_version": "1.5.0",
            "_view_name": "HTMLView",
            "description": "",
            "description_tooltip": null,
            "layout": "IPY_MODEL_4b3980ccbebc4dbfa5afcb045abd444e",
            "placeholder": "​",
            "style": "IPY_MODEL_ca781963eeb443b4becfa64315521178",
            "value": " 232k/232k [00:01&lt;00:00, 124kB/s]"
          }
        },
        "d97f0d6adfef462eb4320ac4e70a51ce": {
          "model_module": "@jupyter-widgets/base",
          "model_name": "LayoutModel",
          "model_module_version": "1.2.0",
          "state": {
            "_model_module": "@jupyter-widgets/base",
            "_model_module_version": "1.2.0",
            "_model_name": "LayoutModel",
            "_view_count": null,
            "_view_module": "@jupyter-widgets/base",
            "_view_module_version": "1.2.0",
            "_view_name": "LayoutView",
            "align_content": null,
            "align_items": null,
            "align_self": null,
            "border": null,
            "bottom": null,
            "display": null,
            "flex": null,
            "flex_flow": null,
            "grid_area": null,
            "grid_auto_columns": null,
            "grid_auto_flow": null,
            "grid_auto_rows": null,
            "grid_column": null,
            "grid_gap": null,
            "grid_row": null,
            "grid_template_areas": null,
            "grid_template_columns": null,
            "grid_template_rows": null,
            "height": null,
            "justify_content": null,
            "justify_items": null,
            "left": null,
            "margin": null,
            "max_height": null,
            "max_width": null,
            "min_height": null,
            "min_width": null,
            "object_fit": null,
            "object_position": null,
            "order": null,
            "overflow": null,
            "overflow_x": null,
            "overflow_y": null,
            "padding": null,
            "right": null,
            "top": null,
            "visibility": null,
            "width": null
          }
        },
        "827f2a59fa3d4208a36786eb596772f2": {
          "model_module": "@jupyter-widgets/base",
          "model_name": "LayoutModel",
          "model_module_version": "1.2.0",
          "state": {
            "_model_module": "@jupyter-widgets/base",
            "_model_module_version": "1.2.0",
            "_model_name": "LayoutModel",
            "_view_count": null,
            "_view_module": "@jupyter-widgets/base",
            "_view_module_version": "1.2.0",
            "_view_name": "LayoutView",
            "align_content": null,
            "align_items": null,
            "align_self": null,
            "border": null,
            "bottom": null,
            "display": null,
            "flex": null,
            "flex_flow": null,
            "grid_area": null,
            "grid_auto_columns": null,
            "grid_auto_flow": null,
            "grid_auto_rows": null,
            "grid_column": null,
            "grid_gap": null,
            "grid_row": null,
            "grid_template_areas": null,
            "grid_template_columns": null,
            "grid_template_rows": null,
            "height": null,
            "justify_content": null,
            "justify_items": null,
            "left": null,
            "margin": null,
            "max_height": null,
            "max_width": null,
            "min_height": null,
            "min_width": null,
            "object_fit": null,
            "object_position": null,
            "order": null,
            "overflow": null,
            "overflow_x": null,
            "overflow_y": null,
            "padding": null,
            "right": null,
            "top": null,
            "visibility": null,
            "width": null
          }
        },
        "2acbcedaf1fa4ced8dc8df6e335b7935": {
          "model_module": "@jupyter-widgets/controls",
          "model_name": "DescriptionStyleModel",
          "model_module_version": "1.5.0",
          "state": {
            "_model_module": "@jupyter-widgets/controls",
            "_model_module_version": "1.5.0",
            "_model_name": "DescriptionStyleModel",
            "_view_count": null,
            "_view_module": "@jupyter-widgets/base",
            "_view_module_version": "1.2.0",
            "_view_name": "StyleView",
            "description_width": ""
          }
        },
        "7b3d2b156a2044dda91d6ae18fcfb103": {
          "model_module": "@jupyter-widgets/base",
          "model_name": "LayoutModel",
          "model_module_version": "1.2.0",
          "state": {
            "_model_module": "@jupyter-widgets/base",
            "_model_module_version": "1.2.0",
            "_model_name": "LayoutModel",
            "_view_count": null,
            "_view_module": "@jupyter-widgets/base",
            "_view_module_version": "1.2.0",
            "_view_name": "LayoutView",
            "align_content": null,
            "align_items": null,
            "align_self": null,
            "border": null,
            "bottom": null,
            "display": null,
            "flex": null,
            "flex_flow": null,
            "grid_area": null,
            "grid_auto_columns": null,
            "grid_auto_flow": null,
            "grid_auto_rows": null,
            "grid_column": null,
            "grid_gap": null,
            "grid_row": null,
            "grid_template_areas": null,
            "grid_template_columns": null,
            "grid_template_rows": null,
            "height": null,
            "justify_content": null,
            "justify_items": null,
            "left": null,
            "margin": null,
            "max_height": null,
            "max_width": null,
            "min_height": null,
            "min_width": null,
            "object_fit": null,
            "object_position": null,
            "order": null,
            "overflow": null,
            "overflow_x": null,
            "overflow_y": null,
            "padding": null,
            "right": null,
            "top": null,
            "visibility": null,
            "width": null
          }
        },
        "93928c4388e84aa395ff4b7b1b34e08a": {
          "model_module": "@jupyter-widgets/controls",
          "model_name": "ProgressStyleModel",
          "model_module_version": "1.5.0",
          "state": {
            "_model_module": "@jupyter-widgets/controls",
            "_model_module_version": "1.5.0",
            "_model_name": "ProgressStyleModel",
            "_view_count": null,
            "_view_module": "@jupyter-widgets/base",
            "_view_module_version": "1.2.0",
            "_view_name": "StyleView",
            "bar_color": null,
            "description_width": ""
          }
        },
        "4b3980ccbebc4dbfa5afcb045abd444e": {
          "model_module": "@jupyter-widgets/base",
          "model_name": "LayoutModel",
          "model_module_version": "1.2.0",
          "state": {
            "_model_module": "@jupyter-widgets/base",
            "_model_module_version": "1.2.0",
            "_model_name": "LayoutModel",
            "_view_count": null,
            "_view_module": "@jupyter-widgets/base",
            "_view_module_version": "1.2.0",
            "_view_name": "LayoutView",
            "align_content": null,
            "align_items": null,
            "align_self": null,
            "border": null,
            "bottom": null,
            "display": null,
            "flex": null,
            "flex_flow": null,
            "grid_area": null,
            "grid_auto_columns": null,
            "grid_auto_flow": null,
            "grid_auto_rows": null,
            "grid_column": null,
            "grid_gap": null,
            "grid_row": null,
            "grid_template_areas": null,
            "grid_template_columns": null,
            "grid_template_rows": null,
            "height": null,
            "justify_content": null,
            "justify_items": null,
            "left": null,
            "margin": null,
            "max_height": null,
            "max_width": null,
            "min_height": null,
            "min_width": null,
            "object_fit": null,
            "object_position": null,
            "order": null,
            "overflow": null,
            "overflow_x": null,
            "overflow_y": null,
            "padding": null,
            "right": null,
            "top": null,
            "visibility": null,
            "width": null
          }
        },
        "ca781963eeb443b4becfa64315521178": {
          "model_module": "@jupyter-widgets/controls",
          "model_name": "DescriptionStyleModel",
          "model_module_version": "1.5.0",
          "state": {
            "_model_module": "@jupyter-widgets/controls",
            "_model_module_version": "1.5.0",
            "_model_name": "DescriptionStyleModel",
            "_view_count": null,
            "_view_module": "@jupyter-widgets/base",
            "_view_module_version": "1.2.0",
            "_view_name": "StyleView",
            "description_width": ""
          }
        },
        "8d33fc40c82f449481bd8497e4195ddc": {
          "model_module": "@jupyter-widgets/controls",
          "model_name": "HBoxModel",
          "model_module_version": "1.5.0",
          "state": {
            "_dom_classes": [],
            "_model_module": "@jupyter-widgets/controls",
            "_model_module_version": "1.5.0",
            "_model_name": "HBoxModel",
            "_view_count": null,
            "_view_module": "@jupyter-widgets/controls",
            "_view_module_version": "1.5.0",
            "_view_name": "HBoxView",
            "box_style": "",
            "children": [
              "IPY_MODEL_531fe982c94446abb42c314b62fc0794",
              "IPY_MODEL_c78b07c0e2ad4ec98f2545d73d015a26",
              "IPY_MODEL_26a93e9f8dea491184c0715843975b60"
            ],
            "layout": "IPY_MODEL_d64ff62c15854d3ba590aff174927764"
          }
        },
        "531fe982c94446abb42c314b62fc0794": {
          "model_module": "@jupyter-widgets/controls",
          "model_name": "HTMLModel",
          "model_module_version": "1.5.0",
          "state": {
            "_dom_classes": [],
            "_model_module": "@jupyter-widgets/controls",
            "_model_module_version": "1.5.0",
            "_model_name": "HTMLModel",
            "_view_count": null,
            "_view_module": "@jupyter-widgets/controls",
            "_view_module_version": "1.5.0",
            "_view_name": "HTMLView",
            "description": "",
            "description_tooltip": null,
            "layout": "IPY_MODEL_0aea60dc58fa4f469ffd2812accb3128",
            "placeholder": "​",
            "style": "IPY_MODEL_ab69fc7a63974f2bb5485a139ef5a664",
            "value": "Downloading (…)cial_tokens_map.json: 100%"
          }
        },
        "c78b07c0e2ad4ec98f2545d73d015a26": {
          "model_module": "@jupyter-widgets/controls",
          "model_name": "FloatProgressModel",
          "model_module_version": "1.5.0",
          "state": {
            "_dom_classes": [],
            "_model_module": "@jupyter-widgets/controls",
            "_model_module_version": "1.5.0",
            "_model_name": "FloatProgressModel",
            "_view_count": null,
            "_view_module": "@jupyter-widgets/controls",
            "_view_module_version": "1.5.0",
            "_view_name": "ProgressView",
            "bar_style": "success",
            "description": "",
            "description_tooltip": null,
            "layout": "IPY_MODEL_7bccecfa5f4a4cc1b6ce5238ecc0cc6e",
            "max": 112,
            "min": 0,
            "orientation": "horizontal",
            "style": "IPY_MODEL_68721a30df6c4367a460b233fecc50c6",
            "value": 112
          }
        },
        "26a93e9f8dea491184c0715843975b60": {
          "model_module": "@jupyter-widgets/controls",
          "model_name": "HTMLModel",
          "model_module_version": "1.5.0",
          "state": {
            "_dom_classes": [],
            "_model_module": "@jupyter-widgets/controls",
            "_model_module_version": "1.5.0",
            "_model_name": "HTMLModel",
            "_view_count": null,
            "_view_module": "@jupyter-widgets/controls",
            "_view_module_version": "1.5.0",
            "_view_name": "HTMLView",
            "description": "",
            "description_tooltip": null,
            "layout": "IPY_MODEL_ff417e498b9f4f80b2bdf67aec430596",
            "placeholder": "​",
            "style": "IPY_MODEL_09eba83b3f9c4f6091aff98c73aff1c9",
            "value": " 112/112 [00:00&lt;00:00, 195B/s]"
          }
        },
        "d64ff62c15854d3ba590aff174927764": {
          "model_module": "@jupyter-widgets/base",
          "model_name": "LayoutModel",
          "model_module_version": "1.2.0",
          "state": {
            "_model_module": "@jupyter-widgets/base",
            "_model_module_version": "1.2.0",
            "_model_name": "LayoutModel",
            "_view_count": null,
            "_view_module": "@jupyter-widgets/base",
            "_view_module_version": "1.2.0",
            "_view_name": "LayoutView",
            "align_content": null,
            "align_items": null,
            "align_self": null,
            "border": null,
            "bottom": null,
            "display": null,
            "flex": null,
            "flex_flow": null,
            "grid_area": null,
            "grid_auto_columns": null,
            "grid_auto_flow": null,
            "grid_auto_rows": null,
            "grid_column": null,
            "grid_gap": null,
            "grid_row": null,
            "grid_template_areas": null,
            "grid_template_columns": null,
            "grid_template_rows": null,
            "height": null,
            "justify_content": null,
            "justify_items": null,
            "left": null,
            "margin": null,
            "max_height": null,
            "max_width": null,
            "min_height": null,
            "min_width": null,
            "object_fit": null,
            "object_position": null,
            "order": null,
            "overflow": null,
            "overflow_x": null,
            "overflow_y": null,
            "padding": null,
            "right": null,
            "top": null,
            "visibility": null,
            "width": null
          }
        },
        "0aea60dc58fa4f469ffd2812accb3128": {
          "model_module": "@jupyter-widgets/base",
          "model_name": "LayoutModel",
          "model_module_version": "1.2.0",
          "state": {
            "_model_module": "@jupyter-widgets/base",
            "_model_module_version": "1.2.0",
            "_model_name": "LayoutModel",
            "_view_count": null,
            "_view_module": "@jupyter-widgets/base",
            "_view_module_version": "1.2.0",
            "_view_name": "LayoutView",
            "align_content": null,
            "align_items": null,
            "align_self": null,
            "border": null,
            "bottom": null,
            "display": null,
            "flex": null,
            "flex_flow": null,
            "grid_area": null,
            "grid_auto_columns": null,
            "grid_auto_flow": null,
            "grid_auto_rows": null,
            "grid_column": null,
            "grid_gap": null,
            "grid_row": null,
            "grid_template_areas": null,
            "grid_template_columns": null,
            "grid_template_rows": null,
            "height": null,
            "justify_content": null,
            "justify_items": null,
            "left": null,
            "margin": null,
            "max_height": null,
            "max_width": null,
            "min_height": null,
            "min_width": null,
            "object_fit": null,
            "object_position": null,
            "order": null,
            "overflow": null,
            "overflow_x": null,
            "overflow_y": null,
            "padding": null,
            "right": null,
            "top": null,
            "visibility": null,
            "width": null
          }
        },
        "ab69fc7a63974f2bb5485a139ef5a664": {
          "model_module": "@jupyter-widgets/controls",
          "model_name": "DescriptionStyleModel",
          "model_module_version": "1.5.0",
          "state": {
            "_model_module": "@jupyter-widgets/controls",
            "_model_module_version": "1.5.0",
            "_model_name": "DescriptionStyleModel",
            "_view_count": null,
            "_view_module": "@jupyter-widgets/base",
            "_view_module_version": "1.2.0",
            "_view_name": "StyleView",
            "description_width": ""
          }
        },
        "7bccecfa5f4a4cc1b6ce5238ecc0cc6e": {
          "model_module": "@jupyter-widgets/base",
          "model_name": "LayoutModel",
          "model_module_version": "1.2.0",
          "state": {
            "_model_module": "@jupyter-widgets/base",
            "_model_module_version": "1.2.0",
            "_model_name": "LayoutModel",
            "_view_count": null,
            "_view_module": "@jupyter-widgets/base",
            "_view_module_version": "1.2.0",
            "_view_name": "LayoutView",
            "align_content": null,
            "align_items": null,
            "align_self": null,
            "border": null,
            "bottom": null,
            "display": null,
            "flex": null,
            "flex_flow": null,
            "grid_area": null,
            "grid_auto_columns": null,
            "grid_auto_flow": null,
            "grid_auto_rows": null,
            "grid_column": null,
            "grid_gap": null,
            "grid_row": null,
            "grid_template_areas": null,
            "grid_template_columns": null,
            "grid_template_rows": null,
            "height": null,
            "justify_content": null,
            "justify_items": null,
            "left": null,
            "margin": null,
            "max_height": null,
            "max_width": null,
            "min_height": null,
            "min_width": null,
            "object_fit": null,
            "object_position": null,
            "order": null,
            "overflow": null,
            "overflow_x": null,
            "overflow_y": null,
            "padding": null,
            "right": null,
            "top": null,
            "visibility": null,
            "width": null
          }
        },
        "68721a30df6c4367a460b233fecc50c6": {
          "model_module": "@jupyter-widgets/controls",
          "model_name": "ProgressStyleModel",
          "model_module_version": "1.5.0",
          "state": {
            "_model_module": "@jupyter-widgets/controls",
            "_model_module_version": "1.5.0",
            "_model_name": "ProgressStyleModel",
            "_view_count": null,
            "_view_module": "@jupyter-widgets/base",
            "_view_module_version": "1.2.0",
            "_view_name": "StyleView",
            "bar_color": null,
            "description_width": ""
          }
        },
        "ff417e498b9f4f80b2bdf67aec430596": {
          "model_module": "@jupyter-widgets/base",
          "model_name": "LayoutModel",
          "model_module_version": "1.2.0",
          "state": {
            "_model_module": "@jupyter-widgets/base",
            "_model_module_version": "1.2.0",
            "_model_name": "LayoutModel",
            "_view_count": null,
            "_view_module": "@jupyter-widgets/base",
            "_view_module_version": "1.2.0",
            "_view_name": "LayoutView",
            "align_content": null,
            "align_items": null,
            "align_self": null,
            "border": null,
            "bottom": null,
            "display": null,
            "flex": null,
            "flex_flow": null,
            "grid_area": null,
            "grid_auto_columns": null,
            "grid_auto_flow": null,
            "grid_auto_rows": null,
            "grid_column": null,
            "grid_gap": null,
            "grid_row": null,
            "grid_template_areas": null,
            "grid_template_columns": null,
            "grid_template_rows": null,
            "height": null,
            "justify_content": null,
            "justify_items": null,
            "left": null,
            "margin": null,
            "max_height": null,
            "max_width": null,
            "min_height": null,
            "min_width": null,
            "object_fit": null,
            "object_position": null,
            "order": null,
            "overflow": null,
            "overflow_x": null,
            "overflow_y": null,
            "padding": null,
            "right": null,
            "top": null,
            "visibility": null,
            "width": null
          }
        },
        "09eba83b3f9c4f6091aff98c73aff1c9": {
          "model_module": "@jupyter-widgets/controls",
          "model_name": "DescriptionStyleModel",
          "model_module_version": "1.5.0",
          "state": {
            "_model_module": "@jupyter-widgets/controls",
            "_model_module_version": "1.5.0",
            "_model_name": "DescriptionStyleModel",
            "_view_count": null,
            "_view_module": "@jupyter-widgets/base",
            "_view_module_version": "1.2.0",
            "_view_name": "StyleView",
            "description_width": ""
          }
        }
      }
    }
  },
  "nbformat": 4,
  "nbformat_minor": 0
}