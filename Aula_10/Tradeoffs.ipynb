{
  "cells": [
    {
      "cell_type": "markdown",
      "metadata": {
        "id": "3drPVvJ-orF1"
      },
      "source": [
        "# Efficiency vs quality tradeoffs\n",
        "\n",
        "Author: Monique Monteiro - moniquelouise@gmail.com\n",
        "\n"
      ]
    },
    {
      "cell_type": "code",
      "execution_count": 3,
      "metadata": {
        "colab": {
          "base_uri": "https://localhost:8080/"
        },
        "id": "qJ3_Poc4ouzM",
        "outputId": "a65608d1-8bdf-4e60-a560-dc5813a580b1"
      },
      "outputs": [
        {
          "output_type": "stream",
          "name": "stdout",
          "text": [
            "Mounted at /content/gdrive\n"
          ]
        }
      ],
      "source": [
        "from google.colab import drive\n",
        "drive.mount('/content/gdrive', force_remount=True)"
      ]
    },
    {
      "cell_type": "code",
      "execution_count": 4,
      "metadata": {
        "id": "lV0aDFt4o3iW"
      },
      "outputs": [],
      "source": [
        "main_dir = \"/content/gdrive/MyDrive/Unicamp-aula-10\""
      ]
    },
    {
      "cell_type": "markdown",
      "metadata": {
        "id": "5EYi0xNgpJHf"
      },
      "source": [
        "## Libraries installation"
      ]
    },
    {
      "cell_type": "code",
      "execution_count": 5,
      "metadata": {
        "colab": {
          "base_uri": "https://localhost:8080/"
        },
        "id": "cvF-TJxA-gMe",
        "outputId": "05d0401f-af67-444a-c1b2-fb3e82f96787"
      },
      "outputs": [
        {
          "output_type": "stream",
          "name": "stdout",
          "text": [
            "Looking in indexes: https://pypi.org/simple, https://us-python.pkg.dev/colab-wheels/public/simple/\n",
            "Collecting jsonlines\n",
            "  Downloading jsonlines-3.1.0-py3-none-any.whl (8.6 kB)\n",
            "Requirement already satisfied: attrs>=19.2.0 in /usr/local/lib/python3.10/dist-packages (from jsonlines) (23.1.0)\n",
            "Installing collected packages: jsonlines\n",
            "Successfully installed jsonlines-3.1.0\n"
          ]
        }
      ],
      "source": [
        "!pip install jsonlines"
      ]
    },
    {
      "cell_type": "code",
      "execution_count": 6,
      "metadata": {
        "id": "hRh0qAhsKEeW",
        "colab": {
          "base_uri": "https://localhost:8080/"
        },
        "outputId": "890b7997-370d-4b5b-e6ab-48e5cc31c196"
      },
      "outputs": [
        {
          "output_type": "stream",
          "name": "stdout",
          "text": [
            "\u001b[?25l     \u001b[90m━━━━━━━━━━━━━━━━━━━━━━━━━━━━━━━━━━━━━━━━\u001b[0m \u001b[32m0.0/154.1 MB\u001b[0m \u001b[31m?\u001b[0m eta \u001b[36m-:--:--\u001b[0m\r\u001b[2K     \u001b[90m━━━━━━━━━━━━━━━━━━━━━━━━━━━━━━━━━━━━━━━━\u001b[0m \u001b[32m0.3/154.1 MB\u001b[0m \u001b[31m8.1 MB/s\u001b[0m eta \u001b[36m0:00:19\u001b[0m\r\u001b[2K     \u001b[91m╸\u001b[0m\u001b[90m━━━━━━━━━━━━━━━━━━━━━━━━━━━━━━━━━━━━━━━\u001b[0m \u001b[32m2.1/154.1 MB\u001b[0m \u001b[31m31.3 MB/s\u001b[0m eta \u001b[36m0:00:05\u001b[0m\r\u001b[2K     \u001b[91m━━\u001b[0m\u001b[90m╺\u001b[0m\u001b[90m━━━━━━━━━━━━━━━━━━━━━━━━━━━━━━━━━━━━━\u001b[0m \u001b[32m8.8/154.1 MB\u001b[0m \u001b[31m85.1 MB/s\u001b[0m eta \u001b[36m0:00:02\u001b[0m\r\u001b[2K     \u001b[91m━━━\u001b[0m\u001b[91m╸\u001b[0m\u001b[90m━━━━━━━━━━━━━━━━━━━━━━━━━━━━━━━━━━\u001b[0m \u001b[32m14.7/154.1 MB\u001b[0m \u001b[31m196.0 MB/s\u001b[0m eta \u001b[36m0:00:01\u001b[0m\r\u001b[2K     \u001b[91m━━━\u001b[0m\u001b[91m╸\u001b[0m\u001b[90m━━━━━━━━━━━━━━━━━━━━━━━━━━━━━━━━━━\u001b[0m \u001b[32m15.9/154.1 MB\u001b[0m \u001b[31m120.8 MB/s\u001b[0m eta \u001b[36m0:00:02\u001b[0m\r\u001b[2K     \u001b[91m━━━━━\u001b[0m\u001b[90m╺\u001b[0m\u001b[90m━━━━━━━━━━━━━━━━━━━━━━━━━━━━━━━━\u001b[0m \u001b[32m21.7/154.1 MB\u001b[0m \u001b[31m112.4 MB/s\u001b[0m eta \u001b[36m0:00:02\u001b[0m\r\u001b[2K     \u001b[91m━━━━━━━\u001b[0m\u001b[90m╺\u001b[0m\u001b[90m━━━━━━━━━━━━━━━━━━━━━━━━━━━━━━\u001b[0m \u001b[32m28.9/154.1 MB\u001b[0m \u001b[31m188.5 MB/s\u001b[0m eta \u001b[36m0:00:01\u001b[0m\r\u001b[2K     \u001b[91m━━━━━━━━\u001b[0m\u001b[91m╸\u001b[0m\u001b[90m━━━━━━━━━━━━━━━━━━━━━━━━━━━━━\u001b[0m \u001b[32m34.9/154.1 MB\u001b[0m \u001b[31m180.8 MB/s\u001b[0m eta \u001b[36m0:00:01\u001b[0m\r\u001b[2K     \u001b[91m━━━━━━━━━━\u001b[0m\u001b[90m╺\u001b[0m\u001b[90m━━━━━━━━━━━━━━━━━━━━━━━━━━━\u001b[0m \u001b[32m41.7/154.1 MB\u001b[0m \u001b[31m176.9 MB/s\u001b[0m eta \u001b[36m0:00:01\u001b[0m\r\u001b[2K     \u001b[91m━━━━━━━━━━━━\u001b[0m\u001b[90m╺\u001b[0m\u001b[90m━━━━━━━━━━━━━━━━━━━━━━━━━\u001b[0m \u001b[32m49.3/154.1 MB\u001b[0m \u001b[31m217.1 MB/s\u001b[0m eta \u001b[36m0:00:01\u001b[0m\r\u001b[2K     \u001b[91m━━━━━━━━━━━━\u001b[0m\u001b[91m╸\u001b[0m\u001b[90m━━━━━━━━━━━━━━━━━━━━━━━━━\u001b[0m \u001b[32m52.5/154.1 MB\u001b[0m \u001b[31m154.0 MB/s\u001b[0m eta \u001b[36m0:00:01\u001b[0m\r\u001b[2K     \u001b[91m━━━━━━━━━━━━━━\u001b[0m\u001b[91m╸\u001b[0m\u001b[90m━━━━━━━━━━━━━━━━━━━━━━━\u001b[0m \u001b[32m59.3/154.1 MB\u001b[0m \u001b[31m141.8 MB/s\u001b[0m eta \u001b[36m0:00:01\u001b[0m\r\u001b[2K     \u001b[91m━━━━━━━━━━━━━━━━\u001b[0m\u001b[90m╺\u001b[0m\u001b[90m━━━━━━━━━━━━━━━━━━━━━\u001b[0m \u001b[32m65.0/154.1 MB\u001b[0m \u001b[31m199.5 MB/s\u001b[0m eta \u001b[36m0:00:01\u001b[0m\r\u001b[2K     \u001b[91m━━━━━━━━━━━━━━━━━\u001b[0m\u001b[90m╺\u001b[0m\u001b[90m━━━━━━━━━━━━━━━━━━━━\u001b[0m \u001b[32m70.0/154.1 MB\u001b[0m \u001b[31m152.5 MB/s\u001b[0m eta \u001b[36m0:00:01\u001b[0m\r\u001b[2K     \u001b[91m━━━━━━━━━━━━━━━━━━\u001b[0m\u001b[90m╺\u001b[0m\u001b[90m━━━━━━━━━━━━━━━━━━━\u001b[0m \u001b[32m73.9/154.1 MB\u001b[0m \u001b[31m140.6 MB/s\u001b[0m eta \u001b[36m0:00:01\u001b[0m\r\u001b[2K     \u001b[91m━━━━━━━━━━━━━━━━━━━\u001b[0m\u001b[91m╸\u001b[0m\u001b[90m━━━━━━━━━━━━━━━━━━\u001b[0m \u001b[32m80.4/154.1 MB\u001b[0m \u001b[31m149.1 MB/s\u001b[0m eta \u001b[36m0:00:01\u001b[0m\r\u001b[2K     \u001b[91m━━━━━━━━━━━━━━━━━━━━━\u001b[0m\u001b[90m╺\u001b[0m\u001b[90m━━━━━━━━━━━━━━━━\u001b[0m \u001b[32m86.0/154.1 MB\u001b[0m \u001b[31m176.4 MB/s\u001b[0m eta \u001b[36m0:00:01\u001b[0m\r\u001b[2K     \u001b[91m━━━━━━━━━━━━━━━━━━━━━━\u001b[0m\u001b[90m╺\u001b[0m\u001b[90m━━━━━━━━━━━━━━━\u001b[0m \u001b[32m90.9/154.1 MB\u001b[0m \u001b[31m150.7 MB/s\u001b[0m eta \u001b[36m0:00:01\u001b[0m\r\u001b[2K     \u001b[91m━━━━━━━━━━━━━━━━━━━━━━━\u001b[0m\u001b[91m╸\u001b[0m\u001b[90m━━━━━━━━━━━━━━\u001b[0m \u001b[32m95.4/154.1 MB\u001b[0m \u001b[31m134.9 MB/s\u001b[0m eta \u001b[36m0:00:01\u001b[0m\r\u001b[2K     \u001b[91m━━━━━━━━━━━━━━━━━━━━━━━━\u001b[0m\u001b[91m╸\u001b[0m\u001b[90m━━━━━━━━━━━━━\u001b[0m \u001b[32m99.6/154.1 MB\u001b[0m \u001b[31m162.2 MB/s\u001b[0m eta \u001b[36m0:00:01\u001b[0m\r\u001b[2K     \u001b[91m━━━━━━━━━━━━━━━━━━━━━━━━\u001b[0m\u001b[91m╸\u001b[0m\u001b[90m━━━━━━━━━━━━\u001b[0m \u001b[32m103.3/154.1 MB\u001b[0m \u001b[31m109.1 MB/s\u001b[0m eta \u001b[36m0:00:01\u001b[0m\r\u001b[2K     \u001b[91m━━━━━━━━━━━━━━━━━━━━━━━━━━\u001b[0m\u001b[90m╺\u001b[0m\u001b[90m━━━━━━━━━━\u001b[0m \u001b[32m110.3/154.1 MB\u001b[0m \u001b[31m172.4 MB/s\u001b[0m eta \u001b[36m0:00:01\u001b[0m\r\u001b[2K     \u001b[91m━━━━━━━━━━━━━━━━━━━━━━━━━━━\u001b[0m\u001b[91m╸\u001b[0m\u001b[90m━━━━━━━━━\u001b[0m \u001b[32m116.4/154.1 MB\u001b[0m \u001b[31m183.9 MB/s\u001b[0m eta \u001b[36m0:00:01\u001b[0m\r\u001b[2K     \u001b[91m━━━━━━━━━━━━━━━━━━━━━━━━━━━━━\u001b[0m\u001b[90m╺\u001b[0m\u001b[90m━━━━━━━\u001b[0m \u001b[32m121.3/154.1 MB\u001b[0m \u001b[31m156.1 MB/s\u001b[0m eta \u001b[36m0:00:01\u001b[0m\r\u001b[2K     \u001b[91m━━━━━━━━━━━━━━━━━━━━━━━━━━━━━━\u001b[0m\u001b[90m╺\u001b[0m\u001b[90m━━━━━━\u001b[0m \u001b[32m126.6/154.1 MB\u001b[0m \u001b[31m142.6 MB/s\u001b[0m eta \u001b[36m0:00:01\u001b[0m\r\u001b[2K     \u001b[91m━━━━━━━━━━━━━━━━━━━━━━━━━━━━━━━\u001b[0m\u001b[91m╸\u001b[0m\u001b[90m━━━━━\u001b[0m \u001b[32m133.0/154.1 MB\u001b[0m \u001b[31m181.8 MB/s\u001b[0m eta \u001b[36m0:00:01\u001b[0m\r\u001b[2K     \u001b[91m━━━━━━━━━━━━━━━━━━━━━━━━━━━━━━━━━\u001b[0m\u001b[90m╺\u001b[0m\u001b[90m━━━\u001b[0m \u001b[32m138.4/154.1 MB\u001b[0m \u001b[31m174.4 MB/s\u001b[0m eta \u001b[36m0:00:01\u001b[0m\r\u001b[2K     \u001b[91m━━━━━━━━━━━━━━━━━━━━━━━━━━━━━━━━━━\u001b[0m\u001b[90m╺\u001b[0m\u001b[90m━━\u001b[0m \u001b[32m143.6/154.1 MB\u001b[0m \u001b[31m155.1 MB/s\u001b[0m eta \u001b[36m0:00:01\u001b[0m\r\u001b[2K     \u001b[91m━━━━━━━━━━━━━━━━━━━━━━━━━━━━━━━━━━━\u001b[0m\u001b[90m╺\u001b[0m\u001b[90m━\u001b[0m \u001b[32m147.7/154.1 MB\u001b[0m \u001b[31m135.2 MB/s\u001b[0m eta \u001b[36m0:00:01\u001b[0m\r\u001b[2K     \u001b[91m━━━━━━━━━━━━━━━━━━━━━━━━━━━━━━━━━━━━\u001b[0m\u001b[91m╸\u001b[0m \u001b[32m153.1/154.1 MB\u001b[0m \u001b[31m138.2 MB/s\u001b[0m eta \u001b[36m0:00:01\u001b[0m\r\u001b[2K     \u001b[91m━━━━━━━━━━━━━━━━━━━━━━━━━━━━━━━━━━━━\u001b[0m\u001b[91m╸\u001b[0m \u001b[32m154.1/154.1 MB\u001b[0m \u001b[31m130.5 MB/s\u001b[0m eta \u001b[36m0:00:01\u001b[0m\r\u001b[2K     \u001b[91m━━━━━━━━━━━━━━━━━━━━━━━━━━━━━━━━━━━━\u001b[0m\u001b[91m╸\u001b[0m \u001b[32m154.1/154.1 MB\u001b[0m \u001b[31m130.5 MB/s\u001b[0m eta \u001b[36m0:00:01\u001b[0m\r\u001b[2K     \u001b[91m━━━━━━━━━━━━━━━━━━━━━━━━━━━━━━━━━━━━\u001b[0m\u001b[91m╸\u001b[0m \u001b[32m154.1/154.1 MB\u001b[0m \u001b[31m130.5 MB/s\u001b[0m eta \u001b[36m0:00:01\u001b[0m\r\u001b[2K     \u001b[91m━━━━━━━━━━━━━━━━━━━━━━━━━━━━━━━━━━━━\u001b[0m\u001b[91m╸\u001b[0m \u001b[32m154.1/154.1 MB\u001b[0m \u001b[31m130.5 MB/s\u001b[0m eta \u001b[36m0:00:01\u001b[0m\r\u001b[2K     \u001b[91m━━━━━━━━━━━━━━━━━━━━━━━━━━━━━━━━━━━━\u001b[0m\u001b[91m╸\u001b[0m \u001b[32m154.1/154.1 MB\u001b[0m \u001b[31m130.5 MB/s\u001b[0m eta \u001b[36m0:00:01\u001b[0m\r\u001b[2K     \u001b[91m━━━━━━━━━━━━━━━━━━━━━━━━━━━━━━━━━━━━\u001b[0m\u001b[91m╸\u001b[0m \u001b[32m154.1/154.1 MB\u001b[0m \u001b[31m130.5 MB/s\u001b[0m eta \u001b[36m0:00:01\u001b[0m\r\u001b[2K     \u001b[91m━━━━━━━━━━━━━━━━━━━━━━━━━━━━━━━━━━━━\u001b[0m\u001b[91m╸\u001b[0m \u001b[32m154.1/154.1 MB\u001b[0m \u001b[31m130.5 MB/s\u001b[0m eta \u001b[36m0:00:01\u001b[0m\r\u001b[2K     \u001b[91m━━━━━━━━━━━━━━━━━━━━━━━━━━━━━━━━━━━━\u001b[0m\u001b[91m╸\u001b[0m \u001b[32m154.1/154.1 MB\u001b[0m \u001b[31m130.5 MB/s\u001b[0m eta \u001b[36m0:00:01\u001b[0m\r\u001b[2K     \u001b[91m━━━━━━━━━━━━━━━━━━━━━━━━━━━━━━━━━━━━\u001b[0m\u001b[91m╸\u001b[0m \u001b[32m154.1/154.1 MB\u001b[0m \u001b[31m130.5 MB/s\u001b[0m eta \u001b[36m0:00:01\u001b[0m\r\u001b[2K     \u001b[91m━━━━━━━━━━━━━━━━━━━━━━━━━━━━━━━━━━━━\u001b[0m\u001b[91m╸\u001b[0m \u001b[32m154.1/154.1 MB\u001b[0m \u001b[31m130.5 MB/s\u001b[0m eta \u001b[36m0:00:01\u001b[0m\r\u001b[2K     \u001b[91m━━━━━━━━━━━━━━━━━━━━━━━━━━━━━━━━━━━━\u001b[0m\u001b[91m╸\u001b[0m \u001b[32m154.1/154.1 MB\u001b[0m \u001b[31m130.5 MB/s\u001b[0m eta \u001b[36m0:00:01\u001b[0m\r\u001b[2K     \u001b[91m━━━━━━━━━━━━━━━━━━━━━━━━━━━━━━━━━━━━\u001b[0m\u001b[91m╸\u001b[0m \u001b[32m154.1/154.1 MB\u001b[0m \u001b[31m130.5 MB/s\u001b[0m eta \u001b[36m0:00:01\u001b[0m\r\u001b[2K     \u001b[91m━━━━━━━━━━━━━━━━━━━━━━━━━━━━━━━━━━━━\u001b[0m\u001b[91m╸\u001b[0m \u001b[32m154.1/154.1 MB\u001b[0m \u001b[31m130.5 MB/s\u001b[0m eta \u001b[36m0:00:01\u001b[0m\r\u001b[2K     \u001b[91m━━━━━━━━━━━━━━━━━━━━━━━━━━━━━━━━━━━━\u001b[0m\u001b[91m╸\u001b[0m \u001b[32m154.1/154.1 MB\u001b[0m \u001b[31m130.5 MB/s\u001b[0m eta \u001b[36m0:00:01\u001b[0m\r\u001b[2K     \u001b[91m━━━━━━━━━━━━━━━━━━━━━━━━━━━━━━━━━━━━\u001b[0m\u001b[91m╸\u001b[0m \u001b[32m154.1/154.1 MB\u001b[0m \u001b[31m130.5 MB/s\u001b[0m eta \u001b[36m0:00:01\u001b[0m\r\u001b[2K     \u001b[91m━━━━━━━━━━━━━━━━━━━━━━━━━━━━━━━━━━━━\u001b[0m\u001b[91m╸\u001b[0m \u001b[32m154.1/154.1 MB\u001b[0m \u001b[31m130.5 MB/s\u001b[0m eta \u001b[36m0:00:01\u001b[0m\r\u001b[2K     \u001b[91m━━━━━━━━━━━━━━━━━━━━━━━━━━━━━━━━━━━━\u001b[0m\u001b[91m╸\u001b[0m \u001b[32m154.1/154.1 MB\u001b[0m \u001b[31m130.5 MB/s\u001b[0m eta \u001b[36m0:00:01\u001b[0m\r\u001b[2K     \u001b[91m━━━━━━━━━━━━━━━━━━━━━━━━━━━━━━━━━━━━\u001b[0m\u001b[91m╸\u001b[0m \u001b[32m154.1/154.1 MB\u001b[0m \u001b[31m130.5 MB/s\u001b[0m eta \u001b[36m0:00:01\u001b[0m\r\u001b[2K     \u001b[91m━━━━━━━━━━━━━━━━━━━━━━━━━━━━━━━━━━━━\u001b[0m\u001b[91m╸\u001b[0m \u001b[32m154.1/154.1 MB\u001b[0m \u001b[31m130.5 MB/s\u001b[0m eta \u001b[36m0:00:01\u001b[0m\r\u001b[2K     \u001b[91m━━━━━━━━━━━━━━━━━━━━━━━━━━━━━━━━━━━━\u001b[0m\u001b[91m╸\u001b[0m \u001b[32m154.1/154.1 MB\u001b[0m \u001b[31m130.5 MB/s\u001b[0m eta \u001b[36m0:00:01\u001b[0m\r\u001b[2K     \u001b[91m━━━━━━━━━━━━━━━━━━━━━━━━━━━━━━━━━━━━\u001b[0m\u001b[91m╸\u001b[0m \u001b[32m154.1/154.1 MB\u001b[0m \u001b[31m130.5 MB/s\u001b[0m eta \u001b[36m0:00:01\u001b[0m\r\u001b[2K     \u001b[91m━━━━━━━━━━━━━━━━━━━━━━━━━━━━━━━━━━━━\u001b[0m\u001b[91m╸\u001b[0m \u001b[32m154.1/154.1 MB\u001b[0m \u001b[31m130.5 MB/s\u001b[0m eta \u001b[36m0:00:01\u001b[0m\r\u001b[2K     \u001b[90m━━━━━━━━━━━━━━━━━━━━━━━━━━━━━━━━━━━━━━\u001b[0m \u001b[32m154.1/154.1 MB\u001b[0m \u001b[31m10.9 MB/s\u001b[0m eta \u001b[36m0:00:00\u001b[0m\n",
            "\u001b[?25h\u001b[?25l     \u001b[90m━━━━━━━━━━━━━━━━━━━━━━━━━━━━━━━━━━━━━━━━\u001b[0m \u001b[32m0.0/1.5 MB\u001b[0m \u001b[31m?\u001b[0m eta \u001b[36m-:--:--\u001b[0m\r\u001b[2K     \u001b[90m━━━━━━━━━━━━━━━━━━━━━━━━━━━━━━━━━━━━━━━━\u001b[0m \u001b[32m1.5/1.5 MB\u001b[0m \u001b[31m74.1 MB/s\u001b[0m eta \u001b[36m0:00:00\u001b[0m\n",
            "\u001b[2K     \u001b[90m━━━━━━━━━━━━━━━━━━━━━━━━━━━━━━━━━━━━━━━━\u001b[0m \u001b[32m7.1/7.1 MB\u001b[0m \u001b[31m102.0 MB/s\u001b[0m eta \u001b[36m0:00:00\u001b[0m\n",
            "\u001b[2K     \u001b[90m━━━━━━━━━━━━━━━━━━━━━━━━━━━━━━━━━━━━━━━━\u001b[0m \u001b[32m1.3/1.3 MB\u001b[0m \u001b[31m69.6 MB/s\u001b[0m eta \u001b[36m0:00:00\u001b[0m\n",
            "\u001b[2K     \u001b[90m━━━━━━━━━━━━━━━━━━━━━━━━━━━━━━━━━━━━━━\u001b[0m \u001b[32m188.7/188.7 kB\u001b[0m \u001b[31m22.1 MB/s\u001b[0m eta \u001b[36m0:00:00\u001b[0m\n",
            "\u001b[?25h  Preparing metadata (setup.py) ... \u001b[?25l\u001b[?25hdone\n",
            "\u001b[2K     \u001b[90m━━━━━━━━━━━━━━━━━━━━━━━━━━━━━━━━━━━━━━━━\u001b[0m \u001b[32m5.0/5.0 MB\u001b[0m \u001b[31m106.9 MB/s\u001b[0m eta \u001b[36m0:00:00\u001b[0m\n",
            "\u001b[2K     \u001b[90m━━━━━━━━━━━━━━━━━━━━━━━━━━━━━━━━━━━━━━━━\u001b[0m \u001b[32m46.0/46.0 kB\u001b[0m \u001b[31m5.5 MB/s\u001b[0m eta \u001b[36m0:00:00\u001b[0m\n",
            "\u001b[2K     \u001b[90m━━━━━━━━━━━━━━━━━━━━━━━━━━━━━━━━━━━━━━\u001b[0m \u001b[32m224.5/224.5 kB\u001b[0m \u001b[31m24.5 MB/s\u001b[0m eta \u001b[36m0:00:00\u001b[0m\n",
            "\u001b[2K     \u001b[90m━━━━━━━━━━━━━━━━━━━━━━━━━━━━━━━━━━━━━━━━\u001b[0m \u001b[32m7.8/7.8 MB\u001b[0m \u001b[31m102.0 MB/s\u001b[0m eta \u001b[36m0:00:00\u001b[0m\n",
            "\u001b[2K     \u001b[90m━━━━━━━━━━━━━━━━━━━━━━━━━━━━━━━━━━━━━━━━\u001b[0m \u001b[32m86.8/86.8 kB\u001b[0m \u001b[31m10.1 MB/s\u001b[0m eta \u001b[36m0:00:00\u001b[0m\n",
            "\u001b[?25h  Building wheel for nmslib (setup.py) ... \u001b[?25l\u001b[?25hdone\n",
            "\u001b[2K     \u001b[90m━━━━━━━━━━━━━━━━━━━━━━━━━━━━━━━━━━━━━━━━\u001b[0m \u001b[32m17.6/17.6 MB\u001b[0m \u001b[31m75.2 MB/s\u001b[0m eta \u001b[36m0:00:00\u001b[0m\n",
            "\u001b[?25h"
          ]
        }
      ],
      "source": [
        "\n",
        "!pip install pyserini -q\n",
        "!pip install faiss-cpu -q"
      ]
    },
    {
      "cell_type": "code",
      "execution_count": 7,
      "metadata": {
        "id": "dDzq5gqrVzqv",
        "colab": {
          "base_uri": "https://localhost:8080/"
        },
        "outputId": "020341a5-4a7a-4e8a-b16b-8fc5de4b9cb3"
      },
      "outputs": [
        {
          "output_type": "stream",
          "name": "stdout",
          "text": [
            "\u001b[2K     \u001b[90m━━━━━━━━━━━━━━━━━━━━━━━━━━━━━━━━━━━━━━━━\u001b[0m \u001b[32m81.4/81.4 kB\u001b[0m \u001b[31m3.5 MB/s\u001b[0m eta \u001b[36m0:00:00\u001b[0m\n",
            "\u001b[2K     \u001b[90m━━━━━━━━━━━━━━━━━━━━━━━━━━━━━━━━━━━━━━\u001b[0m \u001b[32m474.6/474.6 kB\u001b[0m \u001b[31m14.8 MB/s\u001b[0m eta \u001b[36m0:00:00\u001b[0m\n",
            "\u001b[2K     \u001b[90m━━━━━━━━━━━━━━━━━━━━━━━━━━━━━━━━━━━━━\u001b[0m \u001b[32m110.5/110.5 kB\u001b[0m \u001b[31m355.5 kB/s\u001b[0m eta \u001b[36m0:00:00\u001b[0m\n",
            "\u001b[2K     \u001b[90m━━━━━━━━━━━━━━━━━━━━━━━━━━━━━━━━━━━━━━\u001b[0m \u001b[32m212.5/212.5 kB\u001b[0m \u001b[31m25.8 MB/s\u001b[0m eta \u001b[36m0:00:00\u001b[0m\n",
            "\u001b[2K     \u001b[90m━━━━━━━━━━━━━━━━━━━━━━━━━━━━━━━━━━━━━━\u001b[0m \u001b[32m134.3/134.3 kB\u001b[0m \u001b[31m17.1 MB/s\u001b[0m eta \u001b[36m0:00:00\u001b[0m\n",
            "\u001b[2K     \u001b[90m━━━━━━━━━━━━━━━━━━━━━━━━━━━━━━━━━━━━━━━━\u001b[0m \u001b[32m1.0/1.0 MB\u001b[0m \u001b[31m37.1 MB/s\u001b[0m eta \u001b[36m0:00:00\u001b[0m\n",
            "\u001b[2K     \u001b[90m━━━━━━━━━━━━━━━━━━━━━━━━━━━━━━━━━━━━━━\u001b[0m \u001b[32m114.5/114.5 kB\u001b[0m \u001b[31m14.4 MB/s\u001b[0m eta \u001b[36m0:00:00\u001b[0m\n",
            "\u001b[2K     \u001b[90m━━━━━━━━━━━━━━━━━━━━━━━━━━━━━━━━━━━━━━\u001b[0m \u001b[32m268.8/268.8 kB\u001b[0m \u001b[31m25.1 MB/s\u001b[0m eta \u001b[36m0:00:00\u001b[0m\n",
            "\u001b[2K     \u001b[90m━━━━━━━━━━━━━━━━━━━━━━━━━━━━━━━━━━━━━━\u001b[0m \u001b[32m149.6/149.6 kB\u001b[0m \u001b[31m16.3 MB/s\u001b[0m eta \u001b[36m0:00:00\u001b[0m\n",
            "\u001b[?25h  Preparing metadata (setup.py) ... \u001b[?25l\u001b[?25hdone\n",
            "  Preparing metadata (setup.py) ... \u001b[?25l\u001b[?25hdone\n",
            "  Building wheel for trectools (setup.py) ... \u001b[?25l\u001b[?25hdone\n",
            "  Building wheel for bs4 (setup.py) ... \u001b[?25l\u001b[?25hdone\n"
          ]
        }
      ],
      "source": [
        "!pip install evaluate -q\n",
        "!pip install trectools -q"
      ]
    },
    {
      "cell_type": "code",
      "execution_count": 8,
      "metadata": {
        "id": "IkDbAShW0rMm"
      },
      "outputs": [],
      "source": [
        "!pip install transformers -q"
      ]
    },
    {
      "cell_type": "markdown",
      "metadata": {
        "id": "Hfzi7hH2pkKY"
      },
      "source": [
        "## Passages download"
      ]
    },
    {
      "cell_type": "code",
      "execution_count": null,
      "metadata": {
        "colab": {
          "base_uri": "https://localhost:8080/"
        },
        "id": "hDUGtSRSpKSs",
        "outputId": "6e09e959-fad7-47d4-fb8a-4332706e7f45"
      },
      "outputs": [
        {
          "name": "stdout",
          "output_type": "stream",
          "text": [
            "--2023-05-06 21:33:47--  https://huggingface.co/datasets/BeIR/trec-covid/resolve/main/corpus.jsonl.gz\n",
            "Resolving huggingface.co (huggingface.co)... 18.155.68.44, 18.155.68.121, 18.155.68.38, ...\n",
            "Connecting to huggingface.co (huggingface.co)|18.155.68.44|:443... connected.\n",
            "HTTP request sent, awaiting response... 302 Found\n",
            "Location: https://cdn-lfs.huggingface.co/repos/a8/10/a810e88b0e7b233be82b89c1fa6ec2d75efc6d55784c2ada9dcac8434a634f3a/e9e97686e3138eaff989f67c04cd32e8f8f4c0d4857187e3f180275b23e24e85?response-content-disposition=attachment%3B+filename*%3DUTF-8%27%27corpus.jsonl.gz%3B+filename%3D%22corpus.jsonl.gz%22%3B&response-content-type=application%2Fgzip&Expires=1683668029&Policy=eyJTdGF0ZW1lbnQiOlt7IlJlc291cmNlIjoiaHR0cHM6Ly9jZG4tbGZzLmh1Z2dpbmdmYWNlLmNvL3JlcG9zL2E4LzEwL2E4MTBlODhiMGU3YjIzM2JlODJiODljMWZhNmVjMmQ3NWVmYzZkNTU3ODRjMmFkYTlkY2FjODQzNGE2MzRmM2EvZTllOTc2ODZlMzEzOGVhZmY5ODlmNjdjMDRjZDMyZThmOGY0YzBkNDg1NzE4N2UzZjE4MDI3NWIyM2UyNGU4NT9yZXNwb25zZS1jb250ZW50LWRpc3Bvc2l0aW9uPSomcmVzcG9uc2UtY29udGVudC10eXBlPSoiLCJDb25kaXRpb24iOnsiRGF0ZUxlc3NUaGFuIjp7IkFXUzpFcG9jaFRpbWUiOjE2ODM2NjgwMjl9fX1dfQ__&Signature=SndAv-KsuG-ohRWzB3nzcv7gwcZRZUtwZ078nBzTXE3PvtMmgbSjt6fmJfuWMObwm2yWfmAtv1wLW7zls0EFVlD5hpDqnHRdrl3SiKRvIf53WJbD9auvSfSlhFRTpaLdX3ODK9nbmSiJRExLYo1o3UtvzzbzOqt1zI7UsrMCs%7EvvbCTn03%7ETREmrfUN1ulLe5xXRU%7EefSiWW1gxMlh4xVAbSQLGwkjz3KLGCTMXU4iFDryqviIt3mbfGUxVraAjQoOgerTI9N1O6OpS7q2SkTWadYWu0YvNTtrkaKqp-SoFE9fB-lz1Y3wo1R72WmUh46JDHGgiguh762PxV71sPTw__&Key-Pair-Id=KVTP0A1DKRTAX [following]\n",
            "--2023-05-06 21:33:48--  https://cdn-lfs.huggingface.co/repos/a8/10/a810e88b0e7b233be82b89c1fa6ec2d75efc6d55784c2ada9dcac8434a634f3a/e9e97686e3138eaff989f67c04cd32e8f8f4c0d4857187e3f180275b23e24e85?response-content-disposition=attachment%3B+filename*%3DUTF-8%27%27corpus.jsonl.gz%3B+filename%3D%22corpus.jsonl.gz%22%3B&response-content-type=application%2Fgzip&Expires=1683668029&Policy=eyJTdGF0ZW1lbnQiOlt7IlJlc291cmNlIjoiaHR0cHM6Ly9jZG4tbGZzLmh1Z2dpbmdmYWNlLmNvL3JlcG9zL2E4LzEwL2E4MTBlODhiMGU3YjIzM2JlODJiODljMWZhNmVjMmQ3NWVmYzZkNTU3ODRjMmFkYTlkY2FjODQzNGE2MzRmM2EvZTllOTc2ODZlMzEzOGVhZmY5ODlmNjdjMDRjZDMyZThmOGY0YzBkNDg1NzE4N2UzZjE4MDI3NWIyM2UyNGU4NT9yZXNwb25zZS1jb250ZW50LWRpc3Bvc2l0aW9uPSomcmVzcG9uc2UtY29udGVudC10eXBlPSoiLCJDb25kaXRpb24iOnsiRGF0ZUxlc3NUaGFuIjp7IkFXUzpFcG9jaFRpbWUiOjE2ODM2NjgwMjl9fX1dfQ__&Signature=SndAv-KsuG-ohRWzB3nzcv7gwcZRZUtwZ078nBzTXE3PvtMmgbSjt6fmJfuWMObwm2yWfmAtv1wLW7zls0EFVlD5hpDqnHRdrl3SiKRvIf53WJbD9auvSfSlhFRTpaLdX3ODK9nbmSiJRExLYo1o3UtvzzbzOqt1zI7UsrMCs%7EvvbCTn03%7ETREmrfUN1ulLe5xXRU%7EefSiWW1gxMlh4xVAbSQLGwkjz3KLGCTMXU4iFDryqviIt3mbfGUxVraAjQoOgerTI9N1O6OpS7q2SkTWadYWu0YvNTtrkaKqp-SoFE9fB-lz1Y3wo1R72WmUh46JDHGgiguh762PxV71sPTw__&Key-Pair-Id=KVTP0A1DKRTAX\n",
            "Resolving cdn-lfs.huggingface.co (cdn-lfs.huggingface.co)... 18.155.68.98, 18.155.68.94, 18.155.68.73, ...\n",
            "Connecting to cdn-lfs.huggingface.co (cdn-lfs.huggingface.co)|18.155.68.98|:443... connected.\n",
            "HTTP request sent, awaiting response... 200 OK\n",
            "Length: 73452199 (70M) [application/gzip]\n",
            "Saving to: ‘corpus.jsonl.gz’\n",
            "\n",
            "corpus.jsonl.gz     100%[===================>]  70.05M   304MB/s    in 0.2s    \n",
            "\n",
            "2023-05-06 21:33:48 (304 MB/s) - ‘corpus.jsonl.gz’ saved [73452199/73452199]\n",
            "\n"
          ]
        }
      ],
      "source": [
        "!wget https://huggingface.co/datasets/BeIR/trec-covid/resolve/main/corpus.jsonl.gz"
      ]
    },
    {
      "cell_type": "code",
      "execution_count": null,
      "metadata": {
        "id": "1m8ror6dpokw"
      },
      "outputs": [],
      "source": [
        "!mv corpus.jsonl.gz {main_dir}/trec-covid"
      ]
    },
    {
      "cell_type": "code",
      "execution_count": null,
      "metadata": {
        "colab": {
          "base_uri": "https://localhost:8080/"
        },
        "id": "SVXGvmSz4i8R",
        "outputId": "c809ba02-5f17-462d-abfb-d6ae8b4c4ea8"
      },
      "outputs": [
        {
          "name": "stdout",
          "output_type": "stream",
          "text": [
            "gzip: /content/gdrive/MyDrive/Unicamp-aula-10/trec-covid/corpus.jsonl already exists; do you wish to overwrite (y or n)? ^C\n"
          ]
        }
      ],
      "source": [
        "!gunzip {main_dir}/trec-covid/corpus.jsonl.gz"
      ]
    },
    {
      "cell_type": "markdown",
      "metadata": {
        "id": "DXnckUxf4-wL"
      },
      "source": [
        "## Queries vs passages download"
      ]
    },
    {
      "cell_type": "code",
      "execution_count": null,
      "metadata": {
        "colab": {
          "base_uri": "https://localhost:8080/"
        },
        "id": "XqCxXLfV4_gE",
        "outputId": "30e23791-b70f-4148-b75d-e0ad2001b3fe"
      },
      "outputs": [
        {
          "name": "stdout",
          "output_type": "stream",
          "text": [
            "--2023-05-06 21:34:54--  https://huggingface.co/datasets/BeIR/trec-covid-qrels/raw/main/test.tsv\n",
            "Resolving huggingface.co (huggingface.co)... 18.155.68.44, 18.155.68.116, 18.155.68.121, ...\n",
            "Connecting to huggingface.co (huggingface.co)|18.155.68.44|:443... connected.\n",
            "HTTP request sent, awaiting response... 200 OK\n",
            "Length: 980831 (958K) [text/plain]\n",
            "Saving to: ‘test.tsv’\n",
            "\n",
            "test.tsv            100%[===================>] 957.84K  1.09MB/s    in 0.9s    \n",
            "\n",
            "2023-05-06 21:34:55 (1.09 MB/s) - ‘test.tsv’ saved [980831/980831]\n",
            "\n"
          ]
        }
      ],
      "source": [
        "!wget https://huggingface.co/datasets/BeIR/trec-covid-qrels/raw/main/test.tsv"
      ]
    },
    {
      "cell_type": "code",
      "execution_count": null,
      "metadata": {
        "id": "mO-OYpej5ElH"
      },
      "outputs": [],
      "source": [
        "!mv test.tsv {main_dir}/trec-covid"
      ]
    },
    {
      "cell_type": "markdown",
      "metadata": {
        "id": "AdoSaFnH5P7p"
      },
      "source": [
        "## Queries download"
      ]
    },
    {
      "cell_type": "code",
      "execution_count": null,
      "metadata": {
        "colab": {
          "base_uri": "https://localhost:8080/"
        },
        "id": "CP5BWbgv5Gz3",
        "outputId": "39a631c4-9373-4ff3-8c94-fffe2fa2bd4d"
      },
      "outputs": [
        {
          "name": "stdout",
          "output_type": "stream",
          "text": [
            "--2023-05-06 21:34:56--  https://huggingface.co/datasets/BeIR/trec-covid/resolve/main/queries.jsonl.gz\n",
            "Resolving huggingface.co (huggingface.co)... 18.155.68.44, 18.155.68.116, 18.155.68.121, ...\n",
            "Connecting to huggingface.co (huggingface.co)|18.155.68.44|:443... connected.\n",
            "HTTP request sent, awaiting response... 302 Found\n",
            "Location: https://cdn-lfs.huggingface.co/repos/a8/10/a810e88b0e7b233be82b89c1fa6ec2d75efc6d55784c2ada9dcac8434a634f3a/9eadcc2cdf140addc9dae83648bb2c6611f5e4b66eaed7475fa5a0ca48eda371?response-content-disposition=attachment%3B+filename*%3DUTF-8%27%27queries.jsonl.gz%3B+filename%3D%22queries.jsonl.gz%22%3B&response-content-type=application%2Fgzip&Expires=1683668096&Policy=eyJTdGF0ZW1lbnQiOlt7IlJlc291cmNlIjoiaHR0cHM6Ly9jZG4tbGZzLmh1Z2dpbmdmYWNlLmNvL3JlcG9zL2E4LzEwL2E4MTBlODhiMGU3YjIzM2JlODJiODljMWZhNmVjMmQ3NWVmYzZkNTU3ODRjMmFkYTlkY2FjODQzNGE2MzRmM2EvOWVhZGNjMmNkZjE0MGFkZGM5ZGFlODM2NDhiYjJjNjYxMWY1ZTRiNjZlYWVkNzQ3NWZhNWEwY2E0OGVkYTM3MT9yZXNwb25zZS1jb250ZW50LWRpc3Bvc2l0aW9uPSomcmVzcG9uc2UtY29udGVudC10eXBlPSoiLCJDb25kaXRpb24iOnsiRGF0ZUxlc3NUaGFuIjp7IkFXUzpFcG9jaFRpbWUiOjE2ODM2NjgwOTZ9fX1dfQ__&Signature=m2lx5g8Ip6rMW3I9jGfzPPtZINejDEj2f8XwtGpuukp5CKEWuXrd163mK3%7EVR1n3hhzfiNLuBToxx0lqarAtV09mxvsY36c%7Et3PsKmT4lz3raQBNoFP7OfmgAoXLR%7EMi-Vx7woOO46rsugcf63XPI7kqqv9SppFKcA35VI-v0tMxwcIMGYvCjwj3wwpWDEoW5QEQjLxyJNrMzG0Q%7EivdvzhZ4VHyygj8NkdntMBijB3ZIsbG-OrwJG6PaqiZ2mD1S5V7aERr7HL927UZJLUwoHVL5Gx1MCW3M8IslD1BekktsVqj7qM9NS8AEk382pV7Y4PUvQldnxQYjfp1O9lAgw__&Key-Pair-Id=KVTP0A1DKRTAX [following]\n",
            "--2023-05-06 21:34:56--  https://cdn-lfs.huggingface.co/repos/a8/10/a810e88b0e7b233be82b89c1fa6ec2d75efc6d55784c2ada9dcac8434a634f3a/9eadcc2cdf140addc9dae83648bb2c6611f5e4b66eaed7475fa5a0ca48eda371?response-content-disposition=attachment%3B+filename*%3DUTF-8%27%27queries.jsonl.gz%3B+filename%3D%22queries.jsonl.gz%22%3B&response-content-type=application%2Fgzip&Expires=1683668096&Policy=eyJTdGF0ZW1lbnQiOlt7IlJlc291cmNlIjoiaHR0cHM6Ly9jZG4tbGZzLmh1Z2dpbmdmYWNlLmNvL3JlcG9zL2E4LzEwL2E4MTBlODhiMGU3YjIzM2JlODJiODljMWZhNmVjMmQ3NWVmYzZkNTU3ODRjMmFkYTlkY2FjODQzNGE2MzRmM2EvOWVhZGNjMmNkZjE0MGFkZGM5ZGFlODM2NDhiYjJjNjYxMWY1ZTRiNjZlYWVkNzQ3NWZhNWEwY2E0OGVkYTM3MT9yZXNwb25zZS1jb250ZW50LWRpc3Bvc2l0aW9uPSomcmVzcG9uc2UtY29udGVudC10eXBlPSoiLCJDb25kaXRpb24iOnsiRGF0ZUxlc3NUaGFuIjp7IkFXUzpFcG9jaFRpbWUiOjE2ODM2NjgwOTZ9fX1dfQ__&Signature=m2lx5g8Ip6rMW3I9jGfzPPtZINejDEj2f8XwtGpuukp5CKEWuXrd163mK3%7EVR1n3hhzfiNLuBToxx0lqarAtV09mxvsY36c%7Et3PsKmT4lz3raQBNoFP7OfmgAoXLR%7EMi-Vx7woOO46rsugcf63XPI7kqqv9SppFKcA35VI-v0tMxwcIMGYvCjwj3wwpWDEoW5QEQjLxyJNrMzG0Q%7EivdvzhZ4VHyygj8NkdntMBijB3ZIsbG-OrwJG6PaqiZ2mD1S5V7aERr7HL927UZJLUwoHVL5Gx1MCW3M8IslD1BekktsVqj7qM9NS8AEk382pV7Y4PUvQldnxQYjfp1O9lAgw__&Key-Pair-Id=KVTP0A1DKRTAX\n",
            "Resolving cdn-lfs.huggingface.co (cdn-lfs.huggingface.co)... 18.155.68.128, 18.155.68.98, 18.155.68.94, ...\n",
            "Connecting to cdn-lfs.huggingface.co (cdn-lfs.huggingface.co)|18.155.68.128|:443... connected.\n",
            "HTTP request sent, awaiting response... 200 OK\n",
            "Length: 4702 (4.6K) [application/gzip]\n",
            "Saving to: ‘queries.jsonl.gz’\n",
            "\n",
            "queries.jsonl.gz    100%[===================>]   4.59K  --.-KB/s    in 0s      \n",
            "\n",
            "2023-05-06 21:34:56 (191 MB/s) - ‘queries.jsonl.gz’ saved [4702/4702]\n",
            "\n"
          ]
        }
      ],
      "source": [
        "!wget https://huggingface.co/datasets/BeIR/trec-covid/resolve/main/queries.jsonl.gz"
      ]
    },
    {
      "cell_type": "code",
      "execution_count": null,
      "metadata": {
        "id": "IiRancl45JXE"
      },
      "outputs": [],
      "source": [
        "!mv queries.jsonl.gz {main_dir}/trec-covid"
      ]
    },
    {
      "cell_type": "code",
      "execution_count": null,
      "metadata": {
        "colab": {
          "base_uri": "https://localhost:8080/"
        },
        "id": "_kCDz7Xn5LO5",
        "outputId": "89d28777-939a-40c5-c48f-0ab17ddc4b64"
      },
      "outputs": [
        {
          "name": "stdout",
          "output_type": "stream",
          "text": [
            "gzip: /content/gdrive/MyDrive/Unicamp-aula-10/trec-covid/queries.jsonl already exists; do you wish to overwrite (y or n)? ^C\n"
          ]
        }
      ],
      "source": [
        "!gunzip {main_dir}/trec-covid/queries.jsonl.gz"
      ]
    },
    {
      "cell_type": "code",
      "execution_count": null,
      "metadata": {
        "id": "--xMWixxHlFd"
      },
      "outputs": [],
      "source": [
        "import torch\n",
        "\n",
        "device = torch.device('cuda' if torch.cuda.is_available() else 'cpu')"
      ]
    },
    {
      "cell_type": "code",
      "execution_count": null,
      "metadata": {
        "colab": {
          "base_uri": "https://localhost:8080/"
        },
        "id": "psDPW3t-HmUL",
        "outputId": "aeea82b8-94fb-4ed4-d9ea-c948f5981226"
      },
      "outputs": [
        {
          "output_type": "execute_result",
          "data": {
            "text/plain": [
              "device(type='cuda')"
            ]
          },
          "metadata": {},
          "execution_count": 10
        }
      ],
      "source": [
        "device"
      ]
    },
    {
      "cell_type": "code",
      "execution_count": null,
      "metadata": {
        "colab": {
          "base_uri": "https://localhost:8080/"
        },
        "id": "SVH2FdzmrOcN",
        "outputId": "17a54c6c-0c1f-41d4-b2b6-45540b2f9cf2"
      },
      "outputs": [
        {
          "output_type": "stream",
          "name": "stdout",
          "text": [
            "Wed May 10 02:22:28 2023       \n",
            "+-----------------------------------------------------------------------------+\n",
            "| NVIDIA-SMI 525.85.12    Driver Version: 525.85.12    CUDA Version: 12.0     |\n",
            "|-------------------------------+----------------------+----------------------+\n",
            "| GPU  Name        Persistence-M| Bus-Id        Disp.A | Volatile Uncorr. ECC |\n",
            "| Fan  Temp  Perf  Pwr:Usage/Cap|         Memory-Usage | GPU-Util  Compute M. |\n",
            "|                               |                      |               MIG M. |\n",
            "|===============================+======================+======================|\n",
            "|   0  Tesla T4            Off  | 00000000:00:04.0 Off |                    0 |\n",
            "| N/A   34C    P8     8W /  70W |      3MiB / 15360MiB |      0%      Default |\n",
            "|                               |                      |                  N/A |\n",
            "+-------------------------------+----------------------+----------------------+\n",
            "                                                                               \n",
            "+-----------------------------------------------------------------------------+\n",
            "| Processes:                                                                  |\n",
            "|  GPU   GI   CI        PID   Type   Process name                  GPU Memory |\n",
            "|        ID   ID                                                   Usage      |\n",
            "|=============================================================================|\n",
            "|  No running processes found                                                 |\n",
            "+-----------------------------------------------------------------------------+\n"
          ]
        }
      ],
      "source": [
        "!nvidia-smi"
      ]
    },
    {
      "cell_type": "code",
      "execution_count": null,
      "metadata": {
        "id": "AxOt8PHY-ljT"
      },
      "outputs": [],
      "source": [
        "import jsonlines\n",
        "\n",
        "passage_ids = []\n",
        "passage_texts = []\n",
        "id_to_passage = dict()\n",
        "\n",
        "#Maps each id to its position in the corpus\n",
        "id_to_index = dict()\n",
        "\n",
        "with jsonlines.open(f\"{main_dir}/trec-covid/corpus.jsonl\") as reader:\n",
        "  for item in reader:\n",
        "    id = item[\"_id\"]\n",
        "    id_to_index[id] = len(passage_ids)\n",
        "    passage_ids.append(id)\n",
        "    text = item[\"title\"] + ' ' + item[\"text\"]\n",
        "    passage_texts.append(text)\n",
        "    id_to_passage[id] = text"
      ]
    },
    {
      "cell_type": "markdown",
      "source": [
        "## Pyserini BM25 Search Code"
      ],
      "metadata": {
        "id": "aDuy6nKteRae"
      }
    },
    {
      "cell_type": "code",
      "execution_count": 9,
      "metadata": {
        "id": "vY7H4KexI3t5"
      },
      "outputs": [],
      "source": [
        "from pyserini.search.lucene import LuceneSearcher\n",
        "import numpy as np\n",
        "import json"
      ]
    },
    {
      "cell_type": "code",
      "execution_count": 10,
      "metadata": {
        "id": "wikXMInXL8Eg"
      },
      "outputs": [],
      "source": [
        "def search_with_bm25(query,k = 1000, index_name='beir-v1.0.0-trec-covid.flat'):\n",
        "  if index_name == 'beir-v1.0.0-trec-covid.flat':   \n",
        "    searcher = LuceneSearcher.from_prebuilt_index(index_name)\n",
        "  else:\n",
        "    searcher = LuceneSearcher(index_name)\n",
        "  hits = searcher.search(query, k)\n",
        "  return hits"
      ]
    },
    {
      "cell_type": "markdown",
      "source": [
        "## NDCG@10 Evaluation Code"
      ],
      "metadata": {
        "id": "B2JmMNodNsGu"
      }
    },
    {
      "cell_type": "code",
      "execution_count": 11,
      "metadata": {
        "id": "cQpIOs4pMR9P"
      },
      "outputs": [],
      "source": [
        "import jsonlines\n",
        "\n",
        "query_ids = []\n",
        "query_texts = []\n",
        "\n",
        "with jsonlines.open(f\"{main_dir}/trec-covid/queries.jsonl\") as reader:\n",
        "  for item in reader:\n",
        "    id = item[\"_id\"]\n",
        "    query_ids.append(id)\n",
        "    text = item[\"text\"]\n",
        "    query_texts.append(text)\n",
        "     "
      ]
    },
    {
      "cell_type": "code",
      "execution_count": 12,
      "metadata": {
        "id": "wzr4rJ3kWSBW"
      },
      "outputs": [],
      "source": [
        "\n",
        "import pandas as pd\n",
        "\n",
        "qrel = pd.read_csv(f\"{main_dir}/trec-covid/test.tsv\", sep=\"\\t\", header=None, \n",
        "                   skiprows=1, names=[\"query\", \"docid\", \"rel\"])\n",
        "qrel[\"q0\"] = \"q0\"\n",
        "qrel = qrel.to_dict(orient=\"list\")"
      ]
    },
    {
      "cell_type": "code",
      "execution_count": 13,
      "metadata": {
        "id": "ANkR4QzgYF-a"
      },
      "outputs": [],
      "source": [
        "\n",
        "from evaluate import load\n",
        "\n",
        "def eval_ndcg10(run):\n",
        "  trec_eval = load(\"trec_eval\")\n",
        "  results = trec_eval.compute(predictions=[run], references=[qrel])\n",
        "  return results['NDCG@10'] "
      ]
    },
    {
      "cell_type": "markdown",
      "source": [
        "## Tests with BM25 (baseline)"
      ],
      "metadata": {
        "id": "NGd-6YGdKtMl"
      }
    },
    {
      "cell_type": "code",
      "source": [
        "from collections import defaultdict\n",
        "from tqdm import tqdm"
      ],
      "metadata": {
        "id": "szJB8FO7gE63"
      },
      "execution_count": 14,
      "outputs": []
    },
    {
      "cell_type": "code",
      "execution_count": null,
      "metadata": {
        "id": "buMr_hDlZE8s"
      },
      "outputs": [],
      "source": [
        "def search_all_bm25(top_k=1000):\n",
        "  run = defaultdict(list)\n",
        "\n",
        "  for id, query in tqdm(zip(query_ids, query_texts)):\n",
        "    bm25_hits = search_with_bm25(query)\n",
        "    ids = [json.loads(bm25_hits[i].raw)['_id'] for i in range(len(bm25_hits))]\n",
        "    run[\"query\"] += [id] * top_k\n",
        "    run[\"docid\"] += ids\n",
        "    run[\"score\"] += [1] * top_k\n",
        "    run[\"q0\"] += [\"q0\"] * top_k\n",
        "    run[\"rank\"] += list(range(1,top_k+1))\n",
        "    run[\"system\"] += [\"bm25\"] * top_k\n",
        "\n",
        "  return run\n"
      ]
    },
    {
      "cell_type": "code",
      "execution_count": null,
      "metadata": {
        "colab": {
          "base_uri": "https://localhost:8080/"
        },
        "id": "PeDFUKYsZVi4",
        "outputId": "b5eb119c-0366-4a15-c2cd-ebf98e8d6ea9"
      },
      "outputs": [
        {
          "output_type": "stream",
          "name": "stderr",
          "text": [
            "\r0it [00:00, ?it/s]"
          ]
        },
        {
          "output_type": "stream",
          "name": "stdout",
          "text": [
            "Downloading index at https://rgw.cs.uwaterloo.ca/pyserini/indexes/lucene-index.beir-v1.0.0-trec-covid.flat.20221116.505594.tar.gz...\n"
          ]
        },
        {
          "output_type": "stream",
          "name": "stderr",
          "text": [
            "\n",
            "lucene-index.beir-v1.0.0-trec-covid.flat.20221116.505594.tar.gz: 0.00B [00:00, ?B/s]\u001b[A\n",
            "lucene-index.beir-v1.0.0-trec-covid.flat.20221116.505594.tar.gz:   0%|          | 8.00k/216M [00:00<4:58:29, 12.6kB/s]\u001b[A\n",
            "lucene-index.beir-v1.0.0-trec-covid.flat.20221116.505594.tar.gz:   0%|          | 72.0k/216M [00:00<29:22, 128kB/s]   \u001b[A\n",
            "lucene-index.beir-v1.0.0-trec-covid.flat.20221116.505594.tar.gz:   0%|          | 80.0k/216M [00:02<1:52:06, 33.6kB/s]\u001b[A\n",
            "lucene-index.beir-v1.0.0-trec-covid.flat.20221116.505594.tar.gz:   1%|          | 1.57M/216M [00:02<03:03, 1.22MB/s]  \u001b[A\n",
            "lucene-index.beir-v1.0.0-trec-covid.flat.20221116.505594.tar.gz:   1%|          | 1.58M/216M [00:02<03:51, 969kB/s] \u001b[A\n",
            "lucene-index.beir-v1.0.0-trec-covid.flat.20221116.505594.tar.gz:   3%|▎         | 5.93M/216M [00:02<00:37, 5.84MB/s]\u001b[A\n",
            "lucene-index.beir-v1.0.0-trec-covid.flat.20221116.505594.tar.gz:   4%|▍         | 8.93M/216M [00:02<00:23, 9.25MB/s]\u001b[A\n",
            "lucene-index.beir-v1.0.0-trec-covid.flat.20221116.505594.tar.gz:   6%|▌         | 11.9M/216M [00:02<00:16, 12.8MB/s]\u001b[A\n",
            "lucene-index.beir-v1.0.0-trec-covid.flat.20221116.505594.tar.gz:   7%|▋         | 14.9M/216M [00:02<00:13, 16.1MB/s]\u001b[A\n",
            "lucene-index.beir-v1.0.0-trec-covid.flat.20221116.505594.tar.gz:   8%|▊         | 17.9M/216M [00:02<00:10, 19.2MB/s]\u001b[A\n",
            "lucene-index.beir-v1.0.0-trec-covid.flat.20221116.505594.tar.gz:  10%|▉         | 20.9M/216M [00:03<00:09, 21.8MB/s]\u001b[A\n",
            "lucene-index.beir-v1.0.0-trec-covid.flat.20221116.505594.tar.gz:  11%|█         | 23.9M/216M [00:03<00:08, 24.0MB/s]\u001b[A\n",
            "lucene-index.beir-v1.0.0-trec-covid.flat.20221116.505594.tar.gz:  11%|█         | 23.9M/216M [00:03<00:13, 14.5MB/s]\u001b[A\n",
            "lucene-index.beir-v1.0.0-trec-covid.flat.20221116.505594.tar.gz:  13%|█▎        | 28.1M/216M [00:03<00:09, 21.5MB/s]\u001b[A\n",
            "lucene-index.beir-v1.0.0-trec-covid.flat.20221116.505594.tar.gz:  14%|█▍        | 31.1M/216M [00:03<00:08, 23.9MB/s]\u001b[A\n",
            "lucene-index.beir-v1.0.0-trec-covid.flat.20221116.505594.tar.gz:  16%|█▌        | 34.1M/216M [00:03<00:07, 25.3MB/s]\u001b[A\n",
            "lucene-index.beir-v1.0.0-trec-covid.flat.20221116.505594.tar.gz:  17%|█▋        | 37.1M/216M [00:03<00:07, 26.5MB/s]\u001b[A\n",
            "lucene-index.beir-v1.0.0-trec-covid.flat.20221116.505594.tar.gz:  19%|█▊        | 40.1M/216M [00:03<00:06, 27.6MB/s]\u001b[A\n",
            "lucene-index.beir-v1.0.0-trec-covid.flat.20221116.505594.tar.gz:  20%|█▉        | 43.1M/216M [00:03<00:06, 28.4MB/s]\u001b[A\n",
            "lucene-index.beir-v1.0.0-trec-covid.flat.20221116.505594.tar.gz:  21%|██▏       | 46.0M/216M [00:04<00:06, 29.0MB/s]\u001b[A\n",
            "lucene-index.beir-v1.0.0-trec-covid.flat.20221116.505594.tar.gz:  23%|██▎       | 49.0M/216M [00:04<00:05, 29.3MB/s]\u001b[A\n",
            "lucene-index.beir-v1.0.0-trec-covid.flat.20221116.505594.tar.gz:  24%|██▍       | 52.0M/216M [00:04<00:05, 29.7MB/s]\u001b[A\n",
            "lucene-index.beir-v1.0.0-trec-covid.flat.20221116.505594.tar.gz:  24%|██▍       | 52.0M/216M [00:05<00:24, 6.94MB/s]\u001b[A\n",
            "lucene-index.beir-v1.0.0-trec-covid.flat.20221116.505594.tar.gz:  26%|██▋       | 56.9M/216M [00:05<00:13, 12.2MB/s]\u001b[A\n",
            "lucene-index.beir-v1.0.0-trec-covid.flat.20221116.505594.tar.gz:  26%|██▋       | 56.9M/216M [00:05<00:20, 8.29MB/s]\u001b[A\n",
            "lucene-index.beir-v1.0.0-trec-covid.flat.20221116.505594.tar.gz:  29%|██▊       | 61.8M/216M [00:05<00:11, 14.2MB/s]\u001b[A\n",
            "lucene-index.beir-v1.0.0-trec-covid.flat.20221116.505594.tar.gz:  30%|███       | 64.7M/216M [00:05<00:09, 17.0MB/s]\u001b[A\n",
            "lucene-index.beir-v1.0.0-trec-covid.flat.20221116.505594.tar.gz:  31%|███▏      | 67.7M/216M [00:05<00:07, 19.7MB/s]\u001b[A\n",
            "lucene-index.beir-v1.0.0-trec-covid.flat.20221116.505594.tar.gz:  33%|███▎      | 70.7M/216M [00:05<00:06, 22.1MB/s]\u001b[A\n",
            "lucene-index.beir-v1.0.0-trec-covid.flat.20221116.505594.tar.gz:  34%|███▍      | 73.7M/216M [00:05<00:06, 24.2MB/s]\u001b[A\n",
            "lucene-index.beir-v1.0.0-trec-covid.flat.20221116.505594.tar.gz:  36%|███▌      | 76.7M/216M [00:06<00:05, 26.0MB/s]\u001b[A\n",
            "lucene-index.beir-v1.0.0-trec-covid.flat.20221116.505594.tar.gz:  37%|███▋      | 79.7M/216M [00:06<00:05, 23.9MB/s]\u001b[A\n",
            "lucene-index.beir-v1.0.0-trec-covid.flat.20221116.505594.tar.gz:  37%|███▋      | 79.7M/216M [00:06<00:10, 13.7MB/s]\u001b[A\n",
            "lucene-index.beir-v1.0.0-trec-covid.flat.20221116.505594.tar.gz:  39%|███▉      | 84.4M/216M [00:06<00:06, 21.2MB/s]\u001b[A\n",
            "lucene-index.beir-v1.0.0-trec-covid.flat.20221116.505594.tar.gz:  41%|████      | 87.4M/216M [00:06<00:05, 23.5MB/s]\u001b[A\n",
            "lucene-index.beir-v1.0.0-trec-covid.flat.20221116.505594.tar.gz:  42%|████▏     | 90.1M/216M [00:06<00:05, 24.2MB/s]\u001b[A\n",
            "lucene-index.beir-v1.0.0-trec-covid.flat.20221116.505594.tar.gz:  43%|████▎     | 93.0M/216M [00:06<00:04, 26.0MB/s]\u001b[A\n",
            "lucene-index.beir-v1.0.0-trec-covid.flat.20221116.505594.tar.gz:  44%|████▍     | 96.0M/216M [00:06<00:04, 27.2MB/s]\u001b[A\n",
            "lucene-index.beir-v1.0.0-trec-covid.flat.20221116.505594.tar.gz:  46%|████▌     | 98.6M/216M [00:07<00:04, 27.2MB/s]\u001b[A\n",
            "lucene-index.beir-v1.0.0-trec-covid.flat.20221116.505594.tar.gz:  47%|████▋     | 101M/216M [00:07<00:04, 27.7MB/s] \u001b[A\n",
            "lucene-index.beir-v1.0.0-trec-covid.flat.20221116.505594.tar.gz:  48%|████▊     | 104M/216M [00:07<00:04, 28.5MB/s]\u001b[A\n",
            "lucene-index.beir-v1.0.0-trec-covid.flat.20221116.505594.tar.gz:  50%|████▉     | 107M/216M [00:09<00:03, 29.0MB/s]\u001b[A\n",
            "lucene-index.beir-v1.0.0-trec-covid.flat.20221116.505594.tar.gz:  50%|████▉     | 107M/216M [00:09<00:32, 3.46MB/s]\u001b[A\n",
            "lucene-index.beir-v1.0.0-trec-covid.flat.20221116.505594.tar.gz:  52%|█████▏    | 113M/216M [00:10<00:16, 6.71MB/s]\u001b[A\n",
            "lucene-index.beir-v1.0.0-trec-covid.flat.20221116.505594.tar.gz:  52%|█████▏    | 113M/216M [00:10<00:28, 3.86MB/s]\u001b[A\n",
            "lucene-index.beir-v1.0.0-trec-covid.flat.20221116.505594.tar.gz:  54%|█████▍    | 118M/216M [00:10<00:14, 7.27MB/s]\u001b[A\n",
            "lucene-index.beir-v1.0.0-trec-covid.flat.20221116.505594.tar.gz:  54%|█████▍    | 118M/216M [00:10<00:17, 5.87MB/s]\u001b[A\n",
            "lucene-index.beir-v1.0.0-trec-covid.flat.20221116.505594.tar.gz:  57%|█████▋    | 122M/216M [00:10<00:09, 10.6MB/s]\u001b[A\n",
            "lucene-index.beir-v1.0.0-trec-covid.flat.20221116.505594.tar.gz:  58%|█████▊    | 125M/216M [00:10<00:07, 13.2MB/s]\u001b[A\n",
            "lucene-index.beir-v1.0.0-trec-covid.flat.20221116.505594.tar.gz:  60%|█████▉    | 128M/216M [00:10<00:05, 16.0MB/s]\u001b[A\n",
            "lucene-index.beir-v1.0.0-trec-covid.flat.20221116.505594.tar.gz:  61%|██████    | 131M/216M [00:10<00:04, 18.8MB/s]\u001b[A\n",
            "lucene-index.beir-v1.0.0-trec-covid.flat.20221116.505594.tar.gz:  62%|██████▏   | 134M/216M [00:10<00:04, 21.1MB/s]\u001b[A\n",
            "lucene-index.beir-v1.0.0-trec-covid.flat.20221116.505594.tar.gz:  64%|██████▎   | 137M/216M [00:11<00:03, 23.4MB/s]\u001b[A\n",
            "lucene-index.beir-v1.0.0-trec-covid.flat.20221116.505594.tar.gz:  65%|██████▌   | 140M/216M [00:11<00:03, 25.2MB/s]\u001b[A\n",
            "lucene-index.beir-v1.0.0-trec-covid.flat.20221116.505594.tar.gz:  66%|██████▋   | 143M/216M [00:12<00:02, 25.5MB/s]\u001b[A\n",
            "lucene-index.beir-v1.0.0-trec-covid.flat.20221116.505594.tar.gz:  66%|██████▋   | 143M/216M [00:12<00:12, 6.14MB/s]\u001b[A\n",
            "lucene-index.beir-v1.0.0-trec-covid.flat.20221116.505594.tar.gz:  69%|██████▊   | 148M/216M [00:12<00:06, 11.3MB/s]\u001b[A\n",
            "lucene-index.beir-v1.0.0-trec-covid.flat.20221116.505594.tar.gz:  69%|██████▊   | 148M/216M [00:12<00:08, 8.22MB/s]\u001b[A\n",
            "lucene-index.beir-v1.0.0-trec-covid.flat.20221116.505594.tar.gz:  71%|███████   | 153M/216M [00:12<00:04, 14.1MB/s]\u001b[A\n",
            "lucene-index.beir-v1.0.0-trec-covid.flat.20221116.505594.tar.gz:  72%|███████▏  | 156M/216M [00:12<00:03, 16.8MB/s]\u001b[A\n",
            "lucene-index.beir-v1.0.0-trec-covid.flat.20221116.505594.tar.gz:  74%|███████▎  | 159M/216M [00:12<00:03, 19.5MB/s]\u001b[A\n",
            "lucene-index.beir-v1.0.0-trec-covid.flat.20221116.505594.tar.gz:  75%|███████▌  | 162M/216M [00:12<00:02, 21.9MB/s]\u001b[A\n",
            "lucene-index.beir-v1.0.0-trec-covid.flat.20221116.505594.tar.gz:  76%|███████▋  | 165M/216M [00:12<00:02, 24.0MB/s]\u001b[A\n",
            "lucene-index.beir-v1.0.0-trec-covid.flat.20221116.505594.tar.gz:  78%|███████▊  | 168M/216M [00:13<00:01, 25.7MB/s]\u001b[A\n",
            "lucene-index.beir-v1.0.0-trec-covid.flat.20221116.505594.tar.gz:  79%|███████▉  | 171M/216M [00:13<00:01, 26.5MB/s]\u001b[A\n",
            "lucene-index.beir-v1.0.0-trec-covid.flat.20221116.505594.tar.gz:  80%|████████  | 174M/216M [00:13<00:01, 27.2MB/s]\u001b[A\n",
            "lucene-index.beir-v1.0.0-trec-covid.flat.20221116.505594.tar.gz:  82%|████████▏ | 177M/216M [00:14<00:01, 28.0MB/s]\u001b[A\n",
            "lucene-index.beir-v1.0.0-trec-covid.flat.20221116.505594.tar.gz:  82%|████████▏ | 177M/216M [00:14<00:05, 7.48MB/s]\u001b[A\n",
            "lucene-index.beir-v1.0.0-trec-covid.flat.20221116.505594.tar.gz:  84%|████████▍ | 182M/216M [00:14<00:02, 13.7MB/s]\u001b[A\n",
            "lucene-index.beir-v1.0.0-trec-covid.flat.20221116.505594.tar.gz:  84%|████████▍ | 182M/216M [00:14<00:03, 9.34MB/s]\u001b[A\n",
            "lucene-index.beir-v1.0.0-trec-covid.flat.20221116.505594.tar.gz:  86%|████████▋ | 186M/216M [00:14<00:01, 15.4MB/s]\u001b[A\n",
            "lucene-index.beir-v1.0.0-trec-covid.flat.20221116.505594.tar.gz:  88%|████████▊ | 189M/216M [00:14<00:01, 18.1MB/s]\u001b[A\n",
            "lucene-index.beir-v1.0.0-trec-covid.flat.20221116.505594.tar.gz:  89%|████████▉ | 192M/216M [00:14<00:01, 20.7MB/s]\u001b[A\n",
            "lucene-index.beir-v1.0.0-trec-covid.flat.20221116.505594.tar.gz:  91%|█████████ | 195M/216M [00:14<00:00, 22.8MB/s]\u001b[A\n",
            "lucene-index.beir-v1.0.0-trec-covid.flat.20221116.505594.tar.gz:  92%|█████████▏| 198M/216M [00:14<00:00, 24.8MB/s]\u001b[A\n",
            "lucene-index.beir-v1.0.0-trec-covid.flat.20221116.505594.tar.gz:  93%|█████████▎| 201M/216M [00:15<00:00, 26.3MB/s]\u001b[A\n",
            "lucene-index.beir-v1.0.0-trec-covid.flat.20221116.505594.tar.gz:  95%|█████████▍| 204M/216M [00:15<00:00, 27.5MB/s]\u001b[A\n",
            "lucene-index.beir-v1.0.0-trec-covid.flat.20221116.505594.tar.gz:  95%|█████████▍| 204M/216M [00:15<00:00, 15.8MB/s]\u001b[A\n",
            "lucene-index.beir-v1.0.0-trec-covid.flat.20221116.505594.tar.gz:  97%|█████████▋| 209M/216M [00:15<00:00, 23.4MB/s]\u001b[A\n",
            "lucene-index.beir-v1.0.0-trec-covid.flat.20221116.505594.tar.gz:  98%|█████████▊| 212M/216M [00:15<00:00, 25.2MB/s]\u001b[A\n",
            "lucene-index.beir-v1.0.0-trec-covid.flat.20221116.505594.tar.gz: 216MB [00:15, 14.4MB/s]                           \n",
            "50it [00:33,  1.51it/s]\n"
          ]
        }
      ],
      "source": [
        "run_bm25 = search_all_bm25()"
      ]
    },
    {
      "cell_type": "code",
      "execution_count": null,
      "metadata": {
        "colab": {
          "base_uri": "https://localhost:8080/",
          "height": 170,
          "referenced_widgets": [
            "7f6aaf3392164c519b7b52faf2fb8398",
            "34798ef700c54ec9b21a5cf747a94862",
            "bf60a81658914828aaead2ab6715e068",
            "441c4d91fa954a1798beb9cec990c05b",
            "b12788f3ce3f4435873dd5932dddaee8",
            "5525f6f5581d4ec9ae0b3109b23ff3ca",
            "afa3bd3e95b8442e922922563e4ce26d",
            "e7669dbe41d2470faaf68c60041b58b5",
            "9304002e8a3f426e839e0a65cc57ec69",
            "5f45679aa8d34dd19fd68c78eb41d2de",
            "0f563670a0904d78b3f845532b9f4187"
          ]
        },
        "id": "KHJLDlnbaOGR",
        "outputId": "556bf2f8-ae05-484b-ba6c-a9b3ccb3fd2a"
      },
      "outputs": [
        {
          "output_type": "display_data",
          "data": {
            "text/plain": [
              "Downloading builder script:   0%|          | 0.00/5.51k [00:00<?, ?B/s]"
            ],
            "application/vnd.jupyter.widget-view+json": {
              "version_major": 2,
              "version_minor": 0,
              "model_id": "7f6aaf3392164c519b7b52faf2fb8398"
            }
          },
          "metadata": {}
        },
        {
          "output_type": "stream",
          "name": "stderr",
          "text": [
            "/usr/local/lib/python3.10/dist-packages/trectools/trec_eval.py:480: SettingWithCopyWarning: \n",
            "A value is trying to be set on a copy of a slice from a DataFrame.\n",
            "Try using .loc[row_indexer,col_indexer] = value instead\n",
            "\n",
            "See the caveats in the documentation: https://pandas.pydata.org/pandas-docs/stable/user_guide/indexing.html#returning-a-view-versus-a-copy\n",
            "  topX[\"rank\"] = 1\n"
          ]
        },
        {
          "output_type": "execute_result",
          "data": {
            "text/plain": [
              "0.5946917010118077"
            ]
          },
          "metadata": {},
          "execution_count": 23
        }
      ],
      "source": [
        "eval_ndcg10(run_bm25)"
      ]
    },
    {
      "cell_type": "markdown",
      "metadata": {
        "id": "yYQXlV9Hzx_J"
      },
      "source": [
        "## Baseline: SPLADE"
      ]
    },
    {
      "cell_type": "code",
      "execution_count": 15,
      "metadata": {
        "id": "pDokC1fwvGg3"
      },
      "outputs": [],
      "source": [
        "from transformers import BertTokenizer, BertForMaskedLM, DistilBertTokenizer, DistilBertForMaskedLM\n",
        "from transformers import AutoModelForMaskedLM, AutoTokenizer"
      ]
    },
    {
      "cell_type": "code",
      "execution_count": 16,
      "metadata": {
        "colab": {
          "base_uri": "https://localhost:8080/",
          "height": 209,
          "referenced_widgets": [
            "4778996313ed4f30a6c0a31224905501",
            "87d42c1da11e46b090fc4bf76eafefab",
            "85c9ca1d3c9340de8d78bb58dec0fa6a",
            "45d2649fb8cc4217b5d92352cf94daf0",
            "2f7b4899b8f9424bb94f07bb1d6ef99c",
            "5e3a358f1b09419dab5ac797d76127f9",
            "ed9329c0f5404a919d448bd9e2f45f48",
            "e4b37ab879664e5dac624eeed8c8b3c8",
            "2dfa3c7eb49c46aca3e9592750282d26",
            "138f337998cb4a75b6426bef9964e585",
            "ddd20f0e761646bcb6a99f6be233ccfd",
            "04c20fb4a06f4932a8d3a429fefefe7f",
            "5c017a4e89f84b3da313e591e5688911",
            "36cec2050516455faaba44f9ce754695",
            "927ed51fcaf6413fb35df150cffdaac8",
            "38d35d3924344cc3975991dc8a30d19b",
            "6eb68bcd9fba483a871fe0062da50e77",
            "6a4bc8b73f4340e9a084e95ffdc2f68b",
            "e4b04474669d4b779fba1d4970cb1303",
            "f7372085e868427f8cac3f4091d6c51a",
            "93cad3c42c4240ed9b496ad18df8cab8",
            "854f4618375f441fadc0a55d53fa0b6e",
            "243f4e2f25fd414ba3f2a59f799ee654",
            "0dee6b1b6f04441ab5133e58b2a52c0b",
            "d37baf76c9f8483a9097ba8ced9e33d3",
            "327f7fcd35374d2ebfc294ad07f74ef5",
            "040dcb5ab0c0425d9141751bd9351f61",
            "f2e74a1eb9254c23a3a85631eda0f45b",
            "fa2a1fb2792b4000ab02006e9cb5c45e",
            "b2e6ad6dff7147a8bcf1fac67ba4fb51",
            "1c4bfb10b47d4030b13d3f03568183f7",
            "8c49a3fcac8545e5ab6103d11c4fdf3a",
            "6a624f240c414d3b81273b77f24cc2d0",
            "5bf67a03e38d4e0a8b0a45d3a99bd4a7",
            "50c99da219884d399727763207773882",
            "19c8f729f6284c199e4c284d588de3fb",
            "3920527aa2a948a6ac6d676162c6d374",
            "97295c2122a547e8be3102273c097675",
            "43395137d187457eb3a20a64ec7cbed2",
            "1187e2f4703a4b04aee6e48399255a8b",
            "7eb110f8da3d46279f5b3e3f42649ba3",
            "fab28c0abd9e4bbc982e4907840a0404",
            "88a7ee617d324882bf07cf17907a9e21",
            "8a16d6702961400cb8d042509806c1a4",
            "299b4cdbc02a4441b9a58e0fc1851314",
            "ddddec28335941d88cbaadfbc5b1aa44",
            "7515b9eb4e754be3b8822ec1f4777ada",
            "10d15b8197e343489950ec909cd46573",
            "7900e968193349cbaf92afcc06ab6f20",
            "c5a5f91993754693bc619cab80c799de",
            "2a2828648eae42ceb9fb3e966fc71c50",
            "5b9157f6479b48f1b52c7b6212a7acf6",
            "fb1afdc3566d4bc7a09b9bab4762666c",
            "1d505c47a82d40e4a9cfe6e4bd81148d",
            "34bc34be1d77498ea33ea4ab051d2fe5",
            "464a567503a84ff1b23ab79320386b11",
            "25eb8e713c1541b4a7ce1aab36568267",
            "1b492781d8a547e7af7872bde57ea0e4",
            "c02f4b94e9744dc8ab4074f53913d4be",
            "5dc61bca3f7247828e3370e8086d018c",
            "5be71af0664b4b409420606ce49d5aeb",
            "2ed6e3a2e87e46ad9b53594479df34a6",
            "fec3725d8ca54967b6a54864952c6421",
            "72d6d13287c7439b88c0571f6817381a",
            "b4a5720becd949eaa8f5a0b34db6e4ff",
            "bc8b63bc96e94986995b5e79a1858b1d"
          ]
        },
        "id": "DnuCdfuR0Q1i",
        "outputId": "ab333b11-ba5b-4793-c3e5-d73b48f535d0"
      },
      "outputs": [
        {
          "output_type": "display_data",
          "data": {
            "text/plain": [
              "Downloading (…)okenizer_config.json:   0%|          | 0.00/466 [00:00<?, ?B/s]"
            ],
            "application/vnd.jupyter.widget-view+json": {
              "version_major": 2,
              "version_minor": 0,
              "model_id": "4778996313ed4f30a6c0a31224905501"
            }
          },
          "metadata": {}
        },
        {
          "output_type": "display_data",
          "data": {
            "text/plain": [
              "Downloading (…)solve/main/vocab.txt:   0%|          | 0.00/232k [00:00<?, ?B/s]"
            ],
            "application/vnd.jupyter.widget-view+json": {
              "version_major": 2,
              "version_minor": 0,
              "model_id": "04c20fb4a06f4932a8d3a429fefefe7f"
            }
          },
          "metadata": {}
        },
        {
          "output_type": "display_data",
          "data": {
            "text/plain": [
              "Downloading (…)/main/tokenizer.json:   0%|          | 0.00/466k [00:00<?, ?B/s]"
            ],
            "application/vnd.jupyter.widget-view+json": {
              "version_major": 2,
              "version_minor": 0,
              "model_id": "243f4e2f25fd414ba3f2a59f799ee654"
            }
          },
          "metadata": {}
        },
        {
          "output_type": "display_data",
          "data": {
            "text/plain": [
              "Downloading (…)cial_tokens_map.json:   0%|          | 0.00/112 [00:00<?, ?B/s]"
            ],
            "application/vnd.jupyter.widget-view+json": {
              "version_major": 2,
              "version_minor": 0,
              "model_id": "5bf67a03e38d4e0a8b0a45d3a99bd4a7"
            }
          },
          "metadata": {}
        },
        {
          "output_type": "display_data",
          "data": {
            "text/plain": [
              "Downloading (…)lve/main/config.json:   0%|          | 0.00/670 [00:00<?, ?B/s]"
            ],
            "application/vnd.jupyter.widget-view+json": {
              "version_major": 2,
              "version_minor": 0,
              "model_id": "299b4cdbc02a4441b9a58e0fc1851314"
            }
          },
          "metadata": {}
        },
        {
          "output_type": "display_data",
          "data": {
            "text/plain": [
              "Downloading pytorch_model.bin:   0%|          | 0.00/438M [00:00<?, ?B/s]"
            ],
            "application/vnd.jupyter.widget-view+json": {
              "version_major": 2,
              "version_minor": 0,
              "model_id": "464a567503a84ff1b23ab79320386b11"
            }
          },
          "metadata": {}
        }
      ],
      "source": [
        "model_name_1 = 'naver/splade_v2_distil' \n",
        "model_name_2 = 'naver/splade-cocondenser-selfdistil'\n",
        "model_name_3 = 'naver/splade-cocondenser-ensembledistil' \n",
        "\n",
        "#tokenizer_1 = DistilBertTokenizer.from_pretrained(model_name_1)\n",
        "#model_1 = DistilBertForMaskedLM.from_pretrained(model_name_1)\n",
        "\n",
        "#tokenizer_2 = BertTokenizer.from_pretrained(model_name_2)\n",
        "#model_2 = BertForMaskedLM.from_pretrained(model_name_2)\n",
        "\n",
        "tokenizer_3 = AutoTokenizer.from_pretrained(model_name_3)\n",
        "model_3 = AutoModelForMaskedLM.from_pretrained(model_name_3)"
      ]
    },
    {
      "cell_type": "code",
      "execution_count": 17,
      "metadata": {
        "id": "BLF0gopU1wFh"
      },
      "outputs": [],
      "source": [
        "model = model_3\n",
        "tokenizer = tokenizer_3"
      ]
    },
    {
      "cell_type": "code",
      "execution_count": 18,
      "metadata": {
        "id": "4uRoAXTB-KOc"
      },
      "outputs": [],
      "source": [
        "def vectorize_to_sparse_batch(batch, model=model, remove_special_tokens=True):\n",
        "  model.to(device)\n",
        "  model.eval()\n",
        "  \n",
        "  with torch.no_grad():\n",
        "    output = model(batch['input_ids'].to(device), batch['attention_mask'].to(device))\n",
        "\n",
        "  w_ij = output.logits.to(device)\n",
        "\n",
        "  #Kudos Leandro Carísio\n",
        "  mask_tokens_validos = batch['attention_mask'].to(device)\n",
        "  mask = mask_tokens_validos.unsqueeze(-1).expand(w_ij.size())\n",
        "  \n",
        "  wj = torch.max(torch.log(1 + relu(w_ij*mask)), dim=1)[0]\n",
        "\n",
        "  #According to ChatGPT: In PyTorch, the to_sparse() method is used to convert a \n",
        "  #dense tensor into a sparse tensor.  A dense tensor is a tensor that contains \n",
        "  #all elements, including those with zero values. In contrast, a sparse tensor \n",
        "  #is a tensor that only stores the non-zero elements, along with their indices. \n",
        "  #Sparse tensors are useful when working with large tensors with mostly zero \n",
        "  #values, as they can save memory and computational resources.\n",
        "  return wj.to_sparse()"
      ]
    },
    {
      "cell_type": "code",
      "execution_count": 19,
      "metadata": {
        "id": "citydImK8bGO"
      },
      "outputs": [],
      "source": [
        "import torch\n",
        "from torch.nn.functional import relu\n",
        "import time\n",
        "\n",
        "device = torch.device(\"cuda\" if torch.cuda.is_available() else \"cpu\")\n",
        "\n",
        "def vectorize_to_sparse(text, tokenizer=tokenizer, model=model, remove_special_tokens=False):\n",
        "  # Kudos to Marcos Piau\n",
        "  with torch.autocast(device_type='cuda', dtype=torch.float16, enabled=True):\n",
        "    tokenized_text = tokenizer(text, max_length=max_length, truncation=True, \n",
        "                              return_tensors='pt', \n",
        "                              return_special_tokens_mask=True).to(device)\n",
        "    \n",
        "    model.to(device)\n",
        "    model.eval()\n",
        "    \n",
        "    with torch.no_grad():\n",
        "      output = model(tokenized_text['input_ids'].to(device), \n",
        "                     attention_mask=tokenized_text['attention_mask'].to(device))\n",
        "\n",
        "    w_ij = output.logits[0,:]\n",
        "\n",
        "    mask_tokens_validos = 1 - tokenized_text['special_tokens_mask'].to(device)\n",
        "\n",
        "    #Kudos Leandro Carísio\n",
        "    #1) Removes all dimenstions of size 1 (here, it's the first one)\n",
        "    #2) Adds a 1 dimension to the end (equivalent to transpose, I think)\n",
        "    #3) Replicates (expands) up to the vocabulary size -> 5 X 30k \n",
        "    if remove_special_tokens:\n",
        "      mask = mask_tokens_validos.squeeze().unsqueeze(-1).expand(w_ij.size())\n",
        "    else:\n",
        "      mask = mask_tokens_validos.squeeze().unsqueeze(-1).expand(w_ij.size())\n",
        "      mask = torch.ones(mask.size()).to(device)\n",
        "\n",
        "    wj = torch.max(torch.log(1 + relu(w_ij*mask)), dim=0)[0]\n",
        "\n",
        "  #According to ChatGPT: In PyTorch, the to_sparse() method is used to convert a \n",
        "  #dense tensor into a sparse tensor.  A dense tensor is a tensor that contains \n",
        "  #all elements, including those with zero values. In contrast, a sparse tensor \n",
        "  #is a tensor that only stores the non-zero elements, along with their indices. \n",
        "  #Sparse tensors are useful when working with large tensors with mostly zero \n",
        "  #values, as they can save memory and computational resources.\n",
        "  return wj.to_sparse()"
      ]
    },
    {
      "cell_type": "code",
      "execution_count": null,
      "metadata": {
        "id": "CLVlQ93a-kwX"
      },
      "outputs": [],
      "source": [
        "import jsonlines\n",
        "\n",
        "passage_ids = []\n",
        "passage_texts = []\n",
        "id_to_text = dict()\n",
        "\n",
        "with jsonlines.open(f\"{main_dir}/trec-covid/corpus.jsonl\") as reader:\n",
        "  for item in reader:\n",
        "    id = item[\"_id\"]\n",
        "    passage_ids.append(id)\n",
        "    text = item[\"title\"] + ' ' + item[\"text\"]\n",
        "    passage_texts.append(text)\n",
        "    id_to_text[id] = text\n",
        "\n",
        "#Sorts the passages by length\n",
        "passage_indices = sorted(range(len(passage_texts)), \n",
        "                         key=lambda k: len(passage_texts[k]))\n",
        "passage_texts = sorted(passage_texts, key=lambda k: len(k))\n",
        "passage_ids = sorted(passage_ids, key=lambda k: len(id_to_text[k]))"
      ]
    },
    {
      "cell_type": "code",
      "execution_count": null,
      "metadata": {
        "id": "7tJlFJz2-7mc"
      },
      "outputs": [],
      "source": [
        "from torch.utils import data\n",
        "\n",
        "class Dataset(data.Dataset):\n",
        "    def __init__(self, tokenized_texts):\n",
        "        self.tokenized_texts = tokenized_texts\n",
        "    \n",
        "    def __len__(self):\n",
        "        return len(self.tokenized_texts['input_ids'])\n",
        "    \n",
        "    def __getitem__(self, idx):\n",
        "        #return self.tokenized_texts[idx]\n",
        "        return {\n",
        "            'input_ids': self.tokenized_texts['input_ids'][idx],\n",
        "            'attention_mask': self.tokenized_texts['attention_mask'][idx],\n",
        "            'special_tokens_mask': self.tokenized_texts['special_tokens_mask'][idx]\n",
        "        }"
      ]
    },
    {
      "cell_type": "code",
      "execution_count": null,
      "metadata": {
        "id": "sZ2YPGiX-8Dd"
      },
      "outputs": [],
      "source": [
        "from transformers import BatchEncoding\n",
        "\n",
        "def collate_fn(batch):\n",
        "    return BatchEncoding(tokenizer.pad(batch, return_tensors='pt'))"
      ]
    },
    {
      "cell_type": "code",
      "execution_count": 20,
      "metadata": {
        "id": "-2GsOPUN_OBw"
      },
      "outputs": [],
      "source": [
        "max_length=256\n",
        "batch_size = 32"
      ]
    },
    {
      "cell_type": "code",
      "execution_count": null,
      "metadata": {
        "id": "DBrX5YcM--UH"
      },
      "outputs": [],
      "source": [
        "import time\n",
        "\n",
        "start = time.time()\n",
        "test_passages_tokenized = tokenizer(passage_texts, max_length=max_length, \n",
        "                                   truncation=True, padding=True, \n",
        "                                   return_special_tokens_mask=True)\n",
        "dataset_passages_test = Dataset(test_passages_tokenized)\n",
        "dataloader_passages_test = data.DataLoader(dataset_passages_test, \n",
        "                                          batch_size=batch_size, shuffle=False, \n",
        "                                          collate_fn=collate_fn)\n",
        "end = time.time()\n",
        "print(\"Time spent on tokenization = \", end - start)"
      ]
    },
    {
      "cell_type": "code",
      "execution_count": null,
      "metadata": {
        "colab": {
          "base_uri": "https://localhost:8080/"
        },
        "id": "4WbyP6mXLb5T",
        "outputId": "a17d4bfb-c382-4dbf-e8c3-df780e0a1994"
      },
      "outputs": [
        {
          "data": {
            "text/plain": [
              "171332"
            ]
          },
          "execution_count": 43,
          "metadata": {},
          "output_type": "execute_result"
        }
      ],
      "source": [
        "len(dataset_passages_test)"
      ]
    },
    {
      "cell_type": "code",
      "execution_count": null,
      "metadata": {
        "id": "PiSghN2d_vVD"
      },
      "outputs": [],
      "source": [
        "import torch\n",
        "from tqdm import tqdm\n",
        "import time\n",
        "\n",
        "def build_docs_matrix(dataloader_passages_test):\n",
        "  start = time.time()\n",
        "\n",
        "  docs_matrix = None\n",
        "\n",
        "  # kudos Marcos Piau\n",
        "  with torch.autocast(device_type=str(device), dtype=torch.float16, enabled=True):\n",
        "    for doc_batch in tqdm(dataloader_passages_test, mininterval=0.5, desc='Test', \n",
        "                                            disable=False):\n",
        "      doc_vector = vectorize_to_sparse_batch(doc_batch, model=model)\n",
        "\n",
        "      if docs_matrix is None:\n",
        "        docs_matrix = doc_vector\n",
        "      else:\n",
        "        docs_matrix = torch.cat((docs_matrix, doc_vector), dim=0)\n",
        "\n",
        "  end = time.time()\n",
        "  print(\"Time spent on matrix building = \", end - start)\n",
        "  return docs_matrix"
      ]
    },
    {
      "cell_type": "code",
      "execution_count": null,
      "metadata": {
        "colab": {
          "base_uri": "https://localhost:8080/"
        },
        "id": "jebSYhb0uJEE",
        "outputId": "c0b2a248-b109-41f4-beae-d99d0133cadd"
      },
      "outputs": [
        {
          "name": "stderr",
          "output_type": "stream",
          "text": [
            "Test:   0%|          | 0/5355 [00:00<?, ?it/s]You're using a BertTokenizerFast tokenizer. Please note that with a fast tokenizer, using the `__call__` method is faster than using a method to encode the text followed by a call to the `pad` method to get a padded encoding.\n",
            "Test: 100%|██████████| 5355/5355 [38:05<00:00,  2.34it/s]"
          ]
        },
        {
          "name": "stdout",
          "output_type": "stream",
          "text": [
            "Time spent on matrix building =  2285.0667567253113\n"
          ]
        },
        {
          "name": "stderr",
          "output_type": "stream",
          "text": [
            "\n"
          ]
        }
      ],
      "source": [
        "docs_matrix = build_docs_matrix(dataloader_passages_test)"
      ]
    },
    {
      "cell_type": "code",
      "execution_count": null,
      "metadata": {
        "colab": {
          "base_uri": "https://localhost:8080/"
        },
        "id": "VAv4t6SH_GMu",
        "outputId": "1145481c-c6c8-4890-b0f8-8ae69992a277"
      },
      "outputs": [
        {
          "output_type": "stream",
          "name": "stdout",
          "text": [
            "Wed May 10 14:59:18 2023       \n",
            "+-----------------------------------------------------------------------------+\n",
            "| NVIDIA-SMI 525.85.12    Driver Version: 525.85.12    CUDA Version: 12.0     |\n",
            "|-------------------------------+----------------------+----------------------+\n",
            "| GPU  Name        Persistence-M| Bus-Id        Disp.A | Volatile Uncorr. ECC |\n",
            "| Fan  Temp  Perf  Pwr:Usage/Cap|         Memory-Usage | GPU-Util  Compute M. |\n",
            "|                               |                      |               MIG M. |\n",
            "|===============================+======================+======================|\n",
            "|   0  NVIDIA A100-SXM...  Off  | 00000000:00:04.0 Off |                    0 |\n",
            "| N/A   32C    P0    44W / 400W |      3MiB / 40960MiB |      0%      Default |\n",
            "|                               |                      |             Disabled |\n",
            "+-------------------------------+----------------------+----------------------+\n",
            "                                                                               \n",
            "+-----------------------------------------------------------------------------+\n",
            "| Processes:                                                                  |\n",
            "|  GPU   GI   CI        PID   Type   Process name                  GPU Memory |\n",
            "|        ID   ID                                                   Usage      |\n",
            "|=============================================================================|\n",
            "|  No running processes found                                                 |\n",
            "+-----------------------------------------------------------------------------+\n"
          ]
        }
      ],
      "source": [
        "!nvidia-smi"
      ]
    },
    {
      "cell_type": "markdown",
      "metadata": {
        "id": "kCABYDthMKQq"
      },
      "source": [
        "### Inverted Index"
      ]
    },
    {
      "cell_type": "code",
      "execution_count": 21,
      "metadata": {
        "id": "VZ-A93emSVZE"
      },
      "outputs": [],
      "source": [
        "import array\n",
        "import pandas as pd\n",
        "from collections import defaultdict\n",
        "from collections import Counter\n",
        "import pickle\n",
        "import os\n",
        "\n",
        "def load_or_build_inverted_index(index_path = f\"{main_dir}/index.pickle\", docs_matrix=None):\n",
        "  if os.path.exists(index_path):\n",
        "    with open(index_path, \"rb\") as f:\n",
        "      print(\"Loading index...\")\n",
        "      index = pickle.load(f)\n",
        "  else:\n",
        "    print(\"Building inverted index...\")\n",
        "    inverted_index = dict()\n",
        "    idx = 0\n",
        "\n",
        "    def process(doc_id, idx):\n",
        "      assert passage_ids[idx] == doc_id\n",
        "      doc_vec = docs_matrix[idx]\n",
        "      doc_vec = doc_vec.coalesce()\n",
        "      indices = doc_vec.indices()[0]\n",
        "      values = doc_vec.values()\n",
        "\n",
        "      for token_id, wj in zip(indices, values):\n",
        "        token_id = token_id.item()\n",
        "        wj = wj.item()\n",
        "        inverted_index.setdefault(\n",
        "            token_id, {\"docs\":array.array(\"L\", []), \n",
        "                       \"wj\":array.array(\"f\", [])})[\"docs\"].append(idx)\n",
        "        inverted_index.setdefault(\n",
        "            token_id, {\"docs\":array.array(\"L\", []), \n",
        "                       \"wj\":array.array(\"f\", [])})[\"wj\"].append(wj)\n",
        "\n",
        "    for i in tqdm(range(docs_matrix.shape[0])):\n",
        "      process(passage_ids[i], i)\n",
        "      \n",
        "    index = {\"inverted_index\": inverted_index}\n",
        "\n",
        "    with open(index_path, \"wb\") as f:\n",
        "      pickle.dump(index, f)\n",
        "\n",
        "  return index"
      ]
    },
    {
      "cell_type": "code",
      "execution_count": null,
      "metadata": {
        "colab": {
          "base_uri": "https://localhost:8080/"
        },
        "id": "8T0XpRosS4Xq",
        "outputId": "a6ad9258-4f73-4fac-b586-6a9de342d7c5"
      },
      "outputs": [
        {
          "output_type": "stream",
          "name": "stdout",
          "text": [
            "Loading index...\n",
            "Time spent to build inverted index =  2.0510170459747314\n"
          ]
        }
      ],
      "source": [
        "start = time.time()\n",
        "index = load_or_build_inverted_index()\n",
        "end = time.time()\n",
        "print(\"Time spent to build inverted index = \", end - start)"
      ]
    },
    {
      "cell_type": "code",
      "execution_count": null,
      "metadata": {
        "id": "x1sNsrTwkWOT"
      },
      "outputs": [],
      "source": [
        "inverted_index = index[\"inverted_index\"]"
      ]
    },
    {
      "cell_type": "code",
      "execution_count": null,
      "metadata": {
        "colab": {
          "base_uri": "https://localhost:8080/"
        },
        "id": "HxOKvo7vkXzl",
        "outputId": "85d30b1e-d438-4baf-bda2-6627d5863d15"
      },
      "outputs": [
        {
          "output_type": "execute_result",
          "data": {
            "text/plain": [
              "26050"
            ]
          },
          "metadata": {},
          "execution_count": 21
        }
      ],
      "source": [
        "len(inverted_index)"
      ]
    },
    {
      "cell_type": "code",
      "execution_count": 22,
      "metadata": {
        "id": "i-eYt0I4Eb7e"
      },
      "outputs": [],
      "source": [
        "def search_by_query_vector_in_inverted_index(inverted_index, query_vec, k, ids=None):\n",
        "  query_vec = query_vec.coalesce()\n",
        "  doc_scores = defaultdict(int) # int (doc_id) -> int (score)\n",
        "  doc_ids = []\n",
        "  indices = query_vec.indices()[0]\n",
        "  values = query_vec.values()\n",
        "\n",
        "  for token_id, wj in zip(indices, values):\n",
        "    token_id = token_id.item()\n",
        "    wj = wj.item()\n",
        "    \n",
        "    if token_id in inverted_index:\n",
        "      doc_ids = inverted_index[token_id][\"docs\"]\n",
        "      wjs = inverted_index[token_id][\"wj\"]\n",
        "\n",
        "      for idx, doc_wj in zip(doc_ids, wjs):\n",
        "        if ids is not None and passage_ids[idx] in ids:\n",
        "          doc_scores[passage_ids[idx]] += wj * doc_wj\n",
        "        elif ids is None:\n",
        "          doc_scores[passage_ids[idx]] += wj * doc_wj\n",
        "        \n",
        "  doc_scores = dict(sorted(doc_scores.items(), key=lambda x:x[1], \n",
        "                           reverse=True)[:k])\n",
        "          \n",
        "  return doc_scores"
      ]
    },
    {
      "cell_type": "code",
      "execution_count": null,
      "metadata": {
        "id": "v15qnGosVKMZ"
      },
      "outputs": [],
      "source": [
        "k = 1000"
      ]
    },
    {
      "cell_type": "code",
      "execution_count": null,
      "metadata": {
        "colab": {
          "base_uri": "https://localhost:8080/"
        },
        "id": "l11sMARGTrQn",
        "outputId": "52b238f0-1fab-4463-e4ea-90b6ada0c105"
      },
      "outputs": [
        {
          "output_type": "stream",
          "name": "stdout",
          "text": [
            "Time spent =  56.92146444320679\n",
            "Time spent by query =  1.1384292888641356\n"
          ]
        }
      ],
      "source": [
        "\n",
        "from collections import defaultdict\n",
        "import time\n",
        "\n",
        "run_splade_inv = defaultdict(list)\n",
        "\n",
        "start = time.time()\n",
        "\n",
        "for i, query in zip(query_ids, query_texts):\n",
        "  query_vec = vectorize_to_sparse(query, tokenizer=tokenizer, model=model)\n",
        "  doc_scores = search_by_query_vector_in_inverted_index(inverted_index, query_vec, k)\n",
        "  run_splade_inv[\"query\"] += [i] * k\n",
        "  run_splade_inv[\"docid\"] += doc_scores.keys()\n",
        "  run_splade_inv[\"score\"] += doc_scores.values()\n",
        "  run_splade_inv[\"q0\"] += [\"q0\"] * k\n",
        "  run_splade_inv[\"rank\"] += list(range(1,k+1))\n",
        "  run_splade_inv[\"system\"] += [\"splade\"] * k\n",
        "\n",
        "end = time.time()\n",
        "print(\"Time spent = \", end - start)\n",
        "print(\"Time spent by query = \", (end - start)/len(query_ids))"
      ]
    },
    {
      "cell_type": "code",
      "execution_count": null,
      "metadata": {
        "colab": {
          "base_uri": "https://localhost:8080/",
          "height": 66,
          "referenced_widgets": [
            "4d439bb49228455e9365865ba004f56a",
            "2e9dbe3ca4d44ceb90821d1f942976d9",
            "4a10d350d5ce40fc8583a489e3697da5",
            "9ae02fcf8e604bd5b0676d300f44e010",
            "ed2bba10f16e44428a7c846e4e4ad71d",
            "4b109436942948bb935dc392ccab1c00",
            "5c2104aec6594a4bb7b90fb18c1fef72",
            "9b62e494b97940c49c5c944030e07133",
            "8efd19c6b2934592bc36c5b8ddfd2cf5",
            "6a95ff1ff81b4af0b08e12a795ab04bf",
            "b33ccd3149e64fb1ac82773b05946ef5"
          ]
        },
        "id": "5suO-f2eTN25",
        "outputId": "26711b17-e1b4-45b7-f288-408efbd72092"
      },
      "outputs": [
        {
          "output_type": "display_data",
          "data": {
            "text/plain": [
              "Downloading builder script:   0%|          | 0.00/5.51k [00:00<?, ?B/s]"
            ],
            "application/vnd.jupyter.widget-view+json": {
              "version_major": 2,
              "version_minor": 0,
              "model_id": "4d439bb49228455e9365865ba004f56a"
            }
          },
          "metadata": {}
        },
        {
          "output_type": "execute_result",
          "data": {
            "text/plain": [
              "0.7268509214947312"
            ]
          },
          "metadata": {},
          "execution_count": 34
        }
      ],
      "source": [
        "eval_ndcg10(run_splade_inv)"
      ]
    },
    {
      "cell_type": "markdown",
      "metadata": {
        "id": "SBxK8SBMBIf6"
      },
      "source": [
        "## 1st Pipeline: Pyserini BM25 + SPLADE Reranking\n"
      ]
    },
    {
      "cell_type": "markdown",
      "metadata": {
        "id": "NCkNJuHYLHWM"
      },
      "source": [
        "Here, in the SAPLDE step, as we already have a filered list with 1000 documents, we use directly the matrix of documents instead of inverted index.  So we assume BM25 has already used an inverted index."
      ]
    },
    {
      "cell_type": "code",
      "execution_count": null,
      "metadata": {
        "id": "uJN9X4tqhBkL"
      },
      "outputs": [],
      "source": [
        "k=1000"
      ]
    },
    {
      "cell_type": "code",
      "execution_count": null,
      "metadata": {
        "colab": {
          "base_uri": "https://localhost:8080/"
        },
        "id": "WJiCu66GrzCd",
        "outputId": "3ae6d271-7fc7-4abb-fbff-796ee75f867a"
      },
      "outputs": [
        {
          "data": {
            "text/plain": [
              "tensor(indices=tensor([[     0,      0,      0,  ..., 171331, 171331, 171331],\n",
              "                       [  1037,   1041,   1996,  ...,  29514,  29566,  29610]]),\n",
              "       values=tensor([0.4171, 0.0068, 0.1628,  ..., 0.1091, 0.2448, 0.0680]),\n",
              "       device='cuda:0', size=(171332, 30522), nnz=27975739,\n",
              "       layout=torch.sparse_coo)"
            ]
          },
          "execution_count": 48,
          "metadata": {},
          "output_type": "execute_result"
        }
      ],
      "source": [
        "docs_matrix"
      ]
    },
    {
      "cell_type": "code",
      "execution_count": 23,
      "metadata": {
        "id": "TSmuykc6fBAC"
      },
      "outputs": [],
      "source": [
        "import time\n",
        "\n",
        "def search_bm25_splade(query, top_k=1000, \n",
        "                       index_name='beir-v1.0.0-trec-covid.flat'):\n",
        "  #1st step: searches with BM25\n",
        "  bm25_hits = search_with_bm25(query, k=top_k, index_name=index_name)\n",
        " \n",
        "  if index_name == 'beir-v1.0.0-trec-covid.flat':\n",
        "    ids = [json.loads(bm25_hits[i].raw)['_id'] for i in range(len(bm25_hits))]\n",
        "  else:\n",
        "    ids = [json.loads(bm25_hits[i].raw)['id'] for i in range(len(bm25_hits))]\n",
        "  ids = set(ids)\n",
        "\n",
        "  query_embedding = vectorize_to_sparse(query, tokenizer=tokenizer, model=model)\n",
        "  \n",
        "  doc_scores = search_by_query_vector_in_inverted_index(inverted_index, query_embedding, k, \n",
        "                                                        ids=ids)\n",
        "  \n",
        "  return doc_scores"
      ]
    },
    {
      "cell_type": "code",
      "execution_count": null,
      "metadata": {
        "colab": {
          "base_uri": "https://localhost:8080/"
        },
        "id": "LxEWqFvmMViV",
        "outputId": "591ae3f1-ba40-4d4e-934e-2f5a13685389"
      },
      "outputs": [
        {
          "output_type": "stream",
          "name": "stdout",
          "text": [
            "Downloading index at https://rgw.cs.uwaterloo.ca/pyserini/indexes/lucene-index.beir-v1.0.0-trec-covid.flat.20221116.505594.tar.gz...\n"
          ]
        },
        {
          "output_type": "stream",
          "name": "stderr",
          "text": [
            "lucene-index.beir-v1.0.0-trec-covid.flat.20221116.505594.tar.gz: 216MB [00:43, 5.20MB/s]                           \n"
          ]
        },
        {
          "output_type": "stream",
          "name": "stdout",
          "text": [
            "Time spent =  74.90346908569336\n",
            "Time spent by query =  1.4980693817138673\n"
          ]
        }
      ],
      "source": [
        "from collections import defaultdict\n",
        "\n",
        "run_bm25_splade = defaultdict(list)\n",
        "\n",
        "start = time.time()\n",
        "\n",
        "for i, query in zip(query_ids, query_texts):\n",
        "  doc_scores = search_bm25_splade(query, k)\n",
        "  n = len(doc_scores)\n",
        "  run_bm25_splade[\"query\"] += [i] * n\n",
        "  run_bm25_splade[\"docid\"] += doc_scores.keys()\n",
        "  run_bm25_splade[\"score\"] += doc_scores.values()\n",
        "  run_bm25_splade[\"q0\"] += [\"q0\"] * n\n",
        "  run_bm25_splade[\"rank\"] += list(range(1,n+1))\n",
        "  run_bm25_splade[\"system\"] += [\"bm25_splade\"] * n\n",
        "\n",
        "end = time.time()\n",
        "print(\"Time spent = \", end - start)\n",
        "print(\"Time spent by query = \", (end - start)/len(query_ids))"
      ]
    },
    {
      "cell_type": "code",
      "execution_count": null,
      "metadata": {
        "colab": {
          "base_uri": "https://localhost:8080/"
        },
        "id": "t_SRs6jkhFmG",
        "outputId": "92535a29-fef6-460e-d4bc-81377ab25312"
      },
      "outputs": [
        {
          "output_type": "execute_result",
          "data": {
            "text/plain": [
              "0.7419530766303556"
            ]
          },
          "metadata": {},
          "execution_count": 38
        }
      ],
      "source": [
        "eval_ndcg10(run_bm25_splade)"
      ]
    },
    {
      "cell_type": "code",
      "execution_count": null,
      "metadata": {
        "id": "0_57-rQvdrqr",
        "colab": {
          "base_uri": "https://localhost:8080/"
        },
        "outputId": "a7ccbb82-1415-4264-9759-fff003484c16"
      },
      "outputs": [
        {
          "output_type": "stream",
          "name": "stdout",
          "text": [
            "Time spent =  17.9386088848114\n",
            "Time spent by query =  0.35877217769622805\n"
          ]
        }
      ],
      "source": [
        "from collections import defaultdict\n",
        "\n",
        "run_bm25_splade = defaultdict(list)\n",
        "\n",
        "start = time.time()\n",
        "\n",
        "for i, query in zip(query_ids, query_texts):\n",
        "  doc_scores = search_bm25_splade(query, 100)\n",
        "  n = len(doc_scores)\n",
        "  run_bm25_splade[\"query\"] += [i] * n\n",
        "  run_bm25_splade[\"docid\"] += doc_scores.keys()\n",
        "  run_bm25_splade[\"score\"] += doc_scores.values()\n",
        "  run_bm25_splade[\"q0\"] += [\"q0\"] * n\n",
        "  run_bm25_splade[\"rank\"] += list(range(1,n+1))\n",
        "  run_bm25_splade[\"system\"] += [\"bm25_splade\"] * n\n",
        "\n",
        "end = time.time()\n",
        "print(\"Time spent = \", end - start)\n",
        "print(\"Time spent by query = \", (end - start)/len(query_ids))"
      ]
    },
    {
      "cell_type": "code",
      "execution_count": null,
      "metadata": {
        "colab": {
          "base_uri": "https://localhost:8080/"
        },
        "id": "Jmqh7E9HeL6y",
        "outputId": "bf1a8a4e-6599-45dc-d74d-8683978ab00f"
      },
      "outputs": [
        {
          "output_type": "stream",
          "name": "stderr",
          "text": [
            "/usr/local/lib/python3.10/dist-packages/trectools/trec_eval.py:427: FutureWarning: Not prepending group keys to the result index of transform-like apply. In the future, the group keys will be included in the index, regardless of whether the applied function returns a like-indexed object.\n",
            "To preserve the previous behavior, use\n",
            "\n",
            "\t>>> .groupby(..., group_keys=False)\n",
            "\n",
            "To adopt the future behavior and silence this warning, use \n",
            "\n",
            "\t>>> .groupby(..., group_keys=True)\n",
            "  topX = topX.groupby(\"query\").apply(lambda x: x.head(n_relevant_docs.loc[x.name])).reset_index(drop=True)\n"
          ]
        },
        {
          "output_type": "execute_result",
          "data": {
            "text/plain": [
              "0.7402097200290509"
            ]
          },
          "metadata": {},
          "execution_count": 40
        }
      ],
      "source": [
        "eval_ndcg10(run_bm25_splade)"
      ]
    },
    {
      "cell_type": "markdown",
      "metadata": {
        "id": "JsUFtKYgWQeS"
      },
      "source": [
        "## 2th Pipeline: Doc2Query + Pyserini BM25 + SPLADE Reranking"
      ]
    },
    {
      "cell_type": "markdown",
      "source": [
        "### Doc2Query"
      ],
      "metadata": {
        "id": "iJIxW3tULZ9H"
      }
    },
    {
      "cell_type": "code",
      "execution_count": 30,
      "metadata": {
        "id": "S53iwgF8s4cB"
      },
      "outputs": [],
      "source": [
        "json_path = '/content/gdrive/MyDrive/Unicamp-aula-6/collections/trec_covid_doc2query-adafactor-bs-32-split-1000-bf16-early-stoping_5_queries_expand_title'"
      ]
    },
    {
      "cell_type": "code",
      "execution_count": 31,
      "metadata": {
        "id": "DtGokc5qk6Uu"
      },
      "outputs": [],
      "source": [
        "index_path = '/content/gdrive/MyDrive/Unicamp-aula-6/expanded_trec_covid_5_queries_expand_title'"
      ]
    },
    {
      "cell_type": "code",
      "execution_count": 32,
      "metadata": {
        "id": "Sqde4lALs8Qy"
      },
      "outputs": [],
      "source": [
        "import jsonlines\n",
        "import os\n",
        "\n",
        "passage_ids = []\n",
        "passage_texts = []\n",
        "id_to_text = dict()\n",
        "\n",
        "for filename in os.listdir(json_path):\n",
        "  if filename.endswith('.json'):  # Check if the file ends with '.json'\n",
        "    with jsonlines.open(json_path + '/' + filename) as reader:\n",
        "      for item in reader:\n",
        "        id = item[\"id\"]\n",
        "        passage_ids.append(id)\n",
        "        text = item[\"contents\"]\n",
        "        passage_texts.append(text)\n",
        "        id_to_text[id] = text\n",
        "\n",
        "#Sorts the passages by length\n",
        "passage_indices = sorted(range(len(passage_texts)), \n",
        "                         key=lambda k: len(passage_texts[k]))\n",
        "passage_texts = sorted(passage_texts, key=lambda k: len(k))\n",
        "passage_ids = sorted(passage_ids, key=lambda k: len(id_to_text[k]))"
      ]
    },
    {
      "cell_type": "code",
      "execution_count": null,
      "metadata": {
        "colab": {
          "base_uri": "https://localhost:8080/"
        },
        "id": "yyAAArq2tyqO",
        "outputId": "f6680590-1053-4f2d-9922-8936f041e45e"
      },
      "outputs": [
        {
          "name": "stdout",
          "output_type": "stream",
          "text": [
            "Time spent on tokenization =  48.85031294822693\n"
          ]
        }
      ],
      "source": [
        "import time\n",
        "\n",
        "start = time.time()\n",
        "test_passages_tokenized = tokenizer(passage_texts, max_length=max_length, \n",
        "                                   truncation=True, padding=True, \n",
        "                                   return_special_tokens_mask=True)\n",
        "dataset_passages_test = Dataset(test_passages_tokenized)\n",
        "dataloader_passages_test = data.DataLoader(dataset_passages_test, \n",
        "                                          batch_size=batch_size, shuffle=False, \n",
        "                                          collate_fn=collate_fn)\n",
        "end = time.time()\n",
        "print(\"Time spent on tokenization = \", end - start)"
      ]
    },
    {
      "cell_type": "code",
      "execution_count": null,
      "metadata": {
        "colab": {
          "base_uri": "https://localhost:8080/"
        },
        "id": "1XgoHozn5XNx",
        "outputId": "8c01438e-b60c-4c3d-a585-6d3c96bb0251"
      },
      "outputs": [
        {
          "data": {
            "text/plain": [
              "171332"
            ]
          },
          "execution_count": 66,
          "metadata": {},
          "output_type": "execute_result"
        }
      ],
      "source": [
        "len(dataset_passages_test)"
      ]
    },
    {
      "cell_type": "code",
      "execution_count": null,
      "metadata": {
        "colab": {
          "base_uri": "https://localhost:8080/"
        },
        "id": "Y-LHT7suuehO",
        "outputId": "204212ce-1729-4637-c15f-e8c2b816b365"
      },
      "outputs": [
        {
          "name": "stderr",
          "output_type": "stream",
          "text": [
            "Test: 100%|██████████| 5355/5355 [38:34<00:00,  2.31it/s]"
          ]
        },
        {
          "name": "stdout",
          "output_type": "stream",
          "text": [
            "Time spent on matrix building =  2314.153545856476\n"
          ]
        },
        {
          "name": "stderr",
          "output_type": "stream",
          "text": [
            "\n"
          ]
        }
      ],
      "source": [
        "docs_matrix = build_docs_matrix(dataloader_passages_test)"
      ]
    },
    {
      "cell_type": "code",
      "execution_count": null,
      "metadata": {
        "colab": {
          "base_uri": "https://localhost:8080/"
        },
        "id": "S3U35zHd41RC",
        "outputId": "6bd702bc-6ae7-43b4-8cb8-b4e727a57e2f"
      },
      "outputs": [
        {
          "data": {
            "text/plain": [
              "torch.Size([171332, 30522])"
            ]
          },
          "execution_count": 68,
          "metadata": {},
          "output_type": "execute_result"
        }
      ],
      "source": [
        "docs_matrix.shape"
      ]
    },
    {
      "cell_type": "code",
      "execution_count": 33,
      "metadata": {
        "colab": {
          "base_uri": "https://localhost:8080/"
        },
        "id": "yrWdouIzoI_t",
        "outputId": "3b0e885b-dd4a-4042-ce9a-de8d984c6854"
      },
      "outputs": [
        {
          "output_type": "stream",
          "name": "stdout",
          "text": [
            "Loading index...\n",
            "Time spent to build inverted index =  3.6110446453094482\n"
          ]
        }
      ],
      "source": [
        "start = time.time()\n",
        "#index = load_or_build_inverted_index(index_path=f\"{main_dir}/index_doc2_query\", docs_matrix=docs_matrix)\n",
        "index_doc2query = load_or_build_inverted_index(index_path=f\"{main_dir}/index_doc2_query\")\n",
        "#index = load_or_build_inverted_index(index_path=f\"{main_dir}/index.pickle\")\n",
        "end = time.time()\n",
        "print(\"Time spent to build inverted index = \", end - start)"
      ]
    },
    {
      "cell_type": "code",
      "execution_count": 34,
      "metadata": {
        "id": "y1FsGzIwtr5b"
      },
      "outputs": [],
      "source": [
        "inverted_index_doc2query = index_doc2query[\"inverted_index\"]"
      ]
    },
    {
      "cell_type": "code",
      "execution_count": 35,
      "metadata": {
        "id": "3wqVVlk-YM5m"
      },
      "outputs": [],
      "source": [
        "import time\n",
        "\n",
        "def search_doc2query_bm25_splade(query, index_name, top_k=1000):\n",
        "  #1st step: searches with BM25\n",
        "  bm25_hits = search_with_bm25(query, k=top_k, index_name=index_name)\n",
        " \n",
        "  ids = [json.loads(bm25_hits[i].raw)['id'] for i in range(len(bm25_hits))]\n",
        "  ids = set(ids)\n",
        "\n",
        "  query_embedding = vectorize_to_sparse(query, tokenizer=tokenizer, model=model)\n",
        "  doc_scores = search_by_query_vector_in_inverted_index(inverted_index_doc2query, query_embedding, k, \n",
        "                                                        ids=ids)\n",
        "  return doc_scores"
      ]
    },
    {
      "cell_type": "code",
      "execution_count": null,
      "metadata": {
        "id": "-aoXsW8Ys-ei"
      },
      "outputs": [],
      "source": [
        "k=1000"
      ]
    },
    {
      "cell_type": "code",
      "execution_count": null,
      "metadata": {
        "colab": {
          "base_uri": "https://localhost:8080/"
        },
        "id": "wYoUSP9kkeIB",
        "outputId": "faef4a09-7c04-4469-ee4f-60df2a685217"
      },
      "outputs": [
        {
          "output_type": "stream",
          "name": "stdout",
          "text": [
            "Time spent =  46.82212018966675\n",
            "Time spent by query =  0.936442403793335\n"
          ]
        }
      ],
      "source": [
        "from collections import defaultdict\n",
        "\n",
        "run_doc2query_bm25_splade = defaultdict(list)\n",
        "\n",
        "start = time.time()\n",
        "\n",
        "for i, query in zip(query_ids, query_texts):\n",
        "  doc_scores = search_doc2query_bm25_splade(query, index_path, k)\n",
        "  n = len(doc_scores)\n",
        "  run_doc2query_bm25_splade[\"query\"] += [i] * n\n",
        "  run_doc2query_bm25_splade[\"docid\"] += doc_scores.keys()\n",
        "  run_doc2query_bm25_splade[\"score\"] += doc_scores.values()\n",
        "  run_doc2query_bm25_splade[\"q0\"] += [\"q0\"] * n\n",
        "  run_doc2query_bm25_splade[\"rank\"] += list(range(1,n+1))\n",
        "  run_doc2query_bm25_splade[\"system\"] += [\"doc2query_bm25_splade\"] * n\n",
        "\n",
        "end = time.time()\n",
        "print(\"Time spent = \", end - start)\n",
        "print(\"Time spent by query = \", (end - start)/len(query_ids))"
      ]
    },
    {
      "cell_type": "code",
      "execution_count": null,
      "metadata": {
        "colab": {
          "base_uri": "https://localhost:8080/"
        },
        "id": "ch4PRDb_laWH",
        "outputId": "bce69e43-afae-4df4-d0d1-d755e445cf30"
      },
      "outputs": [
        {
          "output_type": "execute_result",
          "data": {
            "text/plain": [
              "0.7415191609765179"
            ]
          },
          "metadata": {},
          "execution_count": 49
        }
      ],
      "source": [
        "eval_ndcg10(run_doc2query_bm25_splade)"
      ]
    },
    {
      "cell_type": "code",
      "execution_count": null,
      "metadata": {
        "colab": {
          "base_uri": "https://localhost:8080/"
        },
        "id": "wsTqxjZ_ewmh",
        "outputId": "63086ef5-ad5d-4779-aff6-faca72eb216d"
      },
      "outputs": [
        {
          "output_type": "stream",
          "name": "stdout",
          "text": [
            "Time spent =  47.638882637023926\n",
            "Time spent by query =  0.9527776527404785\n"
          ]
        }
      ],
      "source": [
        "from collections import defaultdict\n",
        "\n",
        "run_doc2query_bm25_splade = defaultdict(list)\n",
        "\n",
        "start = time.time()\n",
        "k=100\n",
        "\n",
        "for i, query in zip(query_ids, query_texts):\n",
        "  doc_scores = search_doc2query_bm25_splade(query, index_path, 100)\n",
        "  n = len(doc_scores)\n",
        "  run_doc2query_bm25_splade[\"query\"] += [i] * n\n",
        "  run_doc2query_bm25_splade[\"docid\"] += doc_scores.keys()\n",
        "  run_doc2query_bm25_splade[\"score\"] += doc_scores.values()\n",
        "  run_doc2query_bm25_splade[\"q0\"] += [\"q0\"] * n\n",
        "  run_doc2query_bm25_splade[\"rank\"] += list(range(1,n+1))\n",
        "  run_doc2query_bm25_splade[\"system\"] += [\"doc2query_bm25_splade\"] * n\n",
        "\n",
        "end = time.time()\n",
        "print(\"Time spent = \", end - start)\n",
        "print(\"Time spent by query = \", (end - start)/len(query_ids))"
      ]
    },
    {
      "cell_type": "code",
      "execution_count": null,
      "metadata": {
        "colab": {
          "base_uri": "https://localhost:8080/"
        },
        "id": "F-bcOt0_e0mS",
        "outputId": "bb7b32e0-58a8-4cdf-9aff-fc392346cb74"
      },
      "outputs": [
        {
          "output_type": "stream",
          "name": "stderr",
          "text": [
            "/usr/local/lib/python3.10/dist-packages/trectools/trec_eval.py:427: FutureWarning: Not prepending group keys to the result index of transform-like apply. In the future, the group keys will be included in the index, regardless of whether the applied function returns a like-indexed object.\n",
            "To preserve the previous behavior, use\n",
            "\n",
            "\t>>> .groupby(..., group_keys=False)\n",
            "\n",
            "To adopt the future behavior and silence this warning, use \n",
            "\n",
            "\t>>> .groupby(..., group_keys=True)\n",
            "  topX = topX.groupby(\"query\").apply(lambda x: x.head(n_relevant_docs.loc[x.name])).reset_index(drop=True)\n"
          ]
        },
        {
          "output_type": "execute_result",
          "data": {
            "text/plain": [
              "0.74427511763663"
            ]
          },
          "metadata": {},
          "execution_count": 44
        }
      ],
      "source": [
        "eval_ndcg10(run_doc2query_bm25_splade)"
      ]
    },
    {
      "cell_type": "markdown",
      "metadata": {
        "id": "MVM9BCfYgFyR"
      },
      "source": [
        "## 3rd Pipeline: Doc2Query + Splade Reranking"
      ]
    },
    {
      "cell_type": "code",
      "source": [
        "k= 1000"
      ],
      "metadata": {
        "id": "KfWnN7Ns0r1E"
      },
      "execution_count": null,
      "outputs": []
    },
    {
      "cell_type": "code",
      "execution_count": null,
      "metadata": {
        "id": "RekbUmmBWXVW",
        "colab": {
          "base_uri": "https://localhost:8080/"
        },
        "outputId": "81958358-a90e-4111-e311-88178a90f9f9"
      },
      "outputs": [
        {
          "output_type": "stream",
          "name": "stdout",
          "text": [
            "Time spent =  53.48973894119263\n",
            "Time spent by query =  1.0697947788238524\n"
          ]
        }
      ],
      "source": [
        "from collections import defaultdict\n",
        "import time\n",
        "\n",
        "run_doc2query_splade = defaultdict(list)\n",
        "\n",
        "start = time.time()\n",
        "\n",
        "for i, query in zip(query_ids, query_texts):\n",
        "  query_vec = vectorize_to_sparse(query, tokenizer=tokenizer, model=model)\n",
        "  doc_scores = search_by_query_vector_in_inverted_index(inverted_index_doc2query, query_vec, k)\n",
        "  run_doc2query_splade[\"query\"] += [i] * k\n",
        "  run_doc2query_splade[\"docid\"] += doc_scores.keys()\n",
        "  run_doc2query_splade[\"score\"] += doc_scores.values()\n",
        "  run_doc2query_splade[\"q0\"] += [\"q0\"] * k\n",
        "  run_doc2query_splade[\"rank\"] += list(range(1,k+1))\n",
        "  run_doc2query_splade[\"system\"] += [\"doc2query_splade\"] * k\n",
        "\n",
        "end = time.time()\n",
        "print(\"Time spent = \", end - start)\n",
        "print(\"Time spent by query = \", (end - start)/len(query_ids))"
      ]
    },
    {
      "cell_type": "code",
      "execution_count": null,
      "metadata": {
        "id": "eDu3cX2_sTG9",
        "colab": {
          "base_uri": "https://localhost:8080/",
          "height": 66,
          "referenced_widgets": [
            "d4ce6a29acdd48568ebc9725ebfce2cf",
            "8a69bc30d6c246c3acd257bbc9536404",
            "597ca8a072224455a595a87aa2287643",
            "bad4448665564cf1a154fb4aa0db39fb",
            "b64a6207689945f1a7929ac7c345bd3c",
            "f1fb84f6838c4e84b11fa307518b967c",
            "260e867e52f04d57952375b8bda35f13",
            "b58e14a1f36f47cb847dd8e724e7a6ee",
            "cbb2ed2518344e3d9b832ac119f2b288",
            "bd340ef597e14da39814e6256c6d8371",
            "b7134a96d4d3470da11d5cdbae2dc362"
          ]
        },
        "outputId": "aaf9354f-4c1c-40a6-9480-b1db3cb42386"
      },
      "outputs": [
        {
          "output_type": "display_data",
          "data": {
            "text/plain": [
              "Downloading builder script:   0%|          | 0.00/5.51k [00:00<?, ?B/s]"
            ],
            "application/vnd.jupyter.widget-view+json": {
              "version_major": 2,
              "version_minor": 0,
              "model_id": "d4ce6a29acdd48568ebc9725ebfce2cf"
            }
          },
          "metadata": {}
        },
        {
          "output_type": "execute_result",
          "data": {
            "text/plain": [
              "0.7319556389528087"
            ]
          },
          "metadata": {},
          "execution_count": 33
        }
      ],
      "source": [
        "eval_ndcg10(run_doc2query_splade)"
      ]
    },
    {
      "cell_type": "markdown",
      "source": [
        "## 4th Pipeline: Doc2Query + Pyserini BM25 + SPLADE Reranking + InPars Reranking"
      ],
      "metadata": {
        "id": "I_93yTDrZ-_C"
      }
    },
    {
      "cell_type": "markdown",
      "source": [
        "### InPars"
      ],
      "metadata": {
        "id": "iM57jXmALNl4"
      }
    },
    {
      "cell_type": "code",
      "source": [
        "from transformers import AutoTokenizer, AutoModelForSequenceClassification\n",
        "from torch.utils import data\n",
        "from transformers import BatchEncoding"
      ],
      "metadata": {
        "id": "pIkYNQx4bPqN"
      },
      "execution_count": 24,
      "outputs": []
    },
    {
      "cell_type": "code",
      "source": [
        "class MSMARCODataset(data.Dataset):\n",
        "    def __init__(self, tokenizer, query, passages, targets, max_lenght=356, \n",
        "                 return_token_type_ids=False):\n",
        "        self.tokenizer = tokenizer\n",
        "        self.query = query\n",
        "        self.passages = passages\n",
        "        self.targets = targets\n",
        "        self.max_lenght = max_lenght\n",
        "        self.return_token_type_ids = return_token_type_ids\n",
        "    \n",
        "    def __len__(self):\n",
        "        return len(self.query)\n",
        "\n",
        "    def __getitem__(self, idx):\n",
        "        instruction_token = self.tokenizer(self.query[idx],self.passages[idx],\n",
        "                                           max_length=self.max_lenght, \n",
        "                                           truncation=True,\n",
        "                                           padding=\"max_length\", \n",
        "                                           return_tensors='pt',\n",
        "                                           return_token_type_ids=self.return_token_type_ids)  \n",
        "\n",
        "        #token_type_ids\n",
        "        if self.return_token_type_ids:\n",
        "          return {'input_ids':torch.squeeze(instruction_token['input_ids']).long().to(device),\\\n",
        "                  'token_type_ids': torch.squeeze(instruction_token['token_type_ids']).long().to(device),\\\n",
        "                  'attention_mask':torch.squeeze(instruction_token['attention_mask']).long().to(device), \\\n",
        "                  'labels':torch.tensor(self.targets[idx], dtype=torch.float16)}\n",
        "        else:\n",
        "          return {'input_ids':torch.squeeze(instruction_token['input_ids']).long().to(device),\\\n",
        "                  'attention_mask':torch.squeeze(instruction_token['attention_mask']).long().to(device), \\\n",
        "                  'labels':torch.tensor(self.targets[idx], dtype=torch.float16)}\n",
        "              \n",
        "def collate_fn(batch):\n",
        "    return BatchEncoding(tokenizer.pad(batch, return_tensors='pt'))\n",
        "    "
      ],
      "metadata": {
        "id": "SGmWd88s1OBN"
      },
      "execution_count": 25,
      "outputs": []
    },
    {
      "cell_type": "code",
      "source": [
        "models_path = \"/content/gdrive/MyDrive/Unicamp-aula-9\"\n",
        "model_inpars =  AutoModelForSequenceClassification.from_pretrained(f'{models_path}/best_checkpoint-cross-encoder').to(device)"
      ],
      "metadata": {
        "id": "aua0buMUio3U"
      },
      "execution_count": 26,
      "outputs": []
    },
    {
      "cell_type": "code",
      "source": [
        "inpars_tokenizer = AutoTokenizer.from_pretrained(\"cross-encoder/ms-marco-MiniLM-L-6-v2\")"
      ],
      "metadata": {
        "colab": {
          "base_uri": "https://localhost:8080/",
          "height": 145,
          "referenced_widgets": [
            "a42aaec743094875a025a899dc56460b",
            "6f6a6cd5d3554984a31dfe81a2b021b7",
            "53b819d97ffd4ab2bfea16671416b84b",
            "c9230a6ff40f4879b179b28b0c023112",
            "1a204fe736f1416e813af344c9994153",
            "372a4b83eea04e8b8315810bdd51a2c7",
            "5481f3ee957542adbd82566c9e045b5c",
            "869bf5d78cc74caaa2e4cefe94e18d90",
            "303afe9b81e04268b1b03db21da2c5b4",
            "f3280ac2a02a4b749a17e5b942600f72",
            "de31c3acc618482c843bf5fa6761451f",
            "eaf886e8c76349ed9055df3ee3e58c40",
            "8f17937dabcd4fda8ba54465a530349d",
            "1ced3705e572497b88e686667e9fcb2b",
            "43819c86e3364e07ab8ff6cf3b91e709",
            "9f729c1747234e0798a81096ac923d93",
            "2002fefb4e424c42bec966144788c2e0",
            "173250538b294df89a99453f45bcd99f",
            "d9cfd18a8b4547bf95a292122bc24d51",
            "bc1f29a1f85c4f67870133d057e4171f",
            "a5c31fbcd2ce40749ce85bb1f04ceb89",
            "53c89fb436e149f1b3f5436cf92c66e7",
            "b39a274260ae4549a7b26b212c3bcf05",
            "bdff821507d2411f95c86120ccfe62c1",
            "d0916bab777f4861b939128b805ff24e",
            "0ed6386221fb461b87193b35a35070f1",
            "3e28fca8845c40bab3421c4d579d2db1",
            "e94c3677fcb04070975fb1ffb493aceb",
            "b2422b9ad3d64ddfa76528e1c4ebdf41",
            "113e69927ca24b9a8f722a3fecc30616",
            "9f2c3548354d4616b01f484f6c0138bc",
            "eb1251384db348d8be1f034ab14a27fb",
            "eb576e176eac4a229af2cf106d216d74",
            "7f67378f2e1d4a208afc1a140e05f3ac",
            "96e344816d5d48efa52ebd9ad70a00cd",
            "936c372f4d73425fadd46d5fc502af3f",
            "0a2ab3ded0ba490a9aad08a55690b56d",
            "a6567237b9c34ed5ac25992a64c1b86b",
            "3e20a7f21d744788bc35d0fd69d3e619",
            "8c47e7f96da148bba5842a08693d2211",
            "87ea9a52e9754453926039fa2cf18910",
            "0c8f67c0f2c247ba89344a9509f63634",
            "d778873965c5458580c5ff55fe3d6eb9",
            "71899e5cfbc1453e8bce9969743ca7cc"
          ]
        },
        "id": "Y50cwE9ynG2S",
        "outputId": "b4dd5a8f-d478-48a8-a974-c7620ffad58b"
      },
      "execution_count": 27,
      "outputs": [
        {
          "output_type": "display_data",
          "data": {
            "text/plain": [
              "Downloading (…)okenizer_config.json:   0%|          | 0.00/316 [00:00<?, ?B/s]"
            ],
            "application/vnd.jupyter.widget-view+json": {
              "version_major": 2,
              "version_minor": 0,
              "model_id": "a42aaec743094875a025a899dc56460b"
            }
          },
          "metadata": {}
        },
        {
          "output_type": "display_data",
          "data": {
            "text/plain": [
              "Downloading (…)lve/main/config.json:   0%|          | 0.00/794 [00:00<?, ?B/s]"
            ],
            "application/vnd.jupyter.widget-view+json": {
              "version_major": 2,
              "version_minor": 0,
              "model_id": "eaf886e8c76349ed9055df3ee3e58c40"
            }
          },
          "metadata": {}
        },
        {
          "output_type": "display_data",
          "data": {
            "text/plain": [
              "Downloading (…)solve/main/vocab.txt:   0%|          | 0.00/232k [00:00<?, ?B/s]"
            ],
            "application/vnd.jupyter.widget-view+json": {
              "version_major": 2,
              "version_minor": 0,
              "model_id": "b39a274260ae4549a7b26b212c3bcf05"
            }
          },
          "metadata": {}
        },
        {
          "output_type": "display_data",
          "data": {
            "text/plain": [
              "Downloading (…)cial_tokens_map.json:   0%|          | 0.00/112 [00:00<?, ?B/s]"
            ],
            "application/vnd.jupyter.widget-view+json": {
              "version_major": 2,
              "version_minor": 0,
              "model_id": "7f67378f2e1d4a208afc1a140e05f3ac"
            }
          },
          "metadata": {}
        }
      ]
    },
    {
      "cell_type": "code",
      "source": [
        "def evaluate_test_dataset(model, dataloader, set_name):\n",
        "  scores = []\n",
        "  model.eval()\n",
        "  with torch.no_grad():\n",
        "    for batch in dataloader:\n",
        "      outputs = model(**batch.to(device))\n",
        "      # Usa os logits brutos\n",
        "      pos_score = outputs.logits[:,0]\n",
        "      scores = scores + pos_score.tolist()\n",
        "  return scores"
      ],
      "metadata": {
        "id": "ikqUhM9wqvFG"
      },
      "execution_count": 28,
      "outputs": []
    },
    {
      "cell_type": "code",
      "source": [
        "import time\n",
        "\n",
        "def search_doc2query_bm25_splade_inpars(query, index_name, top_k=1000):\n",
        "  #1st step: searches with BM25\n",
        "  bm25_hits = search_with_bm25(query, k=top_k, index_name=index_name)\n",
        " \n",
        "  ids = [json.loads(bm25_hits[i].raw)['id'] for i in range(len(bm25_hits))]\n",
        "  ids = set(ids)\n",
        "\n",
        "  query_embedding = vectorize_to_sparse(query, tokenizer=tokenizer, model=model)\n",
        "  doc_scores = search_by_query_vector_in_inverted_index(inverted_index_doc2query, query_embedding, k, \n",
        "                                                        ids=ids)\n",
        "  \n",
        "  #Last step: InPars reranking\n",
        "  queries = [query]*100\n",
        "  passages = [id_to_text[k] for k, v in doc_scores.items()]\n",
        "  dataset_test = MSMARCODataset(inpars_tokenizer, queries, passages[:100], [1]*len(queries), return_token_type_ids=True)\n",
        "  dataloader_test = data.DataLoader(dataset_test, batch_size=32, shuffle=False, collate_fn=collate_fn)\n",
        "  scores = evaluate_test_dataset(model_inpars, dataloader_test, \"InPars\")\n",
        "  \n",
        "  new_doc_scores = dict()\n",
        "  for i, doc_id in enumerate(list(doc_scores.keys())[:100]):\n",
        "    new_doc_scores[doc_id] = scores[i]\n",
        "  \n",
        "  new_doc_scores = dict(sorted(new_doc_scores.items(), key=lambda x: x[1], reverse=True))\n",
        "\n",
        "  return new_doc_scores"
      ],
      "metadata": {
        "id": "Too0C6Saas98"
      },
      "execution_count": 29,
      "outputs": []
    },
    {
      "cell_type": "code",
      "source": [
        "from collections import defaultdict\n",
        "\n",
        "run_doc2query_bm25_splade_inpars = defaultdict(list)\n",
        "\n",
        "start = time.time()\n",
        "k=1000\n",
        "\n",
        "for i, query in tqdm(zip(query_ids, query_texts)):\n",
        "  doc_scores = search_doc2query_bm25_splade_inpars(query, index_path, k)\n",
        "  n = len(doc_scores)\n",
        "  run_doc2query_bm25_splade_inpars[\"query\"] += [i] * n\n",
        "  run_doc2query_bm25_splade_inpars[\"docid\"] += doc_scores.keys()\n",
        "  run_doc2query_bm25_splade_inpars[\"score\"] += doc_scores.values()\n",
        "  run_doc2query_bm25_splade_inpars[\"q0\"] += [\"q0\"] * n\n",
        "  run_doc2query_bm25_splade_inpars[\"rank\"] += list(range(1,n+1))\n",
        "  run_doc2query_bm25_splade_inpars[\"system\"] += [\"doc2query_bm25_splade_inpars\"] * n\n",
        "\n",
        "end = time.time()\n",
        "print(\"Time spent = \", end - start)\n",
        "print(\"Time spent by query = \", (end - start)/len(query_ids))"
      ],
      "metadata": {
        "colab": {
          "base_uri": "https://localhost:8080/"
        },
        "id": "vXVQas2Xtw6U",
        "outputId": "d602c635-4297-4f8f-d5bf-e39449342bf9"
      },
      "execution_count": null,
      "outputs": [
        {
          "output_type": "stream",
          "name": "stderr",
          "text": [
            "50it [01:30,  1.82s/it]"
          ]
        },
        {
          "output_type": "stream",
          "name": "stdout",
          "text": [
            "Time spent =  91.05426335334778\n",
            "Time spent by query =  1.8210852670669555\n"
          ]
        },
        {
          "output_type": "stream",
          "name": "stderr",
          "text": [
            "\n"
          ]
        }
      ]
    },
    {
      "cell_type": "code",
      "source": [
        "eval_ndcg10(run_doc2query_bm25_splade_inpars)"
      ],
      "metadata": {
        "colab": {
          "base_uri": "https://localhost:8080/"
        },
        "id": "e-R9FE-lvW38",
        "outputId": "bf132ce2-55c8-4f0f-d4a4-6a7c6351f635"
      },
      "execution_count": null,
      "outputs": [
        {
          "output_type": "stream",
          "name": "stderr",
          "text": [
            "/usr/local/lib/python3.10/dist-packages/trectools/trec_eval.py:427: FutureWarning: Not prepending group keys to the result index of transform-like apply. In the future, the group keys will be included in the index, regardless of whether the applied function returns a like-indexed object.\n",
            "To preserve the previous behavior, use\n",
            "\n",
            "\t>>> .groupby(..., group_keys=False)\n",
            "\n",
            "To adopt the future behavior and silence this warning, use \n",
            "\n",
            "\t>>> .groupby(..., group_keys=True)\n",
            "  topX = topX.groupby(\"query\").apply(lambda x: x.head(n_relevant_docs.loc[x.name])).reset_index(drop=True)\n"
          ]
        },
        {
          "output_type": "execute_result",
          "data": {
            "text/plain": [
              "0.6768476329057078"
            ]
          },
          "metadata": {},
          "execution_count": 74
        }
      ]
    },
    {
      "cell_type": "code",
      "source": [
        "#model_name = \"cross-encoder/ms-marco-MiniLM-L-6-v2\"\n",
        "#tokenizer = AutoTokenizer.from_pretrained(model_name)\n",
        "#dataset_test = MSMARCODataset(tokenizer, queries, passages, [1]*len(queries), return_token_type_ids=True)\n",
        "#dataloader_test = data.DataLoader(dataset_test, batch_size=32, shuffle=False, collate_fn=collate_fn)"
      ],
      "metadata": {
        "id": "CuolnXdkinzl"
      },
      "execution_count": null,
      "outputs": []
    },
    {
      "cell_type": "markdown",
      "source": [
        "## 4th Pipeline: Doc2Query + SPLADE Reranking + InPars Reranking"
      ],
      "metadata": {
        "id": "_Ni4RZ6uKgHN"
      }
    },
    {
      "cell_type": "code",
      "source": [
        "import time\n",
        "\n",
        "def search_doc2query_splade_inpars(query, index_name, top_k=1000):\n",
        "  #1st step: SPLADE on doc2query index\n",
        "  query_vec = vectorize_to_sparse(query, tokenizer=tokenizer, model=model)\n",
        "  doc_scores = search_by_query_vector_in_inverted_index(inverted_index_doc2query, query_vec, k)\n",
        "  \n",
        "  #Last step: InPars reranking\n",
        "  queries = [query]*100\n",
        "  passages = [id_to_text[k] for k, v in doc_scores.items()]\n",
        "  dataset_test = MSMARCODataset(inpars_tokenizer, queries, passages[:100], [1]*len(queries), return_token_type_ids=True)\n",
        "  dataloader_test = data.DataLoader(dataset_test, batch_size=32, shuffle=False, collate_fn=collate_fn)\n",
        "  scores = evaluate_test_dataset(model_inpars, dataloader_test, \"InPars\")\n",
        "  \n",
        "  new_doc_scores = dict()\n",
        "  for i, doc_id in enumerate(list(doc_scores.keys())[:100]):\n",
        "    new_doc_scores[doc_id] = scores[i]\n",
        "  \n",
        "  new_doc_scores = dict(sorted(new_doc_scores.items(), key=lambda x: x[1], reverse=True))\n",
        "\n",
        "  return new_doc_scores"
      ],
      "metadata": {
        "id": "egPk24fTKiXj"
      },
      "execution_count": 40,
      "outputs": []
    },
    {
      "cell_type": "code",
      "source": [
        "from collections import defaultdict\n",
        "\n",
        "run_doc2querysplade_inpars = defaultdict(list)\n",
        "\n",
        "start = time.time()\n",
        "k=1000\n",
        "\n",
        "for i, query in tqdm(zip(query_ids, query_texts)):\n",
        "  doc_scores = search_doc2query_splade_inpars(query, index_path, k)\n",
        "  n = len(doc_scores)\n",
        "  run_doc2querysplade_inpars[\"query\"] += [i] * n\n",
        "  run_doc2querysplade_inpars[\"docid\"] += doc_scores.keys()\n",
        "  run_doc2querysplade_inpars[\"score\"] += doc_scores.values()\n",
        "  run_doc2querysplade_inpars[\"q0\"] += [\"q0\"] * n\n",
        "  run_doc2querysplade_inpars[\"rank\"] += list(range(1,n+1))\n",
        "  run_doc2querysplade_inpars[\"system\"] += [\"doc2query_bm25_splade_inpars\"] * n\n",
        "\n",
        "end = time.time()\n",
        "print(\"Time spent = \", end - start)\n",
        "print(\"Time spent by query = \", (end - start)/len(query_ids))"
      ],
      "metadata": {
        "colab": {
          "base_uri": "https://localhost:8080/"
        },
        "id": "1uIzKya7MVhf",
        "outputId": "41a0f7b6-5e83-4ae2-9bb8-095b82cf972b"
      },
      "execution_count": 41,
      "outputs": [
        {
          "output_type": "stream",
          "name": "stderr",
          "text": [
            "50it [01:29,  1.78s/it]"
          ]
        },
        {
          "output_type": "stream",
          "name": "stdout",
          "text": [
            "Time spent =  89.74318432807922\n",
            "Time spent by query =  1.7948636865615846\n"
          ]
        },
        {
          "output_type": "stream",
          "name": "stderr",
          "text": [
            "\n"
          ]
        }
      ]
    },
    {
      "cell_type": "code",
      "source": [
        "eval_ndcg10(run_doc2querysplade_inpars)"
      ],
      "metadata": {
        "colab": {
          "base_uri": "https://localhost:8080/"
        },
        "id": "uQNxE9P_NHLk",
        "outputId": "e273ad03-c708-4e78-fdbf-d79de8a14ca0"
      },
      "execution_count": 42,
      "outputs": [
        {
          "output_type": "stream",
          "name": "stderr",
          "text": [
            "/usr/local/lib/python3.10/dist-packages/trectools/trec_eval.py:427: FutureWarning: Not prepending group keys to the result index of transform-like apply. In the future, the group keys will be included in the index, regardless of whether the applied function returns a like-indexed object.\n",
            "To preserve the previous behavior, use\n",
            "\n",
            "\t>>> .groupby(..., group_keys=False)\n",
            "\n",
            "To adopt the future behavior and silence this warning, use \n",
            "\n",
            "\t>>> .groupby(..., group_keys=True)\n",
            "  topX = topX.groupby(\"query\").apply(lambda x: x.head(n_relevant_docs.loc[x.name])).reset_index(drop=True)\n"
          ]
        },
        {
          "output_type": "execute_result",
          "data": {
            "text/plain": [
              "0.7602537799201439"
            ]
          },
          "metadata": {},
          "execution_count": 42
        }
      ]
    },
    {
      "cell_type": "code",
      "source": [],
      "metadata": {
        "id": "T27AOyKLXa36"
      },
      "execution_count": null,
      "outputs": []
    }
  ],
  "metadata": {
    "accelerator": "GPU",
    "colab": {
      "collapsed_sections": [
        "Hfzi7hH2pkKY",
        "DXnckUxf4-wL",
        "AdoSaFnH5P7p",
        "NGd-6YGdKtMl",
        "MVM9BCfYgFyR"
      ],
      "machine_shape": "hm",
      "provenance": [],
      "gpuType": "A100"
    },
    "gpuClass": "standard",
    "kernelspec": {
      "display_name": "Python 3",
      "name": "python3"
    },
    "language_info": {
      "name": "python"
    },
    "widgets": {
      "application/vnd.jupyter.widget-state+json": {
        "7f6aaf3392164c519b7b52faf2fb8398": {
          "model_module": "@jupyter-widgets/controls",
          "model_name": "HBoxModel",
          "model_module_version": "1.5.0",
          "state": {
            "_dom_classes": [],
            "_model_module": "@jupyter-widgets/controls",
            "_model_module_version": "1.5.0",
            "_model_name": "HBoxModel",
            "_view_count": null,
            "_view_module": "@jupyter-widgets/controls",
            "_view_module_version": "1.5.0",
            "_view_name": "HBoxView",
            "box_style": "",
            "children": [
              "IPY_MODEL_34798ef700c54ec9b21a5cf747a94862",
              "IPY_MODEL_bf60a81658914828aaead2ab6715e068",
              "IPY_MODEL_441c4d91fa954a1798beb9cec990c05b"
            ],
            "layout": "IPY_MODEL_b12788f3ce3f4435873dd5932dddaee8"
          }
        },
        "34798ef700c54ec9b21a5cf747a94862": {
          "model_module": "@jupyter-widgets/controls",
          "model_name": "HTMLModel",
          "model_module_version": "1.5.0",
          "state": {
            "_dom_classes": [],
            "_model_module": "@jupyter-widgets/controls",
            "_model_module_version": "1.5.0",
            "_model_name": "HTMLModel",
            "_view_count": null,
            "_view_module": "@jupyter-widgets/controls",
            "_view_module_version": "1.5.0",
            "_view_name": "HTMLView",
            "description": "",
            "description_tooltip": null,
            "layout": "IPY_MODEL_5525f6f5581d4ec9ae0b3109b23ff3ca",
            "placeholder": "​",
            "style": "IPY_MODEL_afa3bd3e95b8442e922922563e4ce26d",
            "value": "Downloading builder script: 100%"
          }
        },
        "bf60a81658914828aaead2ab6715e068": {
          "model_module": "@jupyter-widgets/controls",
          "model_name": "FloatProgressModel",
          "model_module_version": "1.5.0",
          "state": {
            "_dom_classes": [],
            "_model_module": "@jupyter-widgets/controls",
            "_model_module_version": "1.5.0",
            "_model_name": "FloatProgressModel",
            "_view_count": null,
            "_view_module": "@jupyter-widgets/controls",
            "_view_module_version": "1.5.0",
            "_view_name": "ProgressView",
            "bar_style": "success",
            "description": "",
            "description_tooltip": null,
            "layout": "IPY_MODEL_e7669dbe41d2470faaf68c60041b58b5",
            "max": 5514,
            "min": 0,
            "orientation": "horizontal",
            "style": "IPY_MODEL_9304002e8a3f426e839e0a65cc57ec69",
            "value": 5514
          }
        },
        "441c4d91fa954a1798beb9cec990c05b": {
          "model_module": "@jupyter-widgets/controls",
          "model_name": "HTMLModel",
          "model_module_version": "1.5.0",
          "state": {
            "_dom_classes": [],
            "_model_module": "@jupyter-widgets/controls",
            "_model_module_version": "1.5.0",
            "_model_name": "HTMLModel",
            "_view_count": null,
            "_view_module": "@jupyter-widgets/controls",
            "_view_module_version": "1.5.0",
            "_view_name": "HTMLView",
            "description": "",
            "description_tooltip": null,
            "layout": "IPY_MODEL_5f45679aa8d34dd19fd68c78eb41d2de",
            "placeholder": "​",
            "style": "IPY_MODEL_0f563670a0904d78b3f845532b9f4187",
            "value": " 5.51k/5.51k [00:00&lt;00:00, 259kB/s]"
          }
        },
        "b12788f3ce3f4435873dd5932dddaee8": {
          "model_module": "@jupyter-widgets/base",
          "model_name": "LayoutModel",
          "model_module_version": "1.2.0",
          "state": {
            "_model_module": "@jupyter-widgets/base",
            "_model_module_version": "1.2.0",
            "_model_name": "LayoutModel",
            "_view_count": null,
            "_view_module": "@jupyter-widgets/base",
            "_view_module_version": "1.2.0",
            "_view_name": "LayoutView",
            "align_content": null,
            "align_items": null,
            "align_self": null,
            "border": null,
            "bottom": null,
            "display": null,
            "flex": null,
            "flex_flow": null,
            "grid_area": null,
            "grid_auto_columns": null,
            "grid_auto_flow": null,
            "grid_auto_rows": null,
            "grid_column": null,
            "grid_gap": null,
            "grid_row": null,
            "grid_template_areas": null,
            "grid_template_columns": null,
            "grid_template_rows": null,
            "height": null,
            "justify_content": null,
            "justify_items": null,
            "left": null,
            "margin": null,
            "max_height": null,
            "max_width": null,
            "min_height": null,
            "min_width": null,
            "object_fit": null,
            "object_position": null,
            "order": null,
            "overflow": null,
            "overflow_x": null,
            "overflow_y": null,
            "padding": null,
            "right": null,
            "top": null,
            "visibility": null,
            "width": null
          }
        },
        "5525f6f5581d4ec9ae0b3109b23ff3ca": {
          "model_module": "@jupyter-widgets/base",
          "model_name": "LayoutModel",
          "model_module_version": "1.2.0",
          "state": {
            "_model_module": "@jupyter-widgets/base",
            "_model_module_version": "1.2.0",
            "_model_name": "LayoutModel",
            "_view_count": null,
            "_view_module": "@jupyter-widgets/base",
            "_view_module_version": "1.2.0",
            "_view_name": "LayoutView",
            "align_content": null,
            "align_items": null,
            "align_self": null,
            "border": null,
            "bottom": null,
            "display": null,
            "flex": null,
            "flex_flow": null,
            "grid_area": null,
            "grid_auto_columns": null,
            "grid_auto_flow": null,
            "grid_auto_rows": null,
            "grid_column": null,
            "grid_gap": null,
            "grid_row": null,
            "grid_template_areas": null,
            "grid_template_columns": null,
            "grid_template_rows": null,
            "height": null,
            "justify_content": null,
            "justify_items": null,
            "left": null,
            "margin": null,
            "max_height": null,
            "max_width": null,
            "min_height": null,
            "min_width": null,
            "object_fit": null,
            "object_position": null,
            "order": null,
            "overflow": null,
            "overflow_x": null,
            "overflow_y": null,
            "padding": null,
            "right": null,
            "top": null,
            "visibility": null,
            "width": null
          }
        },
        "afa3bd3e95b8442e922922563e4ce26d": {
          "model_module": "@jupyter-widgets/controls",
          "model_name": "DescriptionStyleModel",
          "model_module_version": "1.5.0",
          "state": {
            "_model_module": "@jupyter-widgets/controls",
            "_model_module_version": "1.5.0",
            "_model_name": "DescriptionStyleModel",
            "_view_count": null,
            "_view_module": "@jupyter-widgets/base",
            "_view_module_version": "1.2.0",
            "_view_name": "StyleView",
            "description_width": ""
          }
        },
        "e7669dbe41d2470faaf68c60041b58b5": {
          "model_module": "@jupyter-widgets/base",
          "model_name": "LayoutModel",
          "model_module_version": "1.2.0",
          "state": {
            "_model_module": "@jupyter-widgets/base",
            "_model_module_version": "1.2.0",
            "_model_name": "LayoutModel",
            "_view_count": null,
            "_view_module": "@jupyter-widgets/base",
            "_view_module_version": "1.2.0",
            "_view_name": "LayoutView",
            "align_content": null,
            "align_items": null,
            "align_self": null,
            "border": null,
            "bottom": null,
            "display": null,
            "flex": null,
            "flex_flow": null,
            "grid_area": null,
            "grid_auto_columns": null,
            "grid_auto_flow": null,
            "grid_auto_rows": null,
            "grid_column": null,
            "grid_gap": null,
            "grid_row": null,
            "grid_template_areas": null,
            "grid_template_columns": null,
            "grid_template_rows": null,
            "height": null,
            "justify_content": null,
            "justify_items": null,
            "left": null,
            "margin": null,
            "max_height": null,
            "max_width": null,
            "min_height": null,
            "min_width": null,
            "object_fit": null,
            "object_position": null,
            "order": null,
            "overflow": null,
            "overflow_x": null,
            "overflow_y": null,
            "padding": null,
            "right": null,
            "top": null,
            "visibility": null,
            "width": null
          }
        },
        "9304002e8a3f426e839e0a65cc57ec69": {
          "model_module": "@jupyter-widgets/controls",
          "model_name": "ProgressStyleModel",
          "model_module_version": "1.5.0",
          "state": {
            "_model_module": "@jupyter-widgets/controls",
            "_model_module_version": "1.5.0",
            "_model_name": "ProgressStyleModel",
            "_view_count": null,
            "_view_module": "@jupyter-widgets/base",
            "_view_module_version": "1.2.0",
            "_view_name": "StyleView",
            "bar_color": null,
            "description_width": ""
          }
        },
        "5f45679aa8d34dd19fd68c78eb41d2de": {
          "model_module": "@jupyter-widgets/base",
          "model_name": "LayoutModel",
          "model_module_version": "1.2.0",
          "state": {
            "_model_module": "@jupyter-widgets/base",
            "_model_module_version": "1.2.0",
            "_model_name": "LayoutModel",
            "_view_count": null,
            "_view_module": "@jupyter-widgets/base",
            "_view_module_version": "1.2.0",
            "_view_name": "LayoutView",
            "align_content": null,
            "align_items": null,
            "align_self": null,
            "border": null,
            "bottom": null,
            "display": null,
            "flex": null,
            "flex_flow": null,
            "grid_area": null,
            "grid_auto_columns": null,
            "grid_auto_flow": null,
            "grid_auto_rows": null,
            "grid_column": null,
            "grid_gap": null,
            "grid_row": null,
            "grid_template_areas": null,
            "grid_template_columns": null,
            "grid_template_rows": null,
            "height": null,
            "justify_content": null,
            "justify_items": null,
            "left": null,
            "margin": null,
            "max_height": null,
            "max_width": null,
            "min_height": null,
            "min_width": null,
            "object_fit": null,
            "object_position": null,
            "order": null,
            "overflow": null,
            "overflow_x": null,
            "overflow_y": null,
            "padding": null,
            "right": null,
            "top": null,
            "visibility": null,
            "width": null
          }
        },
        "0f563670a0904d78b3f845532b9f4187": {
          "model_module": "@jupyter-widgets/controls",
          "model_name": "DescriptionStyleModel",
          "model_module_version": "1.5.0",
          "state": {
            "_model_module": "@jupyter-widgets/controls",
            "_model_module_version": "1.5.0",
            "_model_name": "DescriptionStyleModel",
            "_view_count": null,
            "_view_module": "@jupyter-widgets/base",
            "_view_module_version": "1.2.0",
            "_view_name": "StyleView",
            "description_width": ""
          }
        },
        "4d439bb49228455e9365865ba004f56a": {
          "model_module": "@jupyter-widgets/controls",
          "model_name": "HBoxModel",
          "model_module_version": "1.5.0",
          "state": {
            "_dom_classes": [],
            "_model_module": "@jupyter-widgets/controls",
            "_model_module_version": "1.5.0",
            "_model_name": "HBoxModel",
            "_view_count": null,
            "_view_module": "@jupyter-widgets/controls",
            "_view_module_version": "1.5.0",
            "_view_name": "HBoxView",
            "box_style": "",
            "children": [
              "IPY_MODEL_2e9dbe3ca4d44ceb90821d1f942976d9",
              "IPY_MODEL_4a10d350d5ce40fc8583a489e3697da5",
              "IPY_MODEL_9ae02fcf8e604bd5b0676d300f44e010"
            ],
            "layout": "IPY_MODEL_ed2bba10f16e44428a7c846e4e4ad71d"
          }
        },
        "2e9dbe3ca4d44ceb90821d1f942976d9": {
          "model_module": "@jupyter-widgets/controls",
          "model_name": "HTMLModel",
          "model_module_version": "1.5.0",
          "state": {
            "_dom_classes": [],
            "_model_module": "@jupyter-widgets/controls",
            "_model_module_version": "1.5.0",
            "_model_name": "HTMLModel",
            "_view_count": null,
            "_view_module": "@jupyter-widgets/controls",
            "_view_module_version": "1.5.0",
            "_view_name": "HTMLView",
            "description": "",
            "description_tooltip": null,
            "layout": "IPY_MODEL_4b109436942948bb935dc392ccab1c00",
            "placeholder": "​",
            "style": "IPY_MODEL_5c2104aec6594a4bb7b90fb18c1fef72",
            "value": "Downloading builder script: 100%"
          }
        },
        "4a10d350d5ce40fc8583a489e3697da5": {
          "model_module": "@jupyter-widgets/controls",
          "model_name": "FloatProgressModel",
          "model_module_version": "1.5.0",
          "state": {
            "_dom_classes": [],
            "_model_module": "@jupyter-widgets/controls",
            "_model_module_version": "1.5.0",
            "_model_name": "FloatProgressModel",
            "_view_count": null,
            "_view_module": "@jupyter-widgets/controls",
            "_view_module_version": "1.5.0",
            "_view_name": "ProgressView",
            "bar_style": "success",
            "description": "",
            "description_tooltip": null,
            "layout": "IPY_MODEL_9b62e494b97940c49c5c944030e07133",
            "max": 5514,
            "min": 0,
            "orientation": "horizontal",
            "style": "IPY_MODEL_8efd19c6b2934592bc36c5b8ddfd2cf5",
            "value": 5514
          }
        },
        "9ae02fcf8e604bd5b0676d300f44e010": {
          "model_module": "@jupyter-widgets/controls",
          "model_name": "HTMLModel",
          "model_module_version": "1.5.0",
          "state": {
            "_dom_classes": [],
            "_model_module": "@jupyter-widgets/controls",
            "_model_module_version": "1.5.0",
            "_model_name": "HTMLModel",
            "_view_count": null,
            "_view_module": "@jupyter-widgets/controls",
            "_view_module_version": "1.5.0",
            "_view_name": "HTMLView",
            "description": "",
            "description_tooltip": null,
            "layout": "IPY_MODEL_6a95ff1ff81b4af0b08e12a795ab04bf",
            "placeholder": "​",
            "style": "IPY_MODEL_b33ccd3149e64fb1ac82773b05946ef5",
            "value": " 5.51k/5.51k [00:00&lt;00:00, 3.74kB/s]"
          }
        },
        "ed2bba10f16e44428a7c846e4e4ad71d": {
          "model_module": "@jupyter-widgets/base",
          "model_name": "LayoutModel",
          "model_module_version": "1.2.0",
          "state": {
            "_model_module": "@jupyter-widgets/base",
            "_model_module_version": "1.2.0",
            "_model_name": "LayoutModel",
            "_view_count": null,
            "_view_module": "@jupyter-widgets/base",
            "_view_module_version": "1.2.0",
            "_view_name": "LayoutView",
            "align_content": null,
            "align_items": null,
            "align_self": null,
            "border": null,
            "bottom": null,
            "display": null,
            "flex": null,
            "flex_flow": null,
            "grid_area": null,
            "grid_auto_columns": null,
            "grid_auto_flow": null,
            "grid_auto_rows": null,
            "grid_column": null,
            "grid_gap": null,
            "grid_row": null,
            "grid_template_areas": null,
            "grid_template_columns": null,
            "grid_template_rows": null,
            "height": null,
            "justify_content": null,
            "justify_items": null,
            "left": null,
            "margin": null,
            "max_height": null,
            "max_width": null,
            "min_height": null,
            "min_width": null,
            "object_fit": null,
            "object_position": null,
            "order": null,
            "overflow": null,
            "overflow_x": null,
            "overflow_y": null,
            "padding": null,
            "right": null,
            "top": null,
            "visibility": null,
            "width": null
          }
        },
        "4b109436942948bb935dc392ccab1c00": {
          "model_module": "@jupyter-widgets/base",
          "model_name": "LayoutModel",
          "model_module_version": "1.2.0",
          "state": {
            "_model_module": "@jupyter-widgets/base",
            "_model_module_version": "1.2.0",
            "_model_name": "LayoutModel",
            "_view_count": null,
            "_view_module": "@jupyter-widgets/base",
            "_view_module_version": "1.2.0",
            "_view_name": "LayoutView",
            "align_content": null,
            "align_items": null,
            "align_self": null,
            "border": null,
            "bottom": null,
            "display": null,
            "flex": null,
            "flex_flow": null,
            "grid_area": null,
            "grid_auto_columns": null,
            "grid_auto_flow": null,
            "grid_auto_rows": null,
            "grid_column": null,
            "grid_gap": null,
            "grid_row": null,
            "grid_template_areas": null,
            "grid_template_columns": null,
            "grid_template_rows": null,
            "height": null,
            "justify_content": null,
            "justify_items": null,
            "left": null,
            "margin": null,
            "max_height": null,
            "max_width": null,
            "min_height": null,
            "min_width": null,
            "object_fit": null,
            "object_position": null,
            "order": null,
            "overflow": null,
            "overflow_x": null,
            "overflow_y": null,
            "padding": null,
            "right": null,
            "top": null,
            "visibility": null,
            "width": null
          }
        },
        "5c2104aec6594a4bb7b90fb18c1fef72": {
          "model_module": "@jupyter-widgets/controls",
          "model_name": "DescriptionStyleModel",
          "model_module_version": "1.5.0",
          "state": {
            "_model_module": "@jupyter-widgets/controls",
            "_model_module_version": "1.5.0",
            "_model_name": "DescriptionStyleModel",
            "_view_count": null,
            "_view_module": "@jupyter-widgets/base",
            "_view_module_version": "1.2.0",
            "_view_name": "StyleView",
            "description_width": ""
          }
        },
        "9b62e494b97940c49c5c944030e07133": {
          "model_module": "@jupyter-widgets/base",
          "model_name": "LayoutModel",
          "model_module_version": "1.2.0",
          "state": {
            "_model_module": "@jupyter-widgets/base",
            "_model_module_version": "1.2.0",
            "_model_name": "LayoutModel",
            "_view_count": null,
            "_view_module": "@jupyter-widgets/base",
            "_view_module_version": "1.2.0",
            "_view_name": "LayoutView",
            "align_content": null,
            "align_items": null,
            "align_self": null,
            "border": null,
            "bottom": null,
            "display": null,
            "flex": null,
            "flex_flow": null,
            "grid_area": null,
            "grid_auto_columns": null,
            "grid_auto_flow": null,
            "grid_auto_rows": null,
            "grid_column": null,
            "grid_gap": null,
            "grid_row": null,
            "grid_template_areas": null,
            "grid_template_columns": null,
            "grid_template_rows": null,
            "height": null,
            "justify_content": null,
            "justify_items": null,
            "left": null,
            "margin": null,
            "max_height": null,
            "max_width": null,
            "min_height": null,
            "min_width": null,
            "object_fit": null,
            "object_position": null,
            "order": null,
            "overflow": null,
            "overflow_x": null,
            "overflow_y": null,
            "padding": null,
            "right": null,
            "top": null,
            "visibility": null,
            "width": null
          }
        },
        "8efd19c6b2934592bc36c5b8ddfd2cf5": {
          "model_module": "@jupyter-widgets/controls",
          "model_name": "ProgressStyleModel",
          "model_module_version": "1.5.0",
          "state": {
            "_model_module": "@jupyter-widgets/controls",
            "_model_module_version": "1.5.0",
            "_model_name": "ProgressStyleModel",
            "_view_count": null,
            "_view_module": "@jupyter-widgets/base",
            "_view_module_version": "1.2.0",
            "_view_name": "StyleView",
            "bar_color": null,
            "description_width": ""
          }
        },
        "6a95ff1ff81b4af0b08e12a795ab04bf": {
          "model_module": "@jupyter-widgets/base",
          "model_name": "LayoutModel",
          "model_module_version": "1.2.0",
          "state": {
            "_model_module": "@jupyter-widgets/base",
            "_model_module_version": "1.2.0",
            "_model_name": "LayoutModel",
            "_view_count": null,
            "_view_module": "@jupyter-widgets/base",
            "_view_module_version": "1.2.0",
            "_view_name": "LayoutView",
            "align_content": null,
            "align_items": null,
            "align_self": null,
            "border": null,
            "bottom": null,
            "display": null,
            "flex": null,
            "flex_flow": null,
            "grid_area": null,
            "grid_auto_columns": null,
            "grid_auto_flow": null,
            "grid_auto_rows": null,
            "grid_column": null,
            "grid_gap": null,
            "grid_row": null,
            "grid_template_areas": null,
            "grid_template_columns": null,
            "grid_template_rows": null,
            "height": null,
            "justify_content": null,
            "justify_items": null,
            "left": null,
            "margin": null,
            "max_height": null,
            "max_width": null,
            "min_height": null,
            "min_width": null,
            "object_fit": null,
            "object_position": null,
            "order": null,
            "overflow": null,
            "overflow_x": null,
            "overflow_y": null,
            "padding": null,
            "right": null,
            "top": null,
            "visibility": null,
            "width": null
          }
        },
        "b33ccd3149e64fb1ac82773b05946ef5": {
          "model_module": "@jupyter-widgets/controls",
          "model_name": "DescriptionStyleModel",
          "model_module_version": "1.5.0",
          "state": {
            "_model_module": "@jupyter-widgets/controls",
            "_model_module_version": "1.5.0",
            "_model_name": "DescriptionStyleModel",
            "_view_count": null,
            "_view_module": "@jupyter-widgets/base",
            "_view_module_version": "1.2.0",
            "_view_name": "StyleView",
            "description_width": ""
          }
        },
        "d4ce6a29acdd48568ebc9725ebfce2cf": {
          "model_module": "@jupyter-widgets/controls",
          "model_name": "HBoxModel",
          "model_module_version": "1.5.0",
          "state": {
            "_dom_classes": [],
            "_model_module": "@jupyter-widgets/controls",
            "_model_module_version": "1.5.0",
            "_model_name": "HBoxModel",
            "_view_count": null,
            "_view_module": "@jupyter-widgets/controls",
            "_view_module_version": "1.5.0",
            "_view_name": "HBoxView",
            "box_style": "",
            "children": [
              "IPY_MODEL_8a69bc30d6c246c3acd257bbc9536404",
              "IPY_MODEL_597ca8a072224455a595a87aa2287643",
              "IPY_MODEL_bad4448665564cf1a154fb4aa0db39fb"
            ],
            "layout": "IPY_MODEL_b64a6207689945f1a7929ac7c345bd3c"
          }
        },
        "8a69bc30d6c246c3acd257bbc9536404": {
          "model_module": "@jupyter-widgets/controls",
          "model_name": "HTMLModel",
          "model_module_version": "1.5.0",
          "state": {
            "_dom_classes": [],
            "_model_module": "@jupyter-widgets/controls",
            "_model_module_version": "1.5.0",
            "_model_name": "HTMLModel",
            "_view_count": null,
            "_view_module": "@jupyter-widgets/controls",
            "_view_module_version": "1.5.0",
            "_view_name": "HTMLView",
            "description": "",
            "description_tooltip": null,
            "layout": "IPY_MODEL_f1fb84f6838c4e84b11fa307518b967c",
            "placeholder": "​",
            "style": "IPY_MODEL_260e867e52f04d57952375b8bda35f13",
            "value": "Downloading builder script: 100%"
          }
        },
        "597ca8a072224455a595a87aa2287643": {
          "model_module": "@jupyter-widgets/controls",
          "model_name": "FloatProgressModel",
          "model_module_version": "1.5.0",
          "state": {
            "_dom_classes": [],
            "_model_module": "@jupyter-widgets/controls",
            "_model_module_version": "1.5.0",
            "_model_name": "FloatProgressModel",
            "_view_count": null,
            "_view_module": "@jupyter-widgets/controls",
            "_view_module_version": "1.5.0",
            "_view_name": "ProgressView",
            "bar_style": "success",
            "description": "",
            "description_tooltip": null,
            "layout": "IPY_MODEL_b58e14a1f36f47cb847dd8e724e7a6ee",
            "max": 5514,
            "min": 0,
            "orientation": "horizontal",
            "style": "IPY_MODEL_cbb2ed2518344e3d9b832ac119f2b288",
            "value": 5514
          }
        },
        "bad4448665564cf1a154fb4aa0db39fb": {
          "model_module": "@jupyter-widgets/controls",
          "model_name": "HTMLModel",
          "model_module_version": "1.5.0",
          "state": {
            "_dom_classes": [],
            "_model_module": "@jupyter-widgets/controls",
            "_model_module_version": "1.5.0",
            "_model_name": "HTMLModel",
            "_view_count": null,
            "_view_module": "@jupyter-widgets/controls",
            "_view_module_version": "1.5.0",
            "_view_name": "HTMLView",
            "description": "",
            "description_tooltip": null,
            "layout": "IPY_MODEL_bd340ef597e14da39814e6256c6d8371",
            "placeholder": "​",
            "style": "IPY_MODEL_b7134a96d4d3470da11d5cdbae2dc362",
            "value": " 5.51k/5.51k [00:00&lt;00:00, 203kB/s]"
          }
        },
        "b64a6207689945f1a7929ac7c345bd3c": {
          "model_module": "@jupyter-widgets/base",
          "model_name": "LayoutModel",
          "model_module_version": "1.2.0",
          "state": {
            "_model_module": "@jupyter-widgets/base",
            "_model_module_version": "1.2.0",
            "_model_name": "LayoutModel",
            "_view_count": null,
            "_view_module": "@jupyter-widgets/base",
            "_view_module_version": "1.2.0",
            "_view_name": "LayoutView",
            "align_content": null,
            "align_items": null,
            "align_self": null,
            "border": null,
            "bottom": null,
            "display": null,
            "flex": null,
            "flex_flow": null,
            "grid_area": null,
            "grid_auto_columns": null,
            "grid_auto_flow": null,
            "grid_auto_rows": null,
            "grid_column": null,
            "grid_gap": null,
            "grid_row": null,
            "grid_template_areas": null,
            "grid_template_columns": null,
            "grid_template_rows": null,
            "height": null,
            "justify_content": null,
            "justify_items": null,
            "left": null,
            "margin": null,
            "max_height": null,
            "max_width": null,
            "min_height": null,
            "min_width": null,
            "object_fit": null,
            "object_position": null,
            "order": null,
            "overflow": null,
            "overflow_x": null,
            "overflow_y": null,
            "padding": null,
            "right": null,
            "top": null,
            "visibility": null,
            "width": null
          }
        },
        "f1fb84f6838c4e84b11fa307518b967c": {
          "model_module": "@jupyter-widgets/base",
          "model_name": "LayoutModel",
          "model_module_version": "1.2.0",
          "state": {
            "_model_module": "@jupyter-widgets/base",
            "_model_module_version": "1.2.0",
            "_model_name": "LayoutModel",
            "_view_count": null,
            "_view_module": "@jupyter-widgets/base",
            "_view_module_version": "1.2.0",
            "_view_name": "LayoutView",
            "align_content": null,
            "align_items": null,
            "align_self": null,
            "border": null,
            "bottom": null,
            "display": null,
            "flex": null,
            "flex_flow": null,
            "grid_area": null,
            "grid_auto_columns": null,
            "grid_auto_flow": null,
            "grid_auto_rows": null,
            "grid_column": null,
            "grid_gap": null,
            "grid_row": null,
            "grid_template_areas": null,
            "grid_template_columns": null,
            "grid_template_rows": null,
            "height": null,
            "justify_content": null,
            "justify_items": null,
            "left": null,
            "margin": null,
            "max_height": null,
            "max_width": null,
            "min_height": null,
            "min_width": null,
            "object_fit": null,
            "object_position": null,
            "order": null,
            "overflow": null,
            "overflow_x": null,
            "overflow_y": null,
            "padding": null,
            "right": null,
            "top": null,
            "visibility": null,
            "width": null
          }
        },
        "260e867e52f04d57952375b8bda35f13": {
          "model_module": "@jupyter-widgets/controls",
          "model_name": "DescriptionStyleModel",
          "model_module_version": "1.5.0",
          "state": {
            "_model_module": "@jupyter-widgets/controls",
            "_model_module_version": "1.5.0",
            "_model_name": "DescriptionStyleModel",
            "_view_count": null,
            "_view_module": "@jupyter-widgets/base",
            "_view_module_version": "1.2.0",
            "_view_name": "StyleView",
            "description_width": ""
          }
        },
        "b58e14a1f36f47cb847dd8e724e7a6ee": {
          "model_module": "@jupyter-widgets/base",
          "model_name": "LayoutModel",
          "model_module_version": "1.2.0",
          "state": {
            "_model_module": "@jupyter-widgets/base",
            "_model_module_version": "1.2.0",
            "_model_name": "LayoutModel",
            "_view_count": null,
            "_view_module": "@jupyter-widgets/base",
            "_view_module_version": "1.2.0",
            "_view_name": "LayoutView",
            "align_content": null,
            "align_items": null,
            "align_self": null,
            "border": null,
            "bottom": null,
            "display": null,
            "flex": null,
            "flex_flow": null,
            "grid_area": null,
            "grid_auto_columns": null,
            "grid_auto_flow": null,
            "grid_auto_rows": null,
            "grid_column": null,
            "grid_gap": null,
            "grid_row": null,
            "grid_template_areas": null,
            "grid_template_columns": null,
            "grid_template_rows": null,
            "height": null,
            "justify_content": null,
            "justify_items": null,
            "left": null,
            "margin": null,
            "max_height": null,
            "max_width": null,
            "min_height": null,
            "min_width": null,
            "object_fit": null,
            "object_position": null,
            "order": null,
            "overflow": null,
            "overflow_x": null,
            "overflow_y": null,
            "padding": null,
            "right": null,
            "top": null,
            "visibility": null,
            "width": null
          }
        },
        "cbb2ed2518344e3d9b832ac119f2b288": {
          "model_module": "@jupyter-widgets/controls",
          "model_name": "ProgressStyleModel",
          "model_module_version": "1.5.0",
          "state": {
            "_model_module": "@jupyter-widgets/controls",
            "_model_module_version": "1.5.0",
            "_model_name": "ProgressStyleModel",
            "_view_count": null,
            "_view_module": "@jupyter-widgets/base",
            "_view_module_version": "1.2.0",
            "_view_name": "StyleView",
            "bar_color": null,
            "description_width": ""
          }
        },
        "bd340ef597e14da39814e6256c6d8371": {
          "model_module": "@jupyter-widgets/base",
          "model_name": "LayoutModel",
          "model_module_version": "1.2.0",
          "state": {
            "_model_module": "@jupyter-widgets/base",
            "_model_module_version": "1.2.0",
            "_model_name": "LayoutModel",
            "_view_count": null,
            "_view_module": "@jupyter-widgets/base",
            "_view_module_version": "1.2.0",
            "_view_name": "LayoutView",
            "align_content": null,
            "align_items": null,
            "align_self": null,
            "border": null,
            "bottom": null,
            "display": null,
            "flex": null,
            "flex_flow": null,
            "grid_area": null,
            "grid_auto_columns": null,
            "grid_auto_flow": null,
            "grid_auto_rows": null,
            "grid_column": null,
            "grid_gap": null,
            "grid_row": null,
            "grid_template_areas": null,
            "grid_template_columns": null,
            "grid_template_rows": null,
            "height": null,
            "justify_content": null,
            "justify_items": null,
            "left": null,
            "margin": null,
            "max_height": null,
            "max_width": null,
            "min_height": null,
            "min_width": null,
            "object_fit": null,
            "object_position": null,
            "order": null,
            "overflow": null,
            "overflow_x": null,
            "overflow_y": null,
            "padding": null,
            "right": null,
            "top": null,
            "visibility": null,
            "width": null
          }
        },
        "b7134a96d4d3470da11d5cdbae2dc362": {
          "model_module": "@jupyter-widgets/controls",
          "model_name": "DescriptionStyleModel",
          "model_module_version": "1.5.0",
          "state": {
            "_model_module": "@jupyter-widgets/controls",
            "_model_module_version": "1.5.0",
            "_model_name": "DescriptionStyleModel",
            "_view_count": null,
            "_view_module": "@jupyter-widgets/base",
            "_view_module_version": "1.2.0",
            "_view_name": "StyleView",
            "description_width": ""
          }
        },
        "4778996313ed4f30a6c0a31224905501": {
          "model_module": "@jupyter-widgets/controls",
          "model_name": "HBoxModel",
          "model_module_version": "1.5.0",
          "state": {
            "_dom_classes": [],
            "_model_module": "@jupyter-widgets/controls",
            "_model_module_version": "1.5.0",
            "_model_name": "HBoxModel",
            "_view_count": null,
            "_view_module": "@jupyter-widgets/controls",
            "_view_module_version": "1.5.0",
            "_view_name": "HBoxView",
            "box_style": "",
            "children": [
              "IPY_MODEL_87d42c1da11e46b090fc4bf76eafefab",
              "IPY_MODEL_85c9ca1d3c9340de8d78bb58dec0fa6a",
              "IPY_MODEL_45d2649fb8cc4217b5d92352cf94daf0"
            ],
            "layout": "IPY_MODEL_2f7b4899b8f9424bb94f07bb1d6ef99c"
          }
        },
        "87d42c1da11e46b090fc4bf76eafefab": {
          "model_module": "@jupyter-widgets/controls",
          "model_name": "HTMLModel",
          "model_module_version": "1.5.0",
          "state": {
            "_dom_classes": [],
            "_model_module": "@jupyter-widgets/controls",
            "_model_module_version": "1.5.0",
            "_model_name": "HTMLModel",
            "_view_count": null,
            "_view_module": "@jupyter-widgets/controls",
            "_view_module_version": "1.5.0",
            "_view_name": "HTMLView",
            "description": "",
            "description_tooltip": null,
            "layout": "IPY_MODEL_5e3a358f1b09419dab5ac797d76127f9",
            "placeholder": "​",
            "style": "IPY_MODEL_ed9329c0f5404a919d448bd9e2f45f48",
            "value": "Downloading (…)okenizer_config.json: 100%"
          }
        },
        "85c9ca1d3c9340de8d78bb58dec0fa6a": {
          "model_module": "@jupyter-widgets/controls",
          "model_name": "FloatProgressModel",
          "model_module_version": "1.5.0",
          "state": {
            "_dom_classes": [],
            "_model_module": "@jupyter-widgets/controls",
            "_model_module_version": "1.5.0",
            "_model_name": "FloatProgressModel",
            "_view_count": null,
            "_view_module": "@jupyter-widgets/controls",
            "_view_module_version": "1.5.0",
            "_view_name": "ProgressView",
            "bar_style": "success",
            "description": "",
            "description_tooltip": null,
            "layout": "IPY_MODEL_e4b37ab879664e5dac624eeed8c8b3c8",
            "max": 466,
            "min": 0,
            "orientation": "horizontal",
            "style": "IPY_MODEL_2dfa3c7eb49c46aca3e9592750282d26",
            "value": 466
          }
        },
        "45d2649fb8cc4217b5d92352cf94daf0": {
          "model_module": "@jupyter-widgets/controls",
          "model_name": "HTMLModel",
          "model_module_version": "1.5.0",
          "state": {
            "_dom_classes": [],
            "_model_module": "@jupyter-widgets/controls",
            "_model_module_version": "1.5.0",
            "_model_name": "HTMLModel",
            "_view_count": null,
            "_view_module": "@jupyter-widgets/controls",
            "_view_module_version": "1.5.0",
            "_view_name": "HTMLView",
            "description": "",
            "description_tooltip": null,
            "layout": "IPY_MODEL_138f337998cb4a75b6426bef9964e585",
            "placeholder": "​",
            "style": "IPY_MODEL_ddd20f0e761646bcb6a99f6be233ccfd",
            "value": " 466/466 [00:00&lt;00:00, 40.2kB/s]"
          }
        },
        "2f7b4899b8f9424bb94f07bb1d6ef99c": {
          "model_module": "@jupyter-widgets/base",
          "model_name": "LayoutModel",
          "model_module_version": "1.2.0",
          "state": {
            "_model_module": "@jupyter-widgets/base",
            "_model_module_version": "1.2.0",
            "_model_name": "LayoutModel",
            "_view_count": null,
            "_view_module": "@jupyter-widgets/base",
            "_view_module_version": "1.2.0",
            "_view_name": "LayoutView",
            "align_content": null,
            "align_items": null,
            "align_self": null,
            "border": null,
            "bottom": null,
            "display": null,
            "flex": null,
            "flex_flow": null,
            "grid_area": null,
            "grid_auto_columns": null,
            "grid_auto_flow": null,
            "grid_auto_rows": null,
            "grid_column": null,
            "grid_gap": null,
            "grid_row": null,
            "grid_template_areas": null,
            "grid_template_columns": null,
            "grid_template_rows": null,
            "height": null,
            "justify_content": null,
            "justify_items": null,
            "left": null,
            "margin": null,
            "max_height": null,
            "max_width": null,
            "min_height": null,
            "min_width": null,
            "object_fit": null,
            "object_position": null,
            "order": null,
            "overflow": null,
            "overflow_x": null,
            "overflow_y": null,
            "padding": null,
            "right": null,
            "top": null,
            "visibility": null,
            "width": null
          }
        },
        "5e3a358f1b09419dab5ac797d76127f9": {
          "model_module": "@jupyter-widgets/base",
          "model_name": "LayoutModel",
          "model_module_version": "1.2.0",
          "state": {
            "_model_module": "@jupyter-widgets/base",
            "_model_module_version": "1.2.0",
            "_model_name": "LayoutModel",
            "_view_count": null,
            "_view_module": "@jupyter-widgets/base",
            "_view_module_version": "1.2.0",
            "_view_name": "LayoutView",
            "align_content": null,
            "align_items": null,
            "align_self": null,
            "border": null,
            "bottom": null,
            "display": null,
            "flex": null,
            "flex_flow": null,
            "grid_area": null,
            "grid_auto_columns": null,
            "grid_auto_flow": null,
            "grid_auto_rows": null,
            "grid_column": null,
            "grid_gap": null,
            "grid_row": null,
            "grid_template_areas": null,
            "grid_template_columns": null,
            "grid_template_rows": null,
            "height": null,
            "justify_content": null,
            "justify_items": null,
            "left": null,
            "margin": null,
            "max_height": null,
            "max_width": null,
            "min_height": null,
            "min_width": null,
            "object_fit": null,
            "object_position": null,
            "order": null,
            "overflow": null,
            "overflow_x": null,
            "overflow_y": null,
            "padding": null,
            "right": null,
            "top": null,
            "visibility": null,
            "width": null
          }
        },
        "ed9329c0f5404a919d448bd9e2f45f48": {
          "model_module": "@jupyter-widgets/controls",
          "model_name": "DescriptionStyleModel",
          "model_module_version": "1.5.0",
          "state": {
            "_model_module": "@jupyter-widgets/controls",
            "_model_module_version": "1.5.0",
            "_model_name": "DescriptionStyleModel",
            "_view_count": null,
            "_view_module": "@jupyter-widgets/base",
            "_view_module_version": "1.2.0",
            "_view_name": "StyleView",
            "description_width": ""
          }
        },
        "e4b37ab879664e5dac624eeed8c8b3c8": {
          "model_module": "@jupyter-widgets/base",
          "model_name": "LayoutModel",
          "model_module_version": "1.2.0",
          "state": {
            "_model_module": "@jupyter-widgets/base",
            "_model_module_version": "1.2.0",
            "_model_name": "LayoutModel",
            "_view_count": null,
            "_view_module": "@jupyter-widgets/base",
            "_view_module_version": "1.2.0",
            "_view_name": "LayoutView",
            "align_content": null,
            "align_items": null,
            "align_self": null,
            "border": null,
            "bottom": null,
            "display": null,
            "flex": null,
            "flex_flow": null,
            "grid_area": null,
            "grid_auto_columns": null,
            "grid_auto_flow": null,
            "grid_auto_rows": null,
            "grid_column": null,
            "grid_gap": null,
            "grid_row": null,
            "grid_template_areas": null,
            "grid_template_columns": null,
            "grid_template_rows": null,
            "height": null,
            "justify_content": null,
            "justify_items": null,
            "left": null,
            "margin": null,
            "max_height": null,
            "max_width": null,
            "min_height": null,
            "min_width": null,
            "object_fit": null,
            "object_position": null,
            "order": null,
            "overflow": null,
            "overflow_x": null,
            "overflow_y": null,
            "padding": null,
            "right": null,
            "top": null,
            "visibility": null,
            "width": null
          }
        },
        "2dfa3c7eb49c46aca3e9592750282d26": {
          "model_module": "@jupyter-widgets/controls",
          "model_name": "ProgressStyleModel",
          "model_module_version": "1.5.0",
          "state": {
            "_model_module": "@jupyter-widgets/controls",
            "_model_module_version": "1.5.0",
            "_model_name": "ProgressStyleModel",
            "_view_count": null,
            "_view_module": "@jupyter-widgets/base",
            "_view_module_version": "1.2.0",
            "_view_name": "StyleView",
            "bar_color": null,
            "description_width": ""
          }
        },
        "138f337998cb4a75b6426bef9964e585": {
          "model_module": "@jupyter-widgets/base",
          "model_name": "LayoutModel",
          "model_module_version": "1.2.0",
          "state": {
            "_model_module": "@jupyter-widgets/base",
            "_model_module_version": "1.2.0",
            "_model_name": "LayoutModel",
            "_view_count": null,
            "_view_module": "@jupyter-widgets/base",
            "_view_module_version": "1.2.0",
            "_view_name": "LayoutView",
            "align_content": null,
            "align_items": null,
            "align_self": null,
            "border": null,
            "bottom": null,
            "display": null,
            "flex": null,
            "flex_flow": null,
            "grid_area": null,
            "grid_auto_columns": null,
            "grid_auto_flow": null,
            "grid_auto_rows": null,
            "grid_column": null,
            "grid_gap": null,
            "grid_row": null,
            "grid_template_areas": null,
            "grid_template_columns": null,
            "grid_template_rows": null,
            "height": null,
            "justify_content": null,
            "justify_items": null,
            "left": null,
            "margin": null,
            "max_height": null,
            "max_width": null,
            "min_height": null,
            "min_width": null,
            "object_fit": null,
            "object_position": null,
            "order": null,
            "overflow": null,
            "overflow_x": null,
            "overflow_y": null,
            "padding": null,
            "right": null,
            "top": null,
            "visibility": null,
            "width": null
          }
        },
        "ddd20f0e761646bcb6a99f6be233ccfd": {
          "model_module": "@jupyter-widgets/controls",
          "model_name": "DescriptionStyleModel",
          "model_module_version": "1.5.0",
          "state": {
            "_model_module": "@jupyter-widgets/controls",
            "_model_module_version": "1.5.0",
            "_model_name": "DescriptionStyleModel",
            "_view_count": null,
            "_view_module": "@jupyter-widgets/base",
            "_view_module_version": "1.2.0",
            "_view_name": "StyleView",
            "description_width": ""
          }
        },
        "04c20fb4a06f4932a8d3a429fefefe7f": {
          "model_module": "@jupyter-widgets/controls",
          "model_name": "HBoxModel",
          "model_module_version": "1.5.0",
          "state": {
            "_dom_classes": [],
            "_model_module": "@jupyter-widgets/controls",
            "_model_module_version": "1.5.0",
            "_model_name": "HBoxModel",
            "_view_count": null,
            "_view_module": "@jupyter-widgets/controls",
            "_view_module_version": "1.5.0",
            "_view_name": "HBoxView",
            "box_style": "",
            "children": [
              "IPY_MODEL_5c017a4e89f84b3da313e591e5688911",
              "IPY_MODEL_36cec2050516455faaba44f9ce754695",
              "IPY_MODEL_927ed51fcaf6413fb35df150cffdaac8"
            ],
            "layout": "IPY_MODEL_38d35d3924344cc3975991dc8a30d19b"
          }
        },
        "5c017a4e89f84b3da313e591e5688911": {
          "model_module": "@jupyter-widgets/controls",
          "model_name": "HTMLModel",
          "model_module_version": "1.5.0",
          "state": {
            "_dom_classes": [],
            "_model_module": "@jupyter-widgets/controls",
            "_model_module_version": "1.5.0",
            "_model_name": "HTMLModel",
            "_view_count": null,
            "_view_module": "@jupyter-widgets/controls",
            "_view_module_version": "1.5.0",
            "_view_name": "HTMLView",
            "description": "",
            "description_tooltip": null,
            "layout": "IPY_MODEL_6eb68bcd9fba483a871fe0062da50e77",
            "placeholder": "​",
            "style": "IPY_MODEL_6a4bc8b73f4340e9a084e95ffdc2f68b",
            "value": "Downloading (…)solve/main/vocab.txt: 100%"
          }
        },
        "36cec2050516455faaba44f9ce754695": {
          "model_module": "@jupyter-widgets/controls",
          "model_name": "FloatProgressModel",
          "model_module_version": "1.5.0",
          "state": {
            "_dom_classes": [],
            "_model_module": "@jupyter-widgets/controls",
            "_model_module_version": "1.5.0",
            "_model_name": "FloatProgressModel",
            "_view_count": null,
            "_view_module": "@jupyter-widgets/controls",
            "_view_module_version": "1.5.0",
            "_view_name": "ProgressView",
            "bar_style": "success",
            "description": "",
            "description_tooltip": null,
            "layout": "IPY_MODEL_e4b04474669d4b779fba1d4970cb1303",
            "max": 231508,
            "min": 0,
            "orientation": "horizontal",
            "style": "IPY_MODEL_f7372085e868427f8cac3f4091d6c51a",
            "value": 231508
          }
        },
        "927ed51fcaf6413fb35df150cffdaac8": {
          "model_module": "@jupyter-widgets/controls",
          "model_name": "HTMLModel",
          "model_module_version": "1.5.0",
          "state": {
            "_dom_classes": [],
            "_model_module": "@jupyter-widgets/controls",
            "_model_module_version": "1.5.0",
            "_model_name": "HTMLModel",
            "_view_count": null,
            "_view_module": "@jupyter-widgets/controls",
            "_view_module_version": "1.5.0",
            "_view_name": "HTMLView",
            "description": "",
            "description_tooltip": null,
            "layout": "IPY_MODEL_93cad3c42c4240ed9b496ad18df8cab8",
            "placeholder": "​",
            "style": "IPY_MODEL_854f4618375f441fadc0a55d53fa0b6e",
            "value": " 232k/232k [00:00&lt;00:00, 2.92MB/s]"
          }
        },
        "38d35d3924344cc3975991dc8a30d19b": {
          "model_module": "@jupyter-widgets/base",
          "model_name": "LayoutModel",
          "model_module_version": "1.2.0",
          "state": {
            "_model_module": "@jupyter-widgets/base",
            "_model_module_version": "1.2.0",
            "_model_name": "LayoutModel",
            "_view_count": null,
            "_view_module": "@jupyter-widgets/base",
            "_view_module_version": "1.2.0",
            "_view_name": "LayoutView",
            "align_content": null,
            "align_items": null,
            "align_self": null,
            "border": null,
            "bottom": null,
            "display": null,
            "flex": null,
            "flex_flow": null,
            "grid_area": null,
            "grid_auto_columns": null,
            "grid_auto_flow": null,
            "grid_auto_rows": null,
            "grid_column": null,
            "grid_gap": null,
            "grid_row": null,
            "grid_template_areas": null,
            "grid_template_columns": null,
            "grid_template_rows": null,
            "height": null,
            "justify_content": null,
            "justify_items": null,
            "left": null,
            "margin": null,
            "max_height": null,
            "max_width": null,
            "min_height": null,
            "min_width": null,
            "object_fit": null,
            "object_position": null,
            "order": null,
            "overflow": null,
            "overflow_x": null,
            "overflow_y": null,
            "padding": null,
            "right": null,
            "top": null,
            "visibility": null,
            "width": null
          }
        },
        "6eb68bcd9fba483a871fe0062da50e77": {
          "model_module": "@jupyter-widgets/base",
          "model_name": "LayoutModel",
          "model_module_version": "1.2.0",
          "state": {
            "_model_module": "@jupyter-widgets/base",
            "_model_module_version": "1.2.0",
            "_model_name": "LayoutModel",
            "_view_count": null,
            "_view_module": "@jupyter-widgets/base",
            "_view_module_version": "1.2.0",
            "_view_name": "LayoutView",
            "align_content": null,
            "align_items": null,
            "align_self": null,
            "border": null,
            "bottom": null,
            "display": null,
            "flex": null,
            "flex_flow": null,
            "grid_area": null,
            "grid_auto_columns": null,
            "grid_auto_flow": null,
            "grid_auto_rows": null,
            "grid_column": null,
            "grid_gap": null,
            "grid_row": null,
            "grid_template_areas": null,
            "grid_template_columns": null,
            "grid_template_rows": null,
            "height": null,
            "justify_content": null,
            "justify_items": null,
            "left": null,
            "margin": null,
            "max_height": null,
            "max_width": null,
            "min_height": null,
            "min_width": null,
            "object_fit": null,
            "object_position": null,
            "order": null,
            "overflow": null,
            "overflow_x": null,
            "overflow_y": null,
            "padding": null,
            "right": null,
            "top": null,
            "visibility": null,
            "width": null
          }
        },
        "6a4bc8b73f4340e9a084e95ffdc2f68b": {
          "model_module": "@jupyter-widgets/controls",
          "model_name": "DescriptionStyleModel",
          "model_module_version": "1.5.0",
          "state": {
            "_model_module": "@jupyter-widgets/controls",
            "_model_module_version": "1.5.0",
            "_model_name": "DescriptionStyleModel",
            "_view_count": null,
            "_view_module": "@jupyter-widgets/base",
            "_view_module_version": "1.2.0",
            "_view_name": "StyleView",
            "description_width": ""
          }
        },
        "e4b04474669d4b779fba1d4970cb1303": {
          "model_module": "@jupyter-widgets/base",
          "model_name": "LayoutModel",
          "model_module_version": "1.2.0",
          "state": {
            "_model_module": "@jupyter-widgets/base",
            "_model_module_version": "1.2.0",
            "_model_name": "LayoutModel",
            "_view_count": null,
            "_view_module": "@jupyter-widgets/base",
            "_view_module_version": "1.2.0",
            "_view_name": "LayoutView",
            "align_content": null,
            "align_items": null,
            "align_self": null,
            "border": null,
            "bottom": null,
            "display": null,
            "flex": null,
            "flex_flow": null,
            "grid_area": null,
            "grid_auto_columns": null,
            "grid_auto_flow": null,
            "grid_auto_rows": null,
            "grid_column": null,
            "grid_gap": null,
            "grid_row": null,
            "grid_template_areas": null,
            "grid_template_columns": null,
            "grid_template_rows": null,
            "height": null,
            "justify_content": null,
            "justify_items": null,
            "left": null,
            "margin": null,
            "max_height": null,
            "max_width": null,
            "min_height": null,
            "min_width": null,
            "object_fit": null,
            "object_position": null,
            "order": null,
            "overflow": null,
            "overflow_x": null,
            "overflow_y": null,
            "padding": null,
            "right": null,
            "top": null,
            "visibility": null,
            "width": null
          }
        },
        "f7372085e868427f8cac3f4091d6c51a": {
          "model_module": "@jupyter-widgets/controls",
          "model_name": "ProgressStyleModel",
          "model_module_version": "1.5.0",
          "state": {
            "_model_module": "@jupyter-widgets/controls",
            "_model_module_version": "1.5.0",
            "_model_name": "ProgressStyleModel",
            "_view_count": null,
            "_view_module": "@jupyter-widgets/base",
            "_view_module_version": "1.2.0",
            "_view_name": "StyleView",
            "bar_color": null,
            "description_width": ""
          }
        },
        "93cad3c42c4240ed9b496ad18df8cab8": {
          "model_module": "@jupyter-widgets/base",
          "model_name": "LayoutModel",
          "model_module_version": "1.2.0",
          "state": {
            "_model_module": "@jupyter-widgets/base",
            "_model_module_version": "1.2.0",
            "_model_name": "LayoutModel",
            "_view_count": null,
            "_view_module": "@jupyter-widgets/base",
            "_view_module_version": "1.2.0",
            "_view_name": "LayoutView",
            "align_content": null,
            "align_items": null,
            "align_self": null,
            "border": null,
            "bottom": null,
            "display": null,
            "flex": null,
            "flex_flow": null,
            "grid_area": null,
            "grid_auto_columns": null,
            "grid_auto_flow": null,
            "grid_auto_rows": null,
            "grid_column": null,
            "grid_gap": null,
            "grid_row": null,
            "grid_template_areas": null,
            "grid_template_columns": null,
            "grid_template_rows": null,
            "height": null,
            "justify_content": null,
            "justify_items": null,
            "left": null,
            "margin": null,
            "max_height": null,
            "max_width": null,
            "min_height": null,
            "min_width": null,
            "object_fit": null,
            "object_position": null,
            "order": null,
            "overflow": null,
            "overflow_x": null,
            "overflow_y": null,
            "padding": null,
            "right": null,
            "top": null,
            "visibility": null,
            "width": null
          }
        },
        "854f4618375f441fadc0a55d53fa0b6e": {
          "model_module": "@jupyter-widgets/controls",
          "model_name": "DescriptionStyleModel",
          "model_module_version": "1.5.0",
          "state": {
            "_model_module": "@jupyter-widgets/controls",
            "_model_module_version": "1.5.0",
            "_model_name": "DescriptionStyleModel",
            "_view_count": null,
            "_view_module": "@jupyter-widgets/base",
            "_view_module_version": "1.2.0",
            "_view_name": "StyleView",
            "description_width": ""
          }
        },
        "243f4e2f25fd414ba3f2a59f799ee654": {
          "model_module": "@jupyter-widgets/controls",
          "model_name": "HBoxModel",
          "model_module_version": "1.5.0",
          "state": {
            "_dom_classes": [],
            "_model_module": "@jupyter-widgets/controls",
            "_model_module_version": "1.5.0",
            "_model_name": "HBoxModel",
            "_view_count": null,
            "_view_module": "@jupyter-widgets/controls",
            "_view_module_version": "1.5.0",
            "_view_name": "HBoxView",
            "box_style": "",
            "children": [
              "IPY_MODEL_0dee6b1b6f04441ab5133e58b2a52c0b",
              "IPY_MODEL_d37baf76c9f8483a9097ba8ced9e33d3",
              "IPY_MODEL_327f7fcd35374d2ebfc294ad07f74ef5"
            ],
            "layout": "IPY_MODEL_040dcb5ab0c0425d9141751bd9351f61"
          }
        },
        "0dee6b1b6f04441ab5133e58b2a52c0b": {
          "model_module": "@jupyter-widgets/controls",
          "model_name": "HTMLModel",
          "model_module_version": "1.5.0",
          "state": {
            "_dom_classes": [],
            "_model_module": "@jupyter-widgets/controls",
            "_model_module_version": "1.5.0",
            "_model_name": "HTMLModel",
            "_view_count": null,
            "_view_module": "@jupyter-widgets/controls",
            "_view_module_version": "1.5.0",
            "_view_name": "HTMLView",
            "description": "",
            "description_tooltip": null,
            "layout": "IPY_MODEL_f2e74a1eb9254c23a3a85631eda0f45b",
            "placeholder": "​",
            "style": "IPY_MODEL_fa2a1fb2792b4000ab02006e9cb5c45e",
            "value": "Downloading (…)/main/tokenizer.json: 100%"
          }
        },
        "d37baf76c9f8483a9097ba8ced9e33d3": {
          "model_module": "@jupyter-widgets/controls",
          "model_name": "FloatProgressModel",
          "model_module_version": "1.5.0",
          "state": {
            "_dom_classes": [],
            "_model_module": "@jupyter-widgets/controls",
            "_model_module_version": "1.5.0",
            "_model_name": "FloatProgressModel",
            "_view_count": null,
            "_view_module": "@jupyter-widgets/controls",
            "_view_module_version": "1.5.0",
            "_view_name": "ProgressView",
            "bar_style": "success",
            "description": "",
            "description_tooltip": null,
            "layout": "IPY_MODEL_b2e6ad6dff7147a8bcf1fac67ba4fb51",
            "max": 466081,
            "min": 0,
            "orientation": "horizontal",
            "style": "IPY_MODEL_1c4bfb10b47d4030b13d3f03568183f7",
            "value": 466081
          }
        },
        "327f7fcd35374d2ebfc294ad07f74ef5": {
          "model_module": "@jupyter-widgets/controls",
          "model_name": "HTMLModel",
          "model_module_version": "1.5.0",
          "state": {
            "_dom_classes": [],
            "_model_module": "@jupyter-widgets/controls",
            "_model_module_version": "1.5.0",
            "_model_name": "HTMLModel",
            "_view_count": null,
            "_view_module": "@jupyter-widgets/controls",
            "_view_module_version": "1.5.0",
            "_view_name": "HTMLView",
            "description": "",
            "description_tooltip": null,
            "layout": "IPY_MODEL_8c49a3fcac8545e5ab6103d11c4fdf3a",
            "placeholder": "​",
            "style": "IPY_MODEL_6a624f240c414d3b81273b77f24cc2d0",
            "value": " 466k/466k [00:00&lt;00:00, 11.5MB/s]"
          }
        },
        "040dcb5ab0c0425d9141751bd9351f61": {
          "model_module": "@jupyter-widgets/base",
          "model_name": "LayoutModel",
          "model_module_version": "1.2.0",
          "state": {
            "_model_module": "@jupyter-widgets/base",
            "_model_module_version": "1.2.0",
            "_model_name": "LayoutModel",
            "_view_count": null,
            "_view_module": "@jupyter-widgets/base",
            "_view_module_version": "1.2.0",
            "_view_name": "LayoutView",
            "align_content": null,
            "align_items": null,
            "align_self": null,
            "border": null,
            "bottom": null,
            "display": null,
            "flex": null,
            "flex_flow": null,
            "grid_area": null,
            "grid_auto_columns": null,
            "grid_auto_flow": null,
            "grid_auto_rows": null,
            "grid_column": null,
            "grid_gap": null,
            "grid_row": null,
            "grid_template_areas": null,
            "grid_template_columns": null,
            "grid_template_rows": null,
            "height": null,
            "justify_content": null,
            "justify_items": null,
            "left": null,
            "margin": null,
            "max_height": null,
            "max_width": null,
            "min_height": null,
            "min_width": null,
            "object_fit": null,
            "object_position": null,
            "order": null,
            "overflow": null,
            "overflow_x": null,
            "overflow_y": null,
            "padding": null,
            "right": null,
            "top": null,
            "visibility": null,
            "width": null
          }
        },
        "f2e74a1eb9254c23a3a85631eda0f45b": {
          "model_module": "@jupyter-widgets/base",
          "model_name": "LayoutModel",
          "model_module_version": "1.2.0",
          "state": {
            "_model_module": "@jupyter-widgets/base",
            "_model_module_version": "1.2.0",
            "_model_name": "LayoutModel",
            "_view_count": null,
            "_view_module": "@jupyter-widgets/base",
            "_view_module_version": "1.2.0",
            "_view_name": "LayoutView",
            "align_content": null,
            "align_items": null,
            "align_self": null,
            "border": null,
            "bottom": null,
            "display": null,
            "flex": null,
            "flex_flow": null,
            "grid_area": null,
            "grid_auto_columns": null,
            "grid_auto_flow": null,
            "grid_auto_rows": null,
            "grid_column": null,
            "grid_gap": null,
            "grid_row": null,
            "grid_template_areas": null,
            "grid_template_columns": null,
            "grid_template_rows": null,
            "height": null,
            "justify_content": null,
            "justify_items": null,
            "left": null,
            "margin": null,
            "max_height": null,
            "max_width": null,
            "min_height": null,
            "min_width": null,
            "object_fit": null,
            "object_position": null,
            "order": null,
            "overflow": null,
            "overflow_x": null,
            "overflow_y": null,
            "padding": null,
            "right": null,
            "top": null,
            "visibility": null,
            "width": null
          }
        },
        "fa2a1fb2792b4000ab02006e9cb5c45e": {
          "model_module": "@jupyter-widgets/controls",
          "model_name": "DescriptionStyleModel",
          "model_module_version": "1.5.0",
          "state": {
            "_model_module": "@jupyter-widgets/controls",
            "_model_module_version": "1.5.0",
            "_model_name": "DescriptionStyleModel",
            "_view_count": null,
            "_view_module": "@jupyter-widgets/base",
            "_view_module_version": "1.2.0",
            "_view_name": "StyleView",
            "description_width": ""
          }
        },
        "b2e6ad6dff7147a8bcf1fac67ba4fb51": {
          "model_module": "@jupyter-widgets/base",
          "model_name": "LayoutModel",
          "model_module_version": "1.2.0",
          "state": {
            "_model_module": "@jupyter-widgets/base",
            "_model_module_version": "1.2.0",
            "_model_name": "LayoutModel",
            "_view_count": null,
            "_view_module": "@jupyter-widgets/base",
            "_view_module_version": "1.2.0",
            "_view_name": "LayoutView",
            "align_content": null,
            "align_items": null,
            "align_self": null,
            "border": null,
            "bottom": null,
            "display": null,
            "flex": null,
            "flex_flow": null,
            "grid_area": null,
            "grid_auto_columns": null,
            "grid_auto_flow": null,
            "grid_auto_rows": null,
            "grid_column": null,
            "grid_gap": null,
            "grid_row": null,
            "grid_template_areas": null,
            "grid_template_columns": null,
            "grid_template_rows": null,
            "height": null,
            "justify_content": null,
            "justify_items": null,
            "left": null,
            "margin": null,
            "max_height": null,
            "max_width": null,
            "min_height": null,
            "min_width": null,
            "object_fit": null,
            "object_position": null,
            "order": null,
            "overflow": null,
            "overflow_x": null,
            "overflow_y": null,
            "padding": null,
            "right": null,
            "top": null,
            "visibility": null,
            "width": null
          }
        },
        "1c4bfb10b47d4030b13d3f03568183f7": {
          "model_module": "@jupyter-widgets/controls",
          "model_name": "ProgressStyleModel",
          "model_module_version": "1.5.0",
          "state": {
            "_model_module": "@jupyter-widgets/controls",
            "_model_module_version": "1.5.0",
            "_model_name": "ProgressStyleModel",
            "_view_count": null,
            "_view_module": "@jupyter-widgets/base",
            "_view_module_version": "1.2.0",
            "_view_name": "StyleView",
            "bar_color": null,
            "description_width": ""
          }
        },
        "8c49a3fcac8545e5ab6103d11c4fdf3a": {
          "model_module": "@jupyter-widgets/base",
          "model_name": "LayoutModel",
          "model_module_version": "1.2.0",
          "state": {
            "_model_module": "@jupyter-widgets/base",
            "_model_module_version": "1.2.0",
            "_model_name": "LayoutModel",
            "_view_count": null,
            "_view_module": "@jupyter-widgets/base",
            "_view_module_version": "1.2.0",
            "_view_name": "LayoutView",
            "align_content": null,
            "align_items": null,
            "align_self": null,
            "border": null,
            "bottom": null,
            "display": null,
            "flex": null,
            "flex_flow": null,
            "grid_area": null,
            "grid_auto_columns": null,
            "grid_auto_flow": null,
            "grid_auto_rows": null,
            "grid_column": null,
            "grid_gap": null,
            "grid_row": null,
            "grid_template_areas": null,
            "grid_template_columns": null,
            "grid_template_rows": null,
            "height": null,
            "justify_content": null,
            "justify_items": null,
            "left": null,
            "margin": null,
            "max_height": null,
            "max_width": null,
            "min_height": null,
            "min_width": null,
            "object_fit": null,
            "object_position": null,
            "order": null,
            "overflow": null,
            "overflow_x": null,
            "overflow_y": null,
            "padding": null,
            "right": null,
            "top": null,
            "visibility": null,
            "width": null
          }
        },
        "6a624f240c414d3b81273b77f24cc2d0": {
          "model_module": "@jupyter-widgets/controls",
          "model_name": "DescriptionStyleModel",
          "model_module_version": "1.5.0",
          "state": {
            "_model_module": "@jupyter-widgets/controls",
            "_model_module_version": "1.5.0",
            "_model_name": "DescriptionStyleModel",
            "_view_count": null,
            "_view_module": "@jupyter-widgets/base",
            "_view_module_version": "1.2.0",
            "_view_name": "StyleView",
            "description_width": ""
          }
        },
        "5bf67a03e38d4e0a8b0a45d3a99bd4a7": {
          "model_module": "@jupyter-widgets/controls",
          "model_name": "HBoxModel",
          "model_module_version": "1.5.0",
          "state": {
            "_dom_classes": [],
            "_model_module": "@jupyter-widgets/controls",
            "_model_module_version": "1.5.0",
            "_model_name": "HBoxModel",
            "_view_count": null,
            "_view_module": "@jupyter-widgets/controls",
            "_view_module_version": "1.5.0",
            "_view_name": "HBoxView",
            "box_style": "",
            "children": [
              "IPY_MODEL_50c99da219884d399727763207773882",
              "IPY_MODEL_19c8f729f6284c199e4c284d588de3fb",
              "IPY_MODEL_3920527aa2a948a6ac6d676162c6d374"
            ],
            "layout": "IPY_MODEL_97295c2122a547e8be3102273c097675"
          }
        },
        "50c99da219884d399727763207773882": {
          "model_module": "@jupyter-widgets/controls",
          "model_name": "HTMLModel",
          "model_module_version": "1.5.0",
          "state": {
            "_dom_classes": [],
            "_model_module": "@jupyter-widgets/controls",
            "_model_module_version": "1.5.0",
            "_model_name": "HTMLModel",
            "_view_count": null,
            "_view_module": "@jupyter-widgets/controls",
            "_view_module_version": "1.5.0",
            "_view_name": "HTMLView",
            "description": "",
            "description_tooltip": null,
            "layout": "IPY_MODEL_43395137d187457eb3a20a64ec7cbed2",
            "placeholder": "​",
            "style": "IPY_MODEL_1187e2f4703a4b04aee6e48399255a8b",
            "value": "Downloading (…)cial_tokens_map.json: 100%"
          }
        },
        "19c8f729f6284c199e4c284d588de3fb": {
          "model_module": "@jupyter-widgets/controls",
          "model_name": "FloatProgressModel",
          "model_module_version": "1.5.0",
          "state": {
            "_dom_classes": [],
            "_model_module": "@jupyter-widgets/controls",
            "_model_module_version": "1.5.0",
            "_model_name": "FloatProgressModel",
            "_view_count": null,
            "_view_module": "@jupyter-widgets/controls",
            "_view_module_version": "1.5.0",
            "_view_name": "ProgressView",
            "bar_style": "success",
            "description": "",
            "description_tooltip": null,
            "layout": "IPY_MODEL_7eb110f8da3d46279f5b3e3f42649ba3",
            "max": 112,
            "min": 0,
            "orientation": "horizontal",
            "style": "IPY_MODEL_fab28c0abd9e4bbc982e4907840a0404",
            "value": 112
          }
        },
        "3920527aa2a948a6ac6d676162c6d374": {
          "model_module": "@jupyter-widgets/controls",
          "model_name": "HTMLModel",
          "model_module_version": "1.5.0",
          "state": {
            "_dom_classes": [],
            "_model_module": "@jupyter-widgets/controls",
            "_model_module_version": "1.5.0",
            "_model_name": "HTMLModel",
            "_view_count": null,
            "_view_module": "@jupyter-widgets/controls",
            "_view_module_version": "1.5.0",
            "_view_name": "HTMLView",
            "description": "",
            "description_tooltip": null,
            "layout": "IPY_MODEL_88a7ee617d324882bf07cf17907a9e21",
            "placeholder": "​",
            "style": "IPY_MODEL_8a16d6702961400cb8d042509806c1a4",
            "value": " 112/112 [00:00&lt;00:00, 10.0kB/s]"
          }
        },
        "97295c2122a547e8be3102273c097675": {
          "model_module": "@jupyter-widgets/base",
          "model_name": "LayoutModel",
          "model_module_version": "1.2.0",
          "state": {
            "_model_module": "@jupyter-widgets/base",
            "_model_module_version": "1.2.0",
            "_model_name": "LayoutModel",
            "_view_count": null,
            "_view_module": "@jupyter-widgets/base",
            "_view_module_version": "1.2.0",
            "_view_name": "LayoutView",
            "align_content": null,
            "align_items": null,
            "align_self": null,
            "border": null,
            "bottom": null,
            "display": null,
            "flex": null,
            "flex_flow": null,
            "grid_area": null,
            "grid_auto_columns": null,
            "grid_auto_flow": null,
            "grid_auto_rows": null,
            "grid_column": null,
            "grid_gap": null,
            "grid_row": null,
            "grid_template_areas": null,
            "grid_template_columns": null,
            "grid_template_rows": null,
            "height": null,
            "justify_content": null,
            "justify_items": null,
            "left": null,
            "margin": null,
            "max_height": null,
            "max_width": null,
            "min_height": null,
            "min_width": null,
            "object_fit": null,
            "object_position": null,
            "order": null,
            "overflow": null,
            "overflow_x": null,
            "overflow_y": null,
            "padding": null,
            "right": null,
            "top": null,
            "visibility": null,
            "width": null
          }
        },
        "43395137d187457eb3a20a64ec7cbed2": {
          "model_module": "@jupyter-widgets/base",
          "model_name": "LayoutModel",
          "model_module_version": "1.2.0",
          "state": {
            "_model_module": "@jupyter-widgets/base",
            "_model_module_version": "1.2.0",
            "_model_name": "LayoutModel",
            "_view_count": null,
            "_view_module": "@jupyter-widgets/base",
            "_view_module_version": "1.2.0",
            "_view_name": "LayoutView",
            "align_content": null,
            "align_items": null,
            "align_self": null,
            "border": null,
            "bottom": null,
            "display": null,
            "flex": null,
            "flex_flow": null,
            "grid_area": null,
            "grid_auto_columns": null,
            "grid_auto_flow": null,
            "grid_auto_rows": null,
            "grid_column": null,
            "grid_gap": null,
            "grid_row": null,
            "grid_template_areas": null,
            "grid_template_columns": null,
            "grid_template_rows": null,
            "height": null,
            "justify_content": null,
            "justify_items": null,
            "left": null,
            "margin": null,
            "max_height": null,
            "max_width": null,
            "min_height": null,
            "min_width": null,
            "object_fit": null,
            "object_position": null,
            "order": null,
            "overflow": null,
            "overflow_x": null,
            "overflow_y": null,
            "padding": null,
            "right": null,
            "top": null,
            "visibility": null,
            "width": null
          }
        },
        "1187e2f4703a4b04aee6e48399255a8b": {
          "model_module": "@jupyter-widgets/controls",
          "model_name": "DescriptionStyleModel",
          "model_module_version": "1.5.0",
          "state": {
            "_model_module": "@jupyter-widgets/controls",
            "_model_module_version": "1.5.0",
            "_model_name": "DescriptionStyleModel",
            "_view_count": null,
            "_view_module": "@jupyter-widgets/base",
            "_view_module_version": "1.2.0",
            "_view_name": "StyleView",
            "description_width": ""
          }
        },
        "7eb110f8da3d46279f5b3e3f42649ba3": {
          "model_module": "@jupyter-widgets/base",
          "model_name": "LayoutModel",
          "model_module_version": "1.2.0",
          "state": {
            "_model_module": "@jupyter-widgets/base",
            "_model_module_version": "1.2.0",
            "_model_name": "LayoutModel",
            "_view_count": null,
            "_view_module": "@jupyter-widgets/base",
            "_view_module_version": "1.2.0",
            "_view_name": "LayoutView",
            "align_content": null,
            "align_items": null,
            "align_self": null,
            "border": null,
            "bottom": null,
            "display": null,
            "flex": null,
            "flex_flow": null,
            "grid_area": null,
            "grid_auto_columns": null,
            "grid_auto_flow": null,
            "grid_auto_rows": null,
            "grid_column": null,
            "grid_gap": null,
            "grid_row": null,
            "grid_template_areas": null,
            "grid_template_columns": null,
            "grid_template_rows": null,
            "height": null,
            "justify_content": null,
            "justify_items": null,
            "left": null,
            "margin": null,
            "max_height": null,
            "max_width": null,
            "min_height": null,
            "min_width": null,
            "object_fit": null,
            "object_position": null,
            "order": null,
            "overflow": null,
            "overflow_x": null,
            "overflow_y": null,
            "padding": null,
            "right": null,
            "top": null,
            "visibility": null,
            "width": null
          }
        },
        "fab28c0abd9e4bbc982e4907840a0404": {
          "model_module": "@jupyter-widgets/controls",
          "model_name": "ProgressStyleModel",
          "model_module_version": "1.5.0",
          "state": {
            "_model_module": "@jupyter-widgets/controls",
            "_model_module_version": "1.5.0",
            "_model_name": "ProgressStyleModel",
            "_view_count": null,
            "_view_module": "@jupyter-widgets/base",
            "_view_module_version": "1.2.0",
            "_view_name": "StyleView",
            "bar_color": null,
            "description_width": ""
          }
        },
        "88a7ee617d324882bf07cf17907a9e21": {
          "model_module": "@jupyter-widgets/base",
          "model_name": "LayoutModel",
          "model_module_version": "1.2.0",
          "state": {
            "_model_module": "@jupyter-widgets/base",
            "_model_module_version": "1.2.0",
            "_model_name": "LayoutModel",
            "_view_count": null,
            "_view_module": "@jupyter-widgets/base",
            "_view_module_version": "1.2.0",
            "_view_name": "LayoutView",
            "align_content": null,
            "align_items": null,
            "align_self": null,
            "border": null,
            "bottom": null,
            "display": null,
            "flex": null,
            "flex_flow": null,
            "grid_area": null,
            "grid_auto_columns": null,
            "grid_auto_flow": null,
            "grid_auto_rows": null,
            "grid_column": null,
            "grid_gap": null,
            "grid_row": null,
            "grid_template_areas": null,
            "grid_template_columns": null,
            "grid_template_rows": null,
            "height": null,
            "justify_content": null,
            "justify_items": null,
            "left": null,
            "margin": null,
            "max_height": null,
            "max_width": null,
            "min_height": null,
            "min_width": null,
            "object_fit": null,
            "object_position": null,
            "order": null,
            "overflow": null,
            "overflow_x": null,
            "overflow_y": null,
            "padding": null,
            "right": null,
            "top": null,
            "visibility": null,
            "width": null
          }
        },
        "8a16d6702961400cb8d042509806c1a4": {
          "model_module": "@jupyter-widgets/controls",
          "model_name": "DescriptionStyleModel",
          "model_module_version": "1.5.0",
          "state": {
            "_model_module": "@jupyter-widgets/controls",
            "_model_module_version": "1.5.0",
            "_model_name": "DescriptionStyleModel",
            "_view_count": null,
            "_view_module": "@jupyter-widgets/base",
            "_view_module_version": "1.2.0",
            "_view_name": "StyleView",
            "description_width": ""
          }
        },
        "299b4cdbc02a4441b9a58e0fc1851314": {
          "model_module": "@jupyter-widgets/controls",
          "model_name": "HBoxModel",
          "model_module_version": "1.5.0",
          "state": {
            "_dom_classes": [],
            "_model_module": "@jupyter-widgets/controls",
            "_model_module_version": "1.5.0",
            "_model_name": "HBoxModel",
            "_view_count": null,
            "_view_module": "@jupyter-widgets/controls",
            "_view_module_version": "1.5.0",
            "_view_name": "HBoxView",
            "box_style": "",
            "children": [
              "IPY_MODEL_ddddec28335941d88cbaadfbc5b1aa44",
              "IPY_MODEL_7515b9eb4e754be3b8822ec1f4777ada",
              "IPY_MODEL_10d15b8197e343489950ec909cd46573"
            ],
            "layout": "IPY_MODEL_7900e968193349cbaf92afcc06ab6f20"
          }
        },
        "ddddec28335941d88cbaadfbc5b1aa44": {
          "model_module": "@jupyter-widgets/controls",
          "model_name": "HTMLModel",
          "model_module_version": "1.5.0",
          "state": {
            "_dom_classes": [],
            "_model_module": "@jupyter-widgets/controls",
            "_model_module_version": "1.5.0",
            "_model_name": "HTMLModel",
            "_view_count": null,
            "_view_module": "@jupyter-widgets/controls",
            "_view_module_version": "1.5.0",
            "_view_name": "HTMLView",
            "description": "",
            "description_tooltip": null,
            "layout": "IPY_MODEL_c5a5f91993754693bc619cab80c799de",
            "placeholder": "​",
            "style": "IPY_MODEL_2a2828648eae42ceb9fb3e966fc71c50",
            "value": "Downloading (…)lve/main/config.json: 100%"
          }
        },
        "7515b9eb4e754be3b8822ec1f4777ada": {
          "model_module": "@jupyter-widgets/controls",
          "model_name": "FloatProgressModel",
          "model_module_version": "1.5.0",
          "state": {
            "_dom_classes": [],
            "_model_module": "@jupyter-widgets/controls",
            "_model_module_version": "1.5.0",
            "_model_name": "FloatProgressModel",
            "_view_count": null,
            "_view_module": "@jupyter-widgets/controls",
            "_view_module_version": "1.5.0",
            "_view_name": "ProgressView",
            "bar_style": "success",
            "description": "",
            "description_tooltip": null,
            "layout": "IPY_MODEL_5b9157f6479b48f1b52c7b6212a7acf6",
            "max": 670,
            "min": 0,
            "orientation": "horizontal",
            "style": "IPY_MODEL_fb1afdc3566d4bc7a09b9bab4762666c",
            "value": 670
          }
        },
        "10d15b8197e343489950ec909cd46573": {
          "model_module": "@jupyter-widgets/controls",
          "model_name": "HTMLModel",
          "model_module_version": "1.5.0",
          "state": {
            "_dom_classes": [],
            "_model_module": "@jupyter-widgets/controls",
            "_model_module_version": "1.5.0",
            "_model_name": "HTMLModel",
            "_view_count": null,
            "_view_module": "@jupyter-widgets/controls",
            "_view_module_version": "1.5.0",
            "_view_name": "HTMLView",
            "description": "",
            "description_tooltip": null,
            "layout": "IPY_MODEL_1d505c47a82d40e4a9cfe6e4bd81148d",
            "placeholder": "​",
            "style": "IPY_MODEL_34bc34be1d77498ea33ea4ab051d2fe5",
            "value": " 670/670 [00:00&lt;00:00, 61.6kB/s]"
          }
        },
        "7900e968193349cbaf92afcc06ab6f20": {
          "model_module": "@jupyter-widgets/base",
          "model_name": "LayoutModel",
          "model_module_version": "1.2.0",
          "state": {
            "_model_module": "@jupyter-widgets/base",
            "_model_module_version": "1.2.0",
            "_model_name": "LayoutModel",
            "_view_count": null,
            "_view_module": "@jupyter-widgets/base",
            "_view_module_version": "1.2.0",
            "_view_name": "LayoutView",
            "align_content": null,
            "align_items": null,
            "align_self": null,
            "border": null,
            "bottom": null,
            "display": null,
            "flex": null,
            "flex_flow": null,
            "grid_area": null,
            "grid_auto_columns": null,
            "grid_auto_flow": null,
            "grid_auto_rows": null,
            "grid_column": null,
            "grid_gap": null,
            "grid_row": null,
            "grid_template_areas": null,
            "grid_template_columns": null,
            "grid_template_rows": null,
            "height": null,
            "justify_content": null,
            "justify_items": null,
            "left": null,
            "margin": null,
            "max_height": null,
            "max_width": null,
            "min_height": null,
            "min_width": null,
            "object_fit": null,
            "object_position": null,
            "order": null,
            "overflow": null,
            "overflow_x": null,
            "overflow_y": null,
            "padding": null,
            "right": null,
            "top": null,
            "visibility": null,
            "width": null
          }
        },
        "c5a5f91993754693bc619cab80c799de": {
          "model_module": "@jupyter-widgets/base",
          "model_name": "LayoutModel",
          "model_module_version": "1.2.0",
          "state": {
            "_model_module": "@jupyter-widgets/base",
            "_model_module_version": "1.2.0",
            "_model_name": "LayoutModel",
            "_view_count": null,
            "_view_module": "@jupyter-widgets/base",
            "_view_module_version": "1.2.0",
            "_view_name": "LayoutView",
            "align_content": null,
            "align_items": null,
            "align_self": null,
            "border": null,
            "bottom": null,
            "display": null,
            "flex": null,
            "flex_flow": null,
            "grid_area": null,
            "grid_auto_columns": null,
            "grid_auto_flow": null,
            "grid_auto_rows": null,
            "grid_column": null,
            "grid_gap": null,
            "grid_row": null,
            "grid_template_areas": null,
            "grid_template_columns": null,
            "grid_template_rows": null,
            "height": null,
            "justify_content": null,
            "justify_items": null,
            "left": null,
            "margin": null,
            "max_height": null,
            "max_width": null,
            "min_height": null,
            "min_width": null,
            "object_fit": null,
            "object_position": null,
            "order": null,
            "overflow": null,
            "overflow_x": null,
            "overflow_y": null,
            "padding": null,
            "right": null,
            "top": null,
            "visibility": null,
            "width": null
          }
        },
        "2a2828648eae42ceb9fb3e966fc71c50": {
          "model_module": "@jupyter-widgets/controls",
          "model_name": "DescriptionStyleModel",
          "model_module_version": "1.5.0",
          "state": {
            "_model_module": "@jupyter-widgets/controls",
            "_model_module_version": "1.5.0",
            "_model_name": "DescriptionStyleModel",
            "_view_count": null,
            "_view_module": "@jupyter-widgets/base",
            "_view_module_version": "1.2.0",
            "_view_name": "StyleView",
            "description_width": ""
          }
        },
        "5b9157f6479b48f1b52c7b6212a7acf6": {
          "model_module": "@jupyter-widgets/base",
          "model_name": "LayoutModel",
          "model_module_version": "1.2.0",
          "state": {
            "_model_module": "@jupyter-widgets/base",
            "_model_module_version": "1.2.0",
            "_model_name": "LayoutModel",
            "_view_count": null,
            "_view_module": "@jupyter-widgets/base",
            "_view_module_version": "1.2.0",
            "_view_name": "LayoutView",
            "align_content": null,
            "align_items": null,
            "align_self": null,
            "border": null,
            "bottom": null,
            "display": null,
            "flex": null,
            "flex_flow": null,
            "grid_area": null,
            "grid_auto_columns": null,
            "grid_auto_flow": null,
            "grid_auto_rows": null,
            "grid_column": null,
            "grid_gap": null,
            "grid_row": null,
            "grid_template_areas": null,
            "grid_template_columns": null,
            "grid_template_rows": null,
            "height": null,
            "justify_content": null,
            "justify_items": null,
            "left": null,
            "margin": null,
            "max_height": null,
            "max_width": null,
            "min_height": null,
            "min_width": null,
            "object_fit": null,
            "object_position": null,
            "order": null,
            "overflow": null,
            "overflow_x": null,
            "overflow_y": null,
            "padding": null,
            "right": null,
            "top": null,
            "visibility": null,
            "width": null
          }
        },
        "fb1afdc3566d4bc7a09b9bab4762666c": {
          "model_module": "@jupyter-widgets/controls",
          "model_name": "ProgressStyleModel",
          "model_module_version": "1.5.0",
          "state": {
            "_model_module": "@jupyter-widgets/controls",
            "_model_module_version": "1.5.0",
            "_model_name": "ProgressStyleModel",
            "_view_count": null,
            "_view_module": "@jupyter-widgets/base",
            "_view_module_version": "1.2.0",
            "_view_name": "StyleView",
            "bar_color": null,
            "description_width": ""
          }
        },
        "1d505c47a82d40e4a9cfe6e4bd81148d": {
          "model_module": "@jupyter-widgets/base",
          "model_name": "LayoutModel",
          "model_module_version": "1.2.0",
          "state": {
            "_model_module": "@jupyter-widgets/base",
            "_model_module_version": "1.2.0",
            "_model_name": "LayoutModel",
            "_view_count": null,
            "_view_module": "@jupyter-widgets/base",
            "_view_module_version": "1.2.0",
            "_view_name": "LayoutView",
            "align_content": null,
            "align_items": null,
            "align_self": null,
            "border": null,
            "bottom": null,
            "display": null,
            "flex": null,
            "flex_flow": null,
            "grid_area": null,
            "grid_auto_columns": null,
            "grid_auto_flow": null,
            "grid_auto_rows": null,
            "grid_column": null,
            "grid_gap": null,
            "grid_row": null,
            "grid_template_areas": null,
            "grid_template_columns": null,
            "grid_template_rows": null,
            "height": null,
            "justify_content": null,
            "justify_items": null,
            "left": null,
            "margin": null,
            "max_height": null,
            "max_width": null,
            "min_height": null,
            "min_width": null,
            "object_fit": null,
            "object_position": null,
            "order": null,
            "overflow": null,
            "overflow_x": null,
            "overflow_y": null,
            "padding": null,
            "right": null,
            "top": null,
            "visibility": null,
            "width": null
          }
        },
        "34bc34be1d77498ea33ea4ab051d2fe5": {
          "model_module": "@jupyter-widgets/controls",
          "model_name": "DescriptionStyleModel",
          "model_module_version": "1.5.0",
          "state": {
            "_model_module": "@jupyter-widgets/controls",
            "_model_module_version": "1.5.0",
            "_model_name": "DescriptionStyleModel",
            "_view_count": null,
            "_view_module": "@jupyter-widgets/base",
            "_view_module_version": "1.2.0",
            "_view_name": "StyleView",
            "description_width": ""
          }
        },
        "464a567503a84ff1b23ab79320386b11": {
          "model_module": "@jupyter-widgets/controls",
          "model_name": "HBoxModel",
          "model_module_version": "1.5.0",
          "state": {
            "_dom_classes": [],
            "_model_module": "@jupyter-widgets/controls",
            "_model_module_version": "1.5.0",
            "_model_name": "HBoxModel",
            "_view_count": null,
            "_view_module": "@jupyter-widgets/controls",
            "_view_module_version": "1.5.0",
            "_view_name": "HBoxView",
            "box_style": "",
            "children": [
              "IPY_MODEL_25eb8e713c1541b4a7ce1aab36568267",
              "IPY_MODEL_1b492781d8a547e7af7872bde57ea0e4",
              "IPY_MODEL_c02f4b94e9744dc8ab4074f53913d4be"
            ],
            "layout": "IPY_MODEL_5dc61bca3f7247828e3370e8086d018c"
          }
        },
        "25eb8e713c1541b4a7ce1aab36568267": {
          "model_module": "@jupyter-widgets/controls",
          "model_name": "HTMLModel",
          "model_module_version": "1.5.0",
          "state": {
            "_dom_classes": [],
            "_model_module": "@jupyter-widgets/controls",
            "_model_module_version": "1.5.0",
            "_model_name": "HTMLModel",
            "_view_count": null,
            "_view_module": "@jupyter-widgets/controls",
            "_view_module_version": "1.5.0",
            "_view_name": "HTMLView",
            "description": "",
            "description_tooltip": null,
            "layout": "IPY_MODEL_5be71af0664b4b409420606ce49d5aeb",
            "placeholder": "​",
            "style": "IPY_MODEL_2ed6e3a2e87e46ad9b53594479df34a6",
            "value": "Downloading pytorch_model.bin: 100%"
          }
        },
        "1b492781d8a547e7af7872bde57ea0e4": {
          "model_module": "@jupyter-widgets/controls",
          "model_name": "FloatProgressModel",
          "model_module_version": "1.5.0",
          "state": {
            "_dom_classes": [],
            "_model_module": "@jupyter-widgets/controls",
            "_model_module_version": "1.5.0",
            "_model_name": "FloatProgressModel",
            "_view_count": null,
            "_view_module": "@jupyter-widgets/controls",
            "_view_module_version": "1.5.0",
            "_view_name": "ProgressView",
            "bar_style": "success",
            "description": "",
            "description_tooltip": null,
            "layout": "IPY_MODEL_fec3725d8ca54967b6a54864952c6421",
            "max": 438141995,
            "min": 0,
            "orientation": "horizontal",
            "style": "IPY_MODEL_72d6d13287c7439b88c0571f6817381a",
            "value": 438141995
          }
        },
        "c02f4b94e9744dc8ab4074f53913d4be": {
          "model_module": "@jupyter-widgets/controls",
          "model_name": "HTMLModel",
          "model_module_version": "1.5.0",
          "state": {
            "_dom_classes": [],
            "_model_module": "@jupyter-widgets/controls",
            "_model_module_version": "1.5.0",
            "_model_name": "HTMLModel",
            "_view_count": null,
            "_view_module": "@jupyter-widgets/controls",
            "_view_module_version": "1.5.0",
            "_view_name": "HTMLView",
            "description": "",
            "description_tooltip": null,
            "layout": "IPY_MODEL_b4a5720becd949eaa8f5a0b34db6e4ff",
            "placeholder": "​",
            "style": "IPY_MODEL_bc8b63bc96e94986995b5e79a1858b1d",
            "value": " 438M/438M [00:08&lt;00:00, 68.4MB/s]"
          }
        },
        "5dc61bca3f7247828e3370e8086d018c": {
          "model_module": "@jupyter-widgets/base",
          "model_name": "LayoutModel",
          "model_module_version": "1.2.0",
          "state": {
            "_model_module": "@jupyter-widgets/base",
            "_model_module_version": "1.2.0",
            "_model_name": "LayoutModel",
            "_view_count": null,
            "_view_module": "@jupyter-widgets/base",
            "_view_module_version": "1.2.0",
            "_view_name": "LayoutView",
            "align_content": null,
            "align_items": null,
            "align_self": null,
            "border": null,
            "bottom": null,
            "display": null,
            "flex": null,
            "flex_flow": null,
            "grid_area": null,
            "grid_auto_columns": null,
            "grid_auto_flow": null,
            "grid_auto_rows": null,
            "grid_column": null,
            "grid_gap": null,
            "grid_row": null,
            "grid_template_areas": null,
            "grid_template_columns": null,
            "grid_template_rows": null,
            "height": null,
            "justify_content": null,
            "justify_items": null,
            "left": null,
            "margin": null,
            "max_height": null,
            "max_width": null,
            "min_height": null,
            "min_width": null,
            "object_fit": null,
            "object_position": null,
            "order": null,
            "overflow": null,
            "overflow_x": null,
            "overflow_y": null,
            "padding": null,
            "right": null,
            "top": null,
            "visibility": null,
            "width": null
          }
        },
        "5be71af0664b4b409420606ce49d5aeb": {
          "model_module": "@jupyter-widgets/base",
          "model_name": "LayoutModel",
          "model_module_version": "1.2.0",
          "state": {
            "_model_module": "@jupyter-widgets/base",
            "_model_module_version": "1.2.0",
            "_model_name": "LayoutModel",
            "_view_count": null,
            "_view_module": "@jupyter-widgets/base",
            "_view_module_version": "1.2.0",
            "_view_name": "LayoutView",
            "align_content": null,
            "align_items": null,
            "align_self": null,
            "border": null,
            "bottom": null,
            "display": null,
            "flex": null,
            "flex_flow": null,
            "grid_area": null,
            "grid_auto_columns": null,
            "grid_auto_flow": null,
            "grid_auto_rows": null,
            "grid_column": null,
            "grid_gap": null,
            "grid_row": null,
            "grid_template_areas": null,
            "grid_template_columns": null,
            "grid_template_rows": null,
            "height": null,
            "justify_content": null,
            "justify_items": null,
            "left": null,
            "margin": null,
            "max_height": null,
            "max_width": null,
            "min_height": null,
            "min_width": null,
            "object_fit": null,
            "object_position": null,
            "order": null,
            "overflow": null,
            "overflow_x": null,
            "overflow_y": null,
            "padding": null,
            "right": null,
            "top": null,
            "visibility": null,
            "width": null
          }
        },
        "2ed6e3a2e87e46ad9b53594479df34a6": {
          "model_module": "@jupyter-widgets/controls",
          "model_name": "DescriptionStyleModel",
          "model_module_version": "1.5.0",
          "state": {
            "_model_module": "@jupyter-widgets/controls",
            "_model_module_version": "1.5.0",
            "_model_name": "DescriptionStyleModel",
            "_view_count": null,
            "_view_module": "@jupyter-widgets/base",
            "_view_module_version": "1.2.0",
            "_view_name": "StyleView",
            "description_width": ""
          }
        },
        "fec3725d8ca54967b6a54864952c6421": {
          "model_module": "@jupyter-widgets/base",
          "model_name": "LayoutModel",
          "model_module_version": "1.2.0",
          "state": {
            "_model_module": "@jupyter-widgets/base",
            "_model_module_version": "1.2.0",
            "_model_name": "LayoutModel",
            "_view_count": null,
            "_view_module": "@jupyter-widgets/base",
            "_view_module_version": "1.2.0",
            "_view_name": "LayoutView",
            "align_content": null,
            "align_items": null,
            "align_self": null,
            "border": null,
            "bottom": null,
            "display": null,
            "flex": null,
            "flex_flow": null,
            "grid_area": null,
            "grid_auto_columns": null,
            "grid_auto_flow": null,
            "grid_auto_rows": null,
            "grid_column": null,
            "grid_gap": null,
            "grid_row": null,
            "grid_template_areas": null,
            "grid_template_columns": null,
            "grid_template_rows": null,
            "height": null,
            "justify_content": null,
            "justify_items": null,
            "left": null,
            "margin": null,
            "max_height": null,
            "max_width": null,
            "min_height": null,
            "min_width": null,
            "object_fit": null,
            "object_position": null,
            "order": null,
            "overflow": null,
            "overflow_x": null,
            "overflow_y": null,
            "padding": null,
            "right": null,
            "top": null,
            "visibility": null,
            "width": null
          }
        },
        "72d6d13287c7439b88c0571f6817381a": {
          "model_module": "@jupyter-widgets/controls",
          "model_name": "ProgressStyleModel",
          "model_module_version": "1.5.0",
          "state": {
            "_model_module": "@jupyter-widgets/controls",
            "_model_module_version": "1.5.0",
            "_model_name": "ProgressStyleModel",
            "_view_count": null,
            "_view_module": "@jupyter-widgets/base",
            "_view_module_version": "1.2.0",
            "_view_name": "StyleView",
            "bar_color": null,
            "description_width": ""
          }
        },
        "b4a5720becd949eaa8f5a0b34db6e4ff": {
          "model_module": "@jupyter-widgets/base",
          "model_name": "LayoutModel",
          "model_module_version": "1.2.0",
          "state": {
            "_model_module": "@jupyter-widgets/base",
            "_model_module_version": "1.2.0",
            "_model_name": "LayoutModel",
            "_view_count": null,
            "_view_module": "@jupyter-widgets/base",
            "_view_module_version": "1.2.0",
            "_view_name": "LayoutView",
            "align_content": null,
            "align_items": null,
            "align_self": null,
            "border": null,
            "bottom": null,
            "display": null,
            "flex": null,
            "flex_flow": null,
            "grid_area": null,
            "grid_auto_columns": null,
            "grid_auto_flow": null,
            "grid_auto_rows": null,
            "grid_column": null,
            "grid_gap": null,
            "grid_row": null,
            "grid_template_areas": null,
            "grid_template_columns": null,
            "grid_template_rows": null,
            "height": null,
            "justify_content": null,
            "justify_items": null,
            "left": null,
            "margin": null,
            "max_height": null,
            "max_width": null,
            "min_height": null,
            "min_width": null,
            "object_fit": null,
            "object_position": null,
            "order": null,
            "overflow": null,
            "overflow_x": null,
            "overflow_y": null,
            "padding": null,
            "right": null,
            "top": null,
            "visibility": null,
            "width": null
          }
        },
        "bc8b63bc96e94986995b5e79a1858b1d": {
          "model_module": "@jupyter-widgets/controls",
          "model_name": "DescriptionStyleModel",
          "model_module_version": "1.5.0",
          "state": {
            "_model_module": "@jupyter-widgets/controls",
            "_model_module_version": "1.5.0",
            "_model_name": "DescriptionStyleModel",
            "_view_count": null,
            "_view_module": "@jupyter-widgets/base",
            "_view_module_version": "1.2.0",
            "_view_name": "StyleView",
            "description_width": ""
          }
        },
        "a42aaec743094875a025a899dc56460b": {
          "model_module": "@jupyter-widgets/controls",
          "model_name": "HBoxModel",
          "model_module_version": "1.5.0",
          "state": {
            "_dom_classes": [],
            "_model_module": "@jupyter-widgets/controls",
            "_model_module_version": "1.5.0",
            "_model_name": "HBoxModel",
            "_view_count": null,
            "_view_module": "@jupyter-widgets/controls",
            "_view_module_version": "1.5.0",
            "_view_name": "HBoxView",
            "box_style": "",
            "children": [
              "IPY_MODEL_6f6a6cd5d3554984a31dfe81a2b021b7",
              "IPY_MODEL_53b819d97ffd4ab2bfea16671416b84b",
              "IPY_MODEL_c9230a6ff40f4879b179b28b0c023112"
            ],
            "layout": "IPY_MODEL_1a204fe736f1416e813af344c9994153"
          }
        },
        "6f6a6cd5d3554984a31dfe81a2b021b7": {
          "model_module": "@jupyter-widgets/controls",
          "model_name": "HTMLModel",
          "model_module_version": "1.5.0",
          "state": {
            "_dom_classes": [],
            "_model_module": "@jupyter-widgets/controls",
            "_model_module_version": "1.5.0",
            "_model_name": "HTMLModel",
            "_view_count": null,
            "_view_module": "@jupyter-widgets/controls",
            "_view_module_version": "1.5.0",
            "_view_name": "HTMLView",
            "description": "",
            "description_tooltip": null,
            "layout": "IPY_MODEL_372a4b83eea04e8b8315810bdd51a2c7",
            "placeholder": "​",
            "style": "IPY_MODEL_5481f3ee957542adbd82566c9e045b5c",
            "value": "Downloading (…)okenizer_config.json: 100%"
          }
        },
        "53b819d97ffd4ab2bfea16671416b84b": {
          "model_module": "@jupyter-widgets/controls",
          "model_name": "FloatProgressModel",
          "model_module_version": "1.5.0",
          "state": {
            "_dom_classes": [],
            "_model_module": "@jupyter-widgets/controls",
            "_model_module_version": "1.5.0",
            "_model_name": "FloatProgressModel",
            "_view_count": null,
            "_view_module": "@jupyter-widgets/controls",
            "_view_module_version": "1.5.0",
            "_view_name": "ProgressView",
            "bar_style": "success",
            "description": "",
            "description_tooltip": null,
            "layout": "IPY_MODEL_869bf5d78cc74caaa2e4cefe94e18d90",
            "max": 316,
            "min": 0,
            "orientation": "horizontal",
            "style": "IPY_MODEL_303afe9b81e04268b1b03db21da2c5b4",
            "value": 316
          }
        },
        "c9230a6ff40f4879b179b28b0c023112": {
          "model_module": "@jupyter-widgets/controls",
          "model_name": "HTMLModel",
          "model_module_version": "1.5.0",
          "state": {
            "_dom_classes": [],
            "_model_module": "@jupyter-widgets/controls",
            "_model_module_version": "1.5.0",
            "_model_name": "HTMLModel",
            "_view_count": null,
            "_view_module": "@jupyter-widgets/controls",
            "_view_module_version": "1.5.0",
            "_view_name": "HTMLView",
            "description": "",
            "description_tooltip": null,
            "layout": "IPY_MODEL_f3280ac2a02a4b749a17e5b942600f72",
            "placeholder": "​",
            "style": "IPY_MODEL_de31c3acc618482c843bf5fa6761451f",
            "value": " 316/316 [00:00&lt;00:00, 28.9kB/s]"
          }
        },
        "1a204fe736f1416e813af344c9994153": {
          "model_module": "@jupyter-widgets/base",
          "model_name": "LayoutModel",
          "model_module_version": "1.2.0",
          "state": {
            "_model_module": "@jupyter-widgets/base",
            "_model_module_version": "1.2.0",
            "_model_name": "LayoutModel",
            "_view_count": null,
            "_view_module": "@jupyter-widgets/base",
            "_view_module_version": "1.2.0",
            "_view_name": "LayoutView",
            "align_content": null,
            "align_items": null,
            "align_self": null,
            "border": null,
            "bottom": null,
            "display": null,
            "flex": null,
            "flex_flow": null,
            "grid_area": null,
            "grid_auto_columns": null,
            "grid_auto_flow": null,
            "grid_auto_rows": null,
            "grid_column": null,
            "grid_gap": null,
            "grid_row": null,
            "grid_template_areas": null,
            "grid_template_columns": null,
            "grid_template_rows": null,
            "height": null,
            "justify_content": null,
            "justify_items": null,
            "left": null,
            "margin": null,
            "max_height": null,
            "max_width": null,
            "min_height": null,
            "min_width": null,
            "object_fit": null,
            "object_position": null,
            "order": null,
            "overflow": null,
            "overflow_x": null,
            "overflow_y": null,
            "padding": null,
            "right": null,
            "top": null,
            "visibility": null,
            "width": null
          }
        },
        "372a4b83eea04e8b8315810bdd51a2c7": {
          "model_module": "@jupyter-widgets/base",
          "model_name": "LayoutModel",
          "model_module_version": "1.2.0",
          "state": {
            "_model_module": "@jupyter-widgets/base",
            "_model_module_version": "1.2.0",
            "_model_name": "LayoutModel",
            "_view_count": null,
            "_view_module": "@jupyter-widgets/base",
            "_view_module_version": "1.2.0",
            "_view_name": "LayoutView",
            "align_content": null,
            "align_items": null,
            "align_self": null,
            "border": null,
            "bottom": null,
            "display": null,
            "flex": null,
            "flex_flow": null,
            "grid_area": null,
            "grid_auto_columns": null,
            "grid_auto_flow": null,
            "grid_auto_rows": null,
            "grid_column": null,
            "grid_gap": null,
            "grid_row": null,
            "grid_template_areas": null,
            "grid_template_columns": null,
            "grid_template_rows": null,
            "height": null,
            "justify_content": null,
            "justify_items": null,
            "left": null,
            "margin": null,
            "max_height": null,
            "max_width": null,
            "min_height": null,
            "min_width": null,
            "object_fit": null,
            "object_position": null,
            "order": null,
            "overflow": null,
            "overflow_x": null,
            "overflow_y": null,
            "padding": null,
            "right": null,
            "top": null,
            "visibility": null,
            "width": null
          }
        },
        "5481f3ee957542adbd82566c9e045b5c": {
          "model_module": "@jupyter-widgets/controls",
          "model_name": "DescriptionStyleModel",
          "model_module_version": "1.5.0",
          "state": {
            "_model_module": "@jupyter-widgets/controls",
            "_model_module_version": "1.5.0",
            "_model_name": "DescriptionStyleModel",
            "_view_count": null,
            "_view_module": "@jupyter-widgets/base",
            "_view_module_version": "1.2.0",
            "_view_name": "StyleView",
            "description_width": ""
          }
        },
        "869bf5d78cc74caaa2e4cefe94e18d90": {
          "model_module": "@jupyter-widgets/base",
          "model_name": "LayoutModel",
          "model_module_version": "1.2.0",
          "state": {
            "_model_module": "@jupyter-widgets/base",
            "_model_module_version": "1.2.0",
            "_model_name": "LayoutModel",
            "_view_count": null,
            "_view_module": "@jupyter-widgets/base",
            "_view_module_version": "1.2.0",
            "_view_name": "LayoutView",
            "align_content": null,
            "align_items": null,
            "align_self": null,
            "border": null,
            "bottom": null,
            "display": null,
            "flex": null,
            "flex_flow": null,
            "grid_area": null,
            "grid_auto_columns": null,
            "grid_auto_flow": null,
            "grid_auto_rows": null,
            "grid_column": null,
            "grid_gap": null,
            "grid_row": null,
            "grid_template_areas": null,
            "grid_template_columns": null,
            "grid_template_rows": null,
            "height": null,
            "justify_content": null,
            "justify_items": null,
            "left": null,
            "margin": null,
            "max_height": null,
            "max_width": null,
            "min_height": null,
            "min_width": null,
            "object_fit": null,
            "object_position": null,
            "order": null,
            "overflow": null,
            "overflow_x": null,
            "overflow_y": null,
            "padding": null,
            "right": null,
            "top": null,
            "visibility": null,
            "width": null
          }
        },
        "303afe9b81e04268b1b03db21da2c5b4": {
          "model_module": "@jupyter-widgets/controls",
          "model_name": "ProgressStyleModel",
          "model_module_version": "1.5.0",
          "state": {
            "_model_module": "@jupyter-widgets/controls",
            "_model_module_version": "1.5.0",
            "_model_name": "ProgressStyleModel",
            "_view_count": null,
            "_view_module": "@jupyter-widgets/base",
            "_view_module_version": "1.2.0",
            "_view_name": "StyleView",
            "bar_color": null,
            "description_width": ""
          }
        },
        "f3280ac2a02a4b749a17e5b942600f72": {
          "model_module": "@jupyter-widgets/base",
          "model_name": "LayoutModel",
          "model_module_version": "1.2.0",
          "state": {
            "_model_module": "@jupyter-widgets/base",
            "_model_module_version": "1.2.0",
            "_model_name": "LayoutModel",
            "_view_count": null,
            "_view_module": "@jupyter-widgets/base",
            "_view_module_version": "1.2.0",
            "_view_name": "LayoutView",
            "align_content": null,
            "align_items": null,
            "align_self": null,
            "border": null,
            "bottom": null,
            "display": null,
            "flex": null,
            "flex_flow": null,
            "grid_area": null,
            "grid_auto_columns": null,
            "grid_auto_flow": null,
            "grid_auto_rows": null,
            "grid_column": null,
            "grid_gap": null,
            "grid_row": null,
            "grid_template_areas": null,
            "grid_template_columns": null,
            "grid_template_rows": null,
            "height": null,
            "justify_content": null,
            "justify_items": null,
            "left": null,
            "margin": null,
            "max_height": null,
            "max_width": null,
            "min_height": null,
            "min_width": null,
            "object_fit": null,
            "object_position": null,
            "order": null,
            "overflow": null,
            "overflow_x": null,
            "overflow_y": null,
            "padding": null,
            "right": null,
            "top": null,
            "visibility": null,
            "width": null
          }
        },
        "de31c3acc618482c843bf5fa6761451f": {
          "model_module": "@jupyter-widgets/controls",
          "model_name": "DescriptionStyleModel",
          "model_module_version": "1.5.0",
          "state": {
            "_model_module": "@jupyter-widgets/controls",
            "_model_module_version": "1.5.0",
            "_model_name": "DescriptionStyleModel",
            "_view_count": null,
            "_view_module": "@jupyter-widgets/base",
            "_view_module_version": "1.2.0",
            "_view_name": "StyleView",
            "description_width": ""
          }
        },
        "eaf886e8c76349ed9055df3ee3e58c40": {
          "model_module": "@jupyter-widgets/controls",
          "model_name": "HBoxModel",
          "model_module_version": "1.5.0",
          "state": {
            "_dom_classes": [],
            "_model_module": "@jupyter-widgets/controls",
            "_model_module_version": "1.5.0",
            "_model_name": "HBoxModel",
            "_view_count": null,
            "_view_module": "@jupyter-widgets/controls",
            "_view_module_version": "1.5.0",
            "_view_name": "HBoxView",
            "box_style": "",
            "children": [
              "IPY_MODEL_8f17937dabcd4fda8ba54465a530349d",
              "IPY_MODEL_1ced3705e572497b88e686667e9fcb2b",
              "IPY_MODEL_43819c86e3364e07ab8ff6cf3b91e709"
            ],
            "layout": "IPY_MODEL_9f729c1747234e0798a81096ac923d93"
          }
        },
        "8f17937dabcd4fda8ba54465a530349d": {
          "model_module": "@jupyter-widgets/controls",
          "model_name": "HTMLModel",
          "model_module_version": "1.5.0",
          "state": {
            "_dom_classes": [],
            "_model_module": "@jupyter-widgets/controls",
            "_model_module_version": "1.5.0",
            "_model_name": "HTMLModel",
            "_view_count": null,
            "_view_module": "@jupyter-widgets/controls",
            "_view_module_version": "1.5.0",
            "_view_name": "HTMLView",
            "description": "",
            "description_tooltip": null,
            "layout": "IPY_MODEL_2002fefb4e424c42bec966144788c2e0",
            "placeholder": "​",
            "style": "IPY_MODEL_173250538b294df89a99453f45bcd99f",
            "value": "Downloading (…)lve/main/config.json: 100%"
          }
        },
        "1ced3705e572497b88e686667e9fcb2b": {
          "model_module": "@jupyter-widgets/controls",
          "model_name": "FloatProgressModel",
          "model_module_version": "1.5.0",
          "state": {
            "_dom_classes": [],
            "_model_module": "@jupyter-widgets/controls",
            "_model_module_version": "1.5.0",
            "_model_name": "FloatProgressModel",
            "_view_count": null,
            "_view_module": "@jupyter-widgets/controls",
            "_view_module_version": "1.5.0",
            "_view_name": "ProgressView",
            "bar_style": "success",
            "description": "",
            "description_tooltip": null,
            "layout": "IPY_MODEL_d9cfd18a8b4547bf95a292122bc24d51",
            "max": 794,
            "min": 0,
            "orientation": "horizontal",
            "style": "IPY_MODEL_bc1f29a1f85c4f67870133d057e4171f",
            "value": 794
          }
        },
        "43819c86e3364e07ab8ff6cf3b91e709": {
          "model_module": "@jupyter-widgets/controls",
          "model_name": "HTMLModel",
          "model_module_version": "1.5.0",
          "state": {
            "_dom_classes": [],
            "_model_module": "@jupyter-widgets/controls",
            "_model_module_version": "1.5.0",
            "_model_name": "HTMLModel",
            "_view_count": null,
            "_view_module": "@jupyter-widgets/controls",
            "_view_module_version": "1.5.0",
            "_view_name": "HTMLView",
            "description": "",
            "description_tooltip": null,
            "layout": "IPY_MODEL_a5c31fbcd2ce40749ce85bb1f04ceb89",
            "placeholder": "​",
            "style": "IPY_MODEL_53c89fb436e149f1b3f5436cf92c66e7",
            "value": " 794/794 [00:01&lt;00:00, 677B/s]"
          }
        },
        "9f729c1747234e0798a81096ac923d93": {
          "model_module": "@jupyter-widgets/base",
          "model_name": "LayoutModel",
          "model_module_version": "1.2.0",
          "state": {
            "_model_module": "@jupyter-widgets/base",
            "_model_module_version": "1.2.0",
            "_model_name": "LayoutModel",
            "_view_count": null,
            "_view_module": "@jupyter-widgets/base",
            "_view_module_version": "1.2.0",
            "_view_name": "LayoutView",
            "align_content": null,
            "align_items": null,
            "align_self": null,
            "border": null,
            "bottom": null,
            "display": null,
            "flex": null,
            "flex_flow": null,
            "grid_area": null,
            "grid_auto_columns": null,
            "grid_auto_flow": null,
            "grid_auto_rows": null,
            "grid_column": null,
            "grid_gap": null,
            "grid_row": null,
            "grid_template_areas": null,
            "grid_template_columns": null,
            "grid_template_rows": null,
            "height": null,
            "justify_content": null,
            "justify_items": null,
            "left": null,
            "margin": null,
            "max_height": null,
            "max_width": null,
            "min_height": null,
            "min_width": null,
            "object_fit": null,
            "object_position": null,
            "order": null,
            "overflow": null,
            "overflow_x": null,
            "overflow_y": null,
            "padding": null,
            "right": null,
            "top": null,
            "visibility": null,
            "width": null
          }
        },
        "2002fefb4e424c42bec966144788c2e0": {
          "model_module": "@jupyter-widgets/base",
          "model_name": "LayoutModel",
          "model_module_version": "1.2.0",
          "state": {
            "_model_module": "@jupyter-widgets/base",
            "_model_module_version": "1.2.0",
            "_model_name": "LayoutModel",
            "_view_count": null,
            "_view_module": "@jupyter-widgets/base",
            "_view_module_version": "1.2.0",
            "_view_name": "LayoutView",
            "align_content": null,
            "align_items": null,
            "align_self": null,
            "border": null,
            "bottom": null,
            "display": null,
            "flex": null,
            "flex_flow": null,
            "grid_area": null,
            "grid_auto_columns": null,
            "grid_auto_flow": null,
            "grid_auto_rows": null,
            "grid_column": null,
            "grid_gap": null,
            "grid_row": null,
            "grid_template_areas": null,
            "grid_template_columns": null,
            "grid_template_rows": null,
            "height": null,
            "justify_content": null,
            "justify_items": null,
            "left": null,
            "margin": null,
            "max_height": null,
            "max_width": null,
            "min_height": null,
            "min_width": null,
            "object_fit": null,
            "object_position": null,
            "order": null,
            "overflow": null,
            "overflow_x": null,
            "overflow_y": null,
            "padding": null,
            "right": null,
            "top": null,
            "visibility": null,
            "width": null
          }
        },
        "173250538b294df89a99453f45bcd99f": {
          "model_module": "@jupyter-widgets/controls",
          "model_name": "DescriptionStyleModel",
          "model_module_version": "1.5.0",
          "state": {
            "_model_module": "@jupyter-widgets/controls",
            "_model_module_version": "1.5.0",
            "_model_name": "DescriptionStyleModel",
            "_view_count": null,
            "_view_module": "@jupyter-widgets/base",
            "_view_module_version": "1.2.0",
            "_view_name": "StyleView",
            "description_width": ""
          }
        },
        "d9cfd18a8b4547bf95a292122bc24d51": {
          "model_module": "@jupyter-widgets/base",
          "model_name": "LayoutModel",
          "model_module_version": "1.2.0",
          "state": {
            "_model_module": "@jupyter-widgets/base",
            "_model_module_version": "1.2.0",
            "_model_name": "LayoutModel",
            "_view_count": null,
            "_view_module": "@jupyter-widgets/base",
            "_view_module_version": "1.2.0",
            "_view_name": "LayoutView",
            "align_content": null,
            "align_items": null,
            "align_self": null,
            "border": null,
            "bottom": null,
            "display": null,
            "flex": null,
            "flex_flow": null,
            "grid_area": null,
            "grid_auto_columns": null,
            "grid_auto_flow": null,
            "grid_auto_rows": null,
            "grid_column": null,
            "grid_gap": null,
            "grid_row": null,
            "grid_template_areas": null,
            "grid_template_columns": null,
            "grid_template_rows": null,
            "height": null,
            "justify_content": null,
            "justify_items": null,
            "left": null,
            "margin": null,
            "max_height": null,
            "max_width": null,
            "min_height": null,
            "min_width": null,
            "object_fit": null,
            "object_position": null,
            "order": null,
            "overflow": null,
            "overflow_x": null,
            "overflow_y": null,
            "padding": null,
            "right": null,
            "top": null,
            "visibility": null,
            "width": null
          }
        },
        "bc1f29a1f85c4f67870133d057e4171f": {
          "model_module": "@jupyter-widgets/controls",
          "model_name": "ProgressStyleModel",
          "model_module_version": "1.5.0",
          "state": {
            "_model_module": "@jupyter-widgets/controls",
            "_model_module_version": "1.5.0",
            "_model_name": "ProgressStyleModel",
            "_view_count": null,
            "_view_module": "@jupyter-widgets/base",
            "_view_module_version": "1.2.0",
            "_view_name": "StyleView",
            "bar_color": null,
            "description_width": ""
          }
        },
        "a5c31fbcd2ce40749ce85bb1f04ceb89": {
          "model_module": "@jupyter-widgets/base",
          "model_name": "LayoutModel",
          "model_module_version": "1.2.0",
          "state": {
            "_model_module": "@jupyter-widgets/base",
            "_model_module_version": "1.2.0",
            "_model_name": "LayoutModel",
            "_view_count": null,
            "_view_module": "@jupyter-widgets/base",
            "_view_module_version": "1.2.0",
            "_view_name": "LayoutView",
            "align_content": null,
            "align_items": null,
            "align_self": null,
            "border": null,
            "bottom": null,
            "display": null,
            "flex": null,
            "flex_flow": null,
            "grid_area": null,
            "grid_auto_columns": null,
            "grid_auto_flow": null,
            "grid_auto_rows": null,
            "grid_column": null,
            "grid_gap": null,
            "grid_row": null,
            "grid_template_areas": null,
            "grid_template_columns": null,
            "grid_template_rows": null,
            "height": null,
            "justify_content": null,
            "justify_items": null,
            "left": null,
            "margin": null,
            "max_height": null,
            "max_width": null,
            "min_height": null,
            "min_width": null,
            "object_fit": null,
            "object_position": null,
            "order": null,
            "overflow": null,
            "overflow_x": null,
            "overflow_y": null,
            "padding": null,
            "right": null,
            "top": null,
            "visibility": null,
            "width": null
          }
        },
        "53c89fb436e149f1b3f5436cf92c66e7": {
          "model_module": "@jupyter-widgets/controls",
          "model_name": "DescriptionStyleModel",
          "model_module_version": "1.5.0",
          "state": {
            "_model_module": "@jupyter-widgets/controls",
            "_model_module_version": "1.5.0",
            "_model_name": "DescriptionStyleModel",
            "_view_count": null,
            "_view_module": "@jupyter-widgets/base",
            "_view_module_version": "1.2.0",
            "_view_name": "StyleView",
            "description_width": ""
          }
        },
        "b39a274260ae4549a7b26b212c3bcf05": {
          "model_module": "@jupyter-widgets/controls",
          "model_name": "HBoxModel",
          "model_module_version": "1.5.0",
          "state": {
            "_dom_classes": [],
            "_model_module": "@jupyter-widgets/controls",
            "_model_module_version": "1.5.0",
            "_model_name": "HBoxModel",
            "_view_count": null,
            "_view_module": "@jupyter-widgets/controls",
            "_view_module_version": "1.5.0",
            "_view_name": "HBoxView",
            "box_style": "",
            "children": [
              "IPY_MODEL_bdff821507d2411f95c86120ccfe62c1",
              "IPY_MODEL_d0916bab777f4861b939128b805ff24e",
              "IPY_MODEL_0ed6386221fb461b87193b35a35070f1"
            ],
            "layout": "IPY_MODEL_3e28fca8845c40bab3421c4d579d2db1"
          }
        },
        "bdff821507d2411f95c86120ccfe62c1": {
          "model_module": "@jupyter-widgets/controls",
          "model_name": "HTMLModel",
          "model_module_version": "1.5.0",
          "state": {
            "_dom_classes": [],
            "_model_module": "@jupyter-widgets/controls",
            "_model_module_version": "1.5.0",
            "_model_name": "HTMLModel",
            "_view_count": null,
            "_view_module": "@jupyter-widgets/controls",
            "_view_module_version": "1.5.0",
            "_view_name": "HTMLView",
            "description": "",
            "description_tooltip": null,
            "layout": "IPY_MODEL_e94c3677fcb04070975fb1ffb493aceb",
            "placeholder": "​",
            "style": "IPY_MODEL_b2422b9ad3d64ddfa76528e1c4ebdf41",
            "value": "Downloading (…)solve/main/vocab.txt: 100%"
          }
        },
        "d0916bab777f4861b939128b805ff24e": {
          "model_module": "@jupyter-widgets/controls",
          "model_name": "FloatProgressModel",
          "model_module_version": "1.5.0",
          "state": {
            "_dom_classes": [],
            "_model_module": "@jupyter-widgets/controls",
            "_model_module_version": "1.5.0",
            "_model_name": "FloatProgressModel",
            "_view_count": null,
            "_view_module": "@jupyter-widgets/controls",
            "_view_module_version": "1.5.0",
            "_view_name": "ProgressView",
            "bar_style": "success",
            "description": "",
            "description_tooltip": null,
            "layout": "IPY_MODEL_113e69927ca24b9a8f722a3fecc30616",
            "max": 231508,
            "min": 0,
            "orientation": "horizontal",
            "style": "IPY_MODEL_9f2c3548354d4616b01f484f6c0138bc",
            "value": 231508
          }
        },
        "0ed6386221fb461b87193b35a35070f1": {
          "model_module": "@jupyter-widgets/controls",
          "model_name": "HTMLModel",
          "model_module_version": "1.5.0",
          "state": {
            "_dom_classes": [],
            "_model_module": "@jupyter-widgets/controls",
            "_model_module_version": "1.5.0",
            "_model_name": "HTMLModel",
            "_view_count": null,
            "_view_module": "@jupyter-widgets/controls",
            "_view_module_version": "1.5.0",
            "_view_name": "HTMLView",
            "description": "",
            "description_tooltip": null,
            "layout": "IPY_MODEL_eb1251384db348d8be1f034ab14a27fb",
            "placeholder": "​",
            "style": "IPY_MODEL_eb576e176eac4a229af2cf106d216d74",
            "value": " 232k/232k [00:01&lt;00:00, 172kB/s]"
          }
        },
        "3e28fca8845c40bab3421c4d579d2db1": {
          "model_module": "@jupyter-widgets/base",
          "model_name": "LayoutModel",
          "model_module_version": "1.2.0",
          "state": {
            "_model_module": "@jupyter-widgets/base",
            "_model_module_version": "1.2.0",
            "_model_name": "LayoutModel",
            "_view_count": null,
            "_view_module": "@jupyter-widgets/base",
            "_view_module_version": "1.2.0",
            "_view_name": "LayoutView",
            "align_content": null,
            "align_items": null,
            "align_self": null,
            "border": null,
            "bottom": null,
            "display": null,
            "flex": null,
            "flex_flow": null,
            "grid_area": null,
            "grid_auto_columns": null,
            "grid_auto_flow": null,
            "grid_auto_rows": null,
            "grid_column": null,
            "grid_gap": null,
            "grid_row": null,
            "grid_template_areas": null,
            "grid_template_columns": null,
            "grid_template_rows": null,
            "height": null,
            "justify_content": null,
            "justify_items": null,
            "left": null,
            "margin": null,
            "max_height": null,
            "max_width": null,
            "min_height": null,
            "min_width": null,
            "object_fit": null,
            "object_position": null,
            "order": null,
            "overflow": null,
            "overflow_x": null,
            "overflow_y": null,
            "padding": null,
            "right": null,
            "top": null,
            "visibility": null,
            "width": null
          }
        },
        "e94c3677fcb04070975fb1ffb493aceb": {
          "model_module": "@jupyter-widgets/base",
          "model_name": "LayoutModel",
          "model_module_version": "1.2.0",
          "state": {
            "_model_module": "@jupyter-widgets/base",
            "_model_module_version": "1.2.0",
            "_model_name": "LayoutModel",
            "_view_count": null,
            "_view_module": "@jupyter-widgets/base",
            "_view_module_version": "1.2.0",
            "_view_name": "LayoutView",
            "align_content": null,
            "align_items": null,
            "align_self": null,
            "border": null,
            "bottom": null,
            "display": null,
            "flex": null,
            "flex_flow": null,
            "grid_area": null,
            "grid_auto_columns": null,
            "grid_auto_flow": null,
            "grid_auto_rows": null,
            "grid_column": null,
            "grid_gap": null,
            "grid_row": null,
            "grid_template_areas": null,
            "grid_template_columns": null,
            "grid_template_rows": null,
            "height": null,
            "justify_content": null,
            "justify_items": null,
            "left": null,
            "margin": null,
            "max_height": null,
            "max_width": null,
            "min_height": null,
            "min_width": null,
            "object_fit": null,
            "object_position": null,
            "order": null,
            "overflow": null,
            "overflow_x": null,
            "overflow_y": null,
            "padding": null,
            "right": null,
            "top": null,
            "visibility": null,
            "width": null
          }
        },
        "b2422b9ad3d64ddfa76528e1c4ebdf41": {
          "model_module": "@jupyter-widgets/controls",
          "model_name": "DescriptionStyleModel",
          "model_module_version": "1.5.0",
          "state": {
            "_model_module": "@jupyter-widgets/controls",
            "_model_module_version": "1.5.0",
            "_model_name": "DescriptionStyleModel",
            "_view_count": null,
            "_view_module": "@jupyter-widgets/base",
            "_view_module_version": "1.2.0",
            "_view_name": "StyleView",
            "description_width": ""
          }
        },
        "113e69927ca24b9a8f722a3fecc30616": {
          "model_module": "@jupyter-widgets/base",
          "model_name": "LayoutModel",
          "model_module_version": "1.2.0",
          "state": {
            "_model_module": "@jupyter-widgets/base",
            "_model_module_version": "1.2.0",
            "_model_name": "LayoutModel",
            "_view_count": null,
            "_view_module": "@jupyter-widgets/base",
            "_view_module_version": "1.2.0",
            "_view_name": "LayoutView",
            "align_content": null,
            "align_items": null,
            "align_self": null,
            "border": null,
            "bottom": null,
            "display": null,
            "flex": null,
            "flex_flow": null,
            "grid_area": null,
            "grid_auto_columns": null,
            "grid_auto_flow": null,
            "grid_auto_rows": null,
            "grid_column": null,
            "grid_gap": null,
            "grid_row": null,
            "grid_template_areas": null,
            "grid_template_columns": null,
            "grid_template_rows": null,
            "height": null,
            "justify_content": null,
            "justify_items": null,
            "left": null,
            "margin": null,
            "max_height": null,
            "max_width": null,
            "min_height": null,
            "min_width": null,
            "object_fit": null,
            "object_position": null,
            "order": null,
            "overflow": null,
            "overflow_x": null,
            "overflow_y": null,
            "padding": null,
            "right": null,
            "top": null,
            "visibility": null,
            "width": null
          }
        },
        "9f2c3548354d4616b01f484f6c0138bc": {
          "model_module": "@jupyter-widgets/controls",
          "model_name": "ProgressStyleModel",
          "model_module_version": "1.5.0",
          "state": {
            "_model_module": "@jupyter-widgets/controls",
            "_model_module_version": "1.5.0",
            "_model_name": "ProgressStyleModel",
            "_view_count": null,
            "_view_module": "@jupyter-widgets/base",
            "_view_module_version": "1.2.0",
            "_view_name": "StyleView",
            "bar_color": null,
            "description_width": ""
          }
        },
        "eb1251384db348d8be1f034ab14a27fb": {
          "model_module": "@jupyter-widgets/base",
          "model_name": "LayoutModel",
          "model_module_version": "1.2.0",
          "state": {
            "_model_module": "@jupyter-widgets/base",
            "_model_module_version": "1.2.0",
            "_model_name": "LayoutModel",
            "_view_count": null,
            "_view_module": "@jupyter-widgets/base",
            "_view_module_version": "1.2.0",
            "_view_name": "LayoutView",
            "align_content": null,
            "align_items": null,
            "align_self": null,
            "border": null,
            "bottom": null,
            "display": null,
            "flex": null,
            "flex_flow": null,
            "grid_area": null,
            "grid_auto_columns": null,
            "grid_auto_flow": null,
            "grid_auto_rows": null,
            "grid_column": null,
            "grid_gap": null,
            "grid_row": null,
            "grid_template_areas": null,
            "grid_template_columns": null,
            "grid_template_rows": null,
            "height": null,
            "justify_content": null,
            "justify_items": null,
            "left": null,
            "margin": null,
            "max_height": null,
            "max_width": null,
            "min_height": null,
            "min_width": null,
            "object_fit": null,
            "object_position": null,
            "order": null,
            "overflow": null,
            "overflow_x": null,
            "overflow_y": null,
            "padding": null,
            "right": null,
            "top": null,
            "visibility": null,
            "width": null
          }
        },
        "eb576e176eac4a229af2cf106d216d74": {
          "model_module": "@jupyter-widgets/controls",
          "model_name": "DescriptionStyleModel",
          "model_module_version": "1.5.0",
          "state": {
            "_model_module": "@jupyter-widgets/controls",
            "_model_module_version": "1.5.0",
            "_model_name": "DescriptionStyleModel",
            "_view_count": null,
            "_view_module": "@jupyter-widgets/base",
            "_view_module_version": "1.2.0",
            "_view_name": "StyleView",
            "description_width": ""
          }
        },
        "7f67378f2e1d4a208afc1a140e05f3ac": {
          "model_module": "@jupyter-widgets/controls",
          "model_name": "HBoxModel",
          "model_module_version": "1.5.0",
          "state": {
            "_dom_classes": [],
            "_model_module": "@jupyter-widgets/controls",
            "_model_module_version": "1.5.0",
            "_model_name": "HBoxModel",
            "_view_count": null,
            "_view_module": "@jupyter-widgets/controls",
            "_view_module_version": "1.5.0",
            "_view_name": "HBoxView",
            "box_style": "",
            "children": [
              "IPY_MODEL_96e344816d5d48efa52ebd9ad70a00cd",
              "IPY_MODEL_936c372f4d73425fadd46d5fc502af3f",
              "IPY_MODEL_0a2ab3ded0ba490a9aad08a55690b56d"
            ],
            "layout": "IPY_MODEL_a6567237b9c34ed5ac25992a64c1b86b"
          }
        },
        "96e344816d5d48efa52ebd9ad70a00cd": {
          "model_module": "@jupyter-widgets/controls",
          "model_name": "HTMLModel",
          "model_module_version": "1.5.0",
          "state": {
            "_dom_classes": [],
            "_model_module": "@jupyter-widgets/controls",
            "_model_module_version": "1.5.0",
            "_model_name": "HTMLModel",
            "_view_count": null,
            "_view_module": "@jupyter-widgets/controls",
            "_view_module_version": "1.5.0",
            "_view_name": "HTMLView",
            "description": "",
            "description_tooltip": null,
            "layout": "IPY_MODEL_3e20a7f21d744788bc35d0fd69d3e619",
            "placeholder": "​",
            "style": "IPY_MODEL_8c47e7f96da148bba5842a08693d2211",
            "value": "Downloading (…)cial_tokens_map.json: 100%"
          }
        },
        "936c372f4d73425fadd46d5fc502af3f": {
          "model_module": "@jupyter-widgets/controls",
          "model_name": "FloatProgressModel",
          "model_module_version": "1.5.0",
          "state": {
            "_dom_classes": [],
            "_model_module": "@jupyter-widgets/controls",
            "_model_module_version": "1.5.0",
            "_model_name": "FloatProgressModel",
            "_view_count": null,
            "_view_module": "@jupyter-widgets/controls",
            "_view_module_version": "1.5.0",
            "_view_name": "ProgressView",
            "bar_style": "success",
            "description": "",
            "description_tooltip": null,
            "layout": "IPY_MODEL_87ea9a52e9754453926039fa2cf18910",
            "max": 112,
            "min": 0,
            "orientation": "horizontal",
            "style": "IPY_MODEL_0c8f67c0f2c247ba89344a9509f63634",
            "value": 112
          }
        },
        "0a2ab3ded0ba490a9aad08a55690b56d": {
          "model_module": "@jupyter-widgets/controls",
          "model_name": "HTMLModel",
          "model_module_version": "1.5.0",
          "state": {
            "_dom_classes": [],
            "_model_module": "@jupyter-widgets/controls",
            "_model_module_version": "1.5.0",
            "_model_name": "HTMLModel",
            "_view_count": null,
            "_view_module": "@jupyter-widgets/controls",
            "_view_module_version": "1.5.0",
            "_view_name": "HTMLView",
            "description": "",
            "description_tooltip": null,
            "layout": "IPY_MODEL_d778873965c5458580c5ff55fe3d6eb9",
            "placeholder": "​",
            "style": "IPY_MODEL_71899e5cfbc1453e8bce9969743ca7cc",
            "value": " 112/112 [00:00&lt;00:00, 10.9kB/s]"
          }
        },
        "a6567237b9c34ed5ac25992a64c1b86b": {
          "model_module": "@jupyter-widgets/base",
          "model_name": "LayoutModel",
          "model_module_version": "1.2.0",
          "state": {
            "_model_module": "@jupyter-widgets/base",
            "_model_module_version": "1.2.0",
            "_model_name": "LayoutModel",
            "_view_count": null,
            "_view_module": "@jupyter-widgets/base",
            "_view_module_version": "1.2.0",
            "_view_name": "LayoutView",
            "align_content": null,
            "align_items": null,
            "align_self": null,
            "border": null,
            "bottom": null,
            "display": null,
            "flex": null,
            "flex_flow": null,
            "grid_area": null,
            "grid_auto_columns": null,
            "grid_auto_flow": null,
            "grid_auto_rows": null,
            "grid_column": null,
            "grid_gap": null,
            "grid_row": null,
            "grid_template_areas": null,
            "grid_template_columns": null,
            "grid_template_rows": null,
            "height": null,
            "justify_content": null,
            "justify_items": null,
            "left": null,
            "margin": null,
            "max_height": null,
            "max_width": null,
            "min_height": null,
            "min_width": null,
            "object_fit": null,
            "object_position": null,
            "order": null,
            "overflow": null,
            "overflow_x": null,
            "overflow_y": null,
            "padding": null,
            "right": null,
            "top": null,
            "visibility": null,
            "width": null
          }
        },
        "3e20a7f21d744788bc35d0fd69d3e619": {
          "model_module": "@jupyter-widgets/base",
          "model_name": "LayoutModel",
          "model_module_version": "1.2.0",
          "state": {
            "_model_module": "@jupyter-widgets/base",
            "_model_module_version": "1.2.0",
            "_model_name": "LayoutModel",
            "_view_count": null,
            "_view_module": "@jupyter-widgets/base",
            "_view_module_version": "1.2.0",
            "_view_name": "LayoutView",
            "align_content": null,
            "align_items": null,
            "align_self": null,
            "border": null,
            "bottom": null,
            "display": null,
            "flex": null,
            "flex_flow": null,
            "grid_area": null,
            "grid_auto_columns": null,
            "grid_auto_flow": null,
            "grid_auto_rows": null,
            "grid_column": null,
            "grid_gap": null,
            "grid_row": null,
            "grid_template_areas": null,
            "grid_template_columns": null,
            "grid_template_rows": null,
            "height": null,
            "justify_content": null,
            "justify_items": null,
            "left": null,
            "margin": null,
            "max_height": null,
            "max_width": null,
            "min_height": null,
            "min_width": null,
            "object_fit": null,
            "object_position": null,
            "order": null,
            "overflow": null,
            "overflow_x": null,
            "overflow_y": null,
            "padding": null,
            "right": null,
            "top": null,
            "visibility": null,
            "width": null
          }
        },
        "8c47e7f96da148bba5842a08693d2211": {
          "model_module": "@jupyter-widgets/controls",
          "model_name": "DescriptionStyleModel",
          "model_module_version": "1.5.0",
          "state": {
            "_model_module": "@jupyter-widgets/controls",
            "_model_module_version": "1.5.0",
            "_model_name": "DescriptionStyleModel",
            "_view_count": null,
            "_view_module": "@jupyter-widgets/base",
            "_view_module_version": "1.2.0",
            "_view_name": "StyleView",
            "description_width": ""
          }
        },
        "87ea9a52e9754453926039fa2cf18910": {
          "model_module": "@jupyter-widgets/base",
          "model_name": "LayoutModel",
          "model_module_version": "1.2.0",
          "state": {
            "_model_module": "@jupyter-widgets/base",
            "_model_module_version": "1.2.0",
            "_model_name": "LayoutModel",
            "_view_count": null,
            "_view_module": "@jupyter-widgets/base",
            "_view_module_version": "1.2.0",
            "_view_name": "LayoutView",
            "align_content": null,
            "align_items": null,
            "align_self": null,
            "border": null,
            "bottom": null,
            "display": null,
            "flex": null,
            "flex_flow": null,
            "grid_area": null,
            "grid_auto_columns": null,
            "grid_auto_flow": null,
            "grid_auto_rows": null,
            "grid_column": null,
            "grid_gap": null,
            "grid_row": null,
            "grid_template_areas": null,
            "grid_template_columns": null,
            "grid_template_rows": null,
            "height": null,
            "justify_content": null,
            "justify_items": null,
            "left": null,
            "margin": null,
            "max_height": null,
            "max_width": null,
            "min_height": null,
            "min_width": null,
            "object_fit": null,
            "object_position": null,
            "order": null,
            "overflow": null,
            "overflow_x": null,
            "overflow_y": null,
            "padding": null,
            "right": null,
            "top": null,
            "visibility": null,
            "width": null
          }
        },
        "0c8f67c0f2c247ba89344a9509f63634": {
          "model_module": "@jupyter-widgets/controls",
          "model_name": "ProgressStyleModel",
          "model_module_version": "1.5.0",
          "state": {
            "_model_module": "@jupyter-widgets/controls",
            "_model_module_version": "1.5.0",
            "_model_name": "ProgressStyleModel",
            "_view_count": null,
            "_view_module": "@jupyter-widgets/base",
            "_view_module_version": "1.2.0",
            "_view_name": "StyleView",
            "bar_color": null,
            "description_width": ""
          }
        },
        "d778873965c5458580c5ff55fe3d6eb9": {
          "model_module": "@jupyter-widgets/base",
          "model_name": "LayoutModel",
          "model_module_version": "1.2.0",
          "state": {
            "_model_module": "@jupyter-widgets/base",
            "_model_module_version": "1.2.0",
            "_model_name": "LayoutModel",
            "_view_count": null,
            "_view_module": "@jupyter-widgets/base",
            "_view_module_version": "1.2.0",
            "_view_name": "LayoutView",
            "align_content": null,
            "align_items": null,
            "align_self": null,
            "border": null,
            "bottom": null,
            "display": null,
            "flex": null,
            "flex_flow": null,
            "grid_area": null,
            "grid_auto_columns": null,
            "grid_auto_flow": null,
            "grid_auto_rows": null,
            "grid_column": null,
            "grid_gap": null,
            "grid_row": null,
            "grid_template_areas": null,
            "grid_template_columns": null,
            "grid_template_rows": null,
            "height": null,
            "justify_content": null,
            "justify_items": null,
            "left": null,
            "margin": null,
            "max_height": null,
            "max_width": null,
            "min_height": null,
            "min_width": null,
            "object_fit": null,
            "object_position": null,
            "order": null,
            "overflow": null,
            "overflow_x": null,
            "overflow_y": null,
            "padding": null,
            "right": null,
            "top": null,
            "visibility": null,
            "width": null
          }
        },
        "71899e5cfbc1453e8bce9969743ca7cc": {
          "model_module": "@jupyter-widgets/controls",
          "model_name": "DescriptionStyleModel",
          "model_module_version": "1.5.0",
          "state": {
            "_model_module": "@jupyter-widgets/controls",
            "_model_module_version": "1.5.0",
            "_model_name": "DescriptionStyleModel",
            "_view_count": null,
            "_view_module": "@jupyter-widgets/base",
            "_view_module_version": "1.2.0",
            "_view_name": "StyleView",
            "description_width": ""
          }
        }
      }
    }
  },
  "nbformat": 4,
  "nbformat_minor": 0
}