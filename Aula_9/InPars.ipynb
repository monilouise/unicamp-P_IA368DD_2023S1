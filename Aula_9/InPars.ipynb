{
  "nbformat": 4,
  "nbformat_minor": 0,
  "metadata": {
    "colab": {
      "provenance": [],
      "machine_shape": "hm"
    },
    "kernelspec": {
      "name": "python3",
      "display_name": "Python 3"
    },
    "language_info": {
      "name": "python"
    },
    "gpuClass": "standard"
  },
  "cells": [
    {
      "cell_type": "markdown",
      "source": [
        "# InPars\n",
        "\n",
        "Author: Monique Monteiro (moniquelouise@gmail.com)"
      ],
      "metadata": {
        "id": "X2SpaNmKGBQ9"
      }
    },
    {
      "cell_type": "code",
      "source": [
        "from google.colab import drive\n",
        "drive.mount('/content/gdrive', force_remount=True)"
      ],
      "metadata": {
        "colab": {
          "base_uri": "https://localhost:8080/"
        },
        "id": "_ExkAT0hGHIO",
        "outputId": "b15c0e17-4cfc-4315-b350-8dced0f57421"
      },
      "execution_count": null,
      "outputs": [
        {
          "output_type": "stream",
          "name": "stdout",
          "text": [
            "Mounted at /content/gdrive\n"
          ]
        }
      ]
    },
    {
      "cell_type": "code",
      "source": [
        "main_dir = \"/content/gdrive/MyDrive/Unicamp-aula-9\""
      ],
      "metadata": {
        "id": "wi_sly_0GdmQ"
      },
      "execution_count": null,
      "outputs": []
    },
    {
      "cell_type": "markdown",
      "source": [
        "## Libraries installation"
      ],
      "metadata": {
        "id": "OBxaknHlGQIo"
      }
    },
    {
      "cell_type": "code",
      "source": [
        "!pip install openai"
      ],
      "metadata": {
        "colab": {
          "base_uri": "https://localhost:8080/"
        },
        "id": "x1GRUb_4GN3q",
        "outputId": "efafa452-e390-48d2-8ae1-37eb6ede5093"
      },
      "execution_count": null,
      "outputs": [
        {
          "output_type": "stream",
          "name": "stdout",
          "text": [
            "Looking in indexes: https://pypi.org/simple, https://us-python.pkg.dev/colab-wheels/public/simple/\n",
            "Collecting openai\n",
            "  Using cached openai-0.27.6-py3-none-any.whl (71 kB)\n",
            "Requirement already satisfied: requests>=2.20 in /usr/local/lib/python3.10/site-packages (from openai) (2.28.2)\n",
            "Requirement already satisfied: tqdm in /usr/local/lib/python3.10/site-packages (from openai) (4.65.0)\n",
            "Collecting aiohttp\n",
            "  Using cached aiohttp-3.8.4-cp310-cp310-manylinux_2_17_x86_64.manylinux2014_x86_64.whl (1.0 MB)\n",
            "Requirement already satisfied: urllib3<1.27,>=1.21.1 in /usr/local/lib/python3.10/site-packages (from requests>=2.20->openai) (1.26.15)\n",
            "Requirement already satisfied: idna<4,>=2.5 in /usr/local/lib/python3.10/site-packages (from requests>=2.20->openai) (3.4)\n",
            "Requirement already satisfied: certifi>=2017.4.17 in /usr/local/lib/python3.10/site-packages (from requests>=2.20->openai) (2022.12.7)\n",
            "Requirement already satisfied: charset-normalizer<4,>=2 in /usr/local/lib/python3.10/site-packages (from requests>=2.20->openai) (3.1.0)\n",
            "Collecting async-timeout<5.0,>=4.0.0a3\n",
            "  Using cached async_timeout-4.0.2-py3-none-any.whl (5.8 kB)\n",
            "Collecting multidict<7.0,>=4.5\n",
            "  Using cached multidict-6.0.4-cp310-cp310-manylinux_2_17_x86_64.manylinux2014_x86_64.whl (114 kB)\n",
            "Collecting frozenlist>=1.1.1\n",
            "  Using cached frozenlist-1.3.3-cp310-cp310-manylinux_2_5_x86_64.manylinux1_x86_64.manylinux_2_17_x86_64.manylinux2014_x86_64.whl (149 kB)\n",
            "Collecting aiosignal>=1.1.2\n",
            "  Using cached aiosignal-1.3.1-py3-none-any.whl (7.6 kB)\n",
            "Collecting attrs>=17.3.0\n",
            "  Downloading attrs-23.1.0-py3-none-any.whl (61 kB)\n",
            "\u001b[2K     \u001b[90m━━━━━━━━━━━━━━━━━━━━━━━━━━━━━━━━━━━━━━━━\u001b[0m \u001b[32m61.2/61.2 kB\u001b[0m \u001b[31m5.9 MB/s\u001b[0m eta \u001b[36m0:00:00\u001b[0m\n",
            "\u001b[?25hCollecting yarl<2.0,>=1.0\n",
            "  Using cached yarl-1.9.2-cp310-cp310-manylinux_2_17_x86_64.manylinux2014_x86_64.whl (268 kB)\n",
            "Installing collected packages: multidict, frozenlist, attrs, async-timeout, yarl, aiosignal, aiohttp, openai\n",
            "Successfully installed aiohttp-3.8.4 aiosignal-1.3.1 async-timeout-4.0.2 attrs-23.1.0 frozenlist-1.3.3 multidict-6.0.4 openai-0.27.6 yarl-1.9.2\n",
            "\u001b[33mWARNING: Running pip as the 'root' user can result in broken permissions and conflicting behaviour with the system package manager. It is recommended to use a virtual environment instead: https://pip.pypa.io/warnings/venv\u001b[0m\u001b[33m\n",
            "\u001b[0m"
          ]
        }
      ]
    },
    {
      "cell_type": "code",
      "source": [
        "!pip install jsonlines"
      ],
      "metadata": {
        "colab": {
          "base_uri": "https://localhost:8080/"
        },
        "id": "ogdtljeQWMH8",
        "outputId": "36706628-90f5-4e80-adcb-7e01fd396be4"
      },
      "execution_count": null,
      "outputs": [
        {
          "output_type": "stream",
          "name": "stdout",
          "text": [
            "Looking in indexes: https://pypi.org/simple, https://us-python.pkg.dev/colab-wheels/public/simple/\n",
            "Collecting jsonlines\n",
            "  Using cached jsonlines-3.1.0-py3-none-any.whl (8.6 kB)\n",
            "Requirement already satisfied: attrs>=19.2.0 in /usr/local/lib/python3.10/site-packages (from jsonlines) (23.1.0)\n",
            "Installing collected packages: jsonlines\n",
            "Successfully installed jsonlines-3.1.0\n",
            "\u001b[33mWARNING: Running pip as the 'root' user can result in broken permissions and conflicting behaviour with the system package manager. It is recommended to use a virtual environment instead: https://pip.pypa.io/warnings/venv\u001b[0m\u001b[33m\n",
            "\u001b[0m"
          ]
        }
      ]
    },
    {
      "cell_type": "code",
      "source": [
        "!pip install pyserini -q\n",
        "!pip install faiss-cpu -q"
      ],
      "metadata": {
        "colab": {
          "base_uri": "https://localhost:8080/"
        },
        "id": "sFeFq16nxgVL",
        "outputId": "009af208-e1ee-4d16-e46e-1b8b75262668"
      },
      "execution_count": 13,
      "outputs": [
        {
          "output_type": "stream",
          "name": "stdout",
          "text": [
            "\u001b[33mWARNING: Running pip as the 'root' user can result in broken permissions and conflicting behaviour with the system package manager. It is recommended to use a virtual environment instead: https://pip.pypa.io/warnings/venv\u001b[0m\u001b[33m\n",
            "\u001b[2K     \u001b[90m━━━━━━━━━━━━━━━━━━━━━━━━━━━━━━━━━━━━━━━━\u001b[0m \u001b[32m17.6/17.6 MB\u001b[0m \u001b[31m42.7 MB/s\u001b[0m eta \u001b[36m0:00:00\u001b[0m\n",
            "\u001b[?25h\u001b[33mWARNING: Running pip as the 'root' user can result in broken permissions and conflicting behaviour with the system package manager. It is recommended to use a virtual environment instead: https://pip.pypa.io/warnings/venv\u001b[0m\u001b[33m\n",
            "\u001b[0m"
          ]
        }
      ]
    },
    {
      "cell_type": "markdown",
      "source": [
        "## Pyserini indexing"
      ],
      "metadata": {
        "id": "UkDrVX3o6PUz"
      }
    },
    {
      "cell_type": "code",
      "source": [
        "from pyserini.search.lucene import LuceneSearcher\n",
        "import numpy as np\n",
        "import json"
      ],
      "metadata": {
        "id": "Q_4aS-DGMKvL"
      },
      "execution_count": 19,
      "outputs": []
    },
    {
      "cell_type": "markdown",
      "source": [
        "The code below is inspired by Manoel Veríssimo dos Santos Neto (https://github.com/verissimomanoel/P_IA368DD_2023S1/blob/main/Exercicio8/generate_dataset.py) and Júlia Tessler (https://colab.research.google.com/drive/1DvFvghq3rpDfj0qh1rdpF_Tr0RXa3yV0?usp=sharing#scrollTo=wIPv9dBzeuG5).\n",
        "\n",
        "At the moment, Pyserini command line version seem unstable, so programmatic access is necessary (and more simple)."
      ],
      "metadata": {
        "id": "_OSxmVx1NtSt"
      }
    },
    {
      "cell_type": "code",
      "source": [
        "def generate_random_numbers(max = 5, k = 1000):\n",
        "  random_list = []\n",
        "  while len(random_list) < max:\n",
        "    n = np.random.randint(0, k)\n",
        "\n",
        "    # Prevent duplicated index\n",
        "    if n not in random_list:\n",
        "      random_list.append(n)\n",
        "\n",
        "  return random_list\n",
        "\n",
        "def search_with_bm25(query, max = 5, k = 1000):\n",
        "  searcher = LuceneSearcher.from_prebuilt_index('beir-v1.0.0-trec-covid.flat')\n",
        "  hits = searcher.search(query, k)\n",
        "  random_list = generate_random_numbers(max = max, k = k)\n",
        "  random_ids = []\n",
        "\n",
        "  for index in random_list:\n",
        "    jsondoc = json.loads(hits[index].raw)\n",
        "    random_ids.append(jsondoc[\"_id\"])\n",
        "\n",
        "  return random_ids"
      ],
      "metadata": {
        "id": "tIpFs3kNMYJP"
      },
      "execution_count": 17,
      "outputs": []
    },
    {
      "cell_type": "code",
      "source": [
        "test = search_with_bm25('covid')\n",
        "test"
      ],
      "metadata": {
        "colab": {
          "base_uri": "https://localhost:8080/"
        },
        "id": "QSPj00m7Ncll",
        "outputId": "11901484-a185-49fd-9371-b1551200974e"
      },
      "execution_count": 20,
      "outputs": [
        {
          "output_type": "execute_result",
          "data": {
            "text/plain": [
              "['gvvc48eh', 'q8d7rvnj', 'lfdeowsl', '5guhj6y3', '6i0bmnee']"
            ]
          },
          "metadata": {},
          "execution_count": 20
        }
      ]
    },
    {
      "cell_type": "markdown",
      "source": [
        "## Passages download"
      ],
      "metadata": {
        "id": "4EEHNSNeVPZd"
      }
    },
    {
      "cell_type": "code",
      "source": [
        "!wget https://huggingface.co/datasets/BeIR/trec-covid/resolve/main/corpus.jsonl.gz"
      ],
      "metadata": {
        "colab": {
          "base_uri": "https://localhost:8080/"
        },
        "id": "d7C_3A-SVUtU",
        "outputId": "b4c8155f-35d0-45bb-e0e9-0e048478157d"
      },
      "execution_count": null,
      "outputs": [
        {
          "output_type": "stream",
          "name": "stdout",
          "text": [
            "--2023-05-01 17:21:28--  https://huggingface.co/datasets/BeIR/trec-covid/resolve/main/corpus.jsonl.gz\n",
            "Resolving huggingface.co (huggingface.co)... 18.155.68.44, 18.155.68.116, 18.155.68.121, ...\n",
            "Connecting to huggingface.co (huggingface.co)|18.155.68.44|:443... connected.\n",
            "HTTP request sent, awaiting response... 302 Found\n",
            "Location: https://cdn-lfs.huggingface.co/repos/a8/10/a810e88b0e7b233be82b89c1fa6ec2d75efc6d55784c2ada9dcac8434a634f3a/e9e97686e3138eaff989f67c04cd32e8f8f4c0d4857187e3f180275b23e24e85?response-content-disposition=attachment%3B+filename*%3DUTF-8%27%27corpus.jsonl.gz%3B+filename%3D%22corpus.jsonl.gz%22%3B&response-content-type=application%2Fgzip&Expires=1683220694&Policy=eyJTdGF0ZW1lbnQiOlt7IlJlc291cmNlIjoiaHR0cHM6Ly9jZG4tbGZzLmh1Z2dpbmdmYWNlLmNvL3JlcG9zL2E4LzEwL2E4MTBlODhiMGU3YjIzM2JlODJiODljMWZhNmVjMmQ3NWVmYzZkNTU3ODRjMmFkYTlkY2FjODQzNGE2MzRmM2EvZTllOTc2ODZlMzEzOGVhZmY5ODlmNjdjMDRjZDMyZThmOGY0YzBkNDg1NzE4N2UzZjE4MDI3NWIyM2UyNGU4NT9yZXNwb25zZS1jb250ZW50LWRpc3Bvc2l0aW9uPSomcmVzcG9uc2UtY29udGVudC10eXBlPSoiLCJDb25kaXRpb24iOnsiRGF0ZUxlc3NUaGFuIjp7IkFXUzpFcG9jaFRpbWUiOjE2ODMyMjA2OTR9fX1dfQ__&Signature=ju1g4mssYa74gsfgD0P4GoSnbGZyFC7uyhMVYKmiLPHhrJXWLbe%7ER4OiaWlqsSI4C8%7ETcVyWyOCEbm2lfoxMFxte1XZVUEB7r4nAtAT758ssi-mX7oi5dZqbyCY%7EFcWtyq6ykmQTKJA-iKC1xKNXjIV7m6Y3YHPWf7xk3JdWuRCDJoPYlNPzJJaIs-R51Dd42ORJzKLAD0TMLEcwCAh9M8h8yEpVu5GTuQh4zG7evNodqeEmgW1pXrhgRHBOkI8iDHygfo%7E5Glw9zDW1WT6BsYAJt9UfqZrIVqN7EWmECrd0hD%7E7MoxYuTj03D-M-OdBSBR7SK5Z4DRgSY1NmbJwOA__&Key-Pair-Id=KVTP0A1DKRTAX [following]\n",
            "--2023-05-01 17:21:28--  https://cdn-lfs.huggingface.co/repos/a8/10/a810e88b0e7b233be82b89c1fa6ec2d75efc6d55784c2ada9dcac8434a634f3a/e9e97686e3138eaff989f67c04cd32e8f8f4c0d4857187e3f180275b23e24e85?response-content-disposition=attachment%3B+filename*%3DUTF-8%27%27corpus.jsonl.gz%3B+filename%3D%22corpus.jsonl.gz%22%3B&response-content-type=application%2Fgzip&Expires=1683220694&Policy=eyJTdGF0ZW1lbnQiOlt7IlJlc291cmNlIjoiaHR0cHM6Ly9jZG4tbGZzLmh1Z2dpbmdmYWNlLmNvL3JlcG9zL2E4LzEwL2E4MTBlODhiMGU3YjIzM2JlODJiODljMWZhNmVjMmQ3NWVmYzZkNTU3ODRjMmFkYTlkY2FjODQzNGE2MzRmM2EvZTllOTc2ODZlMzEzOGVhZmY5ODlmNjdjMDRjZDMyZThmOGY0YzBkNDg1NzE4N2UzZjE4MDI3NWIyM2UyNGU4NT9yZXNwb25zZS1jb250ZW50LWRpc3Bvc2l0aW9uPSomcmVzcG9uc2UtY29udGVudC10eXBlPSoiLCJDb25kaXRpb24iOnsiRGF0ZUxlc3NUaGFuIjp7IkFXUzpFcG9jaFRpbWUiOjE2ODMyMjA2OTR9fX1dfQ__&Signature=ju1g4mssYa74gsfgD0P4GoSnbGZyFC7uyhMVYKmiLPHhrJXWLbe%7ER4OiaWlqsSI4C8%7ETcVyWyOCEbm2lfoxMFxte1XZVUEB7r4nAtAT758ssi-mX7oi5dZqbyCY%7EFcWtyq6ykmQTKJA-iKC1xKNXjIV7m6Y3YHPWf7xk3JdWuRCDJoPYlNPzJJaIs-R51Dd42ORJzKLAD0TMLEcwCAh9M8h8yEpVu5GTuQh4zG7evNodqeEmgW1pXrhgRHBOkI8iDHygfo%7E5Glw9zDW1WT6BsYAJt9UfqZrIVqN7EWmECrd0hD%7E7MoxYuTj03D-M-OdBSBR7SK5Z4DRgSY1NmbJwOA__&Key-Pair-Id=KVTP0A1DKRTAX\n",
            "Resolving cdn-lfs.huggingface.co (cdn-lfs.huggingface.co)... 54.192.150.21, 54.192.150.69, 54.192.150.84, ...\n",
            "Connecting to cdn-lfs.huggingface.co (cdn-lfs.huggingface.co)|54.192.150.21|:443... connected.\n",
            "HTTP request sent, awaiting response... 200 OK\n",
            "Length: 73452199 (70M) [application/gzip]\n",
            "Saving to: ‘corpus.jsonl.gz’\n",
            "\n",
            "corpus.jsonl.gz     100%[===================>]  70.05M  16.3MB/s    in 5.3s    \n",
            "\n",
            "2023-05-01 17:21:34 (13.3 MB/s) - ‘corpus.jsonl.gz’ saved [73452199/73452199]\n",
            "\n"
          ]
        }
      ]
    },
    {
      "cell_type": "code",
      "source": [
        "!mv corpus.jsonl.gz {main_dir}/trec-covid"
      ],
      "metadata": {
        "id": "3wBYDsfqVaRk"
      },
      "execution_count": null,
      "outputs": []
    },
    {
      "cell_type": "code",
      "source": [
        "!gunzip {main_dir}/trec-covid/corpus.jsonl.gz"
      ],
      "metadata": {
        "id": "R9VltpnhVvNu"
      },
      "execution_count": null,
      "outputs": []
    },
    {
      "cell_type": "markdown",
      "source": [
        "## Queries vs passages download\n",
        "\n",
        "It'll be useful to help to generate reasonable queries which will be furthe improved in terms of commplexity."
      ],
      "metadata": {
        "id": "EGX4uTylZptK"
      }
    },
    {
      "cell_type": "code",
      "source": [
        "!wget https://huggingface.co/datasets/BeIR/trec-covid-qrels/raw/main/test.tsv"
      ],
      "metadata": {
        "colab": {
          "base_uri": "https://localhost:8080/"
        },
        "id": "WExuXZ8ModAY",
        "outputId": "2d8dd338-5abf-4d55-94e7-53769e6fc030"
      },
      "execution_count": null,
      "outputs": [
        {
          "output_type": "stream",
          "name": "stdout",
          "text": [
            "--2023-05-01 18:44:58--  https://huggingface.co/datasets/BeIR/trec-covid-qrels/raw/main/test.tsv\n",
            "Resolving huggingface.co (huggingface.co)... 18.155.68.121, 18.155.68.116, 18.155.68.44, ...\n",
            "Connecting to huggingface.co (huggingface.co)|18.155.68.121|:443... connected.\n",
            "HTTP request sent, awaiting response... 200 OK\n",
            "Length: 980831 (958K) [text/plain]\n",
            "Saving to: ‘test.tsv’\n",
            "\n",
            "test.tsv            100%[===================>] 957.84K  --.-KB/s    in 0.04s   \n",
            "\n",
            "2023-05-01 18:44:59 (26.7 MB/s) - ‘test.tsv’ saved [980831/980831]\n",
            "\n"
          ]
        }
      ]
    },
    {
      "cell_type": "code",
      "source": [
        "!mv test.tsv {main_dir}/trec-covid"
      ],
      "metadata": {
        "id": "C1Ca_7jLog5k"
      },
      "execution_count": null,
      "outputs": []
    },
    {
      "cell_type": "markdown",
      "source": [
        "## Queries download"
      ],
      "metadata": {
        "id": "CrvoMTpFtDSi"
      }
    },
    {
      "cell_type": "code",
      "source": [
        "!wget https://huggingface.co/datasets/BeIR/trec-covid/resolve/main/queries.jsonl.gz"
      ],
      "metadata": {
        "colab": {
          "base_uri": "https://localhost:8080/"
        },
        "id": "WwGwZ72asg2H",
        "outputId": "94945ba3-9205-40e8-e1e4-d14c754f0755"
      },
      "execution_count": null,
      "outputs": [
        {
          "output_type": "stream",
          "name": "stdout",
          "text": [
            "--2023-05-01 19:02:43--  https://huggingface.co/datasets/BeIR/trec-covid/resolve/main/queries.jsonl.gz\n",
            "Resolving huggingface.co (huggingface.co)... 18.155.68.121, 18.155.68.116, 18.155.68.44, ...\n",
            "Connecting to huggingface.co (huggingface.co)|18.155.68.121|:443... connected.\n",
            "HTTP request sent, awaiting response... 302 Found\n",
            "Location: https://cdn-lfs.huggingface.co/repos/a8/10/a810e88b0e7b233be82b89c1fa6ec2d75efc6d55784c2ada9dcac8434a634f3a/9eadcc2cdf140addc9dae83648bb2c6611f5e4b66eaed7475fa5a0ca48eda371?response-content-disposition=attachment%3B+filename*%3DUTF-8%27%27queries.jsonl.gz%3B+filename%3D%22queries.jsonl.gz%22%3B&response-content-type=application%2Fgzip&Expires=1683226963&Policy=eyJTdGF0ZW1lbnQiOlt7IlJlc291cmNlIjoiaHR0cHM6Ly9jZG4tbGZzLmh1Z2dpbmdmYWNlLmNvL3JlcG9zL2E4LzEwL2E4MTBlODhiMGU3YjIzM2JlODJiODljMWZhNmVjMmQ3NWVmYzZkNTU3ODRjMmFkYTlkY2FjODQzNGE2MzRmM2EvOWVhZGNjMmNkZjE0MGFkZGM5ZGFlODM2NDhiYjJjNjYxMWY1ZTRiNjZlYWVkNzQ3NWZhNWEwY2E0OGVkYTM3MT9yZXNwb25zZS1jb250ZW50LWRpc3Bvc2l0aW9uPSomcmVzcG9uc2UtY29udGVudC10eXBlPSoiLCJDb25kaXRpb24iOnsiRGF0ZUxlc3NUaGFuIjp7IkFXUzpFcG9jaFRpbWUiOjE2ODMyMjY5NjN9fX1dfQ__&Signature=yDcSBGZulFezNbc6LujLJQqoTXKvXg5LRt4dgod3-XDUWaL4OW12M6I0WTXYcw8slTpiPyynlPtH5%7Eax2mUsipSPlej0vPSx4MUAIOjfqor4-OdUvBDWA4jrA6c-P9xZ8h-gcCnZVzCO1iSxf8OxN0zIGNVVz20MKHnY5oTBAYRJrAOfICn0mrTpDRgLpxwuNarUMOQH0Why85pA7l4UhqDywsQndILgJlgBX6abnLrS1B7YQ2mqAZ0s%7EsQW-OHfnP0giBdopE8Majk6nJ0W5rkc5PX-%7EDr6LPgjSnyGt2pi9Y3e4fKl8kV6PGyjyxIpu%7E-BYrKGejwB9vSXPAsB0w__&Key-Pair-Id=KVTP0A1DKRTAX [following]\n",
            "--2023-05-01 19:02:43--  https://cdn-lfs.huggingface.co/repos/a8/10/a810e88b0e7b233be82b89c1fa6ec2d75efc6d55784c2ada9dcac8434a634f3a/9eadcc2cdf140addc9dae83648bb2c6611f5e4b66eaed7475fa5a0ca48eda371?response-content-disposition=attachment%3B+filename*%3DUTF-8%27%27queries.jsonl.gz%3B+filename%3D%22queries.jsonl.gz%22%3B&response-content-type=application%2Fgzip&Expires=1683226963&Policy=eyJTdGF0ZW1lbnQiOlt7IlJlc291cmNlIjoiaHR0cHM6Ly9jZG4tbGZzLmh1Z2dpbmdmYWNlLmNvL3JlcG9zL2E4LzEwL2E4MTBlODhiMGU3YjIzM2JlODJiODljMWZhNmVjMmQ3NWVmYzZkNTU3ODRjMmFkYTlkY2FjODQzNGE2MzRmM2EvOWVhZGNjMmNkZjE0MGFkZGM5ZGFlODM2NDhiYjJjNjYxMWY1ZTRiNjZlYWVkNzQ3NWZhNWEwY2E0OGVkYTM3MT9yZXNwb25zZS1jb250ZW50LWRpc3Bvc2l0aW9uPSomcmVzcG9uc2UtY29udGVudC10eXBlPSoiLCJDb25kaXRpb24iOnsiRGF0ZUxlc3NUaGFuIjp7IkFXUzpFcG9jaFRpbWUiOjE2ODMyMjY5NjN9fX1dfQ__&Signature=yDcSBGZulFezNbc6LujLJQqoTXKvXg5LRt4dgod3-XDUWaL4OW12M6I0WTXYcw8slTpiPyynlPtH5%7Eax2mUsipSPlej0vPSx4MUAIOjfqor4-OdUvBDWA4jrA6c-P9xZ8h-gcCnZVzCO1iSxf8OxN0zIGNVVz20MKHnY5oTBAYRJrAOfICn0mrTpDRgLpxwuNarUMOQH0Why85pA7l4UhqDywsQndILgJlgBX6abnLrS1B7YQ2mqAZ0s%7EsQW-OHfnP0giBdopE8Majk6nJ0W5rkc5PX-%7EDr6LPgjSnyGt2pi9Y3e4fKl8kV6PGyjyxIpu%7E-BYrKGejwB9vSXPAsB0w__&Key-Pair-Id=KVTP0A1DKRTAX\n",
            "Resolving cdn-lfs.huggingface.co (cdn-lfs.huggingface.co)... 54.192.150.84, 54.192.150.19, 54.192.150.69, ...\n",
            "Connecting to cdn-lfs.huggingface.co (cdn-lfs.huggingface.co)|54.192.150.84|:443... connected.\n",
            "HTTP request sent, awaiting response... 200 OK\n",
            "Length: 4702 (4.6K) [application/gzip]\n",
            "Saving to: ‘queries.jsonl.gz’\n",
            "\n",
            "queries.jsonl.gz    100%[===================>]   4.59K  --.-KB/s    in 0s      \n",
            "\n",
            "2023-05-01 19:02:44 (297 MB/s) - ‘queries.jsonl.gz’ saved [4702/4702]\n",
            "\n"
          ]
        }
      ]
    },
    {
      "cell_type": "code",
      "source": [
        "!mv queries.jsonl.gz {main_dir}/trec-covid"
      ],
      "metadata": {
        "id": "mDXZTHjBsl3L"
      },
      "execution_count": null,
      "outputs": []
    },
    {
      "cell_type": "code",
      "source": [
        "!gunzip {main_dir}/trec-covid/queries.jsonl.gz"
      ],
      "metadata": {
        "id": "5t9h4Mt7spDu"
      },
      "execution_count": null,
      "outputs": []
    },
    {
      "cell_type": "code",
      "source": [
        "!head {main_dir}/trec-covid/queries.jsonl"
      ],
      "metadata": {
        "colab": {
          "base_uri": "https://localhost:8080/"
        },
        "id": "BneXinoysr_E",
        "outputId": "513e6bb1-90ad-4ce6-8c77-d583634e9a8f"
      },
      "execution_count": null,
      "outputs": [
        {
          "output_type": "stream",
          "name": "stdout",
          "text": [
            "{\"_id\": \"1\", \"text\": \"what is the origin of COVID-19\", \"metadata\": {\"query\": \"coronavirus origin\", \"narrative\": \"seeking range of information about the SARS-CoV-2 virus's origin, including its evolution, animal source, and first transmission into humans\"}}\n",
            "{\"_id\": \"2\", \"text\": \"how does the coronavirus respond to changes in the weather\", \"metadata\": {\"query\": \"coronavirus response to weather changes\", \"narrative\": \"seeking range of information about the SARS-CoV-2 virus viability in different weather/climate conditions as well as information related to transmission of the virus in different climate conditions\"}}\n",
            "{\"_id\": \"3\", \"text\": \"will SARS-CoV2 infected people develop immunity? Is cross protection possible?\", \"metadata\": {\"query\": \"coronavirus immunity\", \"narrative\": \"seeking studies of immunity developed due to infection with SARS-CoV2 or cross protection gained due to infection with other coronavirus types\"}}\n",
            "{\"_id\": \"4\", \"text\": \"what causes death from Covid-19?\", \"metadata\": {\"query\": \"how do people die from the coronavirus\", \"narrative\": \"Studies looking at mechanisms of death from Covid-19.\"}}\n",
            "{\"_id\": \"5\", \"text\": \"what drugs have been active against SARS-CoV or SARS-CoV-2 in animal studies?\", \"metadata\": {\"query\": \"animal models of COVID-19\", \"narrative\": \"Papers that describe the results  of testing drugs that bind to spike proteins of the virus or any other drugs in any animal models. Papers about SARS-CoV-2 infection in cell culture assays are also relevant.\"}}\n",
            "{\"_id\": \"6\", \"text\": \"what types of rapid testing for Covid-19 have been developed?\", \"metadata\": {\"query\": \"coronavirus test rapid testing\", \"narrative\": \"Looking for studies identifying ways to diagnose Covid-19 more rapidly.\"}}\n",
            "{\"_id\": \"7\", \"text\": \"are there serological tests that detect antibodies to coronavirus?\", \"metadata\": {\"query\": \"serological tests for coronavirus\", \"narrative\": \"Looking for assays that measure immune response to COVID-19 that will help determine past infection and subsequent possible immunity.\"}}\n",
            "{\"_id\": \"8\", \"text\": \"how has lack of testing availability led to underreporting of true incidence of Covid-19?\", \"metadata\": {\"query\": \"coronavirus under reporting\", \"narrative\": \"Looking for studies answering questions of impact of lack of complete testing for Covid-19 on incidence and prevalence of Covid-19.\"}}\n",
            "{\"_id\": \"9\", \"text\": \"how has COVID-19 affected Canada\", \"metadata\": {\"query\": \"coronavirus in Canada\", \"narrative\": \"seeking data related to infections (confirm, suspected, and projected) and health outcomes (symptoms, hospitalization, intensive care, mortality)\"}}\n",
            "{\"_id\": \"10\", \"text\": \"has social distancing had an impact on slowing the spread of COVID-19?\", \"metadata\": {\"query\": \"coronavirus social distancing impact\", \"narrative\": \"seeking specific information on studies that have measured COVID-19's transmission in one or more social distancing (or non-social distancing) approaches\"}}\n"
          ]
        }
      ]
    },
    {
      "cell_type": "code",
      "source": [
        "query_ids = []\n",
        "query_texts = []\n",
        "\n",
        "with jsonlines.open(f\"{main_dir}/trec-covid/queries.jsonl\") as reader:\n",
        "  for item in reader:\n",
        "    id = item[\"_id\"]\n",
        "    query_ids.append(id)\n",
        "    text = item[\"text\"]\n",
        "    query_texts.append(text)"
      ],
      "metadata": {
        "id": "OEvL6t60toEp"
      },
      "execution_count": null,
      "outputs": []
    },
    {
      "cell_type": "markdown",
      "source": [
        "## Few-shot learning"
      ],
      "metadata": {
        "id": "E0NaTG5-G5tv"
      }
    },
    {
      "cell_type": "code",
      "source": [
        "import jsonlines\n",
        "\n",
        "passage_ids = []\n",
        "passage_texts = []\n",
        "\n",
        "with jsonlines.open(f\"{main_dir}/trec-covid/corpus.jsonl\") as reader:\n",
        "  for item in reader:\n",
        "    id = item[\"_id\"]\n",
        "    passage_ids.append(id)\n",
        "    text = item[\"title\"] + ' ' + item[\"text\"]\n",
        "    passage_texts.append(text)"
      ],
      "metadata": {
        "id": "9VABC6G8WDts"
      },
      "execution_count": null,
      "outputs": []
    },
    {
      "cell_type": "code",
      "source": [
        "n_examples = 5\n",
        "min_doc_length = 300 #I use the same limit for choosing the prompt documents, but I don't know if it's necessary.  I may be harmful to the maximum input size supported by GPT 3.5\n",
        "n_documents = 1000"
      ],
      "metadata": {
        "id": "EHhoA67QW0VJ"
      },
      "execution_count": null,
      "outputs": []
    },
    {
      "cell_type": "code",
      "source": [
        "!head {main_dir}/trec-covid/test.tsv"
      ],
      "metadata": {
        "colab": {
          "base_uri": "https://localhost:8080/"
        },
        "id": "JpwsT4zvpJru",
        "outputId": "78ff93e0-b747-4ddc-c4e6-59ad0ba19b4d"
      },
      "execution_count": null,
      "outputs": [
        {
          "output_type": "stream",
          "name": "stdout",
          "text": [
            "query-id\tcorpus-id\tscore\r\n",
            "1\t005b2j4b\t2\r\n",
            "1\t00fmeepz\t1\r\n",
            "1\tg7dhmyyo\t2\r\n",
            "1\t0194oljo\t1\r\n",
            "1\t021q9884\t1\r\n",
            "1\t02f0opkr\t1\r\n",
            "1\t047xpt2c\t0\r\n",
            "1\t04ftw7k9\t0\r\n",
            "1\tpl9ht0d0\t0\r\n"
          ]
        }
      ]
    },
    {
      "cell_type": "code",
      "source": [
        "import pandas as pd\n",
        "\n",
        "df = pd.read_csv(f\"{main_dir}/trec-covid/test.tsv\", sep='\\t')\n",
        "max_score = df[\"score\"].max()\n",
        "df.shape"
      ],
      "metadata": {
        "colab": {
          "base_uri": "https://localhost:8080/"
        },
        "id": "0eUKnp_MxZp0",
        "outputId": "e7fd6db5-b047-4656-ac1c-4be52bd2f707"
      },
      "execution_count": null,
      "outputs": [
        {
          "output_type": "execute_result",
          "data": {
            "text/plain": [
              "(66336, 3)"
            ]
          },
          "metadata": {},
          "execution_count": 157
        }
      ]
    },
    {
      "cell_type": "code",
      "source": [
        "df.head()"
      ],
      "metadata": {
        "colab": {
          "base_uri": "https://localhost:8080/",
          "height": 206
        },
        "id": "90D5OWJOxuM5",
        "outputId": "e5b71d57-4124-4d58-bec1-fc7a40d7fd1e"
      },
      "execution_count": null,
      "outputs": [
        {
          "output_type": "execute_result",
          "data": {
            "text/plain": [
              "   query-id corpus-id  score\n",
              "0         1  005b2j4b      2\n",
              "1         1  00fmeepz      1\n",
              "2         1  g7dhmyyo      2\n",
              "3         1  0194oljo      1\n",
              "4         1  021q9884      1"
            ],
            "text/html": [
              "\n",
              "  <div id=\"df-418f3dc7-62ad-4af6-82b8-486ba3f3a7b1\">\n",
              "    <div class=\"colab-df-container\">\n",
              "      <div>\n",
              "<style scoped>\n",
              "    .dataframe tbody tr th:only-of-type {\n",
              "        vertical-align: middle;\n",
              "    }\n",
              "\n",
              "    .dataframe tbody tr th {\n",
              "        vertical-align: top;\n",
              "    }\n",
              "\n",
              "    .dataframe thead th {\n",
              "        text-align: right;\n",
              "    }\n",
              "</style>\n",
              "<table border=\"1\" class=\"dataframe\">\n",
              "  <thead>\n",
              "    <tr style=\"text-align: right;\">\n",
              "      <th></th>\n",
              "      <th>query-id</th>\n",
              "      <th>corpus-id</th>\n",
              "      <th>score</th>\n",
              "    </tr>\n",
              "  </thead>\n",
              "  <tbody>\n",
              "    <tr>\n",
              "      <th>0</th>\n",
              "      <td>1</td>\n",
              "      <td>005b2j4b</td>\n",
              "      <td>2</td>\n",
              "    </tr>\n",
              "    <tr>\n",
              "      <th>1</th>\n",
              "      <td>1</td>\n",
              "      <td>00fmeepz</td>\n",
              "      <td>1</td>\n",
              "    </tr>\n",
              "    <tr>\n",
              "      <th>2</th>\n",
              "      <td>1</td>\n",
              "      <td>g7dhmyyo</td>\n",
              "      <td>2</td>\n",
              "    </tr>\n",
              "    <tr>\n",
              "      <th>3</th>\n",
              "      <td>1</td>\n",
              "      <td>0194oljo</td>\n",
              "      <td>1</td>\n",
              "    </tr>\n",
              "    <tr>\n",
              "      <th>4</th>\n",
              "      <td>1</td>\n",
              "      <td>021q9884</td>\n",
              "      <td>1</td>\n",
              "    </tr>\n",
              "  </tbody>\n",
              "</table>\n",
              "</div>\n",
              "      <button class=\"colab-df-convert\" onclick=\"convertToInteractive('df-418f3dc7-62ad-4af6-82b8-486ba3f3a7b1')\"\n",
              "              title=\"Convert this dataframe to an interactive table.\"\n",
              "              style=\"display:none;\">\n",
              "        \n",
              "  <svg xmlns=\"http://www.w3.org/2000/svg\" height=\"24px\"viewBox=\"0 0 24 24\"\n",
              "       width=\"24px\">\n",
              "    <path d=\"M0 0h24v24H0V0z\" fill=\"none\"/>\n",
              "    <path d=\"M18.56 5.44l.94 2.06.94-2.06 2.06-.94-2.06-.94-.94-2.06-.94 2.06-2.06.94zm-11 1L8.5 8.5l.94-2.06 2.06-.94-2.06-.94L8.5 2.5l-.94 2.06-2.06.94zm10 10l.94 2.06.94-2.06 2.06-.94-2.06-.94-.94-2.06-.94 2.06-2.06.94z\"/><path d=\"M17.41 7.96l-1.37-1.37c-.4-.4-.92-.59-1.43-.59-.52 0-1.04.2-1.43.59L10.3 9.45l-7.72 7.72c-.78.78-.78 2.05 0 2.83L4 21.41c.39.39.9.59 1.41.59.51 0 1.02-.2 1.41-.59l7.78-7.78 2.81-2.81c.8-.78.8-2.07 0-2.86zM5.41 20L4 18.59l7.72-7.72 1.47 1.35L5.41 20z\"/>\n",
              "  </svg>\n",
              "      </button>\n",
              "      \n",
              "  <style>\n",
              "    .colab-df-container {\n",
              "      display:flex;\n",
              "      flex-wrap:wrap;\n",
              "      gap: 12px;\n",
              "    }\n",
              "\n",
              "    .colab-df-convert {\n",
              "      background-color: #E8F0FE;\n",
              "      border: none;\n",
              "      border-radius: 50%;\n",
              "      cursor: pointer;\n",
              "      display: none;\n",
              "      fill: #1967D2;\n",
              "      height: 32px;\n",
              "      padding: 0 0 0 0;\n",
              "      width: 32px;\n",
              "    }\n",
              "\n",
              "    .colab-df-convert:hover {\n",
              "      background-color: #E2EBFA;\n",
              "      box-shadow: 0px 1px 2px rgba(60, 64, 67, 0.3), 0px 1px 3px 1px rgba(60, 64, 67, 0.15);\n",
              "      fill: #174EA6;\n",
              "    }\n",
              "\n",
              "    [theme=dark] .colab-df-convert {\n",
              "      background-color: #3B4455;\n",
              "      fill: #D2E3FC;\n",
              "    }\n",
              "\n",
              "    [theme=dark] .colab-df-convert:hover {\n",
              "      background-color: #434B5C;\n",
              "      box-shadow: 0px 1px 3px 1px rgba(0, 0, 0, 0.15);\n",
              "      filter: drop-shadow(0px 1px 2px rgba(0, 0, 0, 0.3));\n",
              "      fill: #FFFFFF;\n",
              "    }\n",
              "  </style>\n",
              "\n",
              "      <script>\n",
              "        const buttonEl =\n",
              "          document.querySelector('#df-418f3dc7-62ad-4af6-82b8-486ba3f3a7b1 button.colab-df-convert');\n",
              "        buttonEl.style.display =\n",
              "          google.colab.kernel.accessAllowed ? 'block' : 'none';\n",
              "\n",
              "        async function convertToInteractive(key) {\n",
              "          const element = document.querySelector('#df-418f3dc7-62ad-4af6-82b8-486ba3f3a7b1');\n",
              "          const dataTable =\n",
              "            await google.colab.kernel.invokeFunction('convertToInteractive',\n",
              "                                                     [key], {});\n",
              "          if (!dataTable) return;\n",
              "\n",
              "          const docLinkHtml = 'Like what you see? Visit the ' +\n",
              "            '<a target=\"_blank\" href=https://colab.research.google.com/notebooks/data_table.ipynb>data table notebook</a>'\n",
              "            + ' to learn more about interactive tables.';\n",
              "          element.innerHTML = '';\n",
              "          dataTable['output_type'] = 'display_data';\n",
              "          await google.colab.output.renderOutput(dataTable, element);\n",
              "          const docLink = document.createElement('div');\n",
              "          docLink.innerHTML = docLinkHtml;\n",
              "          element.appendChild(docLink);\n",
              "        }\n",
              "      </script>\n",
              "    </div>\n",
              "  </div>\n",
              "  "
            ]
          },
          "metadata": {},
          "execution_count": 95
        }
      ]
    },
    {
      "cell_type": "code",
      "source": [
        "df = df[df[\"score\"] == max_score]"
      ],
      "metadata": {
        "id": "5GxWc70ryB5K"
      },
      "execution_count": null,
      "outputs": []
    },
    {
      "cell_type": "code",
      "source": [
        "df.shape"
      ],
      "metadata": {
        "colab": {
          "base_uri": "https://localhost:8080/"
        },
        "id": "xGLJUAe6yRCO",
        "outputId": "c53da94a-805e-45bd-db69-5ea4767ba967"
      },
      "execution_count": null,
      "outputs": [
        {
          "output_type": "execute_result",
          "data": {
            "text/plain": [
              "(14217, 3)"
            ]
          },
          "metadata": {},
          "execution_count": 159
        }
      ]
    },
    {
      "cell_type": "code",
      "source": [
        "import random\n",
        "\n",
        "random.seed(15)\n",
        "df_selected = None\n",
        "texts = []\n",
        "\n",
        "#Tries to sample 3 examples with maximum relevance score until we get 3 samples \n",
        "#with at least 300 characters.\n",
        "while(True):\n",
        "  random_indices = random.sample(range(df.shape[0]), n_examples)\n",
        "  df_selected = df.iloc[random_indices]\n",
        "  corpus_ids = df_selected[\"corpus-id\"]\n",
        "  for id in corpus_ids:\n",
        "    text = passage_texts[passage_ids.index(id)]\n",
        "    if len(text) < min_doc_length:\n",
        "      continue\n",
        "    texts.append(text)\n",
        "  break\n",
        "\n",
        "df_selected"
      ],
      "metadata": {
        "colab": {
          "base_uri": "https://localhost:8080/",
          "height": 206
        },
        "id": "E5Bj2hB5xPOV",
        "outputId": "d9c88a0d-0d53-45cb-c04a-b600b7890ecb"
      },
      "execution_count": null,
      "outputs": [
        {
          "output_type": "execute_result",
          "data": {
            "text/plain": [
              "       query-id corpus-id  score\n",
              "18344        12  szsb1oan      2\n",
              "970           1  ltar1aa5      2\n",
              "41968        29  gwm36n75      2\n",
              "57889        41  e76foj38      2\n",
              "3180          3  7n6pva1l      2"
            ],
            "text/html": [
              "\n",
              "  <div id=\"df-96f9a8b4-d387-435c-80bb-5c6665627949\">\n",
              "    <div class=\"colab-df-container\">\n",
              "      <div>\n",
              "<style scoped>\n",
              "    .dataframe tbody tr th:only-of-type {\n",
              "        vertical-align: middle;\n",
              "    }\n",
              "\n",
              "    .dataframe tbody tr th {\n",
              "        vertical-align: top;\n",
              "    }\n",
              "\n",
              "    .dataframe thead th {\n",
              "        text-align: right;\n",
              "    }\n",
              "</style>\n",
              "<table border=\"1\" class=\"dataframe\">\n",
              "  <thead>\n",
              "    <tr style=\"text-align: right;\">\n",
              "      <th></th>\n",
              "      <th>query-id</th>\n",
              "      <th>corpus-id</th>\n",
              "      <th>score</th>\n",
              "    </tr>\n",
              "  </thead>\n",
              "  <tbody>\n",
              "    <tr>\n",
              "      <th>18344</th>\n",
              "      <td>12</td>\n",
              "      <td>szsb1oan</td>\n",
              "      <td>2</td>\n",
              "    </tr>\n",
              "    <tr>\n",
              "      <th>970</th>\n",
              "      <td>1</td>\n",
              "      <td>ltar1aa5</td>\n",
              "      <td>2</td>\n",
              "    </tr>\n",
              "    <tr>\n",
              "      <th>41968</th>\n",
              "      <td>29</td>\n",
              "      <td>gwm36n75</td>\n",
              "      <td>2</td>\n",
              "    </tr>\n",
              "    <tr>\n",
              "      <th>57889</th>\n",
              "      <td>41</td>\n",
              "      <td>e76foj38</td>\n",
              "      <td>2</td>\n",
              "    </tr>\n",
              "    <tr>\n",
              "      <th>3180</th>\n",
              "      <td>3</td>\n",
              "      <td>7n6pva1l</td>\n",
              "      <td>2</td>\n",
              "    </tr>\n",
              "  </tbody>\n",
              "</table>\n",
              "</div>\n",
              "      <button class=\"colab-df-convert\" onclick=\"convertToInteractive('df-96f9a8b4-d387-435c-80bb-5c6665627949')\"\n",
              "              title=\"Convert this dataframe to an interactive table.\"\n",
              "              style=\"display:none;\">\n",
              "        \n",
              "  <svg xmlns=\"http://www.w3.org/2000/svg\" height=\"24px\"viewBox=\"0 0 24 24\"\n",
              "       width=\"24px\">\n",
              "    <path d=\"M0 0h24v24H0V0z\" fill=\"none\"/>\n",
              "    <path d=\"M18.56 5.44l.94 2.06.94-2.06 2.06-.94-2.06-.94-.94-2.06-.94 2.06-2.06.94zm-11 1L8.5 8.5l.94-2.06 2.06-.94-2.06-.94L8.5 2.5l-.94 2.06-2.06.94zm10 10l.94 2.06.94-2.06 2.06-.94-2.06-.94-.94-2.06-.94 2.06-2.06.94z\"/><path d=\"M17.41 7.96l-1.37-1.37c-.4-.4-.92-.59-1.43-.59-.52 0-1.04.2-1.43.59L10.3 9.45l-7.72 7.72c-.78.78-.78 2.05 0 2.83L4 21.41c.39.39.9.59 1.41.59.51 0 1.02-.2 1.41-.59l7.78-7.78 2.81-2.81c.8-.78.8-2.07 0-2.86zM5.41 20L4 18.59l7.72-7.72 1.47 1.35L5.41 20z\"/>\n",
              "  </svg>\n",
              "      </button>\n",
              "      \n",
              "  <style>\n",
              "    .colab-df-container {\n",
              "      display:flex;\n",
              "      flex-wrap:wrap;\n",
              "      gap: 12px;\n",
              "    }\n",
              "\n",
              "    .colab-df-convert {\n",
              "      background-color: #E8F0FE;\n",
              "      border: none;\n",
              "      border-radius: 50%;\n",
              "      cursor: pointer;\n",
              "      display: none;\n",
              "      fill: #1967D2;\n",
              "      height: 32px;\n",
              "      padding: 0 0 0 0;\n",
              "      width: 32px;\n",
              "    }\n",
              "\n",
              "    .colab-df-convert:hover {\n",
              "      background-color: #E2EBFA;\n",
              "      box-shadow: 0px 1px 2px rgba(60, 64, 67, 0.3), 0px 1px 3px 1px rgba(60, 64, 67, 0.15);\n",
              "      fill: #174EA6;\n",
              "    }\n",
              "\n",
              "    [theme=dark] .colab-df-convert {\n",
              "      background-color: #3B4455;\n",
              "      fill: #D2E3FC;\n",
              "    }\n",
              "\n",
              "    [theme=dark] .colab-df-convert:hover {\n",
              "      background-color: #434B5C;\n",
              "      box-shadow: 0px 1px 3px 1px rgba(0, 0, 0, 0.15);\n",
              "      filter: drop-shadow(0px 1px 2px rgba(0, 0, 0, 0.3));\n",
              "      fill: #FFFFFF;\n",
              "    }\n",
              "  </style>\n",
              "\n",
              "      <script>\n",
              "        const buttonEl =\n",
              "          document.querySelector('#df-96f9a8b4-d387-435c-80bb-5c6665627949 button.colab-df-convert');\n",
              "        buttonEl.style.display =\n",
              "          google.colab.kernel.accessAllowed ? 'block' : 'none';\n",
              "\n",
              "        async function convertToInteractive(key) {\n",
              "          const element = document.querySelector('#df-96f9a8b4-d387-435c-80bb-5c6665627949');\n",
              "          const dataTable =\n",
              "            await google.colab.kernel.invokeFunction('convertToInteractive',\n",
              "                                                     [key], {});\n",
              "          if (!dataTable) return;\n",
              "\n",
              "          const docLinkHtml = 'Like what you see? Visit the ' +\n",
              "            '<a target=\"_blank\" href=https://colab.research.google.com/notebooks/data_table.ipynb>data table notebook</a>'\n",
              "            + ' to learn more about interactive tables.';\n",
              "          element.innerHTML = '';\n",
              "          dataTable['output_type'] = 'display_data';\n",
              "          await google.colab.output.renderOutput(dataTable, element);\n",
              "          const docLink = document.createElement('div');\n",
              "          docLink.innerHTML = docLinkHtml;\n",
              "          element.appendChild(docLink);\n",
              "        }\n",
              "      </script>\n",
              "    </div>\n",
              "  </div>\n",
              "  "
            ]
          },
          "metadata": {},
          "execution_count": 160
        }
      ]
    },
    {
      "cell_type": "code",
      "source": [
        "query_texts[11]"
      ],
      "metadata": {
        "colab": {
          "base_uri": "https://localhost:8080/",
          "height": 36
        },
        "id": "CKW8Hlfgtr0k",
        "outputId": "980572c0-bcb6-439e-e2cb-b1cb2e3d8c20"
      },
      "execution_count": null,
      "outputs": [
        {
          "output_type": "execute_result",
          "data": {
            "text/plain": [
              "'what are best practices in hospitals and at home in maintaining quarantine?'"
            ],
            "application/vnd.google.colaboratory.intrinsic+json": {
              "type": "string"
            }
          },
          "metadata": {},
          "execution_count": 109
        }
      ]
    },
    {
      "cell_type": "code",
      "source": [
        "passage_texts[passage_ids.index(\"szsb1oan\")]"
      ],
      "metadata": {
        "colab": {
          "base_uri": "https://localhost:8080/",
          "height": 244
        },
        "id": "OeC1FcjFuD0s",
        "outputId": "d8e27176-dc18-41e7-b5bf-75db0f85a751"
      },
      "execution_count": null,
      "outputs": [
        {
          "output_type": "execute_result",
          "data": {
            "text/plain": [
              "'The deadly coronaviruses: The 2003 SARS pandemic and the 2020 novel coronavirus epidemic in China Abstract The 2019-nCoV is officially called SARS-CoV-2 and the disease is named COVID-19. This viral epidemic in China has led to the deaths of over 1800 people, mostly elderly or those with an underlying chronic disease or immunosuppressed state. This is the third serious Coronavirus outbreak in less than 20 years, following SARS in 2002–2003 and MERS in 2012. While human strains of Coronavirus are associated with about 15% of cases of the common cold, the SARS-CoV-2 may present with varying degrees of severity, from flu-like symptoms to death. It is currently believed that this deadly Coronavirus strain originated from wild animals at the Huanan market in Wuhan, a city in Hubei province. Bats, snakes and pangolins have been cited as potential carriers based on the sequence homology of CoV isolated from these animals and the viral nucleic acids of the virus isolated from SARS-CoV-2 infected patients. Extreme quarantine measures, including sealing off large cities, closing borders and confining people to their homes, were instituted in January 2020 to prevent spread of the virus, but by that time much of the damage had been done, as human-human transmission became evident. While these quarantine measures are necessary and have prevented a historical disaster along the lines of the Spanish flu, earlier recognition and earlier implementation of quarantine measures may have been even more effective. Lessons learned from SARS resulted in faster determination of the nucleic acid sequence and a more robust quarantine strategy. However, it is clear that finding an effective antiviral and developing a vaccine are still significant challenges. The costs of the epidemic are not limited to medical aspects, as the virus has led to significant sociological, psychological and economic effects globally. Unfortunately, emergence of SARS-CoV-2 has led to numerous reports of Asians being subjected to racist behavior and hate crimes across the world.'"
            ],
            "application/vnd.google.colaboratory.intrinsic+json": {
              "type": "string"
            }
          },
          "metadata": {},
          "execution_count": 107
        }
      ]
    },
    {
      "cell_type": "code",
      "source": [
        "query_texts[0]"
      ],
      "metadata": {
        "colab": {
          "base_uri": "https://localhost:8080/",
          "height": 36
        },
        "id": "tYK4uWYMv3sY",
        "outputId": "08a67268-a5c4-43cf-a961-005cce5db2cc"
      },
      "execution_count": null,
      "outputs": [
        {
          "output_type": "execute_result",
          "data": {
            "text/plain": [
              "'what is the origin of COVID-19'"
            ],
            "application/vnd.google.colaboratory.intrinsic+json": {
              "type": "string"
            }
          },
          "metadata": {},
          "execution_count": 111
        }
      ]
    },
    {
      "cell_type": "code",
      "source": [
        "passage_texts[passage_ids.index(\"ltar1aa5\")]"
      ],
      "metadata": {
        "colab": {
          "base_uri": "https://localhost:8080/",
          "height": 122
        },
        "id": "fwfH3biMv8vb",
        "outputId": "ccd898a8-52f0-4856-f321-b7d08309195f"
      },
      "execution_count": null,
      "outputs": [
        {
          "output_type": "execute_result",
          "data": {
            "text/plain": [
              "'Phylogenomic proximity and comparative proteomic analysis of SARS-CoV-2 The coronavirus disease (COVID-19) belongs to the family Severe Acute Respiratory Syndrome (SARS-CoV). It can be more severe for some persons and can lead to pneumonia or breathing difficulties resulting in the death of immune-compromised patients. We performed a phylogenomic and phylogeographic tree from the collected datasets. Phylogenomic analysis or sequence-based phylogeny showed an evolutionary relationship between the geographical strains. The phylogenomic tree grouped into two major clades consists of various isolates of SARS-CoV-2 and Bat SARS-like coronavirus, Bat coronavirus, and Pangolin coronavirus. The phylogenetic neighbor of newly sequenced Indian strains (Accession: MT012098.1, MT050493.1) was revealed to identify the variations between the nCoV-19 strains. The results showed keen evidence that SARS-CoV-2 has evolved from Bat SARS-like coronavirus. The evolutionary history and comparative proteomic analysis provide a new avenue for the current scientific research related to the coronavirus.'"
            ],
            "application/vnd.google.colaboratory.intrinsic+json": {
              "type": "string"
            }
          },
          "metadata": {},
          "execution_count": 110
        }
      ]
    },
    {
      "cell_type": "code",
      "source": [
        "query_texts[28]"
      ],
      "metadata": {
        "colab": {
          "base_uri": "https://localhost:8080/",
          "height": 36
        },
        "id": "c4iB2gf81TDZ",
        "outputId": "11b71ac7-9ec6-4492-c6b3-24068e496b24"
      },
      "execution_count": null,
      "outputs": [
        {
          "output_type": "execute_result",
          "data": {
            "text/plain": [
              "'which SARS-CoV-2 proteins-human proteins interactions indicate potential for drug targets. Are there approved drugs that can be repurposed based on this information?'"
            ],
            "application/vnd.google.colaboratory.intrinsic+json": {
              "type": "string"
            }
          },
          "metadata": {},
          "execution_count": 112
        }
      ]
    },
    {
      "cell_type": "markdown",
      "source": [
        "This document (gwm36n75) is generating a strong bias to chloroquine and hydroxychloroquine, so it'll be removed."
      ],
      "metadata": {
        "id": "sVXmf68FMZj-"
      }
    },
    {
      "cell_type": "code",
      "source": [
        "passage_texts[passage_ids.index(\"gwm36n75\")]"
      ],
      "metadata": {
        "colab": {
          "base_uri": "https://localhost:8080/",
          "height": 122
        },
        "id": "W-c8CJGuwT8n",
        "outputId": "28096a99-7365-4e3e-8199-845e1e62d057"
      },
      "execution_count": null,
      "outputs": [
        {
          "output_type": "execute_result",
          "data": {
            "text/plain": [
              "'Docking study of Chloroquine and Hydroxychloroquine interaction with SARS-CoV-2 spike glycoprotein-An in silico insight into the comparative efficacy of repurposing antiviral drugs. Recent outbreak of novel Coronavirus disease (Covid-19) pandemic around the world is associated with severe acute respiratory syndrome. The death toll associated with the pandemic is increasing day by day. SARS-CoV-2 is an enveloped virus and there are ample evidences that its Spike protein (S-protein) is mainly associated with pathogenesis as it is surface-exposed and mediates entry into host cells by binding to angiotensin-converting enzyme-2 (ACE-2) receptor. Therefore, it is the main target of neutralizing antibodies upon infection and there is always a quest to inhibit the S-protein which in turn may help in controlling diseases caused by SARS-CoV-2 in humans. The role of Chloroquine and Hydroxychloroquine as potential treatments for Covid-19 is still under debate globally because of some side effects associated with it. This study involves the In silico interactions of Chloroquine and Hydroxychloroquine with the S-protein of SARS-CoV-2. With the help of various computational methods, we have re-explored the potential role of both of these antiviral drugs for the treatment of Covid-19 patients by comparing the efficacy of both of the drugs to bind to S-protein at its host receptor region. In our research Hydroxychloroquine exhibited potential inhibitory effectsof S-protein with binding energy -7.28 kcal/mol than Chloroquine (-6.30 kcal/mol) at SARS-CoV-2 receptor recognition of susceptible cells. The outcomes of this research strongly appeal for in vivo trials of Hydroxychloroquine for the patients infected with Covid-19. Furthermore, the recommended doses of Hydroxychloroquine may reduce the chances of catching Covid-19 to the healthcare workers and staff who are in contact with or delivering direct care to coronavirus patients as long as they have not been diagnosed with Covid-19. We further hypothesize that the comparative S-protein-drug docking interactions may help to understand the comparative efficacy of other candidate repurposing drugs until discovery of a proper vaccine.'"
            ],
            "application/vnd.google.colaboratory.intrinsic+json": {
              "type": "string"
            }
          },
          "metadata": {},
          "execution_count": 113
        }
      ]
    },
    {
      "cell_type": "code",
      "source": [
        "query_texts[40]"
      ],
      "metadata": {
        "colab": {
          "base_uri": "https://localhost:8080/",
          "height": 36
        },
        "id": "Ypssz9caMspP",
        "outputId": "c1057ada-06ce-4d9e-d851-eda965fbe857"
      },
      "execution_count": null,
      "outputs": [
        {
          "output_type": "execute_result",
          "data": {
            "text/plain": [
              "'What are the impacts of COVID-19 among African-Americans that differ from the rest of the U.S. population?'"
            ],
            "application/vnd.google.colaboratory.intrinsic+json": {
              "type": "string"
            }
          },
          "metadata": {},
          "execution_count": 161
        }
      ]
    },
    {
      "cell_type": "code",
      "source": [
        "passage_texts[passage_ids.index(\"e76foj38\")]"
      ],
      "metadata": {
        "colab": {
          "base_uri": "https://localhost:8080/",
          "height": 122
        },
        "id": "j4VO0YopMyJb",
        "outputId": "35870a7f-1f0b-4c29-9a95-8ac6872affed"
      },
      "execution_count": null,
      "outputs": [
        {
          "output_type": "execute_result",
          "data": {
            "text/plain": [
              "'Hospitalization and Mortality among Black Patients and White Patients with Covid-19 BACKGROUND: Many reports on coronavirus disease 2019 (Covid-19) have highlighted age- and sex-related differences in health outcomes. More information is needed about racial and ethnic differences in outcomes from Covid-19. METHODS: In this retrospective cohort study, we analyzed data from patients seen within an integrated-delivery health system (Ochsner Health) in Louisiana between March 1 and April 11, 2020, who tested positive for severe acute respiratory syndrome coronavirus 2 (SARS-CoV-2, the virus that causes Covid-19) on qualitative polymerase-chain-reaction assay. The Ochsner Health population is 31% black non-Hispanic and 65% white non-Hispanic. The primary outcomes were hospitalization and in-hospital death. RESULTS: A total of 3626 patients tested positive, of whom 145 were excluded (84 had missing data on race or ethnic group, 9 were Hispanic, and 52 were Asian or of another race or ethnic group). Of the 3481 Covid-19-positive patients included in our analyses, 60.0% were female, 70.4% were black non-Hispanic, and 29.6% were white non-Hispanic. Black patients had higher prevalences of obesity, diabetes, hypertension, and chronic kidney disease than white patients. A total of 39.7% of Covid-19-positive patients (1382 patients) were hospitalized, 76.9% of whom were black. In multivariable analyses, black race, increasing age, a higher score on the Charlson Comorbidity Index (indicating a greater burden of illness), public insurance (Medicare or Medicaid), residence in a low-income area, and obesity were associated with increased odds of hospital admission. Among the 326 patients who died from Covid-19, 70.6% were black. In adjusted time-to-event analyses, variables that were associated with higher in-hospital mortality were increasing age and presentation with an elevated respiratory rate; elevated levels of venous lactate, creatinine, or procalcitonin; or low platelet or lymphocyte counts. However, black race was not independently associated with higher mortality (hazard ratio for death vs. white race, 0.89; 95% confidence interval, 0.68 to 1.17). CONCLUSIONS: In a large cohort in Louisiana, 76.9% of the patients who were hospitalized with Covid-19 and 70.6% of those who died were black, whereas blacks comprise only 31% of the Ochsner Health population. Black race was not associated with higher in-hospital mortality than white race, after adjustment for differences in sociodemographic and clinical characteristics on admission.'"
            ],
            "application/vnd.google.colaboratory.intrinsic+json": {
              "type": "string"
            }
          },
          "metadata": {},
          "execution_count": 162
        }
      ]
    },
    {
      "cell_type": "code",
      "source": [
        "new_queries = [\"how important are quarantime measures\", \n",
        "               \"what are COVID-19 biological affiliations\", \n",
        "               \"how does COVID-19 impact african-americans when compared to the rest of the USA population\"]"
      ],
      "metadata": {
        "id": "s1N7oR-W2Fqc"
      },
      "execution_count": null,
      "outputs": []
    },
    {
      "cell_type": "code",
      "source": [
        "texts = [\n",
        "    passage_texts[passage_ids.index(\"szsb1oan\")], \n",
        "    passage_texts[passage_ids.index(\"ltar1aa5\")], \n",
        "    passage_texts[passage_ids.index(\"e76foj38\")]\n",
        "    ]\n",
        "ids = [\"szsb1oan\", \"ltar1aa5\", \"e76foj38\"]"
      ],
      "metadata": {
        "id": "qGKjzG05NiMi"
      },
      "execution_count": null,
      "outputs": []
    },
    {
      "cell_type": "code",
      "source": [
        "\n",
        "guidelines_prompt = \"Generate one relevant query whose answer is contained in the document.  Your query can start with what, which, how or when.  \"\n",
        "guidelines_prompt += \"Here are some examples:\"\n",
        "for i in range(3):\n",
        "  guidelines_prompt += f\"\\nDocument: {texts[i]}\\n\"\n",
        "  guidelines_prompt += f\"Relevant query: {new_queries[i]}\"\n",
        "\n",
        "documents = []\n",
        "random_indices = random.sample(range(len(passage_texts)), n_documents * 2)\n",
        "documents = [(passage_ids[i], passage_texts[i]) for i in random_indices \n",
        "             if len(passage_texts[i]) >= min_doc_length]\n",
        "print(len(documents))\n",
        "documents = documents[:1000]\n"
      ],
      "metadata": {
        "colab": {
          "base_uri": "https://localhost:8080/"
        },
        "id": "P5wJ8Q4wHOGF",
        "outputId": "9d95de60-861a-4695-9b4c-4eac53c8bd85"
      },
      "execution_count": null,
      "outputs": [
        {
          "output_type": "stream",
          "name": "stdout",
          "text": [
            "1470\n"
          ]
        }
      ]
    },
    {
      "cell_type": "code",
      "source": [
        "key = input(\"Key:\")"
      ],
      "metadata": {
        "id": "kLMiFyugAtig"
      },
      "execution_count": null,
      "outputs": []
    },
    {
      "cell_type": "code",
      "source": [
        "\n",
        "import openai\n",
        "\n",
        "openai.api_key = key\n",
        "\n",
        "def openai_chat_completion_response(final_prompt):\n",
        "  response = openai.ChatCompletion.create(\n",
        "              model=\"gpt-3.5-turbo\",\n",
        "              messages=[\n",
        "                    {\"role\": \"system\", \"content\": \"You are generating a new dataset for information retrieval\"},\n",
        "                    {\"role\": \"user\", \"content\": final_prompt}\n",
        "                ]\n",
        "            )\n",
        "\n",
        "  return response"
      ],
      "metadata": {
        "id": "gavwly2eG_Ds"
      },
      "execution_count": null,
      "outputs": []
    },
    {
      "cell_type": "code",
      "source": [
        "responses = []"
      ],
      "metadata": {
        "id": "8XMM4R9ZDoGw"
      },
      "execution_count": null,
      "outputs": []
    },
    {
      "cell_type": "code",
      "source": [
        "print(guidelines_prompt)"
      ],
      "metadata": {
        "colab": {
          "base_uri": "https://localhost:8080/"
        },
        "id": "VKi1tl2WKseY",
        "outputId": "0831959f-fa2f-4c44-e1e2-418afdf2e791"
      },
      "execution_count": null,
      "outputs": [
        {
          "output_type": "stream",
          "name": "stdout",
          "text": [
            "Generate one relevant query whose answer is contained in the document.  Your query can start with what, which, how or when.  Here are some examples:\n",
            "Document: The deadly coronaviruses: The 2003 SARS pandemic and the 2020 novel coronavirus epidemic in China Abstract The 2019-nCoV is officially called SARS-CoV-2 and the disease is named COVID-19. This viral epidemic in China has led to the deaths of over 1800 people, mostly elderly or those with an underlying chronic disease or immunosuppressed state. This is the third serious Coronavirus outbreak in less than 20 years, following SARS in 2002–2003 and MERS in 2012. While human strains of Coronavirus are associated with about 15% of cases of the common cold, the SARS-CoV-2 may present with varying degrees of severity, from flu-like symptoms to death. It is currently believed that this deadly Coronavirus strain originated from wild animals at the Huanan market in Wuhan, a city in Hubei province. Bats, snakes and pangolins have been cited as potential carriers based on the sequence homology of CoV isolated from these animals and the viral nucleic acids of the virus isolated from SARS-CoV-2 infected patients. Extreme quarantine measures, including sealing off large cities, closing borders and confining people to their homes, were instituted in January 2020 to prevent spread of the virus, but by that time much of the damage had been done, as human-human transmission became evident. While these quarantine measures are necessary and have prevented a historical disaster along the lines of the Spanish flu, earlier recognition and earlier implementation of quarantine measures may have been even more effective. Lessons learned from SARS resulted in faster determination of the nucleic acid sequence and a more robust quarantine strategy. However, it is clear that finding an effective antiviral and developing a vaccine are still significant challenges. The costs of the epidemic are not limited to medical aspects, as the virus has led to significant sociological, psychological and economic effects globally. Unfortunately, emergence of SARS-CoV-2 has led to numerous reports of Asians being subjected to racist behavior and hate crimes across the world.\n",
            "Relevant query: how important are quarantime measures\n",
            "Document: Phylogenomic proximity and comparative proteomic analysis of SARS-CoV-2 The coronavirus disease (COVID-19) belongs to the family Severe Acute Respiratory Syndrome (SARS-CoV). It can be more severe for some persons and can lead to pneumonia or breathing difficulties resulting in the death of immune-compromised patients. We performed a phylogenomic and phylogeographic tree from the collected datasets. Phylogenomic analysis or sequence-based phylogeny showed an evolutionary relationship between the geographical strains. The phylogenomic tree grouped into two major clades consists of various isolates of SARS-CoV-2 and Bat SARS-like coronavirus, Bat coronavirus, and Pangolin coronavirus. The phylogenetic neighbor of newly sequenced Indian strains (Accession: MT012098.1, MT050493.1) was revealed to identify the variations between the nCoV-19 strains. The results showed keen evidence that SARS-CoV-2 has evolved from Bat SARS-like coronavirus. The evolutionary history and comparative proteomic analysis provide a new avenue for the current scientific research related to the coronavirus.\n",
            "Relevant query: what are COVID-19 biological affiliations\n",
            "Document: Hospitalization and Mortality among Black Patients and White Patients with Covid-19 BACKGROUND: Many reports on coronavirus disease 2019 (Covid-19) have highlighted age- and sex-related differences in health outcomes. More information is needed about racial and ethnic differences in outcomes from Covid-19. METHODS: In this retrospective cohort study, we analyzed data from patients seen within an integrated-delivery health system (Ochsner Health) in Louisiana between March 1 and April 11, 2020, who tested positive for severe acute respiratory syndrome coronavirus 2 (SARS-CoV-2, the virus that causes Covid-19) on qualitative polymerase-chain-reaction assay. The Ochsner Health population is 31% black non-Hispanic and 65% white non-Hispanic. The primary outcomes were hospitalization and in-hospital death. RESULTS: A total of 3626 patients tested positive, of whom 145 were excluded (84 had missing data on race or ethnic group, 9 were Hispanic, and 52 were Asian or of another race or ethnic group). Of the 3481 Covid-19-positive patients included in our analyses, 60.0% were female, 70.4% were black non-Hispanic, and 29.6% were white non-Hispanic. Black patients had higher prevalences of obesity, diabetes, hypertension, and chronic kidney disease than white patients. A total of 39.7% of Covid-19-positive patients (1382 patients) were hospitalized, 76.9% of whom were black. In multivariable analyses, black race, increasing age, a higher score on the Charlson Comorbidity Index (indicating a greater burden of illness), public insurance (Medicare or Medicaid), residence in a low-income area, and obesity were associated with increased odds of hospital admission. Among the 326 patients who died from Covid-19, 70.6% were black. In adjusted time-to-event analyses, variables that were associated with higher in-hospital mortality were increasing age and presentation with an elevated respiratory rate; elevated levels of venous lactate, creatinine, or procalcitonin; or low platelet or lymphocyte counts. However, black race was not independently associated with higher mortality (hazard ratio for death vs. white race, 0.89; 95% confidence interval, 0.68 to 1.17). CONCLUSIONS: In a large cohort in Louisiana, 76.9% of the patients who were hospitalized with Covid-19 and 70.6% of those who died were black, whereas blacks comprise only 31% of the Ochsner Health population. Black race was not associated with higher in-hospital mortality than white race, after adjustment for differences in sociodemographic and clinical characteristics on admission.\n",
            "Relevant query: how does COVID-19 impact african-americans when compared to the rest of the USA population\n"
          ]
        }
      ]
    },
    {
      "cell_type": "code",
      "source": [
        "import time\n",
        "\n",
        "requests_per_min = 3\n",
        "requests = 0\n",
        "\n",
        "for document_id, document_text in documents:\n",
        "  final_prompt = guidelines_prompt\n",
        "  final_prompt += f\"Document: {document_text}\\n\"\n",
        "  final_prompt += f\"Relevant query: \"\n",
        "  response = openai_chat_completion_response(final_prompt[:4097])\n",
        "  print(response)\n",
        "  #print(response[\"choices\"][0][\"message\"][\"content\"])\n",
        "  triplet = (document_id, document_text, response[\"choices\"][0][\"message\"][\"content\"])\n",
        "  responses.append(triplet)\n",
        "\n",
        "  if(len(responses) % requests_per_min) == 0:\n",
        "    time.sleep(60)"
      ],
      "metadata": {
        "colab": {
          "base_uri": "https://localhost:8080/",
          "height": 1000
        },
        "id": "3whShSlRBj82",
        "outputId": "69184604-0d48-4a44-a30d-9f3c27df5dc2"
      },
      "execution_count": null,
      "outputs": [
        {
          "output_type": "stream",
          "name": "stdout",
          "text": [
            "{\n",
            "  \"choices\": [\n",
            "    {\n",
            "      \"finish_reason\": \"stop\",\n",
            "      \"index\": 0,\n",
            "      \"message\": {\n",
            "        \"content\": \"What are the racial and ethnic differences in outcomes from Covid-19?\",\n",
            "        \"role\": \"assistant\"\n",
            "      }\n",
            "    }\n",
            "  ],\n",
            "  \"created\": 1682977432,\n",
            "  \"id\": \"chatcmpl-7BVbEnKpuUBO0cdOKdeGLqY96Nj0r\",\n",
            "  \"model\": \"gpt-3.5-turbo-0301\",\n",
            "  \"object\": \"chat.completion\",\n",
            "  \"usage\": {\n",
            "    \"completion_tokens\": 14,\n",
            "    \"prompt_tokens\": 867,\n",
            "    \"total_tokens\": 881\n",
            "  }\n",
            "}\n",
            "{\n",
            "  \"choices\": [\n",
            "    {\n",
            "      \"finish_reason\": \"stop\",\n",
            "      \"index\": 0,\n",
            "      \"message\": {\n",
            "        \"content\": \"What are the racial and ethnic differences in outcomes from COVID-19?\",\n",
            "        \"role\": \"assistant\"\n",
            "      }\n",
            "    }\n",
            "  ],\n",
            "  \"created\": 1682977433,\n",
            "  \"id\": \"chatcmpl-7BVbFRtI8e7UkZjW7XLgQW2FjsEzV\",\n",
            "  \"model\": \"gpt-3.5-turbo-0301\",\n",
            "  \"object\": \"chat.completion\",\n",
            "  \"usage\": {\n",
            "    \"completion_tokens\": 14,\n",
            "    \"prompt_tokens\": 867,\n",
            "    \"total_tokens\": 881\n",
            "  }\n",
            "}\n",
            "{\n",
            "  \"choices\": [\n",
            "    {\n",
            "      \"finish_reason\": \"stop\",\n",
            "      \"index\": 0,\n",
            "      \"message\": {\n",
            "        \"content\": \"What are the racial and ethnic differences in outcomes from Covid-19?\",\n",
            "        \"role\": \"assistant\"\n",
            "      }\n",
            "    }\n",
            "  ],\n",
            "  \"created\": 1682977433,\n",
            "  \"id\": \"chatcmpl-7BVbF9KAfWEBtCpLyLgQdE3XSqbLc\",\n",
            "  \"model\": \"gpt-3.5-turbo-0301\",\n",
            "  \"object\": \"chat.completion\",\n",
            "  \"usage\": {\n",
            "    \"completion_tokens\": 14,\n",
            "    \"prompt_tokens\": 867,\n",
            "    \"total_tokens\": 881\n",
            "  }\n",
            "}\n"
          ]
        },
        {
          "output_type": "error",
          "ename": "KeyboardInterrupt",
          "evalue": "ignored",
          "traceback": [
            "\u001b[0;31m---------------------------------------------------------------------------\u001b[0m",
            "\u001b[0;31mKeyboardInterrupt\u001b[0m                         Traceback (most recent call last)",
            "\u001b[0;32m<ipython-input-179-fb86c7e772da>\u001b[0m in \u001b[0;36m<cell line: 6>\u001b[0;34m()\u001b[0m\n\u001b[1;32m     15\u001b[0m \u001b[0;34m\u001b[0m\u001b[0m\n\u001b[1;32m     16\u001b[0m   \u001b[0;32mif\u001b[0m\u001b[0;34m(\u001b[0m\u001b[0mlen\u001b[0m\u001b[0;34m(\u001b[0m\u001b[0mresponses\u001b[0m\u001b[0;34m)\u001b[0m \u001b[0;34m%\u001b[0m \u001b[0mrequests_per_min\u001b[0m\u001b[0;34m)\u001b[0m \u001b[0;34m==\u001b[0m \u001b[0;36m0\u001b[0m\u001b[0;34m:\u001b[0m\u001b[0;34m\u001b[0m\u001b[0;34m\u001b[0m\u001b[0m\n\u001b[0;32m---> 17\u001b[0;31m     \u001b[0mtime\u001b[0m\u001b[0;34m.\u001b[0m\u001b[0msleep\u001b[0m\u001b[0;34m(\u001b[0m\u001b[0;36m60\u001b[0m\u001b[0;34m)\u001b[0m\u001b[0;34m\u001b[0m\u001b[0;34m\u001b[0m\u001b[0m\n\u001b[0m",
            "\u001b[0;31mKeyboardInterrupt\u001b[0m: "
          ]
        }
      ]
    },
    {
      "cell_type": "code",
      "source": [
        "len(responses)"
      ],
      "metadata": {
        "colab": {
          "base_uri": "https://localhost:8080/"
        },
        "id": "EfkZ2fhpCZK3",
        "outputId": "87319cf7-edb3-4985-a98b-cb21b662d12d"
      },
      "execution_count": null,
      "outputs": [
        {
          "output_type": "execute_result",
          "data": {
            "text/plain": [
              "3"
            ]
          },
          "metadata": {},
          "execution_count": 180
        }
      ]
    },
    {
      "cell_type": "code",
      "source": [
        "responses"
      ],
      "metadata": {
        "colab": {
          "base_uri": "https://localhost:8080/"
        },
        "id": "GVEuVBrOCZuv",
        "outputId": "1f34fdb5-3199-4f20-bf9e-98d39dd3a997"
      },
      "execution_count": null,
      "outputs": [
        {
          "output_type": "execute_result",
          "data": {
            "text/plain": [
              "[('m1cmkkw3',\n",
              "  'Rapid identification of novel antigens of Salmonella Enteritidis by microarray-based immunoscreening We report on an approach to rapidly screen thousands of Salmonella Enteritidis proteins with the goal of identifying novel immunodominant proteins. We used a microarray-based system that warrants high throughput and easy handling. Seven immunogenic candidates were selected after screening. Comparative analyses by ELISA and microarrays manifested their immunodominant character. The large repetitive protein (SEN4030) that plays a role as a putative adhesin in initial cell surface interaction and is highly specific to Salmonella is considered to be the most suitable protein for a diagnostic approach. The results further demonstrate that the strategy applied herein is convenient for specifically identifying immunogenic proteins of pathogenic microorganisms. Consequently, it enables a sound assessment of promising candidates for diagnostic applications and vaccine development. Moreover, the elucidation of immunogenic proteins may assist in unveiling unknown virulence-associated factors, thus furthering the understanding of the underlying pathogenicity of Salmonella in general, and of S. Enteritidis, one of the most frequently detected serovars of this pathogen, in particular. [Figure: see text]',\n",
              "  'What are the racial and ethnic differences in outcomes from Covid-19?'),\n",
              " ('ukbl0svm',\n",
              "  'Cryptosporidium and host resistance: historical perspective and some novel approaches. Cryptosporidium parvum is recognized as a major cause of diarrheal disease in neonatal bovine calves. In addition, this protozoan parasite has emerged as an important cause of disease in both immunocompromised and immunocompetent humans. Despite years of research, no consistently effective means of prevention or treatment are readily available for cryptosporidiosis in any species. Infection through ingestion of contaminated water has been widely documented; C. parvum was reported to be responsible for the largest waterborne outbreak of infectious disease in US history. In addition to its role as a primary disease agent, C. parvum has potential to initiate or exacerbate other gastrointestinal disorders, such as inflammatory bowel disease. Thus, control of C. parvum infection in both animals and humans remains an important objective. Research in our laboratory has focused on understanding mechanisms of resistance to C. parvum. We have demonstrated that acquisition of intestinal flora increases resistance to C. parvum. Substances present in the intestinal mucosa of adult animals can transfer resistance when fed to susceptible infants. Both expression of intestinal enzymes and rate of proliferation of epithelial cells may be altered following C. parvum infection. These and other changes may have profound effects on host resistance to C. parvum.',\n",
              "  'What are the racial and ethnic differences in outcomes from COVID-19?'),\n",
              " ('12o4zey2',\n",
              "  'Understanding the Renin-Angiotensin-Aldosterone-SARS-CoV-Axis: A Comprehensive Review IMPORTANCE: Coronavirus Disease 19 (COVID-19), the disease caused by the severe acute respiratory syndrome coronavirus 2 (SARS-CoV-2), has been declared a global pandemic with significant morbidity and mortality since first appearing in Wuhan, China, in late 2019. As many countries are grappling with the onset of their epidemics, pharmacotherapeutics remain lacking. The window of opportunity to mitigate downstream morbidity and mortality is narrow but remains open. The renin-angiotensin-aldosterone system (RAAS) is crucial to the homeostasis of both the cardiovascular and respiratory systems. Importantly, SARS-CoV-2 utilises and interrupts this pathway directly, which could be described as the renin-angiotensin-aldosterone-SARS-CoV-2-axis (RAAS-SCoV-axis). There exists significant controversy and confusion surrounding how anti-hypertensive agents might function along this pathway. This review explores the current state of knowledge regarding the RAAS-SCoV-axis, informed by prior studies of SARS-CoV, how this relates to our currently evolving pandemic, and how these insights might guide our next steps in an evidence-based manner. OBSERVATIONS: This review discusses the role of the RAAS-SCoV-axis in acute lung injury and the effects, risks, and benefits of pharmacologic modification of this axis. There may be an opportunity to leverage the different aspects of RAAS inhibitors to mitigate indirect viral-induced lung injury. Concerns have been raised that such modulation might exacerbate the disease. While relevant preclinical, experimental models to date favor a protective effect of RAAS-SCoV-axis inhibition on both lung injury and survival, clinical data related to the role of RAAS modulation in the setting of SARS-CoV-2 remains limited. CONCLUSION: Proposed interventions for SARS-CoV-2 predominantly focus on viral microbiology and aim to inhibit viral cellular injury. While these therapies are promising, immediate use may not be feasible, and the time window of their efficacy remains a major unanswered question. An alternative approach is the modulation of the specific downstream pathophysiologic effects caused by virus that lead to morbidity and mortality. We propose a preponderance of evidence that supports clinical equipoise regarding the efficacy of RAAS-based interventions, and the imminent need for a multisite randomised controlled clinical trial to evaluate the inhibition of the RAAS-SCoV-axis on acute lung injury in COVID-19.',\n",
              "  'What are the racial and ethnic differences in outcomes from Covid-19?')]"
            ]
          },
          "metadata": {},
          "execution_count": 181
        }
      ]
    },
    {
      "cell_type": "markdown",
      "source": [
        "As we can see from the previous snippets, in a few-shot setup, the model is generating multiple times almost the same query (about racial and ethnic differences). It reflects only the theme in the last example.  The same occurred when the last example mentioned chloroquine.\n",
        "\n",
        "So, let's test zero-shot."
      ],
      "metadata": {
        "id": "fQNSAZ5gRkXa"
      }
    },
    {
      "cell_type": "markdown",
      "source": [
        "## Zero-shot learning"
      ],
      "metadata": {
        "id": "tF9XogFKTw3n"
      }
    },
    {
      "cell_type": "code",
      "source": [
        "guidelines_prompt = \"Generate one relevant query whose answer is contained in the following document.  Your query can start with what, which, how or when.  \""
      ],
      "metadata": {
        "id": "1O5cq8T_Ty4w"
      },
      "execution_count": null,
      "outputs": []
    },
    {
      "cell_type": "code",
      "source": [
        "responses = []"
      ],
      "metadata": {
        "id": "agS1xyihXD3j"
      },
      "execution_count": null,
      "outputs": []
    },
    {
      "cell_type": "code",
      "source": [
        "import time\n",
        "\n",
        "requests_per_min = 3\n",
        "requests = 0\n",
        "\n",
        "for document_id, document_text in documents:\n",
        "  final_prompt = guidelines_prompt\n",
        "  final_prompt += f\"Document: {document_text}\\n\"\n",
        "  final_prompt += f\"Relevant query: \"\n",
        "  response = openai_chat_completion_response(final_prompt[:4097])\n",
        "  #print(response[\"choices\"][0][\"message\"][\"content\"])\n",
        "  triplet = (document_id, document_text, response[\"choices\"][0][\"message\"][\"content\"])\n",
        "  responses.append(triplet)\n",
        "  print(len(responses))\n",
        "  #time.sleep(1)\n",
        "\n",
        "  #if(len(responses) % requests_per_min) == 0:\n",
        "   # time.sleep(20)"
      ],
      "metadata": {
        "colab": {
          "base_uri": "https://localhost:8080/"
        },
        "id": "h2fXCKzOWbz6",
        "outputId": "1eb6e7f3-75c7-4d3b-db8d-024952095b54"
      },
      "execution_count": null,
      "outputs": [
        {
          "output_type": "stream",
          "name": "stdout",
          "text": [
            "1\n",
            "2\n",
            "3\n",
            "4\n",
            "5\n",
            "6\n",
            "7\n",
            "8\n",
            "9\n",
            "10\n",
            "11\n",
            "12\n",
            "13\n",
            "14\n",
            "15\n",
            "16\n",
            "17\n",
            "18\n",
            "19\n",
            "20\n",
            "21\n",
            "22\n",
            "23\n",
            "24\n",
            "25\n",
            "26\n",
            "27\n",
            "28\n",
            "29\n",
            "30\n",
            "31\n",
            "32\n",
            "33\n",
            "34\n",
            "35\n",
            "36\n",
            "37\n",
            "38\n",
            "39\n",
            "40\n",
            "41\n",
            "42\n",
            "43\n",
            "44\n",
            "45\n",
            "46\n",
            "47\n",
            "48\n",
            "49\n",
            "50\n",
            "51\n",
            "52\n",
            "53\n",
            "54\n",
            "55\n",
            "56\n",
            "57\n",
            "58\n",
            "59\n",
            "60\n",
            "61\n",
            "62\n",
            "63\n",
            "64\n",
            "65\n",
            "66\n",
            "67\n",
            "68\n",
            "69\n",
            "70\n",
            "71\n",
            "72\n",
            "73\n",
            "74\n",
            "75\n",
            "76\n",
            "77\n",
            "78\n",
            "79\n",
            "80\n",
            "81\n",
            "82\n",
            "83\n",
            "84\n",
            "85\n",
            "86\n",
            "87\n",
            "88\n",
            "89\n",
            "90\n",
            "91\n",
            "92\n",
            "93\n",
            "94\n",
            "95\n",
            "96\n",
            "97\n",
            "98\n",
            "99\n",
            "100\n",
            "101\n",
            "102\n",
            "103\n",
            "104\n",
            "105\n",
            "106\n",
            "107\n",
            "108\n",
            "109\n",
            "110\n",
            "111\n",
            "112\n",
            "113\n",
            "114\n",
            "115\n",
            "116\n",
            "117\n",
            "118\n",
            "119\n",
            "120\n",
            "121\n",
            "122\n",
            "123\n",
            "124\n",
            "125\n",
            "126\n",
            "127\n",
            "128\n",
            "129\n",
            "130\n",
            "131\n",
            "132\n",
            "133\n",
            "134\n",
            "135\n",
            "136\n",
            "137\n",
            "138\n",
            "139\n",
            "140\n",
            "141\n",
            "142\n",
            "143\n",
            "144\n",
            "145\n",
            "146\n",
            "147\n",
            "148\n",
            "149\n",
            "150\n",
            "151\n",
            "152\n",
            "153\n",
            "154\n",
            "155\n",
            "156\n",
            "157\n",
            "158\n",
            "159\n",
            "160\n",
            "161\n",
            "162\n",
            "163\n",
            "164\n",
            "165\n",
            "166\n",
            "167\n",
            "168\n",
            "169\n",
            "170\n",
            "171\n",
            "172\n",
            "173\n",
            "174\n",
            "175\n",
            "176\n",
            "177\n",
            "178\n",
            "179\n",
            "180\n",
            "181\n",
            "182\n",
            "183\n",
            "184\n",
            "185\n",
            "186\n",
            "187\n",
            "188\n",
            "189\n",
            "190\n",
            "191\n",
            "192\n",
            "193\n",
            "194\n",
            "195\n",
            "196\n",
            "197\n",
            "198\n",
            "199\n",
            "200\n",
            "201\n",
            "202\n",
            "203\n",
            "204\n",
            "205\n",
            "206\n",
            "207\n",
            "208\n",
            "209\n",
            "210\n",
            "211\n",
            "212\n",
            "213\n",
            "214\n",
            "215\n",
            "216\n",
            "217\n",
            "218\n",
            "219\n",
            "220\n",
            "221\n",
            "222\n",
            "223\n",
            "224\n",
            "225\n",
            "226\n",
            "227\n",
            "228\n",
            "229\n",
            "230\n",
            "231\n",
            "232\n",
            "233\n",
            "234\n",
            "235\n",
            "236\n",
            "237\n",
            "238\n",
            "239\n",
            "240\n",
            "241\n",
            "242\n",
            "243\n",
            "244\n",
            "245\n",
            "246\n",
            "247\n",
            "248\n",
            "249\n",
            "250\n",
            "251\n",
            "252\n",
            "253\n",
            "254\n",
            "255\n",
            "256\n",
            "257\n",
            "258\n",
            "259\n",
            "260\n",
            "261\n",
            "262\n",
            "263\n",
            "264\n",
            "265\n",
            "266\n",
            "267\n",
            "268\n",
            "269\n",
            "270\n",
            "271\n",
            "272\n",
            "273\n",
            "274\n",
            "275\n",
            "276\n",
            "277\n",
            "278\n",
            "279\n",
            "280\n",
            "281\n",
            "282\n",
            "283\n",
            "284\n",
            "285\n",
            "286\n",
            "287\n",
            "288\n",
            "289\n",
            "290\n",
            "291\n",
            "292\n",
            "293\n",
            "294\n",
            "295\n",
            "296\n",
            "297\n",
            "298\n",
            "299\n",
            "300\n",
            "301\n",
            "302\n",
            "303\n",
            "304\n",
            "305\n",
            "306\n",
            "307\n",
            "308\n",
            "309\n",
            "310\n",
            "311\n",
            "312\n",
            "313\n",
            "314\n",
            "315\n",
            "316\n",
            "317\n",
            "318\n",
            "319\n",
            "320\n",
            "321\n",
            "322\n",
            "323\n",
            "324\n",
            "325\n",
            "326\n",
            "327\n",
            "328\n",
            "329\n",
            "330\n",
            "331\n",
            "332\n",
            "333\n",
            "334\n",
            "335\n",
            "336\n",
            "337\n",
            "338\n",
            "339\n",
            "340\n",
            "341\n",
            "342\n",
            "343\n",
            "344\n",
            "345\n",
            "346\n",
            "347\n",
            "348\n",
            "349\n",
            "350\n",
            "351\n",
            "352\n",
            "353\n",
            "354\n",
            "355\n",
            "356\n",
            "357\n",
            "358\n",
            "359\n",
            "360\n",
            "361\n",
            "362\n",
            "363\n",
            "364\n",
            "365\n",
            "366\n",
            "367\n",
            "368\n",
            "369\n",
            "370\n",
            "371\n",
            "372\n",
            "373\n",
            "374\n",
            "375\n",
            "376\n",
            "377\n",
            "378\n",
            "379\n",
            "380\n",
            "381\n",
            "382\n",
            "383\n",
            "384\n",
            "385\n",
            "386\n",
            "387\n",
            "388\n",
            "389\n",
            "390\n",
            "391\n",
            "392\n",
            "393\n",
            "394\n",
            "395\n",
            "396\n",
            "397\n",
            "398\n",
            "399\n",
            "400\n",
            "401\n",
            "402\n",
            "403\n",
            "404\n",
            "405\n",
            "406\n",
            "407\n",
            "408\n",
            "409\n",
            "410\n",
            "411\n",
            "412\n",
            "413\n",
            "414\n",
            "415\n",
            "416\n",
            "417\n",
            "418\n",
            "419\n",
            "420\n",
            "421\n",
            "422\n",
            "423\n",
            "424\n",
            "425\n",
            "426\n",
            "427\n",
            "428\n",
            "429\n",
            "430\n",
            "431\n",
            "432\n",
            "433\n",
            "434\n",
            "435\n",
            "436\n",
            "437\n",
            "438\n",
            "439\n",
            "440\n",
            "441\n",
            "442\n",
            "443\n",
            "444\n",
            "445\n",
            "446\n",
            "447\n",
            "448\n",
            "449\n",
            "450\n",
            "451\n",
            "452\n",
            "453\n",
            "454\n",
            "455\n",
            "456\n",
            "457\n",
            "458\n",
            "459\n",
            "460\n",
            "461\n",
            "462\n",
            "463\n",
            "464\n",
            "465\n",
            "466\n",
            "467\n",
            "468\n",
            "469\n",
            "470\n",
            "471\n",
            "472\n",
            "473\n",
            "474\n",
            "475\n",
            "476\n",
            "477\n",
            "478\n",
            "479\n",
            "480\n",
            "481\n",
            "482\n",
            "483\n",
            "484\n",
            "485\n",
            "486\n",
            "487\n",
            "488\n",
            "489\n",
            "490\n",
            "491\n",
            "492\n",
            "493\n",
            "494\n",
            "495\n",
            "496\n",
            "497\n",
            "498\n",
            "499\n",
            "500\n",
            "501\n",
            "502\n",
            "503\n",
            "504\n",
            "505\n",
            "506\n",
            "507\n",
            "508\n",
            "509\n",
            "510\n",
            "511\n",
            "512\n",
            "513\n",
            "514\n",
            "515\n",
            "516\n",
            "517\n",
            "518\n",
            "519\n",
            "520\n",
            "521\n",
            "522\n",
            "523\n",
            "524\n",
            "525\n",
            "526\n",
            "527\n",
            "528\n",
            "529\n",
            "530\n",
            "531\n",
            "532\n",
            "533\n",
            "534\n",
            "535\n",
            "536\n",
            "537\n",
            "538\n",
            "539\n",
            "540\n",
            "541\n",
            "542\n",
            "543\n",
            "544\n",
            "545\n",
            "546\n",
            "547\n",
            "548\n",
            "549\n",
            "550\n",
            "551\n",
            "552\n",
            "553\n",
            "554\n",
            "555\n",
            "556\n",
            "557\n",
            "558\n",
            "559\n",
            "560\n",
            "561\n",
            "562\n",
            "563\n",
            "564\n",
            "565\n",
            "566\n",
            "567\n",
            "568\n",
            "569\n",
            "570\n",
            "571\n",
            "572\n",
            "573\n",
            "574\n",
            "575\n",
            "576\n",
            "577\n",
            "578\n",
            "579\n",
            "580\n",
            "581\n",
            "582\n",
            "583\n",
            "584\n",
            "585\n",
            "586\n",
            "587\n",
            "588\n",
            "589\n",
            "590\n",
            "591\n",
            "592\n",
            "593\n",
            "594\n",
            "595\n",
            "596\n",
            "597\n",
            "598\n",
            "599\n",
            "600\n",
            "601\n",
            "602\n",
            "603\n",
            "604\n",
            "605\n",
            "606\n",
            "607\n",
            "608\n",
            "609\n",
            "610\n",
            "611\n",
            "612\n",
            "613\n",
            "614\n",
            "615\n",
            "616\n",
            "617\n",
            "618\n",
            "619\n",
            "620\n",
            "621\n",
            "622\n",
            "623\n",
            "624\n",
            "625\n",
            "626\n",
            "627\n",
            "628\n",
            "629\n",
            "630\n",
            "631\n",
            "632\n",
            "633\n",
            "634\n",
            "635\n",
            "636\n",
            "637\n",
            "638\n",
            "639\n",
            "640\n",
            "641\n",
            "642\n",
            "643\n",
            "644\n",
            "645\n",
            "646\n",
            "647\n",
            "648\n",
            "649\n",
            "650\n",
            "651\n",
            "652\n",
            "653\n",
            "654\n",
            "655\n",
            "656\n",
            "657\n",
            "658\n",
            "659\n",
            "660\n",
            "661\n",
            "662\n",
            "663\n",
            "664\n",
            "665\n",
            "666\n",
            "667\n",
            "668\n",
            "669\n",
            "670\n",
            "671\n",
            "672\n",
            "673\n",
            "674\n",
            "675\n",
            "676\n",
            "677\n",
            "678\n",
            "679\n",
            "680\n",
            "681\n",
            "682\n",
            "683\n",
            "684\n",
            "685\n",
            "686\n",
            "687\n",
            "688\n",
            "689\n",
            "690\n",
            "691\n",
            "692\n",
            "693\n",
            "694\n",
            "695\n",
            "696\n",
            "697\n",
            "698\n",
            "699\n",
            "700\n",
            "701\n",
            "702\n",
            "703\n",
            "704\n",
            "705\n",
            "706\n",
            "707\n",
            "708\n",
            "709\n",
            "710\n",
            "711\n",
            "712\n",
            "713\n",
            "714\n",
            "715\n",
            "716\n",
            "717\n",
            "718\n",
            "719\n",
            "720\n",
            "721\n",
            "722\n",
            "723\n",
            "724\n",
            "725\n",
            "726\n",
            "727\n",
            "728\n",
            "729\n",
            "730\n",
            "731\n",
            "732\n",
            "733\n",
            "734\n",
            "735\n",
            "736\n",
            "737\n",
            "738\n",
            "739\n",
            "740\n",
            "741\n",
            "742\n",
            "743\n",
            "744\n",
            "745\n",
            "746\n",
            "747\n",
            "748\n",
            "749\n",
            "750\n",
            "751\n",
            "752\n",
            "753\n",
            "754\n",
            "755\n",
            "756\n",
            "757\n",
            "758\n",
            "759\n",
            "760\n",
            "761\n",
            "762\n",
            "763\n",
            "764\n",
            "765\n",
            "766\n",
            "767\n",
            "768\n",
            "769\n",
            "770\n",
            "771\n",
            "772\n",
            "773\n",
            "774\n",
            "775\n",
            "776\n",
            "777\n",
            "778\n",
            "779\n",
            "780\n",
            "781\n",
            "782\n",
            "783\n",
            "784\n",
            "785\n",
            "786\n",
            "787\n",
            "788\n",
            "789\n",
            "790\n",
            "791\n",
            "792\n",
            "793\n",
            "794\n",
            "795\n",
            "796\n",
            "797\n",
            "798\n",
            "799\n",
            "800\n",
            "801\n",
            "802\n",
            "803\n",
            "804\n",
            "805\n",
            "806\n",
            "807\n",
            "808\n",
            "809\n",
            "810\n",
            "811\n",
            "812\n",
            "813\n",
            "814\n",
            "815\n",
            "816\n",
            "817\n",
            "818\n",
            "819\n",
            "820\n",
            "821\n",
            "822\n",
            "823\n",
            "824\n",
            "825\n",
            "826\n",
            "827\n",
            "828\n",
            "829\n",
            "830\n",
            "831\n",
            "832\n",
            "833\n",
            "834\n",
            "835\n",
            "836\n",
            "837\n",
            "838\n",
            "839\n",
            "840\n",
            "841\n",
            "842\n",
            "843\n",
            "844\n",
            "845\n",
            "846\n",
            "847\n",
            "848\n",
            "849\n",
            "850\n",
            "851\n",
            "852\n",
            "853\n",
            "854\n",
            "855\n",
            "856\n",
            "857\n",
            "858\n",
            "859\n",
            "860\n",
            "861\n",
            "862\n",
            "863\n",
            "864\n",
            "865\n",
            "866\n",
            "867\n",
            "868\n",
            "869\n",
            "870\n",
            "871\n",
            "872\n",
            "873\n",
            "874\n",
            "875\n",
            "876\n",
            "877\n",
            "878\n",
            "879\n",
            "880\n",
            "881\n",
            "882\n",
            "883\n",
            "884\n",
            "885\n",
            "886\n",
            "887\n",
            "888\n",
            "889\n",
            "890\n",
            "891\n",
            "892\n",
            "893\n",
            "894\n",
            "895\n",
            "896\n",
            "897\n",
            "898\n",
            "899\n",
            "900\n",
            "901\n",
            "902\n",
            "903\n",
            "904\n",
            "905\n",
            "906\n",
            "907\n",
            "908\n",
            "909\n",
            "910\n",
            "911\n",
            "912\n",
            "913\n",
            "914\n",
            "915\n",
            "916\n",
            "917\n",
            "918\n",
            "919\n",
            "920\n",
            "921\n",
            "922\n",
            "923\n",
            "924\n",
            "925\n",
            "926\n",
            "927\n",
            "928\n",
            "929\n",
            "930\n",
            "931\n",
            "932\n",
            "933\n",
            "934\n",
            "935\n",
            "936\n",
            "937\n",
            "938\n",
            "939\n",
            "940\n",
            "941\n",
            "942\n",
            "943\n",
            "944\n",
            "945\n",
            "946\n",
            "947\n",
            "948\n",
            "949\n",
            "950\n",
            "951\n",
            "952\n",
            "953\n",
            "954\n",
            "955\n",
            "956\n",
            "957\n",
            "958\n",
            "959\n",
            "960\n",
            "961\n",
            "962\n",
            "963\n",
            "964\n",
            "965\n",
            "966\n",
            "967\n",
            "968\n",
            "969\n",
            "970\n",
            "971\n",
            "972\n",
            "973\n",
            "974\n",
            "975\n",
            "976\n",
            "977\n",
            "978\n",
            "979\n",
            "980\n",
            "981\n",
            "982\n",
            "983\n",
            "984\n",
            "985\n",
            "986\n",
            "987\n",
            "988\n",
            "989\n",
            "990\n",
            "991\n",
            "992\n",
            "993\n",
            "994\n",
            "995\n",
            "996\n",
            "997\n",
            "998\n",
            "999\n",
            "1000\n"
          ]
        }
      ]
    },
    {
      "cell_type": "code",
      "source": [
        "responses[:10]"
      ],
      "metadata": {
        "colab": {
          "base_uri": "https://localhost:8080/"
        },
        "id": "GXDnBMB1W_wG",
        "outputId": "24ac4231-13a4-4ccb-c235-cf592b9442b9"
      },
      "execution_count": null,
      "outputs": [
        {
          "output_type": "execute_result",
          "data": {
            "text/plain": [
              "[('m1cmkkw3',\n",
              "  'Rapid identification of novel antigens of Salmonella Enteritidis by microarray-based immunoscreening We report on an approach to rapidly screen thousands of Salmonella Enteritidis proteins with the goal of identifying novel immunodominant proteins. We used a microarray-based system that warrants high throughput and easy handling. Seven immunogenic candidates were selected after screening. Comparative analyses by ELISA and microarrays manifested their immunodominant character. The large repetitive protein (SEN4030) that plays a role as a putative adhesin in initial cell surface interaction and is highly specific to Salmonella is considered to be the most suitable protein for a diagnostic approach. The results further demonstrate that the strategy applied herein is convenient for specifically identifying immunogenic proteins of pathogenic microorganisms. Consequently, it enables a sound assessment of promising candidates for diagnostic applications and vaccine development. Moreover, the elucidation of immunogenic proteins may assist in unveiling unknown virulence-associated factors, thus furthering the understanding of the underlying pathogenicity of Salmonella in general, and of S. Enteritidis, one of the most frequently detected serovars of this pathogen, in particular. [Figure: see text]',\n",
              "  'What is the most suitable protein for a diagnostic approach for Salmonella Enteritidis and why?'),\n",
              " ('ukbl0svm',\n",
              "  'Cryptosporidium and host resistance: historical perspective and some novel approaches. Cryptosporidium parvum is recognized as a major cause of diarrheal disease in neonatal bovine calves. In addition, this protozoan parasite has emerged as an important cause of disease in both immunocompromised and immunocompetent humans. Despite years of research, no consistently effective means of prevention or treatment are readily available for cryptosporidiosis in any species. Infection through ingestion of contaminated water has been widely documented; C. parvum was reported to be responsible for the largest waterborne outbreak of infectious disease in US history. In addition to its role as a primary disease agent, C. parvum has potential to initiate or exacerbate other gastrointestinal disorders, such as inflammatory bowel disease. Thus, control of C. parvum infection in both animals and humans remains an important objective. Research in our laboratory has focused on understanding mechanisms of resistance to C. parvum. We have demonstrated that acquisition of intestinal flora increases resistance to C. parvum. Substances present in the intestinal mucosa of adult animals can transfer resistance when fed to susceptible infants. Both expression of intestinal enzymes and rate of proliferation of epithelial cells may be altered following C. parvum infection. These and other changes may have profound effects on host resistance to C. parvum.',\n",
              "  'What is Cryptosporidium parvum and why is it a major cause of disease in both humans and animals?'),\n",
              " ('12o4zey2',\n",
              "  'Understanding the Renin-Angiotensin-Aldosterone-SARS-CoV-Axis: A Comprehensive Review IMPORTANCE: Coronavirus Disease 19 (COVID-19), the disease caused by the severe acute respiratory syndrome coronavirus 2 (SARS-CoV-2), has been declared a global pandemic with significant morbidity and mortality since first appearing in Wuhan, China, in late 2019. As many countries are grappling with the onset of their epidemics, pharmacotherapeutics remain lacking. The window of opportunity to mitigate downstream morbidity and mortality is narrow but remains open. The renin-angiotensin-aldosterone system (RAAS) is crucial to the homeostasis of both the cardiovascular and respiratory systems. Importantly, SARS-CoV-2 utilises and interrupts this pathway directly, which could be described as the renin-angiotensin-aldosterone-SARS-CoV-2-axis (RAAS-SCoV-axis). There exists significant controversy and confusion surrounding how anti-hypertensive agents might function along this pathway. This review explores the current state of knowledge regarding the RAAS-SCoV-axis, informed by prior studies of SARS-CoV, how this relates to our currently evolving pandemic, and how these insights might guide our next steps in an evidence-based manner. OBSERVATIONS: This review discusses the role of the RAAS-SCoV-axis in acute lung injury and the effects, risks, and benefits of pharmacologic modification of this axis. There may be an opportunity to leverage the different aspects of RAAS inhibitors to mitigate indirect viral-induced lung injury. Concerns have been raised that such modulation might exacerbate the disease. While relevant preclinical, experimental models to date favor a protective effect of RAAS-SCoV-axis inhibition on both lung injury and survival, clinical data related to the role of RAAS modulation in the setting of SARS-CoV-2 remains limited. CONCLUSION: Proposed interventions for SARS-CoV-2 predominantly focus on viral microbiology and aim to inhibit viral cellular injury. While these therapies are promising, immediate use may not be feasible, and the time window of their efficacy remains a major unanswered question. An alternative approach is the modulation of the specific downstream pathophysiologic effects caused by virus that lead to morbidity and mortality. We propose a preponderance of evidence that supports clinical equipoise regarding the efficacy of RAAS-based interventions, and the imminent need for a multisite randomised controlled clinical trial to evaluate the inhibition of the RAAS-SCoV-axis on acute lung injury in COVID-19.',\n",
              "  'What is the role of the renin-angiotensin-aldosterone system in the context of SARS-CoV-2 infection?'),\n",
              " ('eqv6a7tj',\n",
              "  'Specific functions of lysosomal proteases in endocytic and autophagic pathways Abstract Endolysosomal vesicles form a highly dynamic multifunctional cellular compartment that contains multiple highly potent proteolytic enzymes. Originally these proteases have been assigned to cooperate solely in executing the unselective ‘bulk proteolysis’ within the acidic milieu of the lysosome. Although to some degree this notion still holds true, evidence is accumulating for specific and regulatory functions of individual ‘acidic’ proteases in many cellular processes linked to the endosomal/lysosomal compartment. Here we summarize and discuss the functions of individual endolysosomal proteases in such diverse processes as the termination of growth factor signaling, lipoprotein particle degradation, infection, antigen presentation, and autophagy. This article is part of a Special Issue entitled: Proteolysis 50years after the discovery of lysosome.',\n",
              "  'What are the functions of individual endolysosomal proteases in cellular processes such as autophagy and lipoprotein particle degradation?'),\n",
              " ('66gu5af1',\n",
              "  'Olfactory and rhinological evaluations in SARS-CoV-2 patients complaining of olfactory loss. Since December 2019, a novel coronavirus SARS-CoV-2 (Covid-19) outbreak emerged in China and spread rapidly in several countries. As of April 5, 2020, 1.218.474 cases were confirmed with 65.884 deaths worldwide (1). The clinical manifestations of Covid-19 range from asymptomatic carrier status to severe pneumonia. In a study of 7,736 Covid-19 patients in China, of all the clinical symptoms, hyposmia was not reported in any patient(2). Anyway, it is now clear that olfactory dysfunction may also be present in these patients(3) as the only or prevalent manifestation(4).',\n",
              "  'What is the prevalence of olfactory dysfunction in SARS-CoV-2 patients?'),\n",
              " ('10j46r1a',\n",
              "  'Culture of Regulatory T‐Cell Lines from Bronchial Mucosa T lymphocytes play a major role in many immune responses. In the last decade, special focus has been on the function of Th1 and Th2 effector cells. Now the importance of regulatory CD4(+)CD25(+) T cells in maintenance of the immunological homeostasis emerges. Sarcoidosis is a multisystem granulomatous disorder often affecting the lungs. The typical sarcoid granulomas consists of epitheloid cells, macrophages and lymphocytes, mainly CD4(+) T cells of Th1 phenotype. We have cultured T cells from bronchial biopsies of patients with sarcoidosis as well as from controls in high levels of interleukin 2 (IL‐2) and IL‐4 and demonstrate spontaneously arising CD4(+) CD25(+) populations and high concentrations of IL‐10 in these cultures. The main difference between cultures of sarcoid origin compared to controls is a very much higher concentration of the inflammatory cytokines IL‐6 and TNF‐α in cultures of sarcoid origin.',\n",
              "  'What are the main differences between cultures of sarcoid origin and controls in terms of cytokine concentration?'),\n",
              " ('8y24j34j',\n",
              "  'Infection, Replication, and Transmission of Middle East Respiratory Syndrome Coronavirus in Alpacas Middle East respiratory syndrome coronavirus is a recently emerged pathogen associated with severe human disease. Zoonotic spillover from camels appears to play a major role in transmission. Because of logistic difficulties in working with dromedaries in containment, a more manageable animal model would be desirable. We report shedding and transmission of this virus in experimentally infected alpacas (n = 3) or those infected by contact (n = 3). Infectious virus was detected in all infected animals and in 2 of 3 in-contact animals. All alpacas seroconverted and were rechallenged 70 days after the original infection. Experimentally infected animals were protected against reinfection, and those infected by contact were partially protected. Necropsy specimens from immunologically naive animals (n = 3) obtained on day 5 postinfection showed virus in the upper respiratory tract. These data demonstrate efficient virus replication and animal-to-animal transmission and indicate that alpacas might be useful surrogates for camels in laboratory studies.',\n",
              "  'What animal model was used to study Middle East Respiratory Syndrome Coronavirus in the laboratory?'),\n",
              " ('ue7c4fno',\n",
              "  \"Human needs in COVID-19 isolation. To reduce the spread of COVID-19, the World Health Organization and the majority of governments have recommended that the entire human population should 'stay-at-home'. A significant proportion of the population live alone or are vulnerable to mental health problems yet, in the vast majority of cases, individuals in social isolation have no access to mental healthcare. The only resource is people themselves using self-help, self-medication and self-care. During prolonged COVID-19 isolation, an in-built system of homeostasis can help rebalance activity, thought and feeling. Increased physical activity enables a reset of physical and mental well-being. During periods of lockdown, it is recommended that exercise should be as vigorously promoted as social distancing itself.\",\n",
              "  'How can individuals in social isolation maintain their mental well-being during COVID-19?'),\n",
              " ('dunxxu5r',\n",
              "  'A case of coronavirus disease 2019-infected liver transplant donor Coronavirus disease 2019 (COVID-19) is a novel infectious disease that continues to spread on a global scale. There has been growing concern about donor-derived transmissions of severe acute respiratory syndrome coronavirus 2 (SARS-CoV-2). Herein, we present the case of a patient who underwent ABO-incompatible living donor liver transplantation without knowing that the liver donor was infected with COVID-19 during the donation procedure. In this case, the donor-derived transmission to the recipient was not identified, and the liver donor was found to be recovering from a COVID-19 infection. The donor-derived transmission was not identified.',\n",
              "  'What is the case presented involving a liver transplant donor and COVID-19?'),\n",
              " ('8n7ot72s',\n",
              "  'The close relationship between sudden loss of smell and COVID-19 INTRODUCTION: The real number of COVID-19 cases may be underestimated since several countries have difficulty offering laboratory tests for all the population. Therefore, finding a symptom with a high predictive value would help in diagnostic and isolation strategies. OBJECTIVE: To correlate the sudden loss of the sense of smell in the context of the COVID-19 pandemic with results of diagnostic tests for COVID-19. METHODS: This is a cross-sectional observational study. An online questionnaire was digitally addressed to 725 outpatients in Brazil who reported partial or total sudden loss of the sense of smell from March to April 2020. RESULTS: Total or partial sudden loss of the sense of smell showed high positive predictive value for COVID-19 diagnosis, during the COVID-19 pandemic in Brazil (88.8%). There were no differences between groups tested positive and negative in regard to demographic and clinical characteristics such as presence of allergy, rhinitis, neither to olfactory recovery time. CONCLUSION: The identification of sudden loss of the sense of smell during COVID-19 pandemic may serve as a sentinel symptom and may be a warning to establish measures to prevent the transmission of the disease.',\n",
              "  'What symptom has a high predictive value for COVID-19 diagnosis according to a cross-sectional observational study in Brazil?')]"
            ]
          },
          "metadata": {},
          "execution_count": 203
        }
      ]
    },
    {
      "cell_type": "code",
      "source": [
        "len(responses)"
      ],
      "metadata": {
        "colab": {
          "base_uri": "https://localhost:8080/"
        },
        "id": "rT33AXCdXAUU",
        "outputId": "39c42985-b135-4250-b23d-5979c5140929"
      },
      "execution_count": null,
      "outputs": [
        {
          "output_type": "execute_result",
          "data": {
            "text/plain": [
              "1000"
            ]
          },
          "metadata": {},
          "execution_count": 204
        }
      ]
    },
    {
      "cell_type": "code",
      "source": [
        "import json\n",
        "\n",
        "with open(f\"{main_dir}/trec-covid/monique_monteiro_1000_queries.jsonl\", \"w\") as f:\n",
        "  for doc_id, _, query in responses:\n",
        "    json.dump({\"query\":query, \"positive_doc_id\":doc_id, \"negative_doc_ids\":[]}, f)\n",
        "    f.write(\"\\n\")"
      ],
      "metadata": {
        "id": "cG8sCMOZjRdR"
      },
      "execution_count": null,
      "outputs": []
    },
    {
      "cell_type": "code",
      "source": [
        "!head {main_dir}/trec-covid/monique_monteiro_1000_queries.jsonl"
      ],
      "metadata": {
        "colab": {
          "base_uri": "https://localhost:8080/"
        },
        "id": "UDdSk7KokjYa",
        "outputId": "e1654065-10c0-4dbb-f3ab-ba3b82c1df91"
      },
      "execution_count": null,
      "outputs": [
        {
          "output_type": "stream",
          "name": "stdout",
          "text": [
            "{\"query\": \"What is the most suitable protein for a diagnostic approach for Salmonella Enteritidis and why?\", \"positive_doc_id\": \"m1cmkkw3\", \"negative_doc_ids\": []}\n",
            "{\"query\": \"What is Cryptosporidium parvum and why is it a major cause of disease in both humans and animals?\", \"positive_doc_id\": \"ukbl0svm\", \"negative_doc_ids\": []}\n",
            "{\"query\": \"What is the role of the renin-angiotensin-aldosterone system in the context of SARS-CoV-2 infection?\", \"positive_doc_id\": \"12o4zey2\", \"negative_doc_ids\": []}\n",
            "{\"query\": \"What are the functions of individual endolysosomal proteases in cellular processes such as autophagy and lipoprotein particle degradation?\", \"positive_doc_id\": \"eqv6a7tj\", \"negative_doc_ids\": []}\n",
            "{\"query\": \"What is the prevalence of olfactory dysfunction in SARS-CoV-2 patients?\", \"positive_doc_id\": \"66gu5af1\", \"negative_doc_ids\": []}\n",
            "{\"query\": \"What are the main differences between cultures of sarcoid origin and controls in terms of cytokine concentration?\", \"positive_doc_id\": \"10j46r1a\", \"negative_doc_ids\": []}\n",
            "{\"query\": \"What animal model was used to study Middle East Respiratory Syndrome Coronavirus in the laboratory?\", \"positive_doc_id\": \"8y24j34j\", \"negative_doc_ids\": []}\n",
            "{\"query\": \"How can individuals in social isolation maintain their mental well-being during COVID-19?\", \"positive_doc_id\": \"ue7c4fno\", \"negative_doc_ids\": []}\n",
            "{\"query\": \"What is the case presented involving a liver transplant donor and COVID-19?\", \"positive_doc_id\": \"dunxxu5r\", \"negative_doc_ids\": []}\n",
            "{\"query\": \"What symptom has a high predictive value for COVID-19 diagnosis according to a cross-sectional observational study in Brazil?\", \"positive_doc_id\": \"8n7ot72s\", \"negative_doc_ids\": []}\n"
          ]
        }
      ]
    },
    {
      "cell_type": "code",
      "source": [
        "import pickle\n",
        "\n",
        "with open(f\"{main_dir}/responses.pickle\", \"wb\") as f:\n",
        "  pickle.dump(responses, f)"
      ],
      "metadata": {
        "id": "GwRV7IMEknXj"
      },
      "execution_count": null,
      "outputs": []
    },
    {
      "cell_type": "code",
      "source": [
        "with open(f\"{main_dir}/documents.pickle\", \"wb\") as f:\n",
        "  pickle.dump(documents, f)"
      ],
      "metadata": {
        "id": "NEYnZwXEmVT5"
      },
      "execution_count": null,
      "outputs": []
    },
    {
      "cell_type": "code",
      "source": [
        "import pickle\n",
        "\n",
        "with open(f\"{main_dir}/responses.pickle\", \"rb\") as f:\n",
        "  responses = pickle.load(f)"
      ],
      "metadata": {
        "id": "JgytabBHCTti"
      },
      "execution_count": 22,
      "outputs": []
    },
    {
      "cell_type": "markdown",
      "source": [
        "## Searching with BM25 the original index to find negative examples"
      ],
      "metadata": {
        "id": "4gQl_Yp9BEMC"
      }
    },
    {
      "cell_type": "code",
      "source": [
        "from tqdm import tqdm\n",
        "\n",
        "negative_samples = []\n",
        "\n",
        "for _, _, query in tqdm(responses):\n",
        "  negative_doc_ids = search_with_bm25(query)\n",
        "  negative_samples.append(negative_doc_ids)\n"
      ],
      "metadata": {
        "id": "V4Fypnv4BSPv",
        "colab": {
          "base_uri": "https://localhost:8080/"
        },
        "outputId": "c54fe206-bba1-40a3-dfeb-761dff0f0680"
      },
      "execution_count": 23,
      "outputs": [
        {
          "output_type": "stream",
          "name": "stderr",
          "text": [
            "100%|██████████| 1000/1000 [02:59<00:00,  5.56it/s]\n"
          ]
        }
      ]
    },
    {
      "cell_type": "code",
      "source": [
        "negative_samples[0:10]"
      ],
      "metadata": {
        "id": "qqYG17nLCwLA",
        "colab": {
          "base_uri": "https://localhost:8080/"
        },
        "outputId": "494a7eaa-117b-4cf5-c18d-fd7d31c7c050"
      },
      "execution_count": 24,
      "outputs": [
        {
          "output_type": "execute_result",
          "data": {
            "text/plain": [
              "[['0o3mryu1', 'qpq7i1ya', 'j5mkparg', 'auoo0dm5', 'dqfvrerw'],\n",
              " ['k3u2nvpe', 'gc11fyms', 'xoq9qblv', '20o4ufa3', '3huo5nf0'],\n",
              " ['6gd6nwpu', 'dt4t2wos', '8zwfkken', 'sv7xpi4f', '6pf73z08'],\n",
              " ['gmrty2uu', 'uzn214j6', '032utjfh', 'efet3ozc', '0muwl6oc'],\n",
              " ['o6atz33c', 'nm2bq717', '9hvhru6o', '381esemd', 'exvvms1j'],\n",
              " ['gnzau8uj', 'mmafv2b5', 'dckuhrlf', '3tkx57g1', 'm38jah1z'],\n",
              " ['9v4nlo8o', 'tw057okg', 'qgklt8wa', 'kkga96h9', '1a0fj900'],\n",
              " ['uhjp541j', 'w3e6ul3v', 'rs6hsy8u', 'j7novgyb', 'slbiz2vw'],\n",
              " ['r6kl7vb0', '6l7fwylu', 'avfvpqs5', 'owsoyvyz', 'mgrxo21j'],\n",
              " ['x580ktas', 'p1cuif8t', 'ykl0xmta', '69x6jkp6', 'tlg5mnvk']]"
            ]
          },
          "metadata": {},
          "execution_count": 24
        }
      ]
    },
    {
      "cell_type": "code",
      "source": [
        "import json\n",
        "\n",
        "with open(f\"{main_dir}/trec-covid/monique_monteiro_1000_queries.jsonl\", \"w\") as f:\n",
        "  for i, (doc_id, _, query) in enumerate(responses):\n",
        "    json.dump({\"query\":query, \"positive_doc_id\":doc_id, \"negative_doc_ids\":negative_samples[i]}, f)\n",
        "    f.write(\"\\n\")"
      ],
      "metadata": {
        "id": "iRsHT5t3Qbvj"
      },
      "execution_count": 25,
      "outputs": []
    },
    {
      "cell_type": "code",
      "source": [
        "!head {main_dir}/trec-covid/monique_monteiro_1000_queries.jsonl"
      ],
      "metadata": {
        "colab": {
          "base_uri": "https://localhost:8080/"
        },
        "id": "x66SfLbqRnyI",
        "outputId": "38e33a2b-1015-433a-9709-44438728164c"
      },
      "execution_count": 26,
      "outputs": [
        {
          "output_type": "stream",
          "name": "stdout",
          "text": [
            "{\"query\": \"What is the most suitable protein for a diagnostic approach for Salmonella Enteritidis and why?\", \"positive_doc_id\": \"m1cmkkw3\", \"negative_doc_ids\": [\"0o3mryu1\", \"qpq7i1ya\", \"j5mkparg\", \"auoo0dm5\", \"dqfvrerw\"]}\n",
            "{\"query\": \"What is Cryptosporidium parvum and why is it a major cause of disease in both humans and animals?\", \"positive_doc_id\": \"ukbl0svm\", \"negative_doc_ids\": [\"k3u2nvpe\", \"gc11fyms\", \"xoq9qblv\", \"20o4ufa3\", \"3huo5nf0\"]}\n",
            "{\"query\": \"What is the role of the renin-angiotensin-aldosterone system in the context of SARS-CoV-2 infection?\", \"positive_doc_id\": \"12o4zey2\", \"negative_doc_ids\": [\"6gd6nwpu\", \"dt4t2wos\", \"8zwfkken\", \"sv7xpi4f\", \"6pf73z08\"]}\n",
            "{\"query\": \"What are the functions of individual endolysosomal proteases in cellular processes such as autophagy and lipoprotein particle degradation?\", \"positive_doc_id\": \"eqv6a7tj\", \"negative_doc_ids\": [\"gmrty2uu\", \"uzn214j6\", \"032utjfh\", \"efet3ozc\", \"0muwl6oc\"]}\n",
            "{\"query\": \"What is the prevalence of olfactory dysfunction in SARS-CoV-2 patients?\", \"positive_doc_id\": \"66gu5af1\", \"negative_doc_ids\": [\"o6atz33c\", \"nm2bq717\", \"9hvhru6o\", \"381esemd\", \"exvvms1j\"]}\n",
            "{\"query\": \"What are the main differences between cultures of sarcoid origin and controls in terms of cytokine concentration?\", \"positive_doc_id\": \"10j46r1a\", \"negative_doc_ids\": [\"gnzau8uj\", \"mmafv2b5\", \"dckuhrlf\", \"3tkx57g1\", \"m38jah1z\"]}\n",
            "{\"query\": \"What animal model was used to study Middle East Respiratory Syndrome Coronavirus in the laboratory?\", \"positive_doc_id\": \"8y24j34j\", \"negative_doc_ids\": [\"9v4nlo8o\", \"tw057okg\", \"qgklt8wa\", \"kkga96h9\", \"1a0fj900\"]}\n",
            "{\"query\": \"How can individuals in social isolation maintain their mental well-being during COVID-19?\", \"positive_doc_id\": \"ue7c4fno\", \"negative_doc_ids\": [\"uhjp541j\", \"w3e6ul3v\", \"rs6hsy8u\", \"j7novgyb\", \"slbiz2vw\"]}\n",
            "{\"query\": \"What is the case presented involving a liver transplant donor and COVID-19?\", \"positive_doc_id\": \"dunxxu5r\", \"negative_doc_ids\": [\"r6kl7vb0\", \"6l7fwylu\", \"avfvpqs5\", \"owsoyvyz\", \"mgrxo21j\"]}\n",
            "{\"query\": \"What symptom has a high predictive value for COVID-19 diagnosis according to a cross-sectional observational study in Brazil?\", \"positive_doc_id\": \"8n7ot72s\", \"negative_doc_ids\": [\"x580ktas\", \"p1cuif8t\", \"ykl0xmta\", \"69x6jkp6\", \"tlg5mnvk\"]}\n"
          ]
        }
      ]
    },
    {
      "cell_type": "code",
      "source": [],
      "metadata": {
        "id": "xNvYYPY3RoSk"
      },
      "execution_count": null,
      "outputs": []
    }
  ]
}