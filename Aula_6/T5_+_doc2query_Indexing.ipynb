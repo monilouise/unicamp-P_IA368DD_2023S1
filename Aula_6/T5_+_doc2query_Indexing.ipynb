{
  "nbformat": 4,
  "nbformat_minor": 0,
  "metadata": {
    "colab": {
      "provenance": []
    },
    "kernelspec": {
      "name": "python3",
      "display_name": "Python 3"
    },
    "language_info": {
      "name": "python"
    }
  },
  "cells": [
    {
      "cell_type": "markdown",
      "source": [
        "# T5 + doc2query - Indexing\n",
        "\n",
        "Author: Monique Monteiro (moniquelouise@gmail.com)"
      ],
      "metadata": {
        "id": "X44Rygw5plZS"
      }
    },
    {
      "cell_type": "code",
      "source": [
        "from google.colab import drive\n",
        "drive.mount('/content/gdrive', force_remount=True)"
      ],
      "metadata": {
        "colab": {
          "base_uri": "https://localhost:8080/"
        },
        "id": "3-8cvyCApqpa",
        "outputId": "2762a7b6-f231-40dc-cb4e-64282a6469a5"
      },
      "execution_count": null,
      "outputs": [
        {
          "output_type": "stream",
          "name": "stdout",
          "text": [
            "Mounted at /content/gdrive\n"
          ]
        }
      ]
    },
    {
      "cell_type": "markdown",
      "source": [
        "## Libraries installation"
      ],
      "metadata": {
        "id": "lMtqGMhdN0Nk"
      }
    },
    {
      "cell_type": "code",
      "source": [
        "!pip install pyserini"
      ],
      "metadata": {
        "colab": {
          "base_uri": "https://localhost:8080/"
        },
        "id": "SgKa8dC1qK7x",
        "outputId": "dca7ccb1-cfae-45f8-a94f-01aba7d540fc"
      },
      "execution_count": null,
      "outputs": [
        {
          "output_type": "stream",
          "name": "stdout",
          "text": [
            "Looking in indexes: https://pypi.org/simple, https://us-python.pkg.dev/colab-wheels/public/simple/\n",
            "Requirement already satisfied: pyserini in /usr/local/lib/python3.9/site-packages (0.20.0)\n",
            "Requirement already satisfied: pyjnius>=1.4.0 in /usr/local/lib/python3.9/site-packages (from pyserini) (1.4.2)\n",
            "Requirement already satisfied: scikit-learn>=0.22.1 in /usr/local/lib/python3.9/site-packages (from pyserini) (1.2.2)\n",
            "Requirement already satisfied: onnxruntime>=1.8.1 in /usr/local/lib/python3.9/site-packages (from pyserini) (1.14.1)\n",
            "Requirement already satisfied: sentencepiece>=0.1.95 in /usr/local/lib/python3.9/site-packages (from pyserini) (0.1.97)\n",
            "Requirement already satisfied: transformers>=4.6.0 in /usr/local/lib/python3.9/site-packages (from pyserini) (4.27.4)\n",
            "Requirement already satisfied: lightgbm>=3.3.2 in /usr/local/lib/python3.9/site-packages (from pyserini) (3.3.5)\n",
            "Requirement already satisfied: pandas>=1.4.0 in /usr/local/lib/python3.9/site-packages (from pyserini) (2.0.0)\n",
            "Requirement already satisfied: tqdm in /usr/local/lib/python3.9/site-packages (from pyserini) (4.65.0)\n",
            "Requirement already satisfied: spacy>=3.2.1 in /usr/local/lib/python3.9/site-packages (from pyserini) (3.5.1)\n",
            "Requirement already satisfied: nmslib>=2.1.1 in /usr/local/lib/python3.9/site-packages (from pyserini) (2.1.1)\n",
            "Requirement already satisfied: scipy>=1.4.1 in /usr/local/lib/python3.9/site-packages (from pyserini) (1.10.1)\n",
            "Requirement already satisfied: Cython>=0.29.21 in /usr/local/lib/python3.9/site-packages (from pyserini) (0.29.34)\n",
            "Requirement already satisfied: numpy>=1.18.1 in /usr/local/lib/python3.9/site-packages (from pyserini) (1.24.2)\n",
            "Requirement already satisfied: wheel in /usr/local/lib/python3.9/site-packages (from lightgbm>=3.3.2->pyserini) (0.38.4)\n",
            "Requirement already satisfied: psutil in /usr/local/lib/python3.9/site-packages (from nmslib>=2.1.1->pyserini) (5.9.4)\n",
            "Requirement already satisfied: pybind11<2.6.2 in /usr/local/lib/python3.9/site-packages (from nmslib>=2.1.1->pyserini) (2.6.1)\n",
            "Requirement already satisfied: packaging in /usr/local/lib/python3.9/site-packages (from onnxruntime>=1.8.1->pyserini) (23.0)\n",
            "Requirement already satisfied: coloredlogs in /usr/local/lib/python3.9/site-packages (from onnxruntime>=1.8.1->pyserini) (15.0.1)\n",
            "Requirement already satisfied: protobuf in /usr/local/lib/python3.9/site-packages (from onnxruntime>=1.8.1->pyserini) (4.22.1)\n",
            "Requirement already satisfied: sympy in /usr/local/lib/python3.9/site-packages (from onnxruntime>=1.8.1->pyserini) (1.11.1)\n",
            "Requirement already satisfied: flatbuffers in /usr/local/lib/python3.9/site-packages (from onnxruntime>=1.8.1->pyserini) (23.3.3)\n",
            "Requirement already satisfied: python-dateutil>=2.8.2 in /usr/local/lib/python3.9/site-packages (from pandas>=1.4.0->pyserini) (2.8.2)\n",
            "Requirement already satisfied: tzdata>=2022.1 in /usr/local/lib/python3.9/site-packages (from pandas>=1.4.0->pyserini) (2023.3)\n",
            "Requirement already satisfied: pytz>=2020.1 in /usr/local/lib/python3.9/site-packages (from pandas>=1.4.0->pyserini) (2023.3)\n",
            "Requirement already satisfied: six>=1.7.0 in /usr/local/lib/python3.9/site-packages (from pyjnius>=1.4.0->pyserini) (1.16.0)\n",
            "Requirement already satisfied: threadpoolctl>=2.0.0 in /usr/local/lib/python3.9/site-packages (from scikit-learn>=0.22.1->pyserini) (3.1.0)\n",
            "Requirement already satisfied: joblib>=1.1.1 in /usr/local/lib/python3.9/site-packages (from scikit-learn>=0.22.1->pyserini) (1.2.0)\n",
            "Requirement already satisfied: pathy>=0.10.0 in /usr/local/lib/python3.9/site-packages (from spacy>=3.2.1->pyserini) (0.10.1)\n",
            "Requirement already satisfied: catalogue<2.1.0,>=2.0.6 in /usr/local/lib/python3.9/site-packages (from spacy>=3.2.1->pyserini) (2.0.8)\n",
            "Requirement already satisfied: smart-open<7.0.0,>=5.2.1 in /usr/local/lib/python3.9/site-packages (from spacy>=3.2.1->pyserini) (6.3.0)\n",
            "Requirement already satisfied: spacy-loggers<2.0.0,>=1.0.0 in /usr/local/lib/python3.9/site-packages (from spacy>=3.2.1->pyserini) (1.0.4)\n",
            "Requirement already satisfied: langcodes<4.0.0,>=3.2.0 in /usr/local/lib/python3.9/site-packages (from spacy>=3.2.1->pyserini) (3.3.0)\n",
            "Requirement already satisfied: cymem<2.1.0,>=2.0.2 in /usr/local/lib/python3.9/site-packages (from spacy>=3.2.1->pyserini) (2.0.7)\n",
            "Requirement already satisfied: preshed<3.1.0,>=3.0.2 in /usr/local/lib/python3.9/site-packages (from spacy>=3.2.1->pyserini) (3.0.8)\n",
            "Requirement already satisfied: jinja2 in /usr/local/lib/python3.9/site-packages (from spacy>=3.2.1->pyserini) (3.1.2)\n",
            "Requirement already satisfied: setuptools in /usr/local/lib/python3.9/site-packages (from spacy>=3.2.1->pyserini) (65.6.3)\n",
            "Requirement already satisfied: pydantic!=1.8,!=1.8.1,<1.11.0,>=1.7.4 in /usr/local/lib/python3.9/site-packages (from spacy>=3.2.1->pyserini) (1.10.7)\n",
            "Requirement already satisfied: spacy-legacy<3.1.0,>=3.0.11 in /usr/local/lib/python3.9/site-packages (from spacy>=3.2.1->pyserini) (3.0.12)\n",
            "Requirement already satisfied: srsly<3.0.0,>=2.4.3 in /usr/local/lib/python3.9/site-packages (from spacy>=3.2.1->pyserini) (2.4.6)\n",
            "Requirement already satisfied: wasabi<1.2.0,>=0.9.1 in /usr/local/lib/python3.9/site-packages (from spacy>=3.2.1->pyserini) (1.1.1)\n",
            "Requirement already satisfied: murmurhash<1.1.0,>=0.28.0 in /usr/local/lib/python3.9/site-packages (from spacy>=3.2.1->pyserini) (1.0.9)\n",
            "Requirement already satisfied: requests<3.0.0,>=2.13.0 in /usr/local/lib/python3.9/site-packages (from spacy>=3.2.1->pyserini) (2.28.2)\n",
            "Requirement already satisfied: typer<0.8.0,>=0.3.0 in /usr/local/lib/python3.9/site-packages (from spacy>=3.2.1->pyserini) (0.7.0)\n",
            "Requirement already satisfied: thinc<8.2.0,>=8.1.8 in /usr/local/lib/python3.9/site-packages (from spacy>=3.2.1->pyserini) (8.1.9)\n",
            "Requirement already satisfied: regex!=2019.12.17 in /usr/local/lib/python3.9/site-packages (from transformers>=4.6.0->pyserini) (2023.3.23)\n",
            "Requirement already satisfied: filelock in /usr/local/lib/python3.9/site-packages (from transformers>=4.6.0->pyserini) (3.10.7)\n",
            "Requirement already satisfied: tokenizers!=0.11.3,<0.14,>=0.11.1 in /usr/local/lib/python3.9/site-packages (from transformers>=4.6.0->pyserini) (0.13.2)\n",
            "Requirement already satisfied: pyyaml>=5.1 in /usr/local/lib/python3.9/site-packages (from transformers>=4.6.0->pyserini) (6.0)\n",
            "Requirement already satisfied: huggingface-hub<1.0,>=0.11.0 in /usr/local/lib/python3.9/site-packages (from transformers>=4.6.0->pyserini) (0.13.3)\n",
            "Requirement already satisfied: typing-extensions>=3.7.4.3 in /usr/local/lib/python3.9/site-packages (from huggingface-hub<1.0,>=0.11.0->transformers>=4.6.0->pyserini) (4.5.0)\n",
            "Requirement already satisfied: certifi>=2017.4.17 in /usr/local/lib/python3.9/site-packages (from requests<3.0.0,>=2.13.0->spacy>=3.2.1->pyserini) (2022.12.7)\n",
            "Requirement already satisfied: charset-normalizer<4,>=2 in /usr/local/lib/python3.9/site-packages (from requests<3.0.0,>=2.13.0->spacy>=3.2.1->pyserini) (2.1.1)\n",
            "Requirement already satisfied: idna<4,>=2.5 in /usr/local/lib/python3.9/site-packages (from requests<3.0.0,>=2.13.0->spacy>=3.2.1->pyserini) (3.4)\n",
            "Requirement already satisfied: urllib3<1.27,>=1.21.1 in /usr/local/lib/python3.9/site-packages (from requests<3.0.0,>=2.13.0->spacy>=3.2.1->pyserini) (1.26.15)\n",
            "Requirement already satisfied: blis<0.8.0,>=0.7.8 in /usr/local/lib/python3.9/site-packages (from thinc<8.2.0,>=8.1.8->spacy>=3.2.1->pyserini) (0.7.9)\n",
            "Requirement already satisfied: confection<1.0.0,>=0.0.1 in /usr/local/lib/python3.9/site-packages (from thinc<8.2.0,>=8.1.8->spacy>=3.2.1->pyserini) (0.0.4)\n",
            "Requirement already satisfied: click<9.0.0,>=7.1.1 in /usr/local/lib/python3.9/site-packages (from typer<0.8.0,>=0.3.0->spacy>=3.2.1->pyserini) (8.1.3)\n",
            "Requirement already satisfied: humanfriendly>=9.1 in /usr/local/lib/python3.9/site-packages (from coloredlogs->onnxruntime>=1.8.1->pyserini) (10.0)\n",
            "Requirement already satisfied: MarkupSafe>=2.0 in /usr/local/lib/python3.9/site-packages (from jinja2->spacy>=3.2.1->pyserini) (2.1.2)\n",
            "Requirement already satisfied: mpmath>=0.19 in /usr/local/lib/python3.9/site-packages (from sympy->onnxruntime>=1.8.1->pyserini) (1.3.0)\n",
            "\u001b[33mWARNING: Running pip as the 'root' user can result in broken permissions and conflicting behaviour with the system package manager. It is recommended to use a virtual environment instead: https://pip.pypa.io/warnings/venv\u001b[0m\u001b[33m\n",
            "\u001b[0m"
          ]
        }
      ]
    },
    {
      "cell_type": "code",
      "source": [
        "!pip install torch"
      ],
      "metadata": {
        "colab": {
          "base_uri": "https://localhost:8080/"
        },
        "id": "0BtTgkXNt-aa",
        "outputId": "5f03ec0c-32ca-42c5-9115-3553048fd4bd"
      },
      "execution_count": null,
      "outputs": [
        {
          "output_type": "stream",
          "name": "stdout",
          "text": [
            "Looking in indexes: https://pypi.org/simple, https://us-python.pkg.dev/colab-wheels/public/simple/\n",
            "Requirement already satisfied: torch in /usr/local/lib/python3.9/site-packages (2.0.0)\n",
            "Requirement already satisfied: nvidia-cusparse-cu11==11.7.4.91 in /usr/local/lib/python3.9/site-packages (from torch) (11.7.4.91)\n",
            "Requirement already satisfied: triton==2.0.0 in /usr/local/lib/python3.9/site-packages (from torch) (2.0.0)\n",
            "Requirement already satisfied: nvidia-cusolver-cu11==11.4.0.1 in /usr/local/lib/python3.9/site-packages (from torch) (11.4.0.1)\n",
            "Requirement already satisfied: nvidia-curand-cu11==10.2.10.91 in /usr/local/lib/python3.9/site-packages (from torch) (10.2.10.91)\n",
            "Requirement already satisfied: typing-extensions in /usr/local/lib/python3.9/site-packages (from torch) (4.5.0)\n",
            "Requirement already satisfied: nvidia-cudnn-cu11==8.5.0.96 in /usr/local/lib/python3.9/site-packages (from torch) (8.5.0.96)\n",
            "Requirement already satisfied: nvidia-cublas-cu11==11.10.3.66 in /usr/local/lib/python3.9/site-packages (from torch) (11.10.3.66)\n",
            "Requirement already satisfied: nvidia-cuda-cupti-cu11==11.7.101 in /usr/local/lib/python3.9/site-packages (from torch) (11.7.101)\n",
            "Requirement already satisfied: jinja2 in /usr/local/lib/python3.9/site-packages (from torch) (3.1.2)\n",
            "Requirement already satisfied: networkx in /usr/local/lib/python3.9/site-packages (from torch) (3.1)\n",
            "Requirement already satisfied: filelock in /usr/local/lib/python3.9/site-packages (from torch) (3.10.7)\n",
            "Requirement already satisfied: nvidia-cuda-nvrtc-cu11==11.7.99 in /usr/local/lib/python3.9/site-packages (from torch) (11.7.99)\n",
            "Requirement already satisfied: sympy in /usr/local/lib/python3.9/site-packages (from torch) (1.11.1)\n",
            "Requirement already satisfied: nvidia-nvtx-cu11==11.7.91 in /usr/local/lib/python3.9/site-packages (from torch) (11.7.91)\n",
            "Requirement already satisfied: nvidia-nccl-cu11==2.14.3 in /usr/local/lib/python3.9/site-packages (from torch) (2.14.3)\n",
            "Requirement already satisfied: nvidia-cuda-runtime-cu11==11.7.99 in /usr/local/lib/python3.9/site-packages (from torch) (11.7.99)\n",
            "Requirement already satisfied: nvidia-cufft-cu11==10.9.0.58 in /usr/local/lib/python3.9/site-packages (from torch) (10.9.0.58)\n",
            "Requirement already satisfied: wheel in /usr/local/lib/python3.9/site-packages (from nvidia-cublas-cu11==11.10.3.66->torch) (0.38.4)\n",
            "Requirement already satisfied: setuptools in /usr/local/lib/python3.9/site-packages (from nvidia-cublas-cu11==11.10.3.66->torch) (65.6.3)\n",
            "Requirement already satisfied: lit in /usr/local/lib/python3.9/site-packages (from triton==2.0.0->torch) (16.0.0)\n",
            "Requirement already satisfied: cmake in /usr/local/lib/python3.9/site-packages (from triton==2.0.0->torch) (3.26.1)\n",
            "Requirement already satisfied: MarkupSafe>=2.0 in /usr/local/lib/python3.9/site-packages (from jinja2->torch) (2.1.2)\n",
            "Requirement already satisfied: mpmath>=0.19 in /usr/local/lib/python3.9/site-packages (from sympy->torch) (1.3.0)\n",
            "\u001b[33mWARNING: Running pip as the 'root' user can result in broken permissions and conflicting behaviour with the system package manager. It is recommended to use a virtual environment instead: https://pip.pypa.io/warnings/venv\u001b[0m\u001b[33m\n",
            "\u001b[0m"
          ]
        }
      ]
    },
    {
      "cell_type": "code",
      "source": [
        "!pip install -q condacolab"
      ],
      "metadata": {
        "id": "ko-4SMgrukjR",
        "colab": {
          "base_uri": "https://localhost:8080/"
        },
        "outputId": "8be418b9-7cda-4b67-a85d-470c8ddf881b"
      },
      "execution_count": null,
      "outputs": [
        {
          "output_type": "stream",
          "name": "stdout",
          "text": [
            "\u001b[33mWARNING: Running pip as the 'root' user can result in broken permissions and conflicting behaviour with the system package manager. It is recommended to use a virtual environment instead: https://pip.pypa.io/warnings/venv\u001b[0m\u001b[33m\n",
            "\u001b[0m"
          ]
        }
      ]
    },
    {
      "cell_type": "code",
      "source": [
        "import condacolab\n",
        "condacolab.install()"
      ],
      "metadata": {
        "colab": {
          "base_uri": "https://localhost:8080/"
        },
        "id": "02pw-o7yuex7",
        "outputId": "f0daec76-91d6-4627-a0c0-7cc86727f419"
      },
      "execution_count": null,
      "outputs": [
        {
          "output_type": "stream",
          "name": "stdout",
          "text": [
            "✨🍰✨ Everything looks OK!\n"
          ]
        }
      ]
    },
    {
      "cell_type": "code",
      "source": [
        "!conda install faiss-cpu -c pytorch"
      ],
      "metadata": {
        "colab": {
          "base_uri": "https://localhost:8080/"
        },
        "id": "ebyRbTHytm0t",
        "outputId": "8e7ecb03-ce1c-427c-8907-3124efb3f5c5"
      },
      "execution_count": null,
      "outputs": [
        {
          "output_type": "stream",
          "name": "stdout",
          "text": [
            "Collecting package metadata (current_repodata.json): - \b\b\\ \b\b| \b\b/ \b\b- \b\b\\ \b\b| \b\b/ \b\b- \b\b\\ \b\b| \b\b/ \b\b- \b\b\\ \b\b| \b\b/ \b\b- \b\b\\ \b\b| \b\b/ \b\b- \b\b\\ \b\b| \b\b/ \b\b- \b\b\\ \b\b| \b\b/ \b\b- \b\b\\ \b\b| \b\b/ \b\b- \b\b\\ \b\b| \b\b/ \b\b- \b\b\\ \b\b| \b\b/ \b\b- \b\b\\ \b\b| \b\b/ \b\b- \b\b\\ \b\b| \b\b/ \b\b- \b\b\\ \b\b| \b\b/ \b\b- \b\b\\ \b\b| \b\b/ \b\b- \b\b\\ \b\b| \b\b/ \b\b- \b\b\\ \b\b| \b\b/ \b\b- \b\b\\ \b\b| \b\b/ \b\b- \b\b\\ \b\b| \b\b/ \b\b- \b\b\\ \b\b| \b\b/ \b\b- \b\b\\ \b\b| \b\b/ \b\b- \b\b\\ \b\b| \b\b/ \b\b- \b\b\\ \b\b| \b\b/ \b\b- \b\b\\ \b\b| \b\b/ \b\b- \b\b\\ \b\b| \b\b/ \b\b- \b\b\\ \b\b| \b\b/ \b\b- \b\b\\ \b\b| \b\b/ \b\b- \b\b\\ \b\b| \b\b/ \b\b- \b\b\\ \b\b| \b\b/ \b\b- \b\b\\ \b\b| \b\b/ \b\b- \b\b\\ \b\b| \b\b/ \b\b- \b\b\\ \b\b| \b\b/ \b\b- \b\b\\ \b\b| \b\b/ \b\b- \b\b\\ \b\b| \b\b/ \b\b- \b\b\\ \b\b| \b\b/ \b\b- \b\b\\ \b\b| \b\b/ \b\b- \b\b\\ \b\b| \b\b/ \b\b- \b\b\\ \b\b| \b\b/ \b\bdone\n",
            "Solving environment: \\ \b\b| \b\b/ \b\b- \b\b\\ \b\b| \b\b/ \b\b- \b\b\\ \b\b| \b\b/ \b\b- \b\b\\ \b\b| \b\b/ \b\b- \b\b\\ \b\b| \b\b/ \b\b- \b\b\\ \b\b| \b\b/ \b\b- \b\b\\ \b\b| \b\b/ \b\b- \b\bdone\n",
            "\n",
            "# All requested packages already installed.\n",
            "\n"
          ]
        }
      ]
    },
    {
      "cell_type": "code",
      "source": [
        "!pip install evaluate"
      ],
      "metadata": {
        "colab": {
          "base_uri": "https://localhost:8080/"
        },
        "id": "aaRB1T4XNXNK",
        "outputId": "8fc06104-efee-4e2d-e4ea-53f332b3c127"
      },
      "execution_count": null,
      "outputs": [
        {
          "output_type": "stream",
          "name": "stdout",
          "text": [
            "Looking in indexes: https://pypi.org/simple, https://us-python.pkg.dev/colab-wheels/public/simple/\n",
            "Requirement already satisfied: evaluate in /usr/local/lib/python3.9/site-packages (0.4.0)\n",
            "Requirement already satisfied: responses<0.19 in /usr/local/lib/python3.9/site-packages (from evaluate) (0.18.0)\n",
            "Requirement already satisfied: xxhash in /usr/local/lib/python3.9/site-packages (from evaluate) (3.2.0)\n",
            "Requirement already satisfied: fsspec[http]>=2021.05.0 in /usr/local/lib/python3.9/site-packages (from evaluate) (2023.3.0)\n",
            "Requirement already satisfied: numpy>=1.17 in /usr/local/lib/python3.9/site-packages (from evaluate) (1.24.2)\n",
            "Requirement already satisfied: pandas in /usr/local/lib/python3.9/site-packages (from evaluate) (2.0.0)\n",
            "Requirement already satisfied: tqdm>=4.62.1 in /usr/local/lib/python3.9/site-packages (from evaluate) (4.65.0)\n",
            "Requirement already satisfied: multiprocess in /usr/local/lib/python3.9/site-packages (from evaluate) (0.70.14)\n",
            "Requirement already satisfied: requests>=2.19.0 in /usr/local/lib/python3.9/site-packages (from evaluate) (2.28.2)\n",
            "Requirement already satisfied: datasets>=2.0.0 in /usr/local/lib/python3.9/site-packages (from evaluate) (2.11.0)\n",
            "Requirement already satisfied: packaging in /usr/local/lib/python3.9/site-packages (from evaluate) (23.0)\n",
            "Requirement already satisfied: dill in /usr/local/lib/python3.9/site-packages (from evaluate) (0.3.6)\n",
            "Requirement already satisfied: huggingface-hub>=0.7.0 in /usr/local/lib/python3.9/site-packages (from evaluate) (0.13.3)\n",
            "Requirement already satisfied: pyarrow>=8.0.0 in /usr/local/lib/python3.9/site-packages (from datasets>=2.0.0->evaluate) (11.0.0)\n",
            "Requirement already satisfied: pyyaml>=5.1 in /usr/local/lib/python3.9/site-packages (from datasets>=2.0.0->evaluate) (6.0)\n",
            "Requirement already satisfied: aiohttp in /usr/local/lib/python3.9/site-packages (from datasets>=2.0.0->evaluate) (3.8.4)\n",
            "Requirement already satisfied: typing-extensions>=3.7.4.3 in /usr/local/lib/python3.9/site-packages (from huggingface-hub>=0.7.0->evaluate) (4.5.0)\n",
            "Requirement already satisfied: filelock in /usr/local/lib/python3.9/site-packages (from huggingface-hub>=0.7.0->evaluate) (3.10.7)\n",
            "Requirement already satisfied: urllib3<1.27,>=1.21.1 in /usr/local/lib/python3.9/site-packages (from requests>=2.19.0->evaluate) (1.26.15)\n",
            "Requirement already satisfied: idna<4,>=2.5 in /usr/local/lib/python3.9/site-packages (from requests>=2.19.0->evaluate) (3.4)\n",
            "Requirement already satisfied: certifi>=2017.4.17 in /usr/local/lib/python3.9/site-packages (from requests>=2.19.0->evaluate) (2022.12.7)\n",
            "Requirement already satisfied: charset-normalizer<4,>=2 in /usr/local/lib/python3.9/site-packages (from requests>=2.19.0->evaluate) (2.1.1)\n",
            "Requirement already satisfied: python-dateutil>=2.8.2 in /usr/local/lib/python3.9/site-packages (from pandas->evaluate) (2.8.2)\n",
            "Requirement already satisfied: pytz>=2020.1 in /usr/local/lib/python3.9/site-packages (from pandas->evaluate) (2023.3)\n",
            "Requirement already satisfied: tzdata>=2022.1 in /usr/local/lib/python3.9/site-packages (from pandas->evaluate) (2023.3)\n",
            "Requirement already satisfied: async-timeout<5.0,>=4.0.0a3 in /usr/local/lib/python3.9/site-packages (from aiohttp->datasets>=2.0.0->evaluate) (4.0.2)\n",
            "Requirement already satisfied: yarl<2.0,>=1.0 in /usr/local/lib/python3.9/site-packages (from aiohttp->datasets>=2.0.0->evaluate) (1.8.2)\n",
            "Requirement already satisfied: multidict<7.0,>=4.5 in /usr/local/lib/python3.9/site-packages (from aiohttp->datasets>=2.0.0->evaluate) (6.0.4)\n",
            "Requirement already satisfied: attrs>=17.3.0 in /usr/local/lib/python3.9/site-packages (from aiohttp->datasets>=2.0.0->evaluate) (22.2.0)\n",
            "Requirement already satisfied: frozenlist>=1.1.1 in /usr/local/lib/python3.9/site-packages (from aiohttp->datasets>=2.0.0->evaluate) (1.3.3)\n",
            "Requirement already satisfied: aiosignal>=1.1.2 in /usr/local/lib/python3.9/site-packages (from aiohttp->datasets>=2.0.0->evaluate) (1.3.1)\n",
            "Requirement already satisfied: six>=1.5 in /usr/local/lib/python3.9/site-packages (from python-dateutil>=2.8.2->pandas->evaluate) (1.16.0)\n",
            "\u001b[33mWARNING: Running pip as the 'root' user can result in broken permissions and conflicting behaviour with the system package manager. It is recommended to use a virtual environment instead: https://pip.pypa.io/warnings/venv\u001b[0m\u001b[33m\n",
            "\u001b[0m"
          ]
        }
      ]
    },
    {
      "cell_type": "code",
      "source": [
        "!pip install trectools"
      ],
      "metadata": {
        "colab": {
          "base_uri": "https://localhost:8080/"
        },
        "id": "Kj_KnpomPBL3",
        "outputId": "b6fc78e1-1443-40be-9d12-746c54e0751c"
      },
      "execution_count": null,
      "outputs": [
        {
          "output_type": "stream",
          "name": "stdout",
          "text": [
            "Looking in indexes: https://pypi.org/simple, https://us-python.pkg.dev/colab-wheels/public/simple/\n",
            "Requirement already satisfied: trectools in /usr/local/lib/python3.9/site-packages (0.0.49)\n",
            "Requirement already satisfied: numpy>=1.0.0 in /usr/local/lib/python3.9/site-packages (from trectools) (1.24.2)\n",
            "Requirement already satisfied: scipy>=0.10.0 in /usr/local/lib/python3.9/site-packages (from trectools) (1.10.1)\n",
            "Requirement already satisfied: sarge>=0.1.1 in /usr/local/lib/python3.9/site-packages (from trectools) (0.1.7.post1)\n",
            "Requirement already satisfied: scikit-learn>=0.15 in /usr/local/lib/python3.9/site-packages (from trectools) (1.2.2)\n",
            "Requirement already satisfied: bs4>=0.0.0.1 in /usr/local/lib/python3.9/site-packages (from trectools) (0.0.1)\n",
            "Requirement already satisfied: pandas>=0.15.0 in /usr/local/lib/python3.9/site-packages (from trectools) (2.0.0)\n",
            "Requirement already satisfied: matplotlib>=1.5 in /usr/local/lib/python3.9/site-packages (from trectools) (3.7.1)\n",
            "Requirement already satisfied: lxml>=3.6.0 in /usr/local/lib/python3.9/site-packages (from trectools) (4.9.2)\n",
            "Requirement already satisfied: beautifulsoup4 in /usr/local/lib/python3.9/site-packages (from bs4>=0.0.0.1->trectools) (4.12.0)\n",
            "Requirement already satisfied: python-dateutil>=2.7 in /usr/local/lib/python3.9/site-packages (from matplotlib>=1.5->trectools) (2.8.2)\n",
            "Requirement already satisfied: cycler>=0.10 in /usr/local/lib/python3.9/site-packages (from matplotlib>=1.5->trectools) (0.11.0)\n",
            "Requirement already satisfied: contourpy>=1.0.1 in /usr/local/lib/python3.9/site-packages (from matplotlib>=1.5->trectools) (1.0.7)\n",
            "Requirement already satisfied: pyparsing>=2.3.1 in /usr/local/lib/python3.9/site-packages (from matplotlib>=1.5->trectools) (3.0.9)\n",
            "Requirement already satisfied: pillow>=6.2.0 in /usr/local/lib/python3.9/site-packages (from matplotlib>=1.5->trectools) (9.5.0)\n",
            "Requirement already satisfied: fonttools>=4.22.0 in /usr/local/lib/python3.9/site-packages (from matplotlib>=1.5->trectools) (4.39.3)\n",
            "Requirement already satisfied: kiwisolver>=1.0.1 in /usr/local/lib/python3.9/site-packages (from matplotlib>=1.5->trectools) (1.4.4)\n",
            "Requirement already satisfied: importlib-resources>=3.2.0 in /usr/local/lib/python3.9/site-packages (from matplotlib>=1.5->trectools) (5.12.0)\n",
            "Requirement already satisfied: packaging>=20.0 in /usr/local/lib/python3.9/site-packages (from matplotlib>=1.5->trectools) (23.0)\n",
            "Requirement already satisfied: pytz>=2020.1 in /usr/local/lib/python3.9/site-packages (from pandas>=0.15.0->trectools) (2023.3)\n",
            "Requirement already satisfied: tzdata>=2022.1 in /usr/local/lib/python3.9/site-packages (from pandas>=0.15.0->trectools) (2023.3)\n",
            "Requirement already satisfied: threadpoolctl>=2.0.0 in /usr/local/lib/python3.9/site-packages (from scikit-learn>=0.15->trectools) (3.1.0)\n",
            "Requirement already satisfied: joblib>=1.1.1 in /usr/local/lib/python3.9/site-packages (from scikit-learn>=0.15->trectools) (1.2.0)\n",
            "Requirement already satisfied: zipp>=3.1.0 in /usr/local/lib/python3.9/site-packages (from importlib-resources>=3.2.0->matplotlib>=1.5->trectools) (3.15.0)\n",
            "Requirement already satisfied: six>=1.5 in /usr/local/lib/python3.9/site-packages (from python-dateutil>=2.7->matplotlib>=1.5->trectools) (1.16.0)\n",
            "Requirement already satisfied: soupsieve>1.2 in /usr/local/lib/python3.9/site-packages (from beautifulsoup4->bs4>=0.0.0.1->trectools) (2.4)\n",
            "\u001b[33mWARNING: Running pip as the 'root' user can result in broken permissions and conflicting behaviour with the system package manager. It is recommended to use a virtual environment instead: https://pip.pypa.io/warnings/venv\u001b[0m\u001b[33m\n",
            "\u001b[0m"
          ]
        }
      ]
    },
    {
      "cell_type": "markdown",
      "source": [
        "## Index building"
      ],
      "metadata": {
        "id": "5FA9LSYCOEhY"
      }
    },
    {
      "cell_type": "code",
      "source": [
        "from pyserini.search.lucene import LuceneSearcher"
      ],
      "metadata": {
        "id": "_qF8eynYtEBl"
      },
      "execution_count": null,
      "outputs": []
    },
    {
      "cell_type": "code",
      "source": [
        "LuceneSearcher.from_prebuilt_index('beir-v1.0.0-trec-covid-flat')"
      ],
      "metadata": {
        "id": "_ju9ILOVtesd",
        "colab": {
          "base_uri": "https://localhost:8080/"
        },
        "outputId": "3da32b15-679f-48e4-e9f7-2129cfc5c150"
      },
      "execution_count": null,
      "outputs": [
        {
          "output_type": "execute_result",
          "data": {
            "text/plain": [
              "<pyserini.search.lucene._searcher.LuceneSearcher at 0x7fe2918d1a90>"
            ]
          },
          "metadata": {},
          "execution_count": 8
        }
      ]
    },
    {
      "cell_type": "code",
      "source": [
        "!ls ~/.cache/pyserini/indexes/"
      ],
      "metadata": {
        "colab": {
          "base_uri": "https://localhost:8080/"
        },
        "id": "nE9F6Mflz1pc",
        "outputId": "59c1dea6-0e2c-4cca-c3aa-0d6195e161cd"
      },
      "execution_count": null,
      "outputs": [
        {
          "output_type": "stream",
          "name": "stdout",
          "text": [
            "lucene-index.beir-v1.0.0-trec-covid-flat.20221116.505594.9ae06c30a7c352f18a5a8e75b88b9106\n"
          ]
        }
      ]
    },
    {
      "cell_type": "markdown",
      "source": [
        "## Dataset download and preparation\n",
        "\n"
      ],
      "metadata": {
        "id": "xT8Gbp_HOJSd"
      }
    },
    {
      "cell_type": "code",
      "source": [
        "!wget https://huggingface.co/datasets/BeIR/trec-covid/resolve/main/queries.jsonl.gz"
      ],
      "metadata": {
        "colab": {
          "base_uri": "https://localhost:8080/"
        },
        "id": "DPxh4NWaz2ct",
        "outputId": "fbc52916-05ca-40b7-a83c-5ea94bacd4a3"
      },
      "execution_count": null,
      "outputs": [
        {
          "output_type": "stream",
          "name": "stdout",
          "text": [
            "--2023-04-05 00:29:53--  https://huggingface.co/datasets/BeIR/trec-covid/resolve/main/queries.jsonl.gz\n",
            "Resolving huggingface.co (huggingface.co)... 34.230.159.254, 34.206.0.154, 52.22.128.237, ...\n",
            "Connecting to huggingface.co (huggingface.co)|34.230.159.254|:443... connected.\n",
            "HTTP request sent, awaiting response... 302 Found\n",
            "Location: https://cdn-lfs.huggingface.co/repos/a8/10/a810e88b0e7b233be82b89c1fa6ec2d75efc6d55784c2ada9dcac8434a634f3a/9eadcc2cdf140addc9dae83648bb2c6611f5e4b66eaed7475fa5a0ca48eda371?response-content-disposition=attachment%3B+filename*%3DUTF-8%27%27queries.jsonl.gz%3B+filename%3D%22queries.jsonl.gz%22%3B&response-content-type=application%2Fgzip&Expires=1680913793&Policy=eyJTdGF0ZW1lbnQiOlt7IlJlc291cmNlIjoiaHR0cHM6Ly9jZG4tbGZzLmh1Z2dpbmdmYWNlLmNvL3JlcG9zL2E4LzEwL2E4MTBlODhiMGU3YjIzM2JlODJiODljMWZhNmVjMmQ3NWVmYzZkNTU3ODRjMmFkYTlkY2FjODQzNGE2MzRmM2EvOWVhZGNjMmNkZjE0MGFkZGM5ZGFlODM2NDhiYjJjNjYxMWY1ZTRiNjZlYWVkNzQ3NWZhNWEwY2E0OGVkYTM3MT9yZXNwb25zZS1jb250ZW50LWRpc3Bvc2l0aW9uPSomcmVzcG9uc2UtY29udGVudC10eXBlPSoiLCJDb25kaXRpb24iOnsiRGF0ZUxlc3NUaGFuIjp7IkFXUzpFcG9jaFRpbWUiOjE2ODA5MTM3OTN9fX1dfQ__&Signature=i7J%7ERHYoPcBpM9LelmjsI7nimK-6WT6W6UJIwwpFTMfyH50QhDiyR5rKRWXtPWa3RqXqzi9fRvNWVtZPtYBg8Dkas83ZjiK7u0HT0uyOpJyLAogFj4Sb8xHS3vH9VYzLyKONSYTYSySyMvWetzJTxViEV3aso9IJ-oIME%7EwGLq40AHB-7Thkw8ci7-GezwtEGz9ypD0BxCY7UPkgraXXMHEgw6xjNU6oIPWS6tIdq1XE1j267F1kj6H2jYMnXdSVXZ-2iylWTA-9T9pBaVBjlecr9TFfI32ImwYhxbs1QtsCgeooB3Mrhc0-tbvIn5N-haZ12FXke356aeAPrcgWWg__&Key-Pair-Id=KVTP0A1DKRTAX [following]\n",
            "--2023-04-05 00:29:53--  https://cdn-lfs.huggingface.co/repos/a8/10/a810e88b0e7b233be82b89c1fa6ec2d75efc6d55784c2ada9dcac8434a634f3a/9eadcc2cdf140addc9dae83648bb2c6611f5e4b66eaed7475fa5a0ca48eda371?response-content-disposition=attachment%3B+filename*%3DUTF-8%27%27queries.jsonl.gz%3B+filename%3D%22queries.jsonl.gz%22%3B&response-content-type=application%2Fgzip&Expires=1680913793&Policy=eyJTdGF0ZW1lbnQiOlt7IlJlc291cmNlIjoiaHR0cHM6Ly9jZG4tbGZzLmh1Z2dpbmdmYWNlLmNvL3JlcG9zL2E4LzEwL2E4MTBlODhiMGU3YjIzM2JlODJiODljMWZhNmVjMmQ3NWVmYzZkNTU3ODRjMmFkYTlkY2FjODQzNGE2MzRmM2EvOWVhZGNjMmNkZjE0MGFkZGM5ZGFlODM2NDhiYjJjNjYxMWY1ZTRiNjZlYWVkNzQ3NWZhNWEwY2E0OGVkYTM3MT9yZXNwb25zZS1jb250ZW50LWRpc3Bvc2l0aW9uPSomcmVzcG9uc2UtY29udGVudC10eXBlPSoiLCJDb25kaXRpb24iOnsiRGF0ZUxlc3NUaGFuIjp7IkFXUzpFcG9jaFRpbWUiOjE2ODA5MTM3OTN9fX1dfQ__&Signature=i7J%7ERHYoPcBpM9LelmjsI7nimK-6WT6W6UJIwwpFTMfyH50QhDiyR5rKRWXtPWa3RqXqzi9fRvNWVtZPtYBg8Dkas83ZjiK7u0HT0uyOpJyLAogFj4Sb8xHS3vH9VYzLyKONSYTYSySyMvWetzJTxViEV3aso9IJ-oIME%7EwGLq40AHB-7Thkw8ci7-GezwtEGz9ypD0BxCY7UPkgraXXMHEgw6xjNU6oIPWS6tIdq1XE1j267F1kj6H2jYMnXdSVXZ-2iylWTA-9T9pBaVBjlecr9TFfI32ImwYhxbs1QtsCgeooB3Mrhc0-tbvIn5N-haZ12FXke356aeAPrcgWWg__&Key-Pair-Id=KVTP0A1DKRTAX\n",
            "Resolving cdn-lfs.huggingface.co (cdn-lfs.huggingface.co)... 108.138.64.36, 108.138.64.121, 108.138.64.49, ...\n",
            "Connecting to cdn-lfs.huggingface.co (cdn-lfs.huggingface.co)|108.138.64.36|:443... connected.\n",
            "HTTP request sent, awaiting response... 200 OK\n",
            "Length: 4702 (4.6K) [application/gzip]\n",
            "Saving to: ‘queries.jsonl.gz’\n",
            "\n",
            "\rqueries.jsonl.gz      0%[                    ]       0  --.-KB/s               \rqueries.jsonl.gz    100%[===================>]   4.59K  --.-KB/s    in 0s      \n",
            "\n",
            "2023-04-05 00:29:53 (990 MB/s) - ‘queries.jsonl.gz’ saved [4702/4702]\n",
            "\n"
          ]
        }
      ]
    },
    {
      "cell_type": "code",
      "source": [
        "main_dir = \"/content/gdrive/MyDrive/Unicamp-aula-6-3\""
      ],
      "metadata": {
        "id": "5hIbFpCr07aJ"
      },
      "execution_count": null,
      "outputs": []
    },
    {
      "cell_type": "code",
      "source": [
        "!mv queries.jsonl.gz {main_dir}/trec-covid"
      ],
      "metadata": {
        "id": "JSGWmzzl0ejR"
      },
      "execution_count": null,
      "outputs": []
    },
    {
      "cell_type": "code",
      "source": [
        "!gunzip {main_dir}/trec-covid/queries.jsonl.gz"
      ],
      "metadata": {
        "id": "Mu0V6qxf0_dj"
      },
      "execution_count": null,
      "outputs": []
    },
    {
      "cell_type": "code",
      "source": [
        "import json\n",
        "\n",
        "with open(f'{main_dir}/trec-covid/queries.tsv','w') as f_out:\n",
        "  with open(f'{main_dir}/trec-covid/queries.jsonl', 'r') as f:\n",
        "    for line in f:\n",
        "      data = json.loads(line)\n",
        "      id = data['_id']\n",
        "      text = data['text']\n",
        "      f_out.write(f'{id}\\t{text}\\n')\n",
        "        \n"
      ],
      "metadata": {
        "id": "kQ0oTr583QwV"
      },
      "execution_count": null,
      "outputs": []
    },
    {
      "cell_type": "code",
      "source": [
        "topics = \"trec-covid\""
      ],
      "metadata": {
        "id": "p4ZjhXv1A_Z3"
      },
      "execution_count": null,
      "outputs": []
    },
    {
      "cell_type": "code",
      "source": [
        "!wget https://huggingface.co/datasets/BeIR/trec-covid-qrels/raw/main/test.tsv"
      ],
      "metadata": {
        "id": "43e_Ik5QObLW"
      },
      "execution_count": null,
      "outputs": []
    },
    {
      "cell_type": "code",
      "source": [
        "!mv test.tsv {main_dir}/trec-covid"
      ],
      "metadata": {
        "id": "HnooTvYPOfF9"
      },
      "execution_count": null,
      "outputs": []
    },
    {
      "cell_type": "code",
      "source": [
        "import pandas as pd\n",
        "\n",
        "qrel = pd.read_csv(f\"{main_dir}/trec-covid/test.tsv\", sep=\"\\t\", header=None, \n",
        "                   skiprows=1, names=[\"query\", \"docid\", \"rel\"])\n",
        "qrel[\"q0\"] = \"q0\"\n",
        "qrel = qrel.to_dict(orient=\"list\")"
      ],
      "metadata": {
        "id": "uPmeDT5ROkBz"
      },
      "execution_count": null,
      "outputs": []
    },
    {
      "cell_type": "code",
      "source": [
        "run = pd.read_csv(f\"{main_dir}/runs/run.{topics}.bm25tuned.txt\", sep=\"\\s+\", \n",
        "                  names=[\"query\", \"q0\", \"docid\", \"rank\", \"score\", \"system\"])\n",
        "run = run.to_dict(orient=\"list\")"
      ],
      "metadata": {
        "id": "qkxNsfvJOpAq"
      },
      "execution_count": null,
      "outputs": []
    },
    {
      "cell_type": "markdown",
      "source": [
        "## Searching with BM25"
      ],
      "metadata": {
        "id": "5uKNLQ8WOT_-"
      }
    },
    {
      "cell_type": "code",
      "source": [
        "!python -m pyserini.search.lucene \\\n",
        "  --index ~/.cache/pyserini/indexes/lucene-index.beir-v1.0.0-trec-covid-flat.20221116.505594.9ae06c30a7c352f18a5a8e75b88b9106 \\\n",
        "  --topics {main_dir}/{topics}/queries.tsv \\\n",
        "  --output {main_dir}/runs/run.{topics}.bm25tuned.txt \\\n",
        "  --hits 1000 \\\n",
        "  --bm25 --k1 0.82 --b 0.68"
      ],
      "metadata": {
        "colab": {
          "base_uri": "https://localhost:8080/"
        },
        "id": "3OyOzTCa4km5",
        "outputId": "369052df-b7d7-4df0-9f60-e2a5ad74ae16"
      },
      "execution_count": null,
      "outputs": [
        {
          "output_type": "stream",
          "name": "stdout",
          "text": [
            "Setting BM25 parameters: k1=0.82, b=0.68\n",
            "Running /content/gdrive/MyDrive/Unicamp-aula-6-3/trec-covid/queries.tsv topics, saving to /content/gdrive/MyDrive/Unicamp-aula-6-3/runs/run.trec-covid.bm25tuned.txt...\n",
            "100% 50/50 [00:05<00:00,  8.54it/s]\n"
          ]
        }
      ]
    },
    {
      "cell_type": "code",
      "source": [
        "from evaluate import load\n",
        "trec_eval = load(\"trec_eval\")\n",
        "results = trec_eval.compute(predictions=[run], references=[qrel])"
      ],
      "metadata": {
        "id": "G0U4NZbaKtS9"
      },
      "execution_count": null,
      "outputs": []
    },
    {
      "cell_type": "code",
      "source": [
        "results['NDCG@10']"
      ],
      "metadata": {
        "colab": {
          "base_uri": "https://localhost:8080/"
        },
        "id": "b_rp_W2kPuBk",
        "outputId": "f61be020-83a2-4fc4-d31e-637a3f328ad9"
      },
      "execution_count": null,
      "outputs": [
        {
          "output_type": "execute_result",
          "data": {
            "text/plain": [
              "0.5963435398557583"
            ]
          },
          "metadata": {},
          "execution_count": 15
        }
      ]
    },
    {
      "cell_type": "code",
      "source": [],
      "metadata": {
        "id": "XyNAlUk8PxyY"
      },
      "execution_count": null,
      "outputs": []
    }
  ]
}