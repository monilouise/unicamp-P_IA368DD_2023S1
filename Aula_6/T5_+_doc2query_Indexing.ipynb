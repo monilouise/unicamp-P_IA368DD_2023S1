{
  "cells": [
    {
      "cell_type": "markdown",
      "metadata": {
        "id": "X44Rygw5plZS"
      },
      "source": [
        "# T5 + doc2query - Indexing\n",
        "\n",
        "Author: Monique Monteiro (moniquelouise@gmail.com)"
      ]
    },
    {
      "cell_type": "code",
      "execution_count": 1,
      "metadata": {
        "colab": {
          "base_uri": "https://localhost:8080/"
        },
        "id": "3-8cvyCApqpa",
        "outputId": "3227b148-123b-4730-e98a-9c4fae97eb26"
      },
      "outputs": [
        {
          "output_type": "stream",
          "name": "stdout",
          "text": [
            "Mounted at /content/gdrive\n"
          ]
        }
      ],
      "source": [
        "from google.colab import drive\n",
        "drive.mount('/content/gdrive', force_remount=True)"
      ]
    },
    {
      "cell_type": "markdown",
      "metadata": {
        "id": "lMtqGMhdN0Nk"
      },
      "source": [
        "## Libraries installation"
      ]
    },
    {
      "cell_type": "code",
      "execution_count": 2,
      "metadata": {
        "colab": {
          "base_uri": "https://localhost:8080/",
          "height": 1000
        },
        "id": "SgKa8dC1qK7x",
        "outputId": "b22c4966-4f7b-4ee5-fc03-7a6813be0373"
      },
      "outputs": [
        {
          "output_type": "stream",
          "name": "stdout",
          "text": [
            "Looking in indexes: https://pypi.org/simple, https://us-python.pkg.dev/colab-wheels/public/simple/\n",
            "Collecting pyserini\n",
            "  Using cached pyserini-0.21.0-py3-none-any.whl (154.1 MB)\n",
            "Collecting onnxruntime>=1.8.1\n",
            "  Using cached onnxruntime-1.14.1-cp39-cp39-manylinux_2_27_x86_64.whl (5.0 MB)\n",
            "Collecting transformers>=4.6.0\n",
            "  Using cached transformers-4.27.4-py3-none-any.whl (6.8 MB)\n",
            "Requirement already satisfied: tqdm in /usr/local/lib/python3.9/site-packages (from pyserini) (4.65.0)\n",
            "Collecting scipy>=1.4.1\n",
            "  Downloading scipy-1.10.1-cp39-cp39-manylinux_2_17_x86_64.manylinux2014_x86_64.whl (34.5 MB)\n",
            "\u001b[2K     \u001b[90m━━━━━━━━━━━━━━━━━━━━━━━━━━━━━━━━━━━━━━━━\u001b[0m \u001b[32m34.5/34.5 MB\u001b[0m \u001b[31m52.1 MB/s\u001b[0m eta \u001b[36m0:00:00\u001b[0m\n",
            "\u001b[?25hCollecting sentencepiece>=0.1.95\n",
            "  Using cached sentencepiece-0.1.98-cp39-cp39-manylinux_2_17_x86_64.manylinux2014_x86_64.whl (1.3 MB)\n",
            "Collecting lightgbm>=3.3.2\n",
            "  Downloading lightgbm-3.3.5-py3-none-manylinux1_x86_64.whl (2.0 MB)\n",
            "\u001b[2K     \u001b[90m━━━━━━━━━━━━━━━━━━━━━━━━━━━━━━━━━━━━━━━━\u001b[0m \u001b[32m2.0/2.0 MB\u001b[0m \u001b[31m101.7 MB/s\u001b[0m eta \u001b[36m0:00:00\u001b[0m\n",
            "\u001b[?25hRequirement already satisfied: pyyaml in /usr/local/lib/python3.9/site-packages (from pyserini) (6.0)\n",
            "Collecting pyjnius>=1.4.0\n",
            "  Using cached pyjnius-1.4.2-cp39-cp39-manylinux_2_17_x86_64.manylinux2014_x86_64.whl (1.5 MB)\n",
            "Collecting nmslib>=2.1.1\n",
            "  Using cached nmslib-2.1.1-cp39-cp39-manylinux2010_x86_64.whl (13.3 MB)\n",
            "Collecting scikit-learn>=0.22.1\n",
            "  Downloading scikit_learn-1.2.2-cp39-cp39-manylinux_2_17_x86_64.manylinux2014_x86_64.whl (9.6 MB)\n",
            "\u001b[2K     \u001b[90m━━━━━━━━━━━━━━━━━━━━━━━━━━━━━━━━━━━━━━━━\u001b[0m \u001b[32m9.6/9.6 MB\u001b[0m \u001b[31m118.5 MB/s\u001b[0m eta \u001b[36m0:00:00\u001b[0m\n",
            "\u001b[?25hRequirement already satisfied: numpy>=1.18.1 in /usr/local/lib/python3.9/site-packages (from pyserini) (1.24.2)\n",
            "Collecting Cython>=0.29.21\n",
            "  Downloading Cython-0.29.34-cp39-cp39-manylinux_2_17_x86_64.manylinux2014_x86_64.manylinux_2_24_x86_64.whl (2.0 MB)\n",
            "\u001b[2K     \u001b[90m━━━━━━━━━━━━━━━━━━━━━━━━━━━━━━━━━━━━━━━━\u001b[0m \u001b[32m2.0/2.0 MB\u001b[0m \u001b[31m98.4 MB/s\u001b[0m eta \u001b[36m0:00:00\u001b[0m\n",
            "\u001b[?25hCollecting spacy>=3.2.1\n",
            "  Downloading spacy-3.5.2-cp39-cp39-manylinux_2_17_x86_64.manylinux2014_x86_64.whl (6.6 MB)\n",
            "\u001b[2K     \u001b[90m━━━━━━━━━━━━━━━━━━━━━━━━━━━━━━━━━━━━━━━━\u001b[0m \u001b[32m6.6/6.6 MB\u001b[0m \u001b[31m117.1 MB/s\u001b[0m eta \u001b[36m0:00:00\u001b[0m\n",
            "\u001b[?25hRequirement already satisfied: pandas>=1.4.0 in /usr/local/lib/python3.9/site-packages (from pyserini) (2.0.0)\n",
            "Requirement already satisfied: wheel in /usr/local/lib/python3.9/site-packages (from lightgbm>=3.3.2->pyserini) (0.38.4)\n",
            "Collecting psutil\n",
            "  Downloading psutil-5.9.4-cp36-abi3-manylinux_2_12_x86_64.manylinux2010_x86_64.manylinux_2_17_x86_64.manylinux2014_x86_64.whl (280 kB)\n",
            "\u001b[2K     \u001b[90m━━━━━━━━━━━━━━━━━━━━━━━━━━━━━━━━━━━━━━\u001b[0m \u001b[32m280.2/280.2 kB\u001b[0m \u001b[31m35.6 MB/s\u001b[0m eta \u001b[36m0:00:00\u001b[0m\n",
            "\u001b[?25hCollecting pybind11<2.6.2\n",
            "  Using cached pybind11-2.6.1-py2.py3-none-any.whl (188 kB)\n",
            "Collecting flatbuffers\n",
            "  Downloading flatbuffers-23.3.3-py2.py3-none-any.whl (26 kB)\n",
            "Requirement already satisfied: packaging in /usr/local/lib/python3.9/site-packages (from onnxruntime>=1.8.1->pyserini) (23.1)\n",
            "Collecting protobuf\n",
            "  Downloading protobuf-4.22.3-cp37-abi3-manylinux2014_x86_64.whl (302 kB)\n",
            "\u001b[2K     \u001b[90m━━━━━━━━━━━━━━━━━━━━━━━━━━━━━━━━━━━━━━\u001b[0m \u001b[32m302.4/302.4 kB\u001b[0m \u001b[31m39.5 MB/s\u001b[0m eta \u001b[36m0:00:00\u001b[0m\n",
            "\u001b[?25hCollecting sympy\n",
            "  Downloading sympy-1.11.1-py3-none-any.whl (6.5 MB)\n",
            "\u001b[2K     \u001b[90m━━━━━━━━━━━━━━━━━━━━━━━━━━━━━━━━━━━━━━━━\u001b[0m \u001b[32m6.5/6.5 MB\u001b[0m \u001b[31m51.4 MB/s\u001b[0m eta \u001b[36m0:00:00\u001b[0m\n",
            "\u001b[?25hCollecting coloredlogs\n",
            "  Using cached coloredlogs-15.0.1-py2.py3-none-any.whl (46 kB)\n",
            "Requirement already satisfied: pytz>=2020.1 in /usr/local/lib/python3.9/site-packages (from pandas>=1.4.0->pyserini) (2023.3)\n",
            "Requirement already satisfied: tzdata>=2022.1 in /usr/local/lib/python3.9/site-packages (from pandas>=1.4.0->pyserini) (2023.3)\n",
            "Requirement already satisfied: python-dateutil>=2.8.2 in /usr/local/lib/python3.9/site-packages (from pandas>=1.4.0->pyserini) (2.8.2)\n",
            "Requirement already satisfied: six>=1.7.0 in /usr/local/lib/python3.9/site-packages (from pyjnius>=1.4.0->pyserini) (1.16.0)\n",
            "Collecting threadpoolctl>=2.0.0\n",
            "  Downloading threadpoolctl-3.1.0-py3-none-any.whl (14 kB)\n",
            "Collecting joblib>=1.1.1\n",
            "  Downloading joblib-1.2.0-py3-none-any.whl (297 kB)\n",
            "\u001b[2K     \u001b[90m━━━━━━━━━━━━━━━━━━━━━━━━━━━━━━━━━━━━━━\u001b[0m \u001b[32m298.0/298.0 kB\u001b[0m \u001b[31m38.5 MB/s\u001b[0m eta \u001b[36m0:00:00\u001b[0m\n",
            "\u001b[?25hCollecting typer<0.8.0,>=0.3.0\n",
            "  Downloading typer-0.7.0-py3-none-any.whl (38 kB)\n",
            "Collecting thinc<8.2.0,>=8.1.8\n",
            "  Downloading thinc-8.1.9-cp39-cp39-manylinux_2_17_x86_64.manylinux2014_x86_64.whl (922 kB)\n",
            "\u001b[2K     \u001b[90m━━━━━━━━━━━━━━━━━━━━━━━━━━━━━━━━━━━━━━\u001b[0m \u001b[32m922.5/922.5 kB\u001b[0m \u001b[31m75.9 MB/s\u001b[0m eta \u001b[36m0:00:00\u001b[0m\n",
            "\u001b[?25hCollecting spacy-legacy<3.1.0,>=3.0.11\n",
            "  Downloading spacy_legacy-3.0.12-py2.py3-none-any.whl (29 kB)\n",
            "Collecting wasabi<1.2.0,>=0.9.1\n",
            "  Downloading wasabi-1.1.1-py3-none-any.whl (27 kB)\n",
            "Collecting preshed<3.1.0,>=3.0.2\n",
            "  Downloading preshed-3.0.8-cp39-cp39-manylinux_2_5_x86_64.manylinux1_x86_64.manylinux_2_17_x86_64.manylinux2014_x86_64.whl (128 kB)\n",
            "\u001b[2K     \u001b[90m━━━━━━━━━━━━━━━━━━━━━━━━━━━━━━━━━━━━━━\u001b[0m \u001b[32m128.7/128.7 kB\u001b[0m \u001b[31m18.5 MB/s\u001b[0m eta \u001b[36m0:00:00\u001b[0m\n",
            "\u001b[?25hRequirement already satisfied: setuptools in /usr/local/lib/python3.9/site-packages (from spacy>=3.2.1->pyserini) (65.6.3)\n",
            "Collecting langcodes<4.0.0,>=3.2.0\n",
            "  Downloading langcodes-3.3.0-py3-none-any.whl (181 kB)\n",
            "\u001b[2K     \u001b[90m━━━━━━━━━━━━━━━━━━━━━━━━━━━━━━━━━━━━━━\u001b[0m \u001b[32m181.6/181.6 kB\u001b[0m \u001b[31m25.2 MB/s\u001b[0m eta \u001b[36m0:00:00\u001b[0m\n",
            "\u001b[?25hCollecting jinja2\n",
            "  Downloading Jinja2-3.1.2-py3-none-any.whl (133 kB)\n",
            "\u001b[2K     \u001b[90m━━━━━━━━━━━━━━━━━━━━━━━━━━━━━━━━━━━━━━\u001b[0m \u001b[32m133.1/133.1 kB\u001b[0m \u001b[31m20.3 MB/s\u001b[0m eta \u001b[36m0:00:00\u001b[0m\n",
            "\u001b[?25hCollecting pathy>=0.10.0\n",
            "  Downloading pathy-0.10.1-py3-none-any.whl (48 kB)\n",
            "\u001b[2K     \u001b[90m━━━━━━━━━━━━━━━━━━━━━━━━━━━━━━━━━━━━━━━━\u001b[0m \u001b[32m48.9/48.9 kB\u001b[0m \u001b[31m7.7 MB/s\u001b[0m eta \u001b[36m0:00:00\u001b[0m\n",
            "\u001b[?25hCollecting cymem<2.1.0,>=2.0.2\n",
            "  Downloading cymem-2.0.7-cp39-cp39-manylinux_2_17_x86_64.manylinux2014_x86_64.whl (35 kB)\n",
            "Collecting spacy-loggers<2.0.0,>=1.0.0\n",
            "  Downloading spacy_loggers-1.0.4-py3-none-any.whl (11 kB)\n",
            "Collecting srsly<3.0.0,>=2.4.3\n",
            "  Downloading srsly-2.4.6-cp39-cp39-manylinux_2_17_x86_64.manylinux2014_x86_64.whl (491 kB)\n",
            "\u001b[2K     \u001b[90m━━━━━━━━━━━━━━━━━━━━━━━━━━━━━━━━━━━━━━\u001b[0m \u001b[32m491.6/491.6 kB\u001b[0m \u001b[31m48.2 MB/s\u001b[0m eta \u001b[36m0:00:00\u001b[0m\n",
            "\u001b[?25hCollecting catalogue<2.1.0,>=2.0.6\n",
            "  Downloading catalogue-2.0.8-py3-none-any.whl (17 kB)\n",
            "Collecting smart-open<7.0.0,>=5.2.1\n",
            "  Downloading smart_open-6.3.0-py3-none-any.whl (56 kB)\n",
            "\u001b[2K     \u001b[90m━━━━━━━━━━━━━━━━━━━━━━━━━━━━━━━━━━━━━━━━\u001b[0m \u001b[32m56.8/56.8 kB\u001b[0m \u001b[31m8.5 MB/s\u001b[0m eta \u001b[36m0:00:00\u001b[0m\n",
            "\u001b[?25hCollecting pydantic!=1.8,!=1.8.1,<1.11.0,>=1.7.4\n",
            "  Downloading pydantic-1.10.7-cp39-cp39-manylinux_2_17_x86_64.manylinux2014_x86_64.whl (3.2 MB)\n",
            "\u001b[2K     \u001b[90m━━━━━━━━━━━━━━━━━━━━━━━━━━━━━━━━━━━━━━━━\u001b[0m \u001b[32m3.2/3.2 MB\u001b[0m \u001b[31m10.0 MB/s\u001b[0m eta \u001b[36m0:00:00\u001b[0m\n",
            "\u001b[?25hCollecting murmurhash<1.1.0,>=0.28.0\n",
            "  Downloading murmurhash-1.0.9-cp39-cp39-manylinux_2_5_x86_64.manylinux1_x86_64.manylinux_2_17_x86_64.manylinux2014_x86_64.whl (21 kB)\n",
            "Requirement already satisfied: requests<3.0.0,>=2.13.0 in /usr/local/lib/python3.9/site-packages (from spacy>=3.2.1->pyserini) (2.28.2)\n",
            "Collecting tokenizers!=0.11.3,<0.14,>=0.11.1\n",
            "  Using cached tokenizers-0.13.3-cp39-cp39-manylinux_2_17_x86_64.manylinux2014_x86_64.whl (7.8 MB)\n",
            "Requirement already satisfied: huggingface-hub<1.0,>=0.11.0 in /usr/local/lib/python3.9/site-packages (from transformers>=4.6.0->pyserini) (0.13.4)\n",
            "Requirement already satisfied: filelock in /usr/local/lib/python3.9/site-packages (from transformers>=4.6.0->pyserini) (3.11.0)\n",
            "Collecting regex!=2019.12.17\n",
            "  Downloading regex-2023.3.23-cp39-cp39-manylinux_2_17_x86_64.manylinux2014_x86_64.whl (768 kB)\n",
            "\u001b[2K     \u001b[90m━━━━━━━━━━━━━━━━━━━━━━━━━━━━━━━━━━━━━━\u001b[0m \u001b[32m769.0/769.0 kB\u001b[0m \u001b[31m58.6 MB/s\u001b[0m eta \u001b[36m0:00:00\u001b[0m\n",
            "\u001b[?25hRequirement already satisfied: typing-extensions>=3.7.4.3 in /usr/local/lib/python3.9/site-packages (from huggingface-hub<1.0,>=0.11.0->transformers>=4.6.0->pyserini) (4.5.0)\n",
            "Requirement already satisfied: idna<4,>=2.5 in /usr/local/lib/python3.9/site-packages (from requests<3.0.0,>=2.13.0->spacy>=3.2.1->pyserini) (3.4)\n",
            "Requirement already satisfied: urllib3<1.27,>=1.21.1 in /usr/local/lib/python3.9/site-packages (from requests<3.0.0,>=2.13.0->spacy>=3.2.1->pyserini) (1.26.15)\n",
            "Requirement already satisfied: charset-normalizer<4,>=2 in /usr/local/lib/python3.9/site-packages (from requests<3.0.0,>=2.13.0->spacy>=3.2.1->pyserini) (2.1.1)\n",
            "Requirement already satisfied: certifi>=2017.4.17 in /usr/local/lib/python3.9/site-packages (from requests<3.0.0,>=2.13.0->spacy>=3.2.1->pyserini) (2022.12.7)\n",
            "Collecting blis<0.8.0,>=0.7.8\n",
            "  Downloading blis-0.7.9-cp39-cp39-manylinux_2_17_x86_64.manylinux2014_x86_64.whl (10.2 MB)\n",
            "\u001b[2K     \u001b[90m━━━━━━━━━━━━━━━━━━━━━━━━━━━━━━━━━━━━━━━\u001b[0m \u001b[32m10.2/10.2 MB\u001b[0m \u001b[31m110.5 MB/s\u001b[0m eta \u001b[36m0:00:00\u001b[0m\n",
            "\u001b[?25hCollecting confection<1.0.0,>=0.0.1\n",
            "  Downloading confection-0.0.4-py3-none-any.whl (32 kB)\n",
            "Collecting click<9.0.0,>=7.1.1\n",
            "  Downloading click-8.1.3-py3-none-any.whl (96 kB)\n",
            "\u001b[2K     \u001b[90m━━━━━━━━━━━━━━━━━━━━━━━━━━━━━━━━━━━━━━━━\u001b[0m \u001b[32m96.6/96.6 kB\u001b[0m \u001b[31m14.5 MB/s\u001b[0m eta \u001b[36m0:00:00\u001b[0m\n",
            "\u001b[?25hCollecting humanfriendly>=9.1\n",
            "  Using cached humanfriendly-10.0-py2.py3-none-any.whl (86 kB)\n",
            "Collecting MarkupSafe>=2.0\n",
            "  Downloading MarkupSafe-2.1.2-cp39-cp39-manylinux_2_17_x86_64.manylinux2014_x86_64.whl (25 kB)\n",
            "Collecting mpmath>=0.19\n",
            "  Downloading mpmath-1.3.0-py3-none-any.whl (536 kB)\n",
            "\u001b[2K     \u001b[90m━━━━━━━━━━━━━━━━━━━━━━━━━━━━━━━━━━━━━━\u001b[0m \u001b[32m536.2/536.2 kB\u001b[0m \u001b[31m54.4 MB/s\u001b[0m eta \u001b[36m0:00:00\u001b[0m\n",
            "\u001b[?25hInstalling collected packages: tokenizers, sentencepiece, mpmath, flatbuffers, cymem, wasabi, threadpoolctl, sympy, spacy-loggers, spacy-legacy, smart-open, scipy, regex, pyjnius, pydantic, pybind11, psutil, protobuf, murmurhash, MarkupSafe, langcodes, joblib, humanfriendly, Cython, click, catalogue, blis, typer, srsly, scikit-learn, preshed, nmslib, jinja2, coloredlogs, transformers, pathy, onnxruntime, lightgbm, confection, thinc, spacy, pyserini\n",
            "Successfully installed Cython-0.29.34 MarkupSafe-2.1.2 blis-0.7.9 catalogue-2.0.8 click-8.1.3 coloredlogs-15.0.1 confection-0.0.4 cymem-2.0.7 flatbuffers-23.3.3 humanfriendly-10.0 jinja2-3.1.2 joblib-1.2.0 langcodes-3.3.0 lightgbm-3.3.5 mpmath-1.3.0 murmurhash-1.0.9 nmslib-2.1.1 onnxruntime-1.14.1 pathy-0.10.1 preshed-3.0.8 protobuf-4.22.3 psutil-5.9.4 pybind11-2.6.1 pydantic-1.10.7 pyjnius-1.4.2 pyserini-0.21.0 regex-2023.3.23 scikit-learn-1.2.2 scipy-1.10.1 sentencepiece-0.1.98 smart-open-6.3.0 spacy-3.5.2 spacy-legacy-3.0.12 spacy-loggers-1.0.4 srsly-2.4.6 sympy-1.11.1 thinc-8.1.9 threadpoolctl-3.1.0 tokenizers-0.13.3 transformers-4.27.4 typer-0.7.0 wasabi-1.1.1\n",
            "\u001b[33mWARNING: Running pip as the 'root' user can result in broken permissions and conflicting behaviour with the system package manager. It is recommended to use a virtual environment instead: https://pip.pypa.io/warnings/venv\u001b[0m\u001b[33m\n",
            "\u001b[0m"
          ]
        },
        {
          "output_type": "display_data",
          "data": {
            "application/vnd.colab-display-data+json": {
              "pip_warning": {
                "packages": [
                  "psutil"
                ]
              }
            }
          },
          "metadata": {}
        }
      ],
      "source": [
        "!pip install pyserini"
      ]
    },
    {
      "cell_type": "code",
      "execution_count": 3,
      "metadata": {
        "colab": {
          "base_uri": "https://localhost:8080/"
        },
        "id": "0BtTgkXNt-aa",
        "outputId": "8ffc8666-1f40-4dd2-9aa4-3f18173fa16c"
      },
      "outputs": [
        {
          "output_type": "stream",
          "name": "stdout",
          "text": [
            "Looking in indexes: https://pypi.org/simple, https://us-python.pkg.dev/colab-wheels/public/simple/\n",
            "Collecting torch\n",
            "  Downloading torch-2.0.0-cp39-cp39-manylinux1_x86_64.whl (619.9 MB)\n",
            "\u001b[2K     \u001b[90m━━━━━━━━━━━━━━━━━━━━━━━━━━━━━━━━━━━━━━━\u001b[0m \u001b[32m619.9/619.9 MB\u001b[0m \u001b[31m2.6 MB/s\u001b[0m eta \u001b[36m0:00:00\u001b[0m\n",
            "\u001b[?25hRequirement already satisfied: sympy in /usr/local/lib/python3.9/site-packages (from torch) (1.11.1)\n",
            "Collecting nvidia-cudnn-cu11==8.5.0.96\n",
            "  Downloading nvidia_cudnn_cu11-8.5.0.96-2-py3-none-manylinux1_x86_64.whl (557.1 MB)\n",
            "\u001b[2K     \u001b[90m━━━━━━━━━━━━━━━━━━━━━━━━━━━━━━━━━━━━━━━\u001b[0m \u001b[32m557.1/557.1 MB\u001b[0m \u001b[31m2.9 MB/s\u001b[0m eta \u001b[36m0:00:00\u001b[0m\n",
            "\u001b[?25hCollecting nvidia-curand-cu11==10.2.10.91\n",
            "  Downloading nvidia_curand_cu11-10.2.10.91-py3-none-manylinux1_x86_64.whl (54.6 MB)\n",
            "\u001b[2K     \u001b[90m━━━━━━━━━━━━━━━━━━━━━━━━━━━━━━━━━━━━━━━━\u001b[0m \u001b[32m54.6/54.6 MB\u001b[0m \u001b[31m31.8 MB/s\u001b[0m eta \u001b[36m0:00:00\u001b[0m\n",
            "\u001b[?25hCollecting nvidia-cusolver-cu11==11.4.0.1\n",
            "  Downloading nvidia_cusolver_cu11-11.4.0.1-2-py3-none-manylinux1_x86_64.whl (102.6 MB)\n",
            "\u001b[2K     \u001b[90m━━━━━━━━━━━━━━━━━━━━━━━━━━━━━━━━━━━━━━\u001b[0m \u001b[32m102.6/102.6 MB\u001b[0m \u001b[31m16.1 MB/s\u001b[0m eta \u001b[36m0:00:00\u001b[0m\n",
            "\u001b[?25hCollecting networkx\n",
            "  Downloading networkx-3.1-py3-none-any.whl (2.1 MB)\n",
            "\u001b[2K     \u001b[90m━━━━━━━━━━━━━━━━━━━━━━━━━━━━━━━━━━━━━━━━\u001b[0m \u001b[32m2.1/2.1 MB\u001b[0m \u001b[31m88.1 MB/s\u001b[0m eta \u001b[36m0:00:00\u001b[0m\n",
            "\u001b[?25hCollecting nvidia-cusparse-cu11==11.7.4.91\n",
            "  Downloading nvidia_cusparse_cu11-11.7.4.91-py3-none-manylinux1_x86_64.whl (173.2 MB)\n",
            "\u001b[2K     \u001b[90m━━━━━━━━━━━━━━━━━━━━━━━━━━━━━━━━━━━━━━━\u001b[0m \u001b[32m173.2/173.2 MB\u001b[0m \u001b[31m6.0 MB/s\u001b[0m eta \u001b[36m0:00:00\u001b[0m\n",
            "\u001b[?25hCollecting nvidia-cuda-runtime-cu11==11.7.99\n",
            "  Downloading nvidia_cuda_runtime_cu11-11.7.99-py3-none-manylinux1_x86_64.whl (849 kB)\n",
            "\u001b[2K     \u001b[90m━━━━━━━━━━━━━━━━━━━━━━━━━━━━━━━━━━━━━━\u001b[0m \u001b[32m849.3/849.3 kB\u001b[0m \u001b[31m65.4 MB/s\u001b[0m eta \u001b[36m0:00:00\u001b[0m\n",
            "\u001b[?25hCollecting nvidia-cuda-nvrtc-cu11==11.7.99\n",
            "  Downloading nvidia_cuda_nvrtc_cu11-11.7.99-2-py3-none-manylinux1_x86_64.whl (21.0 MB)\n",
            "\u001b[2K     \u001b[90m━━━━━━━━━━━━━━━━━━━━━━━━━━━━━━━━━━━━━━━━\u001b[0m \u001b[32m21.0/21.0 MB\u001b[0m \u001b[31m77.6 MB/s\u001b[0m eta \u001b[36m0:00:00\u001b[0m\n",
            "\u001b[?25hRequirement already satisfied: filelock in /usr/local/lib/python3.9/site-packages (from torch) (3.11.0)\n",
            "Collecting nvidia-cublas-cu11==11.10.3.66\n",
            "  Downloading nvidia_cublas_cu11-11.10.3.66-py3-none-manylinux1_x86_64.whl (317.1 MB)\n",
            "\u001b[2K     \u001b[90m━━━━━━━━━━━━━━━━━━━━━━━━━━━━━━━━━━━━━━━\u001b[0m \u001b[32m317.1/317.1 MB\u001b[0m \u001b[31m3.9 MB/s\u001b[0m eta \u001b[36m0:00:00\u001b[0m\n",
            "\u001b[?25hCollecting nvidia-nvtx-cu11==11.7.91\n",
            "  Downloading nvidia_nvtx_cu11-11.7.91-py3-none-manylinux1_x86_64.whl (98 kB)\n",
            "\u001b[2K     \u001b[90m━━━━━━━━━━━━━━━━━━━━━━━━━━━━━━━━━━━━━━━━\u001b[0m \u001b[32m98.6/98.6 kB\u001b[0m \u001b[31m15.2 MB/s\u001b[0m eta \u001b[36m0:00:00\u001b[0m\n",
            "\u001b[?25hCollecting triton==2.0.0\n",
            "  Downloading triton-2.0.0-1-cp39-cp39-manylinux2014_x86_64.manylinux_2_17_x86_64.whl (63.3 MB)\n",
            "\u001b[2K     \u001b[90m━━━━━━━━━━━━━━━━━━━━━━━━━━━━━━━━━━━━━━━━\u001b[0m \u001b[32m63.3/63.3 MB\u001b[0m \u001b[31m25.5 MB/s\u001b[0m eta \u001b[36m0:00:00\u001b[0m\n",
            "\u001b[?25hCollecting nvidia-cufft-cu11==10.9.0.58\n",
            "  Downloading nvidia_cufft_cu11-10.9.0.58-py3-none-manylinux1_x86_64.whl (168.4 MB)\n",
            "\u001b[2K     \u001b[90m━━━━━━━━━━━━━━━━━━━━━━━━━━━━━━━━━━━━━━━\u001b[0m \u001b[32m168.4/168.4 MB\u001b[0m \u001b[31m7.0 MB/s\u001b[0m eta \u001b[36m0:00:00\u001b[0m\n",
            "\u001b[?25hRequirement already satisfied: typing-extensions in /usr/local/lib/python3.9/site-packages (from torch) (4.5.0)\n",
            "Collecting nvidia-nccl-cu11==2.14.3\n",
            "  Downloading nvidia_nccl_cu11-2.14.3-py3-none-manylinux1_x86_64.whl (177.1 MB)\n",
            "\u001b[2K     \u001b[90m━━━━━━━━━━━━━━━━━━━━━━━━━━━━━━━━━━━━━━━\u001b[0m \u001b[32m177.1/177.1 MB\u001b[0m \u001b[31m5.0 MB/s\u001b[0m eta \u001b[36m0:00:00\u001b[0m\n",
            "\u001b[?25hCollecting nvidia-cuda-cupti-cu11==11.7.101\n",
            "  Downloading nvidia_cuda_cupti_cu11-11.7.101-py3-none-manylinux1_x86_64.whl (11.8 MB)\n",
            "\u001b[2K     \u001b[90m━━━━━━━━━━━━━━━━━━━━━━━━━━━━━━━━━━━━━━━\u001b[0m \u001b[32m11.8/11.8 MB\u001b[0m \u001b[31m112.3 MB/s\u001b[0m eta \u001b[36m0:00:00\u001b[0m\n",
            "\u001b[?25hRequirement already satisfied: jinja2 in /usr/local/lib/python3.9/site-packages (from torch) (3.1.2)\n",
            "Requirement already satisfied: setuptools in /usr/local/lib/python3.9/site-packages (from nvidia-cublas-cu11==11.10.3.66->torch) (65.6.3)\n",
            "Requirement already satisfied: wheel in /usr/local/lib/python3.9/site-packages (from nvidia-cublas-cu11==11.10.3.66->torch) (0.38.4)\n",
            "Collecting lit\n",
            "  Downloading lit-16.0.1.tar.gz (137 kB)\n",
            "\u001b[2K     \u001b[90m━━━━━━━━━━━━━━━━━━━━━━━━━━━━━━━━━━━━━━\u001b[0m \u001b[32m137.9/137.9 kB\u001b[0m \u001b[31m22.8 MB/s\u001b[0m eta \u001b[36m0:00:00\u001b[0m\n",
            "\u001b[?25h  Preparing metadata (setup.py) ... \u001b[?25l\u001b[?25hdone\n",
            "Collecting cmake\n",
            "  Downloading cmake-3.26.3-py2.py3-none-manylinux2014_x86_64.manylinux_2_17_x86_64.whl (24.0 MB)\n",
            "\u001b[2K     \u001b[90m━━━━━━━━━━━━━━━━━━━━━━━━━━━━━━━━━━━━━━━━\u001b[0m \u001b[32m24.0/24.0 MB\u001b[0m \u001b[31m74.8 MB/s\u001b[0m eta \u001b[36m0:00:00\u001b[0m\n",
            "\u001b[?25hRequirement already satisfied: MarkupSafe>=2.0 in /usr/local/lib/python3.9/site-packages (from jinja2->torch) (2.1.2)\n",
            "Requirement already satisfied: mpmath>=0.19 in /usr/local/lib/python3.9/site-packages (from sympy->torch) (1.3.0)\n",
            "Building wheels for collected packages: lit\n",
            "  Building wheel for lit (setup.py) ... \u001b[?25l\u001b[?25hdone\n",
            "  Created wheel for lit: filename=lit-16.0.1-py3-none-any.whl size=88189 sha256=ec4e37806e74ed3d304150a2c6e774b187fe46a939a5d1478340f8af9512bbbf\n",
            "  Stored in directory: /root/.cache/pip/wheels/6a/35/e6/2ba4f52d2763592eb8474f60e192f06e3d57be198526ef1048\n",
            "Successfully built lit\n",
            "Installing collected packages: lit, cmake, nvidia-nvtx-cu11, nvidia-nccl-cu11, nvidia-cusparse-cu11, nvidia-curand-cu11, nvidia-cufft-cu11, nvidia-cuda-runtime-cu11, nvidia-cuda-nvrtc-cu11, nvidia-cuda-cupti-cu11, nvidia-cublas-cu11, networkx, nvidia-cusolver-cu11, nvidia-cudnn-cu11, triton, torch\n",
            "Successfully installed cmake-3.26.3 lit-16.0.1 networkx-3.1 nvidia-cublas-cu11-11.10.3.66 nvidia-cuda-cupti-cu11-11.7.101 nvidia-cuda-nvrtc-cu11-11.7.99 nvidia-cuda-runtime-cu11-11.7.99 nvidia-cudnn-cu11-8.5.0.96 nvidia-cufft-cu11-10.9.0.58 nvidia-curand-cu11-10.2.10.91 nvidia-cusolver-cu11-11.4.0.1 nvidia-cusparse-cu11-11.7.4.91 nvidia-nccl-cu11-2.14.3 nvidia-nvtx-cu11-11.7.91 torch-2.0.0 triton-2.0.0\n",
            "\u001b[33mWARNING: Running pip as the 'root' user can result in broken permissions and conflicting behaviour with the system package manager. It is recommended to use a virtual environment instead: https://pip.pypa.io/warnings/venv\u001b[0m\u001b[33m\n",
            "\u001b[0m"
          ]
        }
      ],
      "source": [
        "!pip install torch"
      ]
    },
    {
      "cell_type": "code",
      "execution_count": 4,
      "metadata": {
        "colab": {
          "base_uri": "https://localhost:8080/"
        },
        "id": "ko-4SMgrukjR",
        "outputId": "177cd6c9-d6d0-4fe0-c923-4ee923d41fbe"
      },
      "outputs": [
        {
          "output_type": "stream",
          "name": "stdout",
          "text": [
            "\u001b[33mWARNING: Running pip as the 'root' user can result in broken permissions and conflicting behaviour with the system package manager. It is recommended to use a virtual environment instead: https://pip.pypa.io/warnings/venv\u001b[0m\u001b[33m\n",
            "\u001b[0m"
          ]
        }
      ],
      "source": [
        "!pip install -q condacolab"
      ]
    },
    {
      "cell_type": "code",
      "execution_count": 5,
      "metadata": {
        "colab": {
          "base_uri": "https://localhost:8080/"
        },
        "id": "02pw-o7yuex7",
        "outputId": "22f377dd-629e-4731-a61e-c2424af83947"
      },
      "outputs": [
        {
          "output_type": "stream",
          "name": "stdout",
          "text": [
            "✨🍰✨ Everything looks OK!\n"
          ]
        }
      ],
      "source": [
        "import condacolab\n",
        "condacolab.install()"
      ]
    },
    {
      "cell_type": "code",
      "execution_count": 6,
      "metadata": {
        "colab": {
          "base_uri": "https://localhost:8080/"
        },
        "id": "ebyRbTHytm0t",
        "outputId": "9cac5786-318a-4696-ca79-ac51ee43e9ae"
      },
      "outputs": [
        {
          "output_type": "stream",
          "name": "stdout",
          "text": [
            "Collecting package metadata (current_repodata.json): - \b\b\\ \b\b| \b\b/ \b\b- \b\b\\ \b\b| \b\b/ \b\b- \b\b\\ \b\b| \b\b/ \b\b- \b\b\\ \b\b| \b\b/ \b\b- \b\b\\ \b\b| \b\b/ \b\b- \b\b\\ \b\b| \b\b/ \b\b- \b\b\\ \b\b| \b\b/ \b\b- \b\b\\ \b\b| \b\b/ \b\b- \b\b\\ \b\b| \b\b/ \b\b- \b\b\\ \b\b| \b\b/ \b\b- \b\b\\ \b\b| \b\b/ \b\b- \b\b\\ \b\b| \b\b/ \b\b- \b\b\\ \b\b| \b\b/ \b\b- \b\b\\ \b\b| \b\b/ \b\b- \b\b\\ \b\b| \b\b/ \b\b- \b\b\\ \b\b| \b\b/ \b\b- \b\b\\ \b\b| \b\b/ \b\b- \b\b\\ \b\b| \b\b/ \b\b- \b\b\\ \b\b| \b\b/ \b\b- \b\b\\ \b\b| \b\b/ \b\b- \b\b\\ \b\b| \b\b/ \b\b- \b\b\\ \b\b| \b\b/ \b\b- \b\b\\ \b\b| \b\b/ \b\b- \b\b\\ \b\b| \b\b/ \b\b- \b\b\\ \b\b| \b\b/ \b\b- \b\b\\ \b\b| \b\b/ \b\b- \b\b\\ \b\b| \b\b/ \b\b- \b\b\\ \b\b| \b\b/ \b\b- \b\b\\ \b\b| \b\b/ \b\b- \b\b\\ \b\b| \b\b/ \b\b- \b\b\\ \b\b| \b\b/ \b\b- \b\b\\ \b\b| \b\b/ \b\b- \b\b\\ \b\b| \b\b/ \b\b- \b\b\\ \b\b| \b\b/ \b\b- \b\b\\ \b\b| \b\b/ \b\b- \b\bdone\n",
            "Solving environment: | \b\b/ \b\b- \b\b\\ \b\b| \b\b/ \b\b- \b\b\\ \b\b| \b\b/ \b\b- \b\b\\ \b\b| \b\b/ \b\b- \b\b\\ \b\bdone\n",
            "\n",
            "# All requested packages already installed.\n",
            "\n"
          ]
        }
      ],
      "source": [
        "!conda install faiss-cpu -c pytorch"
      ]
    },
    {
      "cell_type": "code",
      "execution_count": 7,
      "metadata": {
        "colab": {
          "base_uri": "https://localhost:8080/"
        },
        "id": "aaRB1T4XNXNK",
        "outputId": "3b2e2d96-06cc-4fbf-ade0-6df33b8bafb8"
      },
      "outputs": [
        {
          "output_type": "stream",
          "name": "stdout",
          "text": [
            "Looking in indexes: https://pypi.org/simple, https://us-python.pkg.dev/colab-wheels/public/simple/\n",
            "Requirement already satisfied: evaluate in /usr/local/lib/python3.9/site-packages (0.4.0)\n",
            "Requirement already satisfied: dill in /usr/local/lib/python3.9/site-packages (from evaluate) (0.3.6)\n",
            "Requirement already satisfied: requests>=2.19.0 in /usr/local/lib/python3.9/site-packages (from evaluate) (2.28.2)\n",
            "Requirement already satisfied: pandas in /usr/local/lib/python3.9/site-packages (from evaluate) (2.0.0)\n",
            "Requirement already satisfied: tqdm>=4.62.1 in /usr/local/lib/python3.9/site-packages (from evaluate) (4.65.0)\n",
            "Requirement already satisfied: xxhash in /usr/local/lib/python3.9/site-packages (from evaluate) (3.2.0)\n",
            "Requirement already satisfied: multiprocess in /usr/local/lib/python3.9/site-packages (from evaluate) (0.70.14)\n",
            "Requirement already satisfied: fsspec[http]>=2021.05.0 in /usr/local/lib/python3.9/site-packages (from evaluate) (2023.4.0)\n",
            "Requirement already satisfied: huggingface-hub>=0.7.0 in /usr/local/lib/python3.9/site-packages (from evaluate) (0.13.4)\n",
            "Requirement already satisfied: packaging in /usr/local/lib/python3.9/site-packages (from evaluate) (23.1)\n",
            "Requirement already satisfied: numpy>=1.17 in /usr/local/lib/python3.9/site-packages (from evaluate) (1.24.2)\n",
            "Requirement already satisfied: responses<0.19 in /usr/local/lib/python3.9/site-packages (from evaluate) (0.18.0)\n",
            "Requirement already satisfied: datasets>=2.0.0 in /usr/local/lib/python3.9/site-packages (from evaluate) (2.11.0)\n",
            "Requirement already satisfied: aiohttp in /usr/local/lib/python3.9/site-packages (from datasets>=2.0.0->evaluate) (3.8.4)\n",
            "Requirement already satisfied: pyyaml>=5.1 in /usr/local/lib/python3.9/site-packages (from datasets>=2.0.0->evaluate) (6.0)\n",
            "Requirement already satisfied: pyarrow>=8.0.0 in /usr/local/lib/python3.9/site-packages (from datasets>=2.0.0->evaluate) (11.0.0)\n",
            "Requirement already satisfied: filelock in /usr/local/lib/python3.9/site-packages (from huggingface-hub>=0.7.0->evaluate) (3.11.0)\n",
            "Requirement already satisfied: typing-extensions>=3.7.4.3 in /usr/local/lib/python3.9/site-packages (from huggingface-hub>=0.7.0->evaluate) (4.5.0)\n",
            "Requirement already satisfied: charset-normalizer<4,>=2 in /usr/local/lib/python3.9/site-packages (from requests>=2.19.0->evaluate) (2.1.1)\n",
            "Requirement already satisfied: certifi>=2017.4.17 in /usr/local/lib/python3.9/site-packages (from requests>=2.19.0->evaluate) (2022.12.7)\n",
            "Requirement already satisfied: idna<4,>=2.5 in /usr/local/lib/python3.9/site-packages (from requests>=2.19.0->evaluate) (3.4)\n",
            "Requirement already satisfied: urllib3<1.27,>=1.21.1 in /usr/local/lib/python3.9/site-packages (from requests>=2.19.0->evaluate) (1.26.15)\n",
            "Requirement already satisfied: pytz>=2020.1 in /usr/local/lib/python3.9/site-packages (from pandas->evaluate) (2023.3)\n",
            "Requirement already satisfied: tzdata>=2022.1 in /usr/local/lib/python3.9/site-packages (from pandas->evaluate) (2023.3)\n",
            "Requirement already satisfied: python-dateutil>=2.8.2 in /usr/local/lib/python3.9/site-packages (from pandas->evaluate) (2.8.2)\n",
            "Requirement already satisfied: yarl<2.0,>=1.0 in /usr/local/lib/python3.9/site-packages (from aiohttp->datasets>=2.0.0->evaluate) (1.8.2)\n",
            "Requirement already satisfied: async-timeout<5.0,>=4.0.0a3 in /usr/local/lib/python3.9/site-packages (from aiohttp->datasets>=2.0.0->evaluate) (4.0.2)\n",
            "Requirement already satisfied: multidict<7.0,>=4.5 in /usr/local/lib/python3.9/site-packages (from aiohttp->datasets>=2.0.0->evaluate) (6.0.4)\n",
            "Requirement already satisfied: attrs>=17.3.0 in /usr/local/lib/python3.9/site-packages (from aiohttp->datasets>=2.0.0->evaluate) (22.2.0)\n",
            "Requirement already satisfied: frozenlist>=1.1.1 in /usr/local/lib/python3.9/site-packages (from aiohttp->datasets>=2.0.0->evaluate) (1.3.3)\n",
            "Requirement already satisfied: aiosignal>=1.1.2 in /usr/local/lib/python3.9/site-packages (from aiohttp->datasets>=2.0.0->evaluate) (1.3.1)\n",
            "Requirement already satisfied: six>=1.5 in /usr/local/lib/python3.9/site-packages (from python-dateutil>=2.8.2->pandas->evaluate) (1.16.0)\n",
            "\u001b[33mWARNING: Running pip as the 'root' user can result in broken permissions and conflicting behaviour with the system package manager. It is recommended to use a virtual environment instead: https://pip.pypa.io/warnings/venv\u001b[0m\u001b[33m\n",
            "\u001b[0m"
          ]
        }
      ],
      "source": [
        "!pip install evaluate"
      ]
    },
    {
      "cell_type": "code",
      "execution_count": 8,
      "metadata": {
        "colab": {
          "base_uri": "https://localhost:8080/",
          "height": 1000
        },
        "id": "Kj_KnpomPBL3",
        "outputId": "f1cc2e2b-d0d6-4ba0-f458-f6800c92632d"
      },
      "outputs": [
        {
          "output_type": "stream",
          "name": "stdout",
          "text": [
            "Looking in indexes: https://pypi.org/simple, https://us-python.pkg.dev/colab-wheels/public/simple/\n",
            "Collecting trectools\n",
            "  Downloading trectools-0.0.49.tar.gz (28 kB)\n",
            "  Preparing metadata (setup.py) ... \u001b[?25l\u001b[?25hdone\n",
            "Requirement already satisfied: pandas>=0.15.0 in /usr/local/lib/python3.9/site-packages (from trectools) (2.0.0)\n",
            "Requirement already satisfied: numpy>=1.0.0 in /usr/local/lib/python3.9/site-packages (from trectools) (1.24.2)\n",
            "Requirement already satisfied: scikit-learn>=0.15 in /usr/local/lib/python3.9/site-packages (from trectools) (1.2.2)\n",
            "Requirement already satisfied: scipy>=0.10.0 in /usr/local/lib/python3.9/site-packages (from trectools) (1.10.1)\n",
            "Collecting sarge>=0.1.1\n",
            "  Downloading sarge-0.1.7.post1-py2.py3-none-any.whl (18 kB)\n",
            "Collecting lxml>=3.6.0\n",
            "  Downloading lxml-4.9.2-cp39-cp39-manylinux_2_17_x86_64.manylinux2014_x86_64.manylinux_2_24_x86_64.whl (7.1 MB)\n",
            "\u001b[2K     \u001b[90m━━━━━━━━━━━━━━━━━━━━━━━━━━━━━━━━━━━━━━━━\u001b[0m \u001b[32m7.1/7.1 MB\u001b[0m \u001b[31m62.5 MB/s\u001b[0m eta \u001b[36m0:00:00\u001b[0m\n",
            "\u001b[?25hCollecting bs4>=0.0.0.1\n",
            "  Downloading bs4-0.0.1.tar.gz (1.1 kB)\n",
            "  Preparing metadata (setup.py) ... \u001b[?25l\u001b[?25hdone\n",
            "Collecting matplotlib>=1.5\n",
            "  Downloading matplotlib-3.7.1-cp39-cp39-manylinux_2_17_x86_64.manylinux2014_x86_64.whl (11.6 MB)\n",
            "\u001b[2K     \u001b[90m━━━━━━━━━━━━━━━━━━━━━━━━━━━━━━━━━━━━━━━━\u001b[0m \u001b[32m11.6/11.6 MB\u001b[0m \u001b[31m82.4 MB/s\u001b[0m eta \u001b[36m0:00:00\u001b[0m\n",
            "\u001b[?25hCollecting beautifulsoup4\n",
            "  Downloading beautifulsoup4-4.12.2-py3-none-any.whl (142 kB)\n",
            "\u001b[2K     \u001b[90m━━━━━━━━━━━━━━━━━━━━━━━━━━━━━━━━━━━━━━\u001b[0m \u001b[32m143.0/143.0 kB\u001b[0m \u001b[31m22.6 MB/s\u001b[0m eta \u001b[36m0:00:00\u001b[0m\n",
            "\u001b[?25hCollecting kiwisolver>=1.0.1\n",
            "  Downloading kiwisolver-1.4.4-cp39-cp39-manylinux_2_12_x86_64.manylinux2010_x86_64.whl (1.6 MB)\n",
            "\u001b[2K     \u001b[90m━━━━━━━━━━━━━━━━━━━━━━━━━━━━━━━━━━━━━━━━\u001b[0m \u001b[32m1.6/1.6 MB\u001b[0m \u001b[31m90.2 MB/s\u001b[0m eta \u001b[36m0:00:00\u001b[0m\n",
            "\u001b[?25hCollecting cycler>=0.10\n",
            "  Downloading cycler-0.11.0-py3-none-any.whl (6.4 kB)\n",
            "Requirement already satisfied: python-dateutil>=2.7 in /usr/local/lib/python3.9/site-packages (from matplotlib>=1.5->trectools) (2.8.2)\n",
            "Collecting contourpy>=1.0.1\n",
            "  Downloading contourpy-1.0.7-cp39-cp39-manylinux_2_17_x86_64.manylinux2014_x86_64.whl (299 kB)\n",
            "\u001b[2K     \u001b[90m━━━━━━━━━━━━━━━━━━━━━━━━━━━━━━━━━━━━━━\u001b[0m \u001b[32m299.7/299.7 kB\u001b[0m \u001b[31m37.8 MB/s\u001b[0m eta \u001b[36m0:00:00\u001b[0m\n",
            "\u001b[?25hRequirement already satisfied: packaging>=20.0 in /usr/local/lib/python3.9/site-packages (from matplotlib>=1.5->trectools) (23.1)\n",
            "Collecting fonttools>=4.22.0\n",
            "  Downloading fonttools-4.39.3-py3-none-any.whl (1.0 MB)\n",
            "\u001b[2K     \u001b[90m━━━━━━━━━━━━━━━━━━━━━━━━━━━━━━━━━━━━━━━━\u001b[0m \u001b[32m1.0/1.0 MB\u001b[0m \u001b[31m67.3 MB/s\u001b[0m eta \u001b[36m0:00:00\u001b[0m\n",
            "\u001b[?25hCollecting importlib-resources>=3.2.0\n",
            "  Downloading importlib_resources-5.12.0-py3-none-any.whl (36 kB)\n",
            "Collecting pillow>=6.2.0\n",
            "  Downloading Pillow-9.5.0-cp39-cp39-manylinux_2_28_x86_64.whl (3.4 MB)\n",
            "\u001b[2K     \u001b[90m━━━━━━━━━━━━━━━━━━━━━━━━━━━━━━━━━━━━━━━━\u001b[0m \u001b[32m3.4/3.4 MB\u001b[0m \u001b[31m88.6 MB/s\u001b[0m eta \u001b[36m0:00:00\u001b[0m\n",
            "\u001b[?25hCollecting pyparsing>=2.3.1\n",
            "  Downloading pyparsing-3.0.9-py3-none-any.whl (98 kB)\n",
            "\u001b[2K     \u001b[90m━━━━━━━━━━━━━━━━━━━━━━━━━━━━━━━━━━━━━━━━\u001b[0m \u001b[32m98.3/98.3 kB\u001b[0m \u001b[31m15.6 MB/s\u001b[0m eta \u001b[36m0:00:00\u001b[0m\n",
            "\u001b[?25hRequirement already satisfied: pytz>=2020.1 in /usr/local/lib/python3.9/site-packages (from pandas>=0.15.0->trectools) (2023.3)\n",
            "Requirement already satisfied: tzdata>=2022.1 in /usr/local/lib/python3.9/site-packages (from pandas>=0.15.0->trectools) (2023.3)\n",
            "Requirement already satisfied: threadpoolctl>=2.0.0 in /usr/local/lib/python3.9/site-packages (from scikit-learn>=0.15->trectools) (3.1.0)\n",
            "Requirement already satisfied: joblib>=1.1.1 in /usr/local/lib/python3.9/site-packages (from scikit-learn>=0.15->trectools) (1.2.0)\n",
            "Collecting zipp>=3.1.0\n",
            "  Downloading zipp-3.15.0-py3-none-any.whl (6.8 kB)\n",
            "Requirement already satisfied: six>=1.5 in /usr/local/lib/python3.9/site-packages (from python-dateutil>=2.7->matplotlib>=1.5->trectools) (1.16.0)\n",
            "Collecting soupsieve>1.2\n",
            "  Downloading soupsieve-2.4-py3-none-any.whl (37 kB)\n",
            "Building wheels for collected packages: trectools, bs4\n",
            "  Building wheel for trectools (setup.py) ... \u001b[?25l\u001b[?25hdone\n",
            "  Created wheel for trectools: filename=trectools-0.0.49-py3-none-any.whl size=27141 sha256=3c2d8f6085173bae81054dc86a5fc9ccc5f0e36030e4092102581fd14a52e977\n",
            "  Stored in directory: /root/.cache/pip/wheels/b2/1d/4d/445b0fb9a145de0dc24861a535cbe755f637327da7f5d65ed7\n",
            "  Building wheel for bs4 (setup.py) ... \u001b[?25l\u001b[?25hdone\n",
            "  Created wheel for bs4: filename=bs4-0.0.1-py3-none-any.whl size=1270 sha256=b5760e130fa8ed315d3ca89baf5263e0d840c2b5efec0befe5c161a0d0fc34a3\n",
            "  Stored in directory: /root/.cache/pip/wheels/73/2b/cb/099980278a0c9a3e57ff1a89875ec07bfa0b6fcbebb9a8cad3\n",
            "Successfully built trectools bs4\n",
            "Installing collected packages: sarge, zipp, soupsieve, pyparsing, pillow, lxml, kiwisolver, fonttools, cycler, contourpy, importlib-resources, beautifulsoup4, matplotlib, bs4, trectools\n",
            "Successfully installed beautifulsoup4-4.12.2 bs4-0.0.1 contourpy-1.0.7 cycler-0.11.0 fonttools-4.39.3 importlib-resources-5.12.0 kiwisolver-1.4.4 lxml-4.9.2 matplotlib-3.7.1 pillow-9.5.0 pyparsing-3.0.9 sarge-0.1.7.post1 soupsieve-2.4 trectools-0.0.49 zipp-3.15.0\n",
            "\u001b[33mWARNING: Running pip as the 'root' user can result in broken permissions and conflicting behaviour with the system package manager. It is recommended to use a virtual environment instead: https://pip.pypa.io/warnings/venv\u001b[0m\u001b[33m\n",
            "\u001b[0m"
          ]
        },
        {
          "output_type": "display_data",
          "data": {
            "application/vnd.colab-display-data+json": {
              "pip_warning": {
                "packages": [
                  "cycler",
                  "importlib_resources",
                  "kiwisolver",
                  "matplotlib",
                  "mpl_toolkits",
                  "zipp"
                ]
              }
            }
          },
          "metadata": {}
        }
      ],
      "source": [
        "!pip install trectools"
      ]
    },
    {
      "cell_type": "markdown",
      "metadata": {
        "id": "5FA9LSYCOEhY"
      },
      "source": [
        "## Index building"
      ]
    },
    {
      "cell_type": "code",
      "execution_count": null,
      "metadata": {
        "id": "_qF8eynYtEBl"
      },
      "outputs": [],
      "source": [
        "from pyserini.search.lucene import LuceneSearcher"
      ]
    },
    {
      "cell_type": "code",
      "execution_count": null,
      "metadata": {
        "colab": {
          "base_uri": "https://localhost:8080/"
        },
        "id": "_ju9ILOVtesd",
        "outputId": "e540b0a5-25e5-48b1-a015-d670db950ed5"
      },
      "outputs": [
        {
          "output_type": "stream",
          "name": "stdout",
          "text": [
            "Downloading index at https://rgw.cs.uwaterloo.ca/pyserini/indexes/lucene-index.beir-v1.0.0-trec-covid.flat.20221116.505594.tar.gz...\n"
          ]
        },
        {
          "output_type": "stream",
          "name": "stderr",
          "text": [
            "lucene-index.beir-v1.0.0-trec-covid.flat.20221116.505594.tar.gz: 216MB [00:33, 6.85MB/s]                           \n"
          ]
        },
        {
          "output_type": "execute_result",
          "data": {
            "text/plain": [
              "<pyserini.search.lucene._searcher.LuceneSearcher at 0x7f5cba9e8430>"
            ]
          },
          "metadata": {},
          "execution_count": 115
        }
      ],
      "source": [
        "#beir-v1.0.0-trec-covid.flat\n",
        "LuceneSearcher.from_prebuilt_index('beir-v1.0.0-trec-covid.flat')"
      ]
    },
    {
      "cell_type": "code",
      "execution_count": null,
      "metadata": {
        "colab": {
          "base_uri": "https://localhost:8080/"
        },
        "id": "nE9F6Mflz1pc",
        "outputId": "9588f7b8-e8a1-4898-c74e-6374e775ee9b"
      },
      "outputs": [
        {
          "output_type": "stream",
          "name": "stdout",
          "text": [
            "lucene-index.beir-v1.0.0-trec-covid.flat.20221116.505594.57b812594b11d064a23123137ae7dade\n"
          ]
        }
      ],
      "source": [
        "!ls ~/.cache/pyserini/indexes/"
      ]
    },
    {
      "cell_type": "markdown",
      "metadata": {
        "id": "xT8Gbp_HOJSd"
      },
      "source": [
        "## Dataset download and preparation\n",
        "\n"
      ]
    },
    {
      "cell_type": "code",
      "execution_count": null,
      "metadata": {
        "colab": {
          "base_uri": "https://localhost:8080/"
        },
        "id": "DPxh4NWaz2ct",
        "outputId": "5781be53-16a7-4036-d0aa-3f6bf453af04"
      },
      "outputs": [
        {
          "name": "stdout",
          "output_type": "stream",
          "text": [
            "--2023-04-10 22:42:37--  https://huggingface.co/datasets/BeIR/trec-covid/resolve/main/queries.jsonl.gz\n",
            "Resolving huggingface.co (huggingface.co)... 13.249.85.69, 13.249.85.127, 13.249.85.92, ...\n",
            "Connecting to huggingface.co (huggingface.co)|13.249.85.69|:443... connected.\n",
            "HTTP request sent, awaiting response... 302 Found\n",
            "Location: https://cdn-lfs.huggingface.co/repos/a8/10/a810e88b0e7b233be82b89c1fa6ec2d75efc6d55784c2ada9dcac8434a634f3a/9eadcc2cdf140addc9dae83648bb2c6611f5e4b66eaed7475fa5a0ca48eda371?response-content-disposition=attachment%3B+filename*%3DUTF-8%27%27queries.jsonl.gz%3B+filename%3D%22queries.jsonl.gz%22%3B&response-content-type=application%2Fgzip&Expires=1681425758&Policy=eyJTdGF0ZW1lbnQiOlt7IlJlc291cmNlIjoiaHR0cHM6Ly9jZG4tbGZzLmh1Z2dpbmdmYWNlLmNvL3JlcG9zL2E4LzEwL2E4MTBlODhiMGU3YjIzM2JlODJiODljMWZhNmVjMmQ3NWVmYzZkNTU3ODRjMmFkYTlkY2FjODQzNGE2MzRmM2EvOWVhZGNjMmNkZjE0MGFkZGM5ZGFlODM2NDhiYjJjNjYxMWY1ZTRiNjZlYWVkNzQ3NWZhNWEwY2E0OGVkYTM3MT9yZXNwb25zZS1jb250ZW50LWRpc3Bvc2l0aW9uPSomcmVzcG9uc2UtY29udGVudC10eXBlPSoiLCJDb25kaXRpb24iOnsiRGF0ZUxlc3NUaGFuIjp7IkFXUzpFcG9jaFRpbWUiOjE2ODE0MjU3NTh9fX1dfQ__&Signature=VtPoQGZZ6uuhBiieZG-6X2bJ%7EZYqI0SwAg0ND9-Xrc7IJ4hFaRV-K1zB%7Ey5hJHOApur5gzk%7ExPA1WGjXJzOawCZbWdw6wWSoty3IKqnxWYVCPyQzo9zI1hslhqnE96-DFriBSLhZaxou94vOQlOac1say7gAqEKhw8UgjKCGzRH5mDV8BkDnlFkxt5UkzyBGmUVjVhgPagkS6I3pUDW8xrqet7chHfZqHda%7EmWOagznBrsZdKSDEYLN0rXLRi7gUfx%7EXEeOcslraU4jmWktlYseMXaV9BY18P3m88ni85sbYbzHO9IfwW%7EgkTNtce2ji12AV%7EONs7q2w3jMqKlEatA__&Key-Pair-Id=KVTP0A1DKRTAX [following]\n",
            "--2023-04-10 22:42:37--  https://cdn-lfs.huggingface.co/repos/a8/10/a810e88b0e7b233be82b89c1fa6ec2d75efc6d55784c2ada9dcac8434a634f3a/9eadcc2cdf140addc9dae83648bb2c6611f5e4b66eaed7475fa5a0ca48eda371?response-content-disposition=attachment%3B+filename*%3DUTF-8%27%27queries.jsonl.gz%3B+filename%3D%22queries.jsonl.gz%22%3B&response-content-type=application%2Fgzip&Expires=1681425758&Policy=eyJTdGF0ZW1lbnQiOlt7IlJlc291cmNlIjoiaHR0cHM6Ly9jZG4tbGZzLmh1Z2dpbmdmYWNlLmNvL3JlcG9zL2E4LzEwL2E4MTBlODhiMGU3YjIzM2JlODJiODljMWZhNmVjMmQ3NWVmYzZkNTU3ODRjMmFkYTlkY2FjODQzNGE2MzRmM2EvOWVhZGNjMmNkZjE0MGFkZGM5ZGFlODM2NDhiYjJjNjYxMWY1ZTRiNjZlYWVkNzQ3NWZhNWEwY2E0OGVkYTM3MT9yZXNwb25zZS1jb250ZW50LWRpc3Bvc2l0aW9uPSomcmVzcG9uc2UtY29udGVudC10eXBlPSoiLCJDb25kaXRpb24iOnsiRGF0ZUxlc3NUaGFuIjp7IkFXUzpFcG9jaFRpbWUiOjE2ODE0MjU3NTh9fX1dfQ__&Signature=VtPoQGZZ6uuhBiieZG-6X2bJ%7EZYqI0SwAg0ND9-Xrc7IJ4hFaRV-K1zB%7Ey5hJHOApur5gzk%7ExPA1WGjXJzOawCZbWdw6wWSoty3IKqnxWYVCPyQzo9zI1hslhqnE96-DFriBSLhZaxou94vOQlOac1say7gAqEKhw8UgjKCGzRH5mDV8BkDnlFkxt5UkzyBGmUVjVhgPagkS6I3pUDW8xrqet7chHfZqHda%7EmWOagznBrsZdKSDEYLN0rXLRi7gUfx%7EXEeOcslraU4jmWktlYseMXaV9BY18P3m88ni85sbYbzHO9IfwW%7EgkTNtce2ji12AV%7EONs7q2w3jMqKlEatA__&Key-Pair-Id=KVTP0A1DKRTAX\n",
            "Resolving cdn-lfs.huggingface.co (cdn-lfs.huggingface.co)... 13.249.85.23, 13.249.85.116, 13.249.85.11, ...\n",
            "Connecting to cdn-lfs.huggingface.co (cdn-lfs.huggingface.co)|13.249.85.23|:443... connected.\n",
            "HTTP request sent, awaiting response... 200 OK\n",
            "Length: 4702 (4.6K) [application/gzip]\n",
            "Saving to: ‘queries.jsonl.gz’\n",
            "\n",
            "\rqueries.jsonl.gz      0%[                    ]       0  --.-KB/s               \rqueries.jsonl.gz    100%[===================>]   4.59K  --.-KB/s    in 0s      \n",
            "\n",
            "2023-04-10 22:42:37 (89.3 MB/s) - ‘queries.jsonl.gz’ saved [4702/4702]\n",
            "\n"
          ]
        }
      ],
      "source": [
        "!wget https://huggingface.co/datasets/BeIR/trec-covid/resolve/main/queries.jsonl.gz"
      ]
    },
    {
      "cell_type": "code",
      "execution_count": 9,
      "metadata": {
        "id": "5hIbFpCr07aJ"
      },
      "outputs": [],
      "source": [
        "main_dir = \"/content/gdrive/MyDrive/Unicamp-aula-6-3\""
      ]
    },
    {
      "cell_type": "code",
      "execution_count": null,
      "metadata": {
        "id": "JSGWmzzl0ejR"
      },
      "outputs": [],
      "source": [
        "!mv queries.jsonl.gz {main_dir}/trec-covid"
      ]
    },
    {
      "cell_type": "code",
      "execution_count": null,
      "metadata": {
        "colab": {
          "base_uri": "https://localhost:8080/"
        },
        "id": "Mu0V6qxf0_dj",
        "outputId": "911db2f8-9c8d-4c4c-d0a8-cbcd5cdcee0d"
      },
      "outputs": [
        {
          "name": "stdout",
          "output_type": "stream",
          "text": [
            "gzip: /content/gdrive/MyDrive/Unicamp-aula-6-3/trec-covid/queries.jsonl already exists; do you wish to overwrite (y or n)? n\n",
            "\tnot overwritten\n"
          ]
        }
      ],
      "source": [
        "!gunzip {main_dir}/trec-covid/queries.jsonl.gz"
      ]
    },
    {
      "cell_type": "code",
      "execution_count": 10,
      "metadata": {
        "id": "kQ0oTr583QwV"
      },
      "outputs": [],
      "source": [
        "import json\n",
        "\n",
        "with open(f'{main_dir}/trec-covid/queries.tsv','w') as f_out:\n",
        "  with open(f'{main_dir}/trec-covid/queries.jsonl', 'r') as f:\n",
        "    for line in f:\n",
        "      data = json.loads(line)\n",
        "      id = data['_id']\n",
        "      text = data['text']\n",
        "      f_out.write(f'{id}\\t{text}\\n')\n",
        "        \n"
      ]
    },
    {
      "cell_type": "code",
      "execution_count": 11,
      "metadata": {
        "id": "p4ZjhXv1A_Z3"
      },
      "outputs": [],
      "source": [
        "topics = \"trec-covid\""
      ]
    },
    {
      "cell_type": "code",
      "execution_count": null,
      "metadata": {
        "colab": {
          "base_uri": "https://localhost:8080/"
        },
        "id": "43e_Ik5QObLW",
        "outputId": "c447e750-5904-48ee-e622-78399772fcbf"
      },
      "outputs": [
        {
          "name": "stdout",
          "output_type": "stream",
          "text": [
            "--2023-04-10 22:44:42--  https://huggingface.co/datasets/BeIR/trec-covid-qrels/raw/main/test.tsv\n",
            "Resolving huggingface.co (huggingface.co)... 13.249.85.69, 13.249.85.16, 13.249.85.127, ...\n",
            "Connecting to huggingface.co (huggingface.co)|13.249.85.69|:443... connected.\n",
            "HTTP request sent, awaiting response... 200 OK\n",
            "Length: 980831 (958K) [text/plain]\n",
            "Saving to: ‘test.tsv’\n",
            "\n",
            "test.tsv            100%[===================>] 957.84K  --.-KB/s    in 0.07s   \n",
            "\n",
            "2023-04-10 22:44:42 (13.7 MB/s) - ‘test.tsv’ saved [980831/980831]\n",
            "\n"
          ]
        }
      ],
      "source": [
        "!wget https://huggingface.co/datasets/BeIR/trec-covid-qrels/raw/main/test.tsv"
      ]
    },
    {
      "cell_type": "code",
      "execution_count": null,
      "metadata": {
        "id": "HnooTvYPOfF9"
      },
      "outputs": [],
      "source": [
        "!mv test.tsv {main_dir}/trec-covid"
      ]
    },
    {
      "cell_type": "code",
      "execution_count": 12,
      "metadata": {
        "id": "uPmeDT5ROkBz"
      },
      "outputs": [],
      "source": [
        "import pandas as pd\n",
        "\n",
        "qrel = pd.read_csv(f\"{main_dir}/trec-covid/test.tsv\", sep=\"\\t\", header=None, \n",
        "                   skiprows=1, names=[\"query\", \"docid\", \"rel\"])\n",
        "qrel[\"q0\"] = \"q0\"\n",
        "qrel = qrel.to_dict(orient=\"list\")"
      ]
    },
    {
      "cell_type": "markdown",
      "metadata": {
        "id": "5uKNLQ8WOT_-"
      },
      "source": [
        "## Searching with BM25 the original index"
      ]
    },
    {
      "cell_type": "code",
      "execution_count": 13,
      "metadata": {
        "colab": {
          "base_uri": "https://localhost:8080/"
        },
        "id": "3OyOzTCa4km5",
        "outputId": "e2eef2f7-6158-4c48-fda9-7f6915db428a"
      },
      "outputs": [
        {
          "output_type": "stream",
          "name": "stdout",
          "text": [
            "Unrecognized index name /root/.cache/pyserini/indexes/lucene-index.beir-v1.0.0-trec-covid.flat.20221116.505594.57b812594b11d064a23123137ae7dade\n"
          ]
        }
      ],
      "source": [
        "!python -m pyserini.search.lucene \\\n",
        "  --index ~/.cache/pyserini/indexes/lucene-index.beir-v1.0.0-trec-covid.flat.20221116.505594.57b812594b11d064a23123137ae7dade \\\n",
        "  --topics {main_dir}/{topics}/queries.tsv \\\n",
        "  --output {main_dir}/runs/run.{topics}.bm25tuned.txt \\\n",
        "  --hits 1000 \\\n",
        "  --bm25 --k1 0.82 --b 0.68"
      ]
    },
    {
      "cell_type": "code",
      "execution_count": null,
      "metadata": {
        "id": "tDVbedZm0RYt"
      },
      "outputs": [],
      "source": [
        "run = pd.read_csv(f\"{main_dir}/runs/run.{topics}.bm25tuned.txt\", sep=\"\\s+\", \n",
        "                  names=[\"query\", \"q0\", \"docid\", \"rank\", \"score\", \"system\"])\n",
        "run = run.to_dict(orient=\"list\")"
      ]
    },
    {
      "cell_type": "code",
      "execution_count": null,
      "metadata": {
        "colab": {
          "base_uri": "https://localhost:8080/",
          "height": 49,
          "referenced_widgets": [
            "7bac12575e5f4326965820420e6483d6",
            "affc726871a94a8f847c54f412b7db15",
            "e63388f5cdb949d4b757887f019a4dba",
            "bc11848c6ad647b0bf2fce4ed6c894e0",
            "c282249e120b4e9e8e7a4aed259aa527",
            "96314b5ed7c64bfcb7f50917527e7b40",
            "537f50ce297448108bac700a1a1d9c76",
            "74556a1a5b2349a9a588799f0f428ca5",
            "7536741c85884bc28a114637e42f2616",
            "53389c0125d74252b9880c30864f1e4d",
            "9cd3b8fef3814cec98ce9b7f1139e2d4"
          ]
        },
        "id": "G0U4NZbaKtS9",
        "outputId": "af4b1f2e-4910-4fe1-aba2-391a313c93dc"
      },
      "outputs": [
        {
          "data": {
            "application/vnd.jupyter.widget-view+json": {
              "model_id": "7bac12575e5f4326965820420e6483d6",
              "version_major": 2,
              "version_minor": 0
            },
            "text/plain": [
              "Downloading builder script:   0%|          | 0.00/5.51k [00:00<?, ?B/s]"
            ]
          },
          "metadata": {},
          "output_type": "display_data"
        }
      ],
      "source": [
        "from evaluate import load\n",
        "trec_eval = load(\"trec_eval\")\n",
        "results = trec_eval.compute(predictions=[run], references=[qrel])"
      ]
    },
    {
      "cell_type": "code",
      "execution_count": null,
      "metadata": {
        "colab": {
          "base_uri": "https://localhost:8080/"
        },
        "id": "b_rp_W2kPuBk",
        "outputId": "33d5166f-5135-47a8-849e-d77be9823b42"
      },
      "outputs": [
        {
          "data": {
            "text/plain": [
              "0.5963435398557583"
            ]
          },
          "execution_count": 25,
          "metadata": {},
          "output_type": "execute_result"
        }
      ],
      "source": [
        "results['NDCG@10']"
      ]
    },
    {
      "cell_type": "markdown",
      "metadata": {
        "id": "Iy1epMim0yX6"
      },
      "source": [
        "## Searching with BM25 the expanded index"
      ]
    },
    {
      "cell_type": "code",
      "execution_count": 14,
      "metadata": {
        "id": "soUhNxeUGihZ"
      },
      "outputs": [],
      "source": [
        "#index_name = \"expanded_trec_covid\"\n",
        "#index_name = \"expanded_trec_covid_3_queries\"\n",
        "#index_name = \"expanded_trec_covid_20_queries\"\n",
        "index_name = \"expanded_trec_covid_5_queries_expand_title\""
      ]
    },
    {
      "cell_type": "code",
      "execution_count": 24,
      "metadata": {
        "colab": {
          "base_uri": "https://localhost:8080/"
        },
        "id": "kz9Me26E01k7",
        "outputId": "b8b365de-5af9-4d26-f175-256d2bb4a622"
      },
      "outputs": [
        {
          "output_type": "stream",
          "name": "stdout",
          "text": [
            "Setting BM25 parameters: k1=4.0, b=0.25\n",
            "Running /content/gdrive/MyDrive/Unicamp-aula-6-3/trec-covid/queries.tsv topics, saving to /content/gdrive/MyDrive/Unicamp-aula-6-3/runs/run.trec-covid.bm25tuned-expanded_trec_covid_5_queries_expand_title.txt...\n",
            "100% 50/50 [00:04<00:00, 11.52it/s]\n"
          ]
        }
      ],
      "source": [
        "!python -m pyserini.search.lucene \\\n",
        "  --index {main_dir}/{index_name} \\\n",
        "  --topics {main_dir}/{topics}/queries.tsv \\\n",
        "  --output {main_dir}/runs/run.{topics}.bm25tuned-{index_name}.txt \\\n",
        "  --hits 1000 \\\n",
        "  --bm25 --k1 4 --b 0.25"
      ]
    },
    {
      "cell_type": "code",
      "execution_count": 25,
      "metadata": {
        "id": "5KHXrIsb1bkE"
      },
      "outputs": [],
      "source": [
        "run = pd.read_csv(f\"{main_dir}/runs/run.{topics}.bm25tuned-{index_name}.txt\", sep=\"\\s+\", \n",
        "                  names=[\"query\", \"q0\", \"docid\", \"rank\", \"score\", \"system\"])\n",
        "run = run.to_dict(orient=\"list\")"
      ]
    },
    {
      "cell_type": "code",
      "execution_count": 26,
      "metadata": {
        "id": "e4z0Lc4W1nXW"
      },
      "outputs": [],
      "source": [
        "from evaluate import load\n",
        "trec_eval = load(\"trec_eval\")\n",
        "results = trec_eval.compute(predictions=[run], references=[qrel])"
      ]
    },
    {
      "cell_type": "code",
      "execution_count": 27,
      "metadata": {
        "colab": {
          "base_uri": "https://localhost:8080/"
        },
        "id": "WA_NfT5L1pbd",
        "outputId": "ef4907eb-88af-41b7-9895-dc1d5f38a559"
      },
      "outputs": [
        {
          "output_type": "execute_result",
          "data": {
            "text/plain": [
              "0.7030050774722006"
            ]
          },
          "metadata": {},
          "execution_count": 27
        }
      ],
      "source": [
        "results['NDCG@10']"
      ]
    },
    {
      "cell_type": "markdown",
      "metadata": {
        "id": "I3USCsa2qsgj"
      },
      "source": [
        "## Removal of documents without text"
      ]
    },
    {
      "cell_type": "code",
      "source": [
        "!pip install jsonlines"
      ],
      "metadata": {
        "colab": {
          "base_uri": "https://localhost:8080/"
        },
        "id": "Fy50cwFwtRLe",
        "outputId": "78428efc-3ed6-4ab3-fe20-0bc776c18a30"
      },
      "execution_count": null,
      "outputs": [
        {
          "output_type": "stream",
          "name": "stdout",
          "text": [
            "Looking in indexes: https://pypi.org/simple, https://us-python.pkg.dev/colab-wheels/public/simple/\n",
            "Requirement already satisfied: jsonlines in /usr/local/lib/python3.9/site-packages (3.1.0)\n",
            "Requirement already satisfied: attrs>=19.2.0 in /usr/local/lib/python3.9/site-packages (from jsonlines) (22.2.0)\n",
            "\u001b[33mWARNING: Running pip as the 'root' user can result in broken permissions and conflicting behaviour with the system package manager. It is recommended to use a virtual environment instead: https://pip.pypa.io/warnings/venv\u001b[0m\u001b[33m\n",
            "\u001b[0m"
          ]
        }
      ]
    },
    {
      "cell_type": "code",
      "execution_count": null,
      "metadata": {
        "id": "phs0CPu-WWMB"
      },
      "outputs": [],
      "source": [
        "import jsonlines\n",
        "\n",
        "corpus = []\n",
        "docs_to_remove_expansion = dict()\n",
        "\n",
        "with jsonlines.open(f\"{main_dir}/trec-covid/corpus.jsonl\") as reader:\n",
        "    for item in reader:\n",
        "        if len(item[\"text\"].strip()) == 0:\n",
        "          docs_to_remove_expansion[item[\"_id\"]] = item[\"title\"]"
      ]
    },
    {
      "cell_type": "code",
      "source": [
        "len(docs_to_remove_expansion)"
      ],
      "metadata": {
        "colab": {
          "base_uri": "https://localhost:8080/"
        },
        "id": "68iVReh_sost",
        "outputId": "196880b3-bded-4446-d9c7-27d299621ea7"
      },
      "execution_count": null,
      "outputs": [
        {
          "output_type": "execute_result",
          "data": {
            "text/plain": [
              "42140"
            ]
          },
          "metadata": {},
          "execution_count": 146
        }
      ]
    },
    {
      "cell_type": "code",
      "source": [
        "#trec_covid_doc2query-adafactor-bs-32-split-1000-bf16-early-stoping\n",
        "#index_name = \"trec_covid_doc2query-adafactor-bs-32-split-1000-bf16-early-stoping\"\n",
        "#index_name = \"trec_covid_doc2query-adafactor-bs-32-split-1000-bf16-early-stoping_20_queries\"\n",
        "#index_name = \"trec_covid_doc2query-adafactor-bs-32-split-1000-bf16-early-stoping_3_queries\"\n",
        "index_name = \"trec_covid_doc2query-adafactor-bs-32-split-1000-no-fp16\""
      ],
      "metadata": {
        "id": "89foGWIY4OCi"
      },
      "execution_count": null,
      "outputs": []
    },
    {
      "cell_type": "code",
      "source": [
        "collections_path = f\"{main_dir}/collections/{index_name}\"\n",
        "collections_path"
      ],
      "metadata": {
        "colab": {
          "base_uri": "https://localhost:8080/",
          "height": 36
        },
        "id": "8IPVVimCtvl0",
        "outputId": "59c7b65a-a026-43e0-ed5a-cc50216a4aa6"
      },
      "execution_count": null,
      "outputs": [
        {
          "output_type": "execute_result",
          "data": {
            "text/plain": [
              "'/content/gdrive/MyDrive/Unicamp-aula-6-3/collections/trec_covid_doc2query-adafactor-bs-32-split-1000-no-fp16'"
            ],
            "application/vnd.google.colaboratory.intrinsic+json": {
              "type": "string"
            }
          },
          "metadata": {},
          "execution_count": 148
        }
      ]
    },
    {
      "cell_type": "code",
      "source": [
        "import glob\n",
        "import os\n",
        "from tqdm.auto import tqdm\n",
        "\n",
        "def remove_expansions_from_empty_docs(index_name):\n",
        "  collections_path = f\"{main_dir}/collections/{index_name}\"\n",
        "  print(collections_path)\n",
        "  new_collections_path = collections_path + \"-expand-non-empty\"\n",
        "  extension = \"*.json\"\n",
        "  files = glob.glob(os.path.join(collections_path, extension))\n",
        "  print(files)\n",
        "\n",
        "  for file in tqdm(files):\n",
        "    with jsonlines.open(file) as reader:\n",
        "      # Loop through each line in the file\n",
        "      itens = []\n",
        "      for item in reader:\n",
        "        if item[\"id\"] in docs_to_remove_expansion:\n",
        "          itens.append({\"id\":item[\"id\"], \"contents\":docs_to_remove_expansion[item[\"id\"]]})\n",
        "        else:\n",
        "          itens.append(item)\n",
        "      with jsonlines.open(new_collections_path + \"/\" + file[file.rfind('/')+1:], mode='w') as writer:\n",
        "        for item in itens:\n",
        "          writer.write(item)\n",
        "        print(new_collections_path + \"/\" + file[file.rfind('/')+1:])\n",
        "\n",
        "  return new_collections_path"
      ],
      "metadata": {
        "id": "-toFu2nVv0M_"
      },
      "execution_count": null,
      "outputs": []
    },
    {
      "cell_type": "code",
      "source": [
        "new_collections_path = remove_expansions_from_empty_docs(index_name)"
      ],
      "metadata": {
        "colab": {
          "base_uri": "https://localhost:8080/",
          "height": 294,
          "referenced_widgets": [
            "8cf9f31de9644f39b44ebacab8d98fbe",
            "fe47096e5b33481d950d0642f539a30e",
            "12318b6fd2904b778ecdc71bb4a70f34",
            "3ec71bd420e0454981e77c1b5d823943",
            "95bda7c1bff84fe4b11c7a3bef86046a",
            "1a09ab92a7684143a7480f42532c181b",
            "bdd0d932111f4782a1b1fec03d169efb",
            "ba521b86e516478098adaaf0e14f793b",
            "a0c2da56e5ef4eaf9d42cff82f9034a4",
            "7c315ef6296e43f785411ace0a2eecfc",
            "0f9ce356497840f69202242539d62311"
          ]
        },
        "id": "s0r2T4Pb8pfF",
        "outputId": "370b3f5c-0567-4350-9842-688737c64f0f"
      },
      "execution_count": null,
      "outputs": [
        {
          "output_type": "stream",
          "name": "stdout",
          "text": [
            "/content/gdrive/MyDrive/Unicamp-aula-6-3/collections/trec_covid_doc2query-adafactor-bs-32-split-1000-no-fp16\n",
            "['/content/gdrive/MyDrive/Unicamp-aula-6-3/collections/trec_covid_doc2query-adafactor-bs-32-split-1000-no-fp16/json_1.json', '/content/gdrive/MyDrive/Unicamp-aula-6-3/collections/trec_covid_doc2query-adafactor-bs-32-split-1000-no-fp16/json_2.json', '/content/gdrive/MyDrive/Unicamp-aula-6-3/collections/trec_covid_doc2query-adafactor-bs-32-split-1000-no-fp16/json_3.json', '/content/gdrive/MyDrive/Unicamp-aula-6-3/collections/trec_covid_doc2query-adafactor-bs-32-split-1000-no-fp16/json_4.json', '/content/gdrive/MyDrive/Unicamp-aula-6-3/collections/trec_covid_doc2query-adafactor-bs-32-split-1000-no-fp16/json_5.json', '/content/gdrive/MyDrive/Unicamp-aula-6-3/collections/trec_covid_doc2query-adafactor-bs-32-split-1000-no-fp16/json_6.json', '/content/gdrive/MyDrive/Unicamp-aula-6-3/collections/trec_covid_doc2query-adafactor-bs-32-split-1000-no-fp16/json_7.json', '/content/gdrive/MyDrive/Unicamp-aula-6-3/collections/trec_covid_doc2query-adafactor-bs-32-split-1000-no-fp16/json_8.json', '/content/gdrive/MyDrive/Unicamp-aula-6-3/collections/trec_covid_doc2query-adafactor-bs-32-split-1000-no-fp16/json_9.json', '/content/gdrive/MyDrive/Unicamp-aula-6-3/collections/trec_covid_doc2query-adafactor-bs-32-split-1000-no-fp16/json_10.json', '/content/gdrive/MyDrive/Unicamp-aula-6-3/collections/trec_covid_doc2query-adafactor-bs-32-split-1000-no-fp16/json_0.json']\n"
          ]
        },
        {
          "output_type": "display_data",
          "data": {
            "text/plain": [
              "  0%|          | 0/11 [00:00<?, ?it/s]"
            ],
            "application/vnd.jupyter.widget-view+json": {
              "version_major": 2,
              "version_minor": 0,
              "model_id": "8cf9f31de9644f39b44ebacab8d98fbe"
            }
          },
          "metadata": {}
        },
        {
          "output_type": "stream",
          "name": "stdout",
          "text": [
            "/content/gdrive/MyDrive/Unicamp-aula-6-3/collections/trec_covid_doc2query-adafactor-bs-32-split-1000-no-fp16-expand-non-empty/json_1.json\n",
            "/content/gdrive/MyDrive/Unicamp-aula-6-3/collections/trec_covid_doc2query-adafactor-bs-32-split-1000-no-fp16-expand-non-empty/json_2.json\n",
            "/content/gdrive/MyDrive/Unicamp-aula-6-3/collections/trec_covid_doc2query-adafactor-bs-32-split-1000-no-fp16-expand-non-empty/json_3.json\n",
            "/content/gdrive/MyDrive/Unicamp-aula-6-3/collections/trec_covid_doc2query-adafactor-bs-32-split-1000-no-fp16-expand-non-empty/json_4.json\n",
            "/content/gdrive/MyDrive/Unicamp-aula-6-3/collections/trec_covid_doc2query-adafactor-bs-32-split-1000-no-fp16-expand-non-empty/json_5.json\n",
            "/content/gdrive/MyDrive/Unicamp-aula-6-3/collections/trec_covid_doc2query-adafactor-bs-32-split-1000-no-fp16-expand-non-empty/json_6.json\n",
            "/content/gdrive/MyDrive/Unicamp-aula-6-3/collections/trec_covid_doc2query-adafactor-bs-32-split-1000-no-fp16-expand-non-empty/json_7.json\n",
            "/content/gdrive/MyDrive/Unicamp-aula-6-3/collections/trec_covid_doc2query-adafactor-bs-32-split-1000-no-fp16-expand-non-empty/json_8.json\n",
            "/content/gdrive/MyDrive/Unicamp-aula-6-3/collections/trec_covid_doc2query-adafactor-bs-32-split-1000-no-fp16-expand-non-empty/json_9.json\n",
            "/content/gdrive/MyDrive/Unicamp-aula-6-3/collections/trec_covid_doc2query-adafactor-bs-32-split-1000-no-fp16-expand-non-empty/json_10.json\n",
            "/content/gdrive/MyDrive/Unicamp-aula-6-3/collections/trec_covid_doc2query-adafactor-bs-32-split-1000-no-fp16-expand-non-empty/json_0.json\n"
          ]
        }
      ]
    },
    {
      "cell_type": "code",
      "source": [
        "new_collections_path, index_name"
      ],
      "metadata": {
        "colab": {
          "base_uri": "https://localhost:8080/"
        },
        "id": "na5ZaZ2W-4vR",
        "outputId": "faa786e2-4502-41cf-ae26-40c18722fc2f"
      },
      "execution_count": null,
      "outputs": [
        {
          "output_type": "execute_result",
          "data": {
            "text/plain": [
              "('/content/gdrive/MyDrive/Unicamp-aula-6-3/collections/trec_covid_doc2query-adafactor-bs-32-split-1000-no-fp16-expand-non-empty',\n",
              " 'trec_covid_doc2query-adafactor-bs-32-split-1000-no-fp16')"
            ]
          },
          "metadata": {},
          "execution_count": 151
        }
      ]
    },
    {
      "cell_type": "code",
      "source": [
        "!python -m pyserini.index.lucene \\\n",
        "  --collection JsonCollection \\\n",
        "  --input {new_collections_path} \\\n",
        "  --index {main_dir}/{index_name}-expand-non-empty \\\n",
        "  --generator DefaultLuceneDocumentGenerator \\\n",
        "  --threads 9 \\\n",
        "  --storePositions --storeDocvectors --storeRaw"
      ],
      "metadata": {
        "colab": {
          "base_uri": "https://localhost:8080/"
        },
        "id": "TTSXgmHF2zJJ",
        "outputId": "98eb86e3-be53-4fd3-950a-827736aa3a42"
      },
      "execution_count": null,
      "outputs": [
        {
          "output_type": "stream",
          "name": "stdout",
          "text": [
            "WARNING: sun.reflect.Reflection.getCallerClass is not supported. This will impact performance.\n",
            "2023-04-13 00:36:15,556 INFO  [main] index.IndexCollection (IndexCollection.java:380) - Setting log level to INFO\n",
            "2023-04-13 00:36:15,560 INFO  [main] index.IndexCollection (IndexCollection.java:383) - Starting indexer...\n",
            "2023-04-13 00:36:15,560 INFO  [main] index.IndexCollection (IndexCollection.java:384) - ============ Loading Parameters ============\n",
            "2023-04-13 00:36:15,561 INFO  [main] index.IndexCollection (IndexCollection.java:385) - DocumentCollection path: /content/gdrive/MyDrive/Unicamp-aula-6-3/collections/trec_covid_doc2query-adafactor-bs-32-split-1000-no-fp16-expand-non-empty\n",
            "2023-04-13 00:36:15,561 INFO  [main] index.IndexCollection (IndexCollection.java:386) - CollectionClass: JsonCollection\n",
            "2023-04-13 00:36:15,562 INFO  [main] index.IndexCollection (IndexCollection.java:387) - Generator: DefaultLuceneDocumentGenerator\n",
            "2023-04-13 00:36:15,562 INFO  [main] index.IndexCollection (IndexCollection.java:388) - Threads: 9\n",
            "2023-04-13 00:36:15,563 INFO  [main] index.IndexCollection (IndexCollection.java:389) - Language: en\n",
            "2023-04-13 00:36:15,563 INFO  [main] index.IndexCollection (IndexCollection.java:390) - Stemmer: porter\n",
            "2023-04-13 00:36:15,568 INFO  [main] index.IndexCollection (IndexCollection.java:391) - Keep stopwords? false\n",
            "2023-04-13 00:36:15,568 INFO  [main] index.IndexCollection (IndexCollection.java:392) - Stopwords: null\n",
            "2023-04-13 00:36:15,569 INFO  [main] index.IndexCollection (IndexCollection.java:393) - Store positions? true\n",
            "2023-04-13 00:36:15,570 INFO  [main] index.IndexCollection (IndexCollection.java:394) - Store docvectors? true\n",
            "2023-04-13 00:36:15,570 INFO  [main] index.IndexCollection (IndexCollection.java:395) - Store document \"contents\" field? false\n",
            "2023-04-13 00:36:15,571 INFO  [main] index.IndexCollection (IndexCollection.java:396) - Store document \"raw\" field? true\n",
            "2023-04-13 00:36:15,573 INFO  [main] index.IndexCollection (IndexCollection.java:397) - Additional fields to index: []\n",
            "2023-04-13 00:36:15,573 INFO  [main] index.IndexCollection (IndexCollection.java:398) - Optimize (merge segments)? false\n",
            "2023-04-13 00:36:15,575 INFO  [main] index.IndexCollection (IndexCollection.java:399) - Whitelist: null\n",
            "2023-04-13 00:36:15,576 INFO  [main] index.IndexCollection (IndexCollection.java:400) - Pretokenized?: false\n",
            "2023-04-13 00:36:15,576 INFO  [main] index.IndexCollection (IndexCollection.java:401) - Index path: /content/gdrive/MyDrive/Unicamp-aula-6-3/trec_covid_doc2query-adafactor-bs-32-split-1000-no-fp16-expand-non-empty\n",
            "2023-04-13 00:36:15,591 INFO  [main] index.IndexCollection (IndexCollection.java:481) - ============ Indexing Collection ============\n",
            "2023-04-13 00:36:15,604 INFO  [main] index.IndexCollection (IndexCollection.java:468) - Using DefaultEnglishAnalyzer\n",
            "2023-04-13 00:36:15,606 INFO  [main] index.IndexCollection (IndexCollection.java:469) - Stemmer: porter\n",
            "2023-04-13 00:36:15,606 INFO  [main] index.IndexCollection (IndexCollection.java:470) - Keep stopwords? false\n",
            "2023-04-13 00:36:15,608 INFO  [main] index.IndexCollection (IndexCollection.java:471) - Stopwords file: null\n",
            "2023-04-13 00:36:15,825 INFO  [main] index.IndexCollection (IndexCollection.java:510) - Thread pool with 9 threads initialized.\n",
            "2023-04-13 00:36:15,826 INFO  [main] index.IndexCollection (IndexCollection.java:512) - Initializing collection in /content/gdrive/MyDrive/Unicamp-aula-6-3/collections/trec_covid_doc2query-adafactor-bs-32-split-1000-no-fp16-expand-non-empty\n",
            "2023-04-13 00:36:15,838 INFO  [main] index.IndexCollection (IndexCollection.java:521) - 11 files found\n",
            "2023-04-13 00:36:15,838 INFO  [main] index.IndexCollection (IndexCollection.java:522) - Starting to index...\n",
            "2023-04-13 00:36:16,640 DEBUG [pool-2-thread-9] index.IndexCollection$LocalIndexerThread (IndexCollection.java:345) - trec_covid_doc2query-adafactor-bs-32-split-1000-no-fp16-expand-non-empty/json_10.json: 2 docs added.\n",
            "2023-04-13 00:37:11,730 DEBUG [pool-2-thread-3] index.IndexCollection$LocalIndexerThread (IndexCollection.java:345) - trec_covid_doc2query-adafactor-bs-32-split-1000-no-fp16-expand-non-empty/json_6.json: 17133 docs added.\n",
            "2023-04-13 00:37:15,344 DEBUG [pool-2-thread-2] index.IndexCollection$LocalIndexerThread (IndexCollection.java:345) - trec_covid_doc2query-adafactor-bs-32-split-1000-no-fp16-expand-non-empty/json_5.json: 17133 docs added.\n",
            "2023-04-13 00:37:15,862 INFO  [main] index.IndexCollection (IndexCollection.java:536) - 27.27% of files completed, 104,268 documents indexed\n",
            "2023-04-13 00:37:16,262 DEBUG [pool-2-thread-1] index.IndexCollection$LocalIndexerThread (IndexCollection.java:345) - trec_covid_doc2query-adafactor-bs-32-split-1000-no-fp16-expand-non-empty/json_1.json: 17132 docs added.\n",
            "2023-04-13 00:37:32,168 DEBUG [pool-2-thread-9] index.IndexCollection$LocalIndexerThread (IndexCollection.java:345) - trec_covid_doc2query-adafactor-bs-32-split-1000-no-fp16-expand-non-empty/json_9.json: 17133 docs added.\n",
            "2023-04-13 00:37:32,297 DEBUG [pool-2-thread-5] index.IndexCollection$LocalIndexerThread (IndexCollection.java:345) - trec_covid_doc2query-adafactor-bs-32-split-1000-no-fp16-expand-non-empty/json_7.json: 17133 docs added.\n",
            "2023-04-13 00:37:33,273 DEBUG [pool-2-thread-6] index.IndexCollection$LocalIndexerThread (IndexCollection.java:345) - trec_covid_doc2query-adafactor-bs-32-split-1000-no-fp16-expand-non-empty/json_8.json: 17133 docs added.\n",
            "2023-04-13 00:37:33,776 DEBUG [pool-2-thread-7] index.IndexCollection$LocalIndexerThread (IndexCollection.java:345) - trec_covid_doc2query-adafactor-bs-32-split-1000-no-fp16-expand-non-empty/json_4.json: 17133 docs added.\n",
            "2023-04-13 00:37:33,830 DEBUG [pool-2-thread-4] index.IndexCollection$LocalIndexerThread (IndexCollection.java:345) - trec_covid_doc2query-adafactor-bs-32-split-1000-no-fp16-expand-non-empty/json_2.json: 17133 docs added.\n",
            "2023-04-13 00:37:34,107 DEBUG [pool-2-thread-8] index.IndexCollection$LocalIndexerThread (IndexCollection.java:345) - trec_covid_doc2query-adafactor-bs-32-split-1000-no-fp16-expand-non-empty/json_3.json: 17133 docs added.\n",
            "2023-04-13 00:37:38,275 DEBUG [pool-2-thread-3] index.IndexCollection$LocalIndexerThread (IndexCollection.java:345) - trec_covid_doc2query-adafactor-bs-32-split-1000-no-fp16-expand-non-empty/json_0.json: 17133 docs added.\n",
            "2023-04-13 00:37:53,141 INFO  [main] index.IndexCollection (IndexCollection.java:578) - Indexing Complete! 171,331 documents indexed\n",
            "2023-04-13 00:37:53,141 INFO  [main] index.IndexCollection (IndexCollection.java:579) - ============ Final Counter Values ============\n",
            "2023-04-13 00:37:53,142 INFO  [main] index.IndexCollection (IndexCollection.java:580) - indexed:          171,331\n",
            "2023-04-13 00:37:53,143 INFO  [main] index.IndexCollection (IndexCollection.java:581) - unindexable:            0\n",
            "2023-04-13 00:37:53,143 INFO  [main] index.IndexCollection (IndexCollection.java:582) - empty:                  1\n",
            "2023-04-13 00:37:53,143 INFO  [main] index.IndexCollection (IndexCollection.java:583) - skipped:                0\n",
            "2023-04-13 00:37:53,145 INFO  [main] index.IndexCollection (IndexCollection.java:584) - errors:                 0\n",
            "2023-04-13 00:37:53,188 INFO  [main] index.IndexCollection (IndexCollection.java:587) - Total 171,331 documents indexed in 00:01:37\n"
          ]
        }
      ]
    },
    {
      "cell_type": "code",
      "source": [
        "!python -m pyserini.search.lucene \\\n",
        "  --index {main_dir}/{index_name}-expand-non-empty \\\n",
        "  --topics {main_dir}/{topics}/queries.tsv \\\n",
        "  --output {main_dir}/runs/run.{topics}.bm25tuned-{index_name}-expand-non-empty.txt \\\n",
        "  --hits 1000 \\\n",
        "  --bm25 --k1 4 --b 0.25"
      ],
      "metadata": {
        "colab": {
          "base_uri": "https://localhost:8080/"
        },
        "id": "UFw2u6KV44Jf",
        "outputId": "9041f7de-3b97-49dd-930e-355f5270ba42"
      },
      "execution_count": null,
      "outputs": [
        {
          "output_type": "stream",
          "name": "stdout",
          "text": [
            "Setting BM25 parameters: k1=4.0, b=0.25\n",
            "Running /content/gdrive/MyDrive/Unicamp-aula-6-3/trec-covid/queries.tsv topics, saving to /content/gdrive/MyDrive/Unicamp-aula-6-3/runs/run.trec-covid.bm25tuned-trec_covid_doc2query-adafactor-bs-32-split-1000-no-fp16-expand-non-empty.txt...\n",
            "100% 50/50 [00:10<00:00,  4.96it/s]\n"
          ]
        }
      ]
    },
    {
      "cell_type": "code",
      "source": [
        "from evaluate import load\n",
        "\n",
        "def eval(run_file):\n",
        "  run = pd.read_csv(run_file, sep=\"\\s+\", \n",
        "                    names=[\"query\", \"q0\", \"docid\", \"rank\", \"score\", \"system\"])\n",
        "  run = run.to_dict(orient=\"list\")\n",
        "\n",
        "  trec_eval = load(\"trec_eval\")\n",
        "  results = trec_eval.compute(predictions=[run], references=[qrel])\n",
        "  return results['NDCG@10']"
      ],
      "metadata": {
        "id": "PpSJLdZD5UyC"
      },
      "execution_count": null,
      "outputs": []
    },
    {
      "cell_type": "code",
      "source": [
        "eval(f\"{main_dir}/runs/run.{topics}.bm25tuned-trec_covid_doc2query-adafactor-bs-32-split-1000-no-fp16-expand-non-empty.txt\")"
      ],
      "metadata": {
        "colab": {
          "base_uri": "https://localhost:8080/"
        },
        "id": "lXb6AVZA83re",
        "outputId": "de891c59-0502-40ba-ca42-797d238e7edf"
      },
      "execution_count": null,
      "outputs": [
        {
          "output_type": "execute_result",
          "data": {
            "text/plain": [
              "0.6821625236566535"
            ]
          },
          "metadata": {},
          "execution_count": 158
        }
      ]
    },
    {
      "cell_type": "code",
      "source": [
        "eval(\"/content/gdrive/MyDrive/Unicamp-aula-6-3/runs/run.trec-covid.bm25tuned-trec_covid_doc2query-adafactor-bs-32-split-1000-no-fp16-expand-non-empty.txt\")"
      ],
      "metadata": {
        "colab": {
          "base_uri": "https://localhost:8080/"
        },
        "id": "uQq7RgY58uzB",
        "outputId": "3e0b7c5a-8fcb-41c5-a5f9-8bd71d3ba21e"
      },
      "execution_count": null,
      "outputs": [
        {
          "output_type": "execute_result",
          "data": {
            "text/plain": [
              "0.6821625236566535"
            ]
          },
          "metadata": {},
          "execution_count": 159
        }
      ]
    },
    {
      "cell_type": "markdown",
      "source": [
        "## BM25 hyperparameters tuning for the best model up to now"
      ],
      "metadata": {
        "id": "XCa2TubzMFwS"
      }
    },
    {
      "cell_type": "code",
      "source": [
        "#k1 in [0.5, 1.0, 1.2, 1.5, 2.0, 2.5, 3.0, 4.0, 5.0]\n",
        "#b in [0.25, 0.5, 0.75, 1.0]"
      ],
      "metadata": {
        "id": "2vVNUdIuMJFd"
      },
      "execution_count": null,
      "outputs": []
    },
    {
      "cell_type": "code",
      "source": [
        "collections_path = f'{main_dir}/collections/trec_covid_doc2query-adafactor-bs-32-split-1000-bf16-early-stoping_18_queries-expand-non-empty'\n",
        "index_name = 'trec_covid_doc2query-adafactor-bs-32-split-1000-bf16-early-stoping_18_queries'"
      ],
      "metadata": {
        "id": "jQDhnTpGOi_M"
      },
      "execution_count": null,
      "outputs": []
    },
    {
      "cell_type": "markdown",
      "source": [
        "Recreates the \"best\" index in the appropriate location (mounted gdrive)."
      ],
      "metadata": {
        "id": "FXQuaa0aPLNw"
      }
    },
    {
      "cell_type": "code",
      "source": [
        "!python -m pyserini.index.lucene \\\n",
        "  --collection JsonCollection \\\n",
        "  --input {collections_path} \\\n",
        "  --index {main_dir}/{index_name}-expand-non-empty \\\n",
        "  --generator DefaultLuceneDocumentGenerator \\\n",
        "  --threads 9 \\\n",
        "  --storePositions --storeDocvectors --storeRaw"
      ],
      "metadata": {
        "colab": {
          "base_uri": "https://localhost:8080/"
        },
        "id": "ZRbyVhXRODyB",
        "outputId": "354c6aab-fdca-46ee-94f8-8c6267e1958d"
      },
      "execution_count": null,
      "outputs": [
        {
          "output_type": "stream",
          "name": "stdout",
          "text": [
            "WARNING: sun.reflect.Reflection.getCallerClass is not supported. This will impact performance.\n",
            "2023-04-12 20:57:58,299 INFO  [main] index.IndexCollection (IndexCollection.java:380) - Setting log level to INFO\n",
            "2023-04-12 20:57:58,301 INFO  [main] index.IndexCollection (IndexCollection.java:383) - Starting indexer...\n",
            "2023-04-12 20:57:58,301 INFO  [main] index.IndexCollection (IndexCollection.java:384) - ============ Loading Parameters ============\n",
            "2023-04-12 20:57:58,302 INFO  [main] index.IndexCollection (IndexCollection.java:385) - DocumentCollection path: /content/gdrive/MyDrive/Unicamp-aula-6-3/collections/trec_covid_doc2query-adafactor-bs-32-split-1000-bf16-early-stoping_18_queries-expand-non-empty\n",
            "2023-04-12 20:57:58,302 INFO  [main] index.IndexCollection (IndexCollection.java:386) - CollectionClass: JsonCollection\n",
            "2023-04-12 20:57:58,302 INFO  [main] index.IndexCollection (IndexCollection.java:387) - Generator: DefaultLuceneDocumentGenerator\n",
            "2023-04-12 20:57:58,302 INFO  [main] index.IndexCollection (IndexCollection.java:388) - Threads: 9\n",
            "2023-04-12 20:57:58,303 INFO  [main] index.IndexCollection (IndexCollection.java:389) - Language: en\n",
            "2023-04-12 20:57:58,303 INFO  [main] index.IndexCollection (IndexCollection.java:390) - Stemmer: porter\n",
            "2023-04-12 20:57:58,303 INFO  [main] index.IndexCollection (IndexCollection.java:391) - Keep stopwords? false\n",
            "2023-04-12 20:57:58,303 INFO  [main] index.IndexCollection (IndexCollection.java:392) - Stopwords: null\n",
            "2023-04-12 20:57:58,303 INFO  [main] index.IndexCollection (IndexCollection.java:393) - Store positions? true\n",
            "2023-04-12 20:57:58,304 INFO  [main] index.IndexCollection (IndexCollection.java:394) - Store docvectors? true\n",
            "2023-04-12 20:57:58,304 INFO  [main] index.IndexCollection (IndexCollection.java:395) - Store document \"contents\" field? false\n",
            "2023-04-12 20:57:58,304 INFO  [main] index.IndexCollection (IndexCollection.java:396) - Store document \"raw\" field? true\n",
            "2023-04-12 20:57:58,304 INFO  [main] index.IndexCollection (IndexCollection.java:397) - Additional fields to index: []\n",
            "2023-04-12 20:57:58,305 INFO  [main] index.IndexCollection (IndexCollection.java:398) - Optimize (merge segments)? false\n",
            "2023-04-12 20:57:58,305 INFO  [main] index.IndexCollection (IndexCollection.java:399) - Whitelist: null\n",
            "2023-04-12 20:57:58,305 INFO  [main] index.IndexCollection (IndexCollection.java:400) - Pretokenized?: false\n",
            "2023-04-12 20:57:58,305 INFO  [main] index.IndexCollection (IndexCollection.java:401) - Index path: /content/gdrive/MyDrive/Unicamp-aula-6-3/trec_covid_doc2query-adafactor-bs-32-split-1000-bf16-early-stoping_18_queries-expand-non-empty\n",
            "2023-04-12 20:57:58,310 INFO  [main] index.IndexCollection (IndexCollection.java:481) - ============ Indexing Collection ============\n",
            "2023-04-12 20:57:58,321 INFO  [main] index.IndexCollection (IndexCollection.java:468) - Using DefaultEnglishAnalyzer\n",
            "2023-04-12 20:57:58,321 INFO  [main] index.IndexCollection (IndexCollection.java:469) - Stemmer: porter\n",
            "2023-04-12 20:57:58,321 INFO  [main] index.IndexCollection (IndexCollection.java:470) - Keep stopwords? false\n",
            "2023-04-12 20:57:58,322 INFO  [main] index.IndexCollection (IndexCollection.java:471) - Stopwords file: null\n",
            "2023-04-12 20:57:58,446 INFO  [main] index.IndexCollection (IndexCollection.java:510) - Thread pool with 9 threads initialized.\n",
            "2023-04-12 20:57:58,447 INFO  [main] index.IndexCollection (IndexCollection.java:512) - Initializing collection in /content/gdrive/MyDrive/Unicamp-aula-6-3/collections/trec_covid_doc2query-adafactor-bs-32-split-1000-bf16-early-stoping_18_queries-expand-non-empty\n",
            "2023-04-12 20:57:59,070 INFO  [main] index.IndexCollection (IndexCollection.java:521) - 11 files found\n",
            "2023-04-12 20:57:59,070 INFO  [main] index.IndexCollection (IndexCollection.java:522) - Starting to index...\n",
            "2023-04-12 20:58:00,131 DEBUG [pool-2-thread-8] index.IndexCollection$LocalIndexerThread (IndexCollection.java:345) - trec_covid_doc2query-adafactor-bs-32-split-1000-bf16-early-stoping_18_queries-expand-non-empty/json_10.json: 2 docs added.\n",
            "2023-04-12 20:58:09,188 DEBUG [pool-2-thread-5] index.IndexCollection$LocalIndexerThread (IndexCollection.java:345) - trec_covid_doc2query-adafactor-bs-32-split-1000-bf16-early-stoping_18_queries-expand-non-empty/json_6.json: 17133 docs added.\n",
            "2023-04-12 20:58:09,523 DEBUG [pool-2-thread-6] index.IndexCollection$LocalIndexerThread (IndexCollection.java:345) - trec_covid_doc2query-adafactor-bs-32-split-1000-bf16-early-stoping_18_queries-expand-non-empty/json_5.json: 17133 docs added.\n",
            "2023-04-12 20:58:09,999 DEBUG [pool-2-thread-3] index.IndexCollection$LocalIndexerThread (IndexCollection.java:345) - trec_covid_doc2query-adafactor-bs-32-split-1000-bf16-early-stoping_18_queries-expand-non-empty/json_1.json: 17132 docs added.\n",
            "2023-04-12 20:58:11,001 DEBUG [pool-2-thread-4] index.IndexCollection$LocalIndexerThread (IndexCollection.java:345) - trec_covid_doc2query-adafactor-bs-32-split-1000-bf16-early-stoping_18_queries-expand-non-empty/json_0.json: 17133 docs added.\n",
            "2023-04-12 20:58:11,561 DEBUG [pool-2-thread-9] index.IndexCollection$LocalIndexerThread (IndexCollection.java:345) - trec_covid_doc2query-adafactor-bs-32-split-1000-bf16-early-stoping_18_queries-expand-non-empty/json_7.json: 17133 docs added.\n",
            "2023-04-12 20:58:12,063 DEBUG [pool-2-thread-8] index.IndexCollection$LocalIndexerThread (IndexCollection.java:345) - trec_covid_doc2query-adafactor-bs-32-split-1000-bf16-early-stoping_18_queries-expand-non-empty/json_8.json: 17133 docs added.\n",
            "2023-04-12 20:58:12,081 DEBUG [pool-2-thread-7] index.IndexCollection$LocalIndexerThread (IndexCollection.java:345) - trec_covid_doc2query-adafactor-bs-32-split-1000-bf16-early-stoping_18_queries-expand-non-empty/json_4.json: 17133 docs added.\n",
            "2023-04-12 20:58:12,193 DEBUG [pool-2-thread-2] index.IndexCollection$LocalIndexerThread (IndexCollection.java:345) - trec_covid_doc2query-adafactor-bs-32-split-1000-bf16-early-stoping_18_queries-expand-non-empty/json_3.json: 17133 docs added.\n",
            "2023-04-12 20:58:12,218 DEBUG [pool-2-thread-1] index.IndexCollection$LocalIndexerThread (IndexCollection.java:345) - trec_covid_doc2query-adafactor-bs-32-split-1000-bf16-early-stoping_18_queries-expand-non-empty/json_2.json: 17133 docs added.\n",
            "2023-04-12 20:58:16,156 DEBUG [pool-2-thread-5] index.IndexCollection$LocalIndexerThread (IndexCollection.java:345) - trec_covid_doc2query-adafactor-bs-32-split-1000-bf16-early-stoping_18_queries-expand-non-empty/json_9.json: 17133 docs added.\n",
            "2023-04-12 20:58:22,675 INFO  [main] index.IndexCollection (IndexCollection.java:578) - Indexing Complete! 171,331 documents indexed\n",
            "2023-04-12 20:58:22,675 INFO  [main] index.IndexCollection (IndexCollection.java:579) - ============ Final Counter Values ============\n",
            "2023-04-12 20:58:22,675 INFO  [main] index.IndexCollection (IndexCollection.java:580) - indexed:          171,331\n",
            "2023-04-12 20:58:22,676 INFO  [main] index.IndexCollection (IndexCollection.java:581) - unindexable:            0\n",
            "2023-04-12 20:58:22,676 INFO  [main] index.IndexCollection (IndexCollection.java:582) - empty:                  1\n",
            "2023-04-12 20:58:22,676 INFO  [main] index.IndexCollection (IndexCollection.java:583) - skipped:                0\n",
            "2023-04-12 20:58:22,676 INFO  [main] index.IndexCollection (IndexCollection.java:584) - errors:                 0\n",
            "2023-04-12 20:58:22,680 INFO  [main] index.IndexCollection (IndexCollection.java:587) - Total 171,331 documents indexed in 00:00:24\n"
          ]
        }
      ]
    },
    {
      "cell_type": "code",
      "source": [
        "!python -m pyserini.search.lucene \\\n",
        "  --index {main_dir}/{index_name}-expand-non-empty \\\n",
        "  --topics {main_dir}/{topics}/queries.tsv \\\n",
        "  --output {main_dir}/runs/run.{topics}.bm25tuned-{index_name}-expand-non-empty.txt \\\n",
        "  --hits 1000 \\\n",
        "  --bm25 --k1 0.82 --b 0.68"
      ],
      "metadata": {
        "colab": {
          "base_uri": "https://localhost:8080/"
        },
        "id": "5OEvODLkM-lt",
        "outputId": "90254df1-b900-4fd4-a26f-be14997ebe14"
      },
      "execution_count": null,
      "outputs": [
        {
          "output_type": "stream",
          "name": "stdout",
          "text": [
            "Setting BM25 parameters: k1=0.82, b=0.68\n",
            "Running /content/gdrive/MyDrive/Unicamp-aula-6-3/trec-covid/queries.tsv topics, saving to /content/gdrive/MyDrive/Unicamp-aula-6-3/runs/run.trec-covid.bm25tuned-trec_covid_doc2query-adafactor-bs-32-split-1000-bf16-early-stoping_18_queries-expand-non-empty.txt...\n",
            "100% 50/50 [00:04<00:00, 10.63it/s]\n"
          ]
        }
      ]
    },
    {
      "cell_type": "code",
      "source": [
        "eval(f\"{main_dir}/runs/run.{topics}.bm25tuned-trec_covid_doc2query-adafactor-bs-32-split-1000-bf16-early-stoping_18_queries-expand-non-empty.txt\")"
      ],
      "metadata": {
        "colab": {
          "base_uri": "https://localhost:8080/",
          "height": 66,
          "referenced_widgets": [
            "2bea145133734d5082daff6a1b73fad2",
            "5774a9e0c6ce4bcd9d865d8df552ed30",
            "aa050c2325694f82ba27adf8d4ca59d7",
            "bdfe8f866c034b4184a3a4feeed9ce20",
            "45ab121d7b5240d7882b5ace81a2495f",
            "acb9bad3a99c4fbd8aa60b98cad8d8b2",
            "d3e2977b01c340f399481c13893a3c3d",
            "0dabb686d629494ca14bff51bba9f99b",
            "0aa3bca2ec6140e5a60dbc7ce15c83e8",
            "dae85453f8b843c6ad2d5ce99e3852bb",
            "52ad7b616123494cb4d310ff32e08cf2"
          ]
        },
        "id": "G_wDVMY4QyoO",
        "outputId": "ff84a405-5e80-4104-8b92-404e5a0e60f9"
      },
      "execution_count": null,
      "outputs": [
        {
          "output_type": "display_data",
          "data": {
            "text/plain": [
              "Downloading builder script:   0%|          | 0.00/5.51k [00:00<?, ?B/s]"
            ],
            "application/vnd.jupyter.widget-view+json": {
              "version_major": 2,
              "version_minor": 0,
              "model_id": "2bea145133734d5082daff6a1b73fad2"
            }
          },
          "metadata": {}
        },
        {
          "output_type": "execute_result",
          "data": {
            "text/plain": [
              "0.6559657499563727"
            ]
          },
          "metadata": {},
          "execution_count": 20
        }
      ]
    },
    {
      "cell_type": "markdown",
      "source": [
        "### Grid search"
      ],
      "metadata": {
        "id": "sEizoO7Ol_PF"
      }
    },
    {
      "cell_type": "code",
      "source": [
        "#index_name = 'trec_covid_doc2query-adafactor-bs-32-split-1000-bf16-early-stoping_18_queries'\n",
        "index_name = 'trec_covid_doc2query-adafactor-bs-32-split-1000-bf16-early-stoping'"
      ],
      "metadata": {
        "id": "6b9FT_Cnwc1y"
      },
      "execution_count": null,
      "outputs": []
    },
    {
      "cell_type": "code",
      "source": [
        "!python -m pyserini.search.lucene \\\n",
        "  --index {main_dir}/{index_name}-expand-non-empty \\\n",
        "  --topics {main_dir}/{topics}/queries.tsv \\\n",
        "  --output {main_dir}/runs/run.{topics}.bm25tuned-{index_name}-expand-non-empty.txt \\\n",
        "  --hits 1000 \\\n",
        "  --bm25 --k1 0.82 --b 0.68"
      ],
      "metadata": {
        "colab": {
          "base_uri": "https://localhost:8080/"
        },
        "id": "eHqIV-5jwLQb",
        "outputId": "aa8b2ce6-1bd0-4158-a6dc-8b8a3e9d2814"
      },
      "execution_count": null,
      "outputs": [
        {
          "output_type": "stream",
          "name": "stdout",
          "text": [
            "Setting BM25 parameters: k1=0.82, b=0.68\n",
            "Running /content/gdrive/MyDrive/Unicamp-aula-6-3/trec-covid/queries.tsv topics, saving to /content/gdrive/MyDrive/Unicamp-aula-6-3/runs/run.trec-covid.bm25tuned-trec_covid_doc2query-adafactor-bs-32-split-1000-bf16-early-stoping-expand-non-empty.txt...\n",
            "100% 50/50 [00:11<00:00,  4.31it/s]\n"
          ]
        }
      ]
    },
    {
      "cell_type": "code",
      "source": [
        "print(eval(f\"{main_dir}/runs/run.{topics}.bm25tuned-trec_covid_doc2query-adafactor-bs-32-split-1000-bf16-early-stoping_18_queries-expand-non-empty.txt\"))\n",
        "print(eval(f\"{main_dir}/runs/run.{topics}.bm25tuned-trec_covid_doc2query-adafactor-bs-32-split-1000-bf16-early-stoping-expand-non-empty.txt\"))"
      ],
      "metadata": {
        "colab": {
          "base_uri": "https://localhost:8080/"
        },
        "id": "DDyjpCoxxBGZ",
        "outputId": "85c0679e-3eb7-43ad-8d9c-33d8114744ef"
      },
      "execution_count": null,
      "outputs": [
        {
          "output_type": "stream",
          "name": "stdout",
          "text": [
            "0.539745045579447\n",
            "0.5980067077187501\n"
          ]
        }
      ]
    },
    {
      "cell_type": "code",
      "source": [
        "!python -m pyserini.search.lucene \\\n",
        "  --index {main_dir}/{index_name}-expand-non-empty \\\n",
        "  --topics {main_dir}/{topics}/queries.tsv \\\n",
        "  --output {main_dir}/runs/run.{topics}.bm25tuned-{index_name}-expand-non-empty.txt \\\n",
        "  --hits 1000 \\\n",
        "  --bm25 --k1 0.5 --b 0.25"
      ],
      "metadata": {
        "colab": {
          "base_uri": "https://localhost:8080/"
        },
        "id": "Fr7eYTX8RBhl",
        "outputId": "084365d1-89e6-486b-c326-96c765ba74a3"
      },
      "execution_count": null,
      "outputs": [
        {
          "output_type": "stream",
          "name": "stdout",
          "text": [
            "Setting BM25 parameters: k1=0.5, b=0.25\n",
            "Running /content/gdrive/MyDrive/Unicamp-aula-6-3/trec-covid/queries.tsv topics, saving to /content/gdrive/MyDrive/Unicamp-aula-6-3/runs/run.trec-covid.bm25tuned-trec_covid_doc2query-adafactor-bs-32-split-1000-bf16-early-stoping-expand-non-empty.txt...\n",
            "100% 50/50 [00:13<00:00,  3.59it/s]\n"
          ]
        }
      ]
    },
    {
      "cell_type": "code",
      "source": [
        "print(eval(f\"{main_dir}/runs/run.{topics}.bm25tuned-trec_covid_doc2query-adafactor-bs-32-split-1000-bf16-early-stoping_18_queries-expand-non-empty.txt\"))\n",
        "print(eval(f\"{main_dir}/runs/run.{topics}.bm25tuned-trec_covid_doc2query-adafactor-bs-32-split-1000-bf16-early-stoping-expand-non-empty.txt\"))"
      ],
      "metadata": {
        "colab": {
          "base_uri": "https://localhost:8080/"
        },
        "id": "2cKbU4OFRfD7",
        "outputId": "686e33c6-4e94-4aad-fc18-a2b65e3a8168"
      },
      "execution_count": null,
      "outputs": [
        {
          "output_type": "stream",
          "name": "stdout",
          "text": [
            "0.539745045579447\n",
            "0.5980067077187501\n"
          ]
        }
      ]
    },
    {
      "cell_type": "code",
      "source": [
        "!python -m pyserini.search.lucene \\\n",
        "  --index {main_dir}/{index_name}-expand-non-empty \\\n",
        "  --topics {main_dir}/{topics}/queries.tsv \\\n",
        "  --output {main_dir}/runs/run.{topics}.bm25tuned-{index_name}-expand-non-empty.txt \\\n",
        "  --hits 1000 \\\n",
        "  --bm25 --k1 0.5 --b 0.5"
      ],
      "metadata": {
        "colab": {
          "base_uri": "https://localhost:8080/"
        },
        "id": "JgVBjk5ORhQC",
        "outputId": "84443dc2-e230-48e4-ebdc-9e7654c7be75"
      },
      "execution_count": null,
      "outputs": [
        {
          "output_type": "stream",
          "name": "stdout",
          "text": [
            "Setting BM25 parameters: k1=0.5, b=0.5\n",
            "Running /content/gdrive/MyDrive/Unicamp-aula-6-3/trec-covid/queries.tsv topics, saving to /content/gdrive/MyDrive/Unicamp-aula-6-3/runs/run.trec-covid.bm25tuned-trec_covid_doc2query-adafactor-bs-32-split-1000-bf16-early-stoping-expand-non-empty.txt...\n",
            "100% 50/50 [00:09<00:00,  5.07it/s]\n"
          ]
        }
      ]
    },
    {
      "cell_type": "code",
      "source": [
        "#eval(f\"{main_dir}/runs/run.{topics}.bm25tuned-trec_covid_doc2query-adafactor-bs-32-split-1000-bf16-early-stoping_18_queries-expand-non-empty.txt\")\n",
        "eval(f\"{main_dir}/runs/run.{topics}.bm25tuned-trec_covid_doc2query-adafactor-bs-32-split-1000-bf16-early-stoping-expand-non-empty.txt\")"
      ],
      "metadata": {
        "colab": {
          "base_uri": "https://localhost:8080/"
        },
        "id": "kd3af9CKRnqz",
        "outputId": "82114dc2-f789-4549-aafc-a12de8075478"
      },
      "execution_count": null,
      "outputs": [
        {
          "output_type": "execute_result",
          "data": {
            "text/plain": [
              "0.5980067077187501"
            ]
          },
          "metadata": {},
          "execution_count": 39
        }
      ]
    },
    {
      "cell_type": "code",
      "source": [
        "!python -m pyserini.search.lucene \\\n",
        "  --index {main_dir}/{index_name}-expand-non-empty \\\n",
        "  --topics {main_dir}/{topics}/queries.tsv \\\n",
        "  --output {main_dir}/runs/run.{topics}.bm25tuned-{index_name}-expand-non-empty.txt \\\n",
        "  --hits 1000 \\\n",
        "  --bm25 --k1 0.5 --b 0.75"
      ],
      "metadata": {
        "colab": {
          "base_uri": "https://localhost:8080/"
        },
        "id": "E5rMTa2XRo4C",
        "outputId": "057a703e-b54f-4582-9fef-d4e11a74bf1c"
      },
      "execution_count": null,
      "outputs": [
        {
          "output_type": "stream",
          "name": "stdout",
          "text": [
            "Setting BM25 parameters: k1=0.5, b=0.75\n",
            "Running /content/gdrive/MyDrive/Unicamp-aula-6-3/trec-covid/queries.tsv topics, saving to /content/gdrive/MyDrive/Unicamp-aula-6-3/runs/run.trec-covid.bm25tuned-trec_covid_doc2query-adafactor-bs-32-split-1000-bf16-early-stoping-expand-non-empty.txt...\n",
            "100% 50/50 [00:13<00:00,  3.74it/s]\n"
          ]
        }
      ]
    },
    {
      "cell_type": "code",
      "source": [
        "#eval(f\"{main_dir}/runs/run.{topics}.bm25tuned-trec_covid_doc2query-adafactor-bs-32-split-1000-bf16-early-stoping_18_queries-expand-non-empty.txt\")\n",
        "eval(f\"{main_dir}/runs/run.{topics}.bm25tuned-trec_covid_doc2query-adafactor-bs-32-split-1000-bf16-early-stoping-expand-non-empty.txt\")"
      ],
      "metadata": {
        "colab": {
          "base_uri": "https://localhost:8080/"
        },
        "id": "ZHFYcegVRwuH",
        "outputId": "62e78ae6-9537-413e-869f-40a8d2c9f74d"
      },
      "execution_count": null,
      "outputs": [
        {
          "output_type": "execute_result",
          "data": {
            "text/plain": [
              "0.6156444131414522"
            ]
          },
          "metadata": {},
          "execution_count": 43
        }
      ]
    },
    {
      "cell_type": "code",
      "source": [
        "!python -m pyserini.search.lucene \\\n",
        "  --index {main_dir}/{index_name}-expand-non-empty \\\n",
        "  --topics {main_dir}/{topics}/queries.tsv \\\n",
        "  --output {main_dir}/runs/run.{topics}.bm25tuned-{index_name}-expand-non-empty.txt \\\n",
        "  --hits 1000 \\\n",
        "  --bm25 --k1 0.5 --b 1"
      ],
      "metadata": {
        "colab": {
          "base_uri": "https://localhost:8080/"
        },
        "id": "SvoXLsZ9Ry_d",
        "outputId": "b4757f67-3ca2-4079-9638-4b18f6313a1a"
      },
      "execution_count": null,
      "outputs": [
        {
          "output_type": "stream",
          "name": "stdout",
          "text": [
            "Setting BM25 parameters: k1=0.5, b=1.0\n",
            "Running /content/gdrive/MyDrive/Unicamp-aula-6-3/trec-covid/queries.tsv topics, saving to /content/gdrive/MyDrive/Unicamp-aula-6-3/runs/run.trec-covid.bm25tuned-trec_covid_doc2query-adafactor-bs-32-split-1000-bf16-early-stoping-expand-non-empty.txt...\n",
            "100% 50/50 [00:12<00:00,  4.06it/s]\n"
          ]
        }
      ]
    },
    {
      "cell_type": "code",
      "source": [
        "#eval(f\"{main_dir}/runs/run.{topics}.bm25tuned-trec_covid_doc2query-adafactor-bs-32-split-1000-bf16-early-stoping_18_queries-expand-non-empty.txt\")\n",
        "eval(f\"{main_dir}/runs/run.{topics}.bm25tuned-trec_covid_doc2query-adafactor-bs-32-split-1000-bf16-early-stoping-expand-non-empty.txt\")"
      ],
      "metadata": {
        "colab": {
          "base_uri": "https://localhost:8080/"
        },
        "id": "smQXi91bR6bv",
        "outputId": "9a7a2be9-33a3-4c6e-ff72-402bc9d76e19"
      },
      "execution_count": null,
      "outputs": [
        {
          "output_type": "execute_result",
          "data": {
            "text/plain": [
              "0.6057718066558745"
            ]
          },
          "metadata": {},
          "execution_count": 45
        }
      ]
    },
    {
      "cell_type": "code",
      "source": [
        "!python -m pyserini.search.lucene \\\n",
        "  --index {main_dir}/{index_name}-expand-non-empty \\\n",
        "  --topics {main_dir}/{topics}/queries.tsv \\\n",
        "  --output {main_dir}/runs/run.{topics}.bm25tuned-{index_name}-expand-non-empty.txt \\\n",
        "  --hits 1000 \\\n",
        "  --bm25 --k1 1 --b 0.25"
      ],
      "metadata": {
        "colab": {
          "base_uri": "https://localhost:8080/"
        },
        "id": "kDobL3UfR7vN",
        "outputId": "3dc50ca3-e615-48dd-b60c-43e921f27f51"
      },
      "execution_count": null,
      "outputs": [
        {
          "output_type": "stream",
          "name": "stdout",
          "text": [
            "Setting BM25 parameters: k1=1.0, b=0.25\n",
            "Running /content/gdrive/MyDrive/Unicamp-aula-6-3/trec-covid/queries.tsv topics, saving to /content/gdrive/MyDrive/Unicamp-aula-6-3/runs/run.trec-covid.bm25tuned-trec_covid_doc2query-adafactor-bs-32-split-1000-bf16-early-stoping-expand-non-empty.txt...\n",
            "100% 50/50 [00:10<00:00,  4.71it/s]\n"
          ]
        }
      ]
    },
    {
      "cell_type": "code",
      "source": [
        "#eval(f\"{main_dir}/runs/run.{topics}.bm25tuned-trec_covid_doc2query-adafactor-bs-32-split-1000-bf16-early-stoping_18_queries-expand-non-empty.txt\")\n",
        "eval(f\"{main_dir}/runs/run.{topics}.bm25tuned-trec_covid_doc2query-adafactor-bs-32-split-1000-bf16-early-stoping-expand-non-empty.txt\")"
      ],
      "metadata": {
        "colab": {
          "base_uri": "https://localhost:8080/"
        },
        "id": "C3SxFcxvSGlc",
        "outputId": "23999a36-4042-455d-80e0-6df656ba7e52"
      },
      "execution_count": null,
      "outputs": [
        {
          "output_type": "execute_result",
          "data": {
            "text/plain": [
              "0.6637250087365776"
            ]
          },
          "metadata": {},
          "execution_count": 47
        }
      ]
    },
    {
      "cell_type": "code",
      "source": [
        "!python -m pyserini.search.lucene \\\n",
        "  --index {main_dir}/{index_name}-expand-non-empty \\\n",
        "  --topics {main_dir}/{topics}/queries.tsv \\\n",
        "  --output {main_dir}/runs/run.{topics}.bm25tuned-{index_name}-expand-non-empty.txt \\\n",
        "  --hits 1000 \\\n",
        "  --bm25 --k1 1 --b 0.5"
      ],
      "metadata": {
        "colab": {
          "base_uri": "https://localhost:8080/"
        },
        "id": "iiqlNMMISH5M",
        "outputId": "94401e83-1fa3-4540-81fd-20e8fcc7b740"
      },
      "execution_count": null,
      "outputs": [
        {
          "output_type": "stream",
          "name": "stdout",
          "text": [
            "Setting BM25 parameters: k1=1.0, b=0.5\n",
            "Running /content/gdrive/MyDrive/Unicamp-aula-6-3/trec-covid/queries.tsv topics, saving to /content/gdrive/MyDrive/Unicamp-aula-6-3/runs/run.trec-covid.bm25tuned-trec_covid_doc2query-adafactor-bs-32-split-1000-bf16-early-stoping-expand-non-empty.txt...\n",
            "100% 50/50 [00:15<00:00,  3.17it/s]\n"
          ]
        }
      ]
    },
    {
      "cell_type": "code",
      "source": [
        "#eval(f\"{main_dir}/runs/run.{topics}.bm25tuned-trec_covid_doc2query-adafactor-bs-32-split-1000-bf16-early-stoping_18_queries-expand-non-empty.txt\")\n",
        "eval(f\"{main_dir}/runs/run.{topics}.bm25tuned-trec_covid_doc2query-adafactor-bs-32-split-1000-bf16-early-stoping-expand-non-empty.txt\")"
      ],
      "metadata": {
        "colab": {
          "base_uri": "https://localhost:8080/"
        },
        "id": "53RCPtRBSeiO",
        "outputId": "79a5207f-b4c7-4824-9089-dd134e92e28b"
      },
      "execution_count": null,
      "outputs": [
        {
          "output_type": "execute_result",
          "data": {
            "text/plain": [
              "0.6604301584685243"
            ]
          },
          "metadata": {},
          "execution_count": 49
        }
      ]
    },
    {
      "cell_type": "code",
      "source": [
        "!python -m pyserini.search.lucene \\\n",
        "  --index {main_dir}/{index_name}-expand-non-empty \\\n",
        "  --topics {main_dir}/{topics}/queries.tsv \\\n",
        "  --output {main_dir}/runs/run.{topics}.bm25tuned-{index_name}-expand-non-empty.txt \\\n",
        "  --hits 1000 \\\n",
        "  --bm25 --k1 1 --b 0.75"
      ],
      "metadata": {
        "colab": {
          "base_uri": "https://localhost:8080/"
        },
        "id": "Qr7oT_C0Sfvo",
        "outputId": "2c839927-cb94-48df-f128-7a069c0001d3"
      },
      "execution_count": null,
      "outputs": [
        {
          "output_type": "stream",
          "name": "stdout",
          "text": [
            "Setting BM25 parameters: k1=1.0, b=0.75\n",
            "Running /content/gdrive/MyDrive/Unicamp-aula-6-3/trec-covid/queries.tsv topics, saving to /content/gdrive/MyDrive/Unicamp-aula-6-3/runs/run.trec-covid.bm25tuned-trec_covid_doc2query-adafactor-bs-32-split-1000-bf16-early-stoping-expand-non-empty.txt...\n",
            "100% 50/50 [00:15<00:00,  3.27it/s]\n"
          ]
        }
      ]
    },
    {
      "cell_type": "code",
      "source": [
        "#eval(f\"{main_dir}/runs/run.{topics}.bm25tuned-trec_covid_doc2query-adafactor-bs-32-split-1000-bf16-early-stoping_18_queries-expand-non-empty.txt\")\n",
        "eval(f\"{main_dir}/runs/run.{topics}.bm25tuned-trec_covid_doc2query-adafactor-bs-32-split-1000-bf16-early-stoping-expand-non-empty.txt\")"
      ],
      "metadata": {
        "colab": {
          "base_uri": "https://localhost:8080/"
        },
        "id": "sYijus_ASxfy",
        "outputId": "1643d42b-6148-4326-bdad-7e14679316db"
      },
      "execution_count": null,
      "outputs": [
        {
          "output_type": "execute_result",
          "data": {
            "text/plain": [
              "0.6682028573917758"
            ]
          },
          "metadata": {},
          "execution_count": 51
        }
      ]
    },
    {
      "cell_type": "code",
      "source": [
        "!python -m pyserini.search.lucene \\\n",
        "  --index {main_dir}/{index_name}-expand-non-empty \\\n",
        "  --topics {main_dir}/{topics}/queries.tsv \\\n",
        "  --output {main_dir}/runs/run.{topics}.bm25tuned-{index_name}-expand-non-empty.txt \\\n",
        "  --hits 1000 \\\n",
        "  --bm25 --k1 1 --b 1"
      ],
      "metadata": {
        "colab": {
          "base_uri": "https://localhost:8080/"
        },
        "id": "43H77g4zS1D3",
        "outputId": "f9e8fec9-d284-4a95-97ba-e8650875ddef"
      },
      "execution_count": null,
      "outputs": [
        {
          "output_type": "stream",
          "name": "stdout",
          "text": [
            "Setting BM25 parameters: k1=1.0, b=1.0\n",
            "Running /content/gdrive/MyDrive/Unicamp-aula-6-3/trec-covid/queries.tsv topics, saving to /content/gdrive/MyDrive/Unicamp-aula-6-3/runs/run.trec-covid.bm25tuned-trec_covid_doc2query-adafactor-bs-32-split-1000-bf16-early-stoping-expand-non-empty.txt...\n",
            "100% 50/50 [00:12<00:00,  3.97it/s]\n"
          ]
        }
      ]
    },
    {
      "cell_type": "code",
      "source": [
        "#eval(f\"{main_dir}/runs/run.{topics}.bm25tuned-trec_covid_doc2query-adafactor-bs-32-split-1000-bf16-early-stoping_18_queries-expand-non-empty.txt\")\n",
        "eval(f\"{main_dir}/runs/run.{topics}.bm25tuned-trec_covid_doc2query-adafactor-bs-32-split-1000-bf16-early-stoping-expand-non-empty.txt\")"
      ],
      "metadata": {
        "colab": {
          "base_uri": "https://localhost:8080/"
        },
        "id": "GEzPELWYS_7_",
        "outputId": "c261c9e5-3abb-4b42-91b7-470fdaa1bfb7"
      },
      "execution_count": null,
      "outputs": [
        {
          "output_type": "execute_result",
          "data": {
            "text/plain": [
              "0.623947446377171"
            ]
          },
          "metadata": {},
          "execution_count": 53
        }
      ]
    },
    {
      "cell_type": "code",
      "source": [
        "!python -m pyserini.search.lucene \\\n",
        "  --index {main_dir}/{index_name}-expand-non-empty \\\n",
        "  --topics {main_dir}/{topics}/queries.tsv \\\n",
        "  --output {main_dir}/runs/run.{topics}.bm25tuned-{index_name}-expand-non-empty.txt \\\n",
        "  --hits 1000 \\\n",
        "  --bm25 --k1 1.2 --b 0.25"
      ],
      "metadata": {
        "colab": {
          "base_uri": "https://localhost:8080/"
        },
        "id": "ac-AUSN1TBfR",
        "outputId": "928621ec-28c7-442b-c179-8fffc64ac592"
      },
      "execution_count": null,
      "outputs": [
        {
          "output_type": "stream",
          "name": "stdout",
          "text": [
            "Setting BM25 parameters: k1=1.2, b=0.25\n",
            "Running /content/gdrive/MyDrive/Unicamp-aula-6-3/trec-covid/queries.tsv topics, saving to /content/gdrive/MyDrive/Unicamp-aula-6-3/runs/run.trec-covid.bm25tuned-trec_covid_doc2query-adafactor-bs-32-split-1000-bf16-early-stoping-expand-non-empty.txt...\n",
            "100% 50/50 [00:10<00:00,  4.72it/s]\n"
          ]
        }
      ]
    },
    {
      "cell_type": "code",
      "source": [
        "#eval(f\"{main_dir}/runs/run.{topics}.bm25tuned-trec_covid_doc2query-adafactor-bs-32-split-1000-bf16-early-stoping_18_queries-expand-non-empty.txt\")\n",
        "eval(f\"{main_dir}/runs/run.{topics}.bm25tuned-trec_covid_doc2query-adafactor-bs-32-split-1000-bf16-early-stoping-expand-non-empty.txt\")"
      ],
      "metadata": {
        "colab": {
          "base_uri": "https://localhost:8080/"
        },
        "id": "keA2tXgMTN4i",
        "outputId": "f2ca99b9-9ecb-42d0-95b0-e55d78d55bae"
      },
      "execution_count": null,
      "outputs": [
        {
          "output_type": "execute_result",
          "data": {
            "text/plain": [
              "0.6715429947061176"
            ]
          },
          "metadata": {},
          "execution_count": 55
        }
      ]
    },
    {
      "cell_type": "code",
      "source": [
        "!python -m pyserini.search.lucene \\\n",
        "  --index {main_dir}/{index_name}-expand-non-empty \\\n",
        "  --topics {main_dir}/{topics}/queries.tsv \\\n",
        "  --output {main_dir}/runs/run.{topics}.bm25tuned-{index_name}-expand-non-empty.txt \\\n",
        "  --hits 1000 \\\n",
        "  --bm25 --k1 1.2 --b 0.5"
      ],
      "metadata": {
        "colab": {
          "base_uri": "https://localhost:8080/"
        },
        "id": "ucj9NHluTPRT",
        "outputId": "f4acf6e8-5faa-4231-dee5-1b57c76f91fc"
      },
      "execution_count": null,
      "outputs": [
        {
          "output_type": "stream",
          "name": "stdout",
          "text": [
            "Setting BM25 parameters: k1=1.2, b=0.5\n",
            "Running /content/gdrive/MyDrive/Unicamp-aula-6-3/trec-covid/queries.tsv topics, saving to /content/gdrive/MyDrive/Unicamp-aula-6-3/runs/run.trec-covid.bm25tuned-trec_covid_doc2query-adafactor-bs-32-split-1000-bf16-early-stoping-expand-non-empty.txt...\n",
            "100% 50/50 [00:15<00:00,  3.19it/s]\n"
          ]
        }
      ]
    },
    {
      "cell_type": "code",
      "source": [
        "#eval(f\"{main_dir}/runs/run.{topics}.bm25tuned-trec_covid_doc2query-adafactor-bs-32-split-1000-bf16-early-stoping_18_queries-expand-non-empty.txt\")\n",
        "eval(f\"{main_dir}/runs/run.{topics}.bm25tuned-trec_covid_doc2query-adafactor-bs-32-split-1000-bf16-early-stoping-expand-non-empty.txt\")"
      ],
      "metadata": {
        "colab": {
          "base_uri": "https://localhost:8080/"
        },
        "id": "scH8kW32Trs0",
        "outputId": "07b5a15d-0870-4007-e25f-d512f95f91c6"
      },
      "execution_count": null,
      "outputs": [
        {
          "output_type": "execute_result",
          "data": {
            "text/plain": [
              "0.675344210851204"
            ]
          },
          "metadata": {},
          "execution_count": 57
        }
      ]
    },
    {
      "cell_type": "code",
      "source": [
        "!python -m pyserini.search.lucene \\\n",
        "  --index {main_dir}/{index_name}-expand-non-empty \\\n",
        "  --topics {main_dir}/{topics}/queries.tsv \\\n",
        "  --output {main_dir}/runs/run.{topics}.bm25tuned-{index_name}-expand-non-empty.txt \\\n",
        "  --hits 1000 \\\n",
        "  --bm25 --k1 1.2 --b 0.75"
      ],
      "metadata": {
        "colab": {
          "base_uri": "https://localhost:8080/"
        },
        "id": "MydCHqQbTtD_",
        "outputId": "663adcfe-ba33-43cd-a521-263b89f780f8"
      },
      "execution_count": null,
      "outputs": [
        {
          "output_type": "stream",
          "name": "stdout",
          "text": [
            "Setting BM25 parameters: k1=1.2, b=0.75\n",
            "Running /content/gdrive/MyDrive/Unicamp-aula-6-3/trec-covid/queries.tsv topics, saving to /content/gdrive/MyDrive/Unicamp-aula-6-3/runs/run.trec-covid.bm25tuned-trec_covid_doc2query-adafactor-bs-32-split-1000-bf16-early-stoping-expand-non-empty.txt...\n",
            "100% 50/50 [00:10<00:00,  4.91it/s]\n"
          ]
        }
      ]
    },
    {
      "cell_type": "code",
      "source": [
        "#eval(f\"{main_dir}/runs/run.{topics}.bm25tuned-trec_covid_doc2query-adafactor-bs-32-split-1000-bf16-early-stoping_18_queries-expand-non-empty.txt\")\n",
        "eval(f\"{main_dir}/runs/run.{topics}.bm25tuned-trec_covid_doc2query-adafactor-bs-32-split-1000-bf16-early-stoping-expand-non-empty.txt\")"
      ],
      "metadata": {
        "colab": {
          "base_uri": "https://localhost:8080/"
        },
        "id": "yyQtcS_YT3e-",
        "outputId": "9f42a11c-edab-4123-dc60-de176a23e969"
      },
      "execution_count": null,
      "outputs": [
        {
          "output_type": "execute_result",
          "data": {
            "text/plain": [
              "0.6635389843616403"
            ]
          },
          "metadata": {},
          "execution_count": 59
        }
      ]
    },
    {
      "cell_type": "code",
      "source": [
        "!python -m pyserini.search.lucene \\\n",
        "  --index {main_dir}/{index_name}-expand-non-empty \\\n",
        "  --topics {main_dir}/{topics}/queries.tsv \\\n",
        "  --output {main_dir}/runs/run.{topics}.bm25tuned-{index_name}-expand-non-empty.txt \\\n",
        "  --hits 1000 \\\n",
        "  --bm25 --k1 1.2 --b 1"
      ],
      "metadata": {
        "colab": {
          "base_uri": "https://localhost:8080/"
        },
        "id": "Fqv8CPh7T8Dn",
        "outputId": "bde841bd-eb74-4efa-91e2-a4084a99b5b1"
      },
      "execution_count": null,
      "outputs": [
        {
          "output_type": "stream",
          "name": "stdout",
          "text": [
            "Setting BM25 parameters: k1=1.2, b=1.0\n",
            "Running /content/gdrive/MyDrive/Unicamp-aula-6-3/trec-covid/queries.tsv topics, saving to /content/gdrive/MyDrive/Unicamp-aula-6-3/runs/run.trec-covid.bm25tuned-trec_covid_doc2query-adafactor-bs-32-split-1000-bf16-early-stoping-expand-non-empty.txt...\n",
            "100% 50/50 [00:11<00:00,  4.35it/s]\n"
          ]
        }
      ]
    },
    {
      "cell_type": "code",
      "source": [
        "#eval(f\"{main_dir}/runs/run.{topics}.bm25tuned-trec_covid_doc2query-adafactor-bs-32-split-1000-bf16-early-stoping_18_queries-expand-non-empty.txt\")\n",
        "eval(f\"{main_dir}/runs/run.{topics}.bm25tuned-trec_covid_doc2query-adafactor-bs-32-split-1000-bf16-early-stoping-expand-non-empty.txt\")"
      ],
      "metadata": {
        "colab": {
          "base_uri": "https://localhost:8080/"
        },
        "id": "gGKcWM4uUBFY",
        "outputId": "2d402d05-fa06-4cef-f648-b4a548a7e177"
      },
      "execution_count": null,
      "outputs": [
        {
          "output_type": "execute_result",
          "data": {
            "text/plain": [
              "0.6228957397249061"
            ]
          },
          "metadata": {},
          "execution_count": 130
        }
      ]
    },
    {
      "cell_type": "code",
      "source": [
        "!python -m pyserini.search.lucene \\\n",
        "  --index {main_dir}/{index_name}-expand-non-empty \\\n",
        "  --topics {main_dir}/{topics}/queries.tsv \\\n",
        "  --output {main_dir}/runs/run.{topics}.bm25tuned-{index_name}-expand-non-empty.txt \\\n",
        "  --hits 1000 \\\n",
        "  --bm25 --k1 1.5 --b 0.25"
      ],
      "metadata": {
        "colab": {
          "base_uri": "https://localhost:8080/"
        },
        "id": "SLOEEA0IUCZx",
        "outputId": "9d35878f-7e82-4b87-ab55-eefde2b9f28e"
      },
      "execution_count": null,
      "outputs": [
        {
          "output_type": "stream",
          "name": "stdout",
          "text": [
            "Setting BM25 parameters: k1=1.5, b=0.25\n",
            "Running /content/gdrive/MyDrive/Unicamp-aula-6-3/trec-covid/queries.tsv topics, saving to /content/gdrive/MyDrive/Unicamp-aula-6-3/runs/run.trec-covid.bm25tuned-trec_covid_doc2query-adafactor-bs-32-split-1000-bf16-early-stoping-expand-non-empty.txt...\n",
            "100% 50/50 [00:10<00:00,  4.61it/s]\n"
          ]
        }
      ]
    },
    {
      "cell_type": "code",
      "source": [
        "#eval(f\"{main_dir}/runs/run.{topics}.bm25tuned-trec_covid_doc2query-adafactor-bs-32-split-1000-bf16-early-stoping_18_queries-expand-non-empty.txt\")\n",
        "eval(f\"{main_dir}/runs/run.{topics}.bm25tuned-trec_covid_doc2query-adafactor-bs-32-split-1000-bf16-early-stoping-expand-non-empty.txt\")"
      ],
      "metadata": {
        "colab": {
          "base_uri": "https://localhost:8080/"
        },
        "id": "2v-iSoCmUNJs",
        "outputId": "886aca5c-1c04-4c35-efbc-271d9e3cd4ee"
      },
      "execution_count": null,
      "outputs": [
        {
          "output_type": "execute_result",
          "data": {
            "text/plain": [
              "0.6826970109791185"
            ]
          },
          "metadata": {},
          "execution_count": 63
        }
      ]
    },
    {
      "cell_type": "code",
      "source": [
        "!python -m pyserini.search.lucene \\\n",
        "  --index {main_dir}/{index_name}-expand-non-empty \\\n",
        "  --topics {main_dir}/{topics}/queries.tsv \\\n",
        "  --output {main_dir}/runs/run.{topics}.bm25tuned-{index_name}-expand-non-empty.txt \\\n",
        "  --hits 1000 \\\n",
        "  --bm25 --k1 1.5 --b 0.5"
      ],
      "metadata": {
        "colab": {
          "base_uri": "https://localhost:8080/"
        },
        "id": "RVjrO_7xUP4f",
        "outputId": "dff8e95d-86dc-422d-d3ff-1b048ed3c095"
      },
      "execution_count": null,
      "outputs": [
        {
          "output_type": "stream",
          "name": "stdout",
          "text": [
            "Setting BM25 parameters: k1=1.5, b=0.5\n",
            "Running /content/gdrive/MyDrive/Unicamp-aula-6-3/trec-covid/queries.tsv topics, saving to /content/gdrive/MyDrive/Unicamp-aula-6-3/runs/run.trec-covid.bm25tuned-trec_covid_doc2query-adafactor-bs-32-split-1000-bf16-early-stoping-expand-non-empty.txt...\n",
            "100% 50/50 [00:12<00:00,  4.10it/s]\n"
          ]
        }
      ]
    },
    {
      "cell_type": "code",
      "source": [
        "#eval(f\"{main_dir}/runs/run.{topics}.bm25tuned-trec_covid_doc2query-adafactor-bs-32-split-1000-bf16-early-stoping_18_queries-expand-non-empty.txt\")\n",
        "eval(f\"{main_dir}/runs/run.{topics}.bm25tuned-trec_covid_doc2query-adafactor-bs-32-split-1000-bf16-early-stoping-expand-non-empty.txt\")"
      ],
      "metadata": {
        "colab": {
          "base_uri": "https://localhost:8080/"
        },
        "id": "Sz8bi1kTUYP5",
        "outputId": "39350199-e84a-47ab-9753-29508e675c1d"
      },
      "execution_count": null,
      "outputs": [
        {
          "output_type": "execute_result",
          "data": {
            "text/plain": [
              "0.6766700068170876"
            ]
          },
          "metadata": {},
          "execution_count": 65
        }
      ]
    },
    {
      "cell_type": "code",
      "source": [
        "!python -m pyserini.search.lucene \\\n",
        "  --index {main_dir}/{index_name}-expand-non-empty \\\n",
        "  --topics {main_dir}/{topics}/queries.tsv \\\n",
        "  --output {main_dir}/runs/run.{topics}.bm25tuned-{index_name}-expand-non-empty.txt \\\n",
        "  --hits 1000 \\\n",
        "  --bm25 --k1 1.5 --b 0.75"
      ],
      "metadata": {
        "colab": {
          "base_uri": "https://localhost:8080/"
        },
        "id": "7ya7OKBtUZZS",
        "outputId": "2e555ca7-1e04-43ab-ffa4-0ca694cd977d"
      },
      "execution_count": null,
      "outputs": [
        {
          "output_type": "stream",
          "name": "stdout",
          "text": [
            "Setting BM25 parameters: k1=1.5, b=0.75\n",
            "Running /content/gdrive/MyDrive/Unicamp-aula-6-3/trec-covid/queries.tsv topics, saving to /content/gdrive/MyDrive/Unicamp-aula-6-3/runs/run.trec-covid.bm25tuned-trec_covid_doc2query-adafactor-bs-32-split-1000-bf16-early-stoping-expand-non-empty.txt...\n",
            "100% 50/50 [00:11<00:00,  4.54it/s]\n"
          ]
        }
      ]
    },
    {
      "cell_type": "code",
      "source": [
        "#eval(f\"{main_dir}/runs/run.{topics}.bm25tuned-trec_covid_doc2query-adafactor-bs-32-split-1000-bf16-early-stoping_18_queries-expand-non-empty.txt\")\n",
        "eval(f\"{main_dir}/runs/run.{topics}.bm25tuned-trec_covid_doc2query-adafactor-bs-32-split-1000-bf16-early-stoping-expand-non-empty.txt\")"
      ],
      "metadata": {
        "colab": {
          "base_uri": "https://localhost:8080/"
        },
        "id": "TIYAUi4AUkiB",
        "outputId": "8d9c1bcc-c441-4edc-93be-79698a2a32f2"
      },
      "execution_count": null,
      "outputs": [
        {
          "output_type": "execute_result",
          "data": {
            "text/plain": [
              "0.6684199108693945"
            ]
          },
          "metadata": {},
          "execution_count": 132
        }
      ]
    },
    {
      "cell_type": "code",
      "source": [
        "!python -m pyserini.search.lucene \\\n",
        "  --index {main_dir}/{index_name}-expand-non-empty \\\n",
        "  --topics {main_dir}/{topics}/queries.tsv \\\n",
        "  --output {main_dir}/runs/run.{topics}.bm25tuned-{index_name}-expand-non-empty.txt \\\n",
        "  --hits 1000 \\\n",
        "  --bm25 --k1 1.5 --b 1"
      ],
      "metadata": {
        "colab": {
          "base_uri": "https://localhost:8080/"
        },
        "id": "P4vErJtyUnKs",
        "outputId": "5ea30c71-c015-4eb1-f87d-301d7263ca50"
      },
      "execution_count": null,
      "outputs": [
        {
          "output_type": "stream",
          "name": "stdout",
          "text": [
            "Setting BM25 parameters: k1=1.5, b=1.0\n",
            "Running /content/gdrive/MyDrive/Unicamp-aula-6-3/trec-covid/queries.tsv topics, saving to /content/gdrive/MyDrive/Unicamp-aula-6-3/runs/run.trec-covid.bm25tuned-trec_covid_doc2query-adafactor-bs-32-split-1000-bf16-early-stoping-expand-non-empty.txt...\n",
            "100% 50/50 [00:13<00:00,  3.61it/s]\n"
          ]
        }
      ]
    },
    {
      "cell_type": "code",
      "source": [
        "#eval(f\"{main_dir}/runs/run.{topics}.bm25tuned-trec_covid_doc2query-adafactor-bs-32-split-1000-bf16-early-stoping_18_queries-expand-non-empty.txt\")\n",
        "eval(f\"{main_dir}/runs/run.{topics}.bm25tuned-trec_covid_doc2query-adafactor-bs-32-split-1000-bf16-early-stoping-expand-non-empty.txt\")"
      ],
      "metadata": {
        "colab": {
          "base_uri": "https://localhost:8080/"
        },
        "id": "ndfvY2oVUrfz",
        "outputId": "8c85971b-f5a5-4cf3-8dba-2ebd50d6471d"
      },
      "execution_count": null,
      "outputs": [
        {
          "output_type": "execute_result",
          "data": {
            "text/plain": [
              "0.6161271263446961"
            ]
          },
          "metadata": {},
          "execution_count": 69
        }
      ]
    },
    {
      "cell_type": "code",
      "source": [
        "!python -m pyserini.search.lucene \\\n",
        "  --index {main_dir}/{index_name}-expand-non-empty \\\n",
        "  --topics {main_dir}/{topics}/queries.tsv \\\n",
        "  --output {main_dir}/runs/run.{topics}.bm25tuned-{index_name}-expand-non-empty.txt \\\n",
        "  --hits 1000 \\\n",
        "  --bm25 --k1 2 --b 0.25"
      ],
      "metadata": {
        "colab": {
          "base_uri": "https://localhost:8080/"
        },
        "id": "-hXnni2LUs_3",
        "outputId": "64c3ca30-8f50-45c7-8c50-2fc85cc964cb"
      },
      "execution_count": null,
      "outputs": [
        {
          "output_type": "stream",
          "name": "stdout",
          "text": [
            "Setting BM25 parameters: k1=2.0, b=0.25\n",
            "Running /content/gdrive/MyDrive/Unicamp-aula-6-3/trec-covid/queries.tsv topics, saving to /content/gdrive/MyDrive/Unicamp-aula-6-3/runs/run.trec-covid.bm25tuned-trec_covid_doc2query-adafactor-bs-32-split-1000-bf16-early-stoping-expand-non-empty.txt...\n",
            "100% 50/50 [00:13<00:00,  3.79it/s]\n"
          ]
        }
      ]
    },
    {
      "cell_type": "code",
      "source": [
        "#eval(f\"{main_dir}/runs/run.{topics}.bm25tuned-trec_covid_doc2query-adafactor-bs-32-split-1000-bf16-early-stoping_18_queries-expand-non-empty.txt\")\n",
        "eval(f\"{main_dir}/runs/run.{topics}.bm25tuned-trec_covid_doc2query-adafactor-bs-32-split-1000-bf16-early-stoping-expand-non-empty.txt\")"
      ],
      "metadata": {
        "colab": {
          "base_uri": "https://localhost:8080/"
        },
        "id": "oKHhPDDVVYBM",
        "outputId": "963f4068-5944-4363-93eb-0999511cf22c"
      },
      "execution_count": null,
      "outputs": [
        {
          "output_type": "execute_result",
          "data": {
            "text/plain": [
              "0.6919870918421648"
            ]
          },
          "metadata": {},
          "execution_count": 71
        }
      ]
    },
    {
      "cell_type": "code",
      "source": [
        "!python -m pyserini.search.lucene \\\n",
        "  --index {main_dir}/{index_name}-expand-non-empty \\\n",
        "  --topics {main_dir}/{topics}/queries.tsv \\\n",
        "  --output {main_dir}/runs/run.{topics}.bm25tuned-{index_name}-expand-non-empty.txt \\\n",
        "  --hits 1000 \\\n",
        "  --bm25 --k1 2 --b 0.5"
      ],
      "metadata": {
        "colab": {
          "base_uri": "https://localhost:8080/"
        },
        "id": "0pmOljOMVZOb",
        "outputId": "fc301c5f-0653-416e-c8a5-f9dcad2692bd"
      },
      "execution_count": null,
      "outputs": [
        {
          "output_type": "stream",
          "name": "stdout",
          "text": [
            "Setting BM25 parameters: k1=2.0, b=0.5\n",
            "Running /content/gdrive/MyDrive/Unicamp-aula-6-3/trec-covid/queries.tsv topics, saving to /content/gdrive/MyDrive/Unicamp-aula-6-3/runs/run.trec-covid.bm25tuned-trec_covid_doc2query-adafactor-bs-32-split-1000-bf16-early-stoping-expand-non-empty.txt...\n",
            "100% 50/50 [00:11<00:00,  4.49it/s]\n"
          ]
        }
      ]
    },
    {
      "cell_type": "code",
      "source": [
        "#eval(f\"{main_dir}/runs/run.{topics}.bm25tuned-trec_covid_doc2query-adafactor-bs-32-split-1000-bf16-early-stoping_18_queries-expand-non-empty.txt\")\n",
        "eval(f\"{main_dir}/runs/run.{topics}.bm25tuned-trec_covid_doc2query-adafactor-bs-32-split-1000-bf16-early-stoping-expand-non-empty.txt\")"
      ],
      "metadata": {
        "colab": {
          "base_uri": "https://localhost:8080/"
        },
        "id": "7cQnFnNkV2Tw",
        "outputId": "f04d0503-4332-4141-f96e-0f653d8daab2"
      },
      "execution_count": null,
      "outputs": [
        {
          "output_type": "execute_result",
          "data": {
            "text/plain": [
              "0.6811640691738177"
            ]
          },
          "metadata": {},
          "execution_count": 73
        }
      ]
    },
    {
      "cell_type": "code",
      "source": [
        "!python -m pyserini.search.lucene \\\n",
        "  --index {main_dir}/{index_name}-expand-non-empty \\\n",
        "  --topics {main_dir}/{topics}/queries.tsv \\\n",
        "  --output {main_dir}/runs/run.{topics}.bm25tuned-{index_name}-expand-non-empty.txt \\\n",
        "  --hits 1000 \\\n",
        "  --bm25 --k1 2 --b 0.75"
      ],
      "metadata": {
        "colab": {
          "base_uri": "https://localhost:8080/"
        },
        "id": "ru2QcmdeV6EM",
        "outputId": "1879f1a0-694f-4f0d-d6cb-f1a625a60390"
      },
      "execution_count": null,
      "outputs": [
        {
          "output_type": "stream",
          "name": "stdout",
          "text": [
            "Setting BM25 parameters: k1=2.0, b=0.75\n",
            "Running /content/gdrive/MyDrive/Unicamp-aula-6-3/trec-covid/queries.tsv topics, saving to /content/gdrive/MyDrive/Unicamp-aula-6-3/runs/run.trec-covid.bm25tuned-trec_covid_doc2query-adafactor-bs-32-split-1000-bf16-early-stoping-expand-non-empty.txt...\n",
            "100% 50/50 [00:08<00:00,  5.64it/s]\n"
          ]
        }
      ]
    },
    {
      "cell_type": "code",
      "source": [
        "#eval(f\"{main_dir}/runs/run.{topics}.bm25tuned-trec_covid_doc2query-adafactor-bs-32-split-1000-bf16-early-stoping_18_queries-expand-non-empty.txt\")\n",
        "eval(f\"{main_dir}/runs/run.{topics}.bm25tuned-trec_covid_doc2query-adafactor-bs-32-split-1000-bf16-early-stoping-expand-non-empty.txt\")"
      ],
      "metadata": {
        "colab": {
          "base_uri": "https://localhost:8080/"
        },
        "id": "JJFVIX5zWD56",
        "outputId": "836ba0c8-f2be-4837-e7d1-01adea0f6c75"
      },
      "execution_count": null,
      "outputs": [
        {
          "output_type": "execute_result",
          "data": {
            "text/plain": [
              "0.6719667725621191"
            ]
          },
          "metadata": {},
          "execution_count": 75
        }
      ]
    },
    {
      "cell_type": "code",
      "source": [
        "!python -m pyserini.search.lucene \\\n",
        "  --index {main_dir}/{index_name}-expand-non-empty \\\n",
        "  --topics {main_dir}/{topics}/queries.tsv \\\n",
        "  --output {main_dir}/runs/run.{topics}.bm25tuned-{index_name}-expand-non-empty.txt \\\n",
        "  --hits 1000 \\\n",
        "  --bm25 --k1 2 --b 1"
      ],
      "metadata": {
        "colab": {
          "base_uri": "https://localhost:8080/"
        },
        "id": "T_J_FO38WFeg",
        "outputId": "93fb8773-efe0-48d4-9333-8c6e3d858f74"
      },
      "execution_count": null,
      "outputs": [
        {
          "output_type": "stream",
          "name": "stdout",
          "text": [
            "Setting BM25 parameters: k1=2.0, b=1.0\n",
            "Running /content/gdrive/MyDrive/Unicamp-aula-6-3/trec-covid/queries.tsv topics, saving to /content/gdrive/MyDrive/Unicamp-aula-6-3/runs/run.trec-covid.bm25tuned-trec_covid_doc2query-adafactor-bs-32-split-1000-bf16-early-stoping-expand-non-empty.txt...\n",
            "100% 50/50 [00:08<00:00,  5.82it/s]\n"
          ]
        }
      ]
    },
    {
      "cell_type": "code",
      "source": [
        "#eval(f\"{main_dir}/runs/run.{topics}.bm25tuned-trec_covid_doc2query-adafactor-bs-32-split-1000-bf16-early-stoping_18_queries-expand-non-empty.txt\")\n",
        "eval(f\"{main_dir}/runs/run.{topics}.bm25tuned-trec_covid_doc2query-adafactor-bs-32-split-1000-bf16-early-stoping-expand-non-empty.txt\")"
      ],
      "metadata": {
        "colab": {
          "base_uri": "https://localhost:8080/"
        },
        "id": "dpiBo76NWO7n",
        "outputId": "51f5434f-0472-433e-852b-8607a465f97a"
      },
      "execution_count": null,
      "outputs": [
        {
          "output_type": "execute_result",
          "data": {
            "text/plain": [
              "0.6002627716455143"
            ]
          },
          "metadata": {},
          "execution_count": 77
        }
      ]
    },
    {
      "cell_type": "code",
      "source": [
        "!python -m pyserini.search.lucene \\\n",
        "  --index {main_dir}/{index_name}-expand-non-empty \\\n",
        "  --topics {main_dir}/{topics}/queries.tsv \\\n",
        "  --output {main_dir}/runs/run.{topics}.bm25tuned-{index_name}-expand-non-empty.txt \\\n",
        "  --hits 1000 \\\n",
        "  --bm25 --k1 2.5 --b 0.25"
      ],
      "metadata": {
        "colab": {
          "base_uri": "https://localhost:8080/"
        },
        "id": "hD3lFzwEWQru",
        "outputId": "4ea4fd04-923d-4e34-da3a-110e36b336d1"
      },
      "execution_count": null,
      "outputs": [
        {
          "output_type": "stream",
          "name": "stdout",
          "text": [
            "Setting BM25 parameters: k1=2.5, b=0.25\n",
            "Running /content/gdrive/MyDrive/Unicamp-aula-6-3/trec-covid/queries.tsv topics, saving to /content/gdrive/MyDrive/Unicamp-aula-6-3/runs/run.trec-covid.bm25tuned-trec_covid_doc2query-adafactor-bs-32-split-1000-bf16-early-stoping-expand-non-empty.txt...\n",
            "100% 50/50 [00:11<00:00,  4.52it/s]\n"
          ]
        }
      ]
    },
    {
      "cell_type": "code",
      "source": [
        "#eval(f\"{main_dir}/runs/run.{topics}.bm25tuned-trec_covid_doc2query-adafactor-bs-32-split-1000-bf16-early-stoping_18_queries-expand-non-empty.txt\")\n",
        "eval(f\"{main_dir}/runs/run.{topics}.bm25tuned-trec_covid_doc2query-adafactor-bs-32-split-1000-bf16-early-stoping-expand-non-empty.txt\")"
      ],
      "metadata": {
        "colab": {
          "base_uri": "https://localhost:8080/"
        },
        "id": "j-r5AD3HWdzZ",
        "outputId": "168e0572-5b60-44b3-928e-3c6a979e5583"
      },
      "execution_count": null,
      "outputs": [
        {
          "output_type": "execute_result",
          "data": {
            "text/plain": [
              "0.6853357466910411"
            ]
          },
          "metadata": {},
          "execution_count": 79
        }
      ]
    },
    {
      "cell_type": "code",
      "source": [
        "!python -m pyserini.search.lucene \\\n",
        "  --index {main_dir}/{index_name}-expand-non-empty \\\n",
        "  --topics {main_dir}/{topics}/queries.tsv \\\n",
        "  --output {main_dir}/runs/run.{topics}.bm25tuned-{index_name}-expand-non-empty.txt \\\n",
        "  --hits 1000 \\\n",
        "  --bm25 --k1 2.5 --b 0.5"
      ],
      "metadata": {
        "colab": {
          "base_uri": "https://localhost:8080/"
        },
        "id": "0O6Rf8NVWiRt",
        "outputId": "6ad25443-5a52-4e2c-b396-b7303475a465"
      },
      "execution_count": null,
      "outputs": [
        {
          "output_type": "stream",
          "name": "stdout",
          "text": [
            "Setting BM25 parameters: k1=2.5, b=0.5\n",
            "Running /content/gdrive/MyDrive/Unicamp-aula-6-3/trec-covid/queries.tsv topics, saving to /content/gdrive/MyDrive/Unicamp-aula-6-3/runs/run.trec-covid.bm25tuned-trec_covid_doc2query-adafactor-bs-32-split-1000-bf16-early-stoping-expand-non-empty.txt...\n",
            "100% 50/50 [00:13<00:00,  3.59it/s]\n"
          ]
        }
      ]
    },
    {
      "cell_type": "code",
      "source": [
        "#eval(f\"{main_dir}/runs/run.{topics}.bm25tuned-trec_covid_doc2query-adafactor-bs-32-split-1000-bf16-early-stoping_18_queries-expand-non-empty.txt\")\n",
        "eval(f\"{main_dir}/runs/run.{topics}.bm25tuned-trec_covid_doc2query-adafactor-bs-32-split-1000-bf16-early-stoping-expand-non-empty.txt\")"
      ],
      "metadata": {
        "colab": {
          "base_uri": "https://localhost:8080/"
        },
        "id": "yBiekXjeWu1l",
        "outputId": "f5d57d01-c5e7-457f-973f-f7f34a76cf1a"
      },
      "execution_count": null,
      "outputs": [
        {
          "output_type": "execute_result",
          "data": {
            "text/plain": [
              "0.6827955569276699"
            ]
          },
          "metadata": {},
          "execution_count": 81
        }
      ]
    },
    {
      "cell_type": "code",
      "source": [
        "!python -m pyserini.search.lucene \\\n",
        "  --index {main_dir}/{index_name}-expand-non-empty \\\n",
        "  --topics {main_dir}/{topics}/queries.tsv \\\n",
        "  --output {main_dir}/runs/run.{topics}.bm25tuned-{index_name}-expand-non-empty.txt \\\n",
        "  --hits 1000 \\\n",
        "  --bm25 --k1 2.5 --b 0.75"
      ],
      "metadata": {
        "colab": {
          "base_uri": "https://localhost:8080/"
        },
        "id": "VPNwHC8JWwXE",
        "outputId": "67df3352-80d0-40a9-bd5b-64c94ec07277"
      },
      "execution_count": null,
      "outputs": [
        {
          "output_type": "stream",
          "name": "stdout",
          "text": [
            "Setting BM25 parameters: k1=2.5, b=0.75\n",
            "Running /content/gdrive/MyDrive/Unicamp-aula-6-3/trec-covid/queries.tsv topics, saving to /content/gdrive/MyDrive/Unicamp-aula-6-3/runs/run.trec-covid.bm25tuned-trec_covid_doc2query-adafactor-bs-32-split-1000-bf16-early-stoping-expand-non-empty.txt...\n",
            "100% 50/50 [00:15<00:00,  3.17it/s]\n"
          ]
        }
      ]
    },
    {
      "cell_type": "code",
      "source": [
        "#eval(f\"{main_dir}/runs/run.{topics}.bm25tuned-trec_covid_doc2query-adafactor-bs-32-split-1000-bf16-early-stoping_18_queries-expand-non-empty.txt\")\n",
        "eval(f\"{main_dir}/runs/run.{topics}.bm25tuned-trec_covid_doc2query-adafactor-bs-32-split-1000-bf16-early-stoping-expand-non-empty.txt\")"
      ],
      "metadata": {
        "colab": {
          "base_uri": "https://localhost:8080/"
        },
        "id": "JoVaVnheXlK7",
        "outputId": "9f02f057-191a-4d47-cb09-2393d2ab31b5"
      },
      "execution_count": null,
      "outputs": [
        {
          "output_type": "execute_result",
          "data": {
            "text/plain": [
              "0.6711342299872449"
            ]
          },
          "metadata": {},
          "execution_count": 83
        }
      ]
    },
    {
      "cell_type": "code",
      "source": [
        "!python -m pyserini.search.lucene \\\n",
        "  --index {main_dir}/{index_name}-expand-non-empty \\\n",
        "  --topics {main_dir}/{topics}/queries.tsv \\\n",
        "  --output {main_dir}/runs/run.{topics}.bm25tuned-{index_name}-expand-non-empty.txt \\\n",
        "  --hits 1000 \\\n",
        "  --bm25 --k1 2.5 --b 1"
      ],
      "metadata": {
        "colab": {
          "base_uri": "https://localhost:8080/"
        },
        "id": "zdQBDzK1XoN4",
        "outputId": "d4268f97-cbab-43fe-9ba6-7a7f426d9ce7"
      },
      "execution_count": null,
      "outputs": [
        {
          "output_type": "stream",
          "name": "stdout",
          "text": [
            "Setting BM25 parameters: k1=2.5, b=1.0\n",
            "Running /content/gdrive/MyDrive/Unicamp-aula-6-3/trec-covid/queries.tsv topics, saving to /content/gdrive/MyDrive/Unicamp-aula-6-3/runs/run.trec-covid.bm25tuned-trec_covid_doc2query-adafactor-bs-32-split-1000-bf16-early-stoping-expand-non-empty.txt...\n",
            "100% 50/50 [00:09<00:00,  5.10it/s]\n"
          ]
        }
      ]
    },
    {
      "cell_type": "code",
      "source": [
        "#eval(f\"{main_dir}/runs/run.{topics}.bm25tuned-trec_covid_doc2query-adafactor-bs-32-split-1000-bf16-early-stoping_18_queries-expand-non-empty.txt\")\n",
        "eval(f\"{main_dir}/runs/run.{topics}.bm25tuned-trec_covid_doc2query-adafactor-bs-32-split-1000-bf16-early-stoping-expand-non-empty.txt\")"
      ],
      "metadata": {
        "colab": {
          "base_uri": "https://localhost:8080/"
        },
        "id": "pTpFOgzNXtMm",
        "outputId": "9761a35f-b1bf-4b24-f6a0-663841d432a5"
      },
      "execution_count": null,
      "outputs": [
        {
          "output_type": "execute_result",
          "data": {
            "text/plain": [
              "0.5767086647535795"
            ]
          },
          "metadata": {},
          "execution_count": 134
        }
      ]
    },
    {
      "cell_type": "code",
      "source": [
        "!python -m pyserini.search.lucene \\\n",
        "  --index {main_dir}/{index_name}-expand-non-empty \\\n",
        "  --topics {main_dir}/{topics}/queries.tsv \\\n",
        "  --output {main_dir}/runs/run.{topics}.bm25tuned-{index_name}-expand-non-empty.txt \\\n",
        "  --hits 1000 \\\n",
        "  --bm25 --k1 3 --b 0.25"
      ],
      "metadata": {
        "colab": {
          "base_uri": "https://localhost:8080/"
        },
        "id": "_ZrwRINkXuhB",
        "outputId": "ff3fc874-85af-449d-b0cc-f29e9af03711"
      },
      "execution_count": null,
      "outputs": [
        {
          "output_type": "stream",
          "name": "stdout",
          "text": [
            "Setting BM25 parameters: k1=3.0, b=0.25\n",
            "Running /content/gdrive/MyDrive/Unicamp-aula-6-3/trec-covid/queries.tsv topics, saving to /content/gdrive/MyDrive/Unicamp-aula-6-3/runs/run.trec-covid.bm25tuned-trec_covid_doc2query-adafactor-bs-32-split-1000-bf16-early-stoping-expand-non-empty.txt...\n",
            "100% 50/50 [00:12<00:00,  4.16it/s]\n"
          ]
        }
      ]
    },
    {
      "cell_type": "code",
      "source": [
        "#eval(f\"{main_dir}/runs/run.{topics}.bm25tuned-trec_covid_doc2query-adafactor-bs-32-split-1000-bf16-early-stoping_18_queries-expand-non-empty.txt\")\n",
        "eval(f\"{main_dir}/runs/run.{topics}.bm25tuned-trec_covid_doc2query-adafactor-bs-32-split-1000-bf16-early-stoping-expand-non-empty.txt\")"
      ],
      "metadata": {
        "colab": {
          "base_uri": "https://localhost:8080/"
        },
        "id": "-PDCvao9X93Y",
        "outputId": "5653a3de-eb0c-4af3-84cf-88db913ffb7a"
      },
      "execution_count": null,
      "outputs": [
        {
          "output_type": "execute_result",
          "data": {
            "text/plain": [
              "0.6881795090313019"
            ]
          },
          "metadata": {},
          "execution_count": 87
        }
      ]
    },
    {
      "cell_type": "code",
      "source": [
        "!python -m pyserini.search.lucene \\\n",
        "  --index {main_dir}/{index_name}-expand-non-empty \\\n",
        "  --topics {main_dir}/{topics}/queries.tsv \\\n",
        "  --output {main_dir}/runs/run.{topics}.bm25tuned-{index_name}-expand-non-empty.txt \\\n",
        "  --hits 1000 \\\n",
        "  --bm25 --k1 3 --b 0.5"
      ],
      "metadata": {
        "colab": {
          "base_uri": "https://localhost:8080/"
        },
        "id": "pE5bAf6QX_Lx",
        "outputId": "74461b01-8af4-4447-db89-159a11954b50"
      },
      "execution_count": null,
      "outputs": [
        {
          "output_type": "stream",
          "name": "stdout",
          "text": [
            "Setting BM25 parameters: k1=3.0, b=0.5\n",
            "Running /content/gdrive/MyDrive/Unicamp-aula-6-3/trec-covid/queries.tsv topics, saving to /content/gdrive/MyDrive/Unicamp-aula-6-3/runs/run.trec-covid.bm25tuned-trec_covid_doc2query-adafactor-bs-32-split-1000-bf16-early-stoping-expand-non-empty.txt...\n",
            "100% 50/50 [00:10<00:00,  4.75it/s]\n"
          ]
        }
      ]
    },
    {
      "cell_type": "code",
      "source": [
        "#eval(f\"{main_dir}/runs/run.{topics}.bm25tuned-trec_covid_doc2query-adafactor-bs-32-split-1000-bf16-early-stoping_18_queries-expand-non-empty.txt\")\n",
        "eval(f\"{main_dir}/runs/run.{topics}.bm25tuned-trec_covid_doc2query-adafactor-bs-32-split-1000-bf16-early-stoping-expand-non-empty.txt\")"
      ],
      "metadata": {
        "colab": {
          "base_uri": "https://localhost:8080/"
        },
        "id": "wIfHBd0gYJMk",
        "outputId": "d82a46ec-66c2-4417-82c6-8003fffa0ab1"
      },
      "execution_count": null,
      "outputs": [
        {
          "output_type": "execute_result",
          "data": {
            "text/plain": [
              "0.6827531443250856"
            ]
          },
          "metadata": {},
          "execution_count": 89
        }
      ]
    },
    {
      "cell_type": "code",
      "source": [
        "!python -m pyserini.search.lucene \\\n",
        "  --index {main_dir}/{index_name}-expand-non-empty \\\n",
        "  --topics {main_dir}/{topics}/queries.tsv \\\n",
        "  --output {main_dir}/runs/run.{topics}.bm25tuned-{index_name}-expand-non-empty.txt \\\n",
        "  --hits 1000 \\\n",
        "  --bm25 --k1 3 --b 0.75"
      ],
      "metadata": {
        "colab": {
          "base_uri": "https://localhost:8080/"
        },
        "id": "DxWVs9i-YNO7",
        "outputId": "d259c690-dcbf-4a1a-825c-0ec222860556"
      },
      "execution_count": null,
      "outputs": [
        {
          "output_type": "stream",
          "name": "stdout",
          "text": [
            "Setting BM25 parameters: k1=3.0, b=0.75\n",
            "Running /content/gdrive/MyDrive/Unicamp-aula-6-3/trec-covid/queries.tsv topics, saving to /content/gdrive/MyDrive/Unicamp-aula-6-3/runs/run.trec-covid.bm25tuned-trec_covid_doc2query-adafactor-bs-32-split-1000-bf16-early-stoping-expand-non-empty.txt...\n",
            "100% 50/50 [00:11<00:00,  4.24it/s]\n"
          ]
        }
      ]
    },
    {
      "cell_type": "code",
      "source": [
        "#eval(f\"{main_dir}/runs/run.{topics}.bm25tuned-trec_covid_doc2query-adafactor-bs-32-split-1000-bf16-early-stoping_18_queries-expand-non-empty.txt\")\n",
        "eval(f\"{main_dir}/runs/run.{topics}.bm25tuned-trec_covid_doc2query-adafactor-bs-32-split-1000-bf16-early-stoping-expand-non-empty.txt\")"
      ],
      "metadata": {
        "colab": {
          "base_uri": "https://localhost:8080/"
        },
        "id": "EQqQuyZ_YR22",
        "outputId": "5479961b-f928-4d3b-8123-2f10b5f370c8"
      },
      "execution_count": null,
      "outputs": [
        {
          "output_type": "execute_result",
          "data": {
            "text/plain": [
              "0.6669107299931841"
            ]
          },
          "metadata": {},
          "execution_count": 91
        }
      ]
    },
    {
      "cell_type": "code",
      "source": [
        "!python -m pyserini.search.lucene \\\n",
        "  --index {main_dir}/{index_name}-expand-non-empty \\\n",
        "  --topics {main_dir}/{topics}/queries.tsv \\\n",
        "  --output {main_dir}/runs/run.{topics}.bm25tuned-{index_name}-expand-non-empty.txt \\\n",
        "  --hits 1000 \\\n",
        "  --bm25 --k1 3 --b 1"
      ],
      "metadata": {
        "colab": {
          "base_uri": "https://localhost:8080/"
        },
        "id": "SqCV_aRYYTIW",
        "outputId": "c0603f3b-0b91-43fa-9f21-06b3ccbeedfc"
      },
      "execution_count": null,
      "outputs": [
        {
          "output_type": "stream",
          "name": "stdout",
          "text": [
            "Setting BM25 parameters: k1=3.0, b=1.0\n",
            "Running /content/gdrive/MyDrive/Unicamp-aula-6-3/trec-covid/queries.tsv topics, saving to /content/gdrive/MyDrive/Unicamp-aula-6-3/runs/run.trec-covid.bm25tuned-trec_covid_doc2query-adafactor-bs-32-split-1000-bf16-early-stoping-expand-non-empty.txt...\n",
            "100% 50/50 [00:11<00:00,  4.19it/s]\n"
          ]
        }
      ]
    },
    {
      "cell_type": "code",
      "source": [
        "#eval(f\"{main_dir}/runs/run.{topics}.bm25tuned-trec_covid_doc2query-adafactor-bs-32-split-1000-bf16-early-stoping_18_queries-expand-non-empty.txt\")\n",
        "eval(f\"{main_dir}/runs/run.{topics}.bm25tuned-trec_covid_doc2query-adafactor-bs-32-split-1000-bf16-early-stoping-expand-non-empty.txt\")"
      ],
      "metadata": {
        "colab": {
          "base_uri": "https://localhost:8080/"
        },
        "id": "_y3ioQGaYZZM",
        "outputId": "8b173fd6-d987-4cf0-dd6f-fe6a2e81af58"
      },
      "execution_count": null,
      "outputs": [
        {
          "output_type": "execute_result",
          "data": {
            "text/plain": [
              "0.5583313540583201"
            ]
          },
          "metadata": {},
          "execution_count": 93
        }
      ]
    },
    {
      "cell_type": "code",
      "source": [
        "!python -m pyserini.search.lucene \\\n",
        "  --index {main_dir}/{index_name}-expand-non-empty \\\n",
        "  --topics {main_dir}/{topics}/queries.tsv \\\n",
        "  --output {main_dir}/runs/run.{topics}.bm25tuned-{index_name}-expand-non-empty.txt \\\n",
        "  --hits 1000 \\\n",
        "  --bm25 --k1 4 --b 0.25"
      ],
      "metadata": {
        "colab": {
          "base_uri": "https://localhost:8080/"
        },
        "id": "FSHmIakjYbxd",
        "outputId": "86115f0b-5eac-4f53-b619-4a56b64f0a59"
      },
      "execution_count": null,
      "outputs": [
        {
          "output_type": "stream",
          "name": "stdout",
          "text": [
            "Setting BM25 parameters: k1=4.0, b=0.25\n",
            "Running /content/gdrive/MyDrive/Unicamp-aula-6-3/trec-covid/queries.tsv topics, saving to /content/gdrive/MyDrive/Unicamp-aula-6-3/runs/run.trec-covid.bm25tuned-trec_covid_doc2query-adafactor-bs-32-split-1000-bf16-early-stoping-expand-non-empty.txt...\n",
            "100% 50/50 [00:14<00:00,  3.44it/s]\n"
          ]
        }
      ]
    },
    {
      "cell_type": "code",
      "source": [
        "#eval(f\"{main_dir}/runs/run.{topics}.bm25tuned-trec_covid_doc2query-adafactor-bs-32-split-1000-bf16-early-stoping_18_queries-expand-non-empty.txt\")\n",
        "eval(f\"{main_dir}/runs/run.{topics}.bm25tuned-trec_covid_doc2query-adafactor-bs-32-split-1000-bf16-early-stoping-expand-non-empty.txt\")"
      ],
      "metadata": {
        "colab": {
          "base_uri": "https://localhost:8080/"
        },
        "id": "olgBNoz2Yix8",
        "outputId": "fc0ae4f6-5bea-43ca-e72a-56d4618eb0e6"
      },
      "execution_count": null,
      "outputs": [
        {
          "output_type": "execute_result",
          "data": {
            "text/plain": [
              "0.6940007375216084"
            ]
          },
          "metadata": {},
          "execution_count": 136
        }
      ]
    },
    {
      "cell_type": "code",
      "source": [
        "!python -m pyserini.search.lucene \\\n",
        "  --index {main_dir}/{index_name}-expand-non-empty \\\n",
        "  --topics {main_dir}/{topics}/queries.tsv \\\n",
        "  --output {main_dir}/runs/run.{topics}.bm25tuned-{index_name}-expand-non-empty.txt \\\n",
        "  --hits 1000 \\\n",
        "  --bm25 --k1 4 --b 0.5"
      ],
      "metadata": {
        "colab": {
          "base_uri": "https://localhost:8080/"
        },
        "id": "RN--ENEsYkJk",
        "outputId": "cfd7b958-2ece-424e-b2ce-3462d874f69a"
      },
      "execution_count": null,
      "outputs": [
        {
          "output_type": "stream",
          "name": "stdout",
          "text": [
            "Setting BM25 parameters: k1=4.0, b=0.5\n",
            "Running /content/gdrive/MyDrive/Unicamp-aula-6-3/trec-covid/queries.tsv topics, saving to /content/gdrive/MyDrive/Unicamp-aula-6-3/runs/run.trec-covid.bm25tuned-trec_covid_doc2query-adafactor-bs-32-split-1000-bf16-early-stoping-expand-non-empty.txt...\n",
            "100% 50/50 [00:15<00:00,  3.21it/s]\n"
          ]
        }
      ]
    },
    {
      "cell_type": "code",
      "source": [
        "#eval(f\"{main_dir}/runs/run.{topics}.bm25tuned-trec_covid_doc2query-adafactor-bs-32-split-1000-bf16-early-stoping_18_queries-expand-non-empty.txt\")\n",
        "eval(f\"{main_dir}/runs/run.{topics}.bm25tuned-trec_covid_doc2query-adafactor-bs-32-split-1000-bf16-early-stoping-expand-non-empty.txt\")"
      ],
      "metadata": {
        "colab": {
          "base_uri": "https://localhost:8080/"
        },
        "id": "-EklkoaOYosh",
        "outputId": "41855ec8-6812-4224-defb-bfb2760f4d69"
      },
      "execution_count": null,
      "outputs": [
        {
          "output_type": "execute_result",
          "data": {
            "text/plain": [
              "0.6767039167465603"
            ]
          },
          "metadata": {},
          "execution_count": 97
        }
      ]
    },
    {
      "cell_type": "code",
      "source": [
        "!python -m pyserini.search.lucene \\\n",
        "  --index {main_dir}/{index_name}-expand-non-empty \\\n",
        "  --topics {main_dir}/{topics}/queries.tsv \\\n",
        "  --output {main_dir}/runs/run.{topics}.bm25tuned-{index_name}-expand-non-empty.txt \\\n",
        "  --hits 1000 \\\n",
        "  --bm25 --k1 4 --b 0.75"
      ],
      "metadata": {
        "colab": {
          "base_uri": "https://localhost:8080/"
        },
        "id": "RO-gVeqkYp66",
        "outputId": "0e6c1324-973a-4924-b951-27173d399d13"
      },
      "execution_count": null,
      "outputs": [
        {
          "output_type": "stream",
          "name": "stdout",
          "text": [
            "Setting BM25 parameters: k1=4.0, b=0.75\n",
            "Running /content/gdrive/MyDrive/Unicamp-aula-6-3/trec-covid/queries.tsv topics, saving to /content/gdrive/MyDrive/Unicamp-aula-6-3/runs/run.trec-covid.bm25tuned-trec_covid_doc2query-adafactor-bs-32-split-1000-bf16-early-stoping-expand-non-empty.txt...\n",
            "100% 50/50 [00:11<00:00,  4.35it/s]\n"
          ]
        }
      ]
    },
    {
      "cell_type": "code",
      "source": [
        "#eval(f\"{main_dir}/runs/run.{topics}.bm25tuned-trec_covid_doc2query-adafactor-bs-32-split-1000-bf16-early-stoping_18_queries-expand-non-empty.txt\")\n",
        "eval(f\"{main_dir}/runs/run.{topics}.bm25tuned-trec_covid_doc2query-adafactor-bs-32-split-1000-bf16-early-stoping-expand-non-empty.txt\")"
      ],
      "metadata": {
        "colab": {
          "base_uri": "https://localhost:8080/"
        },
        "id": "fTlMBFHmYwpT",
        "outputId": "010017e7-06c3-4452-bde5-0ccfe2833c29"
      },
      "execution_count": null,
      "outputs": [
        {
          "output_type": "execute_result",
          "data": {
            "text/plain": [
              "0.6633777379779217"
            ]
          },
          "metadata": {},
          "execution_count": 99
        }
      ]
    },
    {
      "cell_type": "code",
      "source": [
        "!python -m pyserini.search.lucene \\\n",
        "  --index {main_dir}/{index_name}-expand-non-empty \\\n",
        "  --topics {main_dir}/{topics}/queries.tsv \\\n",
        "  --output {main_dir}/runs/run.{topics}.bm25tuned-{index_name}-expand-non-empty.txt \\\n",
        "  --hits 1000 \\\n",
        "  --bm25 --k1 4 --b 1"
      ],
      "metadata": {
        "colab": {
          "base_uri": "https://localhost:8080/"
        },
        "id": "pYAUjEWVYzxZ",
        "outputId": "0ec3c2e7-5807-46df-c3fb-2b6f16ef5b5c"
      },
      "execution_count": null,
      "outputs": [
        {
          "output_type": "stream",
          "name": "stdout",
          "text": [
            "Setting BM25 parameters: k1=4.0, b=1.0\n",
            "Running /content/gdrive/MyDrive/Unicamp-aula-6-3/trec-covid/queries.tsv topics, saving to /content/gdrive/MyDrive/Unicamp-aula-6-3/runs/run.trec-covid.bm25tuned-trec_covid_doc2query-adafactor-bs-32-split-1000-bf16-early-stoping-expand-non-empty.txt...\n",
            "100% 50/50 [00:09<00:00,  5.48it/s]\n"
          ]
        }
      ]
    },
    {
      "cell_type": "code",
      "source": [
        "#eval(f\"{main_dir}/runs/run.{topics}.bm25tuned-trec_covid_doc2query-adafactor-bs-32-split-1000-bf16-early-stoping_18_queries-expand-non-empty.txt\")\n",
        "eval(f\"{main_dir}/runs/run.{topics}.bm25tuned-trec_covid_doc2query-adafactor-bs-32-split-1000-bf16-early-stoping-expand-non-empty.txt\")"
      ],
      "metadata": {
        "colab": {
          "base_uri": "https://localhost:8080/"
        },
        "id": "QhPTLeIpY3la",
        "outputId": "64704ee1-83b0-4fdc-c2ce-ccc5821a6dea"
      },
      "execution_count": null,
      "outputs": [
        {
          "output_type": "execute_result",
          "data": {
            "text/plain": [
              "0.5116709446089776"
            ]
          },
          "metadata": {},
          "execution_count": 101
        }
      ]
    },
    {
      "cell_type": "code",
      "source": [
        "!python -m pyserini.search.lucene \\\n",
        "  --index {main_dir}/{index_name}-expand-non-empty \\\n",
        "  --topics {main_dir}/{topics}/queries.tsv \\\n",
        "  --output {main_dir}/runs/run.{topics}.bm25tuned-{index_name}-expand-non-empty.txt \\\n",
        "  --hits 1000 \\\n",
        "  --bm25 --k1 5 --b 0.25"
      ],
      "metadata": {
        "colab": {
          "base_uri": "https://localhost:8080/"
        },
        "id": "QYC9VmOWY5cb",
        "outputId": "72086f61-c5da-4526-88d5-f5b2d36ba5b9"
      },
      "execution_count": null,
      "outputs": [
        {
          "output_type": "stream",
          "name": "stdout",
          "text": [
            "Setting BM25 parameters: k1=5.0, b=0.25\n",
            "Running /content/gdrive/MyDrive/Unicamp-aula-6-3/trec-covid/queries.tsv topics, saving to /content/gdrive/MyDrive/Unicamp-aula-6-3/runs/run.trec-covid.bm25tuned-trec_covid_doc2query-adafactor-bs-32-split-1000-bf16-early-stoping-expand-non-empty.txt...\n",
            "100% 50/50 [00:11<00:00,  4.39it/s]\n"
          ]
        }
      ]
    },
    {
      "cell_type": "code",
      "source": [
        "#eval(f\"{main_dir}/runs/run.{topics}.bm25tuned-trec_covid_doc2query-adafactor-bs-32-split-1000-bf16-early-stoping_18_queries-expand-non-empty.txt\")\n",
        "eval(f\"{main_dir}/runs/run.{topics}.bm25tuned-trec_covid_doc2query-adafactor-bs-32-split-1000-bf16-early-stoping-expand-non-empty.txt\")"
      ],
      "metadata": {
        "colab": {
          "base_uri": "https://localhost:8080/"
        },
        "id": "xbxu4RigZAV1",
        "outputId": "55e31487-6a7d-40d2-e7f7-bf72adfcbb8c"
      },
      "execution_count": null,
      "outputs": [
        {
          "output_type": "execute_result",
          "data": {
            "text/plain": [
              "0.6866087049133124"
            ]
          },
          "metadata": {},
          "execution_count": 103
        }
      ]
    },
    {
      "cell_type": "code",
      "source": [
        "!python -m pyserini.search.lucene \\\n",
        "  --index {main_dir}/{index_name}-expand-non-empty \\\n",
        "  --topics {main_dir}/{topics}/queries.tsv \\\n",
        "  --output {main_dir}/runs/run.{topics}.bm25tuned-{index_name}-expand-non-empty.txt \\\n",
        "  --hits 1000 \\\n",
        "  --bm25 --k1 5 --b 0.5"
      ],
      "metadata": {
        "colab": {
          "base_uri": "https://localhost:8080/"
        },
        "id": "jEUvdNNOZBuT",
        "outputId": "7cea005c-e297-4dda-c0f5-2ffa47ef04b5"
      },
      "execution_count": null,
      "outputs": [
        {
          "output_type": "stream",
          "name": "stdout",
          "text": [
            "Setting BM25 parameters: k1=5.0, b=0.5\n",
            "Running /content/gdrive/MyDrive/Unicamp-aula-6-3/trec-covid/queries.tsv topics, saving to /content/gdrive/MyDrive/Unicamp-aula-6-3/runs/run.trec-covid.bm25tuned-trec_covid_doc2query-adafactor-bs-32-split-1000-bf16-early-stoping-expand-non-empty.txt...\n",
            "100% 50/50 [00:11<00:00,  4.36it/s]\n"
          ]
        }
      ]
    },
    {
      "cell_type": "code",
      "source": [
        "#eval(f\"{main_dir}/runs/run.{topics}.bm25tuned-trec_covid_doc2query-adafactor-bs-32-split-1000-bf16-early-stoping_18_queries-expand-non-empty.txt\")\n",
        "eval(f\"{main_dir}/runs/run.{topics}.bm25tuned-trec_covid_doc2query-adafactor-bs-32-split-1000-bf16-early-stoping-expand-non-empty.txt\")"
      ],
      "metadata": {
        "colab": {
          "base_uri": "https://localhost:8080/"
        },
        "id": "POT8o2l3ZIO7",
        "outputId": "281d2b1d-8003-46ed-bdc4-928d70aa6f51"
      },
      "execution_count": null,
      "outputs": [
        {
          "output_type": "execute_result",
          "data": {
            "text/plain": [
              "0.6783843260029286"
            ]
          },
          "metadata": {},
          "execution_count": 105
        }
      ]
    },
    {
      "cell_type": "code",
      "source": [
        "!python -m pyserini.search.lucene \\\n",
        "  --index {main_dir}/{index_name}-expand-non-empty \\\n",
        "  --topics {main_dir}/{topics}/queries.tsv \\\n",
        "  --output {main_dir}/runs/run.{topics}.bm25tuned-{index_name}-expand-non-empty.txt \\\n",
        "  --hits 1000 \\\n",
        "  --bm25 --k1 5 --b 0.75"
      ],
      "metadata": {
        "colab": {
          "base_uri": "https://localhost:8080/"
        },
        "id": "XvtmrC8aZNGH",
        "outputId": "31b4cf69-bc14-41f3-b3fb-d1ffecb33e5d"
      },
      "execution_count": null,
      "outputs": [
        {
          "output_type": "stream",
          "name": "stdout",
          "text": [
            "Setting BM25 parameters: k1=5.0, b=0.75\n",
            "Running /content/gdrive/MyDrive/Unicamp-aula-6-3/trec-covid/queries.tsv topics, saving to /content/gdrive/MyDrive/Unicamp-aula-6-3/runs/run.trec-covid.bm25tuned-trec_covid_doc2query-adafactor-bs-32-split-1000-bf16-early-stoping-expand-non-empty.txt...\n",
            "100% 50/50 [00:13<00:00,  3.63it/s]\n"
          ]
        }
      ]
    },
    {
      "cell_type": "code",
      "source": [
        "#eval(f\"{main_dir}/runs/run.{topics}.bm25tuned-trec_covid_doc2query-adafactor-bs-32-split-1000-bf16-early-stoping_18_queries-expand-non-empty.txt\")\n",
        "eval(f\"{main_dir}/runs/run.{topics}.bm25tuned-trec_covid_doc2query-adafactor-bs-32-split-1000-bf16-early-stoping-expand-non-empty.txt\")"
      ],
      "metadata": {
        "colab": {
          "base_uri": "https://localhost:8080/"
        },
        "id": "iFXKThbwZRQE",
        "outputId": "f60b3595-af36-49c6-d2a1-135c81192d53"
      },
      "execution_count": null,
      "outputs": [
        {
          "output_type": "execute_result",
          "data": {
            "text/plain": [
              "0.6541996581687293"
            ]
          },
          "metadata": {},
          "execution_count": 107
        }
      ]
    },
    {
      "cell_type": "code",
      "source": [
        "!python -m pyserini.search.lucene \\\n",
        "  --index {main_dir}/{index_name}-expand-non-empty \\\n",
        "  --topics {main_dir}/{topics}/queries.tsv \\\n",
        "  --output {main_dir}/runs/run.{topics}.bm25tuned-{index_name}-expand-non-empty.txt \\\n",
        "  --hits 1000 \\\n",
        "  --bm25 --k1 5 --b 1"
      ],
      "metadata": {
        "colab": {
          "base_uri": "https://localhost:8080/"
        },
        "id": "IvNUKWHgZSvn",
        "outputId": "cc811851-f77a-4361-c2a9-b8c5fd8dba1a"
      },
      "execution_count": null,
      "outputs": [
        {
          "output_type": "stream",
          "name": "stdout",
          "text": [
            "Setting BM25 parameters: k1=5.0, b=1.0\n",
            "Running /content/gdrive/MyDrive/Unicamp-aula-6-3/trec-covid/queries.tsv topics, saving to /content/gdrive/MyDrive/Unicamp-aula-6-3/runs/run.trec-covid.bm25tuned-trec_covid_doc2query-adafactor-bs-32-split-1000-bf16-early-stoping-expand-non-empty.txt...\n",
            "100% 50/50 [00:13<00:00,  3.74it/s]\n"
          ]
        }
      ]
    },
    {
      "cell_type": "code",
      "source": [
        "#eval(f\"{main_dir}/runs/run.{topics}.bm25tuned-trec_covid_doc2query-adafactor-bs-32-split-1000-bf16-early-stoping_18_queries-expand-non-empty.txt\")\n",
        "eval(f\"{main_dir}/runs/run.{topics}.bm25tuned-trec_covid_doc2query-adafactor-bs-32-split-1000-bf16-early-stoping-expand-non-empty.txt\")"
      ],
      "metadata": {
        "colab": {
          "base_uri": "https://localhost:8080/"
        },
        "id": "Q9euEjwbZVln",
        "outputId": "a4b89308-7c0a-43a8-f575-3b3dc61d2160"
      },
      "execution_count": null,
      "outputs": [
        {
          "output_type": "execute_result",
          "data": {
            "text/plain": [
              "0.47501733376264754"
            ]
          },
          "metadata": {},
          "execution_count": 138
        }
      ]
    },
    {
      "cell_type": "markdown",
      "source": [
        "### Comparing with baseline"
      ],
      "metadata": {
        "id": "tepuqTFwaGmX"
      }
    },
    {
      "cell_type": "code",
      "source": [
        "!python -m pyserini.search.lucene \\\n",
        "  --index ~/.cache/pyserini/indexes/lucene-index.beir-v1.0.0-trec-covid.flat.20221116.505594.57b812594b11d064a23123137ae7dade \\\n",
        "  --topics {main_dir}/{topics}/queries.tsv \\\n",
        "  --output {main_dir}/runs/run.{topics}.bm25tuned.txt \\\n",
        "  --hits 1000 \\\n",
        "  --bm25 --k1 4 --b 0.25"
      ],
      "metadata": {
        "colab": {
          "base_uri": "https://localhost:8080/"
        },
        "id": "O7Dhm2xpaIcr",
        "outputId": "58a1c7f9-3c6c-496f-d23b-ba51f60ed752"
      },
      "execution_count": null,
      "outputs": [
        {
          "output_type": "stream",
          "name": "stdout",
          "text": [
            "Setting BM25 parameters: k1=4.0, b=0.25\n",
            "Running /content/gdrive/MyDrive/Unicamp-aula-6-3/trec-covid/queries.tsv topics, saving to /content/gdrive/MyDrive/Unicamp-aula-6-3/runs/run.trec-covid.bm25tuned.txt...\n",
            "100% 50/50 [00:10<00:00,  4.82it/s]\n"
          ]
        }
      ]
    },
    {
      "cell_type": "code",
      "source": [
        "run = pd.read_csv(f\"{main_dir}/runs/run.{topics}.bm25tuned.txt\", sep=\"\\s+\", \n",
        "                  names=[\"query\", \"q0\", \"docid\", \"rank\", \"score\", \"system\"])\n",
        "run = run.to_dict(orient=\"list\")"
      ],
      "metadata": {
        "id": "2ortogAnapYo"
      },
      "execution_count": null,
      "outputs": []
    },
    {
      "cell_type": "code",
      "source": [
        "from evaluate import load\n",
        "trec_eval = load(\"trec_eval\")\n",
        "results = trec_eval.compute(predictions=[run], references=[qrel])"
      ],
      "metadata": {
        "id": "AZIN2VaXa1Ng"
      },
      "execution_count": null,
      "outputs": []
    },
    {
      "cell_type": "code",
      "source": [
        "results['NDCG@10']"
      ],
      "metadata": {
        "colab": {
          "base_uri": "https://localhost:8080/"
        },
        "id": "f38Bex0aa6yb",
        "outputId": "a81a2f9a-a89b-4c4e-e7b1-e8e81fffecc7"
      },
      "execution_count": null,
      "outputs": [
        {
          "output_type": "execute_result",
          "data": {
            "text/plain": [
              "0.6410048418087232"
            ]
          },
          "metadata": {},
          "execution_count": 120
        }
      ]
    },
    {
      "cell_type": "markdown",
      "source": [
        "### Analysis for 3 queries"
      ],
      "metadata": {
        "id": "zSl6cIC1ltK9"
      }
    },
    {
      "cell_type": "code",
      "source": [
        "collections_path = f'{main_dir}/collections/trec_covid_doc2query-adafactor-bs-32-split-1000-bf16-early-stoping_3_queries'\n",
        "index_name = 'trec_covid_doc2query-adafactor-bs-32-split-1000-bf16-early-stoping_3_queries'"
      ],
      "metadata": {
        "id": "um94FotJlvar"
      },
      "execution_count": null,
      "outputs": []
    },
    {
      "cell_type": "markdown",
      "source": [
        "Recreates the index in the appropriate location (mounted gdrive)."
      ],
      "metadata": {
        "id": "Zirge8y2mbzL"
      }
    },
    {
      "cell_type": "code",
      "source": [
        "!python -m pyserini.index.lucene \\\n",
        "  --collection JsonCollection \\\n",
        "  --input {collections_path} \\\n",
        "  --index {main_dir}/{index_name} \\\n",
        "  --generator DefaultLuceneDocumentGenerator \\\n",
        "  --threads 9 \\\n",
        "  --storePositions --storeDocvectors --storeRaw"
      ],
      "metadata": {
        "colab": {
          "base_uri": "https://localhost:8080/"
        },
        "id": "FVHkxD3fmMzJ",
        "outputId": "5fe23eb7-d80d-43ab-e813-0259ab8f0ee8"
      },
      "execution_count": null,
      "outputs": [
        {
          "output_type": "stream",
          "name": "stdout",
          "text": [
            "WARNING: sun.reflect.Reflection.getCallerClass is not supported. This will impact performance.\n",
            "2023-04-12 22:36:46,938 INFO  [main] index.IndexCollection (IndexCollection.java:380) - Setting log level to INFO\n",
            "2023-04-12 22:36:46,940 INFO  [main] index.IndexCollection (IndexCollection.java:383) - Starting indexer...\n",
            "2023-04-12 22:36:46,940 INFO  [main] index.IndexCollection (IndexCollection.java:384) - ============ Loading Parameters ============\n",
            "2023-04-12 22:36:46,940 INFO  [main] index.IndexCollection (IndexCollection.java:385) - DocumentCollection path: /content/gdrive/MyDrive/Unicamp-aula-6-3/collections/trec_covid_doc2query-adafactor-bs-32-split-1000-bf16-early-stoping_3_queries\n",
            "2023-04-12 22:36:46,940 INFO  [main] index.IndexCollection (IndexCollection.java:386) - CollectionClass: JsonCollection\n",
            "2023-04-12 22:36:46,941 INFO  [main] index.IndexCollection (IndexCollection.java:387) - Generator: DefaultLuceneDocumentGenerator\n",
            "2023-04-12 22:36:46,941 INFO  [main] index.IndexCollection (IndexCollection.java:388) - Threads: 9\n",
            "2023-04-12 22:36:46,941 INFO  [main] index.IndexCollection (IndexCollection.java:389) - Language: en\n",
            "2023-04-12 22:36:46,942 INFO  [main] index.IndexCollection (IndexCollection.java:390) - Stemmer: porter\n",
            "2023-04-12 22:36:46,942 INFO  [main] index.IndexCollection (IndexCollection.java:391) - Keep stopwords? false\n",
            "2023-04-12 22:36:46,942 INFO  [main] index.IndexCollection (IndexCollection.java:392) - Stopwords: null\n",
            "2023-04-12 22:36:46,942 INFO  [main] index.IndexCollection (IndexCollection.java:393) - Store positions? true\n",
            "2023-04-12 22:36:46,943 INFO  [main] index.IndexCollection (IndexCollection.java:394) - Store docvectors? true\n",
            "2023-04-12 22:36:46,943 INFO  [main] index.IndexCollection (IndexCollection.java:395) - Store document \"contents\" field? false\n",
            "2023-04-12 22:36:46,943 INFO  [main] index.IndexCollection (IndexCollection.java:396) - Store document \"raw\" field? true\n",
            "2023-04-12 22:36:46,943 INFO  [main] index.IndexCollection (IndexCollection.java:397) - Additional fields to index: []\n",
            "2023-04-12 22:36:46,944 INFO  [main] index.IndexCollection (IndexCollection.java:398) - Optimize (merge segments)? false\n",
            "2023-04-12 22:36:46,944 INFO  [main] index.IndexCollection (IndexCollection.java:399) - Whitelist: null\n",
            "2023-04-12 22:36:46,944 INFO  [main] index.IndexCollection (IndexCollection.java:400) - Pretokenized?: false\n",
            "2023-04-12 22:36:46,944 INFO  [main] index.IndexCollection (IndexCollection.java:401) - Index path: /content/gdrive/MyDrive/Unicamp-aula-6-3/trec_covid_doc2query-adafactor-bs-32-split-1000-bf16-early-stoping_3_queries\n",
            "2023-04-12 22:36:46,950 INFO  [main] index.IndexCollection (IndexCollection.java:481) - ============ Indexing Collection ============\n",
            "2023-04-12 22:36:46,959 INFO  [main] index.IndexCollection (IndexCollection.java:468) - Using DefaultEnglishAnalyzer\n",
            "2023-04-12 22:36:46,959 INFO  [main] index.IndexCollection (IndexCollection.java:469) - Stemmer: porter\n",
            "2023-04-12 22:36:46,959 INFO  [main] index.IndexCollection (IndexCollection.java:470) - Keep stopwords? false\n",
            "2023-04-12 22:36:46,960 INFO  [main] index.IndexCollection (IndexCollection.java:471) - Stopwords file: null\n",
            "2023-04-12 22:36:47,101 INFO  [main] index.IndexCollection (IndexCollection.java:510) - Thread pool with 9 threads initialized.\n",
            "2023-04-12 22:36:47,102 INFO  [main] index.IndexCollection (IndexCollection.java:512) - Initializing collection in /content/gdrive/MyDrive/Unicamp-aula-6-3/collections/trec_covid_doc2query-adafactor-bs-32-split-1000-bf16-early-stoping_3_queries\n",
            "2023-04-12 22:36:47,107 INFO  [main] index.IndexCollection (IndexCollection.java:521) - 11 files found\n",
            "2023-04-12 22:36:47,108 INFO  [main] index.IndexCollection (IndexCollection.java:522) - Starting to index...\n",
            "2023-04-12 22:36:48,119 DEBUG [pool-2-thread-7] index.IndexCollection$LocalIndexerThread (IndexCollection.java:345) - trec_covid_doc2query-adafactor-bs-32-split-1000-bf16-early-stoping_3_queries/json_10.json: 2 docs added.\n",
            "2023-04-12 22:36:55,154 DEBUG [pool-2-thread-3] index.IndexCollection$LocalIndexerThread (IndexCollection.java:345) - trec_covid_doc2query-adafactor-bs-32-split-1000-bf16-early-stoping_3_queries/json_6.json: 17133 docs added.\n",
            "2023-04-12 22:36:55,161 DEBUG [pool-2-thread-2] index.IndexCollection$LocalIndexerThread (IndexCollection.java:345) - trec_covid_doc2query-adafactor-bs-32-split-1000-bf16-early-stoping_3_queries/json_5.json: 17133 docs added.\n",
            "2023-04-12 22:36:55,630 DEBUG [pool-2-thread-9] index.IndexCollection$LocalIndexerThread (IndexCollection.java:345) - trec_covid_doc2query-adafactor-bs-32-split-1000-bf16-early-stoping_3_queries/json_1.json: 17133 docs added.\n",
            "2023-04-12 22:36:56,757 DEBUG [pool-2-thread-6] index.IndexCollection$LocalIndexerThread (IndexCollection.java:345) - trec_covid_doc2query-adafactor-bs-32-split-1000-bf16-early-stoping_3_queries/json_9.json: 17133 docs added.\n",
            "2023-04-12 22:36:56,905 DEBUG [pool-2-thread-4] index.IndexCollection$LocalIndexerThread (IndexCollection.java:345) - trec_covid_doc2query-adafactor-bs-32-split-1000-bf16-early-stoping_3_queries/json_7.json: 17133 docs added.\n",
            "2023-04-12 22:36:57,067 DEBUG [pool-2-thread-1] index.IndexCollection$LocalIndexerThread (IndexCollection.java:345) - trec_covid_doc2query-adafactor-bs-32-split-1000-bf16-early-stoping_3_queries/json_4.json: 17133 docs added.\n",
            "2023-04-12 22:36:57,098 DEBUG [pool-2-thread-5] index.IndexCollection$LocalIndexerThread (IndexCollection.java:345) - trec_covid_doc2query-adafactor-bs-32-split-1000-bf16-early-stoping_3_queries/json_8.json: 17133 docs added.\n",
            "2023-04-12 22:36:57,139 DEBUG [pool-2-thread-7] index.IndexCollection$LocalIndexerThread (IndexCollection.java:345) - trec_covid_doc2query-adafactor-bs-32-split-1000-bf16-early-stoping_3_queries/json_3.json: 17133 docs added.\n",
            "2023-04-12 22:36:57,214 DEBUG [pool-2-thread-8] index.IndexCollection$LocalIndexerThread (IndexCollection.java:345) - trec_covid_doc2query-adafactor-bs-32-split-1000-bf16-early-stoping_3_queries/json_2.json: 17133 docs added.\n",
            "2023-04-12 22:36:59,715 DEBUG [pool-2-thread-3] index.IndexCollection$LocalIndexerThread (IndexCollection.java:345) - trec_covid_doc2query-adafactor-bs-32-split-1000-bf16-early-stoping_3_queries/json_0.json: 17133 docs added.\n",
            "2023-04-12 22:37:05,473 INFO  [main] index.IndexCollection (IndexCollection.java:578) - Indexing Complete! 171,332 documents indexed\n",
            "2023-04-12 22:37:05,473 INFO  [main] index.IndexCollection (IndexCollection.java:579) - ============ Final Counter Values ============\n",
            "2023-04-12 22:37:05,474 INFO  [main] index.IndexCollection (IndexCollection.java:580) - indexed:          171,332\n",
            "2023-04-12 22:37:05,474 INFO  [main] index.IndexCollection (IndexCollection.java:581) - unindexable:            0\n",
            "2023-04-12 22:37:05,474 INFO  [main] index.IndexCollection (IndexCollection.java:582) - empty:                  0\n",
            "2023-04-12 22:37:05,474 INFO  [main] index.IndexCollection (IndexCollection.java:583) - skipped:                0\n",
            "2023-04-12 22:37:05,474 INFO  [main] index.IndexCollection (IndexCollection.java:584) - errors:                 0\n",
            "2023-04-12 22:37:05,478 INFO  [main] index.IndexCollection (IndexCollection.java:587) - Total 171,332 documents indexed in 00:00:18\n"
          ]
        }
      ]
    },
    {
      "cell_type": "code",
      "source": [
        "!python -m pyserini.search.lucene \\\n",
        "  --index {main_dir}/{index_name} \\\n",
        "  --topics {main_dir}/{topics}/queries.tsv \\\n",
        "  --output {main_dir}/runs/run.{topics}.bm25tuned-{index_name}.txt \\\n",
        "  --hits 1000 \\\n",
        "  --bm25 --k1 4 --b 0.25"
      ],
      "metadata": {
        "colab": {
          "base_uri": "https://localhost:8080/"
        },
        "id": "NPVQw0CHmWG6",
        "outputId": "8fc1d33c-b5b3-4b6a-e46c-2fda06b6d3ed"
      },
      "execution_count": null,
      "outputs": [
        {
          "output_type": "stream",
          "name": "stdout",
          "text": [
            "Setting BM25 parameters: k1=4.0, b=0.25\n",
            "Running /content/gdrive/MyDrive/Unicamp-aula-6-3/trec-covid/queries.tsv topics, saving to /content/gdrive/MyDrive/Unicamp-aula-6-3/runs/run.trec-covid.bm25tuned-trec_covid_doc2query-adafactor-bs-32-split-1000-bf16-early-stoping_3_queries.txt...\n",
            "100% 50/50 [00:12<00:00,  4.01it/s]\n"
          ]
        }
      ]
    },
    {
      "cell_type": "code",
      "source": [
        "eval(f\"{main_dir}/runs/run.{topics}.bm25tuned-trec_covid_doc2query-adafactor-bs-32-split-1000-bf16-early-stoping_3_queries.txt\")"
      ],
      "metadata": {
        "colab": {
          "base_uri": "https://localhost:8080/"
        },
        "id": "Yiz9tgu8mmHa",
        "outputId": "01b689cd-0e7d-406b-df51-8660b2d06819"
      },
      "execution_count": null,
      "outputs": [
        {
          "output_type": "execute_result",
          "data": {
            "text/plain": [
              "0.6845000508941358"
            ]
          },
          "metadata": {},
          "execution_count": 124
        }
      ]
    },
    {
      "cell_type": "markdown",
      "source": [
        "### Analysis for 5 queries"
      ],
      "metadata": {
        "id": "6xBHSBjNoBWh"
      }
    },
    {
      "cell_type": "code",
      "source": [
        "#trec_covid_doc2query-adafactor-bs-32-split-1000-bf16-early-stoping"
      ],
      "metadata": {
        "id": "GN0OF0X2ppl6"
      },
      "execution_count": null,
      "outputs": []
    },
    {
      "cell_type": "code",
      "source": [
        "index_name = 'trec_covid_doc2query-adafactor-bs-32-split-1000-bf16-early-stoping'"
      ],
      "metadata": {
        "id": "zxplu6xBmr1d"
      },
      "execution_count": null,
      "outputs": []
    },
    {
      "cell_type": "code",
      "source": [
        "index_name"
      ],
      "metadata": {
        "colab": {
          "base_uri": "https://localhost:8080/",
          "height": 36
        },
        "id": "k2YV96yHuq4R",
        "outputId": "6d2b2e52-1888-46f9-f290-d59912bb0ebf"
      },
      "execution_count": null,
      "outputs": [
        {
          "output_type": "execute_result",
          "data": {
            "text/plain": [
              "'trec_covid_doc2query-adafactor-bs-32-split-1000-bf16-early-stoping'"
            ],
            "application/vnd.google.colaboratory.intrinsic+json": {
              "type": "string"
            }
          },
          "metadata": {},
          "execution_count": 30
        }
      ]
    },
    {
      "cell_type": "code",
      "source": [
        "!python -m pyserini.search.lucene \\\n",
        "  --index {main_dir}/{index_name}-expand-non-empty \\\n",
        "  --topics {main_dir}/{topics}/queries.tsv \\\n",
        "  --output {main_dir}/runs/run.{topics}.bm25tuned-{index_name}-expand-non-empty.txt \\\n",
        "  --hits 1000 \\\n",
        "  --bm25 --k1 4 --b 0.25"
      ],
      "metadata": {
        "colab": {
          "base_uri": "https://localhost:8080/"
        },
        "id": "qcsQkgatoQpE",
        "outputId": "17162aef-599a-4b10-d5df-9e6d83d834d5"
      },
      "execution_count": null,
      "outputs": [
        {
          "output_type": "stream",
          "name": "stdout",
          "text": [
            "Setting BM25 parameters: k1=4.0, b=0.25\n",
            "Running /content/gdrive/MyDrive/Unicamp-aula-6-3/trec-covid/queries.tsv topics, saving to /content/gdrive/MyDrive/Unicamp-aula-6-3/runs/run.trec-covid.bm25tuned-trec_covid_doc2query-adafactor-bs-32-split-1000-bf16-early-stoping-expand-non-empty.txt...\n",
            "100% 50/50 [00:12<00:00,  3.86it/s]\n"
          ]
        }
      ]
    },
    {
      "cell_type": "code",
      "source": [
        "eval(f\"{main_dir}/runs/run.{topics}.bm25tuned-trec_covid_doc2query-adafactor-bs-32-split-1000-bf16-early-stoping-expand-non-empty.txt\")"
      ],
      "metadata": {
        "colab": {
          "base_uri": "https://localhost:8080/"
        },
        "id": "XwxAAJE9u3UY",
        "outputId": "b2c99b31-cf25-45cb-aebf-aa2c1239f748"
      },
      "execution_count": null,
      "outputs": [
        {
          "output_type": "execute_result",
          "data": {
            "text/plain": [
              "0.6940007375216084"
            ]
          },
          "metadata": {},
          "execution_count": 143
        }
      ]
    },
    {
      "cell_type": "code",
      "source": [],
      "metadata": {
        "id": "ReetjZN0v6mY"
      },
      "execution_count": null,
      "outputs": []
    }
  ],
  "metadata": {
    "accelerator": "GPU",
    "colab": {
      "machine_shape": "hm",
      "provenance": []
    },
    "gpuClass": "premium",
    "kernelspec": {
      "display_name": "Python 3",
      "name": "python3"
    },
    "language_info": {
      "name": "python"
    },
    "widgets": {
      "application/vnd.jupyter.widget-state+json": {
        "53389c0125d74252b9880c30864f1e4d": {
          "model_module": "@jupyter-widgets/base",
          "model_module_version": "1.2.0",
          "model_name": "LayoutModel",
          "state": {
            "_model_module": "@jupyter-widgets/base",
            "_model_module_version": "1.2.0",
            "_model_name": "LayoutModel",
            "_view_count": null,
            "_view_module": "@jupyter-widgets/base",
            "_view_module_version": "1.2.0",
            "_view_name": "LayoutView",
            "align_content": null,
            "align_items": null,
            "align_self": null,
            "border": null,
            "bottom": null,
            "display": null,
            "flex": null,
            "flex_flow": null,
            "grid_area": null,
            "grid_auto_columns": null,
            "grid_auto_flow": null,
            "grid_auto_rows": null,
            "grid_column": null,
            "grid_gap": null,
            "grid_row": null,
            "grid_template_areas": null,
            "grid_template_columns": null,
            "grid_template_rows": null,
            "height": null,
            "justify_content": null,
            "justify_items": null,
            "left": null,
            "margin": null,
            "max_height": null,
            "max_width": null,
            "min_height": null,
            "min_width": null,
            "object_fit": null,
            "object_position": null,
            "order": null,
            "overflow": null,
            "overflow_x": null,
            "overflow_y": null,
            "padding": null,
            "right": null,
            "top": null,
            "visibility": null,
            "width": null
          }
        },
        "537f50ce297448108bac700a1a1d9c76": {
          "model_module": "@jupyter-widgets/controls",
          "model_module_version": "1.5.0",
          "model_name": "DescriptionStyleModel",
          "state": {
            "_model_module": "@jupyter-widgets/controls",
            "_model_module_version": "1.5.0",
            "_model_name": "DescriptionStyleModel",
            "_view_count": null,
            "_view_module": "@jupyter-widgets/base",
            "_view_module_version": "1.2.0",
            "_view_name": "StyleView",
            "description_width": ""
          }
        },
        "74556a1a5b2349a9a588799f0f428ca5": {
          "model_module": "@jupyter-widgets/base",
          "model_module_version": "1.2.0",
          "model_name": "LayoutModel",
          "state": {
            "_model_module": "@jupyter-widgets/base",
            "_model_module_version": "1.2.0",
            "_model_name": "LayoutModel",
            "_view_count": null,
            "_view_module": "@jupyter-widgets/base",
            "_view_module_version": "1.2.0",
            "_view_name": "LayoutView",
            "align_content": null,
            "align_items": null,
            "align_self": null,
            "border": null,
            "bottom": null,
            "display": null,
            "flex": null,
            "flex_flow": null,
            "grid_area": null,
            "grid_auto_columns": null,
            "grid_auto_flow": null,
            "grid_auto_rows": null,
            "grid_column": null,
            "grid_gap": null,
            "grid_row": null,
            "grid_template_areas": null,
            "grid_template_columns": null,
            "grid_template_rows": null,
            "height": null,
            "justify_content": null,
            "justify_items": null,
            "left": null,
            "margin": null,
            "max_height": null,
            "max_width": null,
            "min_height": null,
            "min_width": null,
            "object_fit": null,
            "object_position": null,
            "order": null,
            "overflow": null,
            "overflow_x": null,
            "overflow_y": null,
            "padding": null,
            "right": null,
            "top": null,
            "visibility": null,
            "width": null
          }
        },
        "7536741c85884bc28a114637e42f2616": {
          "model_module": "@jupyter-widgets/controls",
          "model_module_version": "1.5.0",
          "model_name": "ProgressStyleModel",
          "state": {
            "_model_module": "@jupyter-widgets/controls",
            "_model_module_version": "1.5.0",
            "_model_name": "ProgressStyleModel",
            "_view_count": null,
            "_view_module": "@jupyter-widgets/base",
            "_view_module_version": "1.2.0",
            "_view_name": "StyleView",
            "bar_color": null,
            "description_width": ""
          }
        },
        "7bac12575e5f4326965820420e6483d6": {
          "model_module": "@jupyter-widgets/controls",
          "model_module_version": "1.5.0",
          "model_name": "HBoxModel",
          "state": {
            "_dom_classes": [],
            "_model_module": "@jupyter-widgets/controls",
            "_model_module_version": "1.5.0",
            "_model_name": "HBoxModel",
            "_view_count": null,
            "_view_module": "@jupyter-widgets/controls",
            "_view_module_version": "1.5.0",
            "_view_name": "HBoxView",
            "box_style": "",
            "children": [
              "IPY_MODEL_affc726871a94a8f847c54f412b7db15",
              "IPY_MODEL_e63388f5cdb949d4b757887f019a4dba",
              "IPY_MODEL_bc11848c6ad647b0bf2fce4ed6c894e0"
            ],
            "layout": "IPY_MODEL_c282249e120b4e9e8e7a4aed259aa527"
          }
        },
        "96314b5ed7c64bfcb7f50917527e7b40": {
          "model_module": "@jupyter-widgets/base",
          "model_module_version": "1.2.0",
          "model_name": "LayoutModel",
          "state": {
            "_model_module": "@jupyter-widgets/base",
            "_model_module_version": "1.2.0",
            "_model_name": "LayoutModel",
            "_view_count": null,
            "_view_module": "@jupyter-widgets/base",
            "_view_module_version": "1.2.0",
            "_view_name": "LayoutView",
            "align_content": null,
            "align_items": null,
            "align_self": null,
            "border": null,
            "bottom": null,
            "display": null,
            "flex": null,
            "flex_flow": null,
            "grid_area": null,
            "grid_auto_columns": null,
            "grid_auto_flow": null,
            "grid_auto_rows": null,
            "grid_column": null,
            "grid_gap": null,
            "grid_row": null,
            "grid_template_areas": null,
            "grid_template_columns": null,
            "grid_template_rows": null,
            "height": null,
            "justify_content": null,
            "justify_items": null,
            "left": null,
            "margin": null,
            "max_height": null,
            "max_width": null,
            "min_height": null,
            "min_width": null,
            "object_fit": null,
            "object_position": null,
            "order": null,
            "overflow": null,
            "overflow_x": null,
            "overflow_y": null,
            "padding": null,
            "right": null,
            "top": null,
            "visibility": null,
            "width": null
          }
        },
        "9cd3b8fef3814cec98ce9b7f1139e2d4": {
          "model_module": "@jupyter-widgets/controls",
          "model_module_version": "1.5.0",
          "model_name": "DescriptionStyleModel",
          "state": {
            "_model_module": "@jupyter-widgets/controls",
            "_model_module_version": "1.5.0",
            "_model_name": "DescriptionStyleModel",
            "_view_count": null,
            "_view_module": "@jupyter-widgets/base",
            "_view_module_version": "1.2.0",
            "_view_name": "StyleView",
            "description_width": ""
          }
        },
        "affc726871a94a8f847c54f412b7db15": {
          "model_module": "@jupyter-widgets/controls",
          "model_module_version": "1.5.0",
          "model_name": "HTMLModel",
          "state": {
            "_dom_classes": [],
            "_model_module": "@jupyter-widgets/controls",
            "_model_module_version": "1.5.0",
            "_model_name": "HTMLModel",
            "_view_count": null,
            "_view_module": "@jupyter-widgets/controls",
            "_view_module_version": "1.5.0",
            "_view_name": "HTMLView",
            "description": "",
            "description_tooltip": null,
            "layout": "IPY_MODEL_96314b5ed7c64bfcb7f50917527e7b40",
            "placeholder": "​",
            "style": "IPY_MODEL_537f50ce297448108bac700a1a1d9c76",
            "value": "Downloading builder script: 100%"
          }
        },
        "bc11848c6ad647b0bf2fce4ed6c894e0": {
          "model_module": "@jupyter-widgets/controls",
          "model_module_version": "1.5.0",
          "model_name": "HTMLModel",
          "state": {
            "_dom_classes": [],
            "_model_module": "@jupyter-widgets/controls",
            "_model_module_version": "1.5.0",
            "_model_name": "HTMLModel",
            "_view_count": null,
            "_view_module": "@jupyter-widgets/controls",
            "_view_module_version": "1.5.0",
            "_view_name": "HTMLView",
            "description": "",
            "description_tooltip": null,
            "layout": "IPY_MODEL_53389c0125d74252b9880c30864f1e4d",
            "placeholder": "​",
            "style": "IPY_MODEL_9cd3b8fef3814cec98ce9b7f1139e2d4",
            "value": " 5.51k/5.51k [00:01&lt;00:00, 875B/s]"
          }
        },
        "c282249e120b4e9e8e7a4aed259aa527": {
          "model_module": "@jupyter-widgets/base",
          "model_module_version": "1.2.0",
          "model_name": "LayoutModel",
          "state": {
            "_model_module": "@jupyter-widgets/base",
            "_model_module_version": "1.2.0",
            "_model_name": "LayoutModel",
            "_view_count": null,
            "_view_module": "@jupyter-widgets/base",
            "_view_module_version": "1.2.0",
            "_view_name": "LayoutView",
            "align_content": null,
            "align_items": null,
            "align_self": null,
            "border": null,
            "bottom": null,
            "display": null,
            "flex": null,
            "flex_flow": null,
            "grid_area": null,
            "grid_auto_columns": null,
            "grid_auto_flow": null,
            "grid_auto_rows": null,
            "grid_column": null,
            "grid_gap": null,
            "grid_row": null,
            "grid_template_areas": null,
            "grid_template_columns": null,
            "grid_template_rows": null,
            "height": null,
            "justify_content": null,
            "justify_items": null,
            "left": null,
            "margin": null,
            "max_height": null,
            "max_width": null,
            "min_height": null,
            "min_width": null,
            "object_fit": null,
            "object_position": null,
            "order": null,
            "overflow": null,
            "overflow_x": null,
            "overflow_y": null,
            "padding": null,
            "right": null,
            "top": null,
            "visibility": null,
            "width": null
          }
        },
        "e63388f5cdb949d4b757887f019a4dba": {
          "model_module": "@jupyter-widgets/controls",
          "model_module_version": "1.5.0",
          "model_name": "FloatProgressModel",
          "state": {
            "_dom_classes": [],
            "_model_module": "@jupyter-widgets/controls",
            "_model_module_version": "1.5.0",
            "_model_name": "FloatProgressModel",
            "_view_count": null,
            "_view_module": "@jupyter-widgets/controls",
            "_view_module_version": "1.5.0",
            "_view_name": "ProgressView",
            "bar_style": "success",
            "description": "",
            "description_tooltip": null,
            "layout": "IPY_MODEL_74556a1a5b2349a9a588799f0f428ca5",
            "max": 5514,
            "min": 0,
            "orientation": "horizontal",
            "style": "IPY_MODEL_7536741c85884bc28a114637e42f2616",
            "value": 5514
          }
        },
        "2bea145133734d5082daff6a1b73fad2": {
          "model_module": "@jupyter-widgets/controls",
          "model_name": "HBoxModel",
          "model_module_version": "1.5.0",
          "state": {
            "_dom_classes": [],
            "_model_module": "@jupyter-widgets/controls",
            "_model_module_version": "1.5.0",
            "_model_name": "HBoxModel",
            "_view_count": null,
            "_view_module": "@jupyter-widgets/controls",
            "_view_module_version": "1.5.0",
            "_view_name": "HBoxView",
            "box_style": "",
            "children": [
              "IPY_MODEL_5774a9e0c6ce4bcd9d865d8df552ed30",
              "IPY_MODEL_aa050c2325694f82ba27adf8d4ca59d7",
              "IPY_MODEL_bdfe8f866c034b4184a3a4feeed9ce20"
            ],
            "layout": "IPY_MODEL_45ab121d7b5240d7882b5ace81a2495f"
          }
        },
        "5774a9e0c6ce4bcd9d865d8df552ed30": {
          "model_module": "@jupyter-widgets/controls",
          "model_name": "HTMLModel",
          "model_module_version": "1.5.0",
          "state": {
            "_dom_classes": [],
            "_model_module": "@jupyter-widgets/controls",
            "_model_module_version": "1.5.0",
            "_model_name": "HTMLModel",
            "_view_count": null,
            "_view_module": "@jupyter-widgets/controls",
            "_view_module_version": "1.5.0",
            "_view_name": "HTMLView",
            "description": "",
            "description_tooltip": null,
            "layout": "IPY_MODEL_acb9bad3a99c4fbd8aa60b98cad8d8b2",
            "placeholder": "​",
            "style": "IPY_MODEL_d3e2977b01c340f399481c13893a3c3d",
            "value": "Downloading builder script: 100%"
          }
        },
        "aa050c2325694f82ba27adf8d4ca59d7": {
          "model_module": "@jupyter-widgets/controls",
          "model_name": "FloatProgressModel",
          "model_module_version": "1.5.0",
          "state": {
            "_dom_classes": [],
            "_model_module": "@jupyter-widgets/controls",
            "_model_module_version": "1.5.0",
            "_model_name": "FloatProgressModel",
            "_view_count": null,
            "_view_module": "@jupyter-widgets/controls",
            "_view_module_version": "1.5.0",
            "_view_name": "ProgressView",
            "bar_style": "success",
            "description": "",
            "description_tooltip": null,
            "layout": "IPY_MODEL_0dabb686d629494ca14bff51bba9f99b",
            "max": 5514,
            "min": 0,
            "orientation": "horizontal",
            "style": "IPY_MODEL_0aa3bca2ec6140e5a60dbc7ce15c83e8",
            "value": 5514
          }
        },
        "bdfe8f866c034b4184a3a4feeed9ce20": {
          "model_module": "@jupyter-widgets/controls",
          "model_name": "HTMLModel",
          "model_module_version": "1.5.0",
          "state": {
            "_dom_classes": [],
            "_model_module": "@jupyter-widgets/controls",
            "_model_module_version": "1.5.0",
            "_model_name": "HTMLModel",
            "_view_count": null,
            "_view_module": "@jupyter-widgets/controls",
            "_view_module_version": "1.5.0",
            "_view_name": "HTMLView",
            "description": "",
            "description_tooltip": null,
            "layout": "IPY_MODEL_dae85453f8b843c6ad2d5ce99e3852bb",
            "placeholder": "​",
            "style": "IPY_MODEL_52ad7b616123494cb4d310ff32e08cf2",
            "value": " 5.51k/5.51k [00:00&lt;00:00, 1.46kB/s]"
          }
        },
        "45ab121d7b5240d7882b5ace81a2495f": {
          "model_module": "@jupyter-widgets/base",
          "model_name": "LayoutModel",
          "model_module_version": "1.2.0",
          "state": {
            "_model_module": "@jupyter-widgets/base",
            "_model_module_version": "1.2.0",
            "_model_name": "LayoutModel",
            "_view_count": null,
            "_view_module": "@jupyter-widgets/base",
            "_view_module_version": "1.2.0",
            "_view_name": "LayoutView",
            "align_content": null,
            "align_items": null,
            "align_self": null,
            "border": null,
            "bottom": null,
            "display": null,
            "flex": null,
            "flex_flow": null,
            "grid_area": null,
            "grid_auto_columns": null,
            "grid_auto_flow": null,
            "grid_auto_rows": null,
            "grid_column": null,
            "grid_gap": null,
            "grid_row": null,
            "grid_template_areas": null,
            "grid_template_columns": null,
            "grid_template_rows": null,
            "height": null,
            "justify_content": null,
            "justify_items": null,
            "left": null,
            "margin": null,
            "max_height": null,
            "max_width": null,
            "min_height": null,
            "min_width": null,
            "object_fit": null,
            "object_position": null,
            "order": null,
            "overflow": null,
            "overflow_x": null,
            "overflow_y": null,
            "padding": null,
            "right": null,
            "top": null,
            "visibility": null,
            "width": null
          }
        },
        "acb9bad3a99c4fbd8aa60b98cad8d8b2": {
          "model_module": "@jupyter-widgets/base",
          "model_name": "LayoutModel",
          "model_module_version": "1.2.0",
          "state": {
            "_model_module": "@jupyter-widgets/base",
            "_model_module_version": "1.2.0",
            "_model_name": "LayoutModel",
            "_view_count": null,
            "_view_module": "@jupyter-widgets/base",
            "_view_module_version": "1.2.0",
            "_view_name": "LayoutView",
            "align_content": null,
            "align_items": null,
            "align_self": null,
            "border": null,
            "bottom": null,
            "display": null,
            "flex": null,
            "flex_flow": null,
            "grid_area": null,
            "grid_auto_columns": null,
            "grid_auto_flow": null,
            "grid_auto_rows": null,
            "grid_column": null,
            "grid_gap": null,
            "grid_row": null,
            "grid_template_areas": null,
            "grid_template_columns": null,
            "grid_template_rows": null,
            "height": null,
            "justify_content": null,
            "justify_items": null,
            "left": null,
            "margin": null,
            "max_height": null,
            "max_width": null,
            "min_height": null,
            "min_width": null,
            "object_fit": null,
            "object_position": null,
            "order": null,
            "overflow": null,
            "overflow_x": null,
            "overflow_y": null,
            "padding": null,
            "right": null,
            "top": null,
            "visibility": null,
            "width": null
          }
        },
        "d3e2977b01c340f399481c13893a3c3d": {
          "model_module": "@jupyter-widgets/controls",
          "model_name": "DescriptionStyleModel",
          "model_module_version": "1.5.0",
          "state": {
            "_model_module": "@jupyter-widgets/controls",
            "_model_module_version": "1.5.0",
            "_model_name": "DescriptionStyleModel",
            "_view_count": null,
            "_view_module": "@jupyter-widgets/base",
            "_view_module_version": "1.2.0",
            "_view_name": "StyleView",
            "description_width": ""
          }
        },
        "0dabb686d629494ca14bff51bba9f99b": {
          "model_module": "@jupyter-widgets/base",
          "model_name": "LayoutModel",
          "model_module_version": "1.2.0",
          "state": {
            "_model_module": "@jupyter-widgets/base",
            "_model_module_version": "1.2.0",
            "_model_name": "LayoutModel",
            "_view_count": null,
            "_view_module": "@jupyter-widgets/base",
            "_view_module_version": "1.2.0",
            "_view_name": "LayoutView",
            "align_content": null,
            "align_items": null,
            "align_self": null,
            "border": null,
            "bottom": null,
            "display": null,
            "flex": null,
            "flex_flow": null,
            "grid_area": null,
            "grid_auto_columns": null,
            "grid_auto_flow": null,
            "grid_auto_rows": null,
            "grid_column": null,
            "grid_gap": null,
            "grid_row": null,
            "grid_template_areas": null,
            "grid_template_columns": null,
            "grid_template_rows": null,
            "height": null,
            "justify_content": null,
            "justify_items": null,
            "left": null,
            "margin": null,
            "max_height": null,
            "max_width": null,
            "min_height": null,
            "min_width": null,
            "object_fit": null,
            "object_position": null,
            "order": null,
            "overflow": null,
            "overflow_x": null,
            "overflow_y": null,
            "padding": null,
            "right": null,
            "top": null,
            "visibility": null,
            "width": null
          }
        },
        "0aa3bca2ec6140e5a60dbc7ce15c83e8": {
          "model_module": "@jupyter-widgets/controls",
          "model_name": "ProgressStyleModel",
          "model_module_version": "1.5.0",
          "state": {
            "_model_module": "@jupyter-widgets/controls",
            "_model_module_version": "1.5.0",
            "_model_name": "ProgressStyleModel",
            "_view_count": null,
            "_view_module": "@jupyter-widgets/base",
            "_view_module_version": "1.2.0",
            "_view_name": "StyleView",
            "bar_color": null,
            "description_width": ""
          }
        },
        "dae85453f8b843c6ad2d5ce99e3852bb": {
          "model_module": "@jupyter-widgets/base",
          "model_name": "LayoutModel",
          "model_module_version": "1.2.0",
          "state": {
            "_model_module": "@jupyter-widgets/base",
            "_model_module_version": "1.2.0",
            "_model_name": "LayoutModel",
            "_view_count": null,
            "_view_module": "@jupyter-widgets/base",
            "_view_module_version": "1.2.0",
            "_view_name": "LayoutView",
            "align_content": null,
            "align_items": null,
            "align_self": null,
            "border": null,
            "bottom": null,
            "display": null,
            "flex": null,
            "flex_flow": null,
            "grid_area": null,
            "grid_auto_columns": null,
            "grid_auto_flow": null,
            "grid_auto_rows": null,
            "grid_column": null,
            "grid_gap": null,
            "grid_row": null,
            "grid_template_areas": null,
            "grid_template_columns": null,
            "grid_template_rows": null,
            "height": null,
            "justify_content": null,
            "justify_items": null,
            "left": null,
            "margin": null,
            "max_height": null,
            "max_width": null,
            "min_height": null,
            "min_width": null,
            "object_fit": null,
            "object_position": null,
            "order": null,
            "overflow": null,
            "overflow_x": null,
            "overflow_y": null,
            "padding": null,
            "right": null,
            "top": null,
            "visibility": null,
            "width": null
          }
        },
        "52ad7b616123494cb4d310ff32e08cf2": {
          "model_module": "@jupyter-widgets/controls",
          "model_name": "DescriptionStyleModel",
          "model_module_version": "1.5.0",
          "state": {
            "_model_module": "@jupyter-widgets/controls",
            "_model_module_version": "1.5.0",
            "_model_name": "DescriptionStyleModel",
            "_view_count": null,
            "_view_module": "@jupyter-widgets/base",
            "_view_module_version": "1.2.0",
            "_view_name": "StyleView",
            "description_width": ""
          }
        },
        "8cf9f31de9644f39b44ebacab8d98fbe": {
          "model_module": "@jupyter-widgets/controls",
          "model_name": "HBoxModel",
          "model_module_version": "1.5.0",
          "state": {
            "_dom_classes": [],
            "_model_module": "@jupyter-widgets/controls",
            "_model_module_version": "1.5.0",
            "_model_name": "HBoxModel",
            "_view_count": null,
            "_view_module": "@jupyter-widgets/controls",
            "_view_module_version": "1.5.0",
            "_view_name": "HBoxView",
            "box_style": "",
            "children": [
              "IPY_MODEL_fe47096e5b33481d950d0642f539a30e",
              "IPY_MODEL_12318b6fd2904b778ecdc71bb4a70f34",
              "IPY_MODEL_3ec71bd420e0454981e77c1b5d823943"
            ],
            "layout": "IPY_MODEL_95bda7c1bff84fe4b11c7a3bef86046a"
          }
        },
        "fe47096e5b33481d950d0642f539a30e": {
          "model_module": "@jupyter-widgets/controls",
          "model_name": "HTMLModel",
          "model_module_version": "1.5.0",
          "state": {
            "_dom_classes": [],
            "_model_module": "@jupyter-widgets/controls",
            "_model_module_version": "1.5.0",
            "_model_name": "HTMLModel",
            "_view_count": null,
            "_view_module": "@jupyter-widgets/controls",
            "_view_module_version": "1.5.0",
            "_view_name": "HTMLView",
            "description": "",
            "description_tooltip": null,
            "layout": "IPY_MODEL_1a09ab92a7684143a7480f42532c181b",
            "placeholder": "​",
            "style": "IPY_MODEL_bdd0d932111f4782a1b1fec03d169efb",
            "value": "100%"
          }
        },
        "12318b6fd2904b778ecdc71bb4a70f34": {
          "model_module": "@jupyter-widgets/controls",
          "model_name": "FloatProgressModel",
          "model_module_version": "1.5.0",
          "state": {
            "_dom_classes": [],
            "_model_module": "@jupyter-widgets/controls",
            "_model_module_version": "1.5.0",
            "_model_name": "FloatProgressModel",
            "_view_count": null,
            "_view_module": "@jupyter-widgets/controls",
            "_view_module_version": "1.5.0",
            "_view_name": "ProgressView",
            "bar_style": "success",
            "description": "",
            "description_tooltip": null,
            "layout": "IPY_MODEL_ba521b86e516478098adaaf0e14f793b",
            "max": 11,
            "min": 0,
            "orientation": "horizontal",
            "style": "IPY_MODEL_a0c2da56e5ef4eaf9d42cff82f9034a4",
            "value": 11
          }
        },
        "3ec71bd420e0454981e77c1b5d823943": {
          "model_module": "@jupyter-widgets/controls",
          "model_name": "HTMLModel",
          "model_module_version": "1.5.0",
          "state": {
            "_dom_classes": [],
            "_model_module": "@jupyter-widgets/controls",
            "_model_module_version": "1.5.0",
            "_model_name": "HTMLModel",
            "_view_count": null,
            "_view_module": "@jupyter-widgets/controls",
            "_view_module_version": "1.5.0",
            "_view_name": "HTMLView",
            "description": "",
            "description_tooltip": null,
            "layout": "IPY_MODEL_7c315ef6296e43f785411ace0a2eecfc",
            "placeholder": "​",
            "style": "IPY_MODEL_0f9ce356497840f69202242539d62311",
            "value": " 11/11 [00:29&lt;00:00,  2.39s/it]"
          }
        },
        "95bda7c1bff84fe4b11c7a3bef86046a": {
          "model_module": "@jupyter-widgets/base",
          "model_name": "LayoutModel",
          "model_module_version": "1.2.0",
          "state": {
            "_model_module": "@jupyter-widgets/base",
            "_model_module_version": "1.2.0",
            "_model_name": "LayoutModel",
            "_view_count": null,
            "_view_module": "@jupyter-widgets/base",
            "_view_module_version": "1.2.0",
            "_view_name": "LayoutView",
            "align_content": null,
            "align_items": null,
            "align_self": null,
            "border": null,
            "bottom": null,
            "display": null,
            "flex": null,
            "flex_flow": null,
            "grid_area": null,
            "grid_auto_columns": null,
            "grid_auto_flow": null,
            "grid_auto_rows": null,
            "grid_column": null,
            "grid_gap": null,
            "grid_row": null,
            "grid_template_areas": null,
            "grid_template_columns": null,
            "grid_template_rows": null,
            "height": null,
            "justify_content": null,
            "justify_items": null,
            "left": null,
            "margin": null,
            "max_height": null,
            "max_width": null,
            "min_height": null,
            "min_width": null,
            "object_fit": null,
            "object_position": null,
            "order": null,
            "overflow": null,
            "overflow_x": null,
            "overflow_y": null,
            "padding": null,
            "right": null,
            "top": null,
            "visibility": null,
            "width": null
          }
        },
        "1a09ab92a7684143a7480f42532c181b": {
          "model_module": "@jupyter-widgets/base",
          "model_name": "LayoutModel",
          "model_module_version": "1.2.0",
          "state": {
            "_model_module": "@jupyter-widgets/base",
            "_model_module_version": "1.2.0",
            "_model_name": "LayoutModel",
            "_view_count": null,
            "_view_module": "@jupyter-widgets/base",
            "_view_module_version": "1.2.0",
            "_view_name": "LayoutView",
            "align_content": null,
            "align_items": null,
            "align_self": null,
            "border": null,
            "bottom": null,
            "display": null,
            "flex": null,
            "flex_flow": null,
            "grid_area": null,
            "grid_auto_columns": null,
            "grid_auto_flow": null,
            "grid_auto_rows": null,
            "grid_column": null,
            "grid_gap": null,
            "grid_row": null,
            "grid_template_areas": null,
            "grid_template_columns": null,
            "grid_template_rows": null,
            "height": null,
            "justify_content": null,
            "justify_items": null,
            "left": null,
            "margin": null,
            "max_height": null,
            "max_width": null,
            "min_height": null,
            "min_width": null,
            "object_fit": null,
            "object_position": null,
            "order": null,
            "overflow": null,
            "overflow_x": null,
            "overflow_y": null,
            "padding": null,
            "right": null,
            "top": null,
            "visibility": null,
            "width": null
          }
        },
        "bdd0d932111f4782a1b1fec03d169efb": {
          "model_module": "@jupyter-widgets/controls",
          "model_name": "DescriptionStyleModel",
          "model_module_version": "1.5.0",
          "state": {
            "_model_module": "@jupyter-widgets/controls",
            "_model_module_version": "1.5.0",
            "_model_name": "DescriptionStyleModel",
            "_view_count": null,
            "_view_module": "@jupyter-widgets/base",
            "_view_module_version": "1.2.0",
            "_view_name": "StyleView",
            "description_width": ""
          }
        },
        "ba521b86e516478098adaaf0e14f793b": {
          "model_module": "@jupyter-widgets/base",
          "model_name": "LayoutModel",
          "model_module_version": "1.2.0",
          "state": {
            "_model_module": "@jupyter-widgets/base",
            "_model_module_version": "1.2.0",
            "_model_name": "LayoutModel",
            "_view_count": null,
            "_view_module": "@jupyter-widgets/base",
            "_view_module_version": "1.2.0",
            "_view_name": "LayoutView",
            "align_content": null,
            "align_items": null,
            "align_self": null,
            "border": null,
            "bottom": null,
            "display": null,
            "flex": null,
            "flex_flow": null,
            "grid_area": null,
            "grid_auto_columns": null,
            "grid_auto_flow": null,
            "grid_auto_rows": null,
            "grid_column": null,
            "grid_gap": null,
            "grid_row": null,
            "grid_template_areas": null,
            "grid_template_columns": null,
            "grid_template_rows": null,
            "height": null,
            "justify_content": null,
            "justify_items": null,
            "left": null,
            "margin": null,
            "max_height": null,
            "max_width": null,
            "min_height": null,
            "min_width": null,
            "object_fit": null,
            "object_position": null,
            "order": null,
            "overflow": null,
            "overflow_x": null,
            "overflow_y": null,
            "padding": null,
            "right": null,
            "top": null,
            "visibility": null,
            "width": null
          }
        },
        "a0c2da56e5ef4eaf9d42cff82f9034a4": {
          "model_module": "@jupyter-widgets/controls",
          "model_name": "ProgressStyleModel",
          "model_module_version": "1.5.0",
          "state": {
            "_model_module": "@jupyter-widgets/controls",
            "_model_module_version": "1.5.0",
            "_model_name": "ProgressStyleModel",
            "_view_count": null,
            "_view_module": "@jupyter-widgets/base",
            "_view_module_version": "1.2.0",
            "_view_name": "StyleView",
            "bar_color": null,
            "description_width": ""
          }
        },
        "7c315ef6296e43f785411ace0a2eecfc": {
          "model_module": "@jupyter-widgets/base",
          "model_name": "LayoutModel",
          "model_module_version": "1.2.0",
          "state": {
            "_model_module": "@jupyter-widgets/base",
            "_model_module_version": "1.2.0",
            "_model_name": "LayoutModel",
            "_view_count": null,
            "_view_module": "@jupyter-widgets/base",
            "_view_module_version": "1.2.0",
            "_view_name": "LayoutView",
            "align_content": null,
            "align_items": null,
            "align_self": null,
            "border": null,
            "bottom": null,
            "display": null,
            "flex": null,
            "flex_flow": null,
            "grid_area": null,
            "grid_auto_columns": null,
            "grid_auto_flow": null,
            "grid_auto_rows": null,
            "grid_column": null,
            "grid_gap": null,
            "grid_row": null,
            "grid_template_areas": null,
            "grid_template_columns": null,
            "grid_template_rows": null,
            "height": null,
            "justify_content": null,
            "justify_items": null,
            "left": null,
            "margin": null,
            "max_height": null,
            "max_width": null,
            "min_height": null,
            "min_width": null,
            "object_fit": null,
            "object_position": null,
            "order": null,
            "overflow": null,
            "overflow_x": null,
            "overflow_y": null,
            "padding": null,
            "right": null,
            "top": null,
            "visibility": null,
            "width": null
          }
        },
        "0f9ce356497840f69202242539d62311": {
          "model_module": "@jupyter-widgets/controls",
          "model_name": "DescriptionStyleModel",
          "model_module_version": "1.5.0",
          "state": {
            "_model_module": "@jupyter-widgets/controls",
            "_model_module_version": "1.5.0",
            "_model_name": "DescriptionStyleModel",
            "_view_count": null,
            "_view_module": "@jupyter-widgets/base",
            "_view_module_version": "1.2.0",
            "_view_name": "StyleView",
            "description_width": ""
          }
        }
      }
    }
  },
  "nbformat": 4,
  "nbformat_minor": 0
}