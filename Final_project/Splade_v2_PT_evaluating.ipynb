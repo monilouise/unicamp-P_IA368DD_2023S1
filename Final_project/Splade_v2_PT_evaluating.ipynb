{
  "cells": [
    {
      "cell_type": "markdown",
      "metadata": {
        "id": "zsflL3Q_CVi3"
      },
      "source": [
        "# SPLADE for Portuguese\n",
        "\n",
        "Inspired by https://github.com/naver/splade"
      ]
    },
    {
      "cell_type": "code",
      "source": [
        "!nvidia-smi"
      ],
      "metadata": {
        "colab": {
          "base_uri": "https://localhost:8080/"
        },
        "id": "bEPElS24KdR4",
        "outputId": "4418d8dc-19bb-464c-dceb-a3766cccef62"
      },
      "execution_count": 1,
      "outputs": [
        {
          "output_type": "stream",
          "name": "stdout",
          "text": [
            "Thu Jun 22 21:03:54 2023       \n",
            "+-----------------------------------------------------------------------------+\n",
            "| NVIDIA-SMI 525.85.12    Driver Version: 525.85.12    CUDA Version: 12.0     |\n",
            "|-------------------------------+----------------------+----------------------+\n",
            "| GPU  Name        Persistence-M| Bus-Id        Disp.A | Volatile Uncorr. ECC |\n",
            "| Fan  Temp  Perf  Pwr:Usage/Cap|         Memory-Usage | GPU-Util  Compute M. |\n",
            "|                               |                      |               MIG M. |\n",
            "|===============================+======================+======================|\n",
            "|   0  NVIDIA A100-SXM...  Off  | 00000000:00:04.0 Off |                    0 |\n",
            "| N/A   39C    P0    46W / 400W |      0MiB / 40960MiB |      0%      Default |\n",
            "|                               |                      |             Disabled |\n",
            "+-------------------------------+----------------------+----------------------+\n",
            "                                                                               \n",
            "+-----------------------------------------------------------------------------+\n",
            "| Processes:                                                                  |\n",
            "|  GPU   GI   CI        PID   Type   Process name                  GPU Memory |\n",
            "|        ID   ID                                                   Usage      |\n",
            "|=============================================================================|\n",
            "|  No running processes found                                                 |\n",
            "+-----------------------------------------------------------------------------+\n"
          ]
        }
      ]
    },
    {
      "cell_type": "code",
      "execution_count": 2,
      "metadata": {
        "colab": {
          "base_uri": "https://localhost:8080/"
        },
        "id": "5j0dyknU94vp",
        "outputId": "a11ff90a-7401-471b-f848-c4099408ed58"
      },
      "outputs": [
        {
          "output_type": "stream",
          "name": "stdout",
          "text": [
            "Mounted at /content/gdrive\n"
          ]
        }
      ],
      "source": [
        "from google.colab import drive\n",
        "drive.mount('/content/gdrive', force_remount=True)"
      ]
    },
    {
      "cell_type": "code",
      "execution_count": 3,
      "metadata": {
        "id": "ySF_m5RFZ_6w"
      },
      "outputs": [],
      "source": [
        "user = \"monique\" # monique\n",
        "if user == \"monique\":\n",
        "    main_dir = '/content/gdrive/MyDrive/Unicamp-projeto-final/'\n",
        "else:\n",
        "    main_dir = '/content/gdrive/MyDrive/Unicamp/IA368-DD/'"
      ]
    },
    {
      "cell_type": "markdown",
      "metadata": {
        "id": "a2Mo0L8-CeeB"
      },
      "source": [
        "## Libraries installation"
      ]
    },
    {
      "cell_type": "code",
      "execution_count": 4,
      "metadata": {
        "colab": {
          "base_uri": "https://localhost:8080/"
        },
        "id": "pa6BCOi6t47k",
        "outputId": "17566f01-0434-424a-ffaf-99d5216b4bfa"
      },
      "outputs": [
        {
          "output_type": "stream",
          "name": "stdout",
          "text": [
            "Looking in indexes: https://pypi.org/simple, https://us-python.pkg.dev/colab-wheels/public/simple/\n",
            "Collecting pytrec_eval\n",
            "  Downloading pytrec_eval-0.5.tar.gz (15 kB)\n",
            "  Preparing metadata (setup.py) ... \u001b[?25l\u001b[?25hdone\n",
            "Building wheels for collected packages: pytrec_eval\n",
            "  Building wheel for pytrec_eval (setup.py) ... \u001b[?25l\u001b[?25hdone\n",
            "  Created wheel for pytrec_eval: filename=pytrec_eval-0.5-cp310-cp310-linux_x86_64.whl size=293472 sha256=7f103a0b37ded41864065451b60f3aaaa0354ba480bc6480073d34bd87a28796\n",
            "  Stored in directory: /root/.cache/pip/wheels/51/3a/cd/dcc1ddfc763987d5cb237165d8ac249aa98a23ab90f67317a8\n",
            "Successfully built pytrec_eval\n",
            "Installing collected packages: pytrec_eval\n",
            "Successfully installed pytrec_eval-0.5\n",
            "  Preparing metadata (setup.py) ... \u001b[?25l\u001b[?25hdone\n",
            "\u001b[2K     \u001b[90m━━━━━━━━━━━━━━━━━━━━━━━━━━━━━━━━━━━━━━━━\u001b[0m \u001b[32m4.0/4.0 MB\u001b[0m \u001b[31m76.6 MB/s\u001b[0m eta \u001b[36m0:00:00\u001b[0m\n",
            "\u001b[2K     \u001b[90m━━━━━━━━━━━━━━━━━━━━━━━━━━━━━━━━━━━━━━━━\u001b[0m \u001b[32m74.7/74.7 kB\u001b[0m \u001b[31m10.2 MB/s\u001b[0m eta \u001b[36m0:00:00\u001b[0m\n",
            "\u001b[2K     \u001b[90m━━━━━━━━━━━━━━━━━━━━━━━━━━━━━━━━━━━━━━\u001b[0m \u001b[32m112.4/112.4 kB\u001b[0m \u001b[31m16.2 MB/s\u001b[0m eta \u001b[36m0:00:00\u001b[0m\n",
            "\u001b[?25h  Preparing metadata (setup.py) ... \u001b[?25l\u001b[?25hdone\n",
            "\u001b[2K     \u001b[90m━━━━━━━━━━━━━━━━━━━━━━━━━━━━━━━━━━━━━━\u001b[0m \u001b[32m236.8/236.8 kB\u001b[0m \u001b[31m32.1 MB/s\u001b[0m eta \u001b[36m0:00:00\u001b[0m\n",
            "\u001b[2K     \u001b[90m━━━━━━━━━━━━━━━━━━━━━━━━━━━━━━━━━━━━━━\u001b[0m \u001b[32m880.6/880.6 kB\u001b[0m \u001b[31m70.1 MB/s\u001b[0m eta \u001b[36m0:00:00\u001b[0m\n",
            "\u001b[?25h  Preparing metadata (setup.py) ... \u001b[?25l\u001b[?25hdone\n",
            "\u001b[2K     \u001b[90m━━━━━━━━━━━━━━━━━━━━━━━━━━━━━━━━━━━━━━━━\u001b[0m \u001b[32m6.6/6.6 MB\u001b[0m \u001b[31m83.5 MB/s\u001b[0m eta \u001b[36m0:00:00\u001b[0m\n",
            "\u001b[?25h  Building wheel for SPLADE (setup.py) ... \u001b[?25l\u001b[?25hdone\n",
            "  Building wheel for antlr4-python3-runtime (setup.py) ... \u001b[?25l\u001b[?25hdone\n",
            "  Building wheel for sacremoses (setup.py) ... \u001b[?25l\u001b[?25hdone\n",
            "Looking in indexes: https://pypi.org/simple, https://us-python.pkg.dev/colab-wheels/public/simple/\n",
            "Collecting hydra-core\n",
            "  Downloading hydra_core-1.3.2-py3-none-any.whl (154 kB)\n",
            "\u001b[2K     \u001b[90m━━━━━━━━━━━━━━━━━━━━━━━━━━━━━━━━━━━━━━\u001b[0m \u001b[32m154.5/154.5 kB\u001b[0m \u001b[31m10.6 MB/s\u001b[0m eta \u001b[36m0:00:00\u001b[0m\n",
            "\u001b[?25hCollecting omegaconf<2.4,>=2.2 (from hydra-core)\n",
            "  Downloading omegaconf-2.3.0-py3-none-any.whl (79 kB)\n",
            "\u001b[2K     \u001b[90m━━━━━━━━━━━━━━━━━━━━━━━━━━━━━━━━━━━━━━━━\u001b[0m \u001b[32m79.5/79.5 kB\u001b[0m \u001b[31m10.4 MB/s\u001b[0m eta \u001b[36m0:00:00\u001b[0m\n",
            "\u001b[?25hCollecting antlr4-python3-runtime==4.9.* (from hydra-core)\n",
            "  Downloading antlr4-python3-runtime-4.9.3.tar.gz (117 kB)\n",
            "\u001b[2K     \u001b[90m━━━━━━━━━━━━━━━━━━━━━━━━━━━━━━━━━━━━━━\u001b[0m \u001b[32m117.0/117.0 kB\u001b[0m \u001b[31m16.9 MB/s\u001b[0m eta \u001b[36m0:00:00\u001b[0m\n",
            "\u001b[?25h  Preparing metadata (setup.py) ... \u001b[?25l\u001b[?25hdone\n",
            "Requirement already satisfied: packaging in /usr/local/lib/python3.10/dist-packages (from hydra-core) (23.1)\n",
            "Requirement already satisfied: PyYAML>=5.1.0 in /usr/local/lib/python3.10/dist-packages (from omegaconf<2.4,>=2.2->hydra-core) (6.0)\n",
            "Building wheels for collected packages: antlr4-python3-runtime\n",
            "  Building wheel for antlr4-python3-runtime (setup.py) ... \u001b[?25l\u001b[?25hdone\n",
            "  Created wheel for antlr4-python3-runtime: filename=antlr4_python3_runtime-4.9.3-py3-none-any.whl size=144554 sha256=5abaac007f1781ed706f52f53319d3441b0bef69c9159937c523614787d69675\n",
            "  Stored in directory: /root/.cache/pip/wheels/12/93/dd/1f6a127edc45659556564c5730f6d4e300888f4bca2d4c5a88\n",
            "Successfully built antlr4-python3-runtime\n",
            "Installing collected packages: antlr4-python3-runtime, omegaconf, hydra-core\n",
            "  Attempting uninstall: antlr4-python3-runtime\n",
            "    Found existing installation: antlr4-python3-runtime 4.8\n",
            "    Uninstalling antlr4-python3-runtime-4.8:\n",
            "      Successfully uninstalled antlr4-python3-runtime-4.8\n",
            "  Attempting uninstall: omegaconf\n",
            "    Found existing installation: omegaconf 2.1.2\n",
            "    Uninstalling omegaconf-2.1.2:\n",
            "      Successfully uninstalled omegaconf-2.1.2\n",
            "\u001b[31mERROR: pip's dependency resolver does not currently take into account all the packages that are installed. This behaviour is the source of the following dependency conflicts.\n",
            "splade 2.1 requires omegaconf==2.1.2, but you have omegaconf 2.3.0 which is incompatible.\u001b[0m\u001b[31m\n",
            "\u001b[0mSuccessfully installed antlr4-python3-runtime-4.9.3 hydra-core-1.3.2 omegaconf-2.3.0\n"
          ]
        },
        {
          "output_type": "execute_result",
          "data": {
            "text/plain": []
          },
          "metadata": {},
          "execution_count": 4
        }
      ],
      "source": [
        "%%shell\n",
        "pip install pytrec_eval\n",
        "pip install git+https://github.com/naver/splade.git -q\n",
        "pip install hydra-core --upgrade"
      ]
    },
    {
      "cell_type": "code",
      "execution_count": 5,
      "metadata": {
        "colab": {
          "base_uri": "https://localhost:8080/"
        },
        "id": "85TTGLDI2J9V",
        "outputId": "6fa6c838-fbeb-4388-d9d8-4114e38c0a9c"
      },
      "outputs": [
        {
          "output_type": "execute_result",
          "data": {
            "text/plain": [
              "{'11pt_avg',\n",
              " 'G',\n",
              " 'P',\n",
              " 'Rndcg',\n",
              " 'Rprec',\n",
              " 'Rprec_mult',\n",
              " 'binG',\n",
              " 'bpref',\n",
              " 'gm_bpref',\n",
              " 'gm_map',\n",
              " 'infAP',\n",
              " 'iprec_at_recall',\n",
              " 'map',\n",
              " 'map_cut',\n",
              " 'ndcg',\n",
              " 'ndcg_cut',\n",
              " 'ndcg_rel',\n",
              " 'num_nonrel_judged_ret',\n",
              " 'num_q',\n",
              " 'num_rel',\n",
              " 'num_rel_ret',\n",
              " 'num_ret',\n",
              " 'recall',\n",
              " 'recip_rank',\n",
              " 'relative_P',\n",
              " 'relstring',\n",
              " 'runid',\n",
              " 'set_F',\n",
              " 'set_P',\n",
              " 'set_map',\n",
              " 'set_recall',\n",
              " 'set_relative_P',\n",
              " 'success',\n",
              " 'utility'}"
            ]
          },
          "metadata": {},
          "execution_count": 5
        }
      ],
      "source": [
        "import pytrec_eval\n",
        "pytrec_eval.supported_measures"
      ]
    },
    {
      "cell_type": "markdown",
      "metadata": {
        "id": "acnQ1iO-yJ9O"
      },
      "source": [
        "## Copying data files to the expected data structure"
      ]
    },
    {
      "cell_type": "code",
      "execution_count": 6,
      "metadata": {
        "colab": {
          "base_uri": "https://localhost:8080/"
        },
        "id": "DWwZtTkU-CnZ",
        "outputId": "4bffa1b6-b7e9-4f15-e6cb-0700291aa779"
      },
      "outputs": [
        {
          "output_type": "stream",
          "name": "stdout",
          "text": [
            "Cloning into 'splade'...\n",
            "remote: Enumerating objects: 667, done.\u001b[K\n",
            "remote: Counting objects: 100% (200/200), done.\u001b[K\n",
            "remote: Compressing objects: 100% (119/119), done.\u001b[K\n",
            "remote: Total 667 (delta 109), reused 117 (delta 71), pack-reused 467\u001b[K\n",
            "Receiving objects: 100% (667/667), 3.13 MiB | 12.89 MiB/s, done.\n",
            "Resolving deltas: 100% (351/351), done.\n"
          ]
        }
      ],
      "source": [
        "!git clone https://github.com/naver/splade.git"
      ]
    },
    {
      "cell_type": "code",
      "execution_count": 7,
      "metadata": {
        "colab": {
          "base_uri": "https://localhost:8080/"
        },
        "id": "J0v69Jx67pBn",
        "outputId": "76bb2dfb-d581-419e-f671-84560e82001d"
      },
      "outputs": [
        {
          "output_type": "stream",
          "name": "stdout",
          "text": [
            "Archive:  data.zip\n",
            "   creating: content/data/\n",
            "   creating: content/data/m_marco/\n",
            "  inflating: content/data/m_marco/queries_train.tsv  \n",
            "   creating: content/data/m_marco/.ipynb_checkpoints/\n",
            "  inflating: content/data/m_marco/triplets.tsv  \n",
            "  inflating: content/data/m_marco/queries_dev.full.tsv  \n",
            "  inflating: content/data/m_marco/queries_dev.tsv  \n",
            "  inflating: content/data/m_marco/corpus.tsv  \n",
            "   creating: content/data/m_robust/\n",
            "  inflating: content/data/m_robust/qrels.robust04.txt  \n",
            "   creating: content/data/m_robust/.ipynb_checkpoints/\n",
            "  inflating: content/data/m_robust/queries.tsv  \n",
            "  inflating: content/data/m_robust/corpus.tsv  \n"
          ]
        }
      ],
      "source": [
        "import shutil\n",
        "import os\n",
        "\n",
        "shutil.copyfile(f\"{main_dir}Projeto Final/data.zip\", \"/content/data.zip\")\n",
        "!unzip data.zip"
      ]
    },
    {
      "cell_type": "code",
      "execution_count": 8,
      "metadata": {
        "id": "0PEy0haL_COt"
      },
      "outputs": [],
      "source": [
        "!cp \"{main_dir}Projeto Final/Experimentos/splade/conf/config_splade_pt.yaml\" splade/conf/"
      ]
    },
    {
      "cell_type": "code",
      "execution_count": 9,
      "metadata": {
        "id": "KeTnkRLBTlF_"
      },
      "outputs": [],
      "source": [
        "!cp \"{main_dir}Projeto Final/Experimentos/splade/conf/train/data/pt.yaml\" splade/conf/train/data"
      ]
    },
    {
      "cell_type": "markdown",
      "metadata": {
        "id": "XBe-Bg08dcqh"
      },
      "source": [
        "### Copying full collection\n",
        "\n",
        "For indexing we'll validate the model on mROBUST dataset.  So, its corpus should be used as full collection."
      ]
    },
    {
      "cell_type": "code",
      "execution_count": 10,
      "metadata": {
        "id": "tkjD8uiLdi8X"
      },
      "outputs": [],
      "source": [
        "!mkdir -p splade/data/pt/full_collection"
      ]
    },
    {
      "cell_type": "markdown",
      "source": [
        "Preprocesses mROBUST dataset in order to replace alphanumerical IDs with integer ones."
      ],
      "metadata": {
        "id": "aS12F1lTpaXl"
      }
    },
    {
      "cell_type": "code",
      "source": [
        "import pandas as pd\n",
        "\n",
        "#df_mrobust_corpus = pd.read_csv(\"content/data/m_robust/corpus.tsv\", sep='\\t', header=None)\n",
        "#df_mrobust_corpus.head()\n",
        "map_id_to_text = dict()\n",
        "\n",
        "with open(\"content/data/m_robust/corpus.tsv\", 'r') as file:\n",
        "  for line in file:\n",
        "    fields = line.split('\\t')\n",
        "    id = fields[0]\n",
        "    text = fields[1]\n",
        "    map_id_to_text[id] = text"
      ],
      "metadata": {
        "id": "RXnVTQJppm9U"
      },
      "execution_count": 11,
      "outputs": []
    },
    {
      "cell_type": "code",
      "source": [
        "doc_ids = map_id_to_text.keys()"
      ],
      "metadata": {
        "id": "JJmvvaxGrXfT"
      },
      "execution_count": 12,
      "outputs": []
    },
    {
      "cell_type": "code",
      "source": [
        "map_id_to_int = {value:index for index, value in enumerate(doc_ids)}\n"
      ],
      "metadata": {
        "id": "HwoFGjKhrho3"
      },
      "execution_count": 19,
      "outputs": []
    },
    {
      "cell_type": "code",
      "source": [
        "map_id_to_int['FT931-12718']"
      ],
      "metadata": {
        "colab": {
          "base_uri": "https://localhost:8080/"
        },
        "id": "KjO0WEuD1Dnk",
        "outputId": "92a91c4e-7865-4c8b-93df-bbff1fd51f11"
      },
      "execution_count": 20,
      "outputs": [
        {
          "output_type": "execute_result",
          "data": {
            "text/plain": [
              "654"
            ]
          },
          "metadata": {},
          "execution_count": 20
        }
      ]
    },
    {
      "cell_type": "code",
      "source": [
        "len(map_id_to_text)"
      ],
      "metadata": {
        "colab": {
          "base_uri": "https://localhost:8080/"
        },
        "id": "W6hnAgIv3JXI",
        "outputId": "c321258d-659c-4ab2-9d89-6b090851c154"
      },
      "execution_count": 21,
      "outputs": [
        {
          "output_type": "execute_result",
          "data": {
            "text/plain": [
              "528032"
            ]
          },
          "metadata": {},
          "execution_count": 21
        }
      ]
    },
    {
      "cell_type": "code",
      "source": [
        "new_map_id_to_text = {map_id_to_int[id]: text for id, text in map_id_to_text.items()}"
      ],
      "metadata": {
        "id": "_c9I3C-lsnQl"
      },
      "execution_count": 22,
      "outputs": []
    },
    {
      "cell_type": "code",
      "source": [
        "len(new_map_id_to_text)"
      ],
      "metadata": {
        "colab": {
          "base_uri": "https://localhost:8080/"
        },
        "id": "NbWhk-pI3hii",
        "outputId": "c372b5ea-8e9b-41dd-be4f-f29b994dc185"
      },
      "execution_count": 23,
      "outputs": [
        {
          "output_type": "execute_result",
          "data": {
            "text/plain": [
              "528032"
            ]
          },
          "metadata": {},
          "execution_count": 23
        }
      ]
    },
    {
      "cell_type": "code",
      "source": [
        "with open('new_corpus.tsv', 'w') as file:\n",
        "  for id, text in new_map_id_to_text.items():\n",
        "    file.write(f\"{id}\\t{text}\")"
      ],
      "metadata": {
        "id": "Rbk8vbMj4I5K"
      },
      "execution_count": 24,
      "outputs": []
    },
    {
      "cell_type": "code",
      "source": [
        "!head content/data/m_robust/corpus.tsv"
      ],
      "metadata": {
        "colab": {
          "base_uri": "https://localhost:8080/"
        },
        "id": "XWmvGWOhxMv-",
        "outputId": "9e5519bb-85d1-4a6a-cb82-7e989f761e78"
      },
      "execution_count": 25,
      "outputs": [
        {
          "output_type": "stream",
          "name": "stdout",
          "text": [
            "FT931-16655\t930105 FT 05 JAN 93 / Redland concorda acordos europeus de 59 milhões de libras REDLAND, o grupo de materiais de construção que pagou 624 milhões de libras em ações pela Steetley no ano passado, arrecadou 100 milhões de libras por meio de alienações. Está reinvestindo 58,6 milhões de libras em suas atividades de azulejos e tijolos na Europa continental. A Redland está formando uma joint venture com a Koramic, uma empresa privada belga, que engloba as fábricas de tijolos das duas empresas na Holanda, Alemanha e Bélgica. A nova empresa será a maior fabricante de tijolos de fachada da Europa continental. Os lucros das atividades combinadas em 1992 teriam sido de 15,9 milhões de libras, dos quais a parte de Redland teria sido de 5,8 milhões de libras. A joint venture 50:50 deterá 70 por cento das atividades combinadas, dando a Redland uma participação econômica de 35 por cento, mas controle conjunto. Redland também receberá 17,3 milhões de libras em dinheiro. A Redland está aumentando sua participação na Coverland, a produtora francesa de telhas, de 43% para 67% ao adquirir parte da participação acionária da St Gobain. Opções para Redland comprar os 33 por cento restantes de St Gobain por 24 milhões de libras foram acordadas. Redland e St Gobain estão subscrevendo cada uma libras 36 milhões de novas ações em Coverland para resgatar libras 72 milhões de dívidas, e Redland está pagando libras esterlinas a St Gobain 12 milhões. Coverland teve um pequeno prejuízo operacional em 1992, mas ganhou 10 milhões de libras em 1990. Braas, a subsidiária alemã de telhas de Redland, está comprando a Dan Tegl, o fabricante dinamarquês de telhas de barro por 10,6 milhões de libras. Ela obteve lucros antes dos impostos de 1,4 milhão de libras esterlinas em 1992. Robert Napier, presidente-executivo da Redland, disse que as vendas foram feitas em bons termos, apesar das atuais difíceis condições de mercado. São eles: Steetley Clay Tiles por Libras 19m, contra ativos líquidos de Libras 17m, para o Grupo Eternit da Bélgica; Steetley Refractories que obteve um lucro antes de impostos de 1,4 milhão de libras em 1992 para JE Baker dos EUA, por 14,3 milhões de libras. Além do dinheiro, a Redland tem um acordo para fornecer matéria-prima para a Baker; A participação de 20 por cento da Redland na Lafarge Platreurope, fabricante de placas de gesso, para a Lafarge Coppee, sua parceira de joint venture, por 41,25 milhões de libras; Construction Jean Bernard, um deficitário grupo francês de engenharia civil por uma quantia nominal; A participação de 50 por cento da Redland na Columbia River Carbonates para seu parceiro de joint venture por Libras 3,8 milhões; Seu negócio de pedreira Waco no Texas por 4,6 milhões de libras. Lex, página 16; Londres SE, Página 34\n",
            "FT931-16656\t930105 FT 05 JAN 93 / Contratos de construção: Carga de trabalho de 6,5 milhões de libras para WSJ (empreiteiros) Os contratos avaliados em 6,5 milhões de libras foram ganhos pela WSJ (CONTRATADA), com sede em Oswestry, na fronteira de Shropshire com o Galês. Em Shropshire, contratos totalizando Libras 3,4 milhões foram firmados e incluem a reforma de Libras 2,4 milhões do centro de natação de Shrewsbury e três esquemas de renovação de habitações totalizando Libras 1 milhão, para clientes Shrewsbury e Atcham Borough Council, Oswestry Borough Council e Wrekin District Council. Em Powys, os projetos incluem; uma nova unidade industrial em Welshpool para o DBRW, avaliada em 1,6 milhões de libras, e a construção de seis bangalôs para o conselho distrital de Montgomeryshire. Outros três projetos em Clwyd, totalizando Libras 1 milhão, são para os seguintes clientes; Clwyd County Council, Wrexham Maelor Borough Council e Delyn Borough Council.\n",
            "FT931-16657\t930105 FT 05 JAN 93 / Empresas em confronto por mudança na Skoda Um SPLIT foi desenvolvido entre a empresa controlada pela Volkswagen que está assumindo as importações de carros Skoda de fabricação tcheca para o Reino Unido e a Skoda (GB), que os tratou para o últimos 27 anos. Skoda (GB), de propriedade da Motokov, a antiga organização de comércio exterior do estado da Tchecoslováquia - ela mesma sendo privatizada - se recusa a permitir que seus 250 concessionários assinem contratos com a nova empresa, Skoda Automobile UK, enquanto as negociações continuam sobre se Skoda (GB) deve continuar a desempenhar um papel operacional na importação e distribuição dos carros. Cerca de 10.000 Skodas são vendidos no Reino Unido a cada ano. David Wilks, de Skoda (GB), disse ontem que a empresa esperava que o centro de importação e preparação que operou por muitos anos em Kings Lynn, Norfolk, continuasse a processar os carros sob contrato para a Skoda Automobile UK. Em vez disso, a VW está planejando estabelecer seus próprios acordos de importação e distribuição, de acordo com sua intenção de expandir muito as vendas da Skoda. Ela espera quadruplicar as vendas - para 40.000 por ano - já em 1996. A VW já tem o controle administrativo da fabricante tcheca e está construindo uma participação de 70 por cento. A Skoda (GB), embora se recuse a liberar os revendedores de seus contratos de franquia, disse que os liberou temporariamente da obrigação de comprar carros exclusivamente da Skoda (GB) - na verdade, permitindo que eles recebam suprimentos da nova empresa enquanto as negociações continuam e quando A Skoda Automobile UK começa a fazer seus próprios envios. Com o mercado de carros novos do Reino Unido ainda em recessão, acredita-se que a maioria dos revendedores tenha estoques suficientes para durar as negociações prolongadas. O esfriamento das relações entre os dois lados é um retrocesso após 13 meses de negociações principalmente amigáveis ​​sobre a transição. Mais de 29 funcionários da Skoda (GB) já foram transferidos para a nova empresa. No entanto, o impasse em torno do centro de importação de Kings Lynn fez com que 44 pessoas fossem despedidas lá. A Skoda Automobile UK formalmente assumiu como importadora do Reino Unido em 1º de janeiro e é uma subsidiária integral da Skoda Automobilova. A VW já detém 31 por cento, com o saldo nas mãos do governo tcheco. Seu diretor administrativo, Sr. Robin Woolcock, é um ex-diretor administrativo da MAN Volkswagen Truck and Bus, o importador do Reino Unido de veículos comerciais Volkswagen e MAN. O Sr. Woolcock tem gerido as negociações com a Skoda (GB) e a criação da nova empresa, que acaba de se instalar em Milton Keynes. O salto esperado nas vendas é baseado em um programa de investimento significativo para veículos Skoda. O programa de DM8 bilhões (Libras 3,3 bilhões) levará a novos modelos e é projetado para mais do que dobrar a capacidade da Skoda para 460.000 carros por ano em meados de 1990.\n",
            "FT931-16658\t930105 FT 05 JAN 93 / Libras 5,5 m para o projeto de armazém de Bristol UNITED MOLASSES vai construir um armazém de 5,5 milhões de libras no Royal Portbury Dock de Bristol, que diz ser o maior da Europa para o manuseio de alimentos para animais e fertilizantes. O armazém é parte de um investimento de 15 milhões de libras esterlinas pela empresa portuária para desenvolver instalações de manuseio para produtos agrícolas e afins. A United Molasses espera que o armazém esteja operando em julho. Inicialmente, ele lidará com soja e glúten de milho e fertilizantes. O Sr. Tim Holderness-Roddam, vice-diretor administrativo da United, disse: 'Esta será a maior e mais moderna instalação de manuseio da Europa, capaz de descarregar navios de até 120.000 toneladas de porte bruto.' United, parte da Tate & amp; O grupo açucareiro Lyle vê o investimento como parte fundamental de sua estratégia para desenvolver o manuseio de subprodutos a granel para a indústria de ração animal.\n",
            "FT931-16659\t930105 FT 05 JAN 93 / Os velhos métodos enfraquecem o apelo a uma nova Ucrânia: Chrystia Freeland e Edward Balls sobre a relutância em reformar UM dos poucos empreendimentos militares-industriais da ex-União Soviética que poderiam fazer uma transição relativamente suave para a economia de mercado é o Negro da Ucrânia Estaleiro do mar em Nikolayev. Mas seu diretor, Yuri Makarov, parece não ter pressa em inaugurar uma nova era. Makarov não está incentivando as empresas ocidentais que desejam fazer pedidos de milhões de dólares de navios petroleiros de casco duplo ao estaleiro. “Os petroleiros são apenas caixas vazias com nada como a sofisticação técnica de um porta-aviões”, diz Makarov, com um aceno desdenhoso em direção aos volumosos petroleiros que podem render 30 milhões de dólares por peça. Em vez disso, com boas lembranças do passado mais glamoroso do estaleiro, ele diz: 'Construir um porta-aviões - agora isso é tecnologia de verdade.' Makarov, um homem corpulento e genial à beira da aposentadoria, acha difícil aceitar que, com poucas perspectivas de ordens militares do governo falido e atormentado pela inflação da Ucrânia, os dias de construção de porta-aviões gigantes acabaram - pelo menos no futuro previsível . Os baixos custos trabalhistas e um aumento na demanda por petroleiros de casco duplo após o derramamento do Exxon Valdez podem apenas tornar possível para o Estaleiro do Mar Negro - em uma encarnação mais enxuta e parcialmente privatizada com um parceiro estrangeiro - ter lucro. O Banco Europeu de Reconstrução e Desenvolvimento está considerando oferecer financiamento e ajuda na reestruturação se o estaleiro transformar suas instalações de produção marítima e de petroleiros em um empreendimento privado separado. O BERD estima que, se o braço privatizado da fábrica vendesse três petroleiros e 2.500 toneladas de correntes marítimas por ano, ele poderia operar lucrativamente, enquanto uma parte maior de sua fábrica fosse convertida para produção não militar. “A conversão militar é uma área prioritária para o BERD”, disse Ron Freeman, primeiro vice-presidente de banco comercial. 'Mas, como você pode ver no projeto Nikolayev, o comprometimento da administração é fundamental antes que qualquer coisa possa acontecer.' O vice-diretor do estaleiro, Boris Goldberg, está ansioso para adotar o plano do BERD, apesar da hostilidade do diretor, e diz que está pronto para demitir até 40 por cento da força de trabalho para tornar a fábrica mais eficiente. Ele tem apoiadores poderosos. O Sr. Anatoli Kinakh, o representante regional do governo da Ucrânia em Nikolayev e um homem de considerável influência no sistema político centralizado da Ucrânia, apóia a privatização parcial e a conversão do estaleiro e insiste que o negócio será levado adiante. O próprio pátio está cheio de pilhas de metal, os restos de um porta-aviões que levou seis anos para ser construído - e seis meses para ser desmontado para sucata. Elevando-se sobre eles está o elegante mas inacabado Variah, o Viking, que estava 65% concluído quando o governo ucraniano decidiu parar de despejar dinheiro em um navio que era improvável que usasse ou vendesse. Uma minoria da força de trabalho está construindo traineiras para as quais não existe mercado, mas a maioria está ociosa e ausente. 'Isso é o que a conversão significa para nós', diz Makarov enquanto caminha pelo esqueleto enferrujado e abandonado do Variah. \"Tudo está morto.\" Os métodos perdulários de Vitolv Fokin, o recém-deposto primeiro-ministro da Ucrânia, deram ao estaleiro do Mar Negro, como ao restante do pesado setor estatal do país, o luxo da hesitação. Nos últimos seis meses, o Estaleiro do Mar Negro recebeu Rbs 3 bilhões em créditos bancários não garantidos a uma taxa de juros de 5 por cento ao ano, de acordo com funcionários do governo. Esses empréstimos baratos permitem que Makarov pague a seus 25.000 funcionários o generoso salário de Rbs 18.000 por mês e lamentar o fim da guerra fria. A história de Makarov é conhecida na Ucrânia. No ano passado, o governo emitiu mais de Rbs1,100 bilhões em crédito para apoiar o setor estatal ineficiente e evitar falências e demissões politicamente difíceis. O resultado é uma hiperinflação crescente, agora mais de 30% ao mês, que ameaça minar a moeda incipiente da Ucrânia, o cupom. \"Se a emissão líquida de crédito não cessar logo, isso prejudicará seriamente a política de estabilização do governo\", disse Oleh Havrylyshyn, vice-ministro das finanças. Leonid Kuchma, o novo primeiro-ministro da Ucrânia voltado para as reformas, disse que os créditos em grande escala às indústrias estatais devem parar. Mas Havrylyshyn suspeita que em novembro, enquanto Kuchma se recuperava de uma operação na tireoide, o banco central ignorou sua moratória sobre a emissão de novos créditos. Além disso, no mês passado, o governo emitiu mais Rbs229 bilhões em subsídios ao carvão e à agricultura, o que empurrará o déficit orçamentário para 40% do produto interno bruto em 1992. Esses créditos monetários teriam de ser interrompidos se a Ucrânia quisesse controlar a inflação e cumprir as rígidas metas monetárias que o Fundo Monetário Internacional exige como condição para a ajuda ocidental. Autoridades ucranianas dizem que o FMI, que recentemente enviou uma missão a Kiev, quer que a Ucrânia reduza seu déficit orçamentário para 6% do PIB no próximo ano e a inflação para 3% no último trimestre de 1993. Ainda assim, castigado pelas dificuldades políticas provocadas por políticas monetárias ortodoxas na Rússia, os reformadores ucranianos estão preocupados com as consequências políticas de forçar as fábricas estatais a abandonar o vício em subsídios do governo da noite para o dia. Economistas do Banco Mundial na Ucrânia dizem que uma combinação de estabilização, liberalização e ajuda ocidental é necessária para financiar o déficit orçamentário sem imprimir dinheiro. Mas para as 50 ou 60 maiores empresas do país, em particular as grandes deficitárias, o governo deve preparar planos individuais para eliminar gradualmente os subsídios, dando assim ao setor privado tempo para crescer e absorver o desemprego.\n",
            "FT931-16660\t930105 FT 05 JAN 93 / Cenelec: Correção O endereço do Cenelec, Comitê Europeu de Normalização Eletrotécnica, estava incorreto na edição de ontem. É Rue de Stassart 35, B-1050, Bruxelas, Tel (322) 519 6871. CEN, Comitê Europeu de Normalização, está localizado na Rue de Stassart 36, B-1050, Bruxelas, Tel 519 6811.\n",
            "FT931-16661\t930105 FT 05 JAN 93 / Hewlett-Packard: Correção O professor Stephane Garelli, consultor da Hewlett-Packard, foi descrito incorretamente ontem como o principal executivo regional da empresa. Essa posição é ocupada pelo Sr. Franco Mariotti.\n",
            "FT931-16662\t930105 FT 05 JAN 93 / Embalagem encolhe na Alemanha O excesso de embalagens de bens de consumo vendidos na Alemanha desapareceu em grande parte desde que uma lei anti-lixo entrou em vigor em 1º de abril, disse Klaus Topfer, ministro do Meio Ambiente, ontem, relata Reuter de Bonn. De acordo com a lei, os compradores insatisfeitos com embalagens adicionadas para tornar os produtos mais atraentes podem retirar a embalagem na loja e jogá-la ali para ser retirada pelos fabricantes. Quase três quartos de todas as bebidas alemãs agora são vendidas em contêineres reutilizáveis, um ligeiro aumento em relação ao ano passado, disse Topfer.\n",
            "FT931-16663\t930105 FT 05 JAN 93 / Circulation of The European sobe para 200.000 O jornal EUROPEU está prestes a entrar em seu segundo ano de propriedade não pertencente à Maxwell, com vendas de cerca de 200.000. O jornal internacional, que muitos esperavam não sobreviveria por muito tempo à morte de seu fundador e patrono Robert Maxwell, foi relançado sob a propriedade dos irmãos Barclay em 6 de janeiro do ano passado. \"Aumentamos as vendas semana após semana desde então\", disse Charles Garside, editor do semanário, que estava perdendo cerca de 1 milhão de libras por mês com Maxwell. O período de crise do jornal após a morte de Maxwell afetou severamente seu complexo sistema de distribuição, e Garside acredita que o jornal passou de 80.000 para cerca de 200.000 no ano, embora os números oficiais de vendas não estejam disponíveis. Em maio, o jornal conseguiu trazer de volta sua terceira seção, Elan, suspensa e retomar a promoção. O Sr. Garside disse que os proprietários, Sr. David e Sr. Frederick Barclay, que vivem em Monte Carlo e possuem hotéis e companhias marítimas, estão satisfeitos com o progresso do seu primeiro jornal. O principal crescimento nas vendas veio da França, Alemanha e Espanha. As vendas no Reino Unido representam cerca de um terço do total, embora essa proporção esteja diminuindo. Garside não revelou detalhes sobre o desempenho financeiro do jornal, mas disse que todos os jornais levam cerca de quatro anos para obter lucro. O europeu está agora com 2 anos e meio. \"Temos mais do que uma boa chance de fazer isso funcionar em um futuro não muito distante\", disse Garside. Ele também está animado com o número de reportagens de seu jornal que são acompanhadas semanalmente por outros jornais.\n",
            "FT931-16664\t930105 FT 05 JAN 93 / Doenças das drogas atribuídas à privação O BISPO de Hulme, cuja diocese inclui a degradada área de Moss Side de Manchester, onde um menino de 14 anos foi morto a tiros no fim de semana, culpou o desemprego e a privação ontem pela escala de tráfico de drogas e violência na região. O Rev. Colin Scott advertiu que seu próprio medo era que a crescente escala de violência na área pudesse afastar comerciantes e negócios vitais. A morte de John Benjamin Stanley, morto na noite de sábado enquanto fazia fila em um take-away das Índias Ocidentais, é o mais recente de uma série de incidentes em uma área de 2 milhas quadradas de conjuntos habitacionais dos anos 1960. O bispo Scott disse: 'A razão de fundo é obviamente o nível de desemprego, uma propriedade dilapidada e muito poucas oportunidades de trabalho lá, especialmente para os que abandonam a escola. 'Se o futuro não traz nenhuma promessa, é tentador ser atraído pelas drogas como uma fuga pessoal ou pelo tráfico de drogas como uma forma de ganhar dinheiro fácil.' Ele disse que a área era difícil de policiar e se tornou um mercado de drogas, atraindo clientes e fornecedores de fora da área - embora ele tenha dito que muitos dos traficantes de drogas eram da própria propriedade. O bispo Scott, que também é bispo em exercício de Manchester, disse: 'A violência envolve apenas uma minoria de pessoas. Mas o que é assustador é que as lojas e os negócios se afastem assustados. Isso causará um dano ainda maior à comunidade de lá. ' Ele disse que embora a polícia tenha cometido erros no passado e às vezes seja culpada de 'insensibilidade', eles estão trabalhando muito para construir um bom relacionamento com a comunidade. Outras iniciativas locais e o esquema City Challenge também eram promissores, mas demorou muito para desfazer os danos. 'Estou assustado, como outras pessoas, com a forma como os jovens que abandonam a escola estão se voltando para as drogas', disse ele. Moss Side é uma das áreas urbanas mais carentes da Grã-Bretanha, mas fica a menos de um quilômetro do centro da cidade de Manchester. Em 1981, cerca de 1.000 pessoas estiveram envolvidas em distúrbios na área.\n"
          ]
        }
      ]
    },
    {
      "cell_type": "code",
      "source": [
        "!head new_corpus.tsv"
      ],
      "metadata": {
        "colab": {
          "base_uri": "https://localhost:8080/"
        },
        "id": "y5XiZC7QwKef",
        "outputId": "dd1a7563-42d9-44ad-e323-1d8afd0ea1a1"
      },
      "execution_count": 26,
      "outputs": [
        {
          "output_type": "stream",
          "name": "stdout",
          "text": [
            "0\t930105 FT 05 JAN 93 / Redland concorda acordos europeus de 59 milhões de libras REDLAND, o grupo de materiais de construção que pagou 624 milhões de libras em ações pela Steetley no ano passado, arrecadou 100 milhões de libras por meio de alienações. Está reinvestindo 58,6 milhões de libras em suas atividades de azulejos e tijolos na Europa continental. A Redland está formando uma joint venture com a Koramic, uma empresa privada belga, que engloba as fábricas de tijolos das duas empresas na Holanda, Alemanha e Bélgica. A nova empresa será a maior fabricante de tijolos de fachada da Europa continental. Os lucros das atividades combinadas em 1992 teriam sido de 15,9 milhões de libras, dos quais a parte de Redland teria sido de 5,8 milhões de libras. A joint venture 50:50 deterá 70 por cento das atividades combinadas, dando a Redland uma participação econômica de 35 por cento, mas controle conjunto. Redland também receberá 17,3 milhões de libras em dinheiro. A Redland está aumentando sua participação na Coverland, a produtora francesa de telhas, de 43% para 67% ao adquirir parte da participação acionária da St Gobain. Opções para Redland comprar os 33 por cento restantes de St Gobain por 24 milhões de libras foram acordadas. Redland e St Gobain estão subscrevendo cada uma libras 36 milhões de novas ações em Coverland para resgatar libras 72 milhões de dívidas, e Redland está pagando libras esterlinas a St Gobain 12 milhões. Coverland teve um pequeno prejuízo operacional em 1992, mas ganhou 10 milhões de libras em 1990. Braas, a subsidiária alemã de telhas de Redland, está comprando a Dan Tegl, o fabricante dinamarquês de telhas de barro por 10,6 milhões de libras. Ela obteve lucros antes dos impostos de 1,4 milhão de libras esterlinas em 1992. Robert Napier, presidente-executivo da Redland, disse que as vendas foram feitas em bons termos, apesar das atuais difíceis condições de mercado. São eles: Steetley Clay Tiles por Libras 19m, contra ativos líquidos de Libras 17m, para o Grupo Eternit da Bélgica; Steetley Refractories que obteve um lucro antes de impostos de 1,4 milhão de libras em 1992 para JE Baker dos EUA, por 14,3 milhões de libras. Além do dinheiro, a Redland tem um acordo para fornecer matéria-prima para a Baker; A participação de 20 por cento da Redland na Lafarge Platreurope, fabricante de placas de gesso, para a Lafarge Coppee, sua parceira de joint venture, por 41,25 milhões de libras; Construction Jean Bernard, um deficitário grupo francês de engenharia civil por uma quantia nominal; A participação de 50 por cento da Redland na Columbia River Carbonates para seu parceiro de joint venture por Libras 3,8 milhões; Seu negócio de pedreira Waco no Texas por 4,6 milhões de libras. Lex, página 16; Londres SE, Página 34\n",
            "1\t930105 FT 05 JAN 93 / Contratos de construção: Carga de trabalho de 6,5 milhões de libras para WSJ (empreiteiros) Os contratos avaliados em 6,5 milhões de libras foram ganhos pela WSJ (CONTRATADA), com sede em Oswestry, na fronteira de Shropshire com o Galês. Em Shropshire, contratos totalizando Libras 3,4 milhões foram firmados e incluem a reforma de Libras 2,4 milhões do centro de natação de Shrewsbury e três esquemas de renovação de habitações totalizando Libras 1 milhão, para clientes Shrewsbury e Atcham Borough Council, Oswestry Borough Council e Wrekin District Council. Em Powys, os projetos incluem; uma nova unidade industrial em Welshpool para o DBRW, avaliada em 1,6 milhões de libras, e a construção de seis bangalôs para o conselho distrital de Montgomeryshire. Outros três projetos em Clwyd, totalizando Libras 1 milhão, são para os seguintes clientes; Clwyd County Council, Wrexham Maelor Borough Council e Delyn Borough Council.\n",
            "2\t930105 FT 05 JAN 93 / Empresas em confronto por mudança na Skoda Um SPLIT foi desenvolvido entre a empresa controlada pela Volkswagen que está assumindo as importações de carros Skoda de fabricação tcheca para o Reino Unido e a Skoda (GB), que os tratou para o últimos 27 anos. Skoda (GB), de propriedade da Motokov, a antiga organização de comércio exterior do estado da Tchecoslováquia - ela mesma sendo privatizada - se recusa a permitir que seus 250 concessionários assinem contratos com a nova empresa, Skoda Automobile UK, enquanto as negociações continuam sobre se Skoda (GB) deve continuar a desempenhar um papel operacional na importação e distribuição dos carros. Cerca de 10.000 Skodas são vendidos no Reino Unido a cada ano. David Wilks, de Skoda (GB), disse ontem que a empresa esperava que o centro de importação e preparação que operou por muitos anos em Kings Lynn, Norfolk, continuasse a processar os carros sob contrato para a Skoda Automobile UK. Em vez disso, a VW está planejando estabelecer seus próprios acordos de importação e distribuição, de acordo com sua intenção de expandir muito as vendas da Skoda. Ela espera quadruplicar as vendas - para 40.000 por ano - já em 1996. A VW já tem o controle administrativo da fabricante tcheca e está construindo uma participação de 70 por cento. A Skoda (GB), embora se recuse a liberar os revendedores de seus contratos de franquia, disse que os liberou temporariamente da obrigação de comprar carros exclusivamente da Skoda (GB) - na verdade, permitindo que eles recebam suprimentos da nova empresa enquanto as negociações continuam e quando A Skoda Automobile UK começa a fazer seus próprios envios. Com o mercado de carros novos do Reino Unido ainda em recessão, acredita-se que a maioria dos revendedores tenha estoques suficientes para durar as negociações prolongadas. O esfriamento das relações entre os dois lados é um retrocesso após 13 meses de negociações principalmente amigáveis ​​sobre a transição. Mais de 29 funcionários da Skoda (GB) já foram transferidos para a nova empresa. No entanto, o impasse em torno do centro de importação de Kings Lynn fez com que 44 pessoas fossem despedidas lá. A Skoda Automobile UK formalmente assumiu como importadora do Reino Unido em 1º de janeiro e é uma subsidiária integral da Skoda Automobilova. A VW já detém 31 por cento, com o saldo nas mãos do governo tcheco. Seu diretor administrativo, Sr. Robin Woolcock, é um ex-diretor administrativo da MAN Volkswagen Truck and Bus, o importador do Reino Unido de veículos comerciais Volkswagen e MAN. O Sr. Woolcock tem gerido as negociações com a Skoda (GB) e a criação da nova empresa, que acaba de se instalar em Milton Keynes. O salto esperado nas vendas é baseado em um programa de investimento significativo para veículos Skoda. O programa de DM8 bilhões (Libras 3,3 bilhões) levará a novos modelos e é projetado para mais do que dobrar a capacidade da Skoda para 460.000 carros por ano em meados de 1990.\n",
            "3\t930105 FT 05 JAN 93 / Libras 5,5 m para o projeto de armazém de Bristol UNITED MOLASSES vai construir um armazém de 5,5 milhões de libras no Royal Portbury Dock de Bristol, que diz ser o maior da Europa para o manuseio de alimentos para animais e fertilizantes. O armazém é parte de um investimento de 15 milhões de libras esterlinas pela empresa portuária para desenvolver instalações de manuseio para produtos agrícolas e afins. A United Molasses espera que o armazém esteja operando em julho. Inicialmente, ele lidará com soja e glúten de milho e fertilizantes. O Sr. Tim Holderness-Roddam, vice-diretor administrativo da United, disse: 'Esta será a maior e mais moderna instalação de manuseio da Europa, capaz de descarregar navios de até 120.000 toneladas de porte bruto.' United, parte da Tate & amp; O grupo açucareiro Lyle vê o investimento como parte fundamental de sua estratégia para desenvolver o manuseio de subprodutos a granel para a indústria de ração animal.\n",
            "4\t930105 FT 05 JAN 93 / Os velhos métodos enfraquecem o apelo a uma nova Ucrânia: Chrystia Freeland e Edward Balls sobre a relutância em reformar UM dos poucos empreendimentos militares-industriais da ex-União Soviética que poderiam fazer uma transição relativamente suave para a economia de mercado é o Negro da Ucrânia Estaleiro do mar em Nikolayev. Mas seu diretor, Yuri Makarov, parece não ter pressa em inaugurar uma nova era. Makarov não está incentivando as empresas ocidentais que desejam fazer pedidos de milhões de dólares de navios petroleiros de casco duplo ao estaleiro. “Os petroleiros são apenas caixas vazias com nada como a sofisticação técnica de um porta-aviões”, diz Makarov, com um aceno desdenhoso em direção aos volumosos petroleiros que podem render 30 milhões de dólares por peça. Em vez disso, com boas lembranças do passado mais glamoroso do estaleiro, ele diz: 'Construir um porta-aviões - agora isso é tecnologia de verdade.' Makarov, um homem corpulento e genial à beira da aposentadoria, acha difícil aceitar que, com poucas perspectivas de ordens militares do governo falido e atormentado pela inflação da Ucrânia, os dias de construção de porta-aviões gigantes acabaram - pelo menos no futuro previsível . Os baixos custos trabalhistas e um aumento na demanda por petroleiros de casco duplo após o derramamento do Exxon Valdez podem apenas tornar possível para o Estaleiro do Mar Negro - em uma encarnação mais enxuta e parcialmente privatizada com um parceiro estrangeiro - ter lucro. O Banco Europeu de Reconstrução e Desenvolvimento está considerando oferecer financiamento e ajuda na reestruturação se o estaleiro transformar suas instalações de produção marítima e de petroleiros em um empreendimento privado separado. O BERD estima que, se o braço privatizado da fábrica vendesse três petroleiros e 2.500 toneladas de correntes marítimas por ano, ele poderia operar lucrativamente, enquanto uma parte maior de sua fábrica fosse convertida para produção não militar. “A conversão militar é uma área prioritária para o BERD”, disse Ron Freeman, primeiro vice-presidente de banco comercial. 'Mas, como você pode ver no projeto Nikolayev, o comprometimento da administração é fundamental antes que qualquer coisa possa acontecer.' O vice-diretor do estaleiro, Boris Goldberg, está ansioso para adotar o plano do BERD, apesar da hostilidade do diretor, e diz que está pronto para demitir até 40 por cento da força de trabalho para tornar a fábrica mais eficiente. Ele tem apoiadores poderosos. O Sr. Anatoli Kinakh, o representante regional do governo da Ucrânia em Nikolayev e um homem de considerável influência no sistema político centralizado da Ucrânia, apóia a privatização parcial e a conversão do estaleiro e insiste que o negócio será levado adiante. O próprio pátio está cheio de pilhas de metal, os restos de um porta-aviões que levou seis anos para ser construído - e seis meses para ser desmontado para sucata. Elevando-se sobre eles está o elegante mas inacabado Variah, o Viking, que estava 65% concluído quando o governo ucraniano decidiu parar de despejar dinheiro em um navio que era improvável que usasse ou vendesse. Uma minoria da força de trabalho está construindo traineiras para as quais não existe mercado, mas a maioria está ociosa e ausente. 'Isso é o que a conversão significa para nós', diz Makarov enquanto caminha pelo esqueleto enferrujado e abandonado do Variah. \"Tudo está morto.\" Os métodos perdulários de Vitolv Fokin, o recém-deposto primeiro-ministro da Ucrânia, deram ao estaleiro do Mar Negro, como ao restante do pesado setor estatal do país, o luxo da hesitação. Nos últimos seis meses, o Estaleiro do Mar Negro recebeu Rbs 3 bilhões em créditos bancários não garantidos a uma taxa de juros de 5 por cento ao ano, de acordo com funcionários do governo. Esses empréstimos baratos permitem que Makarov pague a seus 25.000 funcionários o generoso salário de Rbs 18.000 por mês e lamentar o fim da guerra fria. A história de Makarov é conhecida na Ucrânia. No ano passado, o governo emitiu mais de Rbs1,100 bilhões em crédito para apoiar o setor estatal ineficiente e evitar falências e demissões politicamente difíceis. O resultado é uma hiperinflação crescente, agora mais de 30% ao mês, que ameaça minar a moeda incipiente da Ucrânia, o cupom. \"Se a emissão líquida de crédito não cessar logo, isso prejudicará seriamente a política de estabilização do governo\", disse Oleh Havrylyshyn, vice-ministro das finanças. Leonid Kuchma, o novo primeiro-ministro da Ucrânia voltado para as reformas, disse que os créditos em grande escala às indústrias estatais devem parar. Mas Havrylyshyn suspeita que em novembro, enquanto Kuchma se recuperava de uma operação na tireoide, o banco central ignorou sua moratória sobre a emissão de novos créditos. Além disso, no mês passado, o governo emitiu mais Rbs229 bilhões em subsídios ao carvão e à agricultura, o que empurrará o déficit orçamentário para 40% do produto interno bruto em 1992. Esses créditos monetários teriam de ser interrompidos se a Ucrânia quisesse controlar a inflação e cumprir as rígidas metas monetárias que o Fundo Monetário Internacional exige como condição para a ajuda ocidental. Autoridades ucranianas dizem que o FMI, que recentemente enviou uma missão a Kiev, quer que a Ucrânia reduza seu déficit orçamentário para 6% do PIB no próximo ano e a inflação para 3% no último trimestre de 1993. Ainda assim, castigado pelas dificuldades políticas provocadas por políticas monetárias ortodoxas na Rússia, os reformadores ucranianos estão preocupados com as consequências políticas de forçar as fábricas estatais a abandonar o vício em subsídios do governo da noite para o dia. Economistas do Banco Mundial na Ucrânia dizem que uma combinação de estabilização, liberalização e ajuda ocidental é necessária para financiar o déficit orçamentário sem imprimir dinheiro. Mas para as 50 ou 60 maiores empresas do país, em particular as grandes deficitárias, o governo deve preparar planos individuais para eliminar gradualmente os subsídios, dando assim ao setor privado tempo para crescer e absorver o desemprego.\n",
            "5\t930105 FT 05 JAN 93 / Cenelec: Correção O endereço do Cenelec, Comitê Europeu de Normalização Eletrotécnica, estava incorreto na edição de ontem. É Rue de Stassart 35, B-1050, Bruxelas, Tel (322) 519 6871. CEN, Comitê Europeu de Normalização, está localizado na Rue de Stassart 36, B-1050, Bruxelas, Tel 519 6811.\n",
            "6\t930105 FT 05 JAN 93 / Hewlett-Packard: Correção O professor Stephane Garelli, consultor da Hewlett-Packard, foi descrito incorretamente ontem como o principal executivo regional da empresa. Essa posição é ocupada pelo Sr. Franco Mariotti.\n",
            "7\t930105 FT 05 JAN 93 / Embalagem encolhe na Alemanha O excesso de embalagens de bens de consumo vendidos na Alemanha desapareceu em grande parte desde que uma lei anti-lixo entrou em vigor em 1º de abril, disse Klaus Topfer, ministro do Meio Ambiente, ontem, relata Reuter de Bonn. De acordo com a lei, os compradores insatisfeitos com embalagens adicionadas para tornar os produtos mais atraentes podem retirar a embalagem na loja e jogá-la ali para ser retirada pelos fabricantes. Quase três quartos de todas as bebidas alemãs agora são vendidas em contêineres reutilizáveis, um ligeiro aumento em relação ao ano passado, disse Topfer.\n",
            "8\t930105 FT 05 JAN 93 / Circulation of The European sobe para 200.000 O jornal EUROPEU está prestes a entrar em seu segundo ano de propriedade não pertencente à Maxwell, com vendas de cerca de 200.000. O jornal internacional, que muitos esperavam não sobreviveria por muito tempo à morte de seu fundador e patrono Robert Maxwell, foi relançado sob a propriedade dos irmãos Barclay em 6 de janeiro do ano passado. \"Aumentamos as vendas semana após semana desde então\", disse Charles Garside, editor do semanário, que estava perdendo cerca de 1 milhão de libras por mês com Maxwell. O período de crise do jornal após a morte de Maxwell afetou severamente seu complexo sistema de distribuição, e Garside acredita que o jornal passou de 80.000 para cerca de 200.000 no ano, embora os números oficiais de vendas não estejam disponíveis. Em maio, o jornal conseguiu trazer de volta sua terceira seção, Elan, suspensa e retomar a promoção. O Sr. Garside disse que os proprietários, Sr. David e Sr. Frederick Barclay, que vivem em Monte Carlo e possuem hotéis e companhias marítimas, estão satisfeitos com o progresso do seu primeiro jornal. O principal crescimento nas vendas veio da França, Alemanha e Espanha. As vendas no Reino Unido representam cerca de um terço do total, embora essa proporção esteja diminuindo. Garside não revelou detalhes sobre o desempenho financeiro do jornal, mas disse que todos os jornais levam cerca de quatro anos para obter lucro. O europeu está agora com 2 anos e meio. \"Temos mais do que uma boa chance de fazer isso funcionar em um futuro não muito distante\", disse Garside. Ele também está animado com o número de reportagens de seu jornal que são acompanhadas semanalmente por outros jornais.\n",
            "9\t930105 FT 05 JAN 93 / Doenças das drogas atribuídas à privação O BISPO de Hulme, cuja diocese inclui a degradada área de Moss Side de Manchester, onde um menino de 14 anos foi morto a tiros no fim de semana, culpou o desemprego e a privação ontem pela escala de tráfico de drogas e violência na região. O Rev. Colin Scott advertiu que seu próprio medo era que a crescente escala de violência na área pudesse afastar comerciantes e negócios vitais. A morte de John Benjamin Stanley, morto na noite de sábado enquanto fazia fila em um take-away das Índias Ocidentais, é o mais recente de uma série de incidentes em uma área de 2 milhas quadradas de conjuntos habitacionais dos anos 1960. O bispo Scott disse: 'A razão de fundo é obviamente o nível de desemprego, uma propriedade dilapidada e muito poucas oportunidades de trabalho lá, especialmente para os que abandonam a escola. 'Se o futuro não traz nenhuma promessa, é tentador ser atraído pelas drogas como uma fuga pessoal ou pelo tráfico de drogas como uma forma de ganhar dinheiro fácil.' Ele disse que a área era difícil de policiar e se tornou um mercado de drogas, atraindo clientes e fornecedores de fora da área - embora ele tenha dito que muitos dos traficantes de drogas eram da própria propriedade. O bispo Scott, que também é bispo em exercício de Manchester, disse: 'A violência envolve apenas uma minoria de pessoas. Mas o que é assustador é que as lojas e os negócios se afastem assustados. Isso causará um dano ainda maior à comunidade de lá. ' Ele disse que embora a polícia tenha cometido erros no passado e às vezes seja culpada de 'insensibilidade', eles estão trabalhando muito para construir um bom relacionamento com a comunidade. Outras iniciativas locais e o esquema City Challenge também eram promissores, mas demorou muito para desfazer os danos. 'Estou assustado, como outras pessoas, com a forma como os jovens que abandonam a escola estão se voltando para as drogas', disse ele. Moss Side é uma das áreas urbanas mais carentes da Grã-Bretanha, mas fica a menos de um quilômetro do centro da cidade de Manchester. Em 1981, cerca de 1.000 pessoas estiveram envolvidas em distúrbios na área.\n"
          ]
        }
      ]
    },
    {
      "cell_type": "code",
      "source": [
        "!wc -l content/data/m_robust/corpus.tsv"
      ],
      "metadata": {
        "colab": {
          "base_uri": "https://localhost:8080/"
        },
        "id": "yC79Us3j4vOP",
        "outputId": "ae3876eb-3604-487c-939f-11a6142d0e79"
      },
      "execution_count": 27,
      "outputs": [
        {
          "output_type": "stream",
          "name": "stdout",
          "text": [
            "528032 content/data/m_robust/corpus.tsv\n"
          ]
        }
      ]
    },
    {
      "cell_type": "code",
      "source": [
        "!wc -l new_corpus.tsv"
      ],
      "metadata": {
        "colab": {
          "base_uri": "https://localhost:8080/"
        },
        "id": "UA2GQKgq42I-",
        "outputId": "26b00768-5084-4ea9-ff60-985d9ad23130"
      },
      "execution_count": 28,
      "outputs": [
        {
          "output_type": "stream",
          "name": "stdout",
          "text": [
            "528032 new_corpus.tsv\n"
          ]
        }
      ]
    },
    {
      "cell_type": "code",
      "execution_count": 17,
      "metadata": {
        "id": "aHIo5j9udmJ7",
        "colab": {
          "base_uri": "https://localhost:8080/"
        },
        "outputId": "b04eb2b4-c8c3-488b-9958-c5eda211818d"
      },
      "outputs": [
        {
          "output_type": "stream",
          "name": "stdout",
          "text": [
            "cp: cannot stat 'new_corpus.tsv': No such file or directory\n"
          ]
        }
      ],
      "source": [
        "!cp new_corpus.tsv splade/data/pt/full_collection/raw.tsv"
      ]
    },
    {
      "cell_type": "code",
      "source": [
        "!head splade/data/pt/full_collection/raw.tsv"
      ],
      "metadata": {
        "colab": {
          "base_uri": "https://localhost:8080/"
        },
        "id": "FCo56wexyL53",
        "outputId": "0a14484b-47f4-44b5-b196-52023cd49bdb"
      },
      "execution_count": 18,
      "outputs": [
        {
          "output_type": "stream",
          "name": "stdout",
          "text": [
            "head: cannot open 'splade/data/pt/full_collection/raw.tsv' for reading: No such file or directory\n"
          ]
        }
      ]
    },
    {
      "cell_type": "code",
      "execution_count": 29,
      "metadata": {
        "id": "qPoOYc4JeMDC"
      },
      "outputs": [],
      "source": [
        "!cp \"{main_dir}Projeto Final/Experimentos/splade/conf/index/pt.yaml\" splade/conf/index"
      ]
    },
    {
      "cell_type": "markdown",
      "metadata": {
        "id": "eUWz9itAEFhL"
      },
      "source": [
        "### Retrieval and evaluation configuration\n",
        "\n",
        "Here, we'll configure retrieval and evaluation for mROBUST dataset."
      ]
    },
    {
      "cell_type": "code",
      "execution_count": 30,
      "metadata": {
        "id": "fZSc9wTyFcHO"
      },
      "outputs": [],
      "source": [
        "!mkdir -p splade/data/pt/dev_queries"
      ]
    },
    {
      "cell_type": "code",
      "execution_count": 31,
      "metadata": {
        "id": "VTz6OiBiERKf"
      },
      "outputs": [],
      "source": [
        "!cp content/data/m_robust/queries.tsv splade/data/pt/dev_queries/raw.tsv"
      ]
    },
    {
      "cell_type": "markdown",
      "metadata": {
        "id": "WMZ_kYCsFoUF"
      },
      "source": [
        "Converts QREL information to JSON fomat."
      ]
    },
    {
      "cell_type": "code",
      "execution_count": 61,
      "metadata": {
        "id": "3BHd8qb8FvFn"
      },
      "outputs": [],
      "source": [
        "#TODO: Devo fazer o dump apenas dos que têm relevância 1?\n",
        "from collections import defaultdict\n",
        "import json\n",
        "\n",
        "qrel = defaultdict(dict)\n",
        "\n",
        "with open(\"content/data/m_robust/qrels.robust04.txt\", 'r') as file:\n",
        "  for line in file:\n",
        "    fields = line.split()\n",
        "    q_id = fields[0]\n",
        "    if fields[2] in map_id_to_int:\n",
        "      doc_id = map_id_to_int[fields[2]]\n",
        "      rel = fields[3]\n",
        "      qrel[q_id][doc_id] = int(rel)\n",
        "\n",
        "with open('splade/data/pt/dev_qrel.json', 'w') as file:\n",
        "    json.dump(qrel, file)"
      ]
    },
    {
      "cell_type": "code",
      "execution_count": 44,
      "metadata": {
        "id": "qz6gAUt5I4Q7"
      },
      "outputs": [],
      "source": [
        "!cp \"{main_dir}Projeto Final/Experimentos/splade/conf/retrieve_evaluate/pt.yaml\" splade/conf/retrieve_evaluate"
      ]
    },
    {
      "cell_type": "markdown",
      "metadata": {
        "id": "f3TnLd4Y8FZp"
      },
      "source": [
        "### Flops estimation"
      ]
    },
    {
      "cell_type": "markdown",
      "metadata": {
        "id": "nCBggKcq8IN4"
      },
      "source": [
        "We'll use the same test set (mRobust) to estimate flops."
      ]
    },
    {
      "cell_type": "code",
      "execution_count": 34,
      "metadata": {
        "id": "YKtWGBrxTK2g"
      },
      "outputs": [],
      "source": [
        "!cp \"{main_dir}Projeto Final/Experimentos/splade/conf/flops/pt.yaml\" splade/conf/flops"
      ]
    },
    {
      "cell_type": "markdown",
      "metadata": {
        "id": "1t3urCZ8Fhsl"
      },
      "source": [
        "## Indexing and retrieving"
      ]
    },
    {
      "cell_type": "code",
      "execution_count": 35,
      "metadata": {
        "id": "xe4q2mWURxzZ"
      },
      "outputs": [],
      "source": [
        "!cp \"{main_dir}Projeto Final/Experimentos/splade/conf/train/model/splade_bertimbau_base.yaml\" splade/conf/train/model/"
      ]
    },
    {
      "cell_type": "code",
      "execution_count": 36,
      "metadata": {
        "id": "34gzMJZpSLAY"
      },
      "outputs": [],
      "source": [
        "!cp \"{main_dir}Projeto Final/Experimentos/splade/conf/config_splade_pt.yaml\" splade/conf/\n",
        "!cp \"{main_dir}Projeto Final/Experimentos/splade/conf/train/config/splade_pt.yaml\" splade/conf/train/config"
      ]
    },
    {
      "cell_type": "code",
      "source": [
        "shutil.copyfile(f\"{main_dir}Projeto Final/experiments_10m.zip\", \"/content/experiments.zip\")"
      ],
      "metadata": {
        "id": "4kOHFiQ8cWP8"
      },
      "execution_count": null,
      "outputs": []
    },
    {
      "cell_type": "code",
      "source": [
        "!unzip /content/experiments.zip\n",
        "!mv /content/content/splade/experiments /content/experiments"
      ],
      "metadata": {
        "colab": {
          "base_uri": "https://localhost:8080/"
        },
        "id": "8b6R4ZCkccbN",
        "outputId": "5d46740d-bc22-4a91-adfc-e096ab16debe"
      },
      "execution_count": 38,
      "outputs": [
        {
          "metadata": {
            "tags": null
          },
          "name": "stdout",
          "output_type": "stream",
          "text": [
            "Archive:  /content/experiments.zip\n",
            "   creating: content/splade/experiments/\n",
            "   creating: content/splade/experiments/pt/\n",
            "   creating: content/splade/experiments/pt/checkpoint/\n",
            "  inflating: content/splade/experiments/pt/checkpoint/training_perf.txt  \n",
            "   creating: content/splade/experiments/pt/checkpoint/model/\n",
            "  inflating: content/splade/experiments/pt/checkpoint/model/special_tokens_map.json  \n",
            "  inflating: content/splade/experiments/pt/checkpoint/model/vocab.txt  \n",
            "  inflating: content/splade/experiments/pt/checkpoint/model/model.tar  \n",
            "  inflating: content/splade/experiments/pt/checkpoint/model/pytorch_model.bin  \n",
            "  inflating: content/splade/experiments/pt/checkpoint/model/tokenizer.json  \n",
            "  inflating: content/splade/experiments/pt/checkpoint/model/config.json  \n",
            "  inflating: content/splade/experiments/pt/checkpoint/model/tokenizer_config.json  \n",
            "   creating: content/splade/experiments/pt/checkpoint/val_full_ranking/\n",
            "  inflating: content/splade/experiments/pt/checkpoint/val_full_ranking/run_iter_150000.json  \n",
            "  inflating: content/splade/experiments/pt/checkpoint/val_full_ranking/run_iter_40000.json  \n",
            "  inflating: content/splade/experiments/pt/checkpoint/val_full_ranking/run_iter_30000.json  \n",
            "  inflating: content/splade/experiments/pt/checkpoint/val_full_ranking/run_iter_140000.json  \n",
            "  inflating: content/splade/experiments/pt/checkpoint/val_full_ranking/run_iter_80000.json  \n",
            "   creating: content/splade/experiments/pt/checkpoint/val_full_ranking/stats/\n",
            " extracting: content/splade/experiments/pt/checkpoint/val_full_ranking/stats/q_stats_iter_80000.json  \n",
            " extracting: content/splade/experiments/pt/checkpoint/val_full_ranking/stats/d_stats_iter_100000.json  \n",
            " extracting: content/splade/experiments/pt/checkpoint/val_full_ranking/stats/q_stats_iter_90000.json  \n",
            " extracting: content/splade/experiments/pt/checkpoint/val_full_ranking/stats/q_stats_iter_140000.json  \n",
            " extracting: content/splade/experiments/pt/checkpoint/val_full_ranking/stats/d_stats_iter_110000.json  \n",
            " extracting: content/splade/experiments/pt/checkpoint/val_full_ranking/stats/d_stats_iter_120000.json  \n",
            " extracting: content/splade/experiments/pt/checkpoint/val_full_ranking/stats/q_stats_iter_120000.json  \n",
            " extracting: content/splade/experiments/pt/checkpoint/val_full_ranking/stats/d_stats_iter_150000.json  \n",
            " extracting: content/splade/experiments/pt/checkpoint/val_full_ranking/stats/d_stats_iter_60000.json  \n",
            " extracting: content/splade/experiments/pt/checkpoint/val_full_ranking/stats/d_stats_iter_90000.json  \n",
            " extracting: content/splade/experiments/pt/checkpoint/val_full_ranking/stats/d_stats_iter_40000.json  \n",
            " extracting: content/splade/experiments/pt/checkpoint/val_full_ranking/stats/q_stats_iter_40000.json  \n",
            " extracting: content/splade/experiments/pt/checkpoint/val_full_ranking/stats/q_stats_iter_100000.json  \n",
            " extracting: content/splade/experiments/pt/checkpoint/val_full_ranking/stats/q_stats_iter_150000.json  \n",
            " extracting: content/splade/experiments/pt/checkpoint/val_full_ranking/stats/d_stats_iter_130000.json  \n",
            " extracting: content/splade/experiments/pt/checkpoint/val_full_ranking/stats/q_stats_iter_20000.json  \n",
            " extracting: content/splade/experiments/pt/checkpoint/val_full_ranking/stats/d_stats_iter_80000.json  \n",
            " extracting: content/splade/experiments/pt/checkpoint/val_full_ranking/stats/d_stats_iter_20000.json  \n",
            " extracting: content/splade/experiments/pt/checkpoint/val_full_ranking/stats/d_stats_iter_70000.json  \n",
            " extracting: content/splade/experiments/pt/checkpoint/val_full_ranking/stats/d_stats_iter_10000.json  \n",
            " extracting: content/splade/experiments/pt/checkpoint/val_full_ranking/stats/q_stats_iter_30000.json  \n",
            " extracting: content/splade/experiments/pt/checkpoint/val_full_ranking/stats/q_stats_iter_110000.json  \n",
            " extracting: content/splade/experiments/pt/checkpoint/val_full_ranking/stats/d_stats_iter_140000.json  \n",
            " extracting: content/splade/experiments/pt/checkpoint/val_full_ranking/stats/q_stats_iter_70000.json  \n",
            " extracting: content/splade/experiments/pt/checkpoint/val_full_ranking/stats/q_stats_iter_50000.json  \n",
            " extracting: content/splade/experiments/pt/checkpoint/val_full_ranking/stats/q_stats_iter_10000.json  \n",
            " extracting: content/splade/experiments/pt/checkpoint/val_full_ranking/stats/d_stats_iter_30000.json  \n",
            " extracting: content/splade/experiments/pt/checkpoint/val_full_ranking/stats/q_stats_iter_60000.json  \n",
            " extracting: content/splade/experiments/pt/checkpoint/val_full_ranking/stats/d_stats_iter_50000.json  \n",
            " extracting: content/splade/experiments/pt/checkpoint/val_full_ranking/stats/q_stats_iter_130000.json  \n",
            "  inflating: content/splade/experiments/pt/checkpoint/val_full_ranking/run_iter_60000.json  \n",
            "  inflating: content/splade/experiments/pt/checkpoint/val_full_ranking/run_iter_70000.json  \n",
            "  inflating: content/splade/experiments/pt/checkpoint/val_full_ranking/run_iter_110000.json  \n",
            "  inflating: content/splade/experiments/pt/checkpoint/val_full_ranking/run_iter_130000.json  \n",
            "  inflating: content/splade/experiments/pt/checkpoint/val_full_ranking/run_iter_20000.json  \n",
            "  inflating: content/splade/experiments/pt/checkpoint/val_full_ranking/run_iter_100000.json  \n",
            "  inflating: content/splade/experiments/pt/checkpoint/val_full_ranking/run_iter_120000.json  \n",
            "  inflating: content/splade/experiments/pt/checkpoint/val_full_ranking/run_iter_90000.json  \n",
            "  inflating: content/splade/experiments/pt/checkpoint/val_full_ranking/run_iter_50000.json  \n",
            "  inflating: content/splade/experiments/pt/checkpoint/val_full_ranking/run_iter_10000.json  \n",
            "   creating: content/splade/experiments/pt/checkpoint/tensorboard/\n",
            "  inflating: content/splade/experiments/pt/checkpoint/tensorboard/events.out.tfevents.1686758390.714f5cef9a7d.6200.0  \n",
            "  inflating: content/splade/experiments/pt/checkpoint/validation_perf.txt  \n",
            "   creating: content/splade/experiments/pt/checkpoint/model_ckpt/\n",
            "  inflating: content/splade/experiments/pt/checkpoint/model_ckpt/model_ckpt_110000.tar  \n",
            "  inflating: content/splade/experiments/pt/checkpoint/model_ckpt/model_ckpt_120000.tar  \n",
            "  inflating: content/splade/experiments/pt/checkpoint/model_ckpt/model_last.tar  \n",
            "  inflating: content/splade/experiments/pt/checkpoint/model_ckpt/model_final_checkpoint.tar  \n",
            "  inflating: content/splade/experiments/pt/checkpoint/config.yaml  \n"
          ]
        }
      ]
    },
    {
      "cell_type": "code",
      "source": [
        "!cp -r experiments/pt splade/experiments"
      ],
      "metadata": {
        "id": "Rk6NfGWDfKCf"
      },
      "execution_count": 57,
      "outputs": []
    },
    {
      "cell_type": "code",
      "source": [
        "!rm -r splade/experiments/checkpoint"
      ],
      "metadata": {
        "id": "p3Rt4GW5K4wx"
      },
      "execution_count": 58,
      "outputs": []
    },
    {
      "cell_type": "code",
      "source": [
        "!rm -r splade/experiments/pt/pt"
      ],
      "metadata": {
        "id": "mHvEcNekK_fD"
      },
      "execution_count": 59,
      "outputs": []
    },
    {
      "cell_type": "code",
      "source": [
        "!ls experiments/pt/checkpoint/"
      ],
      "metadata": {
        "colab": {
          "base_uri": "https://localhost:8080/"
        },
        "id": "5Slt2t-uhseL",
        "outputId": "f8db1c81-709e-4716-a418-fe9682834def"
      },
      "execution_count": 40,
      "outputs": [
        {
          "output_type": "stream",
          "name": "stdout",
          "text": [
            "config.yaml  model_ckpt   training_perf.txt  validation_perf.txt\n",
            "model\t     tensorboard  val_full_ranking\n"
          ]
        }
      ]
    },
    {
      "cell_type": "code",
      "source": [
        "shutil.copyfile(f\"{main_dir}Projeto Final/index_10m.zip\", \"/content/index.zip\")"
      ],
      "metadata": {
        "colab": {
          "base_uri": "https://localhost:8080/",
          "height": 36
        },
        "id": "7gR3GC-F-8FC",
        "outputId": "ada44870-651c-476f-c4f7-72d10157187d"
      },
      "execution_count": 41,
      "outputs": [
        {
          "output_type": "execute_result",
          "data": {
            "text/plain": [
              "'/content/index.zip'"
            ],
            "application/vnd.google.colaboratory.intrinsic+json": {
              "type": "string"
            }
          },
          "metadata": {},
          "execution_count": 41
        }
      ]
    },
    {
      "cell_type": "code",
      "source": [
        "!unzip /content/index.zip\n",
        "#!mv /content/content/splade/experiments /content/experiments"
      ],
      "metadata": {
        "colab": {
          "base_uri": "https://localhost:8080/"
        },
        "id": "RmlFKuf-_G9v",
        "outputId": "fe0dd0e3-0620-4c02-f9da-a72e7ddd8d33"
      },
      "execution_count": 42,
      "outputs": [
        {
          "output_type": "stream",
          "name": "stdout",
          "text": [
            "Archive:  /content/index.zip\n",
            "   creating: splade/experiments/pt/index/\n",
            "  inflating: splade/experiments/pt/index/doc_ids.pkl  \n",
            "  inflating: splade/experiments/pt/index/array_index.h5py  \n",
            "  inflating: splade/experiments/pt/index/index_dist.json  \n",
            " extracting: splade/experiments/pt/index/index_stats.json  \n"
          ]
        }
      ]
    },
    {
      "cell_type": "code",
      "source": [
        "!mkdir -p experiments/pt/out/other_dataset\n"
      ],
      "metadata": {
        "id": "n5SU5nX6BLIr"
      },
      "execution_count": 52,
      "outputs": []
    },
    {
      "cell_type": "code",
      "source": [
        "%%shell\n",
        "cd splade/\n",
        "export PYTHONPATH=$PYTHONPATH:$(pwd)\n",
        "export SPLADE_CONFIG_NAME=\"config_splade_pt.yaml\"\n",
        "python3 -m splade.retrieve \\\n",
        "  config.checkpoint_dir=experiments/pt/checkpoint \\\n",
        "  config.index_dir=experiments/pt/index \\\n",
        "  config.out_dir=experiments/pt/out"
      ],
      "metadata": {
        "colab": {
          "base_uri": "https://localhost:8080/"
        },
        "id": "wh4GMvfmlCfW",
        "outputId": "b99fed9d-0607-488f-d883-23ca4e576029"
      },
      "execution_count": 63,
      "outputs": [
        {
          "output_type": "stream",
          "name": "stdout",
          "text": [
            "/content/splade/splade/evaluate.py:12: UserWarning: \n",
            "The version_base parameter is not specified.\n",
            "Please specify a compatability version level, or None.\n",
            "Will assume defaults for version 1.1\n",
            "  @hydra.main(config_path=CONFIG_PATH, config_name=CONFIG_NAME)\n",
            "/content/splade/splade/retrieve.py:13: UserWarning: \n",
            "The version_base parameter is not specified.\n",
            "Please specify a compatability version level, or None.\n",
            "Will assume defaults for version 1.1\n",
            "  @hydra.main(config_path=CONFIG_PATH, config_name=CONFIG_NAME)\n",
            "/usr/local/lib/python3.10/dist-packages/hydra/_internal/defaults_list.py:251: UserWarning: In 'config_splade_pt': Defaults list is missing `_self_`. See https://hydra.cc/docs/1.2/upgrades/1.0_to_1.1/default_composition_order for more information\n",
            "  warnings.warn(msg, UserWarning)\n",
            "/usr/local/lib/python3.10/dist-packages/hydra/_internal/hydra.py:119: UserWarning: Future Hydra versions will no longer change working directory at job runtime by default.\n",
            "See https://hydra.cc/docs/1.2/upgrades/1.1_to_1.2/changes_to_job_working_dir/ for more information.\n",
            "  ret = run_job(\n",
            "config:\n",
            "  lr: 2.0e-05\n",
            "  seed: 123\n",
            "  gradient_accumulation_steps: 1\n",
            "  weight_decay: 0.01\n",
            "  validation_metrics:\n",
            "  - MRR@10\n",
            "  - recall@100\n",
            "  - recall@200\n",
            "  - recall@500\n",
            "  pretrained_no_yamlconfig: false\n",
            "  nb_iterations: 150000\n",
            "  train_batch_size: 16\n",
            "  eval_batch_size: 16\n",
            "  index_retrieve_batch_size: 16\n",
            "  record_frequency: 10000\n",
            "  train_monitoring_freq: 500\n",
            "  warmup_steps: 6000\n",
            "  max_length: 256\n",
            "  fp16: false\n",
            "  matching_type: splade\n",
            "  monitoring_ckpt: MRR@10\n",
            "  loss: InBatchPairwiseNLL\n",
            "  regularizer:\n",
            "    FLOPS:\n",
            "      lambda_q: 0.0005\n",
            "      lambda_d: 0.0003\n",
            "      T: 3\n",
            "      targeted_rep: rep\n",
            "      reg: FLOPS\n",
            "  tokenizer_type: neuralmind/bert-base-portuguese-cased\n",
            "  top_k: 1000\n",
            "  threshold: 0\n",
            "  eval_metric:\n",
            "  - - mrr_10\n",
            "    - recall\n",
            "    - ndcg\n",
            "    - ndcg_cut\n",
            "    - ndcg_rel\n",
            "  checkpoint_dir: experiments/pt/checkpoint\n",
            "  index_dir: experiments/pt/index\n",
            "  out_dir: experiments/pt/out\n",
            "data:\n",
            "  type: triplets\n",
            "  TRAIN_DATA_DIR: data/pt/triplets\n",
            "  VALIDATION_SIZE_FOR_LOSS: 60000\n",
            "  VALIDATION_FULL_RANKING:\n",
            "    D_COLLECTION_PATH: data/pt/val_retrieval/collection\n",
            "    Q_COLLECTION_PATH: data/pt/val_retrieval/queries\n",
            "    QREL_PATH: data/pt/val_retrieval/qrel.json\n",
            "    TOP_K: 500\n",
            "  COLLECTION_PATH: data/pt/full_collection\n",
            "  Q_COLLECTION_PATH:\n",
            "  - data/pt/dev_queries\n",
            "  EVAL_QREL_PATH:\n",
            "  - data/pt/dev_qrel.json\n",
            "  flops_queries: data/pt/dev_queries/\n",
            "init_dict:\n",
            "  model_type_or_dir: neuralmind/bert-base-portuguese-cased\n",
            "  model_type_or_dir_q: null\n",
            "  freeze_d_model: 0\n",
            "  agg: max\n",
            "  fp16: true\n",
            "\n",
            "Some weights of the model checkpoint at neuralmind/bert-base-portuguese-cased were not used when initializing BertForMaskedLM: ['cls.seq_relationship.bias', 'cls.seq_relationship.weight']\n",
            "- This IS expected if you are initializing BertForMaskedLM from the checkpoint of a model trained on another task or with another architecture (e.g. initializing a BertForSequenceClassification model from a BertForPreTraining model).\n",
            "- This IS NOT expected if you are initializing BertForMaskedLM from the checkpoint of a model that you expect to be exactly identical (initializing a BertForSequenceClassification model from a BertForSequenceClassification model).\n",
            "Preloading dataset\n",
            "250it [00:00, 439102.18it/s]\n",
            "restoring model: Splade\n",
            "restore model on GPU at experiments/pt/checkpoint/model/model.tar\n",
            "index already exists, loading...\n",
            "100% 29794/29794 [00:12<00:00, 2477.59it/s] \n",
            "done loading index...\n",
            "100% 250/250 [00:12<00:00, 20.12it/s]\n",
            "['mrr_10', 'recall', 'ndcg', 'ndcg_cut', 'ndcg_rel']\n",
            "MRR@10: 0.5182714986931853\n",
            "recall ==> {'recall_10': 0.08102602734730256, 'recall_15': 0.103742200274391, 'recall_20': 0.12131836847818521, 'recall_30': 0.14453375878953037, 'recall_100': 0.21801337675208188, 'recall_200': 0.2685214998290427, 'recall_500': 0.34284576594493144, 'recall_1000': 0.40063635638709116, 'recall_5': 0.055145480892460616}\n",
            "ndcg ==> {'ndcg': 0.30358616690906387}\n",
            "ndcg_cut ==> {'ndcg_cut_10': 0.27966885830067434, 'ndcg_cut_15': 0.2672474329067009, 'ndcg_cut_20': 0.25812215307376496, 'ndcg_cut_30': 0.24805460049420336, 'ndcg_cut_100': 0.23563853716656216, 'ndcg_cut_200': 0.2498417189382755, 'ndcg_cut_500': 0.28036093284260766, 'ndcg_cut_1000': 0.30358616690906387, 'ndcg_cut_5': 0.309770675854095}\n",
            "ndcg_rel ==> {'ndcg_rel': 0.2950635155326725}\n"
          ]
        },
        {
          "output_type": "execute_result",
          "data": {
            "text/plain": []
          },
          "metadata": {},
          "execution_count": 63
        }
      ]
    },
    {
      "cell_type": "code",
      "source": [
        "!zip -r out_10m.zip splade/experiments/pt/out"
      ],
      "metadata": {
        "id": "l29af8l8FUPB",
        "colab": {
          "base_uri": "https://localhost:8080/"
        },
        "outputId": "dcc72a67-3cf5-4b40-dd96-e90a024a4885"
      },
      "execution_count": 64,
      "outputs": [
        {
          "output_type": "stream",
          "name": "stdout",
          "text": [
            "  adding: splade/experiments/pt/out/ (stored 0%)\n",
            "  adding: splade/experiments/pt/out/other_dataset/ (stored 0%)\n",
            "  adding: splade/experiments/pt/out/other_dataset/stats/ (stored 0%)\n",
            "  adding: splade/experiments/pt/out/other_dataset/stats/q_stats.json (stored 0%)\n",
            "  adding: splade/experiments/pt/out/other_dataset/run.json (deflated 61%)\n",
            "  adding: splade/experiments/pt/out/other_dataset/perf.json (deflated 59%)\n",
            "  adding: splade/experiments/pt/out/perf_all_datasets.json (deflated 58%)\n"
          ]
        }
      ]
    },
    {
      "cell_type": "code",
      "source": [
        "shutil.copyfile(\"out_10m.zip\", f\"{main_dir}Projeto Final/out_10m.zip\",)"
      ],
      "metadata": {
        "colab": {
          "base_uri": "https://localhost:8080/",
          "height": 36
        },
        "id": "MtJRIyqXQHqW",
        "outputId": "8af25c47-3ec6-4963-8865-deb865974ae8"
      },
      "execution_count": 65,
      "outputs": [
        {
          "output_type": "execute_result",
          "data": {
            "text/plain": [
              "'/content/gdrive/MyDrive/Unicamp-projeto-final/Projeto Final/out_10m.zip'"
            ],
            "application/vnd.google.colaboratory.intrinsic+json": {
              "type": "string"
            }
          },
          "metadata": {},
          "execution_count": 65
        }
      ]
    },
    {
      "cell_type": "code",
      "source": [],
      "metadata": {
        "id": "eUsIil2QQM3l"
      },
      "execution_count": null,
      "outputs": []
    }
  ],
  "metadata": {
    "accelerator": "GPU",
    "colab": {
      "machine_shape": "hm",
      "provenance": [],
      "gpuType": "A100"
    },
    "kernelspec": {
      "display_name": "Python 3",
      "name": "python3"
    },
    "language_info": {
      "name": "python"
    }
  },
  "nbformat": 4,
  "nbformat_minor": 0
}