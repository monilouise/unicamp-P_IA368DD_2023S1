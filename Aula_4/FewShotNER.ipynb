{
  "nbformat": 4,
  "nbformat_minor": 0,
  "metadata": {
    "colab": {
      "provenance": []
    },
    "kernelspec": {
      "name": "python3",
      "display_name": "Python 3"
    },
    "language_info": {
      "name": "python"
    }
  },
  "cells": [
    {
      "cell_type": "markdown",
      "source": [
        "# Resolvendo Tarefas de Maneira Zero e Few-shot"
      ],
      "metadata": {
        "id": "FRFUlMIkxjAc"
      }
    },
    {
      "cell_type": "markdown",
      "source": [
        "Autora: Monique Monteiro\n",
        "\n",
        "Neste notebook, é demonstrado o uso do modelo/API do ChatGPT (GPT 3.5) para uma tarefa de reconhecimento de entidades nomeadas (NER) em um dataset de notícias da mídia.  Versões anteriores desse mesmo dataset foram utilizados pela autora para treinamento com finetuning do BERTimbau na tarefa NER, tendo obtido as seguintes métricas:\n",
        "\n",
        "* precision: 0.86 \n",
        "* recall: 0.91 \n",
        "* F1: 0.88\n",
        "\n",
        "Referência: https://huggingface.co/monilouise/ner_news_portuguese\n",
        "\n"
      ],
      "metadata": {
        "id": "nEOokP2QxtlB"
      }
    },
    {
      "cell_type": "code",
      "source": [
        "pip install openai"
      ],
      "metadata": {
        "id": "qq5ER1Z46QuW"
      },
      "execution_count": null,
      "outputs": []
    },
    {
      "cell_type": "code",
      "source": [
        "from google.colab import drive\n",
        "drive.mount('/content/gdrive', force_remount=True)"
      ],
      "metadata": {
        "colab": {
          "base_uri": "https://localhost:8080/"
        },
        "id": "yECTiplrDiTr",
        "outputId": "f27e103d-799c-4250-8159-3a2ec110829e"
      },
      "execution_count": null,
      "outputs": [
        {
          "output_type": "stream",
          "name": "stdout",
          "text": [
            "Mounted at /content/gdrive\n"
          ]
        }
      ]
    },
    {
      "cell_type": "code",
      "source": [
        "main_path = \"/content/gdrive/MyDrive/Unicamp-aula-4\""
      ],
      "metadata": {
        "id": "SolQ4n8cEqhA"
      },
      "execution_count": null,
      "outputs": []
    },
    {
      "cell_type": "code",
      "source": [
        "max_length = 500"
      ],
      "metadata": {
        "id": "LWxqw88XywAQ"
      },
      "execution_count": null,
      "outputs": []
    },
    {
      "cell_type": "code",
      "source": [
        "entity_types_map = {\"PESSOA\":\"PESSOA\", \"LOC\":\"LOCAL\", \"ORG\":\"ORGANIZAÇÃO PRIVADA\", \"PUB\":\"INSTITUIÇÃO PÚBLICA\"} "
      ],
      "metadata": {
        "id": "JwZu5wY1y76R"
      },
      "execution_count": null,
      "outputs": []
    },
    {
      "cell_type": "code",
      "source": [
        "import json\n",
        "from collections import defaultdict\n",
        "\n",
        "full_data = []\n",
        "i = 0\n",
        "\n",
        "with open(f\"{main_path}/labeled_4_labels_pub.jsonl\", 'r') as f:\n",
        "    for line in f:\n",
        "        data = json.loads(line)\n",
        "        #Como os textos a serem repassados ao ChatGPT tên um limite de tamanho, tenho que criar um novo alvo (target) que contenha menos entidades\n",
        "        reduced_text = ' '.join(data[\"text\"].split()[0:max_length])\n",
        "        data[\"reduced_text\"] = reduced_text\n",
        "        new_target = defaultdict(list)\n",
        "        for start, end, ent_type in data[\"labels\"]:\n",
        "          if end < len(reduced_text):\n",
        "            new_target[entity_types_map[ent_type]].append(data[\"text\"][start:end].strip())\n",
        "        new_data = {\"text\":reduced_text, \"labels\":new_target}\n",
        "        full_data.append(new_data)\n",
        "        i += 1\n"
      ],
      "metadata": {
        "id": "mU7c5UVZDWet"
      },
      "execution_count": null,
      "outputs": []
    },
    {
      "cell_type": "code",
      "source": [
        "print(full_data[68]['labels'])"
      ],
      "metadata": {
        "colab": {
          "base_uri": "https://localhost:8080/"
        },
        "id": "d10u0I_XRz7Y",
        "outputId": "cd6c42d9-856e-4b4e-b737-bde9bef5cb25"
      },
      "execution_count": null,
      "outputs": [
        {
          "output_type": "stream",
          "name": "stdout",
          "text": [
            "defaultdict(<class 'list'>, {'PESSOA': ['Helder Barbalho', 'Hana Ghassan', 'Alberto Beltrame', 'Helder Barbalho', 'Alberto Beltrame', 'Hana Ghassan', 'Helder Barbalho', 'Helder Barbalho', 'Helder Barbalho', 'Alberto Beltrame', 'Alberto Beltrame'], 'INSTITUIÇÃO PÚBLICA': ['Governo do Pará', 'Secretaria de Saúde do Estado', 'Auditoria-Geral do Estado', 'AGE', 'Ministério Público Federal', 'MPF', 'Ministério Público do Estado', 'MP-PA', 'Ministério Público de Contas', 'MPC', 'Tribunal de Contas do Estado', 'TCE', 'Secretaria de Estado de Saúde Pública', 'Sespa']})\n"
          ]
        }
      ]
    },
    {
      "cell_type": "markdown",
      "source": [
        "## Few-shot learning"
      ],
      "metadata": {
        "id": "9ecuCuUJFlHH"
      }
    },
    {
      "cell_type": "code",
      "source": [
        "from collections import defaultdict\n",
        "\n",
        "def convert_doccano_to_gpt(doc):\n",
        "  text = ' '.join(doc[\"text\"].split()[:max_length])\n",
        "  len_text = len(text)\n",
        "  text = \"Sentença: \" + text + \".\\n Saída: \"\n",
        "\n",
        "  print(doc[\"labels\"])\n",
        "  #Ordena as entidades por posição\n",
        "  #doc[\"labels\"] = sorted(doc[\"labels\"], key=lambda x: x[0])\n",
        "\n",
        "  \n",
        "  return text + str(doc[\"labels\"]).replace(\"defaultdict(<class 'list'>,\",\"\")\n",
        "\n"
      ],
      "metadata": {
        "id": "xxzndutLFbsG"
      },
      "execution_count": null,
      "outputs": []
    },
    {
      "cell_type": "code",
      "source": [
        "import random\n",
        "\n",
        "random.seed(123)\n",
        "\n",
        "few_shot_indices = random.sample(range(len(full_data)), 2)\n",
        "few_shot_list = [full_data[i] for i in few_shot_indices]"
      ],
      "metadata": {
        "id": "aKntWNdWQfgp"
      },
      "execution_count": null,
      "outputs": []
    },
    {
      "cell_type": "code",
      "source": [
        "few_shot_indices"
      ],
      "metadata": {
        "colab": {
          "base_uri": "https://localhost:8080/"
        },
        "id": "sXCS1YKf2SJ-",
        "outputId": "961fd482-7dd9-4990-864a-47fa70306809"
      },
      "execution_count": null,
      "outputs": [
        {
          "output_type": "execute_result",
          "data": {
            "text/plain": [
              "[13, 68]"
            ]
          },
          "metadata": {},
          "execution_count": 226
        }
      ]
    },
    {
      "cell_type": "code",
      "source": [
        "full_data[13]"
      ],
      "metadata": {
        "colab": {
          "base_uri": "https://localhost:8080/"
        },
        "id": "b0W35Fek2OkR",
        "outputId": "b2c87121-51f5-4b92-de0b-09710100fead"
      },
      "execution_count": null,
      "outputs": [
        {
          "output_type": "execute_result",
          "data": {
            "text/plain": [
              "{'text': 'TCE-RJ aponta sobrepreço na compra de respiradores Data: 25/05/2020 A auditoria foi realizada entre 27 e 30 de abril em três contratos assinados para a aquisição de mil respiradores, com valor total de R$ 183,5 milhões - Imprensa/RJ O Tribunal de Contas do Estado do Rio de Janeiro (TCE-RJ), por meio da Secretaria Geral de Controle Externo (SGE), concluiu o relatório de Auditoria Governamental para verificar irregularidades nos contratos emergenciais da Secretaria Estadual de Saúde do Rio para a aquisição de ventiladores pulmonares no combate à pandemia do novo coronavírus e apurou um sobrepreço de R$ 123 milhões na aquisição dos respiradores. A auditoria aponta o ex-secretário estadual de Saúde, Edmar José dos Santos e o ex-subsecretário Gabriell Carvalho Neves Franco dos Santos como principais responsáveis pelas irregularidades e solicita a apresentação de razões de defesa ou o ressarcimento aos cofres públicos de R$ 36,5 milhões. A auditoria foi realizada entre 27 e 30 de abril em três contratos assinados para a aquisição de mil respiradores, com valor total de R$ 183,5 milhões. Ao todo, foram contratadas três empresas: ARC Fontoura Indústria Comércio e Representações, A2A Comércio Serviços e Representações e MHS Produtos e Serviços. O estudo técnico do TCE-RJ apontou que os respiradores foram comprados com preços que equivaliam, em média, ao triplo adotado como referência no mercado, implicando um sobrepreço médio aproximado de 200%. A empresa ARC Fontoura aplicou um sobrepreço de 183%, enquanto a A2A, 230%, e a MHS, 212%. Possíveis irregularidades A auditoria apontou sete possíveis irregularidades: contratação de empresas inaptas ao fornecimento emergencial pretendido; direcionamento Ilícito da contratação; pagamento antecipado sem a prestação de garantia; ausência injustificada de estimativas de preço; ausência injustificada de estimativas de quantidade; sobrepreço injustificado das contratações emergenciais; e liquidação irregular de despesa, pelo recebimento de equipamentos inservíveis para os fins a que se destinava a contratação. O relatório alerta tanto o dano ao erário quanto o risco à saúde da população fluminense. \"Merece destaque a gravidade das condutas de cada um dos responsáveis aludidos, considerando que deliberadamente admitiram o recebimento, com o consequente pagamento, de equipamentos em flagrante desconformidade às especificações técnicas necessárias, não apenas acarretando dano ao erário, mas colocando em risco a saúde de toda a população fluminense, tendo em vista o objeto contratado e o contexto em que se insere, mais uma vez indicando se não o dolo, uma culpa grave\", alerta o relatório da Secretaria Geral de Controle Externo do TCE-RJ. Também foram encontrados ainda fortes indícios de fraude na condução do processo das contratações, que reforçam a gravidade das irregularidades descritas nos achados, o que fez o TCE-RJ dar imediata ciência dos fatos ao Ministério Público Estadual, como determina o acordo de cooperação assinado para fiscalização conjunta dos atos destinados ao enfrentamento da pandemia de covid-19. Compartilhar: Tweetar',\n",
              " 'labels': defaultdict(list,\n",
              "             {'PESSOA': ['Edmar José dos Santos',\n",
              "               'Gabriell Carvalho Neves Franco dos Santos'],\n",
              "              'ORGANIZAÇÃO PRIVADA': ['ARC Fontoura Indústria Comércio e Representações',\n",
              "               'A2A Comércio Serviços e Representações',\n",
              "               'MHS Produtos e Serviços',\n",
              "               'ARC Fontoura',\n",
              "               'A2A',\n",
              "               'MHS'],\n",
              "              'INSTITUIÇÃO PÚBLICA': ['TCE-RJ',\n",
              "               'Tribunal de Contas do Estado do Rio de Janeiro',\n",
              "               'TCE-RJ',\n",
              "               'Secretaria Geral de Controle Externo',\n",
              "               'SGE',\n",
              "               'Secretaria Estadual de Saúde do Rio',\n",
              "               'Secretaria Geral de Controle Externo do TCE-RJ',\n",
              "               'TCE-RJ',\n",
              "               'Ministério Público Estadual'],\n",
              "              'LOCAL': ['RJ']})}"
            ]
          },
          "metadata": {},
          "execution_count": 227
        }
      ]
    },
    {
      "cell_type": "code",
      "source": [
        "few_shot_list"
      ],
      "metadata": {
        "colab": {
          "base_uri": "https://localhost:8080/"
        },
        "id": "UGFp1aoV2Eap",
        "outputId": "16f390d3-6002-4ab7-c799-93c851c650a7"
      },
      "execution_count": null,
      "outputs": [
        {
          "output_type": "execute_result",
          "data": {
            "text/plain": [
              "[{'text': 'TCE-RJ aponta sobrepreço na compra de respiradores Data: 25/05/2020 A auditoria foi realizada entre 27 e 30 de abril em três contratos assinados para a aquisição de mil respiradores, com valor total de R$ 183,5 milhões - Imprensa/RJ O Tribunal de Contas do Estado do Rio de Janeiro (TCE-RJ), por meio da Secretaria Geral de Controle Externo (SGE), concluiu o relatório de Auditoria Governamental para verificar irregularidades nos contratos emergenciais da Secretaria Estadual de Saúde do Rio para a aquisição de ventiladores pulmonares no combate à pandemia do novo coronavírus e apurou um sobrepreço de R$ 123 milhões na aquisição dos respiradores. A auditoria aponta o ex-secretário estadual de Saúde, Edmar José dos Santos e o ex-subsecretário Gabriell Carvalho Neves Franco dos Santos como principais responsáveis pelas irregularidades e solicita a apresentação de razões de defesa ou o ressarcimento aos cofres públicos de R$ 36,5 milhões. A auditoria foi realizada entre 27 e 30 de abril em três contratos assinados para a aquisição de mil respiradores, com valor total de R$ 183,5 milhões. Ao todo, foram contratadas três empresas: ARC Fontoura Indústria Comércio e Representações, A2A Comércio Serviços e Representações e MHS Produtos e Serviços. O estudo técnico do TCE-RJ apontou que os respiradores foram comprados com preços que equivaliam, em média, ao triplo adotado como referência no mercado, implicando um sobrepreço médio aproximado de 200%. A empresa ARC Fontoura aplicou um sobrepreço de 183%, enquanto a A2A, 230%, e a MHS, 212%. Possíveis irregularidades A auditoria apontou sete possíveis irregularidades: contratação de empresas inaptas ao fornecimento emergencial pretendido; direcionamento Ilícito da contratação; pagamento antecipado sem a prestação de garantia; ausência injustificada de estimativas de preço; ausência injustificada de estimativas de quantidade; sobrepreço injustificado das contratações emergenciais; e liquidação irregular de despesa, pelo recebimento de equipamentos inservíveis para os fins a que se destinava a contratação. O relatório alerta tanto o dano ao erário quanto o risco à saúde da população fluminense. \"Merece destaque a gravidade das condutas de cada um dos responsáveis aludidos, considerando que deliberadamente admitiram o recebimento, com o consequente pagamento, de equipamentos em flagrante desconformidade às especificações técnicas necessárias, não apenas acarretando dano ao erário, mas colocando em risco a saúde de toda a população fluminense, tendo em vista o objeto contratado e o contexto em que se insere, mais uma vez indicando se não o dolo, uma culpa grave\", alerta o relatório da Secretaria Geral de Controle Externo do TCE-RJ. Também foram encontrados ainda fortes indícios de fraude na condução do processo das contratações, que reforçam a gravidade das irregularidades descritas nos achados, o que fez o TCE-RJ dar imediata ciência dos fatos ao Ministério Público Estadual, como determina o acordo de cooperação assinado para fiscalização conjunta dos atos destinados ao enfrentamento da pandemia de covid-19. Compartilhar: Tweetar',\n",
              "  'labels': defaultdict(list,\n",
              "              {'PESSOA': ['Edmar José dos Santos',\n",
              "                'Gabriell Carvalho Neves Franco dos Santos'],\n",
              "               'ORGANIZAÇÃO PRIVADA': ['ARC Fontoura Indústria Comércio e Representações',\n",
              "                'A2A Comércio Serviços e Representações',\n",
              "                'MHS Produtos e Serviços',\n",
              "                'ARC Fontoura',\n",
              "                'A2A',\n",
              "                'MHS'],\n",
              "               'INSTITUIÇÃO PÚBLICA': ['TCE-RJ',\n",
              "                'Tribunal de Contas do Estado do Rio de Janeiro',\n",
              "                'TCE-RJ',\n",
              "                'Secretaria Geral de Controle Externo',\n",
              "                'SGE',\n",
              "                'Secretaria Estadual de Saúde do Rio',\n",
              "                'Secretaria Geral de Controle Externo do TCE-RJ',\n",
              "                'TCE-RJ',\n",
              "                'Ministério Público Estadual'],\n",
              "               'LOCAL': ['RJ']})},\n",
              " {'text': '09/04/2020 22h32 - Atualizada em 10/04/2020 00h40 Por Jackie Carrera (SECOM) O governador Helder Barbalho (c), ao lado dos secretários Hana Ghassan (e) e Alberto Beltrame, reiterou a lisura nas aquisições de insumos e equipamentos, e na contratação de serviços pelo EstadoEm mais um comunicado oficial para atualizar os dados e ações do Governo do Pará no enfrentamento ao novo Coronavírus, nesta quinta-feira (09), o governador Helder Barbalho destacou a condução ética e transparente nos gastos públicos, sobretudo durante a pandemia de Covid-19. Ao lado dos secretários de Estado de Saúde Pública, Alberto Beltrame, e de Administração e Planejamento, Hana Ghassan, o chefe do Executivo lamentou a disseminação de acusações infundadas, com o objetivo de “macular a imagem e desestabilizar a equipe da Secretaria de Saúde do Estado, que tem feito um trabalho absolutamente adequado e correto”. O governador se referiu às falsas denúncias de fraudes na aquisição de lanches, insumos e EPIs (equipamentos de proteção individual) pelo Estado, espalhadas em aplicativos de mensagens para, reiterou Helder Barbalho, confundir à população. “Uma campanha de redes socais que, lamentavelmente, tem atacado o governo, e isto fundamentalmente vindo de pessoas que não estão preocupadas com o Coronavírus; estão preocupadas em fazer política”, assegurou. Helder Barbalho citou, mais uma vez, a Comissão coordenada pela Auditoria-Geral do Estado (AGE) destinada a monitorar as aquisições, com apoio do Ministério Público Federal (MPF), Ministério Público do Estado (MP-PA), Ministério Público de Contas (MPC) e Tribunal de Contas do Estado (TCE). Ele adiantou que pretende convocar todas as entidades participantes da Comissão para atuação efetiva na pesquisa e cotação de preços e contratações de serviços. Helder Barbalho lamentou as acusações infundadas em redes sociais, que atribuiu a quem pretende apenas confundir à população “Quero, inclusive, a assinatura de todos os participantes, e vou pedir a presença de todos como partícipes efetivos. Não é só pra olhar; é pra participar, para nos ajudar a comprar, a pesquisar preços, no chamamento público, na contratação dos serviços” afirmou o governador. Compras e contratações – Em relação às denúncias de compras superfaturadas, o secretário Alberto Beltrame foi enfático ao garantir que a Secretaria de Estado de Saúde Pública (Sespa) atua com total responsabilidade e seriedade. “Aqui ninguém está tirando proveito de ninguém, do desespero de ninguém, muito menos economicamente. Estamos tranquilos em relação a isso”, assegurou. Alberto Beltrame disse ainda que a sociedade precisa entender o dilema que é encontrar, com preços estáveis, produtos “que começam a faltar no mercado numa situação de guerra”. Segundo ele, uma máscara que antes era adquirida ao preço unitário de R$ 3,00 ou R$ 4,00, agora está sendo comercializada a R$ 10,00 ou R$ 30,00, dependendo da oferta e do prazo de entrega. “Nós queríamos comprar 30 mil máscaras N95. Fizemos um chamamento público, e a mais barata era R$ 15,00, com prazo de entrega para 30 dias. Aí tem uma segunda empresa que te oferece a R$ 25,00 para entrega imediata. Nós temos profissionais na linha de frente se expondo ao risco de contaminação.',\n",
              "  'labels': defaultdict(list,\n",
              "              {'PESSOA': ['Helder Barbalho',\n",
              "                'Hana Ghassan',\n",
              "                'Alberto Beltrame',\n",
              "                'Helder Barbalho',\n",
              "                'Alberto Beltrame',\n",
              "                'Hana Ghassan',\n",
              "                'Helder Barbalho',\n",
              "                'Helder Barbalho',\n",
              "                'Helder Barbalho',\n",
              "                'Alberto Beltrame',\n",
              "                'Alberto Beltrame'],\n",
              "               'INSTITUIÇÃO PÚBLICA': ['Governo do Pará',\n",
              "                'Secretaria de Saúde do Estado',\n",
              "                'Auditoria-Geral do Estado',\n",
              "                'AGE',\n",
              "                'Ministério Público Federal',\n",
              "                'MPF',\n",
              "                'Ministério Público do Estado',\n",
              "                'MP-PA',\n",
              "                'Ministério Público de Contas',\n",
              "                'MPC',\n",
              "                'Tribunal de Contas do Estado',\n",
              "                'TCE',\n",
              "                'Secretaria de Estado de Saúde Pública',\n",
              "                'Sespa']})}]"
            ]
          },
          "metadata": {},
          "execution_count": 228
        }
      ]
    },
    {
      "cell_type": "code",
      "source": [
        "few_shot_list = [convert_doccano_to_gpt(e) for e in few_shot_list]"
      ],
      "metadata": {
        "colab": {
          "base_uri": "https://localhost:8080/"
        },
        "id": "wPWquy33ZLwB",
        "outputId": "ffacaf7d-bca5-4e2a-ca3e-29c579c1591a"
      },
      "execution_count": null,
      "outputs": [
        {
          "output_type": "stream",
          "name": "stdout",
          "text": [
            "defaultdict(<class 'list'>, {'PESSOA': ['Edmar José dos Santos', 'Gabriell Carvalho Neves Franco dos Santos'], 'ORGANIZAÇÃO PRIVADA': ['ARC Fontoura Indústria Comércio e Representações', 'A2A Comércio Serviços e Representações', 'MHS Produtos e Serviços', 'ARC Fontoura', 'A2A', 'MHS'], 'INSTITUIÇÃO PÚBLICA': ['TCE-RJ', 'Tribunal de Contas do Estado do Rio de Janeiro', 'TCE-RJ', 'Secretaria Geral de Controle Externo', 'SGE', 'Secretaria Estadual de Saúde do Rio', 'Secretaria Geral de Controle Externo do TCE-RJ', 'TCE-RJ', 'Ministério Público Estadual'], 'LOCAL': ['RJ']})\n",
            "defaultdict(<class 'list'>, {'PESSOA': ['Helder Barbalho', 'Hana Ghassan', 'Alberto Beltrame', 'Helder Barbalho', 'Alberto Beltrame', 'Hana Ghassan', 'Helder Barbalho', 'Helder Barbalho', 'Helder Barbalho', 'Alberto Beltrame', 'Alberto Beltrame'], 'INSTITUIÇÃO PÚBLICA': ['Governo do Pará', 'Secretaria de Saúde do Estado', 'Auditoria-Geral do Estado', 'AGE', 'Ministério Público Federal', 'MPF', 'Ministério Público do Estado', 'MP-PA', 'Ministério Público de Contas', 'MPC', 'Tribunal de Contas do Estado', 'TCE', 'Secretaria de Estado de Saúde Pública', 'Sespa']})\n"
          ]
        }
      ]
    },
    {
      "cell_type": "code",
      "source": [
        "HEADER_PROMPT = \"Diga quais entidades são do tipo PESSOA, do tipo INSTITUIÇÃO PÚBLICA, do tipo ORGANIZAÇÃO PRIVADA ou do tipo LOCAL.\"\n",
        "guidelines_prompt = \"Exemplos:\\n\"\n",
        "for i, example in enumerate(few_shot_list):\n",
        "  guidelines_prompt += f\"{i+1}. {example}\\n\"\n",
        "guidelines_prompt += \"Sentença: \""
      ],
      "metadata": {
        "id": "d-TTYYJhZ74T"
      },
      "execution_count": 384,
      "outputs": []
    },
    {
      "cell_type": "code",
      "source": [
        "guidelines_prompt"
      ],
      "metadata": {
        "colab": {
          "base_uri": "https://localhost:8080/",
          "height": 137
        },
        "id": "iicWgD4-rQeP",
        "outputId": "a1d15fdd-0276-4c54-d616-b9999a307eb0"
      },
      "execution_count": null,
      "outputs": [
        {
          "output_type": "execute_result",
          "data": {
            "text/plain": [
              "'Exemplos:\\n1. Sentença: TCE-RJ aponta sobrepreço na compra de respiradores Data: 25/05/2020 A auditoria foi realizada entre 27 e 30 de abril em três contratos assinados para a aquisição de mil respiradores, com valor total de R$ 183,5 milhões - Imprensa/RJ O Tribunal de Contas do Estado do Rio de Janeiro (TCE-RJ), por meio da Secretaria Geral de Controle Externo (SGE), concluiu o relatório de Auditoria Governamental para verificar irregularidades nos contratos emergenciais da Secretaria Estadual de Saúde do Rio para a aquisição de ventiladores pulmonares no combate à pandemia do novo coronavírus e apurou um sobrepreço de R$ 123 milhões na aquisição dos respiradores. A auditoria aponta o ex-secretário estadual de Saúde, Edmar José dos Santos e o ex-subsecretário Gabriell Carvalho Neves Franco dos Santos como principais responsáveis pelas irregularidades e solicita a apresentação de razões de defesa ou o ressarcimento aos cofres públicos de R$ 36,5 milhões. A auditoria foi realizada entre 27 e 30 de abril em três contratos assinados para a aquisição de mil respiradores, com valor total de R$ 183,5 milhões. Ao todo, foram contratadas três empresas: ARC Fontoura Indústria Comércio e Representações, A2A Comércio Serviços e Representações e MHS Produtos e Serviços. O estudo técnico do TCE-RJ apontou que os respiradores foram comprados com preços que equivaliam, em média, ao triplo adotado como referência no mercado, implicando um sobrepreço médio aproximado de 200%. A empresa ARC Fontoura aplicou um sobrepreço de 183%, enquanto a A2A, 230%, e a MHS, 212%. Possíveis irregularidades A auditoria apontou sete possíveis irregularidades: contratação de empresas inaptas ao fornecimento emergencial pretendido; direcionamento Ilícito da contratação; pagamento antecipado sem a prestação de garantia; ausência injustificada de estimativas de preço; ausência injustificada de estimativas de quantidade; sobrepreço injustificado das contratações emergenciais; e liquidação irregular de despesa, pelo recebimento de equipamentos inservíveis para os fins a que se destinava a contratação. O relatório alerta tanto o dano ao erário quanto o risco à saúde da população fluminense. \"Merece destaque a gravidade das condutas de cada um dos responsáveis aludidos, considerando que deliberadamente admitiram o recebimento, com o consequente pagamento, de equipamentos em flagrante desconformidade às especificações técnicas necessárias, não apenas acarretando dano ao erário, mas colocando em risco a saúde de toda a população fluminense, tendo em vista o objeto contratado e o contexto em que se insere, mais uma vez indicando se não o dolo, uma culpa grave\", alerta o relatório da Secretaria Geral de Controle Externo do TCE-RJ. Também foram encontrados ainda fortes indícios de fraude na condução do processo das contratações, que reforçam a gravidade das irregularidades descritas nos achados, o que fez o TCE-RJ dar imediata ciência dos fatos ao Ministério Público Estadual, como determina o acordo de cooperação assinado para fiscalização conjunta dos atos destinados ao enfrentamento da pandemia de covid-19. Compartilhar: Tweetar.\\n Saída:  {\\'PESSOA\\': [\\'Edmar José dos Santos\\', \\'Gabriell Carvalho Neves Franco dos Santos\\'], \\'ORGANIZAÇÃO PRIVADA\\': [\\'ARC Fontoura Indústria Comércio e Representações\\', \\'A2A Comércio Serviços e Representações\\', \\'MHS Produtos e Serviços\\', \\'ARC Fontoura\\', \\'A2A\\', \\'MHS\\'], \\'INSTITUIÇÃO PÚBLICA\\': [\\'TCE-RJ\\', \\'Tribunal de Contas do Estado do Rio de Janeiro\\', \\'TCE-RJ\\', \\'Secretaria Geral de Controle Externo\\', \\'SGE\\', \\'Secretaria Estadual de Saúde do Rio\\', \\'Secretaria Geral de Controle Externo do TCE-RJ\\', \\'TCE-RJ\\', \\'Ministério Público Estadual\\'], \\'LOCAL\\': [\\'RJ\\']})\\n2. Sentença: 09/04/2020 22h32 - Atualizada em 10/04/2020 00h40 Por Jackie Carrera (SECOM) O governador Helder Barbalho (c), ao lado dos secretários Hana Ghassan (e) e Alberto Beltrame, reiterou a lisura nas aquisições de insumos e equipamentos, e na contratação de serviços pelo EstadoEm mais um comunicado oficial para atualizar os dados e ações do Governo do Pará no enfrentamento ao novo Coronavírus, nesta quinta-feira (09), o governador Helder Barbalho destacou a condução ética e transparente nos gastos públicos, sobretudo durante a pandemia de Covid-19. Ao lado dos secretários de Estado de Saúde Pública, Alberto Beltrame, e de Administração e Planejamento, Hana Ghassan, o chefe do Executivo lamentou a disseminação de acusações infundadas, com o objetivo de “macular a imagem e desestabilizar a equipe da Secretaria de Saúde do Estado, que tem feito um trabalho absolutamente adequado e correto”. O governador se referiu às falsas denúncias de fraudes na aquisição de lanches, insumos e EPIs (equipamentos de proteção individual) pelo Estado, espalhadas em aplicativos de mensagens para, reiterou Helder Barbalho, confundir à população. “Uma campanha de redes socais que, lamentavelmente, tem atacado o governo, e isto fundamentalmente vindo de pessoas que não estão preocupadas com o Coronavírus; estão preocupadas em fazer política”, assegurou. Helder Barbalho citou, mais uma vez, a Comissão coordenada pela Auditoria-Geral do Estado (AGE) destinada a monitorar as aquisições, com apoio do Ministério Público Federal (MPF), Ministério Público do Estado (MP-PA), Ministério Público de Contas (MPC) e Tribunal de Contas do Estado (TCE). Ele adiantou que pretende convocar todas as entidades participantes da Comissão para atuação efetiva na pesquisa e cotação de preços e contratações de serviços. Helder Barbalho lamentou as acusações infundadas em redes sociais, que atribuiu a quem pretende apenas confundir à população “Quero, inclusive, a assinatura de todos os participantes, e vou pedir a presença de todos como partícipes efetivos. Não é só pra olhar; é pra participar, para nos ajudar a comprar, a pesquisar preços, no chamamento público, na contratação dos serviços” afirmou o governador. Compras e contratações – Em relação às denúncias de compras superfaturadas, o secretário Alberto Beltrame foi enfático ao garantir que a Secretaria de Estado de Saúde Pública (Sespa) atua com total responsabilidade e seriedade. “Aqui ninguém está tirando proveito de ninguém, do desespero de ninguém, muito menos economicamente. Estamos tranquilos em relação a isso”, assegurou. Alberto Beltrame disse ainda que a sociedade precisa entender o dilema que é encontrar, com preços estáveis, produtos “que começam a faltar no mercado numa situação de guerra”. Segundo ele, uma máscara que antes era adquirida ao preço unitário de R$ 3,00 ou R$ 4,00, agora está sendo comercializada a R$ 10,00 ou R$ 30,00, dependendo da oferta e do prazo de entrega. “Nós queríamos comprar 30 mil máscaras N95. Fizemos um chamamento público, e a mais barata era R$ 15,00, com prazo de entrega para 30 dias. Aí tem uma segunda empresa que te oferece a R$ 25,00 para entrega imediata. Nós temos profissionais na linha de frente se expondo ao risco de contaminação..\\n Saída:  {\\'PESSOA\\': [\\'Helder Barbalho\\', \\'Hana Ghassan\\', \\'Alberto Beltrame\\', \\'Helder Barbalho\\', \\'Alberto Beltrame\\', \\'Hana Ghassan\\', \\'Helder Barbalho\\', \\'Helder Barbalho\\', \\'Helder Barbalho\\', \\'Alberto Beltrame\\', \\'Alberto Beltrame\\'], \\'INSTITUIÇÃO PÚBLICA\\': [\\'Governo do Pará\\', \\'Secretaria de Saúde do Estado\\', \\'Auditoria-Geral do Estado\\', \\'AGE\\', \\'Ministério Público Federal\\', \\'MPF\\', \\'Ministério Público do Estado\\', \\'MP-PA\\', \\'Ministério Público de Contas\\', \\'MPC\\', \\'Tribunal de Contas do Estado\\', \\'TCE\\', \\'Secretaria de Estado de Saúde Pública\\', \\'Sespa\\']})\\nSentença: '"
            ],
            "application/vnd.google.colaboratory.intrinsic+json": {
              "type": "string"
            }
          },
          "metadata": {},
          "execution_count": 231
        }
      ]
    },
    {
      "cell_type": "code",
      "source": [
        "key = input(\"Key:\")"
      ],
      "metadata": {
        "id": "uXPbWaHAskcv"
      },
      "execution_count": null,
      "outputs": []
    },
    {
      "cell_type": "code",
      "source": [
        "import openai\n",
        "\n",
        "openai.api_key = key\n",
        "\n",
        "def openai_chat_completion_response(final_prompt, prompt=HEADER_PROMPT):\n",
        "  response = openai.ChatCompletion.create(\n",
        "              model=\"gpt-3.5-turbo\",\n",
        "              messages=[\n",
        "                    {\"role\": \"system\", \"content\": prompt},\n",
        "                    {\"role\": \"user\", \"content\": \"Entendeu?\"},\n",
        "                    {\"role\": \"assistant\", \"content\": \"Entendi sim!\"},\n",
        "                    {\"role\": \"user\", \"content\": final_prompt}\n",
        "                ]\n",
        "            )\n",
        "\n",
        "  return response"
      ],
      "metadata": {
        "id": "MVBV08zygors"
      },
      "execution_count": 385,
      "outputs": []
    },
    {
      "cell_type": "code",
      "source": [
        "final_prompt = guidelines_prompt + ' '.join(full_data[0][\"text\"].split()[:max_length]) + \"\\nSaída: \""
      ],
      "metadata": {
        "id": "-foRDlkQuGrw"
      },
      "execution_count": null,
      "outputs": []
    },
    {
      "cell_type": "code",
      "source": [
        "response = openai_chat_completion_response(final_prompt)"
      ],
      "metadata": {
        "colab": {
          "base_uri": "https://localhost:8080/"
        },
        "id": "Os_uAhPrtlX6",
        "outputId": "71ddca3c-57e0-4797-e2a6-b9628d8bc347"
      },
      "execution_count": null,
      "outputs": [
        {
          "output_type": "stream",
          "name": "stdout",
          "text": [
            "Exemplos:\n",
            "1. Sentença: TCE-RJ aponta sobrepreço na compra de respiradores Data: 25/05/2020 A auditoria foi realizada entre 27 e 30 de abril em três contratos assinados para a aquisição de mil respiradores, com valor total de R$ 183,5 milhões - Imprensa/RJ O Tribunal de Contas do Estado do Rio de Janeiro (TCE-RJ), por meio da Secretaria Geral de Controle Externo (SGE), concluiu o relatório de Auditoria Governamental para verificar irregularidades nos contratos emergenciais da Secretaria Estadual de Saúde do Rio para a aquisição de ventiladores pulmonares no combate à pandemia do novo coronavírus e apurou um sobrepreço de R$ 123 milhões na aquisição dos respiradores. A auditoria aponta o ex-secretário estadual de Saúde, Edmar José dos Santos e o ex-subsecretário Gabriell Carvalho Neves Franco dos Santos como principais responsáveis pelas irregularidades e solicita a apresentação de razões de defesa ou o ressarcimento aos cofres públicos de R$ 36,5 milhões. A auditoria foi realizada entre 27 e 30 de abril em três contratos assinados para a aquisição de mil respiradores, com valor total de R$ 183,5 milhões. Ao todo, foram contratadas três empresas: ARC Fontoura Indústria Comércio e Representações, A2A Comércio Serviços e Representações e MHS Produtos e Serviços. O estudo técnico do TCE-RJ apontou que os respiradores foram comprados com preços que equivaliam, em média, ao triplo adotado como referência no mercado, implicando um sobrepreço médio aproximado de 200%. A empresa ARC Fontoura aplicou um sobrepreço de 183%, enquanto a A2A, 230%, e a MHS, 212%. Possíveis irregularidades A auditoria apontou sete possíveis irregularidades: contratação de empresas inaptas ao fornecimento emergencial pretendido; direcionamento Ilícito da contratação; pagamento antecipado sem a prestação de garantia; ausência injustificada de estimativas de preço; ausência injustificada de estimativas de quantidade; sobrepreço injustificado das contratações emergenciais; e liquidação irregular de despesa, pelo recebimento de equipamentos inservíveis para os fins a que se destinava a contratação. O relatório alerta tanto o dano ao erário quanto o risco à saúde da população fluminense. \"Merece destaque a gravidade das condutas de cada um dos responsáveis aludidos, considerando que deliberadamente admitiram o recebimento, com o consequente pagamento, de equipamentos em flagrante desconformidade às especificações técnicas necessárias, não apenas acarretando dano ao erário, mas colocando em risco a saúde de toda a população fluminense, tendo em vista o objeto contratado e o contexto em que se insere, mais uma vez indicando se não o dolo, uma culpa grave\", alerta o relatório da Secretaria Geral de Controle Externo do TCE-RJ. Também foram encontrados ainda fortes indícios de fraude na condução do processo das contratações, que reforçam a gravidade das irregularidades descritas nos achados, o que fez o TCE-RJ dar imediata ciência dos fatos ao Ministério Público Estadual, como determina o acordo de cooperação assinado para fiscalização conjunta dos atos destinados ao enfrentamento da pandemia de covid-19. Compartilhar: Tweetar.\n",
            " Saída:  {'PESSOA': ['Edmar José dos Santos', 'Gabriell Carvalho Neves Franco dos Santos'], 'ORGANIZAÇÃO PRIVADA': ['ARC Fontoura Indústria Comércio e Representações', 'A2A Comércio Serviços e Representações', 'MHS Produtos e Serviços', 'ARC Fontoura', 'A2A', 'MHS'], 'INSTITUIÇÃO PÚBLICA': ['TCE-RJ', 'Tribunal de Contas do Estado do Rio de Janeiro', 'TCE-RJ', 'Secretaria Geral de Controle Externo', 'SGE', 'Secretaria Estadual de Saúde do Rio', 'Secretaria Geral de Controle Externo do TCE-RJ', 'TCE-RJ', 'Ministério Público Estadual'], 'LOCAL': ['RJ']})\n",
            "2. Sentença: 09/04/2020 22h32 - Atualizada em 10/04/2020 00h40 Por Jackie Carrera (SECOM) O governador Helder Barbalho (c), ao lado dos secretários Hana Ghassan (e) e Alberto Beltrame, reiterou a lisura nas aquisições de insumos e equipamentos, e na contratação de serviços pelo EstadoEm mais um comunicado oficial para atualizar os dados e ações do Governo do Pará no enfrentamento ao novo Coronavírus, nesta quinta-feira (09), o governador Helder Barbalho destacou a condução ética e transparente nos gastos públicos, sobretudo durante a pandemia de Covid-19. Ao lado dos secretários de Estado de Saúde Pública, Alberto Beltrame, e de Administração e Planejamento, Hana Ghassan, o chefe do Executivo lamentou a disseminação de acusações infundadas, com o objetivo de “macular a imagem e desestabilizar a equipe da Secretaria de Saúde do Estado, que tem feito um trabalho absolutamente adequado e correto”. O governador se referiu às falsas denúncias de fraudes na aquisição de lanches, insumos e EPIs (equipamentos de proteção individual) pelo Estado, espalhadas em aplicativos de mensagens para, reiterou Helder Barbalho, confundir à população. “Uma campanha de redes socais que, lamentavelmente, tem atacado o governo, e isto fundamentalmente vindo de pessoas que não estão preocupadas com o Coronavírus; estão preocupadas em fazer política”, assegurou. Helder Barbalho citou, mais uma vez, a Comissão coordenada pela Auditoria-Geral do Estado (AGE) destinada a monitorar as aquisições, com apoio do Ministério Público Federal (MPF), Ministério Público do Estado (MP-PA), Ministério Público de Contas (MPC) e Tribunal de Contas do Estado (TCE). Ele adiantou que pretende convocar todas as entidades participantes da Comissão para atuação efetiva na pesquisa e cotação de preços e contratações de serviços. Helder Barbalho lamentou as acusações infundadas em redes sociais, que atribuiu a quem pretende apenas confundir à população “Quero, inclusive, a assinatura de todos os participantes, e vou pedir a presença de todos como partícipes efetivos. Não é só pra olhar; é pra participar, para nos ajudar a comprar, a pesquisar preços, no chamamento público, na contratação dos serviços” afirmou o governador. Compras e contratações – Em relação às denúncias de compras superfaturadas, o secretário Alberto Beltrame foi enfático ao garantir que a Secretaria de Estado de Saúde Pública (Sespa) atua com total responsabilidade e seriedade. “Aqui ninguém está tirando proveito de ninguém, do desespero de ninguém, muito menos economicamente. Estamos tranquilos em relação a isso”, assegurou. Alberto Beltrame disse ainda que a sociedade precisa entender o dilema que é encontrar, com preços estáveis, produtos “que começam a faltar no mercado numa situação de guerra”. Segundo ele, uma máscara que antes era adquirida ao preço unitário de R$ 3,00 ou R$ 4,00, agora está sendo comercializada a R$ 10,00 ou R$ 30,00, dependendo da oferta e do prazo de entrega. “Nós queríamos comprar 30 mil máscaras N95. Fizemos um chamamento público, e a mais barata era R$ 15,00, com prazo de entrega para 30 dias. Aí tem uma segunda empresa que te oferece a R$ 25,00 para entrega imediata. Nós temos profissionais na linha de frente se expondo ao risco de contaminação..\n",
            " Saída:  {'PESSOA': ['Helder Barbalho', 'Hana Ghassan', 'Alberto Beltrame', 'Helder Barbalho', 'Alberto Beltrame', 'Hana Ghassan', 'Helder Barbalho', 'Helder Barbalho', 'Helder Barbalho', 'Alberto Beltrame', 'Alberto Beltrame'], 'INSTITUIÇÃO PÚBLICA': ['Governo do Pará', 'Secretaria de Saúde do Estado', 'Auditoria-Geral do Estado', 'AGE', 'Ministério Público Federal', 'MPF', 'Ministério Público do Estado', 'MP-PA', 'Ministério Público de Contas', 'MPC', 'Tribunal de Contas do Estado', 'TCE', 'Secretaria de Estado de Saúde Pública', 'Sespa']})\n",
            "Sentença: O Ministério Público do Estado de Mato Grosso (MPMT), por meio da Força-Tarefa criada para apurar fraudes e desvios de recursos públicos relacionados aos gastos com o enfrentamento da Covid-19, ingressou com ação civil de responsabilidade pela prática de ato de improbidade administrativa contra o prefeito de Rondonópolis, José Carlos Junqueira de Araújo, a secretária municipal de Saúde, Izalba Diva de Albuquerque, outros dois servidores públicos, além dos empresários proprietários das empresas envolvidas no contrato para aquisição de 22 ventiladores pulmonares. Na ação, o MPMT requer, em pedido liminar, a indisponibilidade de bens dos envolvidos no valor R$ 4.136.000,00. A medida visa assegurar o ressarcimento ao erário em razão do dano milionário causado aos cofres públicos. Segundo o coordenador da Força-Tarefa, promotor de Justiça Marcos Brant, durante as investigações foram constatadas várias irregularidades no processo de dispensa de licitação realizado pela Prefeitura Municipal de Rondonópolis. ———— CONTINUA DEPOIS DA PUBLICIDADE ———— Verificou-se também direcionamento e fraudes nos preços fixados, que acarretaram o pagamento superfaturado dos equipamentos contratados. Conforme consta da ação proposta pelos promotores da Força-Tarefa e pelo promotor de Justiça titular da 2ª Promotoria de Justiça Cível de Rondonópolis, o Município não realizou cotação ampla e efetiva de preços e ainda não se preocupou em comprovar a idoneidade da empresa contratada. Nos registros de endereços que supostamente seriam a sede da empresa, na cidade de Palmas (TO), foram encontrados salões e barracões vazios, indicando se tratar de “empresa de fachada”. Durante a investigação iniciada pela 2ª Promotoria de Justiça Cível de Rondonópolis, foi constatado que a empresa contratada, Life Med Comércio de Produtos Hospitalares e Mediamentos Eireli, nominalmente de propriedade de Jesus de Oliveira Vieira de Souza, na realidade pertence ao empresário Ramos de Faria e Silva Filho. Além das irregularidades verificadas no processo de dispensa que antecedeu a contratação, constatou-se que os equipamentos entregues eram diversos daqueles que foram de fato objeto do contrato. Ao invés dos 22 ventiladores pulmonares efetivamente pagos, o Município recebeu Monitores Cardíacos Multiparamétricos. O custo unitário para cada equipamento foi de R$ 188 mil. Um trecho da ação diz: “Em vergonhosa fraude à dispensa de licitação e à nobre justificativa que a legislação federal pretendeu com a Lei 13979/2020, visando agilizar a aquisição de insumos, produtos e medicamentos hospitalares tão necessários para o mais eficiente atendimento à população; em movimento absolutamente contrário e virulentamente afrontoso às prementes necessidades da saúde pública, os requeridos conluiaram-se e desvirtuaram o procedimento legal mais facilitado de compra pública para o cometimento desta infamante fraude ao dinheiro público”. Conforme o resultado da perícia realizada pelo Ministério Público, o objeto da licitação foi descrito com especificações que seriam atendidas somente pela empresa contratada para inviabilizar a competição. Verificou-se ainda que as propostas de preços apresentadas foram elaboradas com o mesmo padrão de apresentação, mesma diagramação, exata descrição de produtos e similaridade na aposição de carimbos, indicando que foram realizadas por uma mesma pessoa, simulando a competitividade. Segundo o MPMT, nenhuma das empresas cotadas possuía tradição e especialidade na comercialização\n",
            "Saída: \n"
          ]
        }
      ]
    },
    {
      "cell_type": "code",
      "source": [
        "content = response[\"choices\"][0][\"message\"][\"content\"]"
      ],
      "metadata": {
        "id": "z1nIrhd0w4RG"
      },
      "execution_count": null,
      "outputs": []
    },
    {
      "cell_type": "code",
      "source": [
        "content = content.replace(\"'\",'\"')"
      ],
      "metadata": {
        "id": "ZA1i6GQY6p4v"
      },
      "execution_count": null,
      "outputs": []
    },
    {
      "cell_type": "code",
      "source": [
        "content = json.loads(content, object_hook=lambda d: defaultdict(int, d))"
      ],
      "metadata": {
        "id": "ATRj67-U6LYz"
      },
      "execution_count": null,
      "outputs": []
    },
    {
      "cell_type": "code",
      "source": [
        "def calc_metrics(resp_list, labels_list):\n",
        "  total_target_entities = 0\n",
        "  for labels in labels_list:\n",
        "    for ent_type, entities in labels.items():\n",
        "      total_target_entities += len(entities)\n",
        "\n",
        "  #Calculates recall\n",
        "  recall = 0\n",
        "  for i, labels in enumerate(labels_list):\n",
        "    for ent_type, entities in labels.items():\n",
        "      for ent in entities:\n",
        "        ent = ent.strip()\n",
        "        if ent in resp_list[i][ent_type]:\n",
        "          recall += 1\n",
        "\n",
        "  recall = recall/total_target_entities\n",
        "\n",
        "  #Calculates precision\n",
        "  total_model_entities = 0\n",
        "  for resp in resp_list:\n",
        "    for ent_type, entities in resp.items():\n",
        "      total_model_entities += len(entities)\n",
        "\n",
        "  precision = 0\n",
        "  for i, resp in enumerate(resp_list):\n",
        "    for ent_type, entities in resp.items():\n",
        "      for ent in entities:\n",
        "        ent = ent.strip()\n",
        "        if ent in labels_list[i][ent_type]:\n",
        "          precision += 1\n",
        "\n",
        "  precision = precision/total_model_entities\n",
        "\n",
        "  f1 = 2 * (precision * recall) / (precision + recall)\n",
        "\n",
        "  return recall, precision, f1\n",
        "  "
      ],
      "metadata": {
        "id": "jTM4FE5Yx-x6"
      },
      "execution_count": null,
      "outputs": []
    },
    {
      "cell_type": "code",
      "source": [
        "resp_list = []\n",
        "labels_list = []\n"
      ],
      "metadata": {
        "id": "H2d6yBYF_HLn"
      },
      "execution_count": null,
      "outputs": []
    },
    {
      "cell_type": "code",
      "source": [
        "start = 161\n",
        "end = 187"
      ],
      "metadata": {
        "id": "Kd-R3oceBnmd"
      },
      "execution_count": 374,
      "outputs": []
    },
    {
      "cell_type": "code",
      "source": [
        "for i, item in enumerate(full_data[start:end]):\n",
        "  text = item[\"text\"]\n",
        "  labels = item[\"labels\"]\n",
        "  final_prompt = guidelines_prompt + text + \"\\nSaída: \"\n",
        "  response = openai_chat_completion_response(final_prompt)\n",
        "  content = response[\"choices\"][0][\"message\"][\"content\"]\n",
        "  content = content.replace(\"'\",'\"')\n",
        "  content = json.loads(content, object_hook=lambda d: defaultdict(list, d))\n",
        "  resp_list.append(content)\n",
        "  labels_list.append(labels)"
      ],
      "metadata": {
        "id": "DZSQhQRH_xu9"
      },
      "execution_count": null,
      "outputs": []
    },
    {
      "cell_type": "code",
      "source": [
        "len(resp_list)"
      ],
      "metadata": {
        "colab": {
          "base_uri": "https://localhost:8080/"
        },
        "id": "S6d4n85-HbOR",
        "outputId": "06886896-2c04-4217-85de-679956e7e328"
      },
      "execution_count": 376,
      "outputs": [
        {
          "output_type": "execute_result",
          "data": {
            "text/plain": [
              "187"
            ]
          },
          "metadata": {},
          "execution_count": 376
        }
      ]
    },
    {
      "cell_type": "code",
      "source": [
        "len(labels_list)"
      ],
      "metadata": {
        "colab": {
          "base_uri": "https://localhost:8080/"
        },
        "id": "PPACZVIGHdXY",
        "outputId": "2c1ee342-0e75-4c38-8cce-ba8c0c1f88d0"
      },
      "execution_count": 377,
      "outputs": [
        {
          "output_type": "execute_result",
          "data": {
            "text/plain": [
              "187"
            ]
          },
          "metadata": {},
          "execution_count": 377
        }
      ]
    },
    {
      "cell_type": "code",
      "source": [
        "recall, precision, f1 = calc_metrics(resp_list, labels_list)\n",
        "print(\"Recall = \", recall)\n",
        "print(\"Precision = \", precision)\n",
        "print(\"F1 = \", f1)"
      ],
      "metadata": {
        "colab": {
          "base_uri": "https://localhost:8080/"
        },
        "id": "bBB05ns6CJSB",
        "outputId": "db3a5c46-be70-4f19-e568-44e62a12b118"
      },
      "execution_count": 378,
      "outputs": [
        {
          "output_type": "stream",
          "name": "stdout",
          "text": [
            "Recall =  0.6067663643049767\n",
            "Precision =  0.7745302713987474\n",
            "F1 =  0.6804605248044154\n"
          ]
        }
      ]
    },
    {
      "cell_type": "markdown",
      "source": [
        "Salva os resultados para evitar chamadas adicionais à API"
      ],
      "metadata": {
        "id": "z7Pwkjd7XTy2"
      }
    },
    {
      "cell_type": "code",
      "source": [
        "main_path"
      ],
      "metadata": {
        "colab": {
          "base_uri": "https://localhost:8080/",
          "height": 35
        },
        "id": "z2H_UbssXyYW",
        "outputId": "57c40d5c-938a-4e42-f613-72133c41452e"
      },
      "execution_count": 380,
      "outputs": [
        {
          "output_type": "execute_result",
          "data": {
            "text/plain": [
              "'/content/gdrive/MyDrive/Unicamp-aula-4'"
            ],
            "application/vnd.google.colaboratory.intrinsic+json": {
              "type": "string"
            }
          },
          "metadata": {},
          "execution_count": 380
        }
      ]
    },
    {
      "cell_type": "code",
      "source": [
        "import pickle\n",
        "\n",
        "with open(f\"{main_path}/resp_list_few_shot.pickle\", 'wb') as f:\n",
        "    pickle.dump(resp_list, f)\n"
      ],
      "metadata": {
        "id": "dy1luBHMFLD-"
      },
      "execution_count": 382,
      "outputs": []
    },
    {
      "cell_type": "markdown",
      "source": [
        "## Few-shot sem instrução no cabeçalho"
      ],
      "metadata": {
        "id": "04Sp80UOYVi8"
      }
    },
    {
      "cell_type": "code",
      "source": [
        "resp_list = []\n",
        "labels_list = []"
      ],
      "metadata": {
        "id": "bFgv9RruZPr4"
      },
      "execution_count": 387,
      "outputs": []
    },
    {
      "cell_type": "code",
      "source": [
        "start = 82\n",
        "end = 187"
      ],
      "metadata": {
        "id": "1NOVcjxDYYm7"
      },
      "execution_count": 409,
      "outputs": []
    },
    {
      "cell_type": "code",
      "source": [
        "for i, item in enumerate(full_data[start:end]):\n",
        "  text = item[\"text\"]\n",
        "  labels = item[\"labels\"]\n",
        "  final_prompt = guidelines_prompt + text + \"\\nSaída: \"\n",
        "  #Sem prompt no cabeçalho\n",
        "  response = openai_chat_completion_response(final_prompt, prompt='')\n",
        "  content = response[\"choices\"][0][\"message\"][\"content\"]\n",
        "  content = content.replace(\"'\",'\"')\n",
        "  content = json.loads(content, object_hook=lambda d: defaultdict(list, d))\n",
        "  resp_list.append(content)\n",
        "  labels_list.append(labels)"
      ],
      "metadata": {
        "id": "EUZLuyuAZA9A"
      },
      "execution_count": null,
      "outputs": []
    },
    {
      "cell_type": "code",
      "source": [
        "len(resp_list)"
      ],
      "metadata": {
        "colab": {
          "base_uri": "https://localhost:8080/"
        },
        "id": "Myb0nZOEZV6V",
        "outputId": "7bbcb6c0-4ca4-4bbe-8eaa-ee890e2aaf8d"
      },
      "execution_count": 411,
      "outputs": [
        {
          "output_type": "execute_result",
          "data": {
            "text/plain": [
              "187"
            ]
          },
          "metadata": {},
          "execution_count": 411
        }
      ]
    },
    {
      "cell_type": "code",
      "source": [
        "len(labels_list)"
      ],
      "metadata": {
        "colab": {
          "base_uri": "https://localhost:8080/"
        },
        "id": "bJzwybr0aBzc",
        "outputId": "32aeb6ae-5ed3-47c8-ec85-c443a44bc8ab"
      },
      "execution_count": 412,
      "outputs": [
        {
          "output_type": "execute_result",
          "data": {
            "text/plain": [
              "187"
            ]
          },
          "metadata": {},
          "execution_count": 412
        }
      ]
    },
    {
      "cell_type": "code",
      "source": [
        "recall, precision, f1 = calc_metrics(resp_list, labels_list)\n",
        "print(\"Recall = \", recall)\n",
        "print(\"Precision = \", precision)\n",
        "print(\"F1 = \", f1)"
      ],
      "metadata": {
        "colab": {
          "base_uri": "https://localhost:8080/"
        },
        "id": "rpJvzSV1aCXW",
        "outputId": "d3dc988b-eb5d-4600-be6b-3de43e00d401"
      },
      "execution_count": 413,
      "outputs": [
        {
          "output_type": "stream",
          "name": "stdout",
          "text": [
            "Recall =  0.5741603334150527\n",
            "Precision =  0.7095980311730927\n",
            "F1 =  0.6347347809487763\n"
          ]
        }
      ]
    },
    {
      "cell_type": "code",
      "source": [
        "with open(f\"{main_path}/resp_list_few_shot_no_inst.pickle\", 'wb') as f:\n",
        "    pickle.dump(resp_list, f)"
      ],
      "metadata": {
        "id": "9hrfIjxaaGmK"
      },
      "execution_count": 414,
      "outputs": []
    },
    {
      "cell_type": "markdown",
      "source": [
        "## Zero-shot learning"
      ],
      "metadata": {
        "id": "UwaZN3aEinsZ"
      }
    },
    {
      "cell_type": "code",
      "source": [
        "resp_list = []\n",
        "labels_list = []"
      ],
      "metadata": {
        "id": "v6Y9BIt1ipxz"
      },
      "execution_count": 415,
      "outputs": []
    },
    {
      "cell_type": "code",
      "source": [
        "start = 0\n",
        "end = 187"
      ],
      "metadata": {
        "id": "W01OE9FjiwNh"
      },
      "execution_count": 416,
      "outputs": []
    },
    {
      "cell_type": "code",
      "source": [
        "response = openai_chat_completion_response(full_data[0][\"text\"])"
      ],
      "metadata": {
        "id": "7Mfs5o6tjm8u"
      },
      "execution_count": 418,
      "outputs": []
    },
    {
      "cell_type": "code",
      "source": [
        "response[\"choices\"][0][\"message\"][\"content\"]"
      ],
      "metadata": {
        "colab": {
          "base_uri": "https://localhost:8080/",
          "height": 188
        },
        "id": "krGS_to_jvPm",
        "outputId": "af89fb4c-cd2a-46c8-b398-72cdcd7a5cf7"
      },
      "execution_count": 422,
      "outputs": [
        {
          "output_type": "execute_result",
          "data": {
            "text/plain": [
              "'Entidades do tipo INSTITUIÇÃO PÚBLICA: Ministério Público do Estado de Mato Grosso (MPMT), Prefeitura Municipal de Rondonópolis. \\n\\nEntidades do tipo PESSOA: José Carlos Junqueira de Araújo (prefeito), Izalba Diva de Albuquerque (secretária municipal de Saúde), outros dois servidores públicos, empresários proprietários das empresas envolvidas no contrato para aquisição de 22 ventiladores pulmonares, Jesus de Oliveira Vieira de Souza (suposto proprietário da empresa Life Med Comércio de Produtos Hospitalares e Medicamentos Eireli), Ramos de Faria e Silva Filho (real proprietário da empresa Life Med Comércio de Produtos Hospitalares e Medicamentos Eireli).\\n\\nEntidades do tipo ORGANIZAÇÃO PRIVADA: empresas envolvidas no contrato para aquisição de 22 ventiladores pulmonares (Life Med Comércio de Produtos Hospitalares e Medicamentos Eireli e outras empresas cotadas na suposta cotação de preços apresentada). \\n\\nEntidades do tipo LOCAL: Não há informações suficientes na matéria para determinar se há entidades do tipo LOCAL envolvidas no caso.'"
            ],
            "application/vnd.google.colaboratory.intrinsic+json": {
              "type": "string"
            }
          },
          "metadata": {},
          "execution_count": 422
        }
      ]
    },
    {
      "cell_type": "code",
      "source": [
        "def process_textual_content(content):\n",
        "  map_ent_type_to_text = dict()\n",
        "\n",
        "  for ent_type in entity_types_map.values():\n",
        "    pattern = f\"Entidades do tipo {ent_type}:\"\n",
        "    index = content.find(pattern)\n",
        "    index += len(pattern)\n",
        "    text = content[index:]\n",
        "    text = text[:text.find(\"\\n\\nEntidades do tipo\")]\n",
        "    map_ent_type_to_text[ent_type] = text\n",
        "\n",
        "  return map_ent_type_to_text\n"
      ],
      "metadata": {
        "id": "WQKN1E4on5uo"
      },
      "execution_count": 425,
      "outputs": []
    },
    {
      "cell_type": "code",
      "source": [
        "process_textual_content(response[\"choices\"][0][\"message\"][\"content\"])"
      ],
      "metadata": {
        "colab": {
          "base_uri": "https://localhost:8080/"
        },
        "id": "4jW4THg2pNwt",
        "outputId": "78f8b2c4-fa91-41bd-81a2-901a96b76c73"
      },
      "execution_count": 426,
      "outputs": [
        {
          "output_type": "execute_result",
          "data": {
            "text/plain": [
              "{'PESSOA': ' José Carlos Junqueira de Araújo (prefeito), Izalba Diva de Albuquerque (secretária municipal de Saúde), outros dois servidores públicos, empresários proprietários das empresas envolvidas no contrato para aquisição de 22 ventiladores pulmonares, Jesus de Oliveira Vieira de Souza (suposto proprietário da empresa Life Med Comércio de Produtos Hospitalares e Medicamentos Eireli), Ramos de Faria e Silva Filho (real proprietário da empresa Life Med Comércio de Produtos Hospitalares e Medicamentos Eireli).',\n",
              " 'LOCAL': ' Não há informações suficientes na matéria para determinar se há entidades do tipo LOCAL envolvidas no caso',\n",
              " 'ORGANIZAÇÃO PRIVADA': ' empresas envolvidas no contrato para aquisição de 22 ventiladores pulmonares (Life Med Comércio de Produtos Hospitalares e Medicamentos Eireli e outras empresas cotadas na suposta cotação de preços apresentada). ',\n",
              " 'INSTITUIÇÃO PÚBLICA': ' Ministério Público do Estado de Mato Grosso (MPMT), Prefeitura Municipal de Rondonópolis. '}"
            ]
          },
          "metadata": {},
          "execution_count": 426
        }
      ]
    },
    {
      "cell_type": "markdown",
      "source": [
        "Conforme pode ser visto pela saída acima, o ChatGPT não somente retorna entidades, como também contextualiza (define o papel de cada uma de acordo com o texto), uma funcionalidade impressionante.  \n",
        "\n",
        "Por outro lado, não é possível medir facilmente a precisão da saída, uma vez que a resposta não aponta precisamente as entidades, deixando alguns nomes que de fato aparecem no texto em meio a expressões como *e outro(a)s...*.  Por esse motivo, aqui só será medida a revocação (recall).  Adicionalmente, será necessário fazer um parsing mínimo da saída para agrupar os textos pot tipo de entidade."
      ],
      "metadata": {
        "id": "iWkRouE7kjCf"
      }
    },
    {
      "cell_type": "code",
      "source": [
        "def calc_recall(resp_list, labels_list):\n",
        "  total_target_entities = 0\n",
        "  for labels in labels_list:\n",
        "    for ent_type, entities in labels.items():\n",
        "      total_target_entities += len(entities)\n",
        "\n",
        "  #Calculates recall\n",
        "  recall = 0\n",
        "  for i, labels in enumerate(labels_list):\n",
        "    for ent_type, entities in labels.items():\n",
        "      for ent in entities:\n",
        "        ent = ent.strip()\n",
        "        if ent in resp_list[i][ent_type]:\n",
        "          #print(ent)\n",
        "          recall += 1\n",
        "\n",
        "  recall = recall/total_target_entities\n",
        "\n",
        "  return recall"
      ],
      "metadata": {
        "id": "hQZxZLEbqA9m"
      },
      "execution_count": 435,
      "outputs": []
    },
    {
      "cell_type": "code",
      "source": [
        "full_data[0][\"labels\"]"
      ],
      "metadata": {
        "colab": {
          "base_uri": "https://localhost:8080/"
        },
        "id": "Yp0ClrDvq6id",
        "outputId": "2e0f0dae-3113-42aa-de47-4a4af7f2c2d1"
      },
      "execution_count": 432,
      "outputs": [
        {
          "output_type": "execute_result",
          "data": {
            "text/plain": [
              "defaultdict(list,\n",
              "            {'PESSOA': ['José Carlos Junqueira de Araújo',\n",
              "              'Izalba Diva de Albuquerque',\n",
              "              'Marcos Brant',\n",
              "              'Jesus de Oliveira Vieira de Souza',\n",
              "              'Ramos de Faria e Silva Filho'],\n",
              "             'ORGANIZAÇÃO PRIVADA': ['Life Med Comércio de Produtos Hospitalares e Mediamentos Eireli'],\n",
              "             'INSTITUIÇÃO PÚBLICA': ['Ministério Público do Estado de Mato Grosso',\n",
              "              'MPMT',\n",
              "              'MPMT',\n",
              "              'Prefeitura Municipal de Rondonópolis',\n",
              "              '2ª Promotoria de Justiça Cível de Rondonópolis',\n",
              "              'Município',\n",
              "              '2ª Promotoria de Justiça Cível de Rondonópolis',\n",
              "              'Município',\n",
              "              'Ministério Público',\n",
              "              'MPMT',\n",
              "              'Justiça'],\n",
              "             'LOCAL': ['Rondonópolis', 'Palmas', 'TO']})"
            ]
          },
          "metadata": {},
          "execution_count": 432
        }
      ]
    },
    {
      "cell_type": "code",
      "source": [
        "calc_recall([process_textual_content(response[\"choices\"][0][\"message\"][\"content\"])], [full_data[0][\"labels\"]])"
      ],
      "metadata": {
        "colab": {
          "base_uri": "https://localhost:8080/"
        },
        "id": "nIfG0iSkqQb6",
        "outputId": "67418f33-bfe7-4c56-89c6-0c14e29aa708"
      },
      "execution_count": 431,
      "outputs": [
        {
          "output_type": "stream",
          "name": "stdout",
          "text": [
            "José Carlos Junqueira de Araújo\n",
            "Izalba Diva de Albuquerque\n",
            "Jesus de Oliveira Vieira de Souza\n",
            "Ramos de Faria e Silva Filho\n",
            "Ministério Público do Estado de Mato Grosso\n",
            "MPMT\n",
            "MPMT\n",
            "Prefeitura Municipal de Rondonópolis\n",
            "Ministério Público\n",
            "MPMT\n"
          ]
        },
        {
          "output_type": "execute_result",
          "data": {
            "text/plain": [
              "0.5"
            ]
          },
          "metadata": {},
          "execution_count": 431
        }
      ]
    },
    {
      "cell_type": "markdown",
      "source": [
        "Ao analisar com mais detalhes as diferenças entre o que foi retornado pelo modelo e o que era esperado, verificamos que a métrica foi em parte impactada por um detalhe surpreendente: a string *Life Med Comércio de Produtos Hospitalares e Mediamentos Eireli*, presente no texto original, contém um erro de ortografia (\"Mediamentos\").  Por outro lado, o ChatGPT retornou tal entidade, porém com a grafia devidamente corrigida para \"Medicamentos\". Por esse motivo, esse acerto não foi computado pelo cálculo simplificado da métrica recall feito acima.  Certamente o mesmo problema de estimativa das métricas para baixo ocorreu pelo mesmo motivo no few-shot learning (com e sem instrução) Portanto, conclui-se que, para medir com mais precisão a saída do modelo, faz-se necessário usar comparações de string mais flexíveis (\"fuzzy\")."
      ],
      "metadata": {
        "id": "yjH5ukFcrZLo"
      }
    },
    {
      "cell_type": "code",
      "source": [
        "for i, item in enumerate(full_data[start:end]):\n",
        "  print(\"Request: \", i)\n",
        "  text = item[\"text\"]\n",
        "  labels = item[\"labels\"]\n",
        "  #Sem guidelines\n",
        "  response = openai_chat_completion_response(text)\n",
        "  content = response[\"choices\"][0][\"message\"][\"content\"]\n",
        "  resp_list.append(process_textual_content(content))\n",
        "  labels_list.append(labels)"
      ],
      "metadata": {
        "id": "kFH70Rnbi4l8"
      },
      "execution_count": null,
      "outputs": []
    },
    {
      "cell_type": "code",
      "source": [
        "len(resp_list)"
      ],
      "metadata": {
        "colab": {
          "base_uri": "https://localhost:8080/"
        },
        "id": "c5Jb12TAwQLn",
        "outputId": "b9ef20c8-d816-4c09-c8f4-ad76fffce3df"
      },
      "execution_count": 437,
      "outputs": [
        {
          "output_type": "execute_result",
          "data": {
            "text/plain": [
              "187"
            ]
          },
          "metadata": {},
          "execution_count": 437
        }
      ]
    },
    {
      "cell_type": "code",
      "source": [
        "len(labels_list)"
      ],
      "metadata": {
        "colab": {
          "base_uri": "https://localhost:8080/"
        },
        "id": "JuPEanidwTjx",
        "outputId": "9f9f3675-c704-4a3c-c25b-ec726fd86143"
      },
      "execution_count": 438,
      "outputs": [
        {
          "output_type": "execute_result",
          "data": {
            "text/plain": [
              "187"
            ]
          },
          "metadata": {},
          "execution_count": 438
        }
      ]
    },
    {
      "cell_type": "code",
      "source": [
        "recall = calc_recall(resp_list, labels_list)\n",
        "print(\"Recall = \", recall)\n"
      ],
      "metadata": {
        "colab": {
          "base_uri": "https://localhost:8080/"
        },
        "id": "FwUuN3w1sls-",
        "outputId": "63d91338-e77f-4c6e-d977-76b7730c982b"
      },
      "execution_count": 436,
      "outputs": [
        {
          "output_type": "stream",
          "name": "stdout",
          "text": [
            "Recall =  0.481000245158127\n"
          ]
        }
      ]
    },
    {
      "cell_type": "markdown",
      "source": [
        "## Conclusões\n",
        "\n",
        "Os resultados seguiram um padrão previsto, de melhorarem com um número de exemplos (few-shot learning), preferencialmente com prompt de instrução.  Quando retiramos o prompt de instrução, notamos uma piora nas métricas, e essa piora (com relação à métrica recall) se torna ainda mais acentuada no modo zero-shot learning.  Em comparacão ao valor de 88% de F1 obtido com finetuning utilizando o mesmod dataset, o melhor valor para F1 obtido aqui foi de 68%, com few-shot learning.\n",
        "\n",
        "Entretanto, vale ressaltar que, apesar da grande diferença numéricas entre as métricas, o modelo tem um comportamento qualitativo superior com relacão a dois pontos:\n",
        "* correção ortográfica de *typos*\n",
        "* explicação de contextualização de cada entidade (modo zero-shot): além de apontar as entidades, o modelo informa o papel de cada uma no contexto dado."
      ],
      "metadata": {
        "id": "L7K8pnG0wvzi"
      }
    },
    {
      "cell_type": "code",
      "source": [],
      "metadata": {
        "id": "Nsfj-qBVxLpA"
      },
      "execution_count": null,
      "outputs": []
    }
  ]
}