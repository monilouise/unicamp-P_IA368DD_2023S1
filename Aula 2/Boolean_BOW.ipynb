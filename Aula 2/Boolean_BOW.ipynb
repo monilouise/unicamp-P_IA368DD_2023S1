{
  "cells": [
    {
      "cell_type": "markdown",
      "metadata": {
        "id": "8qsUlvkdXSvL"
      },
      "source": [
        "# Using boolean search / bag of words to search queries on TREC-DL 2020"
      ]
    },
    {
      "cell_type": "markdown",
      "metadata": {
        "id": "4_UIUXTOX8IJ"
      },
      "source": [
        "## Downloading dataset"
      ]
    },
    {
      "cell_type": "code",
      "execution_count": 1,
      "metadata": {
        "colab": {
          "base_uri": "https://localhost:8080/"
        },
        "id": "YvCaXR-jVs4P",
        "outputId": "451bd5a4-efca-4dc4-b55a-4870e1f487ca"
      },
      "outputs": [
        {
          "output_type": "stream",
          "name": "stdout",
          "text": [
            "Drive already mounted at /content/drive; to attempt to forcibly remount, call drive.mount(\"/content/drive\", force_remount=True).\n"
          ]
        }
      ],
      "source": [
        "from google.colab import drive\n",
        "drive.mount('/content/drive')"
      ]
    },
    {
      "cell_type": "code",
      "execution_count": null,
      "metadata": {
        "id": "ilwu2FwOWwZu"
      },
      "outputs": [],
      "source": [
        "!mkdir collections"
      ]
    },
    {
      "cell_type": "code",
      "execution_count": null,
      "metadata": {
        "id": "DsF8O6e2W5Qe"
      },
      "outputs": [],
      "source": [
        "!mkdir collections/msmarco-passage"
      ]
    },
    {
      "cell_type": "code",
      "execution_count": null,
      "metadata": {
        "colab": {
          "base_uri": "https://localhost:8080/"
        },
        "id": "6MekgLPqW8fV",
        "outputId": "0ddadd74-b602-42e5-b705-93a1a36e37b8"
      },
      "outputs": [
        {
          "name": "stdout",
          "output_type": "stream",
          "text": [
            "--2023-03-04 23:13:15--  https://msmarco.blob.core.windows.net/msmarcoranking/collectionandqueries.tar.gz\n",
            "Resolving msmarco.blob.core.windows.net (msmarco.blob.core.windows.net)... 20.150.34.4\n",
            "Connecting to msmarco.blob.core.windows.net (msmarco.blob.core.windows.net)|20.150.34.4|:443... connected.\n",
            "HTTP request sent, awaiting response... 200 OK\n",
            "Length: 1057717952 (1009M) [application/gzip]\n",
            "Saving to: ‘collections/msmarco-passage/collectionandqueries.tar.gz’\n",
            "\n",
            "collectionandquerie 100%[===================>]   1009M  12.7MB/s    in 2m 56s  \n",
            "\n",
            "2023-03-04 23:16:12 (5.73 MB/s) - ‘collections/msmarco-passage/collectionandqueries.tar.gz’ saved [1057717952/1057717952]\n",
            "\n"
          ]
        }
      ],
      "source": [
        "!wget https://msmarco.blob.core.windows.net/msmarcoranking/collectionandqueries.tar.gz -P collections/msmarco-passage"
      ]
    },
    {
      "cell_type": "code",
      "execution_count": null,
      "metadata": {
        "colab": {
          "base_uri": "https://localhost:8080/"
        },
        "id": "g3oXZQVAW_Nu",
        "outputId": "e718bb59-b19c-4b2d-c4e3-107a036b66bc"
      },
      "outputs": [
        {
          "name": "stdout",
          "output_type": "stream",
          "text": [
            "collection.tsv\n",
            "qrels.dev.small.tsv\n",
            "qrels.train.tsv\n",
            "queries.dev.small.tsv\n",
            "queries.dev.tsv\n",
            "queries.eval.small.tsv\n",
            "queries.eval.tsv\n",
            "queries.train.tsv\n"
          ]
        }
      ],
      "source": [
        "!tar xvfz collections/msmarco-passage/collectionandqueries.tar.gz -C collections/msmarco-passage"
      ]
    },
    {
      "cell_type": "markdown",
      "metadata": {
        "id": "L2hXRQQAX2da"
      },
      "source": [
        "## Preprocessing documents"
      ]
    },
    {
      "cell_type": "code",
      "execution_count": 2,
      "metadata": {
        "id": "HJJOnsb1X4RE"
      },
      "outputs": [],
      "source": [
        "import pandas as pd"
      ]
    },
    {
      "cell_type": "code",
      "execution_count": 3,
      "metadata": {
        "colab": {
          "base_uri": "https://localhost:8080/"
        },
        "id": "OmIY4WQ3YxCU",
        "outputId": "32b37ddb-be40-4a0d-c947-436f1d3f0dd7"
      },
      "outputs": [
        {
          "output_type": "stream",
          "name": "stderr",
          "text": [
            "[nltk_data] Downloading package stopwords to /root/nltk_data...\n",
            "[nltk_data]   Package stopwords is already up-to-date!\n"
          ]
        }
      ],
      "source": [
        "import nltk\n",
        "\n",
        "nltk.download('stopwords')  # Download stopwords if not already downloaded\n",
        "\n",
        "from nltk.corpus import stopwords\n",
        "\n",
        "stop_words = stopwords.words('english')"
      ]
    },
    {
      "cell_type": "code",
      "execution_count": 4,
      "metadata": {
        "colab": {
          "base_uri": "https://localhost:8080/"
        },
        "id": "05qvM4iX5v-j",
        "outputId": "23e533d7-c743-434e-9303-2ee01f67c814"
      },
      "outputs": [
        {
          "output_type": "stream",
          "name": "stdout",
          "text": [
            "Your runtime has 27.3 gigabytes of available RAM\n",
            "\n",
            "You are using a high-RAM runtime!\n"
          ]
        }
      ],
      "source": [
        "from psutil import virtual_memory\n",
        "ram_gb = virtual_memory().total / 1e9\n",
        "print('Your runtime has {:.1f} gigabytes of available RAM\\n'.format(ram_gb))\n",
        "\n",
        "if ram_gb < 20:\n",
        "  print('Not using a high-RAM runtime')\n",
        "else:\n",
        "  print('You are using a high-RAM runtime!')"
      ]
    },
    {
      "cell_type": "code",
      "execution_count": 5,
      "metadata": {
        "id": "Dt9M9OIUZIIN"
      },
      "outputs": [],
      "source": [
        "def tokenize_and_remove_stopwords(text):\n",
        "  tokens = text.split()\n",
        "  tokens = [token.lower() for token in tokens if (token.lower() not in stop_words)]\n",
        "  return tokens"
      ]
    },
    {
      "cell_type": "code",
      "execution_count": 6,
      "metadata": {
        "id": "BvmjTPrux1a5"
      },
      "outputs": [],
      "source": [
        "from collections import defaultdict"
      ]
    },
    {
      "cell_type": "code",
      "execution_count": 11,
      "metadata": {
        "colab": {
          "base_uri": "https://localhost:8080/"
        },
        "id": "0-syX2JJqgl8",
        "outputId": "2783b1a2-c288-4baf-d3ac-4ea16c8103de"
      },
      "outputs": [
        {
          "output_type": "stream",
          "name": "stdout",
          "text": [
            "Processing chunk 0\n",
            "Processing chunk 1000\n",
            "Processing chunk 2000\n",
            "Processing chunk 3000\n",
            "Processing chunk 4000\n",
            "Processing chunk 5000\n",
            "Processing chunk 6000\n",
            "Processing chunk 7000\n",
            "Processing chunk 8000\n"
          ]
        }
      ],
      "source": [
        "#df_collection = pd.read_csv('collections/msmarco-passage/collection.tsv', sep='\\t', header=None)\n",
        "\n",
        "# set the chunk size\n",
        "chunk_size = 1000\n",
        "chunks = []\n",
        "inverted_index = defaultdict(set)\n",
        "full_text = ''\n",
        "\n",
        "def process(row):\n",
        "  tokenized_text = tokenize_and_remove_stopwords(row[1])\n",
        "  doc_id = row[0]\n",
        "  for token in tokenized_text:\n",
        "    inverted_index[token].add(doc_id)\n",
        "\n",
        "def process2(row, full_text):\n",
        "  tokenized_text = tokenize_and_remove_stopwords(row[1])\n",
        "  new_text = ' '.join(tokenized_text)\n",
        "  full_text += new_text\n",
        "  return full_text\n",
        "\n",
        "chunk_id = 0\n",
        "# iterate through the file in chunks\n",
        "for chunk in pd.read_csv('collections/msmarco-passage/collection.tsv', sep='\\t', header=None, chunksize=chunk_size):\n",
        "  # process the chunk here\n",
        "  if (chunk_id % 1000) == 0:\n",
        "    print(f'Processing chunk {chunk_id}')\n",
        "  for index, row in chunk.iterrows():\n",
        "    #full_text = process2(row, full_text)\n",
        "    process(row)\n",
        "  del(chunk)\n",
        "  chunk_id += 1\n",
        "  "
      ]
    },
    {
      "cell_type": "code",
      "execution_count": 12,
      "metadata": {
        "id": "6CGjif4UBsM4",
        "colab": {
          "base_uri": "https://localhost:8080/"
        },
        "outputId": "5bc22427-a7f8-4367-81a0-efccf2cba8fc"
      },
      "outputs": [
        {
          "output_type": "execute_result",
          "data": {
            "text/plain": [
              "6706455"
            ]
          },
          "metadata": {},
          "execution_count": 12
        }
      ],
      "source": [
        "len(inverted_index)"
      ]
    },
    {
      "cell_type": "code",
      "source": [
        "import pickle\n",
        "\n",
        "with open('inverted_index.pkl', 'wb') as f:\n",
        "    pickle.dump(inverted_index, f)"
      ],
      "metadata": {
        "id": "zf_3pkEReV3v"
      },
      "execution_count": 13,
      "outputs": []
    },
    {
      "cell_type": "code",
      "source": [
        "#Antes da criação da matriz abaixo, 16GB de RAM estavam sendo ocupados\n",
        "import sys\n",
        "\n",
        "object_size = sys.getsizeof(inverted_index)\n",
        "print(object_size/1000000) #335MB"
      ],
      "metadata": {
        "colab": {
          "base_uri": "https://localhost:8080/"
        },
        "id": "xI3aAv9CepgG",
        "outputId": "29ed9b0b-2b09-4f53-bcb3-c1fc55a12d0e"
      },
      "execution_count": 27,
      "outputs": [
        {
          "output_type": "stream",
          "name": "stdout",
          "text": [
            "335.544416\n"
          ]
        }
      ]
    },
    {
      "cell_type": "code",
      "source": [
        "#import numpy as np\n",
        "\n",
        "#inverted_index_matrix = np.zeros((len(inverted_index), 8_841_823), dtype=bool)"
      ],
      "metadata": {
        "id": "Jz4ET-g4gS8h"
      },
      "execution_count": 25,
      "outputs": []
    },
    {
      "cell_type": "code",
      "source": [
        "#object_size = sys.getsizeof(inverted_index_matrix)\n",
        "#print(object_size/1_000_000_000) #335MB"
      ],
      "metadata": {
        "id": "3n2t1N1_hRDT"
      },
      "execution_count": 26,
      "outputs": []
    },
    {
      "cell_type": "code",
      "source": [],
      "metadata": {
        "id": "99wRH4dGhw3j"
      },
      "execution_count": null,
      "outputs": []
    }
  ],
  "metadata": {
    "colab": {
      "machine_shape": "hm",
      "provenance": []
    },
    "gpuClass": "standard",
    "kernelspec": {
      "display_name": "Python 3",
      "name": "python3"
    },
    "language_info": {
      "name": "python"
    }
  },
  "nbformat": 4,
  "nbformat_minor": 0
}